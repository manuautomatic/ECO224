{
 "cells": [
  {
   "cell_type": "code",
   "execution_count": null,
   "id": "c0697a08",
   "metadata": {},
   "outputs": [],
   "source": [
    "## loading the data\n",
    "Penn <- as.data.frame(read.table(\"../data/penn_jae.dat\", header=T ))\n",
    "n <- dim(Penn)[1]\n",
    "p_1 <- dim(Penn)[2]\n",
    "Penn<- subset(Penn, tg== 4| tg==0)\n",
    "attach(Penn)\n"
   ]
  },
  {
   "cell_type": "code",
   "execution_count": null,
   "id": "0ded4a87",
   "metadata": {},
   "outputs": [],
   "source": [
    "T4<- (tg==4)\n",
    "summary(T4)\n",
    "T4"
   ]
  },
  {
   "cell_type": "code",
   "execution_count": null,
   "id": "78986f53",
   "metadata": {},
   "outputs": [],
   "source": [
    "head(Penn)"
   ]
  }
 ],
 "metadata": {
  "kernelspec": {
   "display_name": "R",
   "language": "R",
   "name": "ir"
  }
 },
 "nbformat": 4,
 "nbformat_minor": 5
}
