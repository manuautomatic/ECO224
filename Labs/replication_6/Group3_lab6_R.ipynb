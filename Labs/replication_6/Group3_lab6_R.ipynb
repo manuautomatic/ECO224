{
 "cells": [
  {
   "cell_type": "code",
   "execution_count": 7,
   "id": "9448f283",
   "metadata": {
    "scrolled": false
   },
   "outputs": [
    {
     "name": "stdout",
     "output_type": "stream",
     "text": [
      "\n",
      "  There is a binary version available but the source version is later:\n",
      "    binary source needs_compilation\n",
      "grf  1.2.0  2.0.2              TRUE\n",
      "\n",
      "  Binaries will be installed\n"
     ]
    },
    {
     "name": "stderr",
     "output_type": "stream",
     "text": [
      "Warning message:\n",
      "\"package 'grf' is in use and will not be installed\""
     ]
    },
    {
     "name": "stdout",
     "output_type": "stream",
     "text": [
      "\n",
      "  There is a binary version available but the source version is later:\n",
      "      binary source needs_compilation\n",
      "Hmisc  4.5-0  4.6-0              TRUE\n",
      "\n",
      "  Binaries will be installed\n"
     ]
    },
    {
     "name": "stderr",
     "output_type": "stream",
     "text": [
      "Warning message:\n",
      "\"package 'Hmisc' is in use and will not be installed\""
     ]
    }
   ],
   "source": [
    "# 1° Step: How the tree was built?\n",
    "set.seed(1)\n",
    "\n",
    "rm(list = ls())\n",
    "install.packages(\"grf\")\n",
    "install.packages(\"Hmisc\")"
   ]
  },
  {
   "cell_type": "code",
   "execution_count": 8,
   "id": "7f54fafa",
   "metadata": {},
   "outputs": [],
   "source": [
    "library(grf)\n",
    "if(packageVersion(\"grf\") < '0.10.2') {\n",
    "  warning(\"This script requires grf 0.10.2 or higher\")}\n",
    "library(sandwich)\n",
    "library(lmtest)\n",
    "library(Hmisc)\n",
    "library(ggplot2)"
   ]
  },
  {
   "cell_type": "code",
   "execution_count": 9,
   "id": "128f9189",
   "metadata": {},
   "outputs": [],
   "source": [
    "\n",
    "data.all = read.csv(\"synthetic_data.csv\")\n",
    "data.all$schoolid = factor(data.all$schoolid)"
   ]
  },
  {
   "cell_type": "code",
   "execution_count": 10,
   "id": "fa94e1de",
   "metadata": {},
   "outputs": [],
   "source": [
    "DF = data.all[,-1]\n",
    "school.id = as.numeric(data.all$schoolid)\n",
    "\n",
    "school.mat = model.matrix(~ schoolid + 0, data = data.all)\n",
    "school.size = colSums(school.mat)"
   ]
  },
  {
   "cell_type": "code",
   "execution_count": 11,
   "id": "1d48dacb",
   "metadata": {},
   "outputs": [
    {
     "data": {
      "text/plain": [
       "\n",
       "Call:\n",
       "glm(formula = Z ~ ., family = binomial, data = data.all[, -3])\n",
       "\n",
       "Deviance Residuals: \n",
       "    Min       1Q   Median       3Q      Max  \n",
       "-1.2079  -0.9088  -0.8297   1.4176   1.9556  \n",
       "\n",
       "Coefficients: (6 not defined because of singularities)\n",
       "              Estimate Std. Error z value Pr(>|z|)    \n",
       "(Intercept) -0.9524636  0.2845173  -3.348 0.000815 ***\n",
       "schoolid2    0.0697302  0.2766287   0.252 0.800986    \n",
       "schoolid3    0.0382080  0.2911323   0.131 0.895586    \n",
       "schoolid4    0.1761334  0.2784711   0.633 0.527059    \n",
       "schoolid5   -0.0033389  0.2950180  -0.011 0.990970    \n",
       "schoolid6    0.0583548  0.3067481   0.190 0.849124    \n",
       "schoolid7   -0.1313759  0.3188190  -0.412 0.680288    \n",
       "schoolid8    0.1233661  0.3023736   0.408 0.683279    \n",
       "schoolid9   -0.1955428  0.3073344  -0.636 0.524611    \n",
       "schoolid10  -0.1892794  0.2968750  -0.638 0.523752    \n",
       "schoolid11  -0.2224060  0.5461005  -0.407 0.683816    \n",
       "schoolid12  -0.3312420  0.5414374  -0.612 0.540682    \n",
       "schoolid13  -0.0408540  0.3989507  -0.102 0.918436    \n",
       "schoolid14  -0.8681934  0.6033674  -1.439 0.150175    \n",
       "schoolid15  -0.1059135  0.3263162  -0.325 0.745504    \n",
       "schoolid16  -0.1063268  0.2885387  -0.369 0.712500    \n",
       "schoolid17   0.0854323  0.3119435   0.274 0.784184    \n",
       "schoolid18  -0.1924441  0.2997822  -0.642 0.520908    \n",
       "schoolid19  -0.0265326  0.3229712  -0.082 0.934526    \n",
       "schoolid20  -0.2179554  0.3041336  -0.717 0.473594    \n",
       "schoolid21  -0.2147440  0.2982822  -0.720 0.471565    \n",
       "schoolid22  -0.5115966  0.4410779  -1.160 0.246098    \n",
       "schoolid23   0.0039231  0.3475373   0.011 0.990994    \n",
       "schoolid24  -0.0848314  0.3259572  -0.260 0.794668    \n",
       "schoolid25   0.0521087  0.2754586   0.189 0.849959    \n",
       "schoolid26   0.0241212  0.2876511   0.084 0.933171    \n",
       "schoolid27  -0.2300630  0.3104796  -0.741 0.458698    \n",
       "schoolid28  -0.3519010  0.2924774  -1.203 0.228909    \n",
       "schoolid29  -0.2198764  0.3293288  -0.668 0.504357    \n",
       "schoolid30  -0.3146292  0.3257994  -0.966 0.334187    \n",
       "schoolid31   0.1398555  0.6137901   0.228 0.819759    \n",
       "schoolid32   0.1555524  0.3916156   0.397 0.691215    \n",
       "schoolid33  -0.0991693  0.3939370  -0.252 0.801243    \n",
       "schoolid34  -0.0073688  0.2980808  -0.025 0.980278    \n",
       "schoolid35  -0.3528987  0.3997273  -0.883 0.377318    \n",
       "schoolid36  -0.3751465  0.3988972  -0.940 0.346982    \n",
       "schoolid37  -0.0343169  0.3219646  -0.107 0.915117    \n",
       "schoolid38  -0.1346432  0.3851869  -0.350 0.726674    \n",
       "schoolid39  -0.4339936  0.3612869  -1.201 0.229657    \n",
       "schoolid40  -0.3993958  0.3834495  -1.042 0.297604    \n",
       "schoolid41  -0.1490784  0.3542105  -0.421 0.673846    \n",
       "schoolid42  -0.1545715  0.3551857  -0.435 0.663428    \n",
       "schoolid43  -0.5679567  0.4277455  -1.328 0.184247    \n",
       "schoolid44  -0.1425896  0.3774795  -0.378 0.705623    \n",
       "schoolid45  -0.1337888  0.3232493  -0.414 0.678957    \n",
       "schoolid46  -0.2573249  0.3129119  -0.822 0.410874    \n",
       "schoolid47   0.0027726  0.2770108   0.010 0.992014    \n",
       "schoolid48  -0.3406079  0.3470361  -0.981 0.326358    \n",
       "schoolid49  -0.3236117  0.3434541  -0.942 0.346077    \n",
       "schoolid50  -0.1185119  0.4086074  -0.290 0.771787    \n",
       "schoolid51   0.4087898  0.4506822   0.907 0.364382    \n",
       "schoolid52  -0.3144014  0.4118342  -0.763 0.445214    \n",
       "schoolid53  -0.2733677  0.4511280  -0.606 0.544538    \n",
       "schoolid54  -0.0889588  0.3872532  -0.230 0.818311    \n",
       "schoolid55  -0.1558106  0.4155020  -0.375 0.707665    \n",
       "schoolid56   0.1050353  0.3149235   0.334 0.738737    \n",
       "schoolid57  -0.0314901  0.2901719  -0.109 0.913581    \n",
       "schoolid58  -0.0383183  0.2730077  -0.140 0.888379    \n",
       "schoolid59  -0.0529637  0.2934895  -0.180 0.856790    \n",
       "schoolid60  -0.1624792  0.3972885  -0.409 0.682561    \n",
       "schoolid61  -0.0289549  0.3201953  -0.090 0.927946    \n",
       "schoolid62   0.0993158  0.2669678   0.372 0.709882    \n",
       "schoolid63   0.1684702  0.3282167   0.513 0.607749    \n",
       "schoolid64  -0.0693060  0.2770896  -0.250 0.802493    \n",
       "schoolid65  -0.0004197  0.4072922  -0.001 0.999178    \n",
       "schoolid66  -0.2130911  0.2984091  -0.714 0.475171    \n",
       "schoolid67   0.0358440  0.2921158   0.123 0.902341    \n",
       "schoolid68  -0.0871303  0.3290814  -0.265 0.791188    \n",
       "schoolid69  -0.2550387  0.2908992  -0.877 0.380636    \n",
       "schoolid70  -0.0268947  0.4032160  -0.067 0.946820    \n",
       "schoolid71   0.0037464  0.4268290   0.009 0.992997    \n",
       "schoolid72  -0.1304085  0.2881512  -0.453 0.650859    \n",
       "schoolid73  -0.2160697  0.2840030  -0.761 0.446776    \n",
       "schoolid74  -0.0935320  0.2842612  -0.329 0.742129    \n",
       "schoolid75  -0.1056241  0.3024204  -0.349 0.726892    \n",
       "schoolid76  -0.1052261  0.2939262  -0.358 0.720342    \n",
       "S3           0.1036077  0.0197345   5.250 1.52e-07 ***\n",
       "C1          -0.0015919  0.0053900  -0.295 0.767728    \n",
       "C2          -0.1038596  0.0424020  -2.449 0.014309 *  \n",
       "C3          -0.1319218  0.0461833  -2.856 0.004284 ** \n",
       "XC                  NA         NA      NA       NA    \n",
       "X1                  NA         NA      NA       NA    \n",
       "X2                  NA         NA      NA       NA    \n",
       "X3                  NA         NA      NA       NA    \n",
       "X4                  NA         NA      NA       NA    \n",
       "X5                  NA         NA      NA       NA    \n",
       "---\n",
       "Signif. codes:  0 '***' 0.001 '**' 0.01 '*' 0.05 '.' 0.1 ' ' 1\n",
       "\n",
       "(Dispersion parameter for binomial family taken to be 1)\n",
       "\n",
       "    Null deviance: 13115  on 10390  degrees of freedom\n",
       "Residual deviance: 13009  on 10311  degrees of freedom\n",
       "AIC: 13169\n",
       "\n",
       "Number of Fisher Scoring iterations: 4\n"
      ]
     },
     "metadata": {},
     "output_type": "display_data"
    }
   ],
   "source": [
    "# It appears that school ID does not affect pscore. So ignore it\n",
    "# in modeling, and just treat it as source of per-cluster error.\n",
    "w.lm = glm(Z ~ ., data = data.all[,-3], family = binomial)\n",
    "summary(w.lm)"
   ]
  },
  {
   "cell_type": "code",
   "execution_count": 12,
   "id": "a79ec65e",
   "metadata": {},
   "outputs": [],
   "source": [
    "W = DF$Z\n",
    "Y = DF$Y\n",
    "X.raw = DF[,-(1:2)]"
   ]
  },
  {
   "cell_type": "code",
   "execution_count": 13,
   "id": "dd56f2ec",
   "metadata": {},
   "outputs": [],
   "source": [
    "C1.exp = model.matrix(~ factor(X.raw$C1) + 0)\n",
    "XC.exp = model.matrix(~ factor(X.raw$XC) + 0)\n",
    "\n",
    "X = cbind(X.raw[,-which(names(X.raw) %in% c(\"C1\", \"XC\"))], C1.exp, XC.exp)"
   ]
  },
  {
   "cell_type": "code",
   "execution_count": 14,
   "id": "3ca356a0",
   "metadata": {},
   "outputs": [],
   "source": [
    "# Grow a forest. Add extra trees for the causal forest.\n",
    "Y.forest = regression_forest(X, Y, clusters = school.id, equalize.cluster.weights = TRUE)\n",
    "Y.hat = predict(Y.forest)$predictions\n",
    "W.forest = regression_forest(X, W, clusters = school.id, equalize.cluster.weights = TRUE)\n",
    "W.hat = predict(W.forest)$predictions\n",
    "# The endogenous variable Y is being used (which means according to the Readme ....),\n",
    "# the X (the covariates ...) and the W (the dummy variable that represents the treatment)"
   ]
  },
  {
   "cell_type": "code",
   "execution_count": 15,
   "id": "af50deed",
   "metadata": {},
   "outputs": [],
   "source": [
    "cf.raw = causal_forest(X, Y, W,\n",
    "                       Y.hat = Y.hat, W.hat = W.hat,\n",
    "                       clusters = school.id,\n",
    "                       equalize.cluster.weights = TRUE)\n",
    "varimp = variable_importance(cf.raw)\n",
    "selected.idx = which(varimp > mean(varimp))"
   ]
  },
  {
   "cell_type": "code",
   "execution_count": 16,
   "id": "1095df86",
   "metadata": {},
   "outputs": [],
   "source": [
    "cf = causal_forest(X[,selected.idx], Y, W,\n",
    "                   Y.hat = Y.hat, W.hat = W.hat,\n",
    "                   clusters = school.id,\n",
    "                   equalize.cluster.weights = TRUE,\n",
    "                   tune.parameters = \"all\")\n",
    "tau.hat = predict(cf)$predictions\n",
    "# We have built the tree with a machine learning algorithm known as decision tree \n",
    "# learning to be able to identify an optimal strategy,\n",
    "# so we can divide the observed individuals into groups to estimate \n",
    "# the heterogeneous effects of the treatment."
   ]
  },
  {
   "cell_type": "code",
   "execution_count": 17,
   "id": "33d459a1",
   "metadata": {},
   "outputs": [
    {
     "data": {
      "text/html": [
       "'95% CI for the ATE: 0.247 +/- 0.04'"
      ],
      "text/latex": [
       "'95\\% CI for the ATE: 0.247 +/- 0.04'"
      ],
      "text/markdown": [
       "'95% CI for the ATE: 0.247 +/- 0.04'"
      ],
      "text/plain": [
       "[1] \"95% CI for the ATE: 0.247 +/- 0.04\""
      ]
     },
     "metadata": {},
     "output_type": "display_data"
    }
   ],
   "source": [
    "# 2° Step: Estimate ATE\n",
    "ATE = average_treatment_effect(cf)\n",
    "paste(\"95% CI for the ATE:\", round(ATE[1], 3),\n",
    "      \"+/-\", round(qnorm(0.975) * ATE[2], 3))\n",
    "# The average treatment effect (ATE) that is 0.247\n",
    "# Has a confidence interval between 0.0210 and 0.286 (+/-0.04) with a 95/% confidence.\n",
    "# ATE is found through the mean of the distribution of the heterogeneous\n",
    "# effects distributions that we have found,\n",
    "# from the sample we have constructed various subgroups, \n",
    "# and in each subgroup there is a conditional average treatment effect in each subgroup."
   ]
  },
  {
   "cell_type": "code",
   "execution_count": 18,
   "id": "d16b380e",
   "metadata": {},
   "outputs": [
    {
     "data": {
      "text/plain": [
       "\n",
       "Best linear fit using forest predictions (on held-out data)\n",
       "as well as the mean forest prediction as regressors, along\n",
       "with one-sided heteroskedasticity-robust (HC3) SEs:\n",
       "\n",
       "                               Estimate Std. Error t value Pr(>t)    \n",
       "mean.forest.prediction         0.999850   0.082656 12.0966 <2e-16 ***\n",
       "differential.forest.prediction 0.133496   0.609307  0.2191 0.4133    \n",
       "---\n",
       "Signif. codes:  0 '***' 0.001 '**' 0.01 '*' 0.05 '.' 0.1 ' ' 1\n"
      ]
     },
     "metadata": {},
     "output_type": "display_data"
    }
   ],
   "source": [
    "# 3° Step: Run best linear predictor analysis\n",
    "test_calibration(cf)\n"
   ]
  },
  {
   "cell_type": "code",
   "execution_count": 19,
   "id": "40d6aeb8",
   "metadata": {},
   "outputs": [
    {
     "data": {
      "text/html": [
       "'95% CI for difference in ATE: 0.038 +/- 0.073'"
      ],
      "text/latex": [
       "'95\\% CI for difference in ATE: 0.038 +/- 0.073'"
      ],
      "text/markdown": [
       "'95% CI for difference in ATE: 0.038 +/- 0.073'"
      ],
      "text/plain": [
       "[1] \"95% CI for difference in ATE: 0.038 +/- 0.073\""
      ]
     },
     "metadata": {},
     "output_type": "display_data"
    }
   ],
   "source": [
    "high_effect = tau.hat > median(tau.hat)\n",
    "ate.high = average_treatment_effect(cf, subset = high_effect)\n",
    "ate.low = average_treatment_effect(cf, subset = !high_effect)\n",
    "paste(\"95% CI for difference in ATE:\",\n",
    "      round(ate.high[1] - ate.low[1], 3), \"+/-\",\n",
    "      round(qnorm(0.975) * sqrt(ate.high[2]^2 + ate.low[2]^2), 3))"
   ]
  },
  {
   "cell_type": "code",
   "execution_count": 20,
   "id": "0c1049f7",
   "metadata": {},
   "outputs": [],
   "source": [
    "# formal test for X1 and X2\n",
    "dr.score = tau.hat + W / cf$W.hat *\n",
    "  (Y - cf$Y.hat - (1 - cf$W.hat) * tau.hat) -\n",
    "  (1 - W) / (1 - cf$W.hat) * (Y - cf$Y.hat + cf$W.hat * tau.hat)\n",
    "school.score = t(school.mat) %*% dr.score / school.size"
   ]
  },
  {
   "cell_type": "code",
   "execution_count": 21,
   "id": "e9f79fbf",
   "metadata": {},
   "outputs": [
    {
     "data": {
      "text/plain": [
       "\n",
       "\tWelch Two Sample t-test\n",
       "\n",
       "data:  school.score[high.X1] and school.score[!high.X1]\n",
       "t = -3.0771, df = 72.115, p-value = 0.002954\n",
       "alternative hypothesis: true difference in means is not equal to 0\n",
       "95 percent confidence interval:\n",
       " -0.19481944 -0.04163829\n",
       "sample estimates:\n",
       "mean of x mean of y \n",
       "0.1882867 0.3065156 \n"
      ]
     },
     "metadata": {},
     "output_type": "display_data"
    }
   ],
   "source": [
    "school.X1 = t(school.mat) %*% X$X1 / school.size\n",
    "high.X1 = school.X1 > median(school.X1)\n",
    "t.test(school.score[high.X1], school.score[!high.X1])"
   ]
  },
  {
   "cell_type": "code",
   "execution_count": 22,
   "id": "deeb0e19",
   "metadata": {},
   "outputs": [
    {
     "data": {
      "text/plain": [
       "\n",
       "\tWelch Two Sample t-test\n",
       "\n",
       "data:  school.score[high.X2] and school.score[!high.X2]\n",
       "t = 1.0768, df = 71.819, p-value = 0.2852\n",
       "alternative hypothesis: true difference in means is not equal to 0\n",
       "95 percent confidence interval:\n",
       " -0.03711945  0.12431855\n",
       "sample estimates:\n",
       "mean of x mean of y \n",
       "0.2692009 0.2256014 \n"
      ]
     },
     "metadata": {},
     "output_type": "display_data"
    }
   ],
   "source": [
    "school.X2 = (t(school.mat) %*% X$X2) / school.size\n",
    "high.X2 = school.X2 > median(school.X2)\n",
    "t.test(school.score[high.X2], school.score[!high.X2])"
   ]
  },
  {
   "cell_type": "code",
   "execution_count": 23,
   "id": "d9ef67b9",
   "metadata": {},
   "outputs": [
    {
     "data": {
      "text/plain": [
       "                 Df Sum Sq Mean Sq F value Pr(>F)\n",
       "school.X2.levels  2 0.0884 0.04421   1.433  0.245\n",
       "Residuals        73 2.2528 0.03086               "
      ]
     },
     "metadata": {},
     "output_type": "display_data"
    }
   ],
   "source": [
    "school.X2.levels = cut(school.X2,\n",
    "  breaks = c(-Inf, quantile(school.X2, c(1/3, 2/3)), Inf))\n",
    "summary(aov(school.score ~ school.X2.levels))\n"
   ]
  },
  {
   "cell_type": "code",
   "execution_count": 48,
   "id": "10973b46",
   "metadata": {},
   "outputs": [
    {
     "data": {
      "text/plain": [
       "\n",
       "\tOne Sample t-test\n",
       "\n",
       "data:  school.score.XS3.high - school.score.XS3.low\n",
       "t = 2.2462, df = 75, p-value = 0.02763\n",
       "alternative hypothesis: true mean is not equal to 0\n",
       "95 percent confidence interval:\n",
       " 0.009652542 0.160978331\n",
       "sample estimates:\n",
       " mean of x \n",
       "0.08531544 \n"
      ]
     },
     "metadata": {},
     "output_type": "display_data"
    },
    {
     "data": {
      "image/png": "[encoded data removed]",
      "text/plain": [
       "plot without title"
      ]
     },
     "metadata": {},
     "output_type": "display_data"
    }
   ],
   "source": [
    "# formal test for S3\n",
    "school.score.XS3.high = t(school.mat) %*% (dr.score * (X$S3 >= 6)) /\n",
    "  t(school.mat) %*% (X$S3 >= 6)\n",
    "school.score.XS3.low = t(school.mat) %*% (dr.score * (X$S3 < 6)) /\n",
    "  t(school.mat) %*% (X$S3 < 6)\n",
    "\n",
    "plot(school.score.XS3.low, school.score.XS3.high)\n",
    "t.test(school.score.XS3.high - school.score.XS3.low)\n"
   ]
  },
  {
   "cell_type": "code",
   "execution_count": 49,
   "id": "e34babda",
   "metadata": {},
   "outputs": [
    {
     "data": {
      "text/html": [
       "<strong>pdf:</strong> 3"
      ],
      "text/latex": [
       "\\textbf{pdf:} 3"
      ],
      "text/markdown": [
       "**pdf:** 3"
      ],
      "text/plain": [
       "pdf \n",
       "  3 "
      ]
     },
     "metadata": {},
     "output_type": "display_data"
    },
    {
     "data": {
      "image/png": "[encoded data removed]",
      "text/plain": [
       "Plot with title \"\""
      ]
     },
     "metadata": {},
     "output_type": "display_data"
    }
   ],
   "source": [
    "# 4° Step: Look at school-wise heterogeneity\n",
    "\n",
    "pardef = par(mar = c(5, 4, 4, 2) + 0.5, cex.lab=1.5, cex.axis=1.5, cex.main=1.5, cex.sub=1.5)\n",
    "hist(school.score, xlab = \"School Treatment Effect Estimate\", main = \"\")\n",
    "dev.off()\n",
    "# distribution graph is the distribution of the heterogeneous effects that we have found"
   ]
  },
  {
   "cell_type": "code",
   "execution_count": 50,
   "id": "35f2360e",
   "metadata": {},
   "outputs": [
    {
     "name": "stdout",
     "output_type": "stream",
     "text": [
      "[1] \"0.247 +/- 0.04\"\n"
     ]
    }
   ],
   "source": [
    "# Re-check ATE... sanity check only\n",
    "ate.hat = mean(school.score)\n",
    "se.hat = sqrt(var(school.score) / length(school.score - 1))\n",
    "print(paste(round(ate.hat, 3), \"+/-\", round(1.96 * se.hat, 3)))"
   ]
  },
  {
   "cell_type": "code",
   "execution_count": 51,
   "id": "7257516b",
   "metadata": {},
   "outputs": [
    {
     "data": {
      "text/html": [
       "<strong>png:</strong> 2"
      ],
      "text/latex": [
       "\\textbf{png:} 2"
      ],
      "text/markdown": [
       "**png:** 2"
      ],
      "text/plain": [
       "png \n",
       "  2 "
      ]
     },
     "metadata": {},
     "output_type": "display_data"
    }
   ],
   "source": [
    "# Look at variation in propensity scores\n",
    "DF = X\n",
    "DF$W.hat = cf$W.hat\n",
    "\n",
    "pdf(\"pscore.pdf\")\n",
    "pardef = par(mar = c(5, 4, 4, 2) + 0.5, cex.lab=1.5, cex.axis=1.5, cex.main=1.5, cex.sub=1.5)\n",
    "boxplot(W.hat ~ S3, data = DF, ylab = \"Propensity Score\", xlab = \"Student Expectation of Success\")\n",
    "lines(smooth.spline(X$S3, cf$W.hat), lwd = 2, col = 4)\n",
    "dev.off()"
   ]
  },
  {
   "cell_type": "code",
   "execution_count": 52,
   "id": "b1cf331b",
   "metadata": {},
   "outputs": [
    {
     "data": {
      "text/html": [
       "'95% CI for the ATE: 0.253 +/- 0.022'"
      ],
      "text/latex": [
       "'95\\% CI for the ATE: 0.253 +/- 0.022'"
      ],
      "text/markdown": [
       "'95% CI for the ATE: 0.253 +/- 0.022'"
      ],
      "text/plain": [
       "[1] \"95% CI for the ATE: 0.253 +/- 0.022\""
      ]
     },
     "metadata": {},
     "output_type": "display_data"
    }
   ],
   "source": [
    "# 5° Step: Analysis ignoring clusters. How do the results change?\n",
    "cf.noclust = causal_forest(X[,selected.idx], Y, W,\n",
    "                           Y.hat = Y.hat, W.hat = W.hat,\n",
    "                           tune.parameters = \"all\")\n",
    "\n",
    "ATE.noclust = average_treatment_effect(cf.noclust)\n",
    "paste(\"95% CI for the ATE:\", round(ATE.noclust[1], 3),\n",
    "      \"+/-\", round(qnorm(0.975) * ATE.noclust[2], 3))"
   ]
  },
  {
   "cell_type": "code",
   "execution_count": 53,
   "id": "3cbaa3f3",
   "metadata": {},
   "outputs": [
    {
     "data": {
      "text/plain": [
       "\n",
       "Best linear fit using forest predictions (on held-out data)\n",
       "as well as the mean forest prediction as regressors, along\n",
       "with one-sided heteroskedasticity-robust (HC3) SEs:\n",
       "\n",
       "                               Estimate Std. Error t value    Pr(>t)    \n",
       "mean.forest.prediction         1.009199   0.045041 22.4062 < 2.2e-16 ***\n",
       "differential.forest.prediction 0.503301   0.122801  4.0985 2.095e-05 ***\n",
       "---\n",
       "Signif. codes:  0 '***' 0.001 '**' 0.01 '*' 0.05 '.' 0.1 ' ' 1\n"
      ]
     },
     "metadata": {},
     "output_type": "display_data"
    },
    {
     "data": {
      "image/png": "[encoded data removed]",
      "text/plain": [
       "plot without title"
      ]
     },
     "metadata": {},
     "output_type": "display_data"
    }
   ],
   "source": [
    "test_calibration(cf.noclust)\n",
    "\n",
    "tau.hat.noclust = predict(cf.noclust)$predict\n",
    "plot(school.id, tau.hat.noclust)"
   ]
  },
  {
   "cell_type": "code",
   "execution_count": 60,
   "id": "805641c2",
   "metadata": {},
   "outputs": [
    {
     "name": "stdout",
     "output_type": "stream",
     "text": [
      "[1] 1\n",
      "[1] 2\n",
      "[1] 3\n",
      "[1] 4\n",
      "[1] 5\n"
     ]
    },
    {
     "data": {
      "text/plain": [
       "\n",
       "Best linear fit using forest predictions (on held-out data)\n",
       "as well as the mean forest prediction as regressors, along\n",
       "with one-sided heteroskedasticity-robust (HC3) SEs:\n",
       "\n",
       "                               Estimate Std. Error t value Pr(>t)    \n",
       "mean.forest.prediction         0.985665   0.065229 15.1107 <2e-16 ***\n",
       "differential.forest.prediction 0.209269   0.223759  0.9352 0.1748    \n",
       "---\n",
       "Signif. codes:  0 '***' 0.001 '**' 0.01 '*' 0.05 '.' 0.1 ' ' 1\n"
      ]
     },
     "metadata": {},
     "output_type": "display_data"
    }
   ],
   "source": [
    "nfold = 5\n",
    "school.levels = unique(school.id)\n",
    "cluster.folds = sample.int(nfold, length(school.levels), replace = TRUE)\n",
    "\n",
    "tau.hat.crossfold = rep(NA, length(Y))\n",
    "for (foldid in 1:nfold) {\n",
    "  print(foldid)\n",
    "  infold = school.id %in% school.levels[cluster.folds == foldid]\n",
    "  cf.fold = causal_forest(X[!infold, selected.idx], Y[!infold], W[!infold],\n",
    "                          Y.hat = Y.hat[!infold], W.hat = W.hat[!infold],\n",
    "                          tune.parameters = \"all\")\n",
    "  pred.fold = predict(cf.fold, X[infold, selected.idx])$predictions\n",
    "  tau.hat.crossfold[infold] = pred.fold\n",
    "}\n",
    "\n",
    "cf.noclust.cpy = cf.noclust\n",
    "cf.noclust.cpy$predictions = tau.hat.crossfold\n",
    "cf.noclust.cpy$clusters = school.id\n",
    "test_calibration(cf.noclust.cpy)"
   ]
  },
  {
   "cell_type": "code",
   "execution_count": 62,
   "id": "77e28f84",
   "metadata": {},
   "outputs": [
    {
     "name": "stdout",
     "output_type": "stream",
     "text": [
      "\n",
      "  There is a binary version available but the source version is later:\n",
      "         binary source needs_compilation\n",
      "survival 3.2-11 3.2-13              TRUE\n",
      "\n",
      "  Binaries will be installed\n"
     ]
    },
    {
     "name": "stderr",
     "output_type": "stream",
     "text": [
      "Warning message:\n",
      "\"package 'survival' is in use and will not be installed\""
     ]
    },
    {
     "name": "stdout",
     "output_type": "stream",
     "text": [
      "\n",
      "  There is a binary version available but the source version is later:\n",
      "         binary  source needs_compilation\n",
      "lattice 0.20-44 0.20-45              TRUE\n",
      "\n",
      "  Binaries will be installed\n"
     ]
    },
    {
     "name": "stderr",
     "output_type": "stream",
     "text": [
      "Warning message:\n",
      "\"package 'lattice' is in use and will not be installed\"also installing the dependencies 'isoband', 'rlang'\n",
      "\n"
     ]
    },
    {
     "name": "stdout",
     "output_type": "stream",
     "text": [
      "\n",
      "  There are binary versions available but the source versions are later:\n",
      "        binary source needs_compilation\n",
      "isoband  0.2.4  0.2.5              TRUE\n",
      "rlang   0.4.11 0.4.12              TRUE\n",
      "ggplot2  3.3.3  3.3.5             FALSE\n",
      "\n",
      "  Binaries will be installed\n",
      "package 'isoband' successfully unpacked and MD5 sums checked\n",
      "package 'rlang' successfully unpacked and MD5 sums checked\n"
     ]
    },
    {
     "name": "stderr",
     "output_type": "stream",
     "text": [
      "Warning message:\n",
      "\"cannot remove prior installation of package 'rlang'\"Warning message in file.copy(savedcopy, lib, recursive = TRUE):\n",
      "\"problema al copiar C:\\Users\\CARLOS\\anaconda3\\envs\\renv\\Lib\\R\\library\\00LOCK\\rlang\\libs\\x64\\rlang.dll  a C:\\Users\\CARLOS\\anaconda3\\envs\\renv\\Lib\\R\\library\\rlang\\libs\\x64\\rlang.dll: Permission denied\"Warning message:\n",
      "\"restored 'rlang'\""
     ]
    },
    {
     "name": "stdout",
     "output_type": "stream",
     "text": [
      "\n",
      "The downloaded binary packages are in\n",
      "\tC:\\Users\\CARLOS\\AppData\\Local\\Temp\\RtmpOwDsxX\\downloaded_packages\n"
     ]
    },
    {
     "name": "stderr",
     "output_type": "stream",
     "text": [
      "installing the source package 'ggplot2'\n",
      "\n",
      "Warning message in install.packages(\"ggplot2\"):\n",
      "\"installation of package 'ggplot2' had non-zero exit status\""
     ]
    },
    {
     "name": "stdout",
     "output_type": "stream",
     "text": [
      "\n",
      "  There is a binary version available but the source version is later:\n",
      "      binary source needs_compilation\n",
      "Hmisc  4.5-0  4.6-0              TRUE\n",
      "\n",
      "  Binaries will be installed\n"
     ]
    },
    {
     "name": "stderr",
     "output_type": "stream",
     "text": [
      "Warning message:\n",
      "\"package 'Hmisc' is in use and will not be installed\""
     ]
    },
    {
     "data": {
      "text/html": [
       "<ol class=list-inline>\n",
       "\t<li>-2.78967237388184e-05</li>\n",
       "\t<li>0.000498497967571621</li>\n",
       "</ol>\n"
      ],
      "text/latex": [
       "\\begin{enumerate*}\n",
       "\\item -2.78967237388184e-05\n",
       "\\item 0.000498497967571621\n",
       "\\end{enumerate*}\n"
      ],
      "text/markdown": [
       "1. -2.78967237388184e-05\n",
       "2. 0.000498497967571621\n",
       "\n",
       "\n"
      ],
      "text/plain": [
       "[1] -2.789672e-05  4.984980e-04"
      ]
     },
     "metadata": {},
     "output_type": "display_data"
    }
   ],
   "source": [
    "install.packages(\"survival\")\n",
    "install.packages(\"lattice\")\n",
    "install.packages(\"ggplot2\")\n",
    "install.packages(\"Hmisc\")\n",
    "\n",
    "Rloss = mean(((Y - Y.hat) - tau.hat * (W - W.hat))^2)\n",
    "Rloss.noclust = mean(((Y - Y.hat) - tau.hat.noclust * (W - W.hat))^2)\n",
    "Rloss.crossfold = mean(((Y - Y.hat) - tau.hat.crossfold * (W - W.hat))^2)\n",
    "\n",
    "c(Rloss.noclust - Rloss, Rloss.crossfold - Rloss)"
   ]
  },
  {
   "cell_type": "code",
   "execution_count": 56,
   "id": "992a4f9d",
   "metadata": {},
   "outputs": [
    {
     "data": {
      "text/plain": [
       "                     Df Sum Sq Mean Sq F value   Pr(>F)    \n",
       "factor(school.id)    75    204   2.719   1.999 7.31e-07 ***\n",
       "Residuals         10315  14026   1.360                     \n",
       "---\n",
       "Signif. codes:  0 '***' 0.001 '**' 0.01 '*' 0.05 '.' 0.1 ' ' 1"
      ]
     },
     "metadata": {},
     "output_type": "display_data"
    }
   ],
   "source": [
    "summary(aov(dr.score ~ factor(school.id)))"
   ]
  },
  {
   "cell_type": "code",
   "execution_count": 63,
   "id": "c0880c8b",
   "metadata": {},
   "outputs": [
    {
     "data": {
      "text/html": [
       "'95% CI for the ATE: 0.255 +/- 0.04'"
      ],
      "text/latex": [
       "'95\\% CI for the ATE: 0.255 +/- 0.04'"
      ],
      "text/markdown": [
       "'95% CI for the ATE: 0.255 +/- 0.04'"
      ],
      "text/plain": [
       "[1] \"95% CI for the ATE: 0.255 +/- 0.04\""
      ]
     },
     "metadata": {},
     "output_type": "display_data"
    }
   ],
   "source": [
    "# 6° Step: Analysis without fitting the propensity score\n",
    "cf.noprop = causal_forest(X[,selected.idx], Y, W,\n",
    "                          Y.hat = Y.hat, W.hat = mean(W),\n",
    "                          tune.parameters = \"all\",\n",
    "                          equalize.cluster.weights = TRUE,\n",
    "                          clusters = school.id)\n",
    "tau.hat.noprop = predict(cf.noprop)$predictions\n",
    "\n",
    "ATE.noprop = average_treatment_effect(cf.noprop)\n",
    "paste(\"95% CI for the ATE:\", round(ATE.noprop[1], 3),\n",
    "      \"+/-\", round(qnorm(0.975) * ATE.noprop[2], 3))"
   ]
  },
  {
   "cell_type": "code",
   "execution_count": 64,
   "id": "0b6afb03",
   "metadata": {},
   "outputs": [],
   "source": [
    "pdf(\"tauhat_noprop.pdf\")\n",
    "pardef = par(mar = c(5, 4, 4, 2) + 0.5, cex.lab=1.5, cex.axis=1.5, cex.main=1.5, cex.sub=1.5)\n",
    "plot(tau.hat, tau.hat.noprop,\n",
    "     xlim = range(tau.hat, tau.hat.noprop),\n",
    "     ylim = range(tau.hat, tau.hat.noprop),\n",
    "     xlab = \"orthogonalized causal forest estimates\",\n",
    "     ylab = \"non-orthogonalized causal forest\")\n",
    "abline(0, 1, lwd = 2, lty = 2, col = 4)\n",
    "par = pardef"
   ]
  },
  {
   "cell_type": "code",
   "execution_count": 36,
   "id": "12314f64",
   "metadata": {},
   "outputs": [
    {
     "data": {
      "text/plain": [
       "\n",
       "Best linear fit using forest predictions (on held-out data)\n",
       "as well as the mean forest prediction as regressors, along\n",
       "with one-sided heteroskedasticity-robust (HC3) SEs:\n",
       "\n",
       "                               Estimate Std. Error t value Pr(>t)    \n",
       "mean.forest.prediction         0.996046   0.082429 12.0837 <2e-16 ***\n",
       "differential.forest.prediction 0.735856   0.647994  1.1356 0.1299    \n",
       "---\n",
       "Signif. codes:  0 '***' 0.001 '**' 0.01 '*' 0.05 '.' 0.1 ' ' 1\n"
      ]
     },
     "metadata": {},
     "output_type": "display_data"
    }
   ],
   "source": [
    "# Train forest on school-wise DR scores\n",
    "school.X = (t(school.mat) %*% as.matrix(X[,c(4:8, 25:28)])) / school.size\n",
    "school.X = data.frame(school.X)\n",
    "colnames(school.X) = c(\"X1\", \"X2\", \"X3\", \"X4\", \"X5\",\n",
    "                    \"XC.1\", \"XC.2\", \"XC.3\", \"XC.4\")\n",
    "\n",
    "dr.score = tau.hat + W / cf$W.hat * (Y - cf$Y.hat - (1 - cf$W.hat) * tau.hat) -\n",
    "  (1 - W) / (1 - cf$W.hat) * (Y - cf$Y.hat + cf$W.hat * tau.hat)\n",
    "school.score = t(school.mat) %*% dr.score / school.size\n",
    "\n",
    "school.forest = regression_forest(school.X, school.score)\n",
    "school.pred = predict(school.forest)$predictions\n",
    "test_calibration(school.forest)"
   ]
  },
  {
   "cell_type": "code",
   "execution_count": 65,
   "id": "c3c1d65e",
   "metadata": {},
   "outputs": [
    {
     "data": {
      "text/plain": [
       "\n",
       "t test of coefficients:\n",
       "\n",
       "              Estimate Std. Error t value Pr(>|t|)   \n",
       "(Intercept)  0.2462869  0.0754265  3.2653 0.001736 **\n",
       "X1          -0.0503416  0.0293343 -1.7161 0.090828 . \n",
       "X2           0.0160023  0.0337751  0.4738 0.637213   \n",
       "X3           0.0107538  0.0266021  0.4042 0.687340   \n",
       "X4           0.0241594  0.0256098  0.9434 0.348935   \n",
       "X5          -0.0355428  0.0266988 -1.3313 0.187686   \n",
       "XC.1        -0.0052089  0.0914657 -0.0569 0.954758   \n",
       "XC.2         0.0797300  0.1036885  0.7689 0.444673   \n",
       "XC.3        -0.1397294  0.0858393 -1.6278 0.108332   \n",
       "XC.4         0.0381012  0.0811036  0.4698 0.640058   \n",
       "---\n",
       "Signif. codes:  0 '***' 0.001 '**' 0.01 '*' 0.05 '.' 0.1 ' ' 1\n"
      ]
     },
     "metadata": {},
     "output_type": "display_data"
    }
   ],
   "source": [
    "# Alternative OLS analysis\n",
    "school.DF = data.frame(school.X, school.score=school.score)\n",
    "coeftest(lm(school.score ~ ., data = school.DF), vcov = vcovHC)"
   ]
  },
  {
   "cell_type": "code",
   "execution_count": 72,
   "id": "65fce710",
   "metadata": {},
   "outputs": [
    {
     "data": {
      "text/html": [
       "<strong>png:</strong> 2"
      ],
      "text/latex": [
       "\\textbf{png:} 2"
      ],
      "text/markdown": [
       "**png:** 2"
      ],
      "text/plain": [
       "png \n",
       "  2 "
      ]
     },
     "metadata": {},
     "output_type": "display_data"
    }
   ],
   "source": [
    "# 7° Step: Six plots and their explanation\n",
    "pdf(\"tauhat_hist.pdf\")\n",
    "pardef = par(mar = c(5, 4, 4, 2) + 0.5, cex.lab=1.5, cex.axis=1.5, cex.main=1.5, cex.sub=1.5)\n",
    "hist(tau.hat, xlab = \"estimated CATE\", main = \"\")\n",
    "dev.off()"
   ]
  },
  {
   "cell_type": "code",
   "execution_count": 75,
   "id": "664edfe8",
   "metadata": {},
   "outputs": [
    {
     "data": {
      "text/html": [
       "<strong>png:</strong> 2"
      ],
      "text/latex": [
       "\\textbf{png:} 2"
      ],
      "text/markdown": [
       "**png:** 2"
      ],
      "text/plain": [
       "png \n",
       "  2 "
      ]
     },
     "metadata": {},
     "output_type": "display_data"
    }
   ],
   "source": [
    "pdf(\"tauhat_hist_noprop.pdf\")\n",
    "pardef = par(mar = c(5, 4, 4, 2) + 0.5, cex.lab=1.5, cex.axis=1.5, cex.main=1.5, cex.sub=1.5)\n",
    "hist(tau.hat.noprop, xlab = \"estimated CATE\", main = \"\")\n",
    "dev.off()"
   ]
  },
  {
   "cell_type": "code",
   "execution_count": 76,
   "id": "8c51e151",
   "metadata": {},
   "outputs": [
    {
     "ename": "ERROR",
     "evalue": "Error in hist.default(tau.hat.noclust, xlab = \"estimated CATE\", main = \"\", : some 'x' not counted; maybe 'breaks' do not span range of 'x'\n",
     "output_type": "error",
     "traceback": [
      "Error in hist.default(tau.hat.noclust, xlab = \"estimated CATE\", main = \"\", : some 'x' not counted; maybe 'breaks' do not span range of 'x'\nTraceback:\n",
      "1. hist(tau.hat.noclust, xlab = \"estimated CATE\", main = \"\", breaks = seq(-0, \n .     0.55, by = 0.55/25))",
      "2. hist.default(tau.hat.noclust, xlab = \"estimated CATE\", main = \"\", \n .     breaks = seq(-0, 0.55, by = 0.55/25))",
      "3. stop(\"some 'x' not counted; maybe 'breaks' do not span range of 'x'\")"
     ]
    }
   ],
   "source": [
    "pdf(\"tauhat_hist_noclust.pdf\")\n",
    "pardef = par(mar = c(5, 4, 4, 2) + 0.5, cex.lab=1.5, cex.axis=1.5, cex.main=1.5, cex.sub=1.5)\n",
    "hist(tau.hat.noclust, xlab = \"estimated CATE\", main = \"\",\n",
    "     breaks = seq(-0.0, 0.55, by = 0.55 / 25))\n",
    "dev.off()"
   ]
  },
  {
   "cell_type": "code",
   "execution_count": 77,
   "id": "d18001bf",
   "metadata": {},
   "outputs": [],
   "source": [
    "pdf(\"tauhat_vs_X1.pdf\")\n",
    "pardef = par(mar = c(5, 4, 4, 2) + 0.5, cex.lab=1.5, cex.axis=1.5, cex.main=1.5, cex.sub=1.5)\n",
    "boxplot(tau.hat ~ round(X$X1), xlab = \"X1\", ylab = \"estimated CATE\")\n",
    "lines(smooth.spline(4 + X[,\"X1\"], tau.hat, df = 4), lwd = 2, col = 4)"
   ]
  },
  {
   "cell_type": "code",
   "execution_count": 78,
   "id": "c2cae162",
   "metadata": {},
   "outputs": [],
   "source": [
    "pdf(\"tauhat_vs_X2.pdf\")\n",
    "pardef = par(mar = c(5, 4, 4, 2) + 0.5, cex.lab=1.5, cex.axis=1.5, cex.main=1.5, cex.sub=1.5)\n",
    "boxplot(tau.hat ~ round(X$X2), xlab = \"X2\", ylab = \"estimated CATE\")\n",
    "lines(smooth.spline(4 + X[,\"X2\"], tau.hat, df = 4), lwd = 2, col = 4)"
   ]
  },
  {
   "cell_type": "code",
   "execution_count": 79,
   "id": "6c18edd5",
   "metadata": {},
   "outputs": [],
   "source": [
    "school.avg.tauhat = t(school.mat) %*% tau.hat / school.size"
   ]
  },
  {
   "cell_type": "code",
   "execution_count": 80,
   "id": "5ff88d0f",
   "metadata": {},
   "outputs": [],
   "source": [
    "pdf(\"school_avg.pdf\")\n",
    "pardef = par(mar = c(5, 4, 4, 2) + 0.5, cex.lab=1.5, cex.axis=1.5, cex.main=1.5, cex.sub=1.5)\n",
    "plot(school.avg.tauhat, school.pred, cex = 1.5,\n",
    "     xlim = range(school.avg.tauhat, school.pred),\n",
    "     ylim = range(school.avg.tauhat, school.pred),\n",
    "     xlab = \"average CATE estimate in school\",\n",
    "     ylab = \"school-wise forest predictions\")\n",
    "abline(0, 1, lwd = 2, lty = 2, col = 4)\n",
    "par = pardef"
   ]
  },
  {
   "cell_type": "code",
   "execution_count": 81,
   "id": "258982c3",
   "metadata": {},
   "outputs": [
    {
     "data": {
      "text/html": [
       "'95% CI for the ATE: 0.099 +/- 0.149'"
      ],
      "text/latex": [
       "'95\\% CI for the ATE: 0.099 +/- 0.149'"
      ],
      "text/markdown": [
       "'95% CI for the ATE: 0.099 +/- 0.149'"
      ],
      "text/plain": [
       "[1] \"95% CI for the ATE: 0.099 +/- 0.149\""
      ]
     },
     "metadata": {},
     "output_type": "display_data"
    },
    {
     "data": {
      "text/html": [
       "'95% CI for the ATE: 0.194 +/- 0.136'"
      ],
      "text/latex": [
       "'95\\% CI for the ATE: 0.194 +/- 0.136'"
      ],
      "text/markdown": [
       "'95% CI for the ATE: 0.194 +/- 0.136'"
      ],
      "text/plain": [
       "[1] \"95% CI for the ATE: 0.194 +/- 0.136\""
      ]
     },
     "metadata": {},
     "output_type": "display_data"
    }
   ],
   "source": [
    "# Experiment with no orthogonalization\n",
    "n.synth = 1000\n",
    "p.synth = 10\n",
    "X.synth = matrix(rnorm(n.synth * p.synth), n.synth, p.synth)\n",
    "W.synth = rbinom(n.synth, 1, 1 / (1 + exp(-X.synth[,1])))\n",
    "Y.synth = 2 * rowMeans(X.synth[,1:6]) + rnorm(n.synth)\n",
    "\n",
    "Y.forest.synth = regression_forest(X.synth, Y.synth)\n",
    "Y.hat.synth = predict(Y.forest.synth)$predictions\n",
    "W.forest.synth = regression_forest(X.synth, W.synth)\n",
    "W.hat.synth = predict(W.forest.synth)$predictions\n",
    "\n",
    "cf.synth = causal_forest(X.synth, Y.synth, W.synth,\n",
    "                         Y.hat = Y.hat.synth, W.hat = W.hat.synth)\n",
    "ATE.synth = average_treatment_effect(cf.synth)\n",
    "paste(\"95% CI for the ATE:\", round(ATE.synth[1], 3),\n",
    "      \"+/-\", round(qnorm(0.975) * ATE.synth[2], 3))\n",
    "\n",
    "cf.synth.noprop = causal_forest(X.synth, Y.synth, W.synth,\n",
    "                                Y.hat = Y.hat.synth, W.hat = mean(W.synth))\n",
    "ATE.synth.noprop = average_treatment_effect(cf.synth.noprop)\n",
    "paste(\"95% CI for the ATE:\", round(ATE.synth.noprop[1], 3),\n",
    "      \"+/-\", round(qnorm(0.975) * ATE.synth.noprop[2], 3))"
   ]
  },
  {
   "cell_type": "code",
   "execution_count": 82,
   "id": "8f18b37d",
   "metadata": {},
   "outputs": [
    {
     "data": {
      "image/png": "[encoded data removed]",
      "text/plain": [
       "plot without title"
      ]
     },
     "metadata": {},
     "output_type": "display_data"
    }
   ],
   "source": [
    "#Step 8: Visualize school-level covariates by treatment heterogeneity\n",
    "school.X.std = scale(school.X)\n",
    "school.tercile = cut(school.pred,\n",
    "                     breaks = c(-Inf, quantile(school.pred, c(1/3, 2/3)), Inf))\n",
    "school.tercile.mat = model.matrix(~ school.tercile + 0)\n",
    "school.means = diag(1 / colSums(school.tercile.mat)) %*% t(school.tercile.mat) %*% as.matrix(school.X.std)\n",
    "\n",
    "MM = max(abs(school.means))\n",
    "HC = heat.colors(21)\n",
    "school.col = apply(school.means, 1:2, function(aa) HC[1 + round(20 * (0.5 + aa))])\n",
    "\n",
    "DF.plot = data.frame(tercile=rep(factor(1:3, labels=c(\"low\", \"mid\", \"high\")), 9), mean=as.numeric(school.means),\n",
    "                     feature = factor(rbind(colnames(school.X), colnames(school.X), colnames(school.X))))\n",
    "\n",
    "ggplot(data = DF.plot, aes(x = feature, y = tercile, fill = mean)) +\n",
    "    geom_tile() + scale_fill_gradient(low = \"white\", high = \"steelblue\") +\n",
    "    theme(axis.text = element_text(size=12), axis.title = element_text(size=14),\n",
    "          legend.title = element_text(size=14), legend.text = element_text(size=12)) +\n",
    "    theme(panel.background = element_blank())\n",
    "ggsave(\"tercile_plot.pdf\", width = 8, height = 4.5, dpi = 120)"
   ]
  },
  {
   "cell_type": "code",
   "execution_count": 83,
   "id": "e29e8111",
   "metadata": {},
   "outputs": [
    {
     "data": {
      "text/html": [
       "0.210526315789474"
      ],
      "text/latex": [
       "0.210526315789474"
      ],
      "text/markdown": [
       "0.210526315789474"
      ],
      "text/plain": [
       "[1] 0.2105263"
      ]
     },
     "metadata": {},
     "output_type": "display_data"
    },
    {
     "data": {
      "text/html": [
       "0.538461538461538"
      ],
      "text/latex": [
       "0.538461538461538"
      ],
      "text/markdown": [
       "0.538461538461538"
      ],
      "text/plain": [
       "[1] 0.5384615"
      ]
     },
     "metadata": {},
     "output_type": "display_data"
    }
   ],
   "source": [
    "mean(school.X$XC.3)\n",
    "mean(school.X$XC.3[as.numeric(school.tercile) == 1])\n"
   ]
  },
  {
   "cell_type": "code",
   "execution_count": 84,
   "id": "89f19a27",
   "metadata": {},
   "outputs": [
    {
     "data": {
      "text/html": [
       "<strong>png:</strong> 2"
      ],
      "text/latex": [
       "\\textbf{png:} 2"
      ],
      "text/markdown": [
       "**png:** 2"
      ],
      "text/plain": [
       "png \n",
       "  2 "
      ]
     },
     "metadata": {},
     "output_type": "display_data"
    }
   ],
   "source": [
    "# 9° Step: CATE by school\n",
    "ord = order(order(school.pred))\n",
    "school.sort = ord[school.id]\n",
    "\n",
    "pdf(\"school_boxplot.pdf\")\n",
    "pardef = par(mar = c(5, 4, 4, 2) + 0.5, cex.lab=1.5, cex.axis=1.5, cex.main=1.5, cex.sub=1.5)\n",
    "boxplot(tau.hat.noclust ~ school.sort, xaxt = \"n\",\n",
    "        xlab = \"school\", ylab = \"estimated CATE\")\n",
    "points(1:76, sort(school.pred), col = 4, pch = 16)\n",
    "legend(\"topleft\", c(\"school mean CATE\", \"CATE w/o clustering\"), pch = c(16, 1), col = c(4, 1), cex = 1.5)\n",
    "par = pardef\n",
    "dev.off()"
   ]
  },
  {
   "cell_type": "code",
   "execution_count": 72,
   "id": "fa28bb13",
   "metadata": {},
   "outputs": [],
   "source": [
    "## pregunta 2 DML"
   ]
  },
  {
   "cell_type": "markdown",
   "id": "95bc0867",
   "metadata": {
    "papermill": {
     "duration": 0.016442,
     "end_time": "2021-02-13T17:30:13.246048",
     "exception": false,
     "start_time": "2021-02-13T17:30:13.229606",
     "status": "completed"
    },
    "tags": []
   },
   "source": [
    "# Testing the Convergence Hypothesis"
   ]
  },
  {
   "cell_type": "markdown",
   "id": "9c79bcf9",
   "metadata": {
    "papermill": {
     "duration": 0.020943,
     "end_time": "2021-01-20T08:46:44.375077",
     "exception": false,
     "start_time": "2021-01-20T08:46:44.354134",
     "status": "completed"
    },
    "tags": []
   },
   "source": [
    "## Introduction"
   ]
  },
  {
   "cell_type": "markdown",
   "id": "7c171bb0",
   "metadata": {
    "papermill": {
     "duration": 0.020999,
     "end_time": "2021-01-20T08:46:44.417216",
     "exception": false,
     "start_time": "2021-01-20T08:46:44.396217",
     "status": "completed"
    },
    "tags": []
   },
   "source": [
    "We provide an additional empirical example of partialling-out with Lasso to estimate the regression coefficient $\\beta_1$ in the high-dimensional linear regression model:\n",
    "  $$\n",
    "  Y = \\beta_1 D +  \\beta_2'Z + \\epsilon.\n",
    "  $$\n",
    "  \n",
    "Specifically, we are interested in how the rates  at which economies of different countries grow ($Y$) are related to the initial wealth levels in each country ($D$) controlling for country's institutional, educational, and other similar characteristics ($Z$).\n",
    "  \n",
    "The relationship is captured by $\\beta_1$, the *speed of convergence/divergence*, which measures the speed at which poor countries catch up $(\\beta_1< 0)$ or fall behind $(\\beta_1> 0)$ rich countries, after controlling for $Z$. Our inference question here is: do poor countries grow faster than rich countries, controlling for educational and other characteristics? In other words, is the speed of convergence negative: $ \\beta_1 <0?$ This is the Convergence Hypothesis predicted by the Solow Growth Model. This is a structural economic model. Under some strong assumptions, that we won't state here, the predictive exercise we are doing here can be given causal interpretation.\n"
   ]
  },
  {
   "cell_type": "markdown",
   "id": "3ff8925d",
   "metadata": {
    "papermill": {
     "duration": 0.021587,
     "end_time": "2021-01-20T08:46:44.459779",
     "exception": false,
     "start_time": "2021-01-20T08:46:44.438192",
     "status": "completed"
    },
    "tags": []
   },
   "source": [
    "The outcome $Y$ is the realized annual growth rate of a country's wealth  (Gross Domestic Product per capita). The target regressor ($D$) is the initial level of the country's wealth. The target parameter $\\beta_1$ is the speed of convergence, which measures the speed at which poor countries catch up with rich countries. The controls ($Z$) include measures of education levels, quality of institutions, trade openness, and political stability in the country."
   ]
  },
  {
   "cell_type": "markdown",
   "id": "4268d8bb",
   "metadata": {
    "papermill": {
     "duration": 0.016649,
     "end_time": "2021-02-13T17:30:13.315270",
     "exception": false,
     "start_time": "2021-02-13T17:30:13.298621",
     "status": "completed"
    },
    "tags": []
   },
   "source": [
    "## Data"
   ]
  },
  {
   "cell_type": "markdown",
   "id": "177fb058",
   "metadata": {
    "papermill": {
     "duration": 0.021269,
     "end_time": "2021-01-20T08:46:44.545701",
     "exception": false,
     "start_time": "2021-01-20T08:46:44.524432",
     "status": "completed"
    },
    "tags": []
   },
   "source": [
    "We consider the data set GrowthData which is included in the package *hdm*. First, let us load the data set to get familiar with the data."
   ]
  },
  {
   "cell_type": "code",
   "execution_count": 27,
   "id": "fb94b365",
   "metadata": {},
   "outputs": [],
   "source": [
    "library(hdm)\n",
    "library(xtable)"
   ]
  },
  {
   "cell_type": "code",
   "execution_count": 28,
   "id": "070f0b17",
   "metadata": {},
   "outputs": [
    {
     "name": "stderr",
     "output_type": "stream",
     "text": [
      "The following objects are masked from data (pos = 8):\n",
      "\n",
      "    bmp1l, ex1, fert1, fert65, freeop, freetar, gde1, gdpsh465,\n",
      "    geerec1, geetot1, govsh41, govwb1, gpop1, gvxdxe41, h65, hf65,\n",
      "    high65, highc65, highcf65, highcm65, highf65, highm65, hm65,\n",
      "    human65, humanf65, humanm65, hyr65, hyrf65, hyrm65, im1, intercept,\n",
      "    invsh41, lifee065, mort1, mort65, no65, nof65, nom65, Outcome, p65,\n",
      "    pf65, pinstab1, pm65, pop1565, pop65, pop6565, s65, sec65, secc65,\n",
      "    seccf65, seccm65, secf65, secm65, sf65, sm65, syr65, syrf65,\n",
      "    syrm65, teapri65, teasec65, tot1, worker65, xr65\n",
      "\n"
     ]
    },
    {
     "data": {
      "text/html": [
       "<ol class=list-inline>\n",
       "\t<li>'Outcome'</li>\n",
       "\t<li>'intercept'</li>\n",
       "\t<li>'gdpsh465'</li>\n",
       "\t<li>'bmp1l'</li>\n",
       "\t<li>'freeop'</li>\n",
       "\t<li>'freetar'</li>\n",
       "\t<li>'h65'</li>\n",
       "\t<li>'hm65'</li>\n",
       "\t<li>'hf65'</li>\n",
       "\t<li>'p65'</li>\n",
       "\t<li>'pm65'</li>\n",
       "\t<li>'pf65'</li>\n",
       "\t<li>'s65'</li>\n",
       "\t<li>'sm65'</li>\n",
       "\t<li>'sf65'</li>\n",
       "\t<li>'fert65'</li>\n",
       "\t<li>'mort65'</li>\n",
       "\t<li>'lifee065'</li>\n",
       "\t<li>'gpop1'</li>\n",
       "\t<li>'fert1'</li>\n",
       "\t<li>'mort1'</li>\n",
       "\t<li>'invsh41'</li>\n",
       "\t<li>'geetot1'</li>\n",
       "\t<li>'geerec1'</li>\n",
       "\t<li>'gde1'</li>\n",
       "\t<li>'govwb1'</li>\n",
       "\t<li>'govsh41'</li>\n",
       "\t<li>'gvxdxe41'</li>\n",
       "\t<li>'high65'</li>\n",
       "\t<li>'highm65'</li>\n",
       "\t<li>'highf65'</li>\n",
       "\t<li>'highc65'</li>\n",
       "\t<li>'highcm65'</li>\n",
       "\t<li>'highcf65'</li>\n",
       "\t<li>'human65'</li>\n",
       "\t<li>'humanm65'</li>\n",
       "\t<li>'humanf65'</li>\n",
       "\t<li>'hyr65'</li>\n",
       "\t<li>'hyrm65'</li>\n",
       "\t<li>'hyrf65'</li>\n",
       "\t<li>'no65'</li>\n",
       "\t<li>'nom65'</li>\n",
       "\t<li>'nof65'</li>\n",
       "\t<li>'pinstab1'</li>\n",
       "\t<li>'pop65'</li>\n",
       "\t<li>'worker65'</li>\n",
       "\t<li>'pop1565'</li>\n",
       "\t<li>'pop6565'</li>\n",
       "\t<li>'sec65'</li>\n",
       "\t<li>'secm65'</li>\n",
       "\t<li>'secf65'</li>\n",
       "\t<li>'secc65'</li>\n",
       "\t<li>'seccm65'</li>\n",
       "\t<li>'seccf65'</li>\n",
       "\t<li>'syr65'</li>\n",
       "\t<li>'syrm65'</li>\n",
       "\t<li>'syrf65'</li>\n",
       "\t<li>'teapri65'</li>\n",
       "\t<li>'teasec65'</li>\n",
       "\t<li>'ex1'</li>\n",
       "\t<li>'im1'</li>\n",
       "\t<li>'xr65'</li>\n",
       "\t<li>'tot1'</li>\n",
       "</ol>\n"
      ],
      "text/latex": [
       "\\begin{enumerate*}\n",
       "\\item 'Outcome'\n",
       "\\item 'intercept'\n",
       "\\item 'gdpsh465'\n",
       "\\item 'bmp1l'\n",
       "\\item 'freeop'\n",
       "\\item 'freetar'\n",
       "\\item 'h65'\n",
       "\\item 'hm65'\n",
       "\\item 'hf65'\n",
       "\\item 'p65'\n",
       "\\item 'pm65'\n",
       "\\item 'pf65'\n",
       "\\item 's65'\n",
       "\\item 'sm65'\n",
       "\\item 'sf65'\n",
       "\\item 'fert65'\n",
       "\\item 'mort65'\n",
       "\\item 'lifee065'\n",
       "\\item 'gpop1'\n",
       "\\item 'fert1'\n",
       "\\item 'mort1'\n",
       "\\item 'invsh41'\n",
       "\\item 'geetot1'\n",
       "\\item 'geerec1'\n",
       "\\item 'gde1'\n",
       "\\item 'govwb1'\n",
       "\\item 'govsh41'\n",
       "\\item 'gvxdxe41'\n",
       "\\item 'high65'\n",
       "\\item 'highm65'\n",
       "\\item 'highf65'\n",
       "\\item 'highc65'\n",
       "\\item 'highcm65'\n",
       "\\item 'highcf65'\n",
       "\\item 'human65'\n",
       "\\item 'humanm65'\n",
       "\\item 'humanf65'\n",
       "\\item 'hyr65'\n",
       "\\item 'hyrm65'\n",
       "\\item 'hyrf65'\n",
       "\\item 'no65'\n",
       "\\item 'nom65'\n",
       "\\item 'nof65'\n",
       "\\item 'pinstab1'\n",
       "\\item 'pop65'\n",
       "\\item 'worker65'\n",
       "\\item 'pop1565'\n",
       "\\item 'pop6565'\n",
       "\\item 'sec65'\n",
       "\\item 'secm65'\n",
       "\\item 'secf65'\n",
       "\\item 'secc65'\n",
       "\\item 'seccm65'\n",
       "\\item 'seccf65'\n",
       "\\item 'syr65'\n",
       "\\item 'syrm65'\n",
       "\\item 'syrf65'\n",
       "\\item 'teapri65'\n",
       "\\item 'teasec65'\n",
       "\\item 'ex1'\n",
       "\\item 'im1'\n",
       "\\item 'xr65'\n",
       "\\item 'tot1'\n",
       "\\end{enumerate*}\n"
      ],
      "text/markdown": [
       "1. 'Outcome'\n",
       "2. 'intercept'\n",
       "3. 'gdpsh465'\n",
       "4. 'bmp1l'\n",
       "5. 'freeop'\n",
       "6. 'freetar'\n",
       "7. 'h65'\n",
       "8. 'hm65'\n",
       "9. 'hf65'\n",
       "10. 'p65'\n",
       "11. 'pm65'\n",
       "12. 'pf65'\n",
       "13. 's65'\n",
       "14. 'sm65'\n",
       "15. 'sf65'\n",
       "16. 'fert65'\n",
       "17. 'mort65'\n",
       "18. 'lifee065'\n",
       "19. 'gpop1'\n",
       "20. 'fert1'\n",
       "21. 'mort1'\n",
       "22. 'invsh41'\n",
       "23. 'geetot1'\n",
       "24. 'geerec1'\n",
       "25. 'gde1'\n",
       "26. 'govwb1'\n",
       "27. 'govsh41'\n",
       "28. 'gvxdxe41'\n",
       "29. 'high65'\n",
       "30. 'highm65'\n",
       "31. 'highf65'\n",
       "32. 'highc65'\n",
       "33. 'highcm65'\n",
       "34. 'highcf65'\n",
       "35. 'human65'\n",
       "36. 'humanm65'\n",
       "37. 'humanf65'\n",
       "38. 'hyr65'\n",
       "39. 'hyrm65'\n",
       "40. 'hyrf65'\n",
       "41. 'no65'\n",
       "42. 'nom65'\n",
       "43. 'nof65'\n",
       "44. 'pinstab1'\n",
       "45. 'pop65'\n",
       "46. 'worker65'\n",
       "47. 'pop1565'\n",
       "48. 'pop6565'\n",
       "49. 'sec65'\n",
       "50. 'secm65'\n",
       "51. 'secf65'\n",
       "52. 'secc65'\n",
       "53. 'seccm65'\n",
       "54. 'seccf65'\n",
       "55. 'syr65'\n",
       "56. 'syrm65'\n",
       "57. 'syrf65'\n",
       "58. 'teapri65'\n",
       "59. 'teasec65'\n",
       "60. 'ex1'\n",
       "61. 'im1'\n",
       "62. 'xr65'\n",
       "63. 'tot1'\n",
       "\n",
       "\n"
      ],
      "text/plain": [
       " [1] \"Outcome\"   \"intercept\" \"gdpsh465\"  \"bmp1l\"     \"freeop\"    \"freetar\"  \n",
       " [7] \"h65\"       \"hm65\"      \"hf65\"      \"p65\"       \"pm65\"      \"pf65\"     \n",
       "[13] \"s65\"       \"sm65\"      \"sf65\"      \"fert65\"    \"mort65\"    \"lifee065\" \n",
       "[19] \"gpop1\"     \"fert1\"     \"mort1\"     \"invsh41\"   \"geetot1\"   \"geerec1\"  \n",
       "[25] \"gde1\"      \"govwb1\"    \"govsh41\"   \"gvxdxe41\"  \"high65\"    \"highm65\"  \n",
       "[31] \"highf65\"   \"highc65\"   \"highcm65\"  \"highcf65\"  \"human65\"   \"humanm65\" \n",
       "[37] \"humanf65\"  \"hyr65\"     \"hyrm65\"    \"hyrf65\"    \"no65\"      \"nom65\"    \n",
       "[43] \"nof65\"     \"pinstab1\"  \"pop65\"     \"worker65\"  \"pop1565\"   \"pop6565\"  \n",
       "[49] \"sec65\"     \"secm65\"    \"secf65\"    \"secc65\"    \"seccm65\"   \"seccf65\"  \n",
       "[55] \"syr65\"     \"syrm65\"    \"syrf65\"    \"teapri65\"  \"teasec65\"  \"ex1\"      \n",
       "[61] \"im1\"       \"xr65\"      \"tot1\"     "
      ]
     },
     "metadata": {},
     "output_type": "display_data"
    }
   ],
   "source": [
    "data <- GrowthData\n",
    "attach(data)\n",
    "names(data)"
   ]
  },
  {
   "cell_type": "code",
   "execution_count": 29,
   "id": "83f61039",
   "metadata": {},
   "outputs": [
    {
     "data": {
      "text/html": [
       "<table>\n",
       "<thead><tr><th scope=col>Outcome</th><th scope=col>intercept</th><th scope=col>gdpsh465</th><th scope=col>bmp1l</th><th scope=col>freeop</th><th scope=col>freetar</th><th scope=col>h65</th><th scope=col>hm65</th><th scope=col>hf65</th><th scope=col>p65</th><th scope=col>...</th><th scope=col>seccf65</th><th scope=col>syr65</th><th scope=col>syrm65</th><th scope=col>syrf65</th><th scope=col>teapri65</th><th scope=col>teasec65</th><th scope=col>ex1</th><th scope=col>im1</th><th scope=col>xr65</th><th scope=col>tot1</th></tr></thead>\n",
       "<tbody>\n",
       "\t<tr><td>-0.02433575</td><td>1          </td><td>6.591674   </td><td>0.2837     </td><td>0.153491   </td><td>0.043888   </td><td>0.007      </td><td>0.013      </td><td>0.001      </td><td>0.29       </td><td>...        </td><td> 0.04      </td><td>0.033      </td><td>0.057      </td><td>0.010      </td><td>47.6       </td><td>17.3       </td><td>0.0729     </td><td>0.0667     </td><td>0.348      </td><td>-0.014727  </td></tr>\n",
       "\t<tr><td> 0.10047257</td><td>1          </td><td>6.829794   </td><td>0.6141     </td><td>0.313509   </td><td>0.061827   </td><td>0.019      </td><td>0.032      </td><td>0.007      </td><td>0.91       </td><td>...        </td><td> 0.64      </td><td>0.173      </td><td>0.274      </td><td>0.067      </td><td>57.1       </td><td>18.0       </td><td>0.0940     </td><td>0.1438     </td><td>0.525      </td><td> 0.005750  </td></tr>\n",
       "\t<tr><td> 0.06705148</td><td>1          </td><td>8.895082   </td><td>0.0000     </td><td>0.204244   </td><td>0.009186   </td><td>0.260      </td><td>0.325      </td><td>0.201      </td><td>1.00       </td><td>...        </td><td>18.14      </td><td>2.573      </td><td>2.478      </td><td>2.667      </td><td>26.5       </td><td>20.7       </td><td>0.1741     </td><td>0.1750     </td><td>1.082      </td><td>-0.010040  </td></tr>\n",
       "\t<tr><td> 0.06408917</td><td>1          </td><td>7.565275   </td><td>0.1997     </td><td>0.248714   </td><td>0.036270   </td><td>0.061      </td><td>0.070      </td><td>0.051      </td><td>1.00       </td><td>...        </td><td> 2.63      </td><td>0.438      </td><td>0.453      </td><td>0.424      </td><td>27.8       </td><td>22.7       </td><td>0.1265     </td><td>0.1496     </td><td>6.625      </td><td>-0.002195  </td></tr>\n",
       "\t<tr><td> 0.02792955</td><td>1          </td><td>7.162397   </td><td>0.1740     </td><td>0.299252   </td><td>0.037367   </td><td>0.017      </td><td>0.027      </td><td>0.007      </td><td>0.82       </td><td>...        </td><td> 2.11      </td><td>0.257      </td><td>0.287      </td><td>0.229      </td><td>34.5       </td><td>17.6       </td><td>0.1211     </td><td>0.1308     </td><td>2.500      </td><td> 0.003283  </td></tr>\n",
       "\t<tr><td> 0.04640744</td><td>1          </td><td>7.218910   </td><td>0.0000     </td><td>0.258865   </td><td>0.020880   </td><td>0.023      </td><td>0.038      </td><td>0.006      </td><td>0.50       </td><td>...        </td><td> 1.46      </td><td>0.160      </td><td>0.174      </td><td>0.146      </td><td>34.3       </td><td> 8.1       </td><td>0.0634     </td><td>0.0762     </td><td>1.000      </td><td>-0.001747  </td></tr>\n",
       "</tbody>\n",
       "</table>\n"
      ],
      "text/latex": [
       "\\begin{tabular}{r|lllllllllllllllllllllllllllllllllllllllllllllllllllllllllllllll}\n",
       " Outcome & intercept & gdpsh465 & bmp1l & freeop & freetar & h65 & hm65 & hf65 & p65 & ... & seccf65 & syr65 & syrm65 & syrf65 & teapri65 & teasec65 & ex1 & im1 & xr65 & tot1\\\\\n",
       "\\hline\n",
       "\t -0.02433575 & 1           & 6.591674    & 0.2837      & 0.153491    & 0.043888    & 0.007       & 0.013       & 0.001       & 0.29        & ...         &  0.04       & 0.033       & 0.057       & 0.010       & 47.6        & 17.3        & 0.0729      & 0.0667      & 0.348       & -0.014727  \\\\\n",
       "\t  0.10047257 & 1           & 6.829794    & 0.6141      & 0.313509    & 0.061827    & 0.019       & 0.032       & 0.007       & 0.91        & ...         &  0.64       & 0.173       & 0.274       & 0.067       & 57.1        & 18.0        & 0.0940      & 0.1438      & 0.525       &  0.005750  \\\\\n",
       "\t  0.06705148 & 1           & 8.895082    & 0.0000      & 0.204244    & 0.009186    & 0.260       & 0.325       & 0.201       & 1.00        & ...         & 18.14       & 2.573       & 2.478       & 2.667       & 26.5        & 20.7        & 0.1741      & 0.1750      & 1.082       & -0.010040  \\\\\n",
       "\t  0.06408917 & 1           & 7.565275    & 0.1997      & 0.248714    & 0.036270    & 0.061       & 0.070       & 0.051       & 1.00        & ...         &  2.63       & 0.438       & 0.453       & 0.424       & 27.8        & 22.7        & 0.1265      & 0.1496      & 6.625       & -0.002195  \\\\\n",
       "\t  0.02792955 & 1           & 7.162397    & 0.1740      & 0.299252    & 0.037367    & 0.017       & 0.027       & 0.007       & 0.82        & ...         &  2.11       & 0.257       & 0.287       & 0.229       & 34.5        & 17.6        & 0.1211      & 0.1308      & 2.500       &  0.003283  \\\\\n",
       "\t  0.04640744 & 1           & 7.218910    & 0.0000      & 0.258865    & 0.020880    & 0.023       & 0.038       & 0.006       & 0.50        & ...         &  1.46       & 0.160       & 0.174       & 0.146       & 34.3        &  8.1        & 0.0634      & 0.0762      & 1.000       & -0.001747  \\\\\n",
       "\\end{tabular}\n"
      ],
      "text/markdown": [
       "\n",
       "| Outcome | intercept | gdpsh465 | bmp1l | freeop | freetar | h65 | hm65 | hf65 | p65 | ... | seccf65 | syr65 | syrm65 | syrf65 | teapri65 | teasec65 | ex1 | im1 | xr65 | tot1 |\n",
       "|---|---|---|---|---|---|---|---|---|---|---|---|---|---|---|---|---|---|---|---|---|\n",
       "| -0.02433575 | 1           | 6.591674    | 0.2837      | 0.153491    | 0.043888    | 0.007       | 0.013       | 0.001       | 0.29        | ...         |  0.04       | 0.033       | 0.057       | 0.010       | 47.6        | 17.3        | 0.0729      | 0.0667      | 0.348       | -0.014727   |\n",
       "|  0.10047257 | 1           | 6.829794    | 0.6141      | 0.313509    | 0.061827    | 0.019       | 0.032       | 0.007       | 0.91        | ...         |  0.64       | 0.173       | 0.274       | 0.067       | 57.1        | 18.0        | 0.0940      | 0.1438      | 0.525       |  0.005750   |\n",
       "|  0.06705148 | 1           | 8.895082    | 0.0000      | 0.204244    | 0.009186    | 0.260       | 0.325       | 0.201       | 1.00        | ...         | 18.14       | 2.573       | 2.478       | 2.667       | 26.5        | 20.7        | 0.1741      | 0.1750      | 1.082       | -0.010040   |\n",
       "|  0.06408917 | 1           | 7.565275    | 0.1997      | 0.248714    | 0.036270    | 0.061       | 0.070       | 0.051       | 1.00        | ...         |  2.63       | 0.438       | 0.453       | 0.424       | 27.8        | 22.7        | 0.1265      | 0.1496      | 6.625       | -0.002195   |\n",
       "|  0.02792955 | 1           | 7.162397    | 0.1740      | 0.299252    | 0.037367    | 0.017       | 0.027       | 0.007       | 0.82        | ...         |  2.11       | 0.257       | 0.287       | 0.229       | 34.5        | 17.6        | 0.1211      | 0.1308      | 2.500       |  0.003283   |\n",
       "|  0.04640744 | 1           | 7.218910    | 0.0000      | 0.258865    | 0.020880    | 0.023       | 0.038       | 0.006       | 0.50        | ...         |  1.46       | 0.160       | 0.174       | 0.146       | 34.3        |  8.1        | 0.0634      | 0.0762      | 1.000       | -0.001747   |\n",
       "\n"
      ],
      "text/plain": [
       "  Outcome     intercept gdpsh465 bmp1l  freeop   freetar  h65   hm65  hf65 \n",
       "1 -0.02433575 1         6.591674 0.2837 0.153491 0.043888 0.007 0.013 0.001\n",
       "2  0.10047257 1         6.829794 0.6141 0.313509 0.061827 0.019 0.032 0.007\n",
       "3  0.06705148 1         8.895082 0.0000 0.204244 0.009186 0.260 0.325 0.201\n",
       "4  0.06408917 1         7.565275 0.1997 0.248714 0.036270 0.061 0.070 0.051\n",
       "5  0.02792955 1         7.162397 0.1740 0.299252 0.037367 0.017 0.027 0.007\n",
       "6  0.04640744 1         7.218910 0.0000 0.258865 0.020880 0.023 0.038 0.006\n",
       "  p65  ... seccf65 syr65 syrm65 syrf65 teapri65 teasec65 ex1    im1    xr65 \n",
       "1 0.29 ...  0.04   0.033 0.057  0.010  47.6     17.3     0.0729 0.0667 0.348\n",
       "2 0.91 ...  0.64   0.173 0.274  0.067  57.1     18.0     0.0940 0.1438 0.525\n",
       "3 1.00 ... 18.14   2.573 2.478  2.667  26.5     20.7     0.1741 0.1750 1.082\n",
       "4 1.00 ...  2.63   0.438 0.453  0.424  27.8     22.7     0.1265 0.1496 6.625\n",
       "5 0.82 ...  2.11   0.257 0.287  0.229  34.5     17.6     0.1211 0.1308 2.500\n",
       "6 0.50 ...  1.46   0.160 0.174  0.146  34.3      8.1     0.0634 0.0762 1.000\n",
       "  tot1     \n",
       "1 -0.014727\n",
       "2  0.005750\n",
       "3 -0.010040\n",
       "4 -0.002195\n",
       "5  0.003283\n",
       "6 -0.001747"
      ]
     },
     "metadata": {},
     "output_type": "display_data"
    }
   ],
   "source": [
    "head(data)"
   ]
  },
  {
   "cell_type": "code",
   "execution_count": 30,
   "id": "dc86b4c0",
   "metadata": {
    "execution": {
     "iopub.execute_input": "2021-02-13T17:30:13.420018Z",
     "iopub.status.busy": "2021-02-13T17:30:13.417784Z",
     "iopub.status.idle": "2021-02-13T17:30:14.397557Z",
     "shell.execute_reply": "2021-02-13T17:30:14.396020Z"
    },
    "papermill": {
     "duration": 1.027605,
     "end_time": "2021-02-13T17:30:14.397806",
     "exception": false,
     "start_time": "2021-02-13T17:30:13.370201",
     "status": "completed"
    },
    "tags": []
   },
   "outputs": [
    {
     "data": {
      "text/html": [
       "<ol class=list-inline>\n",
       "\t<li>90</li>\n",
       "\t<li>63</li>\n",
       "</ol>\n"
      ],
      "text/latex": [
       "\\begin{enumerate*}\n",
       "\\item 90\n",
       "\\item 63\n",
       "\\end{enumerate*}\n"
      ],
      "text/markdown": [
       "1. 90\n",
       "2. 63\n",
       "\n",
       "\n"
      ],
      "text/plain": [
       "[1] 90 63"
      ]
     },
     "metadata": {},
     "output_type": "display_data"
    }
   ],
   "source": [
    "dim(data)"
   ]
  },
  {
   "cell_type": "markdown",
   "id": "b138ddf6",
   "metadata": {
    "papermill": {
     "duration": 0.017216,
     "end_time": "2021-02-13T17:30:14.432656",
     "exception": false,
     "start_time": "2021-02-13T17:30:14.415440",
     "status": "completed"
    },
    "tags": []
   },
   "source": [
    "### Preprocessing"
   ]
  },
  {
   "cell_type": "markdown",
   "id": "2afa710b",
   "metadata": {
    "papermill": {
     "duration": 0.017212,
     "end_time": "2021-02-13T17:30:14.467075",
     "exception": false,
     "start_time": "2021-02-13T17:30:14.449863",
     "status": "completed"
    },
    "tags": []
   },
   "source": [
    "To account for heterogeneity across counties and time trends in  all variables, we remove from them county-specific and time-specific effects in the following preprocessing."
   ]
  },
  {
   "cell_type": "markdown",
   "id": "0d45ee8e",
   "metadata": {
    "papermill": {
     "duration": 0.016789,
     "end_time": "2021-02-13T17:30:38.928857",
     "exception": false,
     "start_time": "2021-02-13T17:30:38.912068",
     "status": "completed"
    },
    "tags": []
   },
   "source": [
    "Now, we can construct the treatment variable, the outcome variable and the matrix $Z$ that includes the control variables."
   ]
  },
  {
   "cell_type": "code",
   "execution_count": 33,
   "id": "df841d39",
   "metadata": {
    "execution": {
     "iopub.execute_input": "2021-02-13T17:30:38.968895Z",
     "iopub.status.busy": "2021-02-13T17:30:38.967511Z",
     "iopub.status.idle": "2021-02-13T17:30:38.988737Z",
     "shell.execute_reply": "2021-02-13T17:30:38.987198Z"
    },
    "papermill": {
     "duration": 0.042922,
     "end_time": "2021-02-13T17:30:38.988875",
     "exception": false,
     "start_time": "2021-02-13T17:30:38.945953",
     "status": "completed"
    },
    "tags": []
   },
   "outputs": [],
   "source": [
    "# Treatment Variable\n",
    "D <- data[\"gdpsh465\"]\n",
    "# Outcome Variable\n",
    "Y <- data[\"Outcome\"]\n",
    "\n",
    "# Construct matrix Z\n",
    "Z <- data[,c(2,4:63)]"
   ]
  },
  {
   "cell_type": "markdown",
   "id": "3f01974c",
   "metadata": {
    "papermill": {
     "duration": 0.01807,
     "end_time": "2021-02-13T17:30:39.025018",
     "exception": false,
     "start_time": "2021-02-13T17:30:39.006948",
     "status": "completed"
    },
    "tags": []
   },
   "source": [
    "We have in total 60 control variables."
   ]
  },
  {
   "cell_type": "code",
   "execution_count": 41,
   "id": "9caf2759",
   "metadata": {},
   "outputs": [
    {
     "name": "stderr",
     "output_type": "stream",
     "text": [
      "also installing the dependency 'sandwich'\n",
      "\n"
     ]
    },
    {
     "name": "stdout",
     "output_type": "stream",
     "text": [
      "\n",
      "  There are binary versions available but the source versions are later:\n",
      "         binary  source needs_compilation\n",
      "sandwich  3.0-0   3.0-1             FALSE\n",
      "lfe       2.8-6 2.8-7.1              TRUE\n",
      "\n",
      "  Binaries will be installed\n",
      "package 'lfe' successfully unpacked and MD5 sums checked\n",
      "\n",
      "The downloaded binary packages are in\n",
      "\tC:\\Users\\User\\AppData\\Local\\Temp\\RtmpQ7jWpI\\downloaded_packages\n"
     ]
    },
    {
     "name": "stderr",
     "output_type": "stream",
     "text": [
      "installing the source package 'sandwich'\n",
      "\n"
     ]
    }
   ],
   "source": [
    "# install.packages(\"lfe\")"
   ]
  },
  {
   "cell_type": "code",
   "execution_count": 35,
   "id": "d0c4f355",
   "metadata": {},
   "outputs": [],
   "source": [
    "library(lfe)"
   ]
  },
  {
   "cell_type": "markdown",
   "id": "1eb37a19",
   "metadata": {
    "papermill": {
     "duration": 0.01855,
     "end_time": "2021-02-13T17:30:40.260049",
     "exception": false,
     "start_time": "2021-02-13T17:30:40.241499",
     "status": "completed"
    },
    "tags": []
   },
   "source": [
    "## The effect of gun ownership"
   ]
  },
  {
   "cell_type": "markdown",
   "id": "e9225377",
   "metadata": {
    "papermill": {
     "duration": 0.018478,
     "end_time": "2021-02-13T17:30:40.297035",
     "exception": false,
     "start_time": "2021-02-13T17:30:40.278557",
     "status": "completed"
    },
    "tags": []
   },
   "source": [
    "### OLS"
   ]
  },
  {
   "cell_type": "markdown",
   "id": "220a0319",
   "metadata": {
    "papermill": {
     "duration": 0.018386,
     "end_time": "2021-02-13T17:30:40.333613",
     "exception": false,
     "start_time": "2021-02-13T17:30:40.315227",
     "status": "completed"
    },
    "tags": []
   },
   "source": [
    "After preprocessing the data, we first look at simple regression of $Y_{j,t}$ on $D_{j,t-1}$ without controls as a baseline model."
   ]
  },
  {
   "cell_type": "code",
   "execution_count": 36,
   "id": "dee9aaeb",
   "metadata": {
    "execution": {
     "iopub.execute_input": "2021-02-13T17:30:40.378059Z",
     "iopub.status.busy": "2021-02-13T17:30:40.375375Z",
     "iopub.status.idle": "2021-02-13T17:30:40.488189Z",
     "shell.execute_reply": "2021-02-13T17:30:40.485758Z"
    },
    "papermill": {
     "duration": 0.136101,
     "end_time": "2021-02-13T17:30:40.488367",
     "exception": false,
     "start_time": "2021-02-13T17:30:40.352266",
     "status": "completed"
    },
    "scrolled": true,
    "tags": []
   },
   "outputs": [
    {
     "data": {
      "text/html": [
       "<dl class=dl-horizontal>\n",
       "\t<dt>2.5 %</dt>\n",
       "\t\t<dd>-0.0108101278829859</dd>\n",
       "\t<dt>97.5 %</dt>\n",
       "\t\t<dd>0.013443553109878</dd>\n",
       "</dl>\n"
      ],
      "text/latex": [
       "\\begin{description*}\n",
       "\\item[2.5 \\textbackslash{}\\%] -0.0108101278829859\n",
       "\\item[97.5 \\textbackslash{}\\%] 0.013443553109878\n",
       "\\end{description*}\n"
      ],
      "text/markdown": [
       "2.5 %\n",
       ":   -0.010810127882985997.5 %\n",
       ":   0.013443553109878\n",
       "\n"
      ],
      "text/plain": [
       "      2.5 %      97.5 % \n",
       "-0.01081013  0.01344355 "
      ]
     },
     "metadata": {},
     "output_type": "display_data"
    },
    {
     "data": {
      "text/html": [
       "<dl class=dl-horizontal>\n",
       "\t<dt>Estimate</dt>\n",
       "\t\t<dd>0.00131671261344604</dd>\n",
       "\t<dt>Std. Error</dt>\n",
       "\t\t<dd>0.00610220014253542</dd>\n",
       "\t<dt>t value</dt>\n",
       "\t\t<dd>0.215776700647343</dd>\n",
       "\t<dt>Pr(&gt;|t|)</dt>\n",
       "\t\t<dd>0.829661164776393</dd>\n",
       "</dl>\n"
      ],
      "text/latex": [
       "\\begin{description*}\n",
       "\\item[Estimate] 0.00131671261344604\n",
       "\\item[Std. Error] 0.00610220014253542\n",
       "\\item[t value] 0.215776700647343\n",
       "\\item[Pr(>\\textbackslash{}textbar\\{\\}t\\textbackslash{}textbar\\{\\})] 0.829661164776393\n",
       "\\end{description*}\n"
      ],
      "text/markdown": [
       "Estimate\n",
       ":   0.00131671261344604Std. Error\n",
       ":   0.00610220014253542t value\n",
       ":   0.215776700647343Pr(&amp;gt;|t|)\n",
       ":   0.829661164776393\n",
       "\n"
      ],
      "text/plain": [
       "   Estimate  Std. Error     t value    Pr(>|t|) \n",
       "0.001316713 0.006102200 0.215776701 0.829661165 "
      ]
     },
     "metadata": {},
     "output_type": "display_data"
    }
   ],
   "source": [
    "#baseline_formula <- as.formula(paste(y, \"~\", d ))\n",
    "#baseline.ols <- lm(baseline_formula,data=rdata)\n",
    "\n",
    "baseline.ols <- felm(Outcome ~ gdpsh465,data=data) \n",
    "est_baseline <- summary(baseline.ols)$coef[2,]\n",
    "confint(baseline.ols)[2,]\n",
    "est_baseline"
   ]
  },
  {
   "cell_type": "code",
   "execution_count": 37,
   "id": "dd084a27",
   "metadata": {},
   "outputs": [
    {
     "data": {
      "text/plain": [
       "\n",
       "Call:\n",
       "   felm(formula = Outcome ~ gdpsh465, data = data) \n",
       "\n",
       "Residuals:\n",
       "      Min        1Q    Median        3Q       Max \n",
       "-0.147387 -0.024088  0.001209  0.027721  0.139357 \n",
       "\n",
       "Coefficients:\n",
       "            Estimate Std. Error t value Pr(>|t|)\n",
       "(Intercept) 0.035207   0.047318   0.744    0.459\n",
       "gdpsh465    0.001317   0.006102   0.216    0.830\n",
       "\n",
       "Residual standard error: 0.05159 on 88 degrees of freedom\n",
       "Multiple R-squared(full model): 0.0005288   Adjusted R-squared: -0.01083 \n",
       "Multiple R-squared(proj model): 0.0005288   Adjusted R-squared: -0.01083 \n",
       "F-statistic(full model):0.04656 on 1 and 88 DF, p-value: 0.8297 \n",
       "F-statistic(proj model): 0.04656 on 1 and 88 DF, p-value: 0.8297 \n",
       "\n"
      ]
     },
     "metadata": {},
     "output_type": "display_data"
    }
   ],
   "source": [
    "summary(baseline.ols)"
   ]
  },
  {
   "cell_type": "code",
   "execution_count": 38,
   "id": "c1e159d7",
   "metadata": {},
   "outputs": [
    {
     "data": {
      "text/html": [
       "<dl class=dl-horizontal>\n",
       "\t<dt>2.5 %</dt>\n",
       "\t\t<dd>-0.0108101278829859</dd>\n",
       "\t<dt>97.5 %</dt>\n",
       "\t\t<dd>0.013443553109878</dd>\n",
       "</dl>\n"
      ],
      "text/latex": [
       "\\begin{description*}\n",
       "\\item[2.5 \\textbackslash{}\\%] -0.0108101278829859\n",
       "\\item[97.5 \\textbackslash{}\\%] 0.013443553109878\n",
       "\\end{description*}\n"
      ],
      "text/markdown": [
       "2.5 %\n",
       ":   -0.010810127882985997.5 %\n",
       ":   0.013443553109878\n",
       "\n"
      ],
      "text/plain": [
       "      2.5 %      97.5 % \n",
       "-0.01081013  0.01344355 "
      ]
     },
     "metadata": {},
     "output_type": "display_data"
    }
   ],
   "source": [
    "confint(baseline.ols)[2,]"
   ]
  },
  {
   "cell_type": "markdown",
   "id": "d9050b77",
   "metadata": {
    "papermill": {
     "duration": 0.019514,
     "end_time": "2021-02-13T17:30:40.528479",
     "exception": false,
     "start_time": "2021-02-13T17:30:40.508965",
     "status": "completed"
    },
    "tags": []
   },
   "source": [
    "The point estimate is $0.0013$ with the confidence interval ranging from -0.011 to 0.013. If initial wealth increases by 1% relative to a trend then the predicted growth rate goes up by 0.13%, without controlling for counties' characteristics.\n",
    "\n",
    "Since our goal is to estimate the effect of gun ownership after controlling for a rich set county characteristics we next include the controls. First, we estimate the model by ols and then by an array of the modern regression methods using the double machine learning approach."
   ]
  },
  {
   "cell_type": "code",
   "execution_count": 39,
   "id": "8e086dd6",
   "metadata": {
    "execution": {
     "iopub.execute_input": "2021-02-13T17:30:40.575465Z",
     "iopub.status.busy": "2021-02-13T17:30:40.573798Z",
     "iopub.status.idle": "2021-02-13T17:30:40.777165Z",
     "shell.execute_reply": "2021-02-13T17:30:40.774926Z"
    },
    "papermill": {
     "duration": 0.229579,
     "end_time": "2021-02-13T17:30:40.777425",
     "exception": false,
     "start_time": "2021-02-13T17:30:40.547846",
     "status": "completed"
    },
    "tags": []
   },
   "outputs": [
    {
     "data": {
      "text/plain": [
       "Outcome ~ gdpsh465 + intercept + bmp1l + freeop + freetar + h65 + \n",
       "    hm65 + hf65 + p65 + pm65 + pf65 + s65 + sm65 + sf65 + fert65 + \n",
       "    mort65 + lifee065 + gpop1 + fert1 + mort1 + invsh41 + geetot1 + \n",
       "    geerec1 + gde1 + govwb1 + govsh41 + gvxdxe41 + high65 + highm65 + \n",
       "    highf65 + highc65 + highcm65 + highcf65 + human65 + humanm65 + \n",
       "    humanf65 + hyr65 + hyrm65 + hyrf65 + no65 + nom65 + nof65 + \n",
       "    pinstab1 + pop65 + worker65 + pop1565 + pop6565 + sec65 + \n",
       "    secm65 + secf65 + secc65 + seccm65 + seccf65 + syr65 + syrm65 + \n",
       "    syrf65 + teapri65 + teasec65 + ex1 + im1 + xr65 + tot1"
      ]
     },
     "metadata": {},
     "output_type": "display_data"
    }
   ],
   "source": [
    "control_formula <- as.formula(paste(\"Outcome\", \"~\", paste(\"gdpsh465\",paste(colnames(Z),collapse=\"+\"),\n",
    "                                                          sep=\"+\")))\n",
    "control_formula"
   ]
  },
  {
   "cell_type": "code",
   "execution_count": 40,
   "id": "74ea7ec5",
   "metadata": {
    "execution": {
     "iopub.execute_input": "2021-02-13T17:30:40.575465Z",
     "iopub.status.busy": "2021-02-13T17:30:40.573798Z",
     "iopub.status.idle": "2021-02-13T17:30:40.777165Z",
     "shell.execute_reply": "2021-02-13T17:30:40.774926Z"
    },
    "papermill": {
     "duration": 0.229579,
     "end_time": "2021-02-13T17:30:40.777425",
     "exception": false,
     "start_time": "2021-02-13T17:30:40.547846",
     "status": "completed"
    },
    "tags": []
   },
   "outputs": [
    {
     "name": "stderr",
     "output_type": "stream",
     "text": [
      "Warning message in chol.default(mat, pivot = TRUE, tol = tol):\n",
      "\"the matrix is either rank-deficient or indefinite\"Warning message in chol.default(mat, pivot = TRUE, tol = tol):\n",
      "\"the matrix is either rank-deficient or indefinite\""
     ]
    },
    {
     "data": {
      "text/html": [
       "<dl class=dl-horizontal>\n",
       "\t<dt>2.5 %</dt>\n",
       "\t\t<dd>-0.0706002209563806</dd>\n",
       "\t<dt>97.5 %</dt>\n",
       "\t\t<dd>0.0518442434868527</dd>\n",
       "</dl>\n"
      ],
      "text/latex": [
       "\\begin{description*}\n",
       "\\item[2.5 \\textbackslash{}\\%] -0.0706002209563806\n",
       "\\item[97.5 \\textbackslash{}\\%] 0.0518442434868527\n",
       "\\end{description*}\n"
      ],
      "text/markdown": [
       "2.5 %\n",
       ":   -0.070600220956380697.5 %\n",
       ":   0.0518442434868527\n",
       "\n"
      ],
      "text/plain": [
       "      2.5 %      97.5 % \n",
       "-0.07060022  0.05184424 "
      ]
     },
     "metadata": {},
     "output_type": "display_data"
    },
    {
     "data": {
      "text/html": [
       "<dl class=dl-horizontal>\n",
       "\t<dt>Estimate</dt>\n",
       "\t\t<dd>-0.00937798873476396</dd>\n",
       "\t<dt>Std. Error</dt>\n",
       "\t\t<dd>0.0298877264057774</dd>\n",
       "\t<dt>t value</dt>\n",
       "\t\t<dd>-0.313773908642016</dd>\n",
       "\t<dt>Pr(&gt;|t|)</dt>\n",
       "\t\t<dd>0.756018519248517</dd>\n",
       "</dl>\n"
      ],
      "text/latex": [
       "\\begin{description*}\n",
       "\\item[Estimate] -0.00937798873476396\n",
       "\\item[Std. Error] 0.0298877264057774\n",
       "\\item[t value] -0.313773908642016\n",
       "\\item[Pr(>\\textbackslash{}textbar\\{\\}t\\textbackslash{}textbar\\{\\})] 0.756018519248517\n",
       "\\end{description*}\n"
      ],
      "text/markdown": [
       "Estimate\n",
       ":   -0.00937798873476396Std. Error\n",
       ":   0.0298877264057774t value\n",
       ":   -0.313773908642016Pr(&amp;gt;|t|)\n",
       ":   0.756018519248517\n",
       "\n"
      ],
      "text/plain": [
       "    Estimate   Std. Error      t value     Pr(>|t|) \n",
       "-0.009377989  0.029887726 -0.313773909  0.756018519 "
      ]
     },
     "metadata": {},
     "output_type": "display_data"
    }
   ],
   "source": [
    "control.ols <- felm(control_formula,data=data)\n",
    "est_ols <- summary(control.ols)$coef[2,]\n",
    "confint(control.ols)[2,]\n",
    "est_ols"
   ]
  },
  {
   "cell_type": "code",
   "execution_count": 81,
   "id": "15006b0c",
   "metadata": {
    "scrolled": true
   },
   "outputs": [
    {
     "name": "stderr",
     "output_type": "stream",
     "text": [
      "Warning message in chol.default(mat, pivot = TRUE, tol = tol):\n",
      "\"the matrix is either rank-deficient or indefinite\""
     ]
    },
    {
     "data": {
      "text/html": [
       "<table>\n",
       "<thead><tr><th></th><th scope=col>Estimate</th><th scope=col>Std. Error</th><th scope=col>t value</th><th scope=col>Pr(&gt;|t|)</th></tr></thead>\n",
       "<tbody>\n",
       "\t<tr><th scope=row>(Intercept)</th><td> 0.247160892</td><td>0.78450164  </td><td> 0.31505465 </td><td>0.755056171 </td></tr>\n",
       "\t<tr><th scope=row>gdpsh465</th><td>-0.009377989</td><td>0.02988773  </td><td>-0.31377391 </td><td>0.756018519 </td></tr>\n",
       "\t<tr><th scope=row>intercept</th><td>         NaN</td><td>        NA  </td><td>        NaN </td><td>        NaN </td></tr>\n",
       "\t<tr><th scope=row>bmp1l</th><td>-0.068862679</td><td>0.03253065  </td><td>-2.11685514 </td><td>0.043289717 </td></tr>\n",
       "\t<tr><th scope=row>freeop</th><td> 0.080068972</td><td>0.20786400  </td><td> 0.38519884 </td><td>0.703000843 </td></tr>\n",
       "\t<tr><th scope=row>freetar</th><td>-0.488962603</td><td>0.41816285  </td><td>-1.16931143 </td><td>0.252136478 </td></tr>\n",
       "\t<tr><th scope=row>h65</th><td>-2.362098643</td><td>0.85729167  </td><td>-2.75530339 </td><td>0.010192435 </td></tr>\n",
       "\t<tr><th scope=row>hm65</th><td> 0.707143403</td><td>0.52314511  </td><td> 1.35171561 </td><td>0.187285917 </td></tr>\n",
       "\t<tr><th scope=row>hf65</th><td> 1.693448426</td><td>0.50318881  </td><td> 3.36543337 </td><td>0.002232683 </td></tr>\n",
       "\t<tr><th scope=row>p65</th><td> 0.265526696</td><td>0.16429407  </td><td> 1.61616729 </td><td>0.117271228 </td></tr>\n",
       "\t<tr><th scope=row>pm65</th><td> 0.136952625</td><td>0.15121749  </td><td> 0.90566656 </td><td>0.372840116 </td></tr>\n",
       "\t<tr><th scope=row>pf65</th><td>-0.331266947</td><td>0.16512299  </td><td>-2.00618302 </td><td>0.054583867 </td></tr>\n",
       "\t<tr><th scope=row>s65</th><td> 0.039079307</td><td>0.18552248  </td><td> 0.21064459 </td><td>0.834690078 </td></tr>\n",
       "\t<tr><th scope=row>sm65</th><td>-0.030668507</td><td>0.11679396  </td><td>-0.26258642 </td><td>0.794791807 </td></tr>\n",
       "\t<tr><th scope=row>sf65</th><td>-0.179917281</td><td>0.11809892  </td><td>-1.52344557 </td><td>0.138863009 </td></tr>\n",
       "\t<tr><th scope=row>fert65</th><td> 0.006880834</td><td>0.02705142  </td><td> 0.25436128 </td><td>0.801075252 </td></tr>\n",
       "\t<tr><th scope=row>mort65</th><td>-0.233454503</td><td>0.81742198  </td><td>-0.28559852 </td><td>0.777287824 </td></tr>\n",
       "\t<tr><th scope=row>lifee065</th><td>-0.014914472</td><td>0.19333559  </td><td>-0.07714292 </td><td>0.939058460 </td></tr>\n",
       "\t<tr><th scope=row>gpop1</th><td> 0.970184569</td><td>1.81220836  </td><td> 0.53536039 </td><td>0.596627598 </td></tr>\n",
       "\t<tr><th scope=row>fert1</th><td> 0.008838189</td><td>0.03504148  </td><td> 0.25222077 </td><td>0.802712696 </td></tr>\n",
       "\t<tr><th scope=row>mort1</th><td> 0.066562928</td><td>0.68481003  </td><td> 0.09719911 </td><td>0.923260701 </td></tr>\n",
       "\t<tr><th scope=row>invsh41</th><td> 0.074461125</td><td>0.10844692  </td><td> 0.68661353 </td><td>0.497973614 </td></tr>\n",
       "\t<tr><th scope=row>geetot1</th><td>-0.715104900</td><td>1.68013567  </td><td>-0.42562331 </td><td>0.673636105 </td></tr>\n",
       "\t<tr><th scope=row>geerec1</th><td> 0.630004625</td><td>2.44737849  </td><td> 0.25742019 </td><td>0.798736844 </td></tr>\n",
       "\t<tr><th scope=row>gde1</th><td>-0.443575221</td><td>1.67120675  </td><td>-0.26542211 </td><td>0.792628756 </td></tr>\n",
       "\t<tr><th scope=row>govwb1</th><td> 0.337452361</td><td>0.43798695  </td><td> 0.77046213 </td><td>0.447478341 </td></tr>\n",
       "\t<tr><th scope=row>govsh41</th><td> 0.463174638</td><td>1.92543734  </td><td> 0.24055555 </td><td>0.811652244 </td></tr>\n",
       "\t<tr><th scope=row>gvxdxe41</th><td>-0.793381586</td><td>2.05939737  </td><td>-0.38524939 </td><td>0.702963814 </td></tr>\n",
       "\t<tr><th scope=row>high65</th><td>-0.752483827</td><td>0.90572159  </td><td>-0.83081141 </td><td>0.413108818 </td></tr>\n",
       "\t<tr><th scope=row>highm65</th><td>-0.390261809</td><td>0.68124930  </td><td>-0.57286196 </td><td>0.571310298 </td></tr>\n",
       "\t<tr><th scope=row>...</th><td>...</td><td>...</td><td>...</td><td>...</td></tr>\n",
       "\t<tr><th scope=row>highcf65</th><td> 3.920771e-01</td><td>7.660246e-01 </td><td> 0.51183360  </td><td>0.61278088   </td></tr>\n",
       "\t<tr><th scope=row>human65</th><td> 2.337269e+00</td><td>3.307269e+00 </td><td> 0.70670677  </td><td>0.48558874   </td></tr>\n",
       "\t<tr><th scope=row>humanm65</th><td>-1.209249e+00</td><td>1.618516e+00 </td><td>-0.74713473  </td><td>0.46121073   </td></tr>\n",
       "\t<tr><th scope=row>humanf65</th><td>-1.103947e+00</td><td>1.684693e+00 </td><td>-0.65528073  </td><td>0.51763500   </td></tr>\n",
       "\t<tr><th scope=row>hyr65</th><td> 5.491388e+01</td><td>2.388729e+01 </td><td> 2.29887430  </td><td>0.02918450   </td></tr>\n",
       "\t<tr><th scope=row>hyrm65</th><td> 1.293505e+01</td><td>2.317142e+01 </td><td> 0.55823279  </td><td>0.58112223   </td></tr>\n",
       "\t<tr><th scope=row>hyrf65</th><td> 9.092580e+00</td><td>1.766958e+01 </td><td> 0.51458948  </td><td>0.61087820   </td></tr>\n",
       "\t<tr><th scope=row>no65</th><td> 3.720986e-02</td><td>1.319733e-01 </td><td> 0.28194992  </td><td>0.78005543   </td></tr>\n",
       "\t<tr><th scope=row>nom65</th><td>-2.119769e-02</td><td>6.495975e-02 </td><td>-0.32632031  </td><td>0.74660862   </td></tr>\n",
       "\t<tr><th scope=row>nof65</th><td>-1.685782e-02</td><td>6.700258e-02 </td><td>-0.25159952  </td><td>0.80318812   </td></tr>\n",
       "\t<tr><th scope=row>pinstab1</th><td>-4.997113e-02</td><td>3.092081e-02 </td><td>-1.61610018  </td><td>0.11728579   </td></tr>\n",
       "\t<tr><th scope=row>pop65</th><td> 1.031796e-07</td><td>1.317950e-07 </td><td> 0.78287929  </td><td>0.44026959   </td></tr>\n",
       "\t<tr><th scope=row>worker65</th><td> 3.407897e-02</td><td>1.561909e-01 </td><td> 0.21818786  </td><td>0.82886515   </td></tr>\n",
       "\t<tr><th scope=row>pop1565</th><td>-4.655346e-01</td><td>4.713340e-01 </td><td>-0.98769582  </td><td>0.33176044   </td></tr>\n",
       "\t<tr><th scope=row>pop6565</th><td>-1.357450e+00</td><td>6.349424e-01 </td><td>-2.13791049  </td><td>0.04139326   </td></tr>\n",
       "\t<tr><th scope=row>sec65</th><td>-1.089278e-02</td><td>3.076618e-01 </td><td>-0.03540505  </td><td>0.97200796   </td></tr>\n",
       "\t<tr><th scope=row>secm65</th><td> 3.343663e-03</td><td>1.511923e-01 </td><td> 0.02211529  </td><td>0.98251284   </td></tr>\n",
       "\t<tr><th scope=row>secf65</th><td>-2.304330e-03</td><td>1.579715e-01 </td><td>-0.01458699  </td><td>0.98846512   </td></tr>\n",
       "\t<tr><th scope=row>secc65</th><td>-4.915284e-01</td><td>7.290408e-01 </td><td>-0.67421247  </td><td>0.50570489   </td></tr>\n",
       "\t<tr><th scope=row>seccm65</th><td> 2.596016e-01</td><td>3.556533e-01 </td><td> 0.72992874  </td><td>0.47149686   </td></tr>\n",
       "\t<tr><th scope=row>seccf65</th><td> 2.206524e-01</td><td>3.733333e-01 </td><td> 0.59103325  </td><td>0.55923950   </td></tr>\n",
       "\t<tr><th scope=row>syr65</th><td>-7.555806e-01</td><td>7.976763e+00 </td><td>-0.09472271  </td><td>0.92520971   </td></tr>\n",
       "\t<tr><th scope=row>syrm65</th><td> 3.109007e-01</td><td>3.896731e+00 </td><td> 0.07978500  </td><td>0.93697577   </td></tr>\n",
       "\t<tr><th scope=row>syrf65</th><td> 7.592810e-01</td><td>4.110634e+00 </td><td> 0.18471141  </td><td>0.85478678   </td></tr>\n",
       "\t<tr><th scope=row>teapri65</th><td> 3.954524e-05</td><td>7.700406e-04 </td><td> 0.05135474  </td><td>0.95940747   </td></tr>\n",
       "\t<tr><th scope=row>teasec65</th><td> 2.496674e-04</td><td>1.171230e-03 </td><td> 0.21316678  </td><td>0.83274136   </td></tr>\n",
       "\t<tr><th scope=row>ex1</th><td>-5.804081e-01</td><td>2.418472e-01 </td><td>-2.39989593  </td><td>0.02329485   </td></tr>\n",
       "\t<tr><th scope=row>im1</th><td> 5.914450e-01</td><td>2.502978e-01 </td><td> 2.36296558  </td><td>0.02530892   </td></tr>\n",
       "\t<tr><th scope=row>xr65</th><td>-1.037768e-04</td><td>5.416760e-05 </td><td>-1.91584652  </td><td>0.06564690   </td></tr>\n",
       "\t<tr><th scope=row>tot1</th><td>-1.279011e-01</td><td>1.125951e-01 </td><td>-1.13593842  </td><td>0.26561200   </td></tr>\n",
       "</tbody>\n",
       "</table>\n"
      ],
      "text/latex": [
       "\\begin{tabular}{r|llll}\n",
       "  & Estimate & Std. Error & t value & Pr(>\\textbar{}t\\textbar{})\\\\\n",
       "\\hline\n",
       "\t(Intercept) &  0.247160892 & 0.78450164   &  0.31505465  & 0.755056171 \\\\\n",
       "\tgdpsh465 & -0.009377989 & 0.02988773   & -0.31377391  & 0.756018519 \\\\\n",
       "\tintercept &          NaN &         NA   &         NaN  &         NaN \\\\\n",
       "\tbmp1l & -0.068862679 & 0.03253065   & -2.11685514  & 0.043289717 \\\\\n",
       "\tfreeop &  0.080068972 & 0.20786400   &  0.38519884  & 0.703000843 \\\\\n",
       "\tfreetar & -0.488962603 & 0.41816285   & -1.16931143  & 0.252136478 \\\\\n",
       "\th65 & -2.362098643 & 0.85729167   & -2.75530339  & 0.010192435 \\\\\n",
       "\thm65 &  0.707143403 & 0.52314511   &  1.35171561  & 0.187285917 \\\\\n",
       "\thf65 &  1.693448426 & 0.50318881   &  3.36543337  & 0.002232683 \\\\\n",
       "\tp65 &  0.265526696 & 0.16429407   &  1.61616729  & 0.117271228 \\\\\n",
       "\tpm65 &  0.136952625 & 0.15121749   &  0.90566656  & 0.372840116 \\\\\n",
       "\tpf65 & -0.331266947 & 0.16512299   & -2.00618302  & 0.054583867 \\\\\n",
       "\ts65 &  0.039079307 & 0.18552248   &  0.21064459  & 0.834690078 \\\\\n",
       "\tsm65 & -0.030668507 & 0.11679396   & -0.26258642  & 0.794791807 \\\\\n",
       "\tsf65 & -0.179917281 & 0.11809892   & -1.52344557  & 0.138863009 \\\\\n",
       "\tfert65 &  0.006880834 & 0.02705142   &  0.25436128  & 0.801075252 \\\\\n",
       "\tmort65 & -0.233454503 & 0.81742198   & -0.28559852  & 0.777287824 \\\\\n",
       "\tlifee065 & -0.014914472 & 0.19333559   & -0.07714292  & 0.939058460 \\\\\n",
       "\tgpop1 &  0.970184569 & 1.81220836   &  0.53536039  & 0.596627598 \\\\\n",
       "\tfert1 &  0.008838189 & 0.03504148   &  0.25222077  & 0.802712696 \\\\\n",
       "\tmort1 &  0.066562928 & 0.68481003   &  0.09719911  & 0.923260701 \\\\\n",
       "\tinvsh41 &  0.074461125 & 0.10844692   &  0.68661353  & 0.497973614 \\\\\n",
       "\tgeetot1 & -0.715104900 & 1.68013567   & -0.42562331  & 0.673636105 \\\\\n",
       "\tgeerec1 &  0.630004625 & 2.44737849   &  0.25742019  & 0.798736844 \\\\\n",
       "\tgde1 & -0.443575221 & 1.67120675   & -0.26542211  & 0.792628756 \\\\\n",
       "\tgovwb1 &  0.337452361 & 0.43798695   &  0.77046213  & 0.447478341 \\\\\n",
       "\tgovsh41 &  0.463174638 & 1.92543734   &  0.24055555  & 0.811652244 \\\\\n",
       "\tgvxdxe41 & -0.793381586 & 2.05939737   & -0.38524939  & 0.702963814 \\\\\n",
       "\thigh65 & -0.752483827 & 0.90572159   & -0.83081141  & 0.413108818 \\\\\n",
       "\thighm65 & -0.390261809 & 0.68124930   & -0.57286196  & 0.571310298 \\\\\n",
       "\t... & ... & ... & ... & ...\\\\\n",
       "\thighcf65 &  3.920771e-01 & 7.660246e-01  &  0.51183360   & 0.61278088   \\\\\n",
       "\thuman65 &  2.337269e+00 & 3.307269e+00  &  0.70670677   & 0.48558874   \\\\\n",
       "\thumanm65 & -1.209249e+00 & 1.618516e+00  & -0.74713473   & 0.46121073   \\\\\n",
       "\thumanf65 & -1.103947e+00 & 1.684693e+00  & -0.65528073   & 0.51763500   \\\\\n",
       "\thyr65 &  5.491388e+01 & 2.388729e+01  &  2.29887430   & 0.02918450   \\\\\n",
       "\thyrm65 &  1.293505e+01 & 2.317142e+01  &  0.55823279   & 0.58112223   \\\\\n",
       "\thyrf65 &  9.092580e+00 & 1.766958e+01  &  0.51458948   & 0.61087820   \\\\\n",
       "\tno65 &  3.720986e-02 & 1.319733e-01  &  0.28194992   & 0.78005543   \\\\\n",
       "\tnom65 & -2.119769e-02 & 6.495975e-02  & -0.32632031   & 0.74660862   \\\\\n",
       "\tnof65 & -1.685782e-02 & 6.700258e-02  & -0.25159952   & 0.80318812   \\\\\n",
       "\tpinstab1 & -4.997113e-02 & 3.092081e-02  & -1.61610018   & 0.11728579   \\\\\n",
       "\tpop65 &  1.031796e-07 & 1.317950e-07  &  0.78287929   & 0.44026959   \\\\\n",
       "\tworker65 &  3.407897e-02 & 1.561909e-01  &  0.21818786   & 0.82886515   \\\\\n",
       "\tpop1565 & -4.655346e-01 & 4.713340e-01  & -0.98769582   & 0.33176044   \\\\\n",
       "\tpop6565 & -1.357450e+00 & 6.349424e-01  & -2.13791049   & 0.04139326   \\\\\n",
       "\tsec65 & -1.089278e-02 & 3.076618e-01  & -0.03540505   & 0.97200796   \\\\\n",
       "\tsecm65 &  3.343663e-03 & 1.511923e-01  &  0.02211529   & 0.98251284   \\\\\n",
       "\tsecf65 & -2.304330e-03 & 1.579715e-01  & -0.01458699   & 0.98846512   \\\\\n",
       "\tsecc65 & -4.915284e-01 & 7.290408e-01  & -0.67421247   & 0.50570489   \\\\\n",
       "\tseccm65 &  2.596016e-01 & 3.556533e-01  &  0.72992874   & 0.47149686   \\\\\n",
       "\tseccf65 &  2.206524e-01 & 3.733333e-01  &  0.59103325   & 0.55923950   \\\\\n",
       "\tsyr65 & -7.555806e-01 & 7.976763e+00  & -0.09472271   & 0.92520971   \\\\\n",
       "\tsyrm65 &  3.109007e-01 & 3.896731e+00  &  0.07978500   & 0.93697577   \\\\\n",
       "\tsyrf65 &  7.592810e-01 & 4.110634e+00  &  0.18471141   & 0.85478678   \\\\\n",
       "\tteapri65 &  3.954524e-05 & 7.700406e-04  &  0.05135474   & 0.95940747   \\\\\n",
       "\tteasec65 &  2.496674e-04 & 1.171230e-03  &  0.21316678   & 0.83274136   \\\\\n",
       "\tex1 & -5.804081e-01 & 2.418472e-01  & -2.39989593   & 0.02329485   \\\\\n",
       "\tim1 &  5.914450e-01 & 2.502978e-01  &  2.36296558   & 0.02530892   \\\\\n",
       "\txr65 & -1.037768e-04 & 5.416760e-05  & -1.91584652   & 0.06564690   \\\\\n",
       "\ttot1 & -1.279011e-01 & 1.125951e-01  & -1.13593842   & 0.26561200   \\\\\n",
       "\\end{tabular}\n"
      ],
      "text/markdown": [
       "\n",
       "| <!--/--> | Estimate | Std. Error | t value | Pr(>|t|) |\n",
       "|---|---|---|---|---|\n",
       "| (Intercept) |  0.247160892 | 0.78450164   |  0.31505465  | 0.755056171  |\n",
       "| gdpsh465 | -0.009377989 | 0.02988773   | -0.31377391  | 0.756018519  |\n",
       "| intercept |          NaN |         NA   |         NaN  |         NaN  |\n",
       "| bmp1l | -0.068862679 | 0.03253065   | -2.11685514  | 0.043289717  |\n",
       "| freeop |  0.080068972 | 0.20786400   |  0.38519884  | 0.703000843  |\n",
       "| freetar | -0.488962603 | 0.41816285   | -1.16931143  | 0.252136478  |\n",
       "| h65 | -2.362098643 | 0.85729167   | -2.75530339  | 0.010192435  |\n",
       "| hm65 |  0.707143403 | 0.52314511   |  1.35171561  | 0.187285917  |\n",
       "| hf65 |  1.693448426 | 0.50318881   |  3.36543337  | 0.002232683  |\n",
       "| p65 |  0.265526696 | 0.16429407   |  1.61616729  | 0.117271228  |\n",
       "| pm65 |  0.136952625 | 0.15121749   |  0.90566656  | 0.372840116  |\n",
       "| pf65 | -0.331266947 | 0.16512299   | -2.00618302  | 0.054583867  |\n",
       "| s65 |  0.039079307 | 0.18552248   |  0.21064459  | 0.834690078  |\n",
       "| sm65 | -0.030668507 | 0.11679396   | -0.26258642  | 0.794791807  |\n",
       "| sf65 | -0.179917281 | 0.11809892   | -1.52344557  | 0.138863009  |\n",
       "| fert65 |  0.006880834 | 0.02705142   |  0.25436128  | 0.801075252  |\n",
       "| mort65 | -0.233454503 | 0.81742198   | -0.28559852  | 0.777287824  |\n",
       "| lifee065 | -0.014914472 | 0.19333559   | -0.07714292  | 0.939058460  |\n",
       "| gpop1 |  0.970184569 | 1.81220836   |  0.53536039  | 0.596627598  |\n",
       "| fert1 |  0.008838189 | 0.03504148   |  0.25222077  | 0.802712696  |\n",
       "| mort1 |  0.066562928 | 0.68481003   |  0.09719911  | 0.923260701  |\n",
       "| invsh41 |  0.074461125 | 0.10844692   |  0.68661353  | 0.497973614  |\n",
       "| geetot1 | -0.715104900 | 1.68013567   | -0.42562331  | 0.673636105  |\n",
       "| geerec1 |  0.630004625 | 2.44737849   |  0.25742019  | 0.798736844  |\n",
       "| gde1 | -0.443575221 | 1.67120675   | -0.26542211  | 0.792628756  |\n",
       "| govwb1 |  0.337452361 | 0.43798695   |  0.77046213  | 0.447478341  |\n",
       "| govsh41 |  0.463174638 | 1.92543734   |  0.24055555  | 0.811652244  |\n",
       "| gvxdxe41 | -0.793381586 | 2.05939737   | -0.38524939  | 0.702963814  |\n",
       "| high65 | -0.752483827 | 0.90572159   | -0.83081141  | 0.413108818  |\n",
       "| highm65 | -0.390261809 | 0.68124930   | -0.57286196  | 0.571310298  |\n",
       "| ... | ... | ... | ... | ... |\n",
       "| highcf65 |  3.920771e-01 | 7.660246e-01  |  0.51183360   | 0.61278088    |\n",
       "| human65 |  2.337269e+00 | 3.307269e+00  |  0.70670677   | 0.48558874    |\n",
       "| humanm65 | -1.209249e+00 | 1.618516e+00  | -0.74713473   | 0.46121073    |\n",
       "| humanf65 | -1.103947e+00 | 1.684693e+00  | -0.65528073   | 0.51763500    |\n",
       "| hyr65 |  5.491388e+01 | 2.388729e+01  |  2.29887430   | 0.02918450    |\n",
       "| hyrm65 |  1.293505e+01 | 2.317142e+01  |  0.55823279   | 0.58112223    |\n",
       "| hyrf65 |  9.092580e+00 | 1.766958e+01  |  0.51458948   | 0.61087820    |\n",
       "| no65 |  3.720986e-02 | 1.319733e-01  |  0.28194992   | 0.78005543    |\n",
       "| nom65 | -2.119769e-02 | 6.495975e-02  | -0.32632031   | 0.74660862    |\n",
       "| nof65 | -1.685782e-02 | 6.700258e-02  | -0.25159952   | 0.80318812    |\n",
       "| pinstab1 | -4.997113e-02 | 3.092081e-02  | -1.61610018   | 0.11728579    |\n",
       "| pop65 |  1.031796e-07 | 1.317950e-07  |  0.78287929   | 0.44026959    |\n",
       "| worker65 |  3.407897e-02 | 1.561909e-01  |  0.21818786   | 0.82886515    |\n",
       "| pop1565 | -4.655346e-01 | 4.713340e-01  | -0.98769582   | 0.33176044    |\n",
       "| pop6565 | -1.357450e+00 | 6.349424e-01  | -2.13791049   | 0.04139326    |\n",
       "| sec65 | -1.089278e-02 | 3.076618e-01  | -0.03540505   | 0.97200796    |\n",
       "| secm65 |  3.343663e-03 | 1.511923e-01  |  0.02211529   | 0.98251284    |\n",
       "| secf65 | -2.304330e-03 | 1.579715e-01  | -0.01458699   | 0.98846512    |\n",
       "| secc65 | -4.915284e-01 | 7.290408e-01  | -0.67421247   | 0.50570489    |\n",
       "| seccm65 |  2.596016e-01 | 3.556533e-01  |  0.72992874   | 0.47149686    |\n",
       "| seccf65 |  2.206524e-01 | 3.733333e-01  |  0.59103325   | 0.55923950    |\n",
       "| syr65 | -7.555806e-01 | 7.976763e+00  | -0.09472271   | 0.92520971    |\n",
       "| syrm65 |  3.109007e-01 | 3.896731e+00  |  0.07978500   | 0.93697577    |\n",
       "| syrf65 |  7.592810e-01 | 4.110634e+00  |  0.18471141   | 0.85478678    |\n",
       "| teapri65 |  3.954524e-05 | 7.700406e-04  |  0.05135474   | 0.95940747    |\n",
       "| teasec65 |  2.496674e-04 | 1.171230e-03  |  0.21316678   | 0.83274136    |\n",
       "| ex1 | -5.804081e-01 | 2.418472e-01  | -2.39989593   | 0.02329485    |\n",
       "| im1 |  5.914450e-01 | 2.502978e-01  |  2.36296558   | 0.02530892    |\n",
       "| xr65 | -1.037768e-04 | 5.416760e-05  | -1.91584652   | 0.06564690    |\n",
       "| tot1 | -1.279011e-01 | 1.125951e-01  | -1.13593842   | 0.26561200    |\n",
       "\n"
      ],
      "text/plain": [
       "            Estimate      Std. Error   t value     Pr(>|t|)   \n",
       "(Intercept)  0.247160892  0.78450164    0.31505465 0.755056171\n",
       "gdpsh465    -0.009377989  0.02988773   -0.31377391 0.756018519\n",
       "intercept            NaN          NA           NaN         NaN\n",
       "bmp1l       -0.068862679  0.03253065   -2.11685514 0.043289717\n",
       "freeop       0.080068972  0.20786400    0.38519884 0.703000843\n",
       "freetar     -0.488962603  0.41816285   -1.16931143 0.252136478\n",
       "h65         -2.362098643  0.85729167   -2.75530339 0.010192435\n",
       "hm65         0.707143403  0.52314511    1.35171561 0.187285917\n",
       "hf65         1.693448426  0.50318881    3.36543337 0.002232683\n",
       "p65          0.265526696  0.16429407    1.61616729 0.117271228\n",
       "pm65         0.136952625  0.15121749    0.90566656 0.372840116\n",
       "pf65        -0.331266947  0.16512299   -2.00618302 0.054583867\n",
       "s65          0.039079307  0.18552248    0.21064459 0.834690078\n",
       "sm65        -0.030668507  0.11679396   -0.26258642 0.794791807\n",
       "sf65        -0.179917281  0.11809892   -1.52344557 0.138863009\n",
       "fert65       0.006880834  0.02705142    0.25436128 0.801075252\n",
       "mort65      -0.233454503  0.81742198   -0.28559852 0.777287824\n",
       "lifee065    -0.014914472  0.19333559   -0.07714292 0.939058460\n",
       "gpop1        0.970184569  1.81220836    0.53536039 0.596627598\n",
       "fert1        0.008838189  0.03504148    0.25222077 0.802712696\n",
       "mort1        0.066562928  0.68481003    0.09719911 0.923260701\n",
       "invsh41      0.074461125  0.10844692    0.68661353 0.497973614\n",
       "geetot1     -0.715104900  1.68013567   -0.42562331 0.673636105\n",
       "geerec1      0.630004625  2.44737849    0.25742019 0.798736844\n",
       "gde1        -0.443575221  1.67120675   -0.26542211 0.792628756\n",
       "govwb1       0.337452361  0.43798695    0.77046213 0.447478341\n",
       "govsh41      0.463174638  1.92543734    0.24055555 0.811652244\n",
       "gvxdxe41    -0.793381586  2.05939737   -0.38524939 0.702963814\n",
       "high65      -0.752483827  0.90572159   -0.83081141 0.413108818\n",
       "highm65     -0.390261809  0.68124930   -0.57286196 0.571310298\n",
       "...         ...           ...          ...         ...        \n",
       "highcf65     3.920771e-01 7.660246e-01  0.51183360 0.61278088 \n",
       "human65      2.337269e+00 3.307269e+00  0.70670677 0.48558874 \n",
       "humanm65    -1.209249e+00 1.618516e+00 -0.74713473 0.46121073 \n",
       "humanf65    -1.103947e+00 1.684693e+00 -0.65528073 0.51763500 \n",
       "hyr65        5.491388e+01 2.388729e+01  2.29887430 0.02918450 \n",
       "hyrm65       1.293505e+01 2.317142e+01  0.55823279 0.58112223 \n",
       "hyrf65       9.092580e+00 1.766958e+01  0.51458948 0.61087820 \n",
       "no65         3.720986e-02 1.319733e-01  0.28194992 0.78005543 \n",
       "nom65       -2.119769e-02 6.495975e-02 -0.32632031 0.74660862 \n",
       "nof65       -1.685782e-02 6.700258e-02 -0.25159952 0.80318812 \n",
       "pinstab1    -4.997113e-02 3.092081e-02 -1.61610018 0.11728579 \n",
       "pop65        1.031796e-07 1.317950e-07  0.78287929 0.44026959 \n",
       "worker65     3.407897e-02 1.561909e-01  0.21818786 0.82886515 \n",
       "pop1565     -4.655346e-01 4.713340e-01 -0.98769582 0.33176044 \n",
       "pop6565     -1.357450e+00 6.349424e-01 -2.13791049 0.04139326 \n",
       "sec65       -1.089278e-02 3.076618e-01 -0.03540505 0.97200796 \n",
       "secm65       3.343663e-03 1.511923e-01  0.02211529 0.98251284 \n",
       "secf65      -2.304330e-03 1.579715e-01 -0.01458699 0.98846512 \n",
       "secc65      -4.915284e-01 7.290408e-01 -0.67421247 0.50570489 \n",
       "seccm65      2.596016e-01 3.556533e-01  0.72992874 0.47149686 \n",
       "seccf65      2.206524e-01 3.733333e-01  0.59103325 0.55923950 \n",
       "syr65       -7.555806e-01 7.976763e+00 -0.09472271 0.92520971 \n",
       "syrm65       3.109007e-01 3.896731e+00  0.07978500 0.93697577 \n",
       "syrf65       7.592810e-01 4.110634e+00  0.18471141 0.85478678 \n",
       "teapri65     3.954524e-05 7.700406e-04  0.05135474 0.95940747 \n",
       "teasec65     2.496674e-04 1.171230e-03  0.21316678 0.83274136 \n",
       "ex1         -5.804081e-01 2.418472e-01 -2.39989593 0.02329485 \n",
       "im1          5.914450e-01 2.502978e-01  2.36296558 0.02530892 \n",
       "xr65        -1.037768e-04 5.416760e-05 -1.91584652 0.06564690 \n",
       "tot1        -1.279011e-01 1.125951e-01 -1.13593842 0.26561200 "
      ]
     },
     "metadata": {},
     "output_type": "display_data"
    }
   ],
   "source": [
    "summary(control.ols)$coef"
   ]
  },
  {
   "cell_type": "markdown",
   "id": "e89e4275",
   "metadata": {
    "papermill": {
     "duration": 0.039309,
     "end_time": "2021-02-13T17:30:40.858783",
     "exception": false,
     "start_time": "2021-02-13T17:30:40.819474",
     "status": "completed"
    },
    "tags": []
   },
   "source": [
    "After controlling for a rich set of characteristics, the point estimate of gun ownership reduces to -$0.009$."
   ]
  },
  {
   "cell_type": "markdown",
   "id": "0bf43450",
   "metadata": {
    "papermill": {
     "duration": 0.022083,
     "end_time": "2021-02-13T17:30:40.902070",
     "exception": false,
     "start_time": "2021-02-13T17:30:40.879987",
     "status": "completed"
    },
    "tags": []
   },
   "source": [
    "# DML algorithm\n",
    "\n",
    "Here we perform inference of the predictive coefficient $\\beta$ in our partially linear statistical model, \n",
    "\n",
    "$$\n",
    "Y = D\\beta + g(Z) + \\epsilon, \\quad E (\\epsilon | D, Z) = 0,\n",
    "$$\n",
    "\n",
    "using the **double machine learning** approach. \n",
    "\n",
    "For $\\tilde Y = Y- E(Y|Z)$ and $\\tilde D= D- E(D|Z)$, we can write\n",
    "$$\n",
    "\\tilde Y = \\alpha \\tilde D + \\epsilon, \\quad E (\\epsilon |\\tilde D) =0.\n",
    "$$\n",
    "\n",
    "Using cross-fitting, we employ modern regression methods\n",
    "to build estimators $\\hat \\ell(Z)$ and $\\hat m(Z)$ of $\\ell(Z):=E(Y|Z)$ and $m(Z):=E(D|Z)$ to obtain the estimates of the residualized quantities:\n",
    "\n",
    "$$\n",
    "\\tilde Y_i = Y_i  - \\hat \\ell (Z_i),   \\quad \\tilde D_i = D_i - \\hat m(Z_i), \\quad \\text{ for each } i = 1,\\dots,n.\n",
    "$$\n",
    "\n",
    "Finally, using ordinary least squares of $\\tilde Y_i$ on $\\tilde D_i$, we obtain the \n",
    "estimate of $\\beta$."
   ]
  },
  {
   "cell_type": "markdown",
   "id": "40e4a338",
   "metadata": {
    "papermill": {
     "duration": 0.021101,
     "end_time": "2021-02-13T17:30:40.944373",
     "exception": false,
     "start_time": "2021-02-13T17:30:40.923272",
     "status": "completed"
    },
    "tags": []
   },
   "source": [
    "The following algorithm comsumes $Y, D, Z$, and a machine learning method for learning the residuals $\\tilde Y$ and $\\tilde D$, where the residuals are obtained by cross-validation (cross-fitting). Then, it prints the estimated coefficient $\\beta$ and the corresponding standard error from the final OLS regression."
   ]
  },
  {
   "cell_type": "code",
   "execution_count": 55,
   "id": "ca300abf",
   "metadata": {
    "execution": {
     "iopub.execute_input": "2021-02-13T17:30:41.049917Z",
     "iopub.status.busy": "2021-02-13T17:30:41.048343Z",
     "iopub.status.idle": "2021-02-13T17:30:41.060452Z",
     "shell.execute_reply": "2021-02-13T17:30:41.059555Z"
    },
    "papermill": {
     "duration": 0.095479,
     "end_time": "2021-02-13T17:30:41.060587",
     "exception": false,
     "start_time": "2021-02-13T17:30:40.965108",
     "status": "completed"
    },
    "tags": []
   },
   "outputs": [],
   "source": [
    "DML2.for.PLM <- function(z, d, y, dreg, yreg, nfold=2) {\n",
    "  nobs <- nrow(z) #number of observations\n",
    "  foldid <- rep.int(1:nfold,times = ceiling(nobs/nfold))[sample.int(nobs)] #define folds indices\n",
    "  I <- split(1:nobs, foldid)  #split observation indices into folds  \n",
    "  ytil <- dtil <- rep(NA, nobs)\n",
    "  cat(\"fold: \")\n",
    "  for(b in 1:length(I)){\n",
    "    dfit <- dreg(z[-I[[b]],], d[-I[[b]]]) #take a fold out\n",
    "    yfit <- yreg(z[-I[[b]],], y[-I[[b]]]) # take a foldt out\n",
    "    dhat <- predict(dfit, z[I[[b]],], type=\"response\") #predict the left-out fold \n",
    "    yhat <- predict(yfit, z[I[[b]],], type=\"response\") #predict the left-out fold  \n",
    "    dtil[I[[b]]] <- (d[I[[b]]] - dhat) #record residual for the left-out fold\n",
    "    ytil[I[[b]]] <- (y[I[[b]]] - yhat) #record residial for the left-out fold\n",
    "    cat(b,\" \")\n",
    "        }\n",
    "  #rfit <- lm(ytil ~ dtil)    #estimate the main parameter by regressing one residual on the other\n",
    "  data <- data.frame(cbind(ytil, dtil))\n",
    "  rfit <- felm(ytil ~ dtil,data=data) \n",
    "  coef.est <- coef(rfit)[2]  #extract coefficient\n",
    "  #HC <- vcovHC(rfit)\n",
    "  se    <- summary(rfit,robust=T)$coefficients[2,2] #record robust standard error by County\n",
    "  cat(sprintf(\"\\ncoef (se) = %g (%g)\\n\", coef.est , se))  #printing output\n",
    "  return( list(coef.est =coef.est , se=se, dtil=dtil, ytil=ytil, rfit=rfit) ) #save output and residuals \n",
    "}"
   ]
  },
  {
   "cell_type": "markdown",
   "id": "103e508e",
   "metadata": {
    "papermill": {
     "duration": 0.020604,
     "end_time": "2021-02-13T17:30:41.102146",
     "exception": false,
     "start_time": "2021-02-13T17:30:41.081542",
     "status": "completed"
    },
    "tags": []
   },
   "source": [
    "Now, we apply the Double Machine Learning (DML) approach with different machine learning methods. First, we load the relevant libraries."
   ]
  },
  {
   "cell_type": "code",
   "execution_count": 42,
   "id": "43ea7008",
   "metadata": {
    "execution": {
     "iopub.execute_input": "2021-02-13T17:30:41.148547Z",
     "iopub.status.busy": "2021-02-13T17:30:41.147436Z",
     "iopub.status.idle": "2021-02-13T17:30:41.609900Z",
     "shell.execute_reply": "2021-02-13T17:30:41.609227Z"
    },
    "papermill": {
     "duration": 0.486944,
     "end_time": "2021-02-13T17:30:41.610047",
     "exception": false,
     "start_time": "2021-02-13T17:30:41.123103",
     "status": "completed"
    },
    "tags": []
   },
   "outputs": [],
   "source": [
    "library(hdm)\n",
    "library(glmnet)\n",
    "library(sandwich)\n",
    "library(randomForest)"
   ]
  },
  {
   "cell_type": "markdown",
   "id": "1d573f4b",
   "metadata": {
    "papermill": {
     "duration": 0.022531,
     "end_time": "2021-02-13T17:30:41.655799",
     "exception": false,
     "start_time": "2021-02-13T17:30:41.633268",
     "status": "completed"
    },
    "tags": []
   },
   "source": [
    "Let us, construct the input matrices."
   ]
  },
  {
   "cell_type": "code",
   "execution_count": 43,
   "id": "8588bda4",
   "metadata": {
    "execution": {
     "iopub.execute_input": "2021-02-13T17:30:41.706539Z",
     "iopub.status.busy": "2021-02-13T17:30:41.705289Z",
     "iopub.status.idle": "2021-02-13T17:30:41.750368Z",
     "shell.execute_reply": "2021-02-13T17:30:41.749361Z"
    },
    "papermill": {
     "duration": 0.071827,
     "end_time": "2021-02-13T17:30:41.750537",
     "exception": false,
     "start_time": "2021-02-13T17:30:41.678710",
     "status": "completed"
    },
    "tags": []
   },
   "outputs": [
    {
     "data": {
      "text/html": [
       "<table>\n",
       "<thead><tr><th scope=col>Outcome</th><th scope=col>gdpsh465</th></tr></thead>\n",
       "<tbody>\n",
       "\t<tr><td>-0.02433575</td><td>6.591674   </td></tr>\n",
       "\t<tr><td> 0.10047257</td><td>6.829794   </td></tr>\n",
       "\t<tr><td> 0.06705148</td><td>8.895082   </td></tr>\n",
       "\t<tr><td> 0.06408917</td><td>7.565275   </td></tr>\n",
       "\t<tr><td> 0.02792955</td><td>7.162397   </td></tr>\n",
       "\t<tr><td> 0.04640744</td><td>7.218910   </td></tr>\n",
       "</tbody>\n",
       "</table>\n"
      ],
      "text/latex": [
       "\\begin{tabular}{r|ll}\n",
       " Outcome & gdpsh465\\\\\n",
       "\\hline\n",
       "\t -0.02433575 & 6.591674   \\\\\n",
       "\t  0.10047257 & 6.829794   \\\\\n",
       "\t  0.06705148 & 8.895082   \\\\\n",
       "\t  0.06408917 & 7.565275   \\\\\n",
       "\t  0.02792955 & 7.162397   \\\\\n",
       "\t  0.04640744 & 7.218910   \\\\\n",
       "\\end{tabular}\n"
      ],
      "text/markdown": [
       "\n",
       "| Outcome | gdpsh465 |\n",
       "|---|---|\n",
       "| -0.02433575 | 6.591674    |\n",
       "|  0.10047257 | 6.829794    |\n",
       "|  0.06705148 | 8.895082    |\n",
       "|  0.06408917 | 7.565275    |\n",
       "|  0.02792955 | 7.162397    |\n",
       "|  0.04640744 | 7.218910    |\n",
       "\n"
      ],
      "text/plain": [
       "  Outcome     gdpsh465\n",
       "1 -0.02433575 6.591674\n",
       "2  0.10047257 6.829794\n",
       "3  0.06705148 8.895082\n",
       "4  0.06408917 7.565275\n",
       "5  0.02792955 7.162397\n",
       "6  0.04640744 7.218910"
      ]
     },
     "metadata": {},
     "output_type": "display_data"
    }
   ],
   "source": [
    "y <- as.matrix(Y)\n",
    "d <- as.matrix(D)\n",
    "z <- as.matrix(Z)\n",
    "head(data.frame(cbind(y,d)))"
   ]
  },
  {
   "cell_type": "markdown",
   "id": "8fddf7bc",
   "metadata": {
    "papermill": {
     "duration": 0.022813,
     "end_time": "2021-02-13T17:30:41.796577",
     "exception": false,
     "start_time": "2021-02-13T17:30:41.773764",
     "status": "completed"
    },
    "tags": []
   },
   "source": [
    "In the following, we apply the DML approach with the differnt versions of lasso.\n"
   ]
  },
  {
   "cell_type": "markdown",
   "id": "c67f99fb",
   "metadata": {
    "papermill": {
     "duration": 0.02306,
     "end_time": "2021-02-13T17:30:41.843131",
     "exception": false,
     "start_time": "2021-02-13T17:30:41.820071",
     "status": "completed"
    },
    "tags": []
   },
   "source": [
    "## Lasso"
   ]
  },
  {
   "cell_type": "code",
   "execution_count": 56,
   "id": "e59160aa",
   "metadata": {
    "execution": {
     "iopub.execute_input": "2021-02-13T17:30:41.892634Z",
     "iopub.status.busy": "2021-02-13T17:30:41.891453Z",
     "iopub.status.idle": "2021-02-13T17:31:07.362797Z",
     "shell.execute_reply": "2021-02-13T17:31:07.360728Z"
    },
    "papermill": {
     "duration": 25.497739,
     "end_time": "2021-02-13T17:31:07.363059",
     "exception": false,
     "start_time": "2021-02-13T17:30:41.865320",
     "status": "completed"
    },
    "tags": []
   },
   "outputs": [],
   "source": [
    "#DML with Lasso:\n",
    "set.seed(123)\n",
    "dreg <- function(z,d){ rlasso(z,d, post=FALSE) } #ML method= lasso from hdm \n",
    "yreg <- function(z,y){ rlasso(z,y, post=FALSE) } #ML method = lasso from hdm"
   ]
  },
  {
   "cell_type": "code",
   "execution_count": 57,
   "id": "af6c3ef7",
   "metadata": {
    "execution": {
     "iopub.execute_input": "2021-02-13T17:30:41.892634Z",
     "iopub.status.busy": "2021-02-13T17:30:41.891453Z",
     "iopub.status.idle": "2021-02-13T17:31:07.362797Z",
     "shell.execute_reply": "2021-02-13T17:31:07.360728Z"
    },
    "papermill": {
     "duration": 25.497739,
     "end_time": "2021-02-13T17:31:07.363059",
     "exception": false,
     "start_time": "2021-02-13T17:30:41.865320",
     "status": "completed"
    },
    "tags": []
   },
   "outputs": [
    {
     "name": "stdout",
     "output_type": "stream",
     "text": [
      "fold: 1  2  3  4  5  6  7  8  9  10  \n",
      "coef (se) = -0.0369952 (0.0161759)\n"
     ]
    }
   ],
   "source": [
    "DML2.lasso = DML2.for.PLM(z, d, y, dreg, yreg, nfold=10)"
   ]
  },
  {
   "cell_type": "code",
   "execution_count": 58,
   "id": "aca90ae5",
   "metadata": {
    "execution": {
     "iopub.execute_input": "2021-02-13T17:31:07.450047Z",
     "iopub.status.busy": "2021-02-13T17:31:07.449335Z",
     "iopub.status.idle": "2021-02-13T17:31:33.296006Z",
     "shell.execute_reply": "2021-02-13T17:31:33.294119Z"
    },
    "papermill": {
     "duration": 25.88845,
     "end_time": "2021-02-13T17:31:33.296252",
     "exception": false,
     "start_time": "2021-02-13T17:31:07.407802",
     "status": "completed"
    },
    "tags": []
   },
   "outputs": [
    {
     "name": "stdout",
     "output_type": "stream",
     "text": [
      "fold: 1  2  3  4  5  6  7  8  9  10  \n",
      "coef (se) = -0.0368285 (0.0141174)\n"
     ]
    }
   ],
   "source": [
    "#DML with Post-Lasso:\n",
    "dreg <- function(z,d){ rlasso(z,d, post=T) } #ML method= lasso from hdm \n",
    "yreg <- function(z,y){ rlasso(z,y, post=T) } #ML method = lasso from hdm\n",
    "DML2.post = DML2.for.PLM(z, d, y, dreg, yreg, nfold=10)"
   ]
  },
  {
   "cell_type": "code",
   "execution_count": 60,
   "id": "3437580b",
   "metadata": {
    "execution": {
     "iopub.execute_input": "2021-02-13T17:31:33.387359Z",
     "iopub.status.busy": "2021-02-13T17:31:33.386570Z",
     "iopub.status.idle": "2021-02-13T17:35:07.561791Z",
     "shell.execute_reply": "2021-02-13T17:35:07.562608Z"
    },
    "papermill": {
     "duration": 214.221131,
     "end_time": "2021-02-13T17:35:07.562866",
     "exception": false,
     "start_time": "2021-02-13T17:31:33.341735",
     "status": "completed"
    },
    "tags": []
   },
   "outputs": [
    {
     "name": "stdout",
     "output_type": "stream",
     "text": [
      "fold: 1  2  3  4  5  6  7  8  9  10  \n",
      "coef (se) = -0.034646 (0.015148)\n",
      "fold: 1  2  3  4  5  6  7  8  9  10  \n",
      "coef (se) = -0.0327301 (0.0169996)\n",
      "fold: 1  2  3  4  5  6  7  8  9  10  \n",
      "coef (se) = -0.032822 (0.0166835)\n"
     ]
    }
   ],
   "source": [
    "#DML with cross-validated Lasso:\n",
    "dreg <- function(z,d){ cv.glmnet(z,d,family=\"gaussian\", alpha=1) }#ML method = lasso from glmnet \n",
    "yreg <- function(z,y){ cv.glmnet(z,y,family=\"gaussian\", alpha=1) }  #ML method = lasso from glmnet \n",
    "DML2.lasso.cv = DML2.for.PLM(z, d, y, dreg, yreg, nfold=10)\n",
    "\n",
    "dreg <- function(z,d){ cv.glmnet(z,d,family=\"gaussian\", alpha=0.5) } #ML method = elastic net from glmnet \n",
    "yreg <- function(z,y){ cv.glmnet(z,y,family=\"gaussian\", alpha=0.5) }  #ML method = elastic net from glmnet \n",
    "DML2.elnet = DML2.for.PLM(z, d, y, dreg, yreg, nfold=10)\n",
    "\n",
    "dreg <- function(z,d){ cv.glmnet(z,d,family=\"gaussian\", alpha=0) } #ML method = ridge from glmnet \n",
    "yreg <- function(z,y){ cv.glmnet(z,y,family=\"gaussian\", alpha=0) }  #ML method = ridge from glmnet \n",
    "DML2.ridge = DML2.for.PLM(z, d, y, dreg, yreg, nfold=10)"
   ]
  },
  {
   "cell_type": "markdown",
   "id": "28db5243",
   "metadata": {},
   "source": [
    "Here we also compute DML with OLS used as the ML method"
   ]
  },
  {
   "cell_type": "code",
   "execution_count": 61,
   "id": "80a8b24c",
   "metadata": {},
   "outputs": [
    {
     "name": "stdout",
     "output_type": "stream",
     "text": [
      "fold: 1  2  3  4  5  6  7  8  9  10  \n",
      "coef (se) = 0.0182241 (0.0178608)\n"
     ]
    }
   ],
   "source": [
    "dreg <- function(z,d){  glmnet(z,d,family=\"gaussian\", lambda=0) } #ML method = ols from glmnet \n",
    "yreg <- function(z,y){  glmnet(z,y,family=\"gaussian\", lambda=0) }  #ML method = ols from glmnet \n",
    "DML2.ols = DML2.for.PLM(z, d, y, dreg, yreg, nfold=10)"
   ]
  },
  {
   "cell_type": "markdown",
   "id": "127927fb",
   "metadata": {},
   "source": [
    "Next, we also apply Random Forest for comparison purposes."
   ]
  },
  {
   "cell_type": "markdown",
   "id": "d1f120d8",
   "metadata": {
    "papermill": {
     "duration": 0.025256,
     "end_time": "2021-02-13T17:35:14.266042",
     "exception": false,
     "start_time": "2021-02-13T17:35:14.240786",
     "status": "completed"
    },
    "tags": []
   },
   "source": [
    "### Random Forest\n"
   ]
  },
  {
   "cell_type": "code",
   "execution_count": 62,
   "id": "d1d3d13b",
   "metadata": {
    "execution": {
     "iopub.execute_input": "2021-02-13T17:35:14.320437Z",
     "iopub.status.busy": "2021-02-13T17:35:14.319294Z",
     "iopub.status.idle": "2021-02-13T17:40:48.550498Z",
     "shell.execute_reply": "2021-02-13T17:40:48.551323Z"
    },
    "papermill": {
     "duration": 334.261061,
     "end_time": "2021-02-13T17:40:48.551591",
     "exception": false,
     "start_time": "2021-02-13T17:35:14.290530",
     "status": "completed"
    },
    "scrolled": false,
    "tags": []
   },
   "outputs": [
    {
     "name": "stdout",
     "output_type": "stream",
     "text": [
      "fold: 1  2  \n",
      "coef (se) = -0.0298748 (0.0130213)\n"
     ]
    }
   ],
   "source": [
    "#DML with Random Forest:\n",
    "dreg <- function(z,d){ randomForest(z, d) } #ML method=Forest \n",
    "yreg <- function(z,y){ randomForest(z, y) } #ML method=Forest\n",
    "set.seed(1)\n",
    "DML2.RF = DML2.for.PLM(z, d, y, dreg, yreg, nfold=2) # set to 2 due to computation time"
   ]
  },
  {
   "cell_type": "code",
   "execution_count": 63,
   "id": "332c617a",
   "metadata": {},
   "outputs": [
    {
     "data": {
      "text/html": [
       "20"
      ],
      "text/latex": [
       "20"
      ],
      "text/markdown": [
       "20"
      ],
      "text/plain": [
       "[1] 20"
      ]
     },
     "metadata": {},
     "output_type": "display_data"
    }
   ],
   "source": [
    "if (!is.null(d) && !is.factor(d))\n",
    "             max(floor(ncol(z)/3), 1) else floor(sqrt(ncol(z)))"
   ]
  },
  {
   "cell_type": "code",
   "execution_count": 64,
   "id": "00a64ba1",
   "metadata": {},
   "outputs": [
    {
     "data": {
      "text/html": [
       "5"
      ],
      "text/latex": [
       "5"
      ],
      "text/markdown": [
       "5"
      ],
      "text/plain": [
       "[1] 5"
      ]
     },
     "metadata": {},
     "output_type": "display_data"
    }
   ],
   "source": [
    "if (!is.null(d) && !is.factor(d)) 5 else 1"
   ]
  },
  {
   "cell_type": "markdown",
   "id": "e257d59c",
   "metadata": {
    "papermill": {
     "duration": 0.024871,
     "end_time": "2021-02-13T17:40:48.605021",
     "exception": false,
     "start_time": "2021-02-13T17:40:48.580150",
     "status": "completed"
    },
    "tags": []
   },
   "source": [
    "We conclude that the initial wealth levels are related to groeth rates - if initial wealth levels increases by 1% relative\n",
    "to a trend then the predicted growth rate goes down by about -2.9% controlling for countries' characteristics."
   ]
  },
  {
   "cell_type": "markdown",
   "id": "c7a9f72f",
   "metadata": {
    "papermill": {
     "duration": 0.027238,
     "end_time": "2021-02-13T17:40:48.657096",
     "exception": false,
     "start_time": "2021-02-13T17:40:48.629858",
     "status": "completed"
    },
    "tags": []
   },
   "source": [
    "Finally, let's see which method is actually better. We compute RMSE for predicting D and Y, and see which\n",
    "of the methods works better.\n"
   ]
  },
  {
   "cell_type": "code",
   "execution_count": 65,
   "id": "5941d211",
   "metadata": {
    "execution": {
     "iopub.execute_input": "2021-02-13T17:40:48.735660Z",
     "iopub.status.busy": "2021-02-13T17:40:48.733563Z",
     "iopub.status.idle": "2021-02-13T17:40:48.775290Z",
     "shell.execute_reply": "2021-02-13T17:40:48.773348Z"
    },
    "papermill": {
     "duration": 0.087953,
     "end_time": "2021-02-13T17:40:48.775469",
     "exception": false,
     "start_time": "2021-02-13T17:40:48.687516",
     "status": "completed"
    },
    "tags": []
   },
   "outputs": [
    {
     "name": "stdout",
     "output_type": "stream",
     "text": [
      "              OLS       Lasso  Post-Lasso    CV Lasso    CV Ridge   CV Elnet\n",
      "RMSE D 0.00403776 0.000826522 0.000333837 0.000436594 3.50298e-05 0.00164062\n",
      "RMSE Y 0.01183033 0.012439662 0.000541272 0.016454812 1.31240e-03 0.00108917\n",
      "               RF\n",
      "RMSE D 0.00105521\n",
      "RMSE Y 0.03301785\n"
     ]
    }
   ],
   "source": [
    "mods<- list(DML2.ols, DML2.lasso, DML2.post, DML2.lasso.cv, DML2.ridge, DML2.elnet, DML2.RF)\n",
    "\n",
    "RMSE.mdl<- function(mdl) {\n",
    "RMSEY <- sqrt(mean(mdl$ytil)^2) \n",
    "RMSED <- sqrt(mean(mdl$dtil)^2) \n",
    "return( list(RMSEY=RMSEY, RMSED=RMSED))\n",
    "}\n",
    "\n",
    "#RMSE.mdl(DML2.lasso)\n",
    "\n",
    "#DML2.lasso$ytil\n",
    "\n",
    "Res<- lapply(mods, RMSE.mdl)\n",
    "\n",
    "\n",
    "prRes.Y<- c( Res[[1]]$RMSEY,Res[[2]]$RMSEY, Res[[3]]$RMSEY, Res[[4]]$RMSEY, Res[[5]]$RMSEY,  Res[[6]]$RMSEY, Res[[7]]$RMSEY)\n",
    "prRes.D<- c( Res[[1]]$RMSED,Res[[2]]$RMSED, Res[[3]]$RMSED, Res[[4]]$RMSED, Res[[5]]$RMSED, Res[[6]]$RMSED, Res[[7]]$RMSED)\n",
    "\n",
    "prRes<- rbind(prRes.Y, prRes.D); \n",
    "rownames(prRes)<- c(\"RMSE D\", \"RMSE Y\");\n",
    "colnames(prRes)<- c(\"OLS\", \"Lasso\", \"Post-Lasso\", \"CV Lasso\", \"CV Ridge\", \"CV Elnet\", \"RF\")\n",
    "print(prRes,digit=6)"
   ]
  },
  {
   "cell_type": "markdown",
   "id": "a8ddea35",
   "metadata": {
    "papermill": {
     "duration": 0.027155,
     "end_time": "2021-02-13T17:40:48.832101",
     "exception": false,
     "start_time": "2021-02-13T17:40:48.804946",
     "status": "completed"
    },
    "tags": []
   },
   "source": [
    "It looks like the best method for predicting D is CV Ridge, and the best method for predicting Y is Post-Lasso.\n"
   ]
  },
  {
   "cell_type": "code",
   "execution_count": 66,
   "id": "ae6f8da0",
   "metadata": {
    "execution": {
     "iopub.execute_input": "2021-02-13T17:40:48.887079Z",
     "iopub.status.busy": "2021-02-13T17:40:48.885820Z",
     "iopub.status.idle": "2021-02-13T17:41:18.806979Z",
     "shell.execute_reply": "2021-02-13T17:41:18.805624Z"
    },
    "papermill": {
     "duration": 29.950099,
     "end_time": "2021-02-13T17:41:18.807192",
     "exception": false,
     "start_time": "2021-02-13T17:40:48.857093",
     "status": "completed"
    },
    "tags": []
   },
   "outputs": [
    {
     "name": "stdout",
     "output_type": "stream",
     "text": [
      "fold: 1  2  3  4  5  6  7  8  9  10  \n",
      "coef (se) = -0.0425124 (0.0156761)\n"
     ]
    }
   ],
   "source": [
    "dreg <- function(z,d){ cv.glmnet(z,d,family=\"gaussian\", alpha=0) } #ML method = ridge from glmnet  \n",
    "yreg <- function(z,y){ rlasso(z,y, post=T) } #ML method = lasso from hdm\n",
    "DML2.best= DML2.for.PLM(z, d, y, dreg, yreg, nfold=10)"
   ]
  },
  {
   "cell_type": "markdown",
   "id": "e0a10c86",
   "metadata": {
    "papermill": {
     "duration": 0.034891,
     "end_time": "2021-02-13T17:41:18.892429",
     "exception": false,
     "start_time": "2021-02-13T17:41:18.857538",
     "status": "completed"
    },
    "tags": []
   },
   "source": [
    "Let's organize the results in a table."
   ]
  },
  {
   "cell_type": "code",
   "execution_count": 68,
   "id": "6f23e385",
   "metadata": {},
   "outputs": [
    {
     "data": {
      "text/html": [
       "<dl class=dl-horizontal>\n",
       "\t<dt>Estimate</dt>\n",
       "\t\t<dd>0.00131671261344604</dd>\n",
       "\t<dt>Std. Error</dt>\n",
       "\t\t<dd>0.00610220014253542</dd>\n",
       "\t<dt>t value</dt>\n",
       "\t\t<dd>0.215776700647343</dd>\n",
       "\t<dt>Pr(&gt;|t|)</dt>\n",
       "\t\t<dd>0.829661164776393</dd>\n",
       "</dl>\n"
      ],
      "text/latex": [
       "\\begin{description*}\n",
       "\\item[Estimate] 0.00131671261344604\n",
       "\\item[Std. Error] 0.00610220014253542\n",
       "\\item[t value] 0.215776700647343\n",
       "\\item[Pr(>\\textbackslash{}textbar\\{\\}t\\textbackslash{}textbar\\{\\})] 0.829661164776393\n",
       "\\end{description*}\n"
      ],
      "text/markdown": [
       "Estimate\n",
       ":   0.00131671261344604Std. Error\n",
       ":   0.00610220014253542t value\n",
       ":   0.215776700647343Pr(&amp;gt;|t|)\n",
       ":   0.829661164776393\n",
       "\n"
      ],
      "text/plain": [
       "   Estimate  Std. Error     t value    Pr(>|t|) \n",
       "0.001316713 0.006102200 0.215776701 0.829661165 "
      ]
     },
     "metadata": {},
     "output_type": "display_data"
    }
   ],
   "source": [
    "est_baseline"
   ]
  },
  {
   "cell_type": "code",
   "execution_count": 69,
   "id": "178d48d7",
   "metadata": {
    "execution": {
     "iopub.execute_input": "2021-02-13T17:41:18.948154Z",
     "iopub.status.busy": "2021-02-13T17:41:18.946908Z",
     "iopub.status.idle": "2021-02-13T17:41:19.006359Z",
     "shell.execute_reply": "2021-02-13T17:41:19.005308Z"
    },
    "papermill": {
     "duration": 0.088669,
     "end_time": "2021-02-13T17:41:19.006521",
     "exception": false,
     "start_time": "2021-02-13T17:41:18.917852",
     "status": "completed"
    },
    "tags": []
   },
   "outputs": [
    {
     "data": {
      "text/html": [
       "<table>\n",
       "<thead><tr><th></th><th scope=col>Estimate</th><th scope=col>Standard Error</th></tr></thead>\n",
       "<tbody>\n",
       "\t<tr><th scope=row>Baseline OLS</th><td> 0.001316713</td><td>0.00610220  </td></tr>\n",
       "\t<tr><th scope=row>Least Squares with controls</th><td>-0.009377989</td><td>0.02988773  </td></tr>\n",
       "\t<tr><th scope=row>Lasso</th><td>-0.036995153</td><td>0.01617587  </td></tr>\n",
       "\t<tr><th scope=row>Post-Lasso</th><td>-0.036828539</td><td>0.01411740  </td></tr>\n",
       "\t<tr><th scope=row>CV Lasso</th><td>-0.034646049</td><td>0.01514796  </td></tr>\n",
       "\t<tr><th scope=row>CV Elnet</th><td>-0.032730133</td><td>0.01699957  </td></tr>\n",
       "\t<tr><th scope=row>CV Ridge</th><td>-0.032821972</td><td>0.01668353  </td></tr>\n",
       "\t<tr><th scope=row>Random Forest</th><td>-0.029874780</td><td>0.01302127  </td></tr>\n",
       "\t<tr><th scope=row>Best</th><td>-0.042512406</td><td>0.01567607  </td></tr>\n",
       "</tbody>\n",
       "</table>\n"
      ],
      "text/latex": [
       "\\begin{tabular}{r|ll}\n",
       "  & Estimate & Standard Error\\\\\n",
       "\\hline\n",
       "\tBaseline OLS &  0.001316713 & 0.00610220  \\\\\n",
       "\tLeast Squares with controls & -0.009377989 & 0.02988773  \\\\\n",
       "\tLasso & -0.036995153 & 0.01617587  \\\\\n",
       "\tPost-Lasso & -0.036828539 & 0.01411740  \\\\\n",
       "\tCV Lasso & -0.034646049 & 0.01514796  \\\\\n",
       "\tCV Elnet & -0.032730133 & 0.01699957  \\\\\n",
       "\tCV Ridge & -0.032821972 & 0.01668353  \\\\\n",
       "\tRandom Forest & -0.029874780 & 0.01302127  \\\\\n",
       "\tBest & -0.042512406 & 0.01567607  \\\\\n",
       "\\end{tabular}\n"
      ],
      "text/markdown": [
       "\n",
       "| <!--/--> | Estimate | Standard Error |\n",
       "|---|---|---|\n",
       "| Baseline OLS |  0.001316713 | 0.00610220   |\n",
       "| Least Squares with controls | -0.009377989 | 0.02988773   |\n",
       "| Lasso | -0.036995153 | 0.01617587   |\n",
       "| Post-Lasso | -0.036828539 | 0.01411740   |\n",
       "| CV Lasso | -0.034646049 | 0.01514796   |\n",
       "| CV Elnet | -0.032730133 | 0.01699957   |\n",
       "| CV Ridge | -0.032821972 | 0.01668353   |\n",
       "| Random Forest | -0.029874780 | 0.01302127   |\n",
       "| Best | -0.042512406 | 0.01567607   |\n",
       "\n"
      ],
      "text/plain": [
       "                            Estimate     Standard Error\n",
       "Baseline OLS                 0.001316713 0.00610220    \n",
       "Least Squares with controls -0.009377989 0.02988773    \n",
       "Lasso                       -0.036995153 0.01617587    \n",
       "Post-Lasso                  -0.036828539 0.01411740    \n",
       "CV Lasso                    -0.034646049 0.01514796    \n",
       "CV Elnet                    -0.032730133 0.01699957    \n",
       "CV Ridge                    -0.032821972 0.01668353    \n",
       "Random Forest               -0.029874780 0.01302127    \n",
       "Best                        -0.042512406 0.01567607    "
      ]
     },
     "metadata": {},
     "output_type": "display_data"
    }
   ],
   "source": [
    "library(xtable)\n",
    "\n",
    "table <- matrix(0,9,2)\n",
    "table[1,1] <- as.numeric(est_baseline[1])\n",
    "table[2,1] <- as.numeric(est_ols[1])\n",
    "table[3,1]   <- as.numeric(DML2.lasso$coef.est)\n",
    "table[4,1]   <- as.numeric(DML2.post$coef.est)\n",
    "table[5,1]  <-as.numeric(DML2.lasso.cv$coef.est)\n",
    "table[6,1] <-as.numeric(DML2.elnet$coef.est)\n",
    "table[7,1] <-as.numeric(DML2.ridge$coef.est)\n",
    "table[8,1] <-as.numeric(DML2.RF$coef.est)\n",
    "table[9,1] <-as.numeric(DML2.best$coef.est)\n",
    "table[1,2] <- as.numeric(est_baseline[2])\n",
    "table[2,2] <- as.numeric(est_ols[2])\n",
    "table[3,2]   <- as.numeric(DML2.lasso$se)\n",
    "table[4,2]   <- as.numeric(DML2.post$se)\n",
    "table[5,2]  <-as.numeric(DML2.lasso.cv$se)\n",
    "table[6,2] <-as.numeric(DML2.elnet$se)\n",
    "table[7,2] <-as.numeric(DML2.ridge$se)\n",
    "table[8,2] <-as.numeric(DML2.RF$se)\n",
    "table[9,2] <-as.numeric(DML2.best$se)\n",
    "\n",
    "\n",
    "\n",
    "\n",
    "################################# Print Results #################################\n",
    "\n",
    "colnames(table) <- c(\"Estimate\",\"Standard Error\")\n",
    "rownames(table) <- c(\"Baseline OLS\", \"Least Squares with controls\", \"Lasso\", \"Post-Lasso\", \"CV Lasso\",\"CV Elnet\", \"CV Ridge\", \"Random Forest\", \n",
    "                     \"Best\")\n",
    "\n",
    "table"
   ]
  },
  {
   "cell_type": "code",
   "execution_count": 70,
   "id": "c3ec6305",
   "metadata": {
    "execution": {
     "iopub.execute_input": "2021-02-13T17:41:19.063047Z",
     "iopub.status.busy": "2021-02-13T17:41:19.062074Z",
     "iopub.status.idle": "2021-02-13T17:41:19.075566Z",
     "shell.execute_reply": "2021-02-13T17:41:19.074278Z"
    },
    "papermill": {
     "duration": 0.043017,
     "end_time": "2021-02-13T17:41:19.075707",
     "exception": false,
     "start_time": "2021-02-13T17:41:19.032690",
     "status": "completed"
    },
    "tags": []
   },
   "outputs": [
    {
     "name": "stdout",
     "output_type": "stream",
     "text": [
      "                            Estimate Standard Error\n",
      "Baseline OLS                 0.00132         0.0061\n",
      "Least Squares with controls -0.00938         0.0299\n",
      "Lasso                       -0.03700         0.0162\n",
      "Post-Lasso                  -0.03683         0.0141\n",
      "CV Lasso                    -0.03465         0.0151\n",
      "CV Elnet                    -0.03273         0.0170\n",
      "CV Ridge                    -0.03282         0.0167\n",
      "Random Forest               -0.02987         0.0130\n",
      "Best                        -0.04251         0.0157\n"
     ]
    }
   ],
   "source": [
    "print(table, digit=3)\n"
   ]
  },
  {
   "cell_type": "code",
   "execution_count": 71,
   "id": "4c743488",
   "metadata": {
    "execution": {
     "iopub.execute_input": "2021-02-13T17:41:19.135002Z",
     "iopub.status.busy": "2021-02-13T17:41:19.134319Z",
     "iopub.status.idle": "2021-02-13T17:41:19.154458Z",
     "shell.execute_reply": "2021-02-13T17:41:19.152712Z"
    },
    "papermill": {
     "duration": 0.052331,
     "end_time": "2021-02-13T17:41:19.154690",
     "exception": false,
     "start_time": "2021-02-13T17:41:19.102359",
     "status": "completed"
    },
    "tags": []
   },
   "outputs": [
    {
     "name": "stdout",
     "output_type": "stream",
     "text": [
      "% latex table generated in R 3.6.1 by xtable 1.8-4 package\n",
      "% Sat Nov 27 20:32:43 2021\n",
      "\\begin{table}[ht]\n",
      "\\centering\n",
      "\\begin{tabular}{rrr}\n",
      "  \\hline\n",
      " & Estimate & Standard Error \\\\ \n",
      "  \\hline\n",
      "Baseline OLS & 0.001 & 0.006 \\\\ \n",
      "  Least Squares with controls & -0.009 & 0.030 \\\\ \n",
      "  Lasso & -0.037 & 0.016 \\\\ \n",
      "  Post-Lasso & -0.037 & 0.014 \\\\ \n",
      "  CV Lasso & -0.035 & 0.015 \\\\ \n",
      "  CV Elnet & -0.033 & 0.017 \\\\ \n",
      "  CV Ridge & -0.033 & 0.017 \\\\ \n",
      "  Random Forest & -0.030 & 0.013 \\\\ \n",
      "  Best & -0.043 & 0.016 \\\\ \n",
      "   \\hline\n",
      "\\end{tabular}\n",
      "\\end{table}\n"
     ]
    }
   ],
   "source": [
    "tab<- xtable(table, digits=3)\n",
    "print(tab, type=\"latex\")"
   ]
  },
  {
   "cell_type": "code",
   "execution_count": null,
   "id": "519f1f5e",
   "metadata": {},
   "outputs": [],
   "source": []
  }
 ],
 "metadata": {
  "kernelspec": {
   "display_name": "R",
   "language": "R",
   "name": "ir"
  },
  "language_info": {
   "codemirror_mode": "r",
   "file_extension": ".r",
   "mimetype": "text/x-r-source",
   "name": "R",
   "pygments_lexer": "r",
   "version": "3.6.1"
  }
 },
 "nbformat": 4,
 "nbformat_minor": 5
}
