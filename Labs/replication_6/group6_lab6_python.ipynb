{
 "cells": [
  {
   "cell_type": "markdown",
   "id": "c29dbe8b",
   "metadata": {},
   "source": [
    "# Group Work 6\n",
    "## Group 6:\n",
    "- Claudia Vivas\n",
    "- Eljaer Eusebio\n",
    "- Andre Tapia\n",
    "- Luis Sandoval"
   ]
  },
  {
   "cell_type": "markdown",
   "id": "956c0f34",
   "metadata": {},
   "source": [
    "## INTRODUCTION"
   ]
  },
  {
   "cell_type": "markdown",
   "id": "cb416c8d",
   "metadata": {},
   "source": [
    "We provide an additional empirical example of partialling-out with Lasso to estimate the regression coefficient $\\beta_1$ in the high-dimensional linear regression model:\n",
    "  $$\n",
    "  Y = \\beta_1 D +  \\beta_2'W + \\epsilon.\n",
    "  $$\n",
    "  \n",
    "Specifically, we are interested in how the rates  at which economies of different countries grow ($Y$) are related to the initial wealth levels in each country ($D$) controlling for country's institutional, educational, and other similar characteristics ($W$).\n",
    "  \n",
    "The relationship is captured by $\\beta_1$, the *speed of convergence/divergence*, which measures the speed at which poor countries catch up $(\\beta_1< 0)$ or fall behind $(\\beta_1> 0)$ rich countries, after controlling for $W$. Our inference question here is: do poor countries grow faster than rich countries, controlling for educational and other characteristics? In other words, is the speed of convergence negative: $ \\beta_1 <0?$ This is the Convergence Hypothesis predicted by the Solow Growth Model. This is a structural economic model. Under some strong assumptions, that we won't state here, the predictive exercise we are doing here can be given causal interpretation."
   ]
  },
  {
   "cell_type": "markdown",
   "id": "ab9cd573",
   "metadata": {},
   "source": [
    "The outcome $Y$ is the realized annual growth rate of a country's wealth  (Gross Domestic Product per capita). The target regressor ($D$) is the initial level of the country's wealth. The target parameter $\\beta_1$ is the speed of convergence, which measures the speed at which poor countries catch up with rich countries. The controls ($W$) include measures of education levels, quality of institutions, trade openness, and political stability in the country."
   ]
  },
  {
   "cell_type": "code",
   "execution_count": 1,
   "id": "2f706eb6",
   "metadata": {},
   "outputs": [],
   "source": [
    "# Import relevant packages\n",
    "import pandas as pd\n",
    "import numpy as np\n",
    "import pyreadr\n",
    "from sklearn import preprocessing\n",
    "import patsy\n",
    "\n",
    "from numpy import loadtxt\n",
    "\n",
    "import hdmpy\n",
    "import numpy as np\n",
    "import random\n",
    "import statsmodels.api as sm\n",
    "import matplotlib.pyplot as plt\n",
    "import numpy as np\n",
    "from matplotlib import colors\n",
    "from sklearn.metrics import mean_squared_error\n",
    "from math import sqrt"
   ]
  },
  {
   "cell_type": "code",
   "execution_count": 2,
   "id": "3a7ab265",
   "metadata": {},
   "outputs": [],
   "source": [
    "from sklearn.linear_model import LassoCV\n",
    "from sklearn.preprocessing import StandardScaler\n",
    "from sklearn.linear_model import RidgeCV, ElasticNetCV\n",
    "from sklearn.linear_model import LinearRegression\n",
    "from sklearn import linear_model\n",
    "import itertools\n",
    "from pandas.api.types import is_string_dtype\n",
    "from pandas.api.types import is_numeric_dtype\n",
    "from pandas.api.types import is_categorical_dtype\n",
    "from itertools import compress\n",
    "import statsmodels.api as sm\n",
    "import statsmodels.formula.api as smf\n",
    "from sklearn.feature_selection import SelectFromModel"
   ]
  },
  {
   "cell_type": "code",
   "execution_count": 3,
   "id": "6e60ea4d",
   "metadata": {},
   "outputs": [
    {
     "data": {
      "text/plain": [
       "['Outcome',\n",
       " 'intercept',\n",
       " 'gdpsh465',\n",
       " 'bmp1l',\n",
       " 'freeop',\n",
       " 'freetar',\n",
       " 'h65',\n",
       " 'hm65',\n",
       " 'hf65',\n",
       " 'p65',\n",
       " 'pm65',\n",
       " 'pf65',\n",
       " 's65',\n",
       " 'sm65',\n",
       " 'sf65',\n",
       " 'fert65',\n",
       " 'mort65',\n",
       " 'lifee065',\n",
       " 'gpop1',\n",
       " 'fert1',\n",
       " 'mort1',\n",
       " 'invsh41',\n",
       " 'geetot1',\n",
       " 'geerec1',\n",
       " 'gde1',\n",
       " 'govwb1',\n",
       " 'govsh41',\n",
       " 'gvxdxe41',\n",
       " 'high65',\n",
       " 'highm65',\n",
       " 'highf65',\n",
       " 'highc65',\n",
       " 'highcm65',\n",
       " 'highcf65',\n",
       " 'human65',\n",
       " 'humanm65',\n",
       " 'humanf65',\n",
       " 'hyr65',\n",
       " 'hyrm65',\n",
       " 'hyrf65',\n",
       " 'no65',\n",
       " 'nom65',\n",
       " 'nof65',\n",
       " 'pinstab1',\n",
       " 'pop65',\n",
       " 'worker65',\n",
       " 'pop1565',\n",
       " 'pop6565',\n",
       " 'sec65',\n",
       " 'secm65',\n",
       " 'secf65',\n",
       " 'secc65',\n",
       " 'seccm65',\n",
       " 'seccf65',\n",
       " 'syr65',\n",
       " 'syrm65',\n",
       " 'syrf65',\n",
       " 'teapri65',\n",
       " 'teasec65',\n",
       " 'ex1',\n",
       " 'im1',\n",
       " 'xr65',\n",
       " 'tot1']"
      ]
     },
     "execution_count": 3,
     "metadata": {},
     "output_type": "execute_result"
    }
   ],
   "source": [
    "# I downloaded the data that the author used\n",
    "growth_read = pyreadr.read_r(\"C:/Users/edfra/OneDrive/Documentos/GitHub/ECO224/Labs/data/GrowthData.RData\")\n",
    "\n",
    "# Extracting the data frame from rdata_read\n",
    "growth = growth_read[ 'GrowthData' ]\n",
    "list(growth)"
   ]
  },
  {
   "cell_type": "code",
   "execution_count": 4,
   "id": "7184ce49",
   "metadata": {},
   "outputs": [
    {
     "data": {
      "text/plain": [
       "(90, 63)"
      ]
     },
     "execution_count": 4,
     "metadata": {},
     "output_type": "execute_result"
    }
   ],
   "source": [
    "growth.shape"
   ]
  },
  {
   "cell_type": "code",
   "execution_count": 5,
   "id": "8d10cb5f",
   "metadata": {},
   "outputs": [],
   "source": [
    "# Create main variables\n",
    "Y = growth['Outcome']\n",
    "W = growth.drop(['Outcome','intercept', 'gdpsh465'], 1 )\n",
    "D = growth['gdpsh465']"
   ]
  },
  {
   "cell_type": "markdown",
   "id": "184c7114",
   "metadata": {},
   "source": [
    "## OLS without controlling countries features"
   ]
  },
  {
   "cell_type": "code",
   "execution_count": 6,
   "id": "1607dd37",
   "metadata": {},
   "outputs": [],
   "source": [
    "import statsmodels.api as sm\n",
    "import statsmodels.formula.api as smf"
   ]
  },
  {
   "cell_type": "code",
   "execution_count": 7,
   "id": "8104f065",
   "metadata": {},
   "outputs": [
    {
     "name": "stdout",
     "output_type": "stream",
     "text": [
      "                                 OLS Regression Results                                \n",
      "=======================================================================================\n",
      "Dep. Variable:                Outcome   R-squared (uncentered):                   0.438\n",
      "Model:                            OLS   Adj. R-squared (uncentered):              0.432\n",
      "Method:                 Least Squares   F-statistic:                              69.38\n",
      "Date:                Sat, 27 Nov 2021   Prob (F-statistic):                    9.13e-13\n",
      "Time:                        12:53:36   Log-Likelihood:                          139.82\n",
      "No. Observations:                  90   AIC:                                     -277.6\n",
      "Df Residuals:                      89   BIC:                                     -275.1\n",
      "Df Model:                           1                                                  \n",
      "Covariance Type:            nonrobust                                                  \n",
      "==============================================================================\n",
      "                 coef    std err          t      P>|t|      [0.025      0.975]\n",
      "------------------------------------------------------------------------------\n",
      "gdpsh465       0.0058      0.001      8.330      0.000       0.004       0.007\n",
      "==============================================================================\n",
      "Omnibus:                        2.956   Durbin-Watson:                   1.448\n",
      "Prob(Omnibus):                  0.228   Jarque-Bera (JB):                2.607\n",
      "Skew:                          -0.165   Prob(JB):                        0.272\n",
      "Kurtosis:                       3.766   Cond. No.                         1.00\n",
      "==============================================================================\n",
      "\n",
      "Notes:\n",
      "[1] R² is computed without centering (uncentered) since the model does not contain a constant.\n",
      "[2] Standard Errors assume that the covariance matrix of the errors is correctly specified.\n"
     ]
    }
   ],
   "source": [
    "reg_ols  = sm.OLS(Y, D).fit()\n",
    "print(reg_ols.summary())"
   ]
  },
  {
   "cell_type": "code",
   "execution_count": 8,
   "id": "43fa8c55",
   "metadata": {},
   "outputs": [
    {
     "name": "stdout",
     "output_type": "stream",
     "text": [
      "0     0.038409\n",
      "1     0.039797\n",
      "2     0.051831\n",
      "3     0.044082\n",
      "4     0.041735\n",
      "        ...   \n",
      "85    0.052390\n",
      "86    0.046762\n",
      "87    0.052618\n",
      "88    0.051658\n",
      "89    0.051932\n",
      "Length: 90, dtype: float64\n"
     ]
    }
   ],
   "source": [
    "modelPred = reg_ols.predict(D)\n",
    "print(modelPred)"
   ]
  },
  {
   "cell_type": "code",
   "execution_count": 9,
   "id": "79cbe726",
   "metadata": {},
   "outputs": [
    {
     "name": "stdout",
     "output_type": "stream",
     "text": [
      "0    -0.000142\n",
      "1     0.000585\n",
      "2     0.000391\n",
      "3     0.000373\n",
      "4     0.000163\n",
      "        ...   \n",
      "85    0.000182\n",
      "86    0.000199\n",
      "87    0.000273\n",
      "88    0.000232\n",
      "89    0.000237\n",
      "Length: 90, dtype: float64\n"
     ]
    }
   ],
   "source": [
    "modelPred_1 = reg_ols.predict(Y)\n",
    "print(modelPred_1)"
   ]
  },
  {
   "cell_type": "code",
   "execution_count": 10,
   "id": "a783ea17",
   "metadata": {},
   "outputs": [
    {
     "name": "stdout",
     "output_type": "stream",
     "text": [
      "MSE: 0.004606308488854489\n",
      "RMSE: 0.06786979069405245\n"
     ]
    }
   ],
   "source": [
    "meanSquaredError_1=mean_squared_error(Y, modelPred_1)\n",
    "print(\"MSE:\", meanSquaredError_1)\n",
    "rootMeanSquaredError_1 = sqrt(meanSquaredError_1)\n",
    "print(\"RMSE:\", rootMeanSquaredError_1)"
   ]
  },
  {
   "cell_type": "code",
   "execution_count": 11,
   "id": "a372c715",
   "metadata": {},
   "outputs": [
    {
     "name": "stdout",
     "output_type": "stream",
     "text": [
      "MSE: 59.430289303277206\n",
      "RMSE: 7.7091043126473\n"
     ]
    }
   ],
   "source": [
    "meanSquaredError=mean_squared_error(D, modelPred)\n",
    "print(\"MSE:\", meanSquaredError)\n",
    "rootMeanSquaredError = sqrt(meanSquaredError)\n",
    "print(\"RMSE:\", rootMeanSquaredError)"
   ]
  },
  {
   "cell_type": "code",
   "execution_count": 12,
   "id": "95b68d51",
   "metadata": {},
   "outputs": [],
   "source": [
    "# output: estimated regression coefficient corresponding to the target regressor\n",
    "est_ols = reg_ols.summary2().tables[1]['Coef.']['gdpsh465']\n",
    "\n",
    "# output: std. error\n",
    "std_ols = reg_ols.summary2().tables[1]['Std.Err.']['gdpsh465']\n",
    "\n",
    "# output: 95% confidence interval\n",
    "lower_ci = reg_ols.summary2().tables[1]['[0.025']['gdpsh465']\n",
    "upper_ci = reg_ols.summary2().tables[1]['0.975]']['gdpsh465']"
   ]
  },
  {
   "cell_type": "code",
   "execution_count": 13,
   "id": "0a66c41d",
   "metadata": {},
   "outputs": [
    {
     "data": {
      "text/plain": [
       "'<table border=\"1\" class=\"dataframe\">\\n  <thead>\\n    <tr style=\"text-align: right;\">\\n      <th></th>\\n      <th>Estimator</th>\\n      <th>Std. Error</th>\\n      <th>lower bound CI</th>\\n      <th>upper bound CI</th>\\n    </tr>\\n  </thead>\\n  <tbody>\\n    <tr>\\n      <th>OLS</th>\\n      <td>0.005827</td>\\n      <td>0.0007</td>\\n      <td>0.004437</td>\\n      <td>0.007217</td>\\n    </tr>\\n  </tbody>\\n</table>'"
      ]
     },
     "execution_count": 13,
     "metadata": {},
     "output_type": "execute_result"
    }
   ],
   "source": [
    "table_1 = np.zeros( (1, 4) )\n",
    "\n",
    "table_1[0,0] = est_ols  \n",
    "table_1[0,1] = std_ols   \n",
    "table_1[0,2] = lower_ci\n",
    "table_1[0,3] = upper_ci    \n",
    "\n",
    "\n",
    "table_1_pandas = pd.DataFrame( table_1, columns = [ \"Estimator\",\"Std. Error\", \"lower bound CI\", \"upper bound CI\"  ])\n",
    "table_1_pandas.index = [ \"OLS\" ]\n",
    "table_1_html = table_1_pandas.to_html()\n",
    "table_1_html"
   ]
  },
  {
   "cell_type": "markdown",
   "id": "b74a0892",
   "metadata": {},
   "source": [
    "'<table border=\"1\" class=\"dataframe\">\\n  <thead>\\n    <tr style=\"text-align: right;\">\\n      <th></th>\\n      <th>Estimator</th>\\n      <th>Std. Error</th>\\n      <th>lower bound CI</th>\\n      <th>upper bound CI</th>\\n    </tr>\\n  </thead>\\n  <tbody>\\n    <tr>\\n      <th>OLS</th>\\n      <td>0.005827</td>\\n      <td>0.0007</td>\\n      <td>0.004437</td>\\n      <td>0.007217</td>\\n    </tr>\\n  </tbody>\\n</table>'"
   ]
  },
  {
   "cell_type": "code",
   "execution_count": 14,
   "id": "d2cad335",
   "metadata": {},
   "outputs": [],
   "source": [
    "model = \"Y ~ D + W\""
   ]
  },
  {
   "cell_type": "markdown",
   "id": "f21f99f8",
   "metadata": {},
   "source": [
    "## OLS controlling countries features"
   ]
  },
  {
   "cell_type": "code",
   "execution_count": null,
   "id": "09f93933",
   "metadata": {},
   "outputs": [],
   "source": [
    "control_ols = smf.ols( model , data=growth).fit()\n",
    "Y_predict=control_ols.predict('Y')\n",
    "D_predict=control_ols.predict('D')\n",
    "control_ols_table = control_ols.summary2().tables[1]\n",
    "print( control_ols_table.iloc[ 1 , 4:] )\n",
    "control_ols_table.iloc[1, :]"
   ]
  },
  {
   "cell_type": "code",
   "execution_count": 15,
   "id": "01c36bce",
   "metadata": {},
   "outputs": [],
   "source": [
    "# output: estimated regression coefficient corresponding to the target regressor\n",
    "est_control_ols = control_ols.summary2().tables[1]['Coef.']['D']\n",
    "\n",
    "# output: std. error\n",
    "std_control_ols = control_ols.summary2().tables[1]['Std.Err.']['D']\n",
    "\n",
    "# output: 95% confidence interval\n",
    "lower_control_ci = control_ols.summary2().tables[1]['[0.025']['D']\n",
    "upper_control_ci = control_ols.summary2().tables[1]['0.975]']['D']"
   ]
  },
  {
   "cell_type": "code",
   "execution_count": 16,
   "id": "9971b8a5",
   "metadata": {},
   "outputs": [
    {
     "name": "stdout",
     "output_type": "stream",
     "text": [
      "ERROR! Session/line number was not unique in database. History logging moved to new session 904\n"
     ]
    },
    {
     "data": {
      "text/plain": [
       "'<table border=\"1\" class=\"dataframe\">\\n  <thead>\\n    <tr style=\"text-align: right;\">\\n      <th></th>\\n      <th>Estimator</th>\\n      <th>Std. Error</th>\\n      <th>lower bound CI</th>\\n      <th>upper bound CI</th>\\n    </tr>\\n  </thead>\\n  <tbody>\\n    <tr>\\n      <th>OLS WITH CONTROL VARIABLES</th>\\n      <td>-0.009378</td>\\n      <td>0.029888</td>\\n      <td>-0.0706</td>\\n      <td>0.051844</td>\\n    </tr>\\n  </tbody>\\n</table>'"
      ]
     },
     "execution_count": 16,
     "metadata": {},
     "output_type": "execute_result"
    }
   ],
   "source": [
    "table_2 = np.zeros( (1, 4) )\n",
    "\n",
    "table_2[0,0] = est_control_ols  \n",
    "table_2[0,1] = std_control_ols   \n",
    "table_2[0,2] = lower_control_ci\n",
    "table_2[0,3] = upper_control_ci    \n",
    "\n",
    "\n",
    "table_2_pandas = pd.DataFrame( table_2, columns = [ \"Estimator\",\"Std. Error\", \"lower bound CI\", \"upper bound CI\"  ])\n",
    "table_2_pandas.index = [ \"OLS WITH CONTROL VARIABLES\" ]\n",
    "table_2_html = table_2_pandas.to_html()\n",
    "table_2_html"
   ]
  },
  {
   "cell_type": "markdown",
   "id": "31326698",
   "metadata": {},
   "source": [
    "'<table border=\"1\" class=\"dataframe\">\\n  <thead>\\n    <tr style=\"text-align: right;\">\\n      <th></th>\\n      <th>Estimator</th>\\n      <th>Std. Error</th>\\n      <th>lower bound CI</th>\\n      <th>upper bound CI</th>\\n    </tr>\\n  </thead>\\n  <tbody>\\n    <tr>\\n      <th>OLS WITH CONTROL VARIABLES</th>\\n      <td>-0.009378</td>\\n      <td>0.029888</td>\\n      <td>-0.0706</td>\\n      <td>0.051844</td>\\n    </tr>\\n  </tbody>\\n</table>'"
   ]
  },
  {
   "cell_type": "code",
   "execution_count": 17,
   "id": "b5a5370b",
   "metadata": {},
   "outputs": [
    {
     "data": {
      "text/html": [
       "<div>\n",
       "<style scoped>\n",
       "    .dataframe tbody tr th:only-of-type {\n",
       "        vertical-align: middle;\n",
       "    }\n",
       "\n",
       "    .dataframe tbody tr th {\n",
       "        vertical-align: top;\n",
       "    }\n",
       "\n",
       "    .dataframe thead th {\n",
       "        text-align: right;\n",
       "    }\n",
       "</style>\n",
       "<table border=\"1\" class=\"dataframe\">\n",
       "  <thead>\n",
       "    <tr style=\"text-align: right;\">\n",
       "      <th></th>\n",
       "      <th>Estimator</th>\n",
       "      <th>Std. Error</th>\n",
       "      <th>lower bound CI</th>\n",
       "      <th>upper bound CI</th>\n",
       "    </tr>\n",
       "  </thead>\n",
       "  <tbody>\n",
       "    <tr>\n",
       "      <th>OLS</th>\n",
       "      <td>0.005827</td>\n",
       "      <td>0.000700</td>\n",
       "      <td>0.004437</td>\n",
       "      <td>0.007217</td>\n",
       "    </tr>\n",
       "    <tr>\n",
       "      <th>OLS WITH CONTROL VARIABLES</th>\n",
       "      <td>-0.009378</td>\n",
       "      <td>0.029888</td>\n",
       "      <td>-0.070600</td>\n",
       "      <td>0.051844</td>\n",
       "    </tr>\n",
       "  </tbody>\n",
       "</table>\n",
       "</div>"
      ],
      "text/plain": [
       "                            Estimator  Std. Error  lower bound CI  \\\n",
       "OLS                          0.005827    0.000700        0.004437   \n",
       "OLS WITH CONTROL VARIABLES  -0.009378    0.029888       -0.070600   \n",
       "\n",
       "                            upper bound CI  \n",
       "OLS                               0.007217  \n",
       "OLS WITH CONTROL VARIABLES        0.051844  "
      ]
     },
     "execution_count": 17,
     "metadata": {},
     "output_type": "execute_result"
    }
   ],
   "source": [
    "table_3_pandas = table_1_pandas.append(table_2_pandas)\n",
    "table_3_pandas"
   ]
  },
  {
   "cell_type": "code",
   "execution_count": null,
   "id": "e390cf3f",
   "metadata": {},
   "outputs": [],
   "source": []
  },
  {
   "cell_type": "markdown",
   "id": "ded3915c",
   "metadata": {},
   "source": [
    "## DML algorithm"
   ]
  },
  {
   "cell_type": "code",
   "execution_count": 18,
   "id": "6a3f7be4",
   "metadata": {},
   "outputs": [],
   "source": [
    "def DML2_for_PLM(z, d, y, dreg, yreg, nfold):\n",
    "    \n",
    "    # Num ob observations\n",
    "    nobs = z.shape[0]\n",
    "    \n",
    "    # Define folds indices \n",
    "    list_1 = [*range(0, nfold, 1)]*nobs\n",
    "    sample = np.random.choice(nobs,nobs, replace=False).tolist()\n",
    "    foldid = [list_1[index] for index in sample]\n",
    "\n",
    "    # Create split function(similar to R)\n",
    "    def split(x, f):\n",
    "        count = max(f) + 1\n",
    "        return tuple( list(itertools.compress(x, (el == i for el in f))) for i in range(count) ) \n",
    "\n",
    "    # Split observation indices into folds \n",
    "    list_2 = [*range(0, nobs, 1)]\n",
    "    I = split(list_2, foldid)\n",
    "    \n",
    "    # Create array to save errors \n",
    "    dtil = np.zeros( len(z) ).reshape( len(z) , 1 )\n",
    "    ytil = np.zeros( len(z) ).reshape( len(z) , 1 )\n",
    "    \n",
    "    # loop to save results\n",
    "    for b in range(0,len(I)):\n",
    "    \n",
    "        # Split data - index to keep are in mask as booleans\n",
    "        include_idx = set(I[b])  #Here should go I[b] Set is more efficient, but doesn't reorder your elements if that is desireable\n",
    "        mask = np.array([(i in include_idx) for i in range(len(z))])\n",
    "\n",
    "        # Lasso regression, excluding folds selected \n",
    "        dfit = dreg(z[~mask,], d[~mask,])\n",
    "        yfit = yreg(z[~mask,], y[~mask,])\n",
    "\n",
    "        # predict estimates using the \n",
    "        dhat = dfit.predict( z[mask,] )\n",
    "        yhat = yfit.predict( z[mask,] )\n",
    "\n",
    "        # save errors  \n",
    "        dtil[mask] =  d[mask,] - dhat.reshape( len(I[b]) , 1 )\n",
    "        ytil[mask] = y[mask,] - yhat.reshape( len(I[b]) , 1 )\n",
    "        print(b, \" \")\n",
    "    \n",
    "    # Create dataframe \n",
    "    data_2 = pd.DataFrame(np.concatenate( ( ytil, dtil), axis = 1), columns = ['ytil','dtil'])\n",
    "   \n",
    "    # OLS\n",
    "    model = \"ytil ~ dtil\"\n",
    "    baseline_ols = smf.ols(model , data = data_2 ).fit()\n",
    "    coef_est = baseline_ols.summary2().tables[1]['Coef.']['dtil']\n",
    "    se = baseline_ols.summary2().tables[1]['Std.Err.']['dtil']\n",
    "    \n",
    "    Final_result = { 'coef_est' : coef_est , 'se' : se , 'dtil' : dtil , 'ytil' : ytil }\n",
    "\n",
    "    print(\"Coefficient is {}, SE is equal to {}\".format(coef_est, se))\n",
    "    \n",
    "    return Final_result\n",
    "    "
   ]
  },
  {
   "cell_type": "code",
   "execution_count": 19,
   "id": "312c54f8",
   "metadata": {},
   "outputs": [],
   "source": [
    "# Create main variables\n",
    "Y = growth['Outcome']\n",
    "Z = growth.drop(['Outcome','intercept', 'gdpsh465'], 1 )\n",
    "D = growth['gdpsh465']"
   ]
  },
  {
   "cell_type": "code",
   "execution_count": 20,
   "id": "001863e2",
   "metadata": {},
   "outputs": [],
   "source": [
    "# as matrix\n",
    "y = Y.to_numpy().reshape( len(Y) , 1 )\n",
    "d = D.to_numpy().reshape( len(Y) , 1 )\n",
    "z = Z.to_numpy()"
   ]
  },
  {
   "cell_type": "markdown",
   "id": "e0898368",
   "metadata": {},
   "source": [
    "## Lasso Using scikit-learn"
   ]
  },
  {
   "cell_type": "code",
   "execution_count": 21,
   "id": "91d783ed",
   "metadata": {},
   "outputs": [
    {
     "name": "stdout",
     "output_type": "stream",
     "text": [
      "0  \n",
      "1  \n",
      "2  \n",
      "3  \n",
      "4  \n",
      "5  \n",
      "6  \n",
      "7  \n",
      "8  \n",
      "9  \n",
      "Coefficient is 0.0217287076655043, SE is equal to 0.012128297447856248\n"
     ]
    },
    {
     "name": "stderr",
     "output_type": "stream",
     "text": [
      "C:\\Users\\edfra\\anaconda3\\lib\\site-packages\\sklearn\\linear_model\\_coordinate_descent.py:530: ConvergenceWarning: Objective did not converge. You might want to increase the number of iterations. Duality gap: 0.6919965143854218, tolerance: 0.006743098766859467\n",
      "  model = cd_fast.enet_coordinate_descent(\n",
      "C:\\Users\\edfra\\anaconda3\\lib\\site-packages\\sklearn\\linear_model\\_coordinate_descent.py:530: ConvergenceWarning: Objective did not converge. You might want to increase the number of iterations. Duality gap: 0.012663967050114687, tolerance: 2.2173975078871656e-05\n",
      "  model = cd_fast.enet_coordinate_descent(\n",
      "C:\\Users\\edfra\\anaconda3\\lib\\site-packages\\sklearn\\linear_model\\_coordinate_descent.py:530: ConvergenceWarning: Objective did not converge. You might want to increase the number of iterations. Duality gap: 0.6314758218971854, tolerance: 0.0060398497889589675\n",
      "  model = cd_fast.enet_coordinate_descent(\n",
      "C:\\Users\\edfra\\anaconda3\\lib\\site-packages\\sklearn\\linear_model\\_coordinate_descent.py:530: ConvergenceWarning: Objective did not converge. You might want to increase the number of iterations. Duality gap: 0.014583954903298075, tolerance: 2.0768468892918194e-05\n",
      "  model = cd_fast.enet_coordinate_descent(\n",
      "C:\\Users\\edfra\\anaconda3\\lib\\site-packages\\sklearn\\linear_model\\_coordinate_descent.py:530: ConvergenceWarning: Objective did not converge. You might want to increase the number of iterations. Duality gap: 0.6083576414189795, tolerance: 0.005971340284627477\n",
      "  model = cd_fast.enet_coordinate_descent(\n",
      "C:\\Users\\edfra\\anaconda3\\lib\\site-packages\\sklearn\\linear_model\\_coordinate_descent.py:530: ConvergenceWarning: Objective did not converge. You might want to increase the number of iterations. Duality gap: 0.013381761307108766, tolerance: 2.1538748802777206e-05\n",
      "  model = cd_fast.enet_coordinate_descent(\n",
      "C:\\Users\\edfra\\anaconda3\\lib\\site-packages\\sklearn\\linear_model\\_coordinate_descent.py:530: ConvergenceWarning: Objective did not converge. You might want to increase the number of iterations. Duality gap: 0.933183252745264, tolerance: 0.006512316900741397\n",
      "  model = cd_fast.enet_coordinate_descent(\n",
      "C:\\Users\\edfra\\anaconda3\\lib\\site-packages\\sklearn\\linear_model\\_coordinate_descent.py:530: ConvergenceWarning: Objective did not converge. You might want to increase the number of iterations. Duality gap: 0.013192194721469812, tolerance: 2.1023172563580726e-05\n",
      "  model = cd_fast.enet_coordinate_descent(\n",
      "C:\\Users\\edfra\\anaconda3\\lib\\site-packages\\sklearn\\linear_model\\_coordinate_descent.py:530: ConvergenceWarning: Objective did not converge. You might want to increase the number of iterations. Duality gap: 0.8787734471774722, tolerance: 0.0066424788269315235\n",
      "  model = cd_fast.enet_coordinate_descent(\n",
      "C:\\Users\\edfra\\anaconda3\\lib\\site-packages\\sklearn\\linear_model\\_coordinate_descent.py:530: ConvergenceWarning: Objective did not converge. You might want to increase the number of iterations. Duality gap: 0.014404974774112737, tolerance: 2.193252894383125e-05\n",
      "  model = cd_fast.enet_coordinate_descent(\n",
      "C:\\Users\\edfra\\anaconda3\\lib\\site-packages\\sklearn\\linear_model\\_coordinate_descent.py:530: ConvergenceWarning: Objective did not converge. You might want to increase the number of iterations. Duality gap: 0.8469362271200995, tolerance: 0.00669574604838511\n",
      "  model = cd_fast.enet_coordinate_descent(\n",
      "C:\\Users\\edfra\\anaconda3\\lib\\site-packages\\sklearn\\linear_model\\_coordinate_descent.py:530: ConvergenceWarning: Objective did not converge. You might want to increase the number of iterations. Duality gap: 0.014830227878778529, tolerance: 2.0338905402366833e-05\n",
      "  model = cd_fast.enet_coordinate_descent(\n",
      "C:\\Users\\edfra\\anaconda3\\lib\\site-packages\\sklearn\\linear_model\\_coordinate_descent.py:530: ConvergenceWarning: Objective did not converge. You might want to increase the number of iterations. Duality gap: 0.8454682954091393, tolerance: 0.006176620662632276\n",
      "  model = cd_fast.enet_coordinate_descent(\n",
      "C:\\Users\\edfra\\anaconda3\\lib\\site-packages\\sklearn\\linear_model\\_coordinate_descent.py:530: ConvergenceWarning: Objective did not converge. You might want to increase the number of iterations. Duality gap: 0.012800437577899516, tolerance: 1.853901319139103e-05\n",
      "  model = cd_fast.enet_coordinate_descent(\n",
      "C:\\Users\\edfra\\anaconda3\\lib\\site-packages\\sklearn\\linear_model\\_coordinate_descent.py:530: ConvergenceWarning: Objective did not converge. You might want to increase the number of iterations. Duality gap: 0.9011133125119645, tolerance: 0.006488961548964909\n",
      "  model = cd_fast.enet_coordinate_descent(\n",
      "C:\\Users\\edfra\\anaconda3\\lib\\site-packages\\sklearn\\linear_model\\_coordinate_descent.py:530: ConvergenceWarning: Objective did not converge. You might want to increase the number of iterations. Duality gap: 0.012853392517951248, tolerance: 2.046074445414436e-05\n",
      "  model = cd_fast.enet_coordinate_descent(\n",
      "C:\\Users\\edfra\\anaconda3\\lib\\site-packages\\sklearn\\linear_model\\_coordinate_descent.py:530: ConvergenceWarning: Objective did not converge. You might want to increase the number of iterations. Duality gap: 0.7147213519781176, tolerance: 0.0061248153363816765\n",
      "  model = cd_fast.enet_coordinate_descent(\n",
      "C:\\Users\\edfra\\anaconda3\\lib\\site-packages\\sklearn\\linear_model\\_coordinate_descent.py:530: ConvergenceWarning: Objective did not converge. You might want to increase the number of iterations. Duality gap: 0.013515782627126214, tolerance: 2.2675837417819234e-05\n",
      "  model = cd_fast.enet_coordinate_descent(\n",
      "C:\\Users\\edfra\\anaconda3\\lib\\site-packages\\sklearn\\linear_model\\_coordinate_descent.py:530: ConvergenceWarning: Objective did not converge. You might want to increase the number of iterations. Duality gap: 0.9700413260013949, tolerance: 0.006796524517421532\n",
      "  model = cd_fast.enet_coordinate_descent(\n",
      "C:\\Users\\edfra\\anaconda3\\lib\\site-packages\\sklearn\\linear_model\\_coordinate_descent.py:530: ConvergenceWarning: Objective did not converge. You might want to increase the number of iterations. Duality gap: 0.009452436400262164, tolerance: 2.100573633987377e-05\n",
      "  model = cd_fast.enet_coordinate_descent(\n"
     ]
    }
   ],
   "source": [
    "def dreg(z,d):\n",
    "    alpha=0.00000001\n",
    "    result = linear_model.Lasso(alpha = alpha).fit(z, d)\n",
    "    return result\n",
    "\n",
    "def yreg(z,y):\n",
    "    alpha=0.00000001\n",
    "    result = linear_model.Lasso(alpha = alpha).fit(z, y)\n",
    "    return result\n",
    "\n",
    "DML2_lasso = DML2_for_PLM(z, d, y, dreg, yreg, 10)"
   ]
  },
  {
   "cell_type": "markdown",
   "id": "f07fdf55",
   "metadata": {},
   "source": [
    "## Post - Lasso Using scikit-learn"
   ]
  },
  {
   "cell_type": "code",
   "execution_count": 22,
   "id": "f71e5ab4",
   "metadata": {},
   "outputs": [],
   "source": [
    "class Lasso_post:\n",
    "    \n",
    "    def __init__(self, alpha ):\n",
    "        self.alpha = alpha\n",
    "\n",
    "        \n",
    "    def fit( self, X, Y ):\n",
    "        self.X = X\n",
    "        self.Y = Y\n",
    "        lasso = linear_model.Lasso( alpha = self.alpha ).fit( X , Y )\n",
    "        model = SelectFromModel( lasso , prefit = True )\n",
    "        X_new = model.transform( X )\n",
    "        # Gettin indices from columns which has variance for regression\n",
    "        index_X = model.get_support()\n",
    "        \n",
    "        self.index = index_X\n",
    "        new_x = X[ : ,  index_X ]\n",
    "        \n",
    "        lasso2 = linear_model.Lasso( alpha = self.alpha ).fit( new_x , Y )\n",
    "        self.model = lasso2\n",
    "        \n",
    "        return self\n",
    "    \n",
    "    def predict( self , X ):\n",
    "        \n",
    "        dropped_X = X[ : , self.index ]\n",
    "        \n",
    "        predictions = self.model.predict( dropped_X )\n",
    "        \n",
    "        return predictions"
   ]
  },
  {
   "cell_type": "code",
   "execution_count": 23,
   "id": "fd3dd78e",
   "metadata": {},
   "outputs": [
    {
     "name": "stderr",
     "output_type": "stream",
     "text": [
      "C:\\Users\\edfra\\anaconda3\\lib\\site-packages\\sklearn\\linear_model\\_coordinate_descent.py:530: ConvergenceWarning: Objective did not converge. You might want to increase the number of iterations. Duality gap: 0.8726500504203516, tolerance: 0.006218272348523787\n",
      "  model = cd_fast.enet_coordinate_descent(\n",
      "C:\\Users\\edfra\\anaconda3\\lib\\site-packages\\sklearn\\linear_model\\_coordinate_descent.py:530: ConvergenceWarning: Objective did not converge. You might want to increase the number of iterations. Duality gap: 0.9143869049469882, tolerance: 0.006218272348523787\n",
      "  model = cd_fast.enet_coordinate_descent(\n",
      "C:\\Users\\edfra\\anaconda3\\lib\\site-packages\\sklearn\\linear_model\\_coordinate_descent.py:530: ConvergenceWarning: Objective did not converge. You might want to increase the number of iterations. Duality gap: 0.013500728704989943, tolerance: 2.1163833203880877e-05\n",
      "  model = cd_fast.enet_coordinate_descent(\n"
     ]
    },
    {
     "name": "stdout",
     "output_type": "stream",
     "text": [
      "0  \n",
      "1  \n",
      "2  \n"
     ]
    },
    {
     "name": "stderr",
     "output_type": "stream",
     "text": [
      "C:\\Users\\edfra\\anaconda3\\lib\\site-packages\\sklearn\\linear_model\\_coordinate_descent.py:530: ConvergenceWarning: Objective did not converge. You might want to increase the number of iterations. Duality gap: 0.013842118788721203, tolerance: 2.1163833203880877e-05\n",
      "  model = cd_fast.enet_coordinate_descent(\n",
      "C:\\Users\\edfra\\anaconda3\\lib\\site-packages\\sklearn\\linear_model\\_coordinate_descent.py:530: ConvergenceWarning: Objective did not converge. You might want to increase the number of iterations. Duality gap: 0.8169046968965679, tolerance: 0.006381486543206947\n",
      "  model = cd_fast.enet_coordinate_descent(\n",
      "C:\\Users\\edfra\\anaconda3\\lib\\site-packages\\sklearn\\linear_model\\_coordinate_descent.py:530: ConvergenceWarning: Objective did not converge. You might want to increase the number of iterations. Duality gap: 0.8153147118421357, tolerance: 0.006381486543206947\n",
      "  model = cd_fast.enet_coordinate_descent(\n",
      "C:\\Users\\edfra\\anaconda3\\lib\\site-packages\\sklearn\\linear_model\\_coordinate_descent.py:530: ConvergenceWarning: Objective did not converge. You might want to increase the number of iterations. Duality gap: 0.016474151806154445, tolerance: 2.2694317158706605e-05\n",
      "  model = cd_fast.enet_coordinate_descent(\n",
      "C:\\Users\\edfra\\anaconda3\\lib\\site-packages\\sklearn\\linear_model\\_coordinate_descent.py:530: ConvergenceWarning: Objective did not converge. You might want to increase the number of iterations. Duality gap: 0.016833104196699682, tolerance: 2.2694317158706605e-05\n",
      "  model = cd_fast.enet_coordinate_descent(\n",
      "C:\\Users\\edfra\\anaconda3\\lib\\site-packages\\sklearn\\linear_model\\_coordinate_descent.py:530: ConvergenceWarning: Objective did not converge. You might want to increase the number of iterations. Duality gap: 0.9018212400624817, tolerance: 0.006406976687479332\n",
      "  model = cd_fast.enet_coordinate_descent(\n",
      "C:\\Users\\edfra\\anaconda3\\lib\\site-packages\\sklearn\\linear_model\\_coordinate_descent.py:530: ConvergenceWarning: Objective did not converge. You might want to increase the number of iterations. Duality gap: 0.899739774566623, tolerance: 0.006406976687479332\n",
      "  model = cd_fast.enet_coordinate_descent(\n",
      "C:\\Users\\edfra\\anaconda3\\lib\\site-packages\\sklearn\\linear_model\\_coordinate_descent.py:530: ConvergenceWarning: Objective did not converge. You might want to increase the number of iterations. Duality gap: 0.014119381836516561, tolerance: 2.2927916942029656e-05\n",
      "  model = cd_fast.enet_coordinate_descent(\n",
      "C:\\Users\\edfra\\anaconda3\\lib\\site-packages\\sklearn\\linear_model\\_coordinate_descent.py:530: ConvergenceWarning: Objective did not converge. You might want to increase the number of iterations. Duality gap: 0.014234730142913836, tolerance: 2.2927916942029656e-05\n",
      "  model = cd_fast.enet_coordinate_descent(\n",
      "C:\\Users\\edfra\\anaconda3\\lib\\site-packages\\sklearn\\linear_model\\_coordinate_descent.py:530: ConvergenceWarning: Objective did not converge. You might want to increase the number of iterations. Duality gap: 0.8985026965830836, tolerance: 0.006436904070923086\n",
      "  model = cd_fast.enet_coordinate_descent(\n",
      "C:\\Users\\edfra\\anaconda3\\lib\\site-packages\\sklearn\\linear_model\\_coordinate_descent.py:530: ConvergenceWarning: Objective did not converge. You might want to increase the number of iterations. Duality gap: 0.9049216663151377, tolerance: 0.006436904070923086\n",
      "  model = cd_fast.enet_coordinate_descent(\n",
      "C:\\Users\\edfra\\anaconda3\\lib\\site-packages\\sklearn\\linear_model\\_coordinate_descent.py:530: ConvergenceWarning: Objective did not converge. You might want to increase the number of iterations. Duality gap: 0.013005131238748899, tolerance: 2.1343400773095736e-05\n",
      "  model = cd_fast.enet_coordinate_descent(\n",
      "C:\\Users\\edfra\\anaconda3\\lib\\site-packages\\sklearn\\linear_model\\_coordinate_descent.py:530: ConvergenceWarning: Objective did not converge. You might want to increase the number of iterations. Duality gap: 0.013308900358176627, tolerance: 2.1343400773095736e-05\n",
      "  model = cd_fast.enet_coordinate_descent(\n",
      "C:\\Users\\edfra\\anaconda3\\lib\\site-packages\\sklearn\\linear_model\\_coordinate_descent.py:530: ConvergenceWarning: Objective did not converge. You might want to increase the number of iterations. Duality gap: 0.846433386737037, tolerance: 0.00667379253019937\n",
      "  model = cd_fast.enet_coordinate_descent(\n",
      "C:\\Users\\edfra\\anaconda3\\lib\\site-packages\\sklearn\\linear_model\\_coordinate_descent.py:530: ConvergenceWarning: Objective did not converge. You might want to increase the number of iterations. Duality gap: 0.8780116008299702, tolerance: 0.00667379253019937\n",
      "  model = cd_fast.enet_coordinate_descent(\n",
      "C:\\Users\\edfra\\anaconda3\\lib\\site-packages\\sklearn\\linear_model\\_coordinate_descent.py:530: ConvergenceWarning: Objective did not converge. You might want to increase the number of iterations. Duality gap: 0.011473915365579058, tolerance: 2.0694384473546196e-05\n",
      "  model = cd_fast.enet_coordinate_descent(\n",
      "C:\\Users\\edfra\\anaconda3\\lib\\site-packages\\sklearn\\linear_model\\_coordinate_descent.py:530: ConvergenceWarning: Objective did not converge. You might want to increase the number of iterations. Duality gap: 0.012067535871911776, tolerance: 2.0694384473546196e-05\n",
      "  model = cd_fast.enet_coordinate_descent(\n",
      "C:\\Users\\edfra\\anaconda3\\lib\\site-packages\\sklearn\\linear_model\\_coordinate_descent.py:530: ConvergenceWarning: Objective did not converge. You might want to increase the number of iterations. Duality gap: 0.6485328705221823, tolerance: 0.0063695679242396965\n",
      "  model = cd_fast.enet_coordinate_descent(\n",
      "C:\\Users\\edfra\\anaconda3\\lib\\site-packages\\sklearn\\linear_model\\_coordinate_descent.py:530: ConvergenceWarning: Objective did not converge. You might want to increase the number of iterations. Duality gap: 0.6934254934567111, tolerance: 0.0063695679242396965\n",
      "  model = cd_fast.enet_coordinate_descent(\n",
      "C:\\Users\\edfra\\anaconda3\\lib\\site-packages\\sklearn\\linear_model\\_coordinate_descent.py:530: ConvergenceWarning: Objective did not converge. You might want to increase the number of iterations. Duality gap: 0.014677146744566282, tolerance: 1.9453728815417703e-05\n",
      "  model = cd_fast.enet_coordinate_descent(\n",
      "C:\\Users\\edfra\\anaconda3\\lib\\site-packages\\sklearn\\linear_model\\_coordinate_descent.py:530: ConvergenceWarning: Objective did not converge. You might want to increase the number of iterations. Duality gap: 0.015260784749016779, tolerance: 1.9453728815417703e-05\n",
      "  model = cd_fast.enet_coordinate_descent(\n",
      "C:\\Users\\edfra\\anaconda3\\lib\\site-packages\\sklearn\\linear_model\\_coordinate_descent.py:530: ConvergenceWarning: Objective did not converge. You might want to increase the number of iterations. Duality gap: 0.9182068384469944, tolerance: 0.00650464523397283\n",
      "  model = cd_fast.enet_coordinate_descent(\n",
      "C:\\Users\\edfra\\anaconda3\\lib\\site-packages\\sklearn\\linear_model\\_coordinate_descent.py:530: ConvergenceWarning: Objective did not converge. You might want to increase the number of iterations. Duality gap: 0.918278313843925, tolerance: 0.00650464523397283\n",
      "  model = cd_fast.enet_coordinate_descent(\n",
      "C:\\Users\\edfra\\anaconda3\\lib\\site-packages\\sklearn\\linear_model\\_coordinate_descent.py:530: ConvergenceWarning: Objective did not converge. You might want to increase the number of iterations. Duality gap: 0.013191501825759408, tolerance: 1.9939582064963028e-05\n",
      "  model = cd_fast.enet_coordinate_descent(\n",
      "C:\\Users\\edfra\\anaconda3\\lib\\site-packages\\sklearn\\linear_model\\_coordinate_descent.py:530: ConvergenceWarning: Objective did not converge. You might want to increase the number of iterations. Duality gap: 0.01420163512215715, tolerance: 1.9939582064963028e-05\n",
      "  model = cd_fast.enet_coordinate_descent(\n",
      "C:\\Users\\edfra\\anaconda3\\lib\\site-packages\\sklearn\\linear_model\\_coordinate_descent.py:530: ConvergenceWarning: Objective did not converge. You might want to increase the number of iterations. Duality gap: 0.8495900865381449, tolerance: 0.006554236661973269\n",
      "  model = cd_fast.enet_coordinate_descent(\n",
      "C:\\Users\\edfra\\anaconda3\\lib\\site-packages\\sklearn\\linear_model\\_coordinate_descent.py:530: ConvergenceWarning: Objective did not converge. You might want to increase the number of iterations. Duality gap: 0.8608350124465273, tolerance: 0.006554236661973269\n",
      "  model = cd_fast.enet_coordinate_descent(\n",
      "C:\\Users\\edfra\\anaconda3\\lib\\site-packages\\sklearn\\linear_model\\_coordinate_descent.py:530: ConvergenceWarning: Objective did not converge. You might want to increase the number of iterations. Duality gap: 0.009204980128238211, tolerance: 2.0711154961254358e-05\n",
      "  model = cd_fast.enet_coordinate_descent(\n",
      "C:\\Users\\edfra\\anaconda3\\lib\\site-packages\\sklearn\\linear_model\\_coordinate_descent.py:530: ConvergenceWarning: Objective did not converge. You might want to increase the number of iterations. Duality gap: 0.009737502454798586, tolerance: 2.0711154961254358e-05\n",
      "  model = cd_fast.enet_coordinate_descent(\n"
     ]
    },
    {
     "name": "stdout",
     "output_type": "stream",
     "text": [
      "3  \n",
      "4  \n",
      "5  \n",
      "6  \n",
      "7  \n",
      "8  \n",
      "9  \n",
      "Coefficient is 0.01910653454912545, SE is equal to 0.011977754499598993\n"
     ]
    },
    {
     "name": "stderr",
     "output_type": "stream",
     "text": [
      "C:\\Users\\edfra\\anaconda3\\lib\\site-packages\\sklearn\\linear_model\\_coordinate_descent.py:530: ConvergenceWarning: Objective did not converge. You might want to increase the number of iterations. Duality gap: 0.6586923759713587, tolerance: 0.006415766715988015\n",
      "  model = cd_fast.enet_coordinate_descent(\n",
      "C:\\Users\\edfra\\anaconda3\\lib\\site-packages\\sklearn\\linear_model\\_coordinate_descent.py:530: ConvergenceWarning: Objective did not converge. You might want to increase the number of iterations. Duality gap: 0.6628677968254878, tolerance: 0.006415766715988015\n",
      "  model = cd_fast.enet_coordinate_descent(\n",
      "C:\\Users\\edfra\\anaconda3\\lib\\site-packages\\sklearn\\linear_model\\_coordinate_descent.py:530: ConvergenceWarning: Objective did not converge. You might want to increase the number of iterations. Duality gap: 0.014776778458235593, tolerance: 2.1943041703337408e-05\n",
      "  model = cd_fast.enet_coordinate_descent(\n",
      "C:\\Users\\edfra\\anaconda3\\lib\\site-packages\\sklearn\\linear_model\\_coordinate_descent.py:530: ConvergenceWarning: Objective did not converge. You might want to increase the number of iterations. Duality gap: 0.015114113716544026, tolerance: 2.1943041703337408e-05\n",
      "  model = cd_fast.enet_coordinate_descent(\n",
      "C:\\Users\\edfra\\anaconda3\\lib\\site-packages\\sklearn\\linear_model\\_coordinate_descent.py:530: ConvergenceWarning: Objective did not converge. You might want to increase the number of iterations. Duality gap: 0.6580649041208128, tolerance: 0.006325208515865355\n",
      "  model = cd_fast.enet_coordinate_descent(\n",
      "C:\\Users\\edfra\\anaconda3\\lib\\site-packages\\sklearn\\linear_model\\_coordinate_descent.py:530: ConvergenceWarning: Objective did not converge. You might want to increase the number of iterations. Duality gap: 0.6539670512619805, tolerance: 0.006325208515865355\n",
      "  model = cd_fast.enet_coordinate_descent(\n",
      "C:\\Users\\edfra\\anaconda3\\lib\\site-packages\\sklearn\\linear_model\\_coordinate_descent.py:530: ConvergenceWarning: Objective did not converge. You might want to increase the number of iterations. Duality gap: 0.011050089221172026, tolerance: 1.9831571835256783e-05\n",
      "  model = cd_fast.enet_coordinate_descent(\n",
      "C:\\Users\\edfra\\anaconda3\\lib\\site-packages\\sklearn\\linear_model\\_coordinate_descent.py:530: ConvergenceWarning: Objective did not converge. You might want to increase the number of iterations. Duality gap: 0.011061033576282625, tolerance: 1.9831571835256783e-05\n",
      "  model = cd_fast.enet_coordinate_descent(\n"
     ]
    }
   ],
   "source": [
    "def dreg(z,d):\n",
    "    alpha=0.00000001\n",
    "    result = Lasso_post( alpha = alpha ).fit( z , d )\n",
    "    return result\n",
    "\n",
    "def yreg( z , y ):\n",
    "    alpha = 0.00000001\n",
    "    result = Lasso_post( alpha = alpha ).fit( z , y )\n",
    "    return result\n",
    "\n",
    "DML2_lasso_post = DML2_for_PLM(z, d, y, dreg, yreg, 10)"
   ]
  },
  {
   "cell_type": "markdown",
   "id": "3c4d2bcd",
   "metadata": {},
   "source": [
    "## DML Elastic Net"
   ]
  },
  {
   "cell_type": "code",
   "execution_count": 24,
   "id": "4d5e7baf",
   "metadata": {},
   "outputs": [],
   "source": [
    "class standard_skl_model:\n",
    "    \n",
    "    def __init__(self, model ):\n",
    "        self.model = model\n",
    "       \n",
    "    def fit( self, X, Y ):\n",
    "        \n",
    "        # Standarization of X and Y\n",
    "        self.scaler_X = StandardScaler()\n",
    "        self.scaler_X.fit( X )\n",
    "        std_X = self.scaler_X.transform( X )\n",
    "                \n",
    "        self.model.fit( std_X , Y )\n",
    "                \n",
    "        return self\n",
    "    \n",
    "    def predict( self , X ):\n",
    "        \n",
    "        self.scaler_X = StandardScaler()\n",
    "        self.scaler_X.fit( X )\n",
    "        std_X = self.scaler_X.transform( X )\n",
    "        \n",
    "        prediction = self.model.predict( std_X )\n",
    "        \n",
    "        return prediction"
   ]
  },
  {
   "cell_type": "code",
   "execution_count": 25,
   "id": "38d4e8c6",
   "metadata": {},
   "outputs": [
    {
     "name": "stderr",
     "output_type": "stream",
     "text": [
      "C:\\Users\\edfra\\anaconda3\\lib\\site-packages\\sklearn\\utils\\validation.py:63: DataConversionWarning: A column-vector y was passed when a 1d array was expected. Please change the shape of y to (n_samples, ), for example using ravel().\n",
      "  return f(*args, **kwargs)\n",
      "C:\\Users\\edfra\\anaconda3\\lib\\site-packages\\sklearn\\utils\\validation.py:63: DataConversionWarning: A column-vector y was passed when a 1d array was expected. Please change the shape of y to (n_samples, ), for example using ravel().\n",
      "  return f(*args, **kwargs)\n"
     ]
    },
    {
     "name": "stdout",
     "output_type": "stream",
     "text": [
      "0  \n"
     ]
    },
    {
     "name": "stderr",
     "output_type": "stream",
     "text": [
      "C:\\Users\\edfra\\anaconda3\\lib\\site-packages\\sklearn\\utils\\validation.py:63: DataConversionWarning: A column-vector y was passed when a 1d array was expected. Please change the shape of y to (n_samples, ), for example using ravel().\n",
      "  return f(*args, **kwargs)\n",
      "C:\\Users\\edfra\\anaconda3\\lib\\site-packages\\sklearn\\utils\\validation.py:63: DataConversionWarning: A column-vector y was passed when a 1d array was expected. Please change the shape of y to (n_samples, ), for example using ravel().\n",
      "  return f(*args, **kwargs)\n"
     ]
    },
    {
     "name": "stdout",
     "output_type": "stream",
     "text": [
      "1  \n",
      "Coefficient is -0.03580322751069835, SE is equal to 0.014902554610102349\n"
     ]
    }
   ],
   "source": [
    "# DML with cross-validated Elastic Net:\n",
    "def dreg(z,d):\n",
    "    result = standard_skl_model( ElasticNetCV( cv = 10 , random_state = 0 , l1_ratio = 0.5, max_iter = 100000 ) ).fit( z, d )\n",
    "    return result\n",
    "\n",
    "def yreg(z,y):\n",
    "    result = standard_skl_model( ElasticNetCV( cv = 10 , random_state = 0 , l1_ratio = 0.5, max_iter = 100000 ) ).fit( z, y )\n",
    "    return result\n",
    "\n",
    "DML2_elnet = DML2_for_PLM(z, d, y, dreg, yreg, 2)"
   ]
  },
  {
   "cell_type": "markdown",
   "id": "51b1a058",
   "metadata": {},
   "source": [
    "## DML RIDGE "
   ]
  },
  {
   "cell_type": "code",
   "execution_count": 26,
   "id": "8a15e04e",
   "metadata": {},
   "outputs": [
    {
     "name": "stderr",
     "output_type": "stream",
     "text": [
      "C:\\Users\\edfra\\anaconda3\\lib\\site-packages\\sklearn\\utils\\validation.py:63: DataConversionWarning: A column-vector y was passed when a 1d array was expected. Please change the shape of y to (n_samples, ), for example using ravel().\n",
      "  return f(*args, **kwargs)\n",
      "C:\\Users\\edfra\\anaconda3\\lib\\site-packages\\sklearn\\utils\\validation.py:63: DataConversionWarning: A column-vector y was passed when a 1d array was expected. Please change the shape of y to (n_samples, ), for example using ravel().\n",
      "  return f(*args, **kwargs)\n"
     ]
    },
    {
     "name": "stdout",
     "output_type": "stream",
     "text": [
      "0  \n"
     ]
    },
    {
     "name": "stderr",
     "output_type": "stream",
     "text": [
      "C:\\Users\\edfra\\anaconda3\\lib\\site-packages\\sklearn\\utils\\validation.py:63: DataConversionWarning: A column-vector y was passed when a 1d array was expected. Please change the shape of y to (n_samples, ), for example using ravel().\n",
      "  return f(*args, **kwargs)\n",
      "C:\\Users\\edfra\\anaconda3\\lib\\site-packages\\sklearn\\utils\\validation.py:63: DataConversionWarning: A column-vector y was passed when a 1d array was expected. Please change the shape of y to (n_samples, ), for example using ravel().\n",
      "  return f(*args, **kwargs)\n"
     ]
    },
    {
     "name": "stdout",
     "output_type": "stream",
     "text": [
      "1  \n",
      "Coefficient is -0.023908352710682722, SE is equal to 0.009335300413556713\n"
     ]
    }
   ],
   "source": [
    "#DML with cross-validated Ridge:\n",
    "def dreg(z,d):\n",
    "    result = standard_skl_model( ElasticNetCV( cv = 10 ,  random_state = 0 , l1_ratio = 0.0001 ) ).fit( z, d )\n",
    "    return result\n",
    "\n",
    "def yreg(z,y):\n",
    "    result = standard_skl_model( ElasticNetCV( cv = 10 , random_state = 0 , l1_ratio = 0.0001 ) ).fit( z, y )\n",
    "    return result\n",
    "\n",
    "DML2_ridge = DML2_for_PLM(z, d, y, dreg, yreg, 2)"
   ]
  },
  {
   "cell_type": "markdown",
   "id": "14aefddb",
   "metadata": {},
   "source": [
    "## DML RANDOM FOREST"
   ]
  },
  {
   "cell_type": "code",
   "execution_count": 27,
   "id": "9b5e6330",
   "metadata": {},
   "outputs": [],
   "source": [
    "from sklearn.tree import DecisionTreeRegressor\n",
    "from sklearn.ensemble import RandomForestRegressor\n",
    "from sklearn.ensemble import GradientBoostingRegressor"
   ]
  },
  {
   "cell_type": "code",
   "execution_count": 28,
   "id": "2fdf4c8a",
   "metadata": {},
   "outputs": [
    {
     "name": "stderr",
     "output_type": "stream",
     "text": [
      "<ipython-input-28-b8cf5d622d9e>:3: DataConversionWarning: A column-vector y was passed when a 1d array was expected. Please change the shape of y to (n_samples,), for example using ravel().\n",
      "  result = RandomForestRegressor( random_state = 0 , n_estimators = 500 , max_features = 31 , n_jobs = 4 , min_samples_leaf = 5 ).fit( z, d )\n",
      "<ipython-input-28-b8cf5d622d9e>:7: DataConversionWarning: A column-vector y was passed when a 1d array was expected. Please change the shape of y to (n_samples,), for example using ravel().\n",
      "  result = RandomForestRegressor( random_state = 0 , n_estimators = 500 , max_features = 31 , n_jobs = 4 , min_samples_leaf = 5 ).fit( z, y )\n"
     ]
    },
    {
     "name": "stdout",
     "output_type": "stream",
     "text": [
      "0  \n"
     ]
    },
    {
     "name": "stderr",
     "output_type": "stream",
     "text": [
      "<ipython-input-28-b8cf5d622d9e>:3: DataConversionWarning: A column-vector y was passed when a 1d array was expected. Please change the shape of y to (n_samples,), for example using ravel().\n",
      "  result = RandomForestRegressor( random_state = 0 , n_estimators = 500 , max_features = 31 , n_jobs = 4 , min_samples_leaf = 5 ).fit( z, d )\n",
      "<ipython-input-28-b8cf5d622d9e>:7: DataConversionWarning: A column-vector y was passed when a 1d array was expected. Please change the shape of y to (n_samples,), for example using ravel().\n",
      "  result = RandomForestRegressor( random_state = 0 , n_estimators = 500 , max_features = 31 , n_jobs = 4 , min_samples_leaf = 5 ).fit( z, y )\n"
     ]
    },
    {
     "name": "stdout",
     "output_type": "stream",
     "text": [
      "1  \n",
      "Coefficient is -0.03614180524886038, SE is equal to 0.012307752645816284\n"
     ]
    }
   ],
   "source": [
    "#DML with Random Forest:\n",
    "def dreg(z,d):\n",
    "    result = RandomForestRegressor( random_state = 0 , n_estimators = 500 , max_features = 31 , n_jobs = 4 , min_samples_leaf = 5 ).fit( z, d )\n",
    "    return result\n",
    "\n",
    "def yreg(z,y):\n",
    "    result = RandomForestRegressor( random_state = 0 , n_estimators = 500 , max_features = 31 , n_jobs = 4 , min_samples_leaf = 5 ).fit( z, y )\n",
    "    return result\n",
    "\n",
    "DML2_RF = DML2_for_PLM(z, d, y, dreg, yreg, 2)   # set to 2 due to computation time"
   ]
  },
  {
   "cell_type": "code",
   "execution_count": 29,
   "id": "5d7afe41",
   "metadata": {},
   "outputs": [
    {
     "data": {
      "text/html": [
       "<div>\n",
       "<style scoped>\n",
       "    .dataframe tbody tr th:only-of-type {\n",
       "        vertical-align: middle;\n",
       "    }\n",
       "\n",
       "    .dataframe tbody tr th {\n",
       "        vertical-align: top;\n",
       "    }\n",
       "\n",
       "    .dataframe thead th {\n",
       "        text-align: right;\n",
       "    }\n",
       "</style>\n",
       "<table border=\"1\" class=\"dataframe\">\n",
       "  <thead>\n",
       "    <tr style=\"text-align: right;\">\n",
       "      <th></th>\n",
       "      <th>DML2_lasso</th>\n",
       "      <th>DML2_lasso_post</th>\n",
       "      <th>DML2_ridge</th>\n",
       "      <th>DML2_elnet</th>\n",
       "      <th>DML2_RF</th>\n",
       "    </tr>\n",
       "  </thead>\n",
       "  <tbody>\n",
       "    <tr>\n",
       "      <th>RMSEY</th>\n",
       "      <td>0.005385</td>\n",
       "      <td>0.000904</td>\n",
       "      <td>5.396917e-18</td>\n",
       "      <td>3.006854e-18</td>\n",
       "      <td>0.001296</td>\n",
       "    </tr>\n",
       "    <tr>\n",
       "      <th>RMSED</th>\n",
       "      <td>0.007191</td>\n",
       "      <td>0.003270</td>\n",
       "      <td>2.269789e-16</td>\n",
       "      <td>1.263187e-15</td>\n",
       "      <td>0.060884</td>\n",
       "    </tr>\n",
       "  </tbody>\n",
       "</table>\n",
       "</div>"
      ],
      "text/plain": [
       "       DML2_lasso  DML2_lasso_post    DML2_ridge    DML2_elnet   DML2_RF\n",
       "RMSEY    0.005385         0.000904  5.396917e-18  3.006854e-18  0.001296\n",
       "RMSED    0.007191         0.003270  2.269789e-16  1.263187e-15  0.060884"
      ]
     },
     "execution_count": 29,
     "metadata": {},
     "output_type": "execute_result"
    }
   ],
   "source": [
    "mods = [DML2_lasso, DML2_lasso_post , DML2_ridge, DML2_elnet, DML2_RF]\n",
    "mods_name = [ \"DML2_lasso\", \"DML2_lasso_post\" , 'DML2_ridge', 'DML2_elnet', 'DML2_RF']\n",
    "\n",
    "def mdl( model , model_name ):\n",
    "    \n",
    "    RMSEY = np.sqrt( np.mean( model[ 'ytil' ] ) ** 2 ) # I have some doubts about these equations...we have to recheck\n",
    "    RMSED = np.sqrt( np.mean( model[ 'dtil' ] ) ** 2 ) # I have some doubts about these equations...we have to recheck\n",
    "    \n",
    "    result = pd.DataFrame( { model_name : [ RMSEY , RMSED ]} , index = [ 'RMSEY' , 'RMSED' ])\n",
    "    return result\n",
    "\n",
    "RES = [ mdl( model , name ) for model, name in zip( mods , mods_name ) ]\n",
    "    \n",
    "\n",
    "pr_Res = pd.concat( RES, axis = 1)\n",
    "\n",
    "pr_Res"
   ]
  },
  {
   "cell_type": "code",
   "execution_count": 30,
   "id": "77802196",
   "metadata": {},
   "outputs": [
    {
     "data": {
      "text/plain": [
       "'<table border=\"1\" class=\"dataframe\">\\n  <thead>\\n    <tr style=\"text-align: right;\">\\n      <th></th>\\n      <th>OLS</th>\\n      <th>OLS WITH COUNTRIES CHARACTERISTICS</th>\\n    </tr>\\n  </thead>\\n  <tbody>\\n    <tr>\\n      <th>RMSEY</th>\\n      <td>0.067870</td>\\n      <td>0.0</td>\\n    </tr>\\n    <tr>\\n      <th>RMSED</th>\\n      <td>7.709104</td>\\n      <td>0.0</td>\\n    </tr>\\n  </tbody>\\n</table>'"
      ]
     },
     "execution_count": 30,
     "metadata": {},
     "output_type": "execute_result"
    }
   ],
   "source": [
    "table_4 = np.zeros( (2, 2) )\n",
    "\n",
    "table_4[0,0] = rootMeanSquaredError_1\n",
    "table_4[0,1] = 0\n",
    "table_4[1,0] = rootMeanSquaredError\n",
    "table_4[1,1] = 0 #I couldn't find RMSED for this regression\n",
    "\n",
    "\n",
    "table_4_pandas = pd.DataFrame( table_4, columns = [ \"OLS\",\"OLS WITH COUNTRIES CHARACTERISTICS\"])\n",
    "table_4_pandas.index = [ \"RMSEY\",\"RMSED\" ]\n",
    "table_4_html = table_4_pandas.to_html()\n",
    "table_4_html"
   ]
  },
  {
   "cell_type": "markdown",
   "id": "b5ec4ea7",
   "metadata": {},
   "source": [
    "'<table border=\"1\" class=\"dataframe\">\\n  <thead>\\n    <tr style=\"text-align: right;\">\\n      <th></th>\\n      <th>OLS</th>\\n      <th>OLS WITH COUNTRIES CHARACTERISTICS</th>\\n    </tr>\\n  </thead>\\n  <tbody>\\n    <tr>\\n      <th>RMSEY</th>\\n      <td>0.067870</td>\\n      <td>0.0</td>\\n    </tr>\\n    <tr>\\n      <th>RMSED</th>\\n      <td>0.051175</td>\\n      <td>0.0</td>\\n    </tr>\\n  </tbody>\\n</table>'"
   ]
  },
  {
   "cell_type": "markdown",
   "id": "0ff4b91d",
   "metadata": {},
   "source": [
    "#### This verfies that the function DML2_for_PLM has no errors"
   ]
  },
  {
   "cell_type": "code",
   "execution_count": 31,
   "id": "4b2026d0",
   "metadata": {},
   "outputs": [
    {
     "data": {
      "text/plain": [
       "0"
      ]
     },
     "execution_count": 31,
     "metadata": {},
     "output_type": "execute_result"
    }
   ],
   "source": [
    "np.where(DML2_lasso_post[ 'ytil' ] == 0)[0].size"
   ]
  },
  {
   "cell_type": "markdown",
   "id": "556917dc",
   "metadata": {},
   "source": [
    "## It looks like the best method for predicting D is CV Ridge, and the best method for predicting Y is CV Ridge. I had this conclusion because Ridge regression has the lowest value in Root Mean Squared Error for Y and D."
   ]
  },
  {
   "cell_type": "code",
   "execution_count": 32,
   "id": "4178389a",
   "metadata": {},
   "outputs": [
    {
     "name": "stderr",
     "output_type": "stream",
     "text": [
      "C:\\Users\\edfra\\anaconda3\\lib\\site-packages\\sklearn\\utils\\validation.py:63: DataConversionWarning: A column-vector y was passed when a 1d array was expected. Please change the shape of y to (n_samples, ), for example using ravel().\n",
      "  return f(*args, **kwargs)\n",
      "C:\\Users\\edfra\\anaconda3\\lib\\site-packages\\sklearn\\utils\\validation.py:63: DataConversionWarning: A column-vector y was passed when a 1d array was expected. Please change the shape of y to (n_samples, ), for example using ravel().\n",
      "  return f(*args, **kwargs)\n"
     ]
    },
    {
     "name": "stdout",
     "output_type": "stream",
     "text": [
      "0  \n"
     ]
    },
    {
     "name": "stderr",
     "output_type": "stream",
     "text": [
      "C:\\Users\\edfra\\anaconda3\\lib\\site-packages\\sklearn\\utils\\validation.py:63: DataConversionWarning: A column-vector y was passed when a 1d array was expected. Please change the shape of y to (n_samples, ), for example using ravel().\n",
      "  return f(*args, **kwargs)\n",
      "C:\\Users\\edfra\\anaconda3\\lib\\site-packages\\sklearn\\utils\\validation.py:63: DataConversionWarning: A column-vector y was passed when a 1d array was expected. Please change the shape of y to (n_samples, ), for example using ravel().\n",
      "  return f(*args, **kwargs)\n"
     ]
    },
    {
     "name": "stdout",
     "output_type": "stream",
     "text": [
      "1  \n",
      "Coefficient is -0.011258784538348516, SE is equal to 0.00962518150385828\n"
     ]
    }
   ],
   "source": [
    "#DML with the BEST:\n",
    "def dreg(z,d):\n",
    "    result = standard_skl_model( ElasticNetCV( cv = 10 ,  random_state = 0 , l1_ratio = 0.0001 ) ).fit( z, d )\n",
    "    return result\n",
    "\n",
    "def yreg(z,y):\n",
    "    result = standard_skl_model( ElasticNetCV( cv = 10 , random_state = 0 , l1_ratio = 0.0001 ) ).fit( z, y )\n",
    "    return result\n",
    "\n",
    "DML2_best= DML2_for_PLM(z, d, y, dreg, yreg, 2)"
   ]
  },
  {
   "cell_type": "code",
   "execution_count": 33,
   "id": "eb60f682",
   "metadata": {},
   "outputs": [],
   "source": [
    "table = np.zeros( ( 8 , 2 ))\n",
    "table[ 0 , 0] = est_ols\n",
    "table[ 1 , 0] = std_ols\n",
    "table[ 2 , 0] = DML2_lasso['coef_est']\n",
    "table[ 3 , 0] = DML2_lasso_post['coef_est']\n",
    "table[ 4 , 0] = DML2_ridge['coef_est']\n",
    "table[ 5 , 0] = DML2_elnet['coef_est']\n",
    "table[ 6 , 0] = DML2_RF['coef_est']\n",
    "table[ 7 , 0] = DML2_best['coef_est']\n",
    "table[ 0 , 1] = est_control_ols\n",
    "table[ 1 , 1] = std_control_ols\n",
    "table[ 2 , 1] = DML2_lasso['se']\n",
    "table[ 3 , 1] = DML2_lasso_post['se']\n",
    "table[ 4 , 1] = DML2_ridge['se']\n",
    "table[ 5 , 1] = DML2_elnet['se']\n",
    "table[ 6 , 1] = DML2_RF['se']\n",
    "table[ 7 , 1] = DML2_best['se']"
   ]
  },
  {
   "cell_type": "code",
   "execution_count": 34,
   "id": "f66ec4c9",
   "metadata": {},
   "outputs": [
    {
     "data": {
      "text/html": [
       "<div>\n",
       "<style scoped>\n",
       "    .dataframe tbody tr th:only-of-type {\n",
       "        vertical-align: middle;\n",
       "    }\n",
       "\n",
       "    .dataframe tbody tr th {\n",
       "        vertical-align: top;\n",
       "    }\n",
       "\n",
       "    .dataframe thead th {\n",
       "        text-align: right;\n",
       "    }\n",
       "</style>\n",
       "<table border=\"1\" class=\"dataframe\">\n",
       "  <thead>\n",
       "    <tr style=\"text-align: right;\">\n",
       "      <th></th>\n",
       "      <th>Estimate</th>\n",
       "      <th>Standard Error</th>\n",
       "    </tr>\n",
       "  </thead>\n",
       "  <tbody>\n",
       "    <tr>\n",
       "      <th>OLS</th>\n",
       "      <td>0.006</td>\n",
       "      <td>-0.009</td>\n",
       "    </tr>\n",
       "    <tr>\n",
       "      <th>OLS with countries characteristics</th>\n",
       "      <td>0.001</td>\n",
       "      <td>0.030</td>\n",
       "    </tr>\n",
       "    <tr>\n",
       "      <th>Lasso</th>\n",
       "      <td>0.022</td>\n",
       "      <td>0.012</td>\n",
       "    </tr>\n",
       "    <tr>\n",
       "      <th>Post-Lasso</th>\n",
       "      <td>0.019</td>\n",
       "      <td>0.012</td>\n",
       "    </tr>\n",
       "    <tr>\n",
       "      <th>CV Ridge</th>\n",
       "      <td>-0.024</td>\n",
       "      <td>0.009</td>\n",
       "    </tr>\n",
       "    <tr>\n",
       "      <th>CV Elnet</th>\n",
       "      <td>-0.036</td>\n",
       "      <td>0.015</td>\n",
       "    </tr>\n",
       "    <tr>\n",
       "      <th>Random Forest</th>\n",
       "      <td>-0.036</td>\n",
       "      <td>0.012</td>\n",
       "    </tr>\n",
       "    <tr>\n",
       "      <th>Best</th>\n",
       "      <td>-0.011</td>\n",
       "      <td>0.010</td>\n",
       "    </tr>\n",
       "  </tbody>\n",
       "</table>\n",
       "</div>"
      ],
      "text/plain": [
       "                                    Estimate  Standard Error\n",
       "OLS                                    0.006          -0.009\n",
       "OLS with countries characteristics     0.001           0.030\n",
       "Lasso                                  0.022           0.012\n",
       "Post-Lasso                             0.019           0.012\n",
       "CV Ridge                              -0.024           0.009\n",
       "CV Elnet                              -0.036           0.015\n",
       "Random Forest                         -0.036           0.012\n",
       "Best                                  -0.011           0.010"
      ]
     },
     "execution_count": 34,
     "metadata": {},
     "output_type": "execute_result"
    }
   ],
   "source": [
    "table = pd.DataFrame( table , index = [ \"OLS\", \"OLS with countries characteristics\", \"Lasso\", \\\n",
    "             \"Post-Lasso\", \"CV Ridge\", \"CV Elnet\", \"Random Forest\", \"Best\" ] , \\\n",
    "            columns = [\"Estimate\",\"Standard Error\"] )\n",
    "table.round( 3 )"
   ]
  },
  {
   "cell_type": "code",
   "execution_count": 35,
   "id": "bafcf06b",
   "metadata": {},
   "outputs": [
    {
     "data": {
      "text/plain": [
       "'\\\\begin{tabular}{lrr}\\n\\\\toprule\\n{} &  Estimate &  Standard Error \\\\\\\\\\n\\\\midrule\\nOLS                                &  0.005827 &       -0.009378 \\\\\\\\\\nOLS with countries characteristics &  0.000700 &        0.029888 \\\\\\\\\\nLasso                              &  0.021729 &        0.012128 \\\\\\\\\\nPost-Lasso                         &  0.019107 &        0.011978 \\\\\\\\\\nCV Ridge                           & -0.023908 &        0.009335 \\\\\\\\\\nCV Elnet                           & -0.035803 &        0.014903 \\\\\\\\\\nRandom Forest                      & -0.036142 &        0.012308 \\\\\\\\\\nBest                               & -0.011259 &        0.009625 \\\\\\\\\\n\\\\bottomrule\\n\\\\end{tabular}\\n'"
      ]
     },
     "execution_count": 35,
     "metadata": {},
     "output_type": "execute_result"
    }
   ],
   "source": [
    "table.to_latex()"
   ]
  },
  {
   "cell_type": "markdown",
   "id": "57f70a3f",
   "metadata": {},
   "source": [
    "## CONCLUSIONS"
   ]
  },
  {
   "cell_type": "markdown",
   "id": "784d059f",
   "metadata": {},
   "source": [
    "In conclusion, Cross -validation Ridge Regression is the best method in comparison with the other ones (OLS, OLS with controllers, Lasso, Post- Lasso, CV Elnet & Random Forest), because it give us the lowest RMSE in Y and D matrix variables.\n",
    "According to CV Ridge, our coefficient is $\\beta_1 = -0.030$, which means that poor countries grow faster than rich countries."
   ]
  },
  {
   "cell_type": "markdown",
   "id": "01107e4a",
   "metadata": {},
   "source": [
    "# EXTRA"
   ]
  },
  {
   "cell_type": "code",
   "execution_count": 36,
   "id": "e98f74ff",
   "metadata": {},
   "outputs": [],
   "source": [
    "coef_df = table"
   ]
  },
  {
   "cell_type": "code",
   "execution_count": 38,
   "id": "0db57400",
   "metadata": {},
   "outputs": [
    {
     "data": {
      "text/html": [
       "<div>\n",
       "<style scoped>\n",
       "    .dataframe tbody tr th:only-of-type {\n",
       "        vertical-align: middle;\n",
       "    }\n",
       "\n",
       "    .dataframe tbody tr th {\n",
       "        vertical-align: top;\n",
       "    }\n",
       "\n",
       "    .dataframe thead th {\n",
       "        text-align: right;\n",
       "    }\n",
       "</style>\n",
       "<table border=\"1\" class=\"dataframe\">\n",
       "  <thead>\n",
       "    <tr style=\"text-align: right;\">\n",
       "      <th></th>\n",
       "      <th>Estimate</th>\n",
       "      <th>Standard Error</th>\n",
       "      <th>lower bound CI</th>\n",
       "    </tr>\n",
       "  </thead>\n",
       "  <tbody>\n",
       "    <tr>\n",
       "      <th>OLS</th>\n",
       "      <td>0.005827</td>\n",
       "      <td>-0.009378</td>\n",
       "      <td>0.007766</td>\n",
       "    </tr>\n",
       "    <tr>\n",
       "      <th>OLS with countries characteristics</th>\n",
       "      <td>0.000700</td>\n",
       "      <td>0.029888</td>\n",
       "      <td>-0.005480</td>\n",
       "    </tr>\n",
       "    <tr>\n",
       "      <th>Lasso</th>\n",
       "      <td>0.021729</td>\n",
       "      <td>0.012128</td>\n",
       "      <td>0.019221</td>\n",
       "    </tr>\n",
       "    <tr>\n",
       "      <th>Post-Lasso</th>\n",
       "      <td>0.019107</td>\n",
       "      <td>0.011978</td>\n",
       "      <td>0.016630</td>\n",
       "    </tr>\n",
       "    <tr>\n",
       "      <th>CV Ridge</th>\n",
       "      <td>-0.023908</td>\n",
       "      <td>0.009335</td>\n",
       "      <td>-0.025838</td>\n",
       "    </tr>\n",
       "    <tr>\n",
       "      <th>CV Elnet</th>\n",
       "      <td>-0.035803</td>\n",
       "      <td>0.014903</td>\n",
       "      <td>-0.038884</td>\n",
       "    </tr>\n",
       "    <tr>\n",
       "      <th>Random Forest</th>\n",
       "      <td>-0.036142</td>\n",
       "      <td>0.012308</td>\n",
       "      <td>-0.038686</td>\n",
       "    </tr>\n",
       "    <tr>\n",
       "      <th>Best</th>\n",
       "      <td>-0.011259</td>\n",
       "      <td>0.009625</td>\n",
       "      <td>-0.013249</td>\n",
       "    </tr>\n",
       "  </tbody>\n",
       "</table>\n",
       "</div>"
      ],
      "text/plain": [
       "                                    Estimate  Standard Error  lower bound CI\n",
       "OLS                                 0.005827       -0.009378        0.007766\n",
       "OLS with countries characteristics  0.000700        0.029888       -0.005480\n",
       "Lasso                               0.021729        0.012128        0.019221\n",
       "Post-Lasso                          0.019107        0.011978        0.016630\n",
       "CV Ridge                           -0.023908        0.009335       -0.025838\n",
       "CV Elnet                           -0.035803        0.014903       -0.038884\n",
       "Random Forest                      -0.036142        0.012308       -0.038686\n",
       "Best                               -0.011259        0.009625       -0.013249"
      ]
     },
     "execution_count": 38,
     "metadata": {},
     "output_type": "execute_result"
    }
   ],
   "source": [
    "coef_df[\"lower bound CI\"]= coef_df[\"Estimate\"]-( 1.96*coef_df[\"Standard Error\"]/9.48)\n",
    "coef_df"
   ]
  },
  {
   "cell_type": "code",
   "execution_count": 39,
   "id": "7389ecfc",
   "metadata": {},
   "outputs": [
    {
     "data": {
      "text/plain": [
       "['OLS',\n",
       " 'OLS with countries characteristics',\n",
       " 'Lasso',\n",
       " 'Post-Lasso',\n",
       " 'CV Ridge',\n",
       " 'CV Elnet',\n",
       " 'Random Forest',\n",
       " 'Best']"
      ]
     },
     "execution_count": 39,
     "metadata": {},
     "output_type": "execute_result"
    }
   ],
   "source": [
    "variables = list(coef_df.index.values)\n",
    "variables"
   ]
  },
  {
   "cell_type": "code",
   "execution_count": 40,
   "id": "171d5fbe",
   "metadata": {},
   "outputs": [
    {
     "data": {
      "text/html": [
       "<div>\n",
       "<style scoped>\n",
       "    .dataframe tbody tr th:only-of-type {\n",
       "        vertical-align: middle;\n",
       "    }\n",
       "\n",
       "    .dataframe tbody tr th {\n",
       "        vertical-align: top;\n",
       "    }\n",
       "\n",
       "    .dataframe thead th {\n",
       "        text-align: right;\n",
       "    }\n",
       "</style>\n",
       "<table border=\"1\" class=\"dataframe\">\n",
       "  <thead>\n",
       "    <tr style=\"text-align: right;\">\n",
       "      <th></th>\n",
       "      <th>Estimate</th>\n",
       "      <th>Standard Error</th>\n",
       "      <th>lower bound CI</th>\n",
       "      <th>variables</th>\n",
       "    </tr>\n",
       "  </thead>\n",
       "  <tbody>\n",
       "    <tr>\n",
       "      <th>OLS</th>\n",
       "      <td>0.005827</td>\n",
       "      <td>-0.009378</td>\n",
       "      <td>0.007766</td>\n",
       "      <td>OLS</td>\n",
       "    </tr>\n",
       "    <tr>\n",
       "      <th>OLS with countries characteristics</th>\n",
       "      <td>0.000700</td>\n",
       "      <td>0.029888</td>\n",
       "      <td>-0.005480</td>\n",
       "      <td>OLS with countries characteristics</td>\n",
       "    </tr>\n",
       "    <tr>\n",
       "      <th>Lasso</th>\n",
       "      <td>0.021729</td>\n",
       "      <td>0.012128</td>\n",
       "      <td>0.019221</td>\n",
       "      <td>Lasso</td>\n",
       "    </tr>\n",
       "    <tr>\n",
       "      <th>Post-Lasso</th>\n",
       "      <td>0.019107</td>\n",
       "      <td>0.011978</td>\n",
       "      <td>0.016630</td>\n",
       "      <td>Post-Lasso</td>\n",
       "    </tr>\n",
       "    <tr>\n",
       "      <th>CV Ridge</th>\n",
       "      <td>-0.023908</td>\n",
       "      <td>0.009335</td>\n",
       "      <td>-0.025838</td>\n",
       "      <td>CV Ridge</td>\n",
       "    </tr>\n",
       "    <tr>\n",
       "      <th>CV Elnet</th>\n",
       "      <td>-0.035803</td>\n",
       "      <td>0.014903</td>\n",
       "      <td>-0.038884</td>\n",
       "      <td>CV Elnet</td>\n",
       "    </tr>\n",
       "    <tr>\n",
       "      <th>Random Forest</th>\n",
       "      <td>-0.036142</td>\n",
       "      <td>0.012308</td>\n",
       "      <td>-0.038686</td>\n",
       "      <td>Random Forest</td>\n",
       "    </tr>\n",
       "    <tr>\n",
       "      <th>Best</th>\n",
       "      <td>-0.011259</td>\n",
       "      <td>0.009625</td>\n",
       "      <td>-0.013249</td>\n",
       "      <td>Best</td>\n",
       "    </tr>\n",
       "  </tbody>\n",
       "</table>\n",
       "</div>"
      ],
      "text/plain": [
       "                                    Estimate  Standard Error  lower bound CI  \\\n",
       "OLS                                 0.005827       -0.009378        0.007766   \n",
       "OLS with countries characteristics  0.000700        0.029888       -0.005480   \n",
       "Lasso                               0.021729        0.012128        0.019221   \n",
       "Post-Lasso                          0.019107        0.011978        0.016630   \n",
       "CV Ridge                           -0.023908        0.009335       -0.025838   \n",
       "CV Elnet                           -0.035803        0.014903       -0.038884   \n",
       "Random Forest                      -0.036142        0.012308       -0.038686   \n",
       "Best                               -0.011259        0.009625       -0.013249   \n",
       "\n",
       "                                                             variables  \n",
       "OLS                                                                OLS  \n",
       "OLS with countries characteristics  OLS with countries characteristics  \n",
       "Lasso                                                            Lasso  \n",
       "Post-Lasso                                                  Post-Lasso  \n",
       "CV Ridge                                                      CV Ridge  \n",
       "CV Elnet                                                      CV Elnet  \n",
       "Random Forest                                            Random Forest  \n",
       "Best                                                              Best  "
      ]
     },
     "execution_count": 40,
     "metadata": {},
     "output_type": "execute_result"
    }
   ],
   "source": [
    "coef_df['variables'] = variables\n",
    "coef_df"
   ]
  },
  {
   "cell_type": "code",
   "execution_count": 42,
   "id": "a508d71f",
   "metadata": {},
   "outputs": [],
   "source": [
    "errors = coef_df['Estimate'] - coef_df['lower bound CI']"
   ]
  },
  {
   "cell_type": "code",
   "execution_count": 43,
   "id": "32f48517",
   "metadata": {},
   "outputs": [],
   "source": [
    "coef_df['errors'] = errors"
   ]
  },
  {
   "cell_type": "code",
   "execution_count": 44,
   "id": "68dfb37b",
   "metadata": {},
   "outputs": [
    {
     "name": "stderr",
     "output_type": "stream",
     "text": [
      "<ipython-input-44-b166271fc906>:17: FutureWarning: The pandas.np module is deprecated and will be removed from pandas in a future version. Import numpy directly instead\n",
      "  ax.scatter(x=pd.np.arange(coef_df.shape[0]),\n"
     ]
    },
    {
     "data": {
      "image/png": "[encoded data removed]",
      "text/plain": [
       "<Figure size 1080x720 with 1 Axes>"
      ]
     },
     "metadata": {
      "needs_background": "light"
     },
     "output_type": "display_data"
    }
   ],
   "source": [
    "# Define figure, axes, and plot\n",
    "fig, ax = plt.subplots(figsize=(15, 10))\n",
    "    \n",
    "# Error bars for 95% confidence interval\n",
    "# Can increase capsize to add whiskers\n",
    "coef_df.plot(x='variables', y='Estimate', kind='bar',\n",
    "            ax=ax, color='none', fontsize=22, \n",
    "            ecolor='steelblue',capsize=0,\n",
    "            yerr='errors', legend=False)\n",
    "    \n",
    "# Set title & labels\n",
    "plt.title('Coefficients of Features w/ 95% Confidence Intervals',fontsize=30)\n",
    "ax.set_ylabel('Coefficients',fontsize=22)\n",
    "ax.set_xlabel('',fontsize=22)\n",
    "    \n",
    "# Coefficients\n",
    "ax.scatter(x=pd.np.arange(coef_df.shape[0]), \n",
    "         marker='o', s=80, \n",
    "         y=coef_df['Estimate'], color='steelblue')\n",
    "    \n",
    "# Line to define zero on the y-axis\n",
    "ax.axhline(y=0, linestyle='--', color='red', linewidth=1)\n",
    "plt.show()"
   ]
  },
  {
   "cell_type": "markdown",
   "id": "d838da87",
   "metadata": {},
   "source": [
    "## CONCLUSIONS"
   ]
  },
  {
   "cell_type": "markdown",
   "id": "24f50be6",
   "metadata": {},
   "source": [
    "- First of all, all of methods used are significant, except OLS with countries characteristics\n",
    "- Secondly, OLS, Lasso and Post - Lasso models tell us that the poor countries do not grow faster than rich countries ($ \\beta >0 $). However, Cross Validation Ridge, Cross Valdiation Elnet and Random Forest model tell us that poor countries do grow fast than rich countries ($ \\beta <0 $)"
   ]
  }
 ],
 "metadata": {
  "kernelspec": {
   "display_name": "Python 3",
   "language": "python",
   "name": "python3"
  },
  "language_info": {
   "codemirror_mode": {
    "name": "ipython",
    "version": 3
   },
   "file_extension": ".py",
   "mimetype": "text/x-python",
   "name": "python",
   "nbconvert_exporter": "python",
   "pygments_lexer": "ipython3",
   "version": "3.8.8"
  }
 },
 "nbformat": 4,
 "nbformat_minor": 5
}
