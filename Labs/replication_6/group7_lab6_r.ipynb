{
 "cells": [
  {
   "cell_type": "markdown",
   "id": "a67f3db2",
   "metadata": {},
   "source": [
    "# Work group 7"
   ]
  },
  {
   "cell_type": "markdown",
   "id": "fb1e9648",
   "metadata": {},
   "source": [
    "## 1. CAUSAL FOREST"
   ]
  },
  {
   "cell_type": "markdown",
   "id": "e9149533",
   "metadata": {},
   "source": [
    "This workgroup replicates the results obtaines by Athey and Wager (2019) about The National Study of Learning Mindsets, a randomized study focused on evaluating the impact of instilling students with a growth mindset over academic achievement.\n",
    "\n",
    "The included variables are:\n",
    "\n",
    "$S3$: Student's self-reported expectations for success in the future, a proxy for prior achievement, measured prior to random assignment\n",
    "\n",
    "$C1$: Categorical variable for student race/ethnicity\n",
    "\n",
    "$C2$: Categorical variable for student identified gender\n",
    "\n",
    "$C3$: Categorical variable for student first-generation status, i.e. first in family to go to college\n",
    "\n",
    "$XC$: School-level categorical variable for urbanicity of the school, i.e. rural, suburban,etc.\n",
    "\n",
    "$X1$: School-level mean of students' xed mindsets, reported prior to random assignment\n",
    "\n",
    "$X2$: School achievement level, as measured by test scores and college preparation for the previous 4 cohorts of students\n",
    "\n",
    "$X3$: School racial/ethnic minority composition, i.e., percentage of student body that is Black, Latino, or Native American\n",
    "\n",
    "$X4$: School poverty concentration, i.e., percentage of students who are from families whose incomes fall below the federal poverty line\n",
    "\n",
    "$X5$: School size, i.e., total number of students in all four grade levels in the school\n",
    "\n",
    "$Y$: Post-treatment outcome, a continuous measure of achievement\n",
    "\n",
    "$W$: Treatment, i.e., receipt of the intervention\n",
    "\n",
    "Being $Y$ and $W$ the main variables of interest."
   ]
  },
  {
   "cell_type": "code",
   "execution_count": 1,
   "id": "83cbecd7",
   "metadata": {
    "scrolled": true
   },
   "outputs": [
    {
     "name": "stdout",
     "output_type": "stream",
     "text": [
      "\n",
      "  There is a binary version available but the source version is later:\n",
      "      binary source needs_compilation\n",
      "Hmisc  4.5-0  4.6-0              TRUE\n",
      "\n"
     ]
    },
    {
     "name": "stderr",
     "output_type": "stream",
     "text": [
      "installing the source package 'Hmisc'\n",
      "\n",
      "\n"
     ]
    },
    {
     "name": "stdout",
     "output_type": "stream",
     "text": [
      "\n",
      "  There is a binary version available but the source version is later:\n",
      "    binary source needs_compilation\n",
      "grf  1.2.0  2.0.2              TRUE\n",
      "\n"
     ]
    },
    {
     "name": "stderr",
     "output_type": "stream",
     "text": [
      "installing the source package 'grf'\n",
      "\n",
      "\n"
     ]
    }
   ],
   "source": [
    "install.packages(\"Hmisc\")\n",
    "install.packages('grf')\n"
   ]
  },
  {
   "cell_type": "code",
   "execution_count": 2,
   "id": "2ff54729",
   "metadata": {},
   "outputs": [
    {
     "name": "stderr",
     "output_type": "stream",
     "text": [
      "Loading required package: zoo\n",
      "\n",
      "\n",
      "Attaching package: 'zoo'\n",
      "\n",
      "\n",
      "The following objects are masked from 'package:base':\n",
      "\n",
      "    as.Date, as.Date.numeric\n",
      "\n",
      "\n",
      "Loading required package: lattice\n",
      "\n",
      "Warning message:\n",
      "\"package 'lattice' was built under R version 3.6.3\"\n",
      "Loading required package: survival\n",
      "\n",
      "Warning message:\n",
      "\"package 'survival' was built under R version 3.6.3\"\n",
      "Loading required package: Formula\n",
      "\n",
      "Warning message:\n",
      "\"package 'Formula' was built under R version 3.6.3\"\n",
      "Loading required package: ggplot2\n",
      "\n",
      "\n",
      "Attaching package: 'Hmisc'\n",
      "\n",
      "\n",
      "The following objects are masked from 'package:base':\n",
      "\n",
      "    format.pval, units\n",
      "\n",
      "\n"
     ]
    }
   ],
   "source": [
    "set.seed(1)\n",
    "\n",
    "rm(list = ls())\n",
    "\n",
    "library(grf)\n",
    "if(packageVersion(\"grf\") < '0.10.2') {\n",
    "  warning(\"This script requires grf 0.10.2 or higher\")\n",
    "}\n",
    "library(sandwich)\n",
    "library(lmtest)\n",
    "library(Hmisc)\n",
    "library(ggplot2)"
   ]
  },
  {
   "cell_type": "code",
   "execution_count": 37,
   "id": "8c7a3994",
   "metadata": {},
   "outputs": [],
   "source": [
    "data.all = read.csv(\"synthetic_data.csv\")\n",
    "data.all$schoolid = factor(data.all$schoolid)\n",
    "\n",
    "DF = data.all[,-1]\n",
    "school.id = as.numeric(data.all$schoolid)\n",
    "\n",
    "school.mat = model.matrix(~ schoolid + 0, data = data.all)\n",
    "school.size = colSums(school.mat)"
   ]
  },
  {
   "cell_type": "code",
   "execution_count": 38,
   "id": "065d5f08",
   "metadata": {
    "scrolled": true
   },
   "outputs": [
    {
     "data": {
      "text/plain": [
       "\n",
       "Call:\n",
       "glm(formula = Z ~ ., family = binomial, data = data.all[, -3])\n",
       "\n",
       "Deviance Residuals: \n",
       "    Min       1Q   Median       3Q      Max  \n",
       "-1.2079  -0.9088  -0.8297   1.4176   1.9556  \n",
       "\n",
       "Coefficients: (6 not defined because of singularities)\n",
       "              Estimate Std. Error z value Pr(>|z|)    \n",
       "(Intercept) -0.9524636  0.2845173  -3.348 0.000815 ***\n",
       "schoolid2    0.0697302  0.2766287   0.252 0.800986    \n",
       "schoolid3    0.0382080  0.2911323   0.131 0.895586    \n",
       "schoolid4    0.1761334  0.2784711   0.633 0.527059    \n",
       "schoolid5   -0.0033389  0.2950180  -0.011 0.990970    \n",
       "schoolid6    0.0583548  0.3067481   0.190 0.849124    \n",
       "schoolid7   -0.1313759  0.3188190  -0.412 0.680288    \n",
       "schoolid8    0.1233661  0.3023736   0.408 0.683279    \n",
       "schoolid9   -0.1955428  0.3073344  -0.636 0.524611    \n",
       "schoolid10  -0.1892794  0.2968750  -0.638 0.523752    \n",
       "schoolid11  -0.2224060  0.5461005  -0.407 0.683816    \n",
       "schoolid12  -0.3312420  0.5414374  -0.612 0.540682    \n",
       "schoolid13  -0.0408540  0.3989507  -0.102 0.918436    \n",
       "schoolid14  -0.8681934  0.6033674  -1.439 0.150175    \n",
       "schoolid15  -0.1059135  0.3263162  -0.325 0.745504    \n",
       "schoolid16  -0.1063268  0.2885387  -0.369 0.712500    \n",
       "schoolid17   0.0854323  0.3119435   0.274 0.784184    \n",
       "schoolid18  -0.1924441  0.2997822  -0.642 0.520908    \n",
       "schoolid19  -0.0265326  0.3229712  -0.082 0.934526    \n",
       "schoolid20  -0.2179554  0.3041336  -0.717 0.473594    \n",
       "schoolid21  -0.2147440  0.2982822  -0.720 0.471565    \n",
       "schoolid22  -0.5115966  0.4410779  -1.160 0.246098    \n",
       "schoolid23   0.0039231  0.3475373   0.011 0.990994    \n",
       "schoolid24  -0.0848314  0.3259572  -0.260 0.794668    \n",
       "schoolid25   0.0521087  0.2754586   0.189 0.849959    \n",
       "schoolid26   0.0241212  0.2876511   0.084 0.933171    \n",
       "schoolid27  -0.2300630  0.3104796  -0.741 0.458698    \n",
       "schoolid28  -0.3519010  0.2924774  -1.203 0.228909    \n",
       "schoolid29  -0.2198764  0.3293288  -0.668 0.504357    \n",
       "schoolid30  -0.3146292  0.3257994  -0.966 0.334187    \n",
       "schoolid31   0.1398555  0.6137901   0.228 0.819759    \n",
       "schoolid32   0.1555524  0.3916156   0.397 0.691215    \n",
       "schoolid33  -0.0991693  0.3939370  -0.252 0.801243    \n",
       "schoolid34  -0.0073688  0.2980808  -0.025 0.980278    \n",
       "schoolid35  -0.3528987  0.3997273  -0.883 0.377318    \n",
       "schoolid36  -0.3751465  0.3988972  -0.940 0.346982    \n",
       "schoolid37  -0.0343169  0.3219646  -0.107 0.915117    \n",
       "schoolid38  -0.1346432  0.3851869  -0.350 0.726674    \n",
       "schoolid39  -0.4339936  0.3612869  -1.201 0.229657    \n",
       "schoolid40  -0.3993958  0.3834495  -1.042 0.297604    \n",
       "schoolid41  -0.1490784  0.3542105  -0.421 0.673846    \n",
       "schoolid42  -0.1545715  0.3551857  -0.435 0.663428    \n",
       "schoolid43  -0.5679567  0.4277455  -1.328 0.184247    \n",
       "schoolid44  -0.1425896  0.3774795  -0.378 0.705623    \n",
       "schoolid45  -0.1337888  0.3232493  -0.414 0.678957    \n",
       "schoolid46  -0.2573249  0.3129119  -0.822 0.410874    \n",
       "schoolid47   0.0027726  0.2770108   0.010 0.992014    \n",
       "schoolid48  -0.3406079  0.3470361  -0.981 0.326358    \n",
       "schoolid49  -0.3236117  0.3434541  -0.942 0.346077    \n",
       "schoolid50  -0.1185119  0.4086074  -0.290 0.771787    \n",
       "schoolid51   0.4087898  0.4506822   0.907 0.364382    \n",
       "schoolid52  -0.3144014  0.4118342  -0.763 0.445214    \n",
       "schoolid53  -0.2733677  0.4511280  -0.606 0.544538    \n",
       "schoolid54  -0.0889588  0.3872532  -0.230 0.818311    \n",
       "schoolid55  -0.1558106  0.4155020  -0.375 0.707665    \n",
       "schoolid56   0.1050353  0.3149235   0.334 0.738737    \n",
       "schoolid57  -0.0314901  0.2901719  -0.109 0.913581    \n",
       "schoolid58  -0.0383183  0.2730077  -0.140 0.888379    \n",
       "schoolid59  -0.0529637  0.2934895  -0.180 0.856790    \n",
       "schoolid60  -0.1624792  0.3972885  -0.409 0.682561    \n",
       "schoolid61  -0.0289549  0.3201953  -0.090 0.927946    \n",
       "schoolid62   0.0993158  0.2669678   0.372 0.709882    \n",
       "schoolid63   0.1684702  0.3282167   0.513 0.607749    \n",
       "schoolid64  -0.0693060  0.2770896  -0.250 0.802493    \n",
       "schoolid65  -0.0004197  0.4072922  -0.001 0.999178    \n",
       "schoolid66  -0.2130911  0.2984091  -0.714 0.475171    \n",
       "schoolid67   0.0358440  0.2921158   0.123 0.902341    \n",
       "schoolid68  -0.0871303  0.3290814  -0.265 0.791188    \n",
       "schoolid69  -0.2550387  0.2908992  -0.877 0.380636    \n",
       "schoolid70  -0.0268947  0.4032160  -0.067 0.946820    \n",
       "schoolid71   0.0037464  0.4268290   0.009 0.992997    \n",
       "schoolid72  -0.1304085  0.2881512  -0.453 0.650859    \n",
       "schoolid73  -0.2160697  0.2840030  -0.761 0.446776    \n",
       "schoolid74  -0.0935320  0.2842612  -0.329 0.742129    \n",
       "schoolid75  -0.1056241  0.3024204  -0.349 0.726892    \n",
       "schoolid76  -0.1052261  0.2939262  -0.358 0.720342    \n",
       "S3           0.1036077  0.0197345   5.250 1.52e-07 ***\n",
       "C1          -0.0015919  0.0053900  -0.295 0.767728    \n",
       "C2          -0.1038596  0.0424020  -2.449 0.014309 *  \n",
       "C3          -0.1319218  0.0461833  -2.856 0.004284 ** \n",
       "XC                  NA         NA      NA       NA    \n",
       "X1                  NA         NA      NA       NA    \n",
       "X2                  NA         NA      NA       NA    \n",
       "X3                  NA         NA      NA       NA    \n",
       "X4                  NA         NA      NA       NA    \n",
       "X5                  NA         NA      NA       NA    \n",
       "---\n",
       "Signif. codes:  0 '***' 0.001 '**' 0.01 '*' 0.05 '.' 0.1 ' ' 1\n",
       "\n",
       "(Dispersion parameter for binomial family taken to be 1)\n",
       "\n",
       "    Null deviance: 13115  on 10390  degrees of freedom\n",
       "Residual deviance: 13009  on 10311  degrees of freedom\n",
       "AIC: 13169\n",
       "\n",
       "Number of Fisher Scoring iterations: 4\n"
      ]
     },
     "metadata": {},
     "output_type": "display_data"
    }
   ],
   "source": [
    "# It appears that school ID does not affect pscore. So ignore it\n",
    "# in modeling, and just treat it as source of per-cluster error.\n",
    "w.lm = glm(Z ~ ., data = data.all[,-3], family = binomial)\n",
    "summary(w.lm)"
   ]
  },
  {
   "cell_type": "code",
   "execution_count": 39,
   "id": "a7ee6f31",
   "metadata": {},
   "outputs": [],
   "source": [
    "W = DF$Z\n",
    "Y = DF$Y\n",
    "X.raw = DF[,-(1:2)]\n",
    "\n",
    "C1.exp = model.matrix(~ factor(X.raw$C1) + 0)\n",
    "XC.exp = model.matrix(~ factor(X.raw$XC) + 0)\n",
    "\n",
    "X = cbind(X.raw[,-which(names(X.raw) %in% c(\"C1\", \"XC\"))], C1.exp, XC.exp)"
   ]
  },
  {
   "cell_type": "markdown",
   "id": "8ed7f653",
   "metadata": {},
   "source": [
    "### 1. BUILT TREE"
   ]
  },
  {
   "cell_type": "code",
   "execution_count": 40,
   "id": "808e5285",
   "metadata": {},
   "outputs": [],
   "source": [
    "# Grow a forest. Add extra trees for the causal forest.\n",
    "#\n",
    "\n",
    "Y.forest = regression_forest(X, Y, clusters = school.id, equalize.cluster.weights = TRUE)\n",
    "Y.hat = predict(Y.forest)$predictions\n",
    "W.forest = regression_forest(X, W, clusters = school.id, equalize.cluster.weights = TRUE)\n",
    "W.hat = predict(W.forest)$predictions\n",
    "\n",
    "cf.raw = causal_forest(X, Y, W,\n",
    "                       Y.hat = Y.hat, W.hat = W.hat,\n",
    "                       clusters = school.id,\n",
    "                       equalize.cluster.weights = TRUE)\n",
    "varimp = variable_importance(cf.raw)\n",
    "selected.idx = which(varimp > mean(varimp))\n",
    "\n",
    "cf = causal_forest(X[,selected.idx], Y, W,\n",
    "                   Y.hat = Y.hat, W.hat = W.hat,\n",
    "                   clusters = school.id,\n",
    "                   equalize.cluster.weights = TRUE,\n",
    "                   tune.parameters = \"all\")\n",
    "tau.hat = predict(cf)$predictions"
   ]
  },
  {
   "cell_type": "markdown",
   "id": "5e4140aa",
   "metadata": {},
   "source": [
    "### 2. Average Treatment Effect (ATE)"
   ]
  },
  {
   "cell_type": "markdown",
   "id": "2f51111e",
   "metadata": {},
   "source": [
    "The ATE is defined as:\n",
    "\n",
    "$$\n",
    "\\tau = E[Y_i (1) - Y_i(0)]\n",
    "$$"
   ]
  },
  {
   "cell_type": "code",
   "execution_count": 41,
   "id": "cf562ed4",
   "metadata": {},
   "outputs": [
    {
     "data": {
      "text/html": [
       "'95% CI for the ATE: 0.247 +/- 0.039'"
      ],
      "text/latex": [
       "'95\\% CI for the ATE: 0.247 +/- 0.039'"
      ],
      "text/markdown": [
       "'95% CI for the ATE: 0.247 +/- 0.039'"
      ],
      "text/plain": [
       "[1] \"95% CI for the ATE: 0.247 +/- 0.039\""
      ]
     },
     "metadata": {},
     "output_type": "display_data"
    }
   ],
   "source": [
    "\n",
    "ATE = average_treatment_effect(cf)\n",
    "paste(\"95% CI for the ATE:\", round(ATE[1], 3),\n",
    "      \"+/-\", round(qnorm(0.975) * ATE[2], 3))"
   ]
  },
  {
   "cell_type": "markdown",
   "id": "d2ca3b27",
   "metadata": {},
   "source": [
    "Here we can see that the ATE is $0.247$ with a confidence interval of $+/- 0.039$ which means the study has a positive effect in instilling students with a growth mindset."
   ]
  },
  {
   "cell_type": "markdown",
   "id": "76186b3f",
   "metadata": {},
   "source": [
    "### 3. Run best linear predictor analysis\n",
    "As explained by the authors, the best linear predictor indicates whether or not treatment heterogeneity estimates are well-calibrated. Since the estimator is close to $1$ and significant, we can assume the causal forest was successful in finding heterogeneity."
   ]
  },
  {
   "cell_type": "code",
   "execution_count": 42,
   "id": "e3467d81",
   "metadata": {
    "scrolled": true
   },
   "outputs": [
    {
     "data": {
      "text/plain": [
       "\n",
       "Best linear fit using forest predictions (on held-out data)\n",
       "as well as the mean forest prediction as regressors, along\n",
       "with one-sided heteroskedasticity-robust (HC3) SEs:\n",
       "\n",
       "                               Estimate Std. Error t value Pr(>t)    \n",
       "mean.forest.prediction          1.00401    0.08309 12.0834 <2e-16 ***\n",
       "differential.forest.prediction  0.34871    0.60622  0.5752 0.2826    \n",
       "---\n",
       "Signif. codes:  0 '***' 0.001 '**' 0.01 '*' 0.05 '.' 0.1 ' ' 1\n"
      ]
     },
     "metadata": {},
     "output_type": "display_data"
    },
    {
     "data": {
      "text/html": [
       "'95% CI for difference in ATE: 0.045 +/- 0.075'"
      ],
      "text/latex": [
       "'95\\% CI for difference in ATE: 0.045 +/- 0.075'"
      ],
      "text/markdown": [
       "'95% CI for difference in ATE: 0.045 +/- 0.075'"
      ],
      "text/plain": [
       "[1] \"95% CI for difference in ATE: 0.045 +/- 0.075\""
      ]
     },
     "metadata": {},
     "output_type": "display_data"
    }
   ],
   "source": [
    "# Run best linear predictor analysis\n",
    "test_calibration(cf)\n",
    "\n",
    "# Compare regions with high and low estimated CATEs\n",
    "high_effect = tau.hat > median(tau.hat)\n",
    "ate.high = average_treatment_effect(cf, subset = high_effect)\n",
    "ate.low = average_treatment_effect(cf, subset = !high_effect)\n",
    "paste(\"95% CI for difference in ATE:\",\n",
    "      round(ate.high[1] - ate.low[1], 3), \"+/-\",\n",
    "      round(qnorm(0.975) * sqrt(ate.high[2]^2 + ate.low[2]^2), 3))\n",
    "\n"
   ]
  },
  {
   "cell_type": "code",
   "execution_count": 43,
   "id": "0d10e432",
   "metadata": {},
   "outputs": [
    {
     "data": {
      "text/plain": [
       "\n",
       "\tWelch Two Sample t-test\n",
       "\n",
       "data:  school.score[high.X1] and school.score[!high.X1]\n",
       "t = -3.008, df = 72.14, p-value = 0.003619\n",
       "alternative hypothesis: true difference in means is not equal to 0\n",
       "95 percent confidence interval:\n",
       " -0.19083219 -0.03871302\n",
       "sample estimates:\n",
       "mean of x mean of y \n",
       "0.1895662 0.3043388 \n"
      ]
     },
     "metadata": {},
     "output_type": "display_data"
    },
    {
     "data": {
      "text/plain": [
       "\n",
       "\tWelch Two Sample t-test\n",
       "\n",
       "data:  school.score[high.X2] and school.score[!high.X2]\n",
       "t = 1.0594, df = 72.091, p-value = 0.293\n",
       "alternative hypothesis: true difference in means is not equal to 0\n",
       "95 percent confidence interval:\n",
       " -0.03747253  0.12247204\n",
       "sample estimates:\n",
       "mean of x mean of y \n",
       "0.2682024 0.2257027 \n"
      ]
     },
     "metadata": {},
     "output_type": "display_data"
    },
    {
     "data": {
      "text/plain": [
       "                 Df Sum Sq Mean Sq F value Pr(>F)\n",
       "school.X2.levels  2 0.0863 0.04313   1.424  0.247\n",
       "Residuals        73 2.2110 0.03029               "
      ]
     },
     "metadata": {},
     "output_type": "display_data"
    }
   ],
   "source": [
    "# formal test for X1 and X2\n",
    "\n",
    "dr.score = tau.hat + W / cf$W.hat *\n",
    "  (Y - cf$Y.hat - (1 - cf$W.hat) * tau.hat) -\n",
    "  (1 - W) / (1 - cf$W.hat) * (Y - cf$Y.hat + cf$W.hat * tau.hat)\n",
    "school.score = t(school.mat) %*% dr.score / school.size\n",
    "\n",
    "school.X1 = t(school.mat) %*% X$X1 / school.size\n",
    "high.X1 = school.X1 > median(school.X1)\n",
    "t.test(school.score[high.X1], school.score[!high.X1])\n",
    "\n",
    "school.X2 = (t(school.mat) %*% X$X2) / school.size\n",
    "high.X2 = school.X2 > median(school.X2)\n",
    "t.test(school.score[high.X2], school.score[!high.X2])\n",
    "\n",
    "school.X2.levels = cut(school.X2,\n",
    "  breaks = c(-Inf, quantile(school.X2, c(1/3, 2/3)), Inf))\n",
    "summary(aov(school.score ~ school.X2.levels))"
   ]
  },
  {
   "cell_type": "code",
   "execution_count": 44,
   "id": "313e04cb",
   "metadata": {
    "scrolled": false
   },
   "outputs": [
    {
     "data": {
      "text/plain": [
       "\n",
       "\tOne Sample t-test\n",
       "\n",
       "data:  school.score.XS3.high - school.score.XS3.low\n",
       "t = 2.1917, df = 75, p-value = 0.0315\n",
       "alternative hypothesis: true mean is not equal to 0\n",
       "95 percent confidence interval:\n",
       " 0.007566835 0.158589267\n",
       "sample estimates:\n",
       " mean of x \n",
       "0.08307805 \n"
      ]
     },
     "metadata": {},
     "output_type": "display_data"
    },
    {
     "data": {
      "image/png": "[encoded data removed]",
      "text/plain": [
       "plot without title"
      ]
     },
     "metadata": {
      "image/png": {
       "height": 420,
       "width": 420
      }
     },
     "output_type": "display_data"
    }
   ],
   "source": [
    "# formal test for S3\n",
    "school.score.XS3.high = t(school.mat) %*% (dr.score * (X$S3 >= 6)) /\n",
    "  t(school.mat) %*% (X$S3 >= 6)\n",
    "school.score.XS3.low = t(school.mat) %*% (dr.score * (X$S3 < 6)) /\n",
    "  t(school.mat) %*% (X$S3 < 6)\n",
    "\n",
    "plot(school.score.XS3.low, school.score.XS3.high)\n",
    "t.test(school.score.XS3.high - school.score.XS3.low)"
   ]
  },
  {
   "cell_type": "markdown",
   "id": "b040d809",
   "metadata": {},
   "source": [
    "### 4. School-wise heterogeneity"
   ]
  },
  {
   "cell_type": "code",
   "execution_count": 45,
   "id": "81d0c3e3",
   "metadata": {},
   "outputs": [
    {
     "data": {
      "image/png": "[encoded data removed]",
      "text/plain": [
       "Plot with title \"\""
      ]
     },
     "metadata": {
      "image/png": {
       "height": 420,
       "width": 420
      }
     },
     "output_type": "display_data"
    }
   ],
   "source": [
    "# Look at school-wise heterogeneity\n",
    "#pdf(\"school_hist.pdf\")\n",
    "pardef = par(mar = c(5, 4, 4, 2) + 0.5, cex.lab=1.5, cex.axis=1.5, cex.main=1.5, cex.sub=1.5)\n",
    "hist(school.score, xlab = \"School Treatment Effect Estimate\", main = \"\")\n",
    "#dev.off()"
   ]
  },
  {
   "cell_type": "code",
   "execution_count": 46,
   "id": "25cf0f80",
   "metadata": {},
   "outputs": [
    {
     "name": "stdout",
     "output_type": "stream",
     "text": [
      "[1] \"0.247 +/- 0.039\"\n"
     ]
    }
   ],
   "source": [
    "# Re-check ATE... sanity check only\n",
    "ate.hat = mean(school.score)\n",
    "se.hat = sqrt(var(school.score) / length(school.score - 1))\n",
    "print(paste(round(ate.hat, 3), \"+/-\", round(1.96 * se.hat, 3)))"
   ]
  },
  {
   "cell_type": "code",
   "execution_count": 47,
   "id": "d9bba058",
   "metadata": {
    "scrolled": false
   },
   "outputs": [
    {
     "data": {
      "image/png": "[encoded data removed]",
      "text/plain": [
       "plot without title"
      ]
     },
     "metadata": {
      "image/png": {
       "height": 420,
       "width": 420
      }
     },
     "output_type": "display_data"
    }
   ],
   "source": [
    "# Look at variation in propensity scores\n",
    "\n",
    "DF = X\n",
    "DF$W.hat = cf$W.hat\n",
    "\n",
    "#pdf(\"pscore.pdf\")\n",
    "pardef = par(mar = c(5, 4, 4, 2) + 0.5, cex.lab=1.5, cex.axis=1.5, cex.main=1.5, cex.sub=1.5)\n",
    "boxplot(W.hat ~ S3, data = DF, ylab = \"Propensity Score\", xlab = \"Student Expectation of Success\")\n",
    "lines(smooth.spline(X$S3, cf$W.hat), lwd = 2, col = 4)\n",
    "#dev.off()\n"
   ]
  },
  {
   "cell_type": "markdown",
   "id": "50202bcc",
   "metadata": {},
   "source": [
    "We see that students with a higher expectation of success are more likely to receive treatment."
   ]
  },
  {
   "cell_type": "markdown",
   "id": "5a8c639f",
   "metadata": {},
   "source": [
    "### 5. Analysis ignoring clusters\n",
    "When ignoring clusters, the ATE is slightly bigger at $0.252$, with a smaller confidence interval (roughly half of the previous CI) of $+/- 0.022$."
   ]
  },
  {
   "cell_type": "code",
   "execution_count": 48,
   "id": "81dcb2f8",
   "metadata": {
    "scrolled": false
   },
   "outputs": [
    {
     "data": {
      "text/html": [
       "'95% CI for the ATE: 0.252 +/- 0.022'"
      ],
      "text/latex": [
       "'95\\% CI for the ATE: 0.252 +/- 0.022'"
      ],
      "text/markdown": [
       "'95% CI for the ATE: 0.252 +/- 0.022'"
      ],
      "text/plain": [
       "[1] \"95% CI for the ATE: 0.252 +/- 0.022\""
      ]
     },
     "metadata": {},
     "output_type": "display_data"
    },
    {
     "data": {
      "text/plain": [
       "\n",
       "Best linear fit using forest predictions (on held-out data)\n",
       "as well as the mean forest prediction as regressors, along\n",
       "with one-sided heteroskedasticity-robust (HC3) SEs:\n",
       "\n",
       "                               Estimate Std. Error t value    Pr(>t)    \n",
       "mean.forest.prediction         1.008914   0.045079 22.3811 < 2.2e-16 ***\n",
       "differential.forest.prediction 0.518728   0.122947  4.2191 1.237e-05 ***\n",
       "---\n",
       "Signif. codes:  0 '***' 0.001 '**' 0.01 '*' 0.05 '.' 0.1 ' ' 1\n"
      ]
     },
     "metadata": {},
     "output_type": "display_data"
    },
    {
     "name": "stdout",
     "output_type": "stream",
     "text": [
      "[1] 1\n",
      "[1] 2\n",
      "[1] 3\n",
      "[1] 4\n",
      "[1] 5\n"
     ]
    },
    {
     "data": {
      "text/plain": [
       "\n",
       "Best linear fit using forest predictions (on held-out data)\n",
       "as well as the mean forest prediction as regressors, along\n",
       "with one-sided heteroskedasticity-robust (HC3) SEs:\n",
       "\n",
       "                               Estimate Std. Error t value Pr(>t)    \n",
       "mean.forest.prediction         0.985974   0.065001 15.1685 <2e-16 ***\n",
       "differential.forest.prediction 0.180932   0.178758  1.0122 0.1557    \n",
       "---\n",
       "Signif. codes:  0 '***' 0.001 '**' 0.01 '*' 0.05 '.' 0.1 ' ' 1\n"
      ]
     },
     "metadata": {},
     "output_type": "display_data"
    },
    {
     "data": {
      "text/html": [
       "<style>\n",
       ".list-inline {list-style: none; margin:0; padding: 0}\n",
       ".list-inline>li {display: inline-block}\n",
       ".list-inline>li:not(:last-child)::after {content: \"\\00b7\"; padding: 0 .5ex}\n",
       "</style>\n",
       "<ol class=list-inline><li>4.35514521929803e-05</li><li>0.000916864053937316</li></ol>\n"
      ],
      "text/latex": [
       "\\begin{enumerate*}\n",
       "\\item 4.35514521929803e-05\n",
       "\\item 0.000916864053937316\n",
       "\\end{enumerate*}\n"
      ],
      "text/markdown": [
       "1. 4.35514521929803e-05\n",
       "2. 0.000916864053937316\n",
       "\n",
       "\n"
      ],
      "text/plain": [
       "[1] 4.355145e-05 9.168641e-04"
      ]
     },
     "metadata": {},
     "output_type": "display_data"
    },
    {
     "data": {
      "text/plain": [
       "                     Df Sum Sq Mean Sq F value   Pr(>F)    \n",
       "factor(school.id)    75    201   2.681   1.986 9.36e-07 ***\n",
       "Residuals         10315  13920   1.349                     \n",
       "---\n",
       "Signif. codes:  0 '***' 0.001 '**' 0.01 '*' 0.05 '.' 0.1 ' ' 1"
      ]
     },
     "metadata": {},
     "output_type": "display_data"
    },
    {
     "data": {
      "image/png": "[encoded data removed]",
      "text/plain": [
       "plot without title"
      ]
     },
     "metadata": {
      "image/png": {
       "height": 420,
       "width": 420
      }
     },
     "output_type": "display_data"
    }
   ],
   "source": [
    "\n",
    "\n",
    "cf.noclust = causal_forest(X[,selected.idx], Y, W,\n",
    "                           Y.hat = Y.hat, W.hat = W.hat,\n",
    "                           tune.parameters = \"all\")\n",
    "\n",
    "ATE.noclust = average_treatment_effect(cf.noclust)\n",
    "paste(\"95% CI for the ATE:\", round(ATE.noclust[1], 3),\n",
    "      \"+/-\", round(qnorm(0.975) * ATE.noclust[2], 3))\n",
    "\n",
    "test_calibration(cf.noclust)\n",
    "\n",
    "tau.hat.noclust = predict(cf.noclust)$predict\n",
    "plot(school.id, tau.hat.noclust)\n",
    "\n",
    "nfold = 5\n",
    "school.levels = unique(school.id)\n",
    "cluster.folds = sample.int(nfold, length(school.levels), replace = TRUE)\n",
    "\n",
    "tau.hat.crossfold = rep(NA, length(Y))\n",
    "for (foldid in 1:nfold) {\n",
    "  print(foldid)\n",
    "  infold = school.id %in% school.levels[cluster.folds == foldid]\n",
    "  cf.fold = causal_forest(X[!infold, selected.idx], Y[!infold], W[!infold],\n",
    "                          Y.hat = Y.hat[!infold], W.hat = W.hat[!infold],\n",
    "                          tune.parameters = \"all\")\n",
    "  pred.fold = predict(cf.fold, X[infold, selected.idx])$predictions\n",
    "  tau.hat.crossfold[infold] = pred.fold\n",
    "}\n",
    "\n",
    "cf.noclust.cpy = cf.noclust\n",
    "cf.noclust.cpy$predictions = tau.hat.crossfold\n",
    "cf.noclust.cpy$clusters = school.id\n",
    "test_calibration(cf.noclust.cpy)\n",
    "\n",
    "Rloss = mean(((Y - Y.hat) - tau.hat * (W - W.hat))^2)\n",
    "Rloss.noclust = mean(((Y - Y.hat) - tau.hat.noclust * (W - W.hat))^2)\n",
    "Rloss.crossfold = mean(((Y - Y.hat) - tau.hat.crossfold * (W - W.hat))^2)\n",
    "\n",
    "c(Rloss.noclust - Rloss, Rloss.crossfold - Rloss)\n",
    "\n",
    "summary(aov(dr.score ~ factor(school.id)))\n"
   ]
  },
  {
   "cell_type": "markdown",
   "id": "7b966375",
   "metadata": {},
   "source": [
    "### 6. Analysis without fitting propensity score\n",
    "We notice that training a causal forest without accounting for propensity score does not significantly change the ATE (from $0.257$ to %0.254$), even though we saw a significant relationship between a higher expectation of success and the likeliness of receiving treatment. The authors note that this may be because of the presence of more relevant confounders in the estimation"
   ]
  },
  {
   "cell_type": "code",
   "execution_count": 49,
   "id": "b5c3dc38",
   "metadata": {},
   "outputs": [
    {
     "data": {
      "text/html": [
       "'95% CI for the ATE: 0.254 +/- 0.039'"
      ],
      "text/latex": [
       "'95\\% CI for the ATE: 0.254 +/- 0.039'"
      ],
      "text/markdown": [
       "'95% CI for the ATE: 0.254 +/- 0.039'"
      ],
      "text/plain": [
       "[1] \"95% CI for the ATE: 0.254 +/- 0.039\""
      ]
     },
     "metadata": {},
     "output_type": "display_data"
    },
    {
     "data": {
      "image/png": "[encoded data removed]",
      "text/plain": [
       "plot without title"
      ]
     },
     "metadata": {
      "image/png": {
       "height": 420,
       "width": 420
      }
     },
     "output_type": "display_data"
    }
   ],
   "source": [
    "\n",
    "cf.noprop = causal_forest(X[,selected.idx], Y, W,\n",
    "                          Y.hat = Y.hat, W.hat = mean(W),\n",
    "                          tune.parameters = \"all\",\n",
    "                          equalize.cluster.weights = TRUE,\n",
    "                          clusters = school.id)\n",
    "tau.hat.noprop = predict(cf.noprop)$predictions\n",
    "\n",
    "ATE.noprop = average_treatment_effect(cf.noprop)\n",
    "paste(\"95% CI for the ATE:\", round(ATE.noprop[1], 3),\n",
    "      \"+/-\", round(qnorm(0.975) * ATE.noprop[2], 3))\n",
    "\n",
    "#pdf(\"tauhat_noprop.pdf\")\n",
    "pardef = par(mar = c(5, 4, 4, 2) + 0.5, cex.lab=1.5, cex.axis=1.5, cex.main=1.5, cex.sub=1.5)\n",
    "plot(tau.hat, tau.hat.noprop,\n",
    "     xlim = range(tau.hat, tau.hat.noprop),\n",
    "     ylim = range(tau.hat, tau.hat.noprop),\n",
    "     xlab = \"orthogonalized causal forest estimates\",\n",
    "     ylab = \"non-orthogonalized causal forest\")\n",
    "abline(0, 1, lwd = 2, lty = 2, col = 4)\n",
    "par = pardef\n",
    "#dev.off()"
   ]
  },
  {
   "cell_type": "code",
   "execution_count": 50,
   "id": "a81e93a2",
   "metadata": {
    "scrolled": true
   },
   "outputs": [
    {
     "data": {
      "text/plain": [
       "\n",
       "Best linear fit using forest predictions (on held-out data)\n",
       "as well as the mean forest prediction as regressors, along\n",
       "with one-sided heteroskedasticity-robust (HC3) SEs:\n",
       "\n",
       "                               Estimate Std. Error t value Pr(>t)    \n",
       "mean.forest.prediction         1.001053   0.082461 12.1397 <2e-16 ***\n",
       "differential.forest.prediction 0.611246   0.680871  0.8977 0.1861    \n",
       "---\n",
       "Signif. codes:  0 '***' 0.001 '**' 0.01 '*' 0.05 '.' 0.1 ' ' 1\n"
      ]
     },
     "metadata": {},
     "output_type": "display_data"
    },
    {
     "data": {
      "text/plain": [
       "\n",
       "t test of coefficients:\n",
       "\n",
       "               Estimate  Std. Error t value Pr(>|t|)   \n",
       "(Intercept)  0.23952296  0.07580088  3.1599 0.002382 **\n",
       "X1          -0.04855529  0.02918943 -1.6635 0.100963   \n",
       "X2           0.01534597  0.03369033  0.4555 0.650244   \n",
       "X3           0.00991045  0.02636194  0.3759 0.708169   \n",
       "X4           0.02397930  0.02555046  0.9385 0.351406   \n",
       "X5          -0.03546880  0.02636144 -1.3455 0.183075   \n",
       "XC.1        -0.00078854  0.09142689 -0.0086 0.993145   \n",
       "XC.2         0.08676230  0.10408907  0.8335 0.407547   \n",
       "XC.3        -0.13202118  0.08592408 -1.5365 0.129200   \n",
       "XC.4         0.04528332  0.08114261  0.5581 0.578684   \n",
       "---\n",
       "Signif. codes:  0 '***' 0.001 '**' 0.01 '*' 0.05 '.' 0.1 ' ' 1\n"
      ]
     },
     "metadata": {},
     "output_type": "display_data"
    }
   ],
   "source": [
    "# Train forest on school-wise DR scores\n",
    "school.X = (t(school.mat) %*% as.matrix(X[,c(4:8, 25:28)])) / school.size\n",
    "school.X = data.frame(school.X)\n",
    "colnames(school.X) = c(\"X1\", \"X2\", \"X3\", \"X4\", \"X5\",\n",
    "                    \"XC.1\", \"XC.2\", \"XC.3\", \"XC.4\")\n",
    "\n",
    "dr.score = tau.hat + W / cf$W.hat * (Y - cf$Y.hat - (1 - cf$W.hat) * tau.hat) -\n",
    "  (1 - W) / (1 - cf$W.hat) * (Y - cf$Y.hat + cf$W.hat * tau.hat)\n",
    "school.score = t(school.mat) %*% dr.score / school.size\n",
    "\n",
    "school.forest = regression_forest(school.X, school.score)\n",
    "school.pred = predict(school.forest)$predictions\n",
    "test_calibration(school.forest)\n",
    "# Alternative OLS analysis\n",
    "school.DF = data.frame(school.X, school.score=school.score)\n",
    "coeftest(lm(school.score ~ ., data = school.DF), vcov = vcovHC)"
   ]
  },
  {
   "cell_type": "markdown",
   "id": "f80be820",
   "metadata": {},
   "source": [
    "### 7. SOME PLOTS"
   ]
  },
  {
   "cell_type": "code",
   "execution_count": 17,
   "id": "cd1f7eb4",
   "metadata": {},
   "outputs": [
    {
     "data": {
      "image/png": "[encoded data removed]",
      "text/plain": [
       "Plot with title \"\""
      ]
     },
     "metadata": {
      "image/png": {
       "height": 420,
       "width": 420
      }
     },
     "output_type": "display_data"
    }
   ],
   "source": [
    "\n",
    "#pdf(\"tauhat_hist.pdf\")\n",
    "pardef = par(mar = c(5, 4, 4, 2) + 0.5, cex.lab=1.5, cex.axis=1.5, cex.main=1.5, cex.sub=1.5)\n",
    "hist(tau.hat, xlab = \"estimated CATE\", main = \"\")\n",
    "#dev.off()"
   ]
  },
  {
   "cell_type": "code",
   "execution_count": 18,
   "id": "054f9983",
   "metadata": {},
   "outputs": [
    {
     "data": {
      "image/png": "[encoded data removed]",
      "text/plain": [
       "Plot with title \"\""
      ]
     },
     "metadata": {
      "image/png": {
       "height": 420,
       "width": 420
      }
     },
     "output_type": "display_data"
    }
   ],
   "source": [
    "#pdf(\"tauhat_hist_noprop.pdf\")\n",
    "pardef = par(mar = c(5, 4, 4, 2) + 0.5, cex.lab=1.5, cex.axis=1.5, cex.main=1.5, cex.sub=1.5)\n",
    "hist(tau.hat.noprop, xlab = \"estimated CATE\", main = \"\")\n",
    "#dev.off()"
   ]
  },
  {
   "cell_type": "code",
   "execution_count": 51,
   "id": "c3742726",
   "metadata": {},
   "outputs": [
    {
     "data": {
      "image/png": "[encoded data removed]",
      "text/plain": [
       "Plot with title \"\""
      ]
     },
     "metadata": {
      "image/png": {
       "height": 420,
       "width": 420
      }
     },
     "output_type": "display_data"
    }
   ],
   "source": [
    "\n",
    "#pdf(\\\"tauhat_hist_noclust.pdf\\\")\\n\",\n",
    "    pardef = par(mar = c(5, 4, 4, 2) + 0.5, cex.lab=1.5, cex.axis=1.5, cex.main=1.5, cex.sub=1.5)\n",
    "    hist(tau.hat.noclust, xlab = \"estimated CATE\", main = \"\",\n",
    "         breaks = seq(-0.0, 0.55, by = 0.55 /25 ))\n",
    "#dev.off()\n"
   ]
  },
  {
   "cell_type": "code",
   "execution_count": 20,
   "id": "a83254e0",
   "metadata": {},
   "outputs": [
    {
     "data": {
      "image/png": "[encoded data removed]",
      "text/plain": [
       "plot without title"
      ]
     },
     "metadata": {
      "image/png": {
       "height": 420,
       "width": 420
      }
     },
     "output_type": "display_data"
    }
   ],
   "source": [
    "#pdf(\"tauhat_vs_X1.pdf\")\n",
    "pardef = par(mar = c(5, 4, 4, 2) + 0.5, cex.lab=1.5, cex.axis=1.5, cex.main=1.5, cex.sub=1.5)\n",
    "boxplot(tau.hat ~ round(X$X1), xlab = \"X1\", ylab = \"estimated CATE\")\n",
    "lines(smooth.spline(4 + X[,\"X1\"], tau.hat, df = 4), lwd = 2, col = 4)\n",
    "#dev.off()"
   ]
  },
  {
   "cell_type": "code",
   "execution_count": 21,
   "id": "4e3ab7d6",
   "metadata": {},
   "outputs": [
    {
     "data": {
      "image/png": "[encoded data removed]",
      "text/plain": [
       "plot without title"
      ]
     },
     "metadata": {
      "image/png": {
       "height": 420,
       "width": 420
      }
     },
     "output_type": "display_data"
    }
   ],
   "source": [
    "#pdf(\"tauhat_vs_X2.pdf\")\n",
    "pardef = par(mar = c(5, 4, 4, 2) + 0.5, cex.lab=1.5, cex.axis=1.5, cex.main=1.5, cex.sub=1.5)\n",
    "boxplot(tau.hat ~ round(X$X2), xlab = \"X2\", ylab = \"estimated CATE\")\n",
    "lines(smooth.spline(4 + X[,\"X2\"], tau.hat, df = 4), lwd = 2, col = 4)\n",
    "#dev.off()"
   ]
  },
  {
   "cell_type": "code",
   "execution_count": 22,
   "id": "be986323",
   "metadata": {},
   "outputs": [
    {
     "data": {
      "image/png": "[encoded data removed]",
      "text/plain": [
       "plot without title"
      ]
     },
     "metadata": {
      "image/png": {
       "height": 420,
       "width": 420
      }
     },
     "output_type": "display_data"
    }
   ],
   "source": [
    "school.avg.tauhat = t(school.mat) %*% tau.hat / school.size\n",
    "#pdf(\"school_avg.pdf\")\n",
    "pardef = par(mar = c(5, 4, 4, 2) + 0.5, cex.lab=1.5, cex.axis=1.5, cex.main=1.5, cex.sub=1.5)\n",
    "plot(school.avg.tauhat, school.pred, cex = 1.5,\n",
    "     xlim = range(school.avg.tauhat, school.pred),\n",
    "     ylim = range(school.avg.tauhat, school.pred),\n",
    "     xlab = \"average CATE estimate in school\",\n",
    "     ylab = \"school-wise forest predictions\")\n",
    "abline(0, 1, lwd = 2, lty = 2, col = 4)\n",
    "par = pardef\n",
    "#dev.off()"
   ]
  },
  {
   "cell_type": "markdown",
   "id": "be199748",
   "metadata": {},
   "source": [
    "The first plot shows us the histogram of the estimated parameters of the CATE with clustered data and with proportionalized samples with propensity scores. This is the 'benchmark model' we are testing.\n",
    "\n",
    "Here the causal forest is trained using a trivial propensity (every observation has the same 'weight'). As a consequence we can observe that the histogram is more disperse ç. This suggest that there are prescence of some counfounders (variables that are important to predict W but Y as well).\n",
    "\n",
    "The third histogram shows the case when the causal fores is trained ignoring clustering. We can observe that the disperssion of the histogram is way much greater that in the previous cases. This could be related to the fact that there might be some school-specific effects that are being ignored when not considering clustering at school level.\n",
    "\n",
    "The first box-plot show the relation between the CATE and $X1$ which is the pre-existing mindset at school level. This highlights the fact that there might exist treatment heterogenity. It's important to remind that this is not a student-specific feature but a school-specific feature which is more interesting when considering clustering.\n",
    "\n",
    "The second boxplot show the how CATE vary e by school achievement level. The plot suggest that greater school achievement level lead to bigger CATEs. This also highlights the possibility of clustering.\n",
    "\n",
    "The final plot is a scatter plot that comapres the average CATE of each school vs the predictions made with the regression forest for each school. This is a final visual reminder of how important school-specific characteristic might be"
   ]
  },
  {
   "cell_type": "code",
   "execution_count": 23,
   "id": "ad34646d",
   "metadata": {},
   "outputs": [
    {
     "data": {
      "text/html": [
       "'95% CI for the ATE: -0.055 +/- 0.144'"
      ],
      "text/latex": [
       "'95\\% CI for the ATE: -0.055 +/- 0.144'"
      ],
      "text/markdown": [
       "'95% CI for the ATE: -0.055 +/- 0.144'"
      ],
      "text/plain": [
       "[1] \"95% CI for the ATE: -0.055 +/- 0.144\""
      ]
     },
     "metadata": {},
     "output_type": "display_data"
    },
    {
     "data": {
      "text/html": [
       "'95% CI for the ATE: 0.055 +/- 0.143'"
      ],
      "text/latex": [
       "'95\\% CI for the ATE: 0.055 +/- 0.143'"
      ],
      "text/markdown": [
       "'95% CI for the ATE: 0.055 +/- 0.143'"
      ],
      "text/plain": [
       "[1] \"95% CI for the ATE: 0.055 +/- 0.143\""
      ]
     },
     "metadata": {},
     "output_type": "display_data"
    }
   ],
   "source": [
    "# Experiment with no orthogonalization\n",
    "n.synth = 1000\n",
    "p.synth = 10\n",
    "X.synth = matrix(rnorm(n.synth * p.synth), n.synth, p.synth)\n",
    "W.synth = rbinom(n.synth, 1, 1 / (1 + exp(-X.synth[,1])))\n",
    "Y.synth = 2 * rowMeans(X.synth[,1:6]) + rnorm(n.synth)\n",
    "\n",
    "Y.forest.synth = regression_forest(X.synth, Y.synth)\n",
    "Y.hat.synth = predict(Y.forest.synth)$predictions\n",
    "W.forest.synth = regression_forest(X.synth, W.synth)\n",
    "W.hat.synth = predict(W.forest.synth)$predictions\n",
    "\n",
    "cf.synth = causal_forest(X.synth, Y.synth, W.synth,\n",
    "                         Y.hat = Y.hat.synth, W.hat = W.hat.synth)\n",
    "ATE.synth = average_treatment_effect(cf.synth)\n",
    "paste(\"95% CI for the ATE:\", round(ATE.synth[1], 3),\n",
    "      \"+/-\", round(qnorm(0.975) * ATE.synth[2], 3))\n",
    "\n",
    "cf.synth.noprop = causal_forest(X.synth, Y.synth, W.synth,\n",
    "                                Y.hat = Y.hat.synth, W.hat = mean(W.synth))\n",
    "ATE.synth.noprop = average_treatment_effect(cf.synth.noprop)\n",
    "paste(\"95% CI for the ATE:\", round(ATE.synth.noprop[1], 3),\n",
    "      \"+/-\", round(qnorm(0.975) * ATE.synth.noprop[2], 3))"
   ]
  },
  {
   "cell_type": "markdown",
   "id": "bdcf46ed",
   "metadata": {},
   "source": [
    "### 8. Visualize school-level covariates by treatment heterogeneity"
   ]
  },
  {
   "cell_type": "code",
   "execution_count": 24,
   "id": "6cd1a85f",
   "metadata": {},
   "outputs": [
    {
     "data": {
      "text/html": [
       "0.210526315789474"
      ],
      "text/latex": [
       "0.210526315789474"
      ],
      "text/markdown": [
       "0.210526315789474"
      ],
      "text/plain": [
       "[1] 0.2105263"
      ]
     },
     "metadata": {},
     "output_type": "display_data"
    },
    {
     "data": {
      "text/html": [
       "0.538461538461538"
      ],
      "text/latex": [
       "0.538461538461538"
      ],
      "text/markdown": [
       "0.538461538461538"
      ],
      "text/plain": [
       "[1] 0.5384615"
      ]
     },
     "metadata": {},
     "output_type": "display_data"
    },
    {
     "data": {
      "image/png": "[encoded data removed]",
      "text/plain": [
       "plot without title"
      ]
     },
     "metadata": {
      "image/png": {
       "height": 420,
       "width": 420
      }
     },
     "output_type": "display_data"
    }
   ],
   "source": [
    "\n",
    "school.X.std = scale(school.X)\n",
    "school.tercile = cut(school.pred,\n",
    "                     breaks = c(-Inf, quantile(school.pred, c(1/3, 2/3)), Inf))\n",
    "school.tercile.mat = model.matrix(~ school.tercile + 0)\n",
    "school.means = diag(1 / colSums(school.tercile.mat)) %*% t(school.tercile.mat) %*% as.matrix(school.X.std)\n",
    "\n",
    "MM = max(abs(school.means))\n",
    "HC = heat.colors(21)\n",
    "school.col = apply(school.means, 1:2, function(aa) HC[1 + round(20 * (0.5 + aa))])\n",
    "\n",
    "DF.plot = data.frame(tercile=rep(factor(1:3, labels=c(\"low\", \"mid\", \"high\")), 9), mean=as.numeric(school.means),\n",
    "                     feature = factor(rbind(colnames(school.X), colnames(school.X), colnames(school.X))))\n",
    "\n",
    "ggplot(data = DF.plot, aes(x = feature, y = tercile, fill = mean)) +\n",
    "    geom_tile() + scale_fill_gradient(low = \"white\", high = \"steelblue\") +\n",
    "    theme(axis.text = element_text(size=12), axis.title = element_text(size=14),\n",
    "          legend.title = element_text(size=14), legend.text = element_text(size=12)) +\n",
    "    theme(panel.background = element_blank())\n",
    "ggsave(\"tercile_plot.pdf\", width = 8, height = 4.5, dpi = 120)\n",
    "\n",
    "mean(school.X$XC.3)\n",
    "mean(school.X$XC.3[as.numeric(school.tercile) == 1])"
   ]
  },
  {
   "cell_type": "markdown",
   "id": "7de42a5e",
   "metadata": {},
   "source": [
    "The matrix that appears confirm us that some school-specific features might characterize greater or smaller effects. There are some features that characterize more heterogenity ($X1$ , $X2$, $X4$ = Poverty concentration and $X5$ = school size). However, there are also some school characteristichs that show no major treatment heterogenity (such as the school minority composition)."
   ]
  },
  {
   "cell_type": "markdown",
   "id": "1c54d62e",
   "metadata": {},
   "source": [
    "### 9. CATE by school"
   ]
  },
  {
   "cell_type": "code",
   "execution_count": 25,
   "id": "4305f8ff",
   "metadata": {},
   "outputs": [
    {
     "data": {
      "image/png": "[encoded data removed]",
      "text/plain": [
       "plot without title"
      ]
     },
     "metadata": {
      "image/png": {
       "height": 420,
       "width": 420
      }
     },
     "output_type": "display_data"
    }
   ],
   "source": [
    "\n",
    "ord = order(order(school.pred))\n",
    "school.sort = ord[school.id]\n",
    "\n",
    "#pdf(\"school_boxplot.pdf\")\n",
    "pardef = par(mar = c(5, 4, 4, 2) + 0.5, cex.lab=1.5, cex.axis=1.5, cex.main=1.5, cex.sub=1.5)\n",
    "boxplot(tau.hat.noclust ~ school.sort, xaxt = \"n\",\n",
    "        xlab = \"school\", ylab = \"estimated CATE\")\n",
    "points(1:76, sort(school.pred), col = 4, pch = 16)\n",
    "legend(\"topleft\", c(\"school mean CATE\", \"CATE w/o clustering\"), pch = c(16, 1), col = c(4, 1), cex = 1.5)\n",
    "par = pardef\n",
    "#dev.off()"
   ]
  },
  {
   "cell_type": "markdown",
   "id": "92671ca1",
   "metadata": {},
   "source": [
    "The matrix that appears confirm us that some school-specific features might characterize greater or smaller effects. There are some features that characterize more heterogenity ($X1$ , $X2$, $X4$ = Poverty concentration and $X5$ = school size). However, there are also some school characteristichs that show no major treatment heterogenity (such as the school minority composition)."
   ]
  },
  {
   "cell_type": "markdown",
   "id": "0bbc464e",
   "metadata": {},
   "source": [
    "# PART 2\n",
    "\n",
    "## 2. Debiased Machine Learning"
   ]
  },
  {
   "cell_type": "code",
   "execution_count": 3,
   "id": "d92c19eb",
   "metadata": {},
   "outputs": [
    {
     "name": "stderr",
     "output_type": "stream",
     "text": [
      "Warning message:\n",
      "\"package 'dplyr' was built under R version 3.6.3\"\n",
      "\n",
      "Attaching package: 'dplyr'\n",
      "\n",
      "\n",
      "The following objects are masked from 'package:stats':\n",
      "\n",
      "    filter, lag\n",
      "\n",
      "\n",
      "The following objects are masked from 'package:base':\n",
      "\n",
      "    intersect, setdiff, setequal, union\n",
      "\n",
      "\n",
      "Warning message:\n",
      "\"package 'caTools' was built under R version 3.6.3\"\n",
      "Warning message:\n",
      "\"package 'hdm' was built under R version 3.6.3\"\n",
      "Warning message:\n",
      "\"package 'glmnet' was built under R version 3.6.3\"\n",
      "Loading required package: Matrix\n",
      "\n",
      "Warning message:\n",
      "\"package 'Matrix' was built under R version 3.6.3\"\n",
      "Loaded glmnet 4.1-1\n",
      "\n",
      "randomForest 4.6-14\n",
      "\n",
      "Type rfNews() to see new features/changes/bug fixes.\n",
      "\n",
      "\n",
      "Attaching package: 'randomForest'\n",
      "\n",
      "\n",
      "The following object is masked from 'package:ggplot2':\n",
      "\n",
      "    margin\n",
      "\n",
      "\n",
      "The following object is masked from 'package:dplyr':\n",
      "\n",
      "    combine\n",
      "\n",
      "\n"
     ]
    },
    {
     "data": {
      "text/html": [
       "<style>\n",
       ".list-inline {list-style: none; margin:0; padding: 0}\n",
       ".list-inline>li {display: inline-block}\n",
       ".list-inline>li:not(:last-child)::after {content: \"\\00b7\"; padding: 0 .5ex}\n",
       "</style>\n",
       "<ol class=list-inline><li>'Outcome'</li><li>'intercept'</li><li>'gdpsh465'</li><li>'bmp1l'</li><li>'freeop'</li><li>'freetar'</li><li>'h65'</li><li>'hm65'</li><li>'hf65'</li><li>'p65'</li><li>'pm65'</li><li>'pf65'</li><li>'s65'</li><li>'sm65'</li><li>'sf65'</li><li>'fert65'</li><li>'mort65'</li><li>'lifee065'</li><li>'gpop1'</li><li>'fert1'</li><li>'mort1'</li><li>'invsh41'</li><li>'geetot1'</li><li>'geerec1'</li><li>'gde1'</li><li>'govwb1'</li><li>'govsh41'</li><li>'gvxdxe41'</li><li>'high65'</li><li>'highm65'</li><li>'highf65'</li><li>'highc65'</li><li>'highcm65'</li><li>'highcf65'</li><li>'human65'</li><li>'humanm65'</li><li>'humanf65'</li><li>'hyr65'</li><li>'hyrm65'</li><li>'hyrf65'</li><li>'no65'</li><li>'nom65'</li><li>'nof65'</li><li>'pinstab1'</li><li>'pop65'</li><li>'worker65'</li><li>'pop1565'</li><li>'pop6565'</li><li>'sec65'</li><li>'secm65'</li><li>'secf65'</li><li>'secc65'</li><li>'seccm65'</li><li>'seccf65'</li><li>'syr65'</li><li>'syrm65'</li><li>'syrf65'</li><li>'teapri65'</li><li>'teasec65'</li><li>'ex1'</li><li>'im1'</li><li>'xr65'</li><li>'tot1'</li></ol>\n"
      ],
      "text/latex": [
       "\\begin{enumerate*}\n",
       "\\item 'Outcome'\n",
       "\\item 'intercept'\n",
       "\\item 'gdpsh465'\n",
       "\\item 'bmp1l'\n",
       "\\item 'freeop'\n",
       "\\item 'freetar'\n",
       "\\item 'h65'\n",
       "\\item 'hm65'\n",
       "\\item 'hf65'\n",
       "\\item 'p65'\n",
       "\\item 'pm65'\n",
       "\\item 'pf65'\n",
       "\\item 's65'\n",
       "\\item 'sm65'\n",
       "\\item 'sf65'\n",
       "\\item 'fert65'\n",
       "\\item 'mort65'\n",
       "\\item 'lifee065'\n",
       "\\item 'gpop1'\n",
       "\\item 'fert1'\n",
       "\\item 'mort1'\n",
       "\\item 'invsh41'\n",
       "\\item 'geetot1'\n",
       "\\item 'geerec1'\n",
       "\\item 'gde1'\n",
       "\\item 'govwb1'\n",
       "\\item 'govsh41'\n",
       "\\item 'gvxdxe41'\n",
       "\\item 'high65'\n",
       "\\item 'highm65'\n",
       "\\item 'highf65'\n",
       "\\item 'highc65'\n",
       "\\item 'highcm65'\n",
       "\\item 'highcf65'\n",
       "\\item 'human65'\n",
       "\\item 'humanm65'\n",
       "\\item 'humanf65'\n",
       "\\item 'hyr65'\n",
       "\\item 'hyrm65'\n",
       "\\item 'hyrf65'\n",
       "\\item 'no65'\n",
       "\\item 'nom65'\n",
       "\\item 'nof65'\n",
       "\\item 'pinstab1'\n",
       "\\item 'pop65'\n",
       "\\item 'worker65'\n",
       "\\item 'pop1565'\n",
       "\\item 'pop6565'\n",
       "\\item 'sec65'\n",
       "\\item 'secm65'\n",
       "\\item 'secf65'\n",
       "\\item 'secc65'\n",
       "\\item 'seccm65'\n",
       "\\item 'seccf65'\n",
       "\\item 'syr65'\n",
       "\\item 'syrm65'\n",
       "\\item 'syrf65'\n",
       "\\item 'teapri65'\n",
       "\\item 'teasec65'\n",
       "\\item 'ex1'\n",
       "\\item 'im1'\n",
       "\\item 'xr65'\n",
       "\\item 'tot1'\n",
       "\\end{enumerate*}\n"
      ],
      "text/markdown": [
       "1. 'Outcome'\n",
       "2. 'intercept'\n",
       "3. 'gdpsh465'\n",
       "4. 'bmp1l'\n",
       "5. 'freeop'\n",
       "6. 'freetar'\n",
       "7. 'h65'\n",
       "8. 'hm65'\n",
       "9. 'hf65'\n",
       "10. 'p65'\n",
       "11. 'pm65'\n",
       "12. 'pf65'\n",
       "13. 's65'\n",
       "14. 'sm65'\n",
       "15. 'sf65'\n",
       "16. 'fert65'\n",
       "17. 'mort65'\n",
       "18. 'lifee065'\n",
       "19. 'gpop1'\n",
       "20. 'fert1'\n",
       "21. 'mort1'\n",
       "22. 'invsh41'\n",
       "23. 'geetot1'\n",
       "24. 'geerec1'\n",
       "25. 'gde1'\n",
       "26. 'govwb1'\n",
       "27. 'govsh41'\n",
       "28. 'gvxdxe41'\n",
       "29. 'high65'\n",
       "30. 'highm65'\n",
       "31. 'highf65'\n",
       "32. 'highc65'\n",
       "33. 'highcm65'\n",
       "34. 'highcf65'\n",
       "35. 'human65'\n",
       "36. 'humanm65'\n",
       "37. 'humanf65'\n",
       "38. 'hyr65'\n",
       "39. 'hyrm65'\n",
       "40. 'hyrf65'\n",
       "41. 'no65'\n",
       "42. 'nom65'\n",
       "43. 'nof65'\n",
       "44. 'pinstab1'\n",
       "45. 'pop65'\n",
       "46. 'worker65'\n",
       "47. 'pop1565'\n",
       "48. 'pop6565'\n",
       "49. 'sec65'\n",
       "50. 'secm65'\n",
       "51. 'secf65'\n",
       "52. 'secc65'\n",
       "53. 'seccm65'\n",
       "54. 'seccf65'\n",
       "55. 'syr65'\n",
       "56. 'syrm65'\n",
       "57. 'syrf65'\n",
       "58. 'teapri65'\n",
       "59. 'teasec65'\n",
       "60. 'ex1'\n",
       "61. 'im1'\n",
       "62. 'xr65'\n",
       "63. 'tot1'\n",
       "\n",
       "\n"
      ],
      "text/plain": [
       " [1] \"Outcome\"   \"intercept\" \"gdpsh465\"  \"bmp1l\"     \"freeop\"    \"freetar\"  \n",
       " [7] \"h65\"       \"hm65\"      \"hf65\"      \"p65\"       \"pm65\"      \"pf65\"     \n",
       "[13] \"s65\"       \"sm65\"      \"sf65\"      \"fert65\"    \"mort65\"    \"lifee065\" \n",
       "[19] \"gpop1\"     \"fert1\"     \"mort1\"     \"invsh41\"   \"geetot1\"   \"geerec1\"  \n",
       "[25] \"gde1\"      \"govwb1\"    \"govsh41\"   \"gvxdxe41\"  \"high65\"    \"highm65\"  \n",
       "[31] \"highf65\"   \"highc65\"   \"highcm65\"  \"highcf65\"  \"human65\"   \"humanm65\" \n",
       "[37] \"humanf65\"  \"hyr65\"     \"hyrm65\"    \"hyrf65\"    \"no65\"      \"nom65\"    \n",
       "[43] \"nof65\"     \"pinstab1\"  \"pop65\"     \"worker65\"  \"pop1565\"   \"pop6565\"  \n",
       "[49] \"sec65\"     \"secm65\"    \"secf65\"    \"secc65\"    \"seccm65\"   \"seccf65\"  \n",
       "[55] \"syr65\"     \"syrm65\"    \"syrf65\"    \"teapri65\"  \"teasec65\"  \"ex1\"      \n",
       "[61] \"im1\"       \"xr65\"      \"tot1\"     "
      ]
     },
     "metadata": {},
     "output_type": "display_data"
    },
    {
     "data": {
      "text/html": [
       "<style>\n",
       ".list-inline {list-style: none; margin:0; padding: 0}\n",
       ".list-inline>li {display: inline-block}\n",
       ".list-inline>li:not(:last-child)::after {content: \"\\00b7\"; padding: 0 .5ex}\n",
       "</style>\n",
       "<ol class=list-inline><li>90</li><li>63</li></ol>\n"
      ],
      "text/latex": [
       "\\begin{enumerate*}\n",
       "\\item 90\n",
       "\\item 63\n",
       "\\end{enumerate*}\n"
      ],
      "text/markdown": [
       "1. 90\n",
       "2. 63\n",
       "\n",
       "\n"
      ],
      "text/plain": [
       "[1] 90 63"
      ]
     },
     "metadata": {},
     "output_type": "display_data"
    },
    {
     "data": {
      "text/html": [
       "<table class=\"dataframe\">\n",
       "<caption>A data.frame: 90 × 63</caption>\n",
       "<thead>\n",
       "\t<tr><th scope=col>Outcome</th><th scope=col>intercept</th><th scope=col>gdpsh465</th><th scope=col>bmp1l</th><th scope=col>freeop</th><th scope=col>freetar</th><th scope=col>h65</th><th scope=col>hm65</th><th scope=col>hf65</th><th scope=col>p65</th><th scope=col>...</th><th scope=col>seccf65</th><th scope=col>syr65</th><th scope=col>syrm65</th><th scope=col>syrf65</th><th scope=col>teapri65</th><th scope=col>teasec65</th><th scope=col>ex1</th><th scope=col>im1</th><th scope=col>xr65</th><th scope=col>tot1</th></tr>\n",
       "\t<tr><th scope=col>&lt;dbl&gt;</th><th scope=col>&lt;int&gt;</th><th scope=col>&lt;dbl&gt;</th><th scope=col>&lt;dbl&gt;</th><th scope=col>&lt;dbl&gt;</th><th scope=col>&lt;dbl&gt;</th><th scope=col>&lt;dbl&gt;</th><th scope=col>&lt;dbl&gt;</th><th scope=col>&lt;dbl&gt;</th><th scope=col>&lt;dbl&gt;</th><th scope=col>...</th><th scope=col>&lt;dbl&gt;</th><th scope=col>&lt;dbl&gt;</th><th scope=col>&lt;dbl&gt;</th><th scope=col>&lt;dbl&gt;</th><th scope=col>&lt;dbl&gt;</th><th scope=col>&lt;dbl&gt;</th><th scope=col>&lt;dbl&gt;</th><th scope=col>&lt;dbl&gt;</th><th scope=col>&lt;dbl&gt;</th><th scope=col>&lt;dbl&gt;</th></tr>\n",
       "</thead>\n",
       "<tbody>\n",
       "\t<tr><td>-0.02433575</td><td>1</td><td>6.591674</td><td>0.2837</td><td>0.153491</td><td>0.043888</td><td>0.007</td><td>0.013</td><td>0.001</td><td>0.29</td><td>...</td><td> 0.04</td><td>0.033</td><td>0.057</td><td>0.010</td><td>47.6</td><td>17.3</td><td>0.0729</td><td>0.0667</td><td>  0.348</td><td>-0.014727</td></tr>\n",
       "\t<tr><td> 0.10047257</td><td>1</td><td>6.829794</td><td>0.6141</td><td>0.313509</td><td>0.061827</td><td>0.019</td><td>0.032</td><td>0.007</td><td>0.91</td><td>...</td><td> 0.64</td><td>0.173</td><td>0.274</td><td>0.067</td><td>57.1</td><td>18.0</td><td>0.0940</td><td>0.1438</td><td>  0.525</td><td> 0.005750</td></tr>\n",
       "\t<tr><td> 0.06705148</td><td>1</td><td>8.895082</td><td>0.0000</td><td>0.204244</td><td>0.009186</td><td>0.260</td><td>0.325</td><td>0.201</td><td>1.00</td><td>...</td><td>18.14</td><td>2.573</td><td>2.478</td><td>2.667</td><td>26.5</td><td>20.7</td><td>0.1741</td><td>0.1750</td><td>  1.082</td><td>-0.010040</td></tr>\n",
       "\t<tr><td> 0.06408917</td><td>1</td><td>7.565275</td><td>0.1997</td><td>0.248714</td><td>0.036270</td><td>0.061</td><td>0.070</td><td>0.051</td><td>1.00</td><td>...</td><td> 2.63</td><td>0.438</td><td>0.453</td><td>0.424</td><td>27.8</td><td>22.7</td><td>0.1265</td><td>0.1496</td><td>  6.625</td><td>-0.002195</td></tr>\n",
       "\t<tr><td> 0.02792955</td><td>1</td><td>7.162397</td><td>0.1740</td><td>0.299252</td><td>0.037367</td><td>0.017</td><td>0.027</td><td>0.007</td><td>0.82</td><td>...</td><td> 2.11</td><td>0.257</td><td>0.287</td><td>0.229</td><td>34.5</td><td>17.6</td><td>0.1211</td><td>0.1308</td><td>  2.500</td><td> 0.003283</td></tr>\n",
       "\t<tr><td> 0.04640744</td><td>1</td><td>7.218910</td><td>0.0000</td><td>0.258865</td><td>0.020880</td><td>0.023</td><td>0.038</td><td>0.006</td><td>0.50</td><td>...</td><td> 1.46</td><td>0.160</td><td>0.174</td><td>0.146</td><td>34.3</td><td> 8.1</td><td>0.0634</td><td>0.0762</td><td>  1.000</td><td>-0.001747</td></tr>\n",
       "\t<tr><td> 0.06733234</td><td>1</td><td>7.853605</td><td>0.0000</td><td>0.182525</td><td>0.014385</td><td>0.039</td><td>0.063</td><td>0.014</td><td>0.92</td><td>...</td><td> 1.59</td><td>0.342</td><td>0.484</td><td>0.207</td><td>46.6</td><td>14.7</td><td>0.0342</td><td>0.0428</td><td> 12.499</td><td> 0.009092</td></tr>\n",
       "\t<tr><td> 0.02097768</td><td>1</td><td>7.703910</td><td>0.2776</td><td>0.215275</td><td>0.029713</td><td>0.024</td><td>0.035</td><td>0.013</td><td>0.69</td><td>...</td><td> 1.63</td><td>0.184</td><td>0.219</td><td>0.152</td><td>34.0</td><td>16.1</td><td>0.0864</td><td>0.0931</td><td>  7.000</td><td> 0.011630</td></tr>\n",
       "\t<tr><td> 0.03355124</td><td>1</td><td>9.063463</td><td>0.0000</td><td>0.109614</td><td>0.002171</td><td>0.402</td><td>0.488</td><td>0.314</td><td>1.00</td><td>...</td><td>24.72</td><td>3.206</td><td>3.154</td><td>3.253</td><td>28.2</td><td>20.6</td><td>0.0594</td><td>0.0460</td><td>  1.000</td><td> 0.008169</td></tr>\n",
       "\t<tr><td> 0.03914652</td><td>1</td><td>8.151910</td><td>0.1484</td><td>0.110885</td><td>0.028579</td><td>0.145</td><td>0.173</td><td>0.114</td><td>1.00</td><td>...</td><td> 6.76</td><td>0.703</td><td>0.785</td><td>0.620</td><td>20.3</td><td> 7.2</td><td>0.0524</td><td>0.0523</td><td>  2.119</td><td> 0.007584</td></tr>\n",
       "\t<tr><td> 0.07612651</td><td>1</td><td>6.929517</td><td>0.0296</td><td>0.165784</td><td>0.020115</td><td>0.046</td><td>0.066</td><td>0.025</td><td>0.73</td><td>...</td><td> 6.21</td><td>1.316</td><td>1.683</td><td>0.969</td><td>27.8</td><td>17.2</td><td>0.0560</td><td>0.0826</td><td> 11.879</td><td> 0.086032</td></tr>\n",
       "\t<tr><td> 0.12795121</td><td>1</td><td>7.237778</td><td>0.2151</td><td>0.078488</td><td>0.011581</td><td>0.022</td><td>0.031</td><td>0.014</td><td>1.00</td><td>...</td><td> 3.96</td><td>0.594</td><td>0.674</td><td>0.515</td><td>28.2</td><td>14.8</td><td>0.0270</td><td>0.0275</td><td>  1.938</td><td> 0.007666</td></tr>\n",
       "\t<tr><td>-0.02432609</td><td>1</td><td>8.115820</td><td>0.4318</td><td>0.137482</td><td>0.026547</td><td>0.059</td><td>0.073</td><td>0.045</td><td>1.00</td><td>...</td><td>11.36</td><td>1.132</td><td>1.126</td><td>1.138</td><td>52.1</td><td>18.8</td><td>0.0804</td><td>0.0930</td><td>  0.003</td><td> 0.016968</td></tr>\n",
       "\t<tr><td> 0.07829342</td><td>1</td><td>7.271704</td><td>0.1689</td><td>0.164598</td><td>0.044446</td><td>0.029</td><td>0.045</td><td>0.013</td><td>0.84</td><td>...</td><td> 3.10</td><td>0.568</td><td>0.695</td><td>0.450</td><td>35.9</td><td>13.1</td><td>0.0617</td><td>0.0678</td><td> 10.479</td><td> 0.004573</td></tr>\n",
       "\t<tr><td> 0.11291155</td><td>1</td><td>7.121252</td><td>0.1832</td><td>0.188016</td><td>0.045678</td><td>0.033</td><td>0.051</td><td>0.015</td><td>0.91</td><td>...</td><td> 3.16</td><td>0.440</td><td>0.512</td><td>0.369</td><td>37.4</td><td>12.7</td><td>0.0775</td><td>0.0780</td><td> 18.476</td><td>-0.020322</td></tr>\n",
       "\t<tr><td> 0.05230819</td><td>1</td><td>6.977281</td><td>0.0962</td><td>0.204611</td><td>0.077852</td><td>0.037</td><td>0.043</td><td>0.030</td><td>1.00</td><td>...</td><td> 2.40</td><td>0.419</td><td>0.548</td><td>0.299</td><td>30.3</td><td> 7.9</td><td>0.0668</td><td>0.0787</td><td>125.990</td><td> 0.028916</td></tr>\n",
       "\t<tr><td> 0.03639089</td><td>1</td><td>7.649693</td><td>0.0227</td><td>0.136287</td><td>0.046730</td><td>0.081</td><td>0.105</td><td>0.056</td><td>0.99</td><td>...</td><td> 3.51</td><td>0.562</td><td>0.699</td><td>0.427</td><td>35.7</td><td>14.7</td><td>0.0872</td><td>0.0938</td><td> 26.800</td><td> 0.020228</td></tr>\n",
       "\t<tr><td> 0.02973823</td><td>1</td><td>8.056744</td><td>0.0208</td><td>0.197853</td><td>0.037224</td><td>0.083</td><td>0.097</td><td>0.069</td><td>1.00</td><td>...</td><td> 3.30</td><td>0.722</td><td>0.765</td><td>0.680</td><td>36.6</td><td>12.6</td><td>0.0557</td><td>0.0624</td><td>  0.052</td><td> 0.013407</td></tr>\n",
       "\t<tr><td>-0.05664358</td><td>1</td><td>8.780941</td><td>0.2654</td><td>0.189867</td><td>0.031747</td><td>0.068</td><td>0.089</td><td>0.046</td><td>0.94</td><td>...</td><td> 2.99</td><td>0.372</td><td>0.462</td><td>0.281</td><td>34.0</td><td>20.3</td><td>0.3178</td><td>0.1583</td><td>  4.500</td><td>-0.024761</td></tr>\n",
       "\t<tr><td> 0.01920480</td><td>1</td><td>6.287859</td><td>0.4207</td><td>0.130682</td><td>0.109921</td><td>0.053</td><td>0.039</td><td>0.011</td><td>0.74</td><td>...</td><td> 0.34</td><td>0.142</td><td>0.223</td><td>0.055</td><td>35.5</td><td>19.1</td><td>0.0201</td><td>0.0341</td><td>  4.762</td><td>-0.021656</td></tr>\n",
       "\t<tr><td> 0.08520600</td><td>1</td><td>6.137727</td><td>0.1371</td><td>0.123818</td><td>0.015897</td><td>0.028</td><td>0.025</td><td>0.007</td><td>0.72</td><td>...</td><td> 0.56</td><td>0.148</td><td>0.232</td><td>0.065</td><td>41.3</td><td>21.3</td><td>0.0298</td><td>0.0297</td><td>  4.125</td><td>-0.054872</td></tr>\n",
       "\t<tr><td> 0.13398221</td><td>1</td><td>8.128880</td><td>0.0000</td><td>0.167210</td><td>0.003311</td><td>0.129</td><td>0.196</td><td>0.063</td><td>1.00</td><td>...</td><td>13.16</td><td>1.727</td><td>1.910</td><td>1.560</td><td>28.1</td><td>23.2</td><td>0.0570</td><td>0.0609</td><td>360.000</td><td>-0.054874</td></tr>\n",
       "\t<tr><td> 0.17302474</td><td>1</td><td>6.680855</td><td>0.4713</td><td>0.228424</td><td>0.029328</td><td>0.062</td><td>0.090</td><td>0.032</td><td>1.00</td><td>...</td><td> 3.95</td><td>0.974</td><td>1.526</td><td>0.470</td><td>62.4</td><td>34.9</td><td>0.0206</td><td>0.0618</td><td>265.690</td><td> 0.018194</td></tr>\n",
       "\t<tr><td> 0.10969915</td><td>1</td><td>7.177019</td><td>0.0178</td><td>0.185240</td><td>0.015453</td><td>0.020</td><td>0.026</td><td>0.013</td><td>0.90</td><td>...</td><td> 1.89</td><td>0.571</td><td>0.843</td><td>0.286</td><td>26.9</td><td>24.1</td><td>0.2295</td><td>0.1990</td><td>  3.061</td><td>-0.034733</td></tr>\n",
       "\t<tr><td> 0.01598990</td><td>1</td><td>6.648985</td><td>0.4762</td><td>0.171181</td><td>0.058937</td><td>0.018</td><td>0.028</td><td>0.007</td><td>0.40</td><td>...</td><td> 0.76</td><td>0.357</td><td>0.512</td><td>0.185</td><td>39.9</td><td>26.9</td><td>0.0178</td><td>0.0634</td><td>  4.762</td><td>-0.000222</td></tr>\n",
       "\t<tr><td> 0.06224977</td><td>1</td><td>6.879356</td><td>0.2927</td><td>0.179508</td><td>0.035842</td><td>0.188</td><td>0.169</td><td>0.208</td><td>1.00</td><td>...</td><td> 3.69</td><td>0.651</td><td>0.759</td><td>0.547</td><td>31.4</td><td>31.2</td><td>0.0695</td><td>0.0728</td><td>  4.017</td><td> 0.033636</td></tr>\n",
       "\t<tr><td> 0.10987069</td><td>1</td><td>7.347300</td><td>0.1017</td><td>0.247626</td><td>0.037392</td><td>0.080</td><td>0.133</td><td>0.027</td><td>0.78</td><td>...</td><td> 0.72</td><td>0.195</td><td>0.303</td><td>0.085</td><td>36.2</td><td>21.6</td><td>0.0860</td><td>0.0898</td><td>  3.177</td><td> 0.010162</td></tr>\n",
       "\t<tr><td> 0.09210628</td><td>1</td><td>6.725034</td><td>0.0266</td><td>0.179933</td><td>0.046376</td><td>0.015</td><td>0.020</td><td>0.010</td><td>0.78</td><td>...</td><td> 0.86</td><td>0.258</td><td>0.382</td><td>0.137</td><td>34.6</td><td>16.5</td><td>0.0558</td><td>0.0613</td><td> 20.800</td><td>-0.018514</td></tr>\n",
       "\t<tr><td> 0.08337604</td><td>1</td><td>8.451053</td><td>0.0000</td><td>0.358556</td><td>0.016468</td><td>0.090</td><td>0.133</td><td>0.044</td><td>1.00</td><td>...</td><td> 2.91</td><td>0.766</td><td>1.087</td><td>0.510</td><td>21.9</td><td>15.3</td><td>0.1687</td><td>0.1635</td><td> 26.000</td><td> 0.010943</td></tr>\n",
       "\t<tr><td> 0.07623345</td><td>1</td><td>8.602453</td><td>0.0000</td><td>0.416234</td><td>0.014721</td><td>0.148</td><td>0.194</td><td>0.100</td><td>1.00</td><td>...</td><td>12.17</td><td>1.554</td><td>1.724</td><td>1.398</td><td>20.6</td><td> 7.2</td><td>0.2629</td><td>0.2698</td><td> 50.000</td><td>-0.001521</td></tr>\n",
       "\t<tr><td>...</td><td>...</td><td>...</td><td>...</td><td>...</td><td>...</td><td>...</td><td>...</td><td>...</td><td>...</td><td></td><td>...</td><td>...</td><td>...</td><td>...</td><td>...</td><td>...</td><td>...</td><td>...</td><td>...</td><td>...</td></tr>\n",
       "\t<tr><td>-0.03404539</td><td>1</td><td>8.346168</td><td>0.3199</td><td>0.110885</td><td>0.028579</td><td>0.272</td><td>0.289</td><td>0.272</td><td>1.00</td><td>...</td><td> 9.58</td><td>0.919</td><td>0.936</td><td>0.902</td><td>18.2</td><td> 7.7</td><td>0.0625</td><td>0.0578</td><td> 36.603</td><td> 0.014286</td></tr>\n",
       "\t<tr><td>-0.03380635</td><td>1</td><td>7.303170</td><td>0.3133</td><td>0.165784</td><td>0.020115</td><td>0.112</td><td>0.132</td><td>0.065</td><td>0.85</td><td>...</td><td> 5.60</td><td>1.158</td><td>1.473</td><td>0.862</td><td>22.7</td><td>18.2</td><td>0.1071</td><td>0.1028</td><td> 20.000</td><td> 0.111198</td></tr>\n",
       "\t<tr><td> 0.06991488</td><td>1</td><td>7.859027</td><td>0.1222</td><td>0.078488</td><td>0.011581</td><td>0.107</td><td>0.103</td><td>0.092</td><td>0.88</td><td>...</td><td> 2.80</td><td>0.596</td><td>0.645</td><td>0.548</td><td>21.7</td><td>14.4</td><td>0.0357</td><td>0.0466</td><td>  8.127</td><td> 0.006002</td></tr>\n",
       "\t<tr><td>-0.08172560</td><td>1</td><td>7.998335</td><td>1.6378</td><td>0.137482</td><td>0.026547</td><td>0.156</td><td>0.181</td><td>0.150</td><td>1.00</td><td>...</td><td>13.74</td><td>1.339</td><td>1.222</td><td>1.445</td><td>34.8</td><td>15.2</td><td>0.0783</td><td>0.0847</td><td>  4.911</td><td>-0.127025</td></tr>\n",
       "\t<tr><td> 0.04601005</td><td>1</td><td>7.655864</td><td>0.1345</td><td>0.164598</td><td>0.044446</td><td>0.080</td><td>0.097</td><td>0.058</td><td>1.00</td><td>...</td><td> 8.25</td><td>1.076</td><td>1.143</td><td>1.013</td><td>32.1</td><td>19.4</td><td>0.0525</td><td>0.0572</td><td> 30.929</td><td>-0.004592</td></tr>\n",
       "\t<tr><td> 0.06659809</td><td>1</td><td>7.675082</td><td>0.0898</td><td>0.188016</td><td>0.045678</td><td>0.269</td><td>0.338</td><td>0.200</td><td>1.00</td><td>...</td><td> 5.80</td><td>0.687</td><td>0.745</td><td>0.630</td><td>37.5</td><td>16.4</td><td>0.0906</td><td>0.0959</td><td> 25.000</td><td> 0.191066</td></tr>\n",
       "\t<tr><td>-0.01138424</td><td>1</td><td>7.830028</td><td>0.4880</td><td>0.136287</td><td>0.046730</td><td>0.146</td><td>0.193</td><td>0.094</td><td>1.00</td><td>...</td><td> 6.42</td><td>0.950</td><td>1.129</td><td>0.772</td><td>39.1</td><td>23.8</td><td>0.0764</td><td>0.0866</td><td> 40.500</td><td>-0.007018</td></tr>\n",
       "\t<tr><td>-0.10098990</td><td>1</td><td>8.498622</td><td>0.0010</td><td>0.189867</td><td>0.031747</td><td>0.181</td><td>0.190</td><td>0.159</td><td>0.97</td><td>...</td><td> 7.63</td><td>0.801</td><td>0.850</td><td>0.752</td><td>30.2</td><td>16.8</td><td>0.2131</td><td>0.1437</td><td>  4.285</td><td> 0.168536</td></tr>\n",
       "\t<tr><td> 0.05475087</td><td>1</td><td>6.216606</td><td>0.7557</td><td>0.214345</td><td>0.073495</td><td>0.023</td><td>0.051</td><td>0.006</td><td>0.73</td><td>...</td><td> 0.44</td><td>0.282</td><td>0.488</td><td>0.051</td><td>50.6</td><td>21.8</td><td>0.0232</td><td>0.0407</td><td>  8.876</td><td>-0.084064</td></tr>\n",
       "\t<tr><td> 0.09461817</td><td>1</td><td>8.414496</td><td>0.0000</td><td>0.374328</td><td>0.000000</td><td>0.101</td><td>0.147</td><td>0.053</td><td>1.00</td><td>...</td><td>11.80</td><td>1.846</td><td>2.369</td><td>1.301</td><td>31.1</td><td>24.3</td><td>0.5958</td><td>0.5819</td><td>  4.935</td><td> 0.021808</td></tr>\n",
       "\t<tr><td> 0.04571529</td><td>1</td><td>6.383507</td><td>0.3556</td><td>0.130682</td><td>0.109921</td><td>0.086</td><td>0.130</td><td>0.042</td><td>0.79</td><td>...</td><td> 1.00</td><td>0.446</td><td>0.713</td><td>0.163</td><td>42.3</td><td>19.8</td><td>0.0188</td><td>0.0222</td><td>  8.653</td><td>-0.012443</td></tr>\n",
       "\t<tr><td> 0.06549111</td><td>1</td><td>8.782323</td><td>0.0000</td><td>0.167210</td><td>0.003311</td><td>0.246</td><td>0.331</td><td>0.160</td><td>0.99</td><td>...</td><td>15.52</td><td>1.969</td><td>2.121</td><td>1.828</td><td>25.3</td><td>17.5</td><td>0.1032</td><td>0.0958</td><td>296.800</td><td>-0.057094</td></tr>\n",
       "\t<tr><td> 0.02124651</td><td>1</td><td>7.251345</td><td>0.0516</td><td>0.263813</td><td>0.045225</td><td>0.090</td><td>0.053</td><td>0.030</td><td>0.88</td><td>...</td><td> 4.00</td><td>0.817</td><td>1.205</td><td>0.413</td><td>34.7</td><td>21.1</td><td>0.0730</td><td>0.2227</td><td>  0.320</td><td> 0.128443</td></tr>\n",
       "\t<tr><td> 0.14144548</td><td>1</td><td>7.511525</td><td>0.1053</td><td>0.228424</td><td>0.029328</td><td>0.103</td><td>0.139</td><td>0.054</td><td>1.00</td><td>...</td><td> 9.33</td><td>1.700</td><td>2.369</td><td>1.060</td><td>51.7</td><td>37.1</td><td>0.0903</td><td>0.1229</td><td>484.000</td><td> 0.007257</td></tr>\n",
       "\t<tr><td> 0.09681623</td><td>1</td><td>7.713785</td><td>0.0050</td><td>0.185240</td><td>0.015453</td><td>0.031</td><td>0.042</td><td>0.016</td><td>0.91</td><td>...</td><td> 4.35</td><td>0.891</td><td>1.255</td><td>0.517</td><td>31.8</td><td>27.3</td><td>0.1922</td><td>0.1821</td><td>  2.402</td><td> 0.030424</td></tr>\n",
       "\t<tr><td> 0.04053420</td><td>1</td><td>6.728629</td><td>0.6190</td><td>0.171181</td><td>0.058937</td><td>0.019</td><td>0.027</td><td>0.009</td><td>0.46</td><td>...</td><td> 1.01</td><td>0.670</td><td>1.039</td><td>0.271</td><td>40.1</td><td>18.0</td><td>0.0281</td><td>0.0459</td><td>  9.900</td><td>-0.012137</td></tr>\n",
       "\t<tr><td> 0.01058841</td><td>1</td><td>7.186144</td><td>0.0760</td><td>0.179508</td><td>0.035842</td><td>0.184</td><td>0.173</td><td>0.217</td><td>1.00</td><td>...</td><td> 5.34</td><td>0.943</td><td>1.049</td><td>0.837</td><td>29.0</td><td>31.5</td><td>0.0703</td><td>0.0716</td><td>  7.248</td><td> 0.009640</td></tr>\n",
       "\t<tr><td> 0.18552649</td><td>1</td><td>8.326033</td><td>0.0050</td><td>0.321658</td><td>0.005106</td><td>0.090</td><td>0.109</td><td>0.075</td><td>1.00</td><td>...</td><td> 4.64</td><td>1.127</td><td>1.427</td><td>0.817</td><td>30.5</td><td>23.1</td><td>0.7470</td><td>0.8489</td><td>  2.371</td><td> 0.051395</td></tr>\n",
       "\t<tr><td> 0.09310491</td><td>1</td><td>7.894691</td><td>0.1062</td><td>0.247626</td><td>0.037392</td><td>0.121</td><td>0.175</td><td>0.063</td><td>0.96</td><td>...</td><td> 1.47</td><td>0.481</td><td>0.761</td><td>0.200</td><td>33.8</td><td>19.6</td><td>0.0797</td><td>0.1018</td><td>  3.017</td><td> 0.207492</td></tr>\n",
       "\t<tr><td> 0.06522856</td><td>1</td><td>7.175490</td><td>0.0000</td><td>0.179933</td><td>0.046376</td><td>0.035</td><td>0.040</td><td>0.027</td><td>0.83</td><td>...</td><td> 1.23</td><td>0.332</td><td>0.451</td><td>0.219</td><td>27.9</td><td>27.2</td><td>0.0636</td><td>0.0721</td><td> 20.379</td><td> 0.018019</td></tr>\n",
       "\t<tr><td> 0.03809502</td><td>1</td><td>9.030974</td><td>0.0000</td><td>0.293138</td><td>0.005517</td><td>0.245</td><td>0.251</td><td>0.238</td><td>1.00</td><td>...</td><td> 7.50</td><td>1.167</td><td>1.210</td><td>1.128</td><td>22.5</td><td>15.5</td><td>0.1662</td><td>0.1617</td><td>  4.286</td><td>-0.006642</td></tr>\n",
       "\t<tr><td> 0.03421300</td><td>1</td><td>8.995537</td><td>0.0000</td><td>0.304720</td><td>0.011658</td><td>0.246</td><td>0.260</td><td>0.190</td><td>1.00</td><td>...</td><td> 6.75</td><td>0.667</td><td>0.776</td><td>0.575</td><td>23.5</td><td>15.0</td><td>0.2597</td><td>0.2288</td><td>  2.460</td><td>-0.003241</td></tr>\n",
       "\t<tr><td> 0.05275914</td><td>1</td><td>8.234830</td><td>0.0363</td><td>0.288405</td><td>0.011589</td><td>0.183</td><td>0.222</td><td>0.142</td><td>1.00</td><td>...</td><td> 8.18</td><td>1.010</td><td>1.220</td><td>0.821</td><td>30.2</td><td>28.3</td><td>0.1044</td><td>0.1796</td><td> 32.051</td><td>-0.034352</td></tr>\n",
       "\t<tr><td> 0.03841564</td><td>1</td><td>8.332549</td><td>0.0000</td><td>0.345485</td><td>0.006503</td><td>0.188</td><td>0.248</td><td>0.136</td><td>1.00</td><td>...</td><td>13.12</td><td>1.576</td><td>1.567</td><td>1.585</td><td>31.0</td><td>14.3</td><td>0.2866</td><td>0.3500</td><td>  0.452</td><td>-0.001660</td></tr>\n",
       "\t<tr><td> 0.03189479</td><td>1</td><td>8.645586</td><td>0.0000</td><td>0.288440</td><td>0.005995</td><td>0.256</td><td>0.301</td><td>0.199</td><td>1.00</td><td>...</td><td> 6.91</td><td>1.307</td><td>1.579</td><td>1.062</td><td>18.9</td><td>11.3</td><td>0.1296</td><td>0.1458</td><td>652.850</td><td>-0.046278</td></tr>\n",
       "\t<tr><td> 0.03119598</td><td>1</td><td>8.991064</td><td>0.0000</td><td>0.371898</td><td>0.014586</td><td>0.255</td><td>0.336</td><td>0.170</td><td>0.98</td><td>...</td><td>11.41</td><td>2.226</td><td>2.494</td><td>1.971</td><td>27.5</td><td>15.9</td><td>0.4407</td><td>0.4257</td><td>  2.529</td><td>-0.011883</td></tr>\n",
       "\t<tr><td> 0.03409566</td><td>1</td><td>8.025189</td><td>0.0050</td><td>0.296437</td><td>0.013615</td><td>0.108</td><td>0.117</td><td>0.093</td><td>1.00</td><td>...</td><td> 1.95</td><td>0.510</td><td>0.694</td><td>0.362</td><td>20.2</td><td>15.7</td><td>0.1669</td><td>0.2201</td><td> 25.553</td><td>-0.039080</td></tr>\n",
       "\t<tr><td> 0.04690046</td><td>1</td><td>9.030137</td><td>0.0000</td><td>0.265778</td><td>0.008629</td><td>0.288</td><td>0.337</td><td>0.237</td><td>1.00</td><td>...</td><td>25.64</td><td>2.727</td><td>2.664</td><td>2.788</td><td>20.4</td><td> 9.4</td><td>0.3238</td><td>0.3134</td><td>  4.152</td><td> 0.005175</td></tr>\n",
       "\t<tr><td> 0.03977337</td><td>1</td><td>8.865312</td><td>0.0000</td><td>0.282939</td><td>0.005048</td><td>0.188</td><td>0.236</td><td>0.139</td><td>1.00</td><td>...</td><td>10.76</td><td>1.888</td><td>1.920</td><td>1.860</td><td>20.0</td><td>16.0</td><td>0.1845</td><td>0.1940</td><td>  0.452</td><td>-0.029551</td></tr>\n",
       "\t<tr><td> 0.04064154</td><td>1</td><td>8.912339</td><td>0.0000</td><td>0.150366</td><td>0.024377</td><td>0.257</td><td>0.338</td><td>0.215</td><td>1.00</td><td>...</td><td>24.40</td><td>3.051</td><td>3.235</td><td>2.875</td><td>18.5</td><td>29.1</td><td>0.1876</td><td>0.2007</td><td>  0.886</td><td>-0.036482</td></tr>\n",
       "</tbody>\n",
       "</table>\n"
      ],
      "text/latex": [
       "A data.frame: 90 × 63\n",
       "\\begin{tabular}{lllllllllllllllllllll}\n",
       " Outcome & intercept & gdpsh465 & bmp1l & freeop & freetar & h65 & hm65 & hf65 & p65 & ... & seccf65 & syr65 & syrm65 & syrf65 & teapri65 & teasec65 & ex1 & im1 & xr65 & tot1\\\\\n",
       " <dbl> & <int> & <dbl> & <dbl> & <dbl> & <dbl> & <dbl> & <dbl> & <dbl> & <dbl> & ... & <dbl> & <dbl> & <dbl> & <dbl> & <dbl> & <dbl> & <dbl> & <dbl> & <dbl> & <dbl>\\\\\n",
       "\\hline\n",
       "\t -0.02433575 & 1 & 6.591674 & 0.2837 & 0.153491 & 0.043888 & 0.007 & 0.013 & 0.001 & 0.29 & ... &  0.04 & 0.033 & 0.057 & 0.010 & 47.6 & 17.3 & 0.0729 & 0.0667 &   0.348 & -0.014727\\\\\n",
       "\t  0.10047257 & 1 & 6.829794 & 0.6141 & 0.313509 & 0.061827 & 0.019 & 0.032 & 0.007 & 0.91 & ... &  0.64 & 0.173 & 0.274 & 0.067 & 57.1 & 18.0 & 0.0940 & 0.1438 &   0.525 &  0.005750\\\\\n",
       "\t  0.06705148 & 1 & 8.895082 & 0.0000 & 0.204244 & 0.009186 & 0.260 & 0.325 & 0.201 & 1.00 & ... & 18.14 & 2.573 & 2.478 & 2.667 & 26.5 & 20.7 & 0.1741 & 0.1750 &   1.082 & -0.010040\\\\\n",
       "\t  0.06408917 & 1 & 7.565275 & 0.1997 & 0.248714 & 0.036270 & 0.061 & 0.070 & 0.051 & 1.00 & ... &  2.63 & 0.438 & 0.453 & 0.424 & 27.8 & 22.7 & 0.1265 & 0.1496 &   6.625 & -0.002195\\\\\n",
       "\t  0.02792955 & 1 & 7.162397 & 0.1740 & 0.299252 & 0.037367 & 0.017 & 0.027 & 0.007 & 0.82 & ... &  2.11 & 0.257 & 0.287 & 0.229 & 34.5 & 17.6 & 0.1211 & 0.1308 &   2.500 &  0.003283\\\\\n",
       "\t  0.04640744 & 1 & 7.218910 & 0.0000 & 0.258865 & 0.020880 & 0.023 & 0.038 & 0.006 & 0.50 & ... &  1.46 & 0.160 & 0.174 & 0.146 & 34.3 &  8.1 & 0.0634 & 0.0762 &   1.000 & -0.001747\\\\\n",
       "\t  0.06733234 & 1 & 7.853605 & 0.0000 & 0.182525 & 0.014385 & 0.039 & 0.063 & 0.014 & 0.92 & ... &  1.59 & 0.342 & 0.484 & 0.207 & 46.6 & 14.7 & 0.0342 & 0.0428 &  12.499 &  0.009092\\\\\n",
       "\t  0.02097768 & 1 & 7.703910 & 0.2776 & 0.215275 & 0.029713 & 0.024 & 0.035 & 0.013 & 0.69 & ... &  1.63 & 0.184 & 0.219 & 0.152 & 34.0 & 16.1 & 0.0864 & 0.0931 &   7.000 &  0.011630\\\\\n",
       "\t  0.03355124 & 1 & 9.063463 & 0.0000 & 0.109614 & 0.002171 & 0.402 & 0.488 & 0.314 & 1.00 & ... & 24.72 & 3.206 & 3.154 & 3.253 & 28.2 & 20.6 & 0.0594 & 0.0460 &   1.000 &  0.008169\\\\\n",
       "\t  0.03914652 & 1 & 8.151910 & 0.1484 & 0.110885 & 0.028579 & 0.145 & 0.173 & 0.114 & 1.00 & ... &  6.76 & 0.703 & 0.785 & 0.620 & 20.3 &  7.2 & 0.0524 & 0.0523 &   2.119 &  0.007584\\\\\n",
       "\t  0.07612651 & 1 & 6.929517 & 0.0296 & 0.165784 & 0.020115 & 0.046 & 0.066 & 0.025 & 0.73 & ... &  6.21 & 1.316 & 1.683 & 0.969 & 27.8 & 17.2 & 0.0560 & 0.0826 &  11.879 &  0.086032\\\\\n",
       "\t  0.12795121 & 1 & 7.237778 & 0.2151 & 0.078488 & 0.011581 & 0.022 & 0.031 & 0.014 & 1.00 & ... &  3.96 & 0.594 & 0.674 & 0.515 & 28.2 & 14.8 & 0.0270 & 0.0275 &   1.938 &  0.007666\\\\\n",
       "\t -0.02432609 & 1 & 8.115820 & 0.4318 & 0.137482 & 0.026547 & 0.059 & 0.073 & 0.045 & 1.00 & ... & 11.36 & 1.132 & 1.126 & 1.138 & 52.1 & 18.8 & 0.0804 & 0.0930 &   0.003 &  0.016968\\\\\n",
       "\t  0.07829342 & 1 & 7.271704 & 0.1689 & 0.164598 & 0.044446 & 0.029 & 0.045 & 0.013 & 0.84 & ... &  3.10 & 0.568 & 0.695 & 0.450 & 35.9 & 13.1 & 0.0617 & 0.0678 &  10.479 &  0.004573\\\\\n",
       "\t  0.11291155 & 1 & 7.121252 & 0.1832 & 0.188016 & 0.045678 & 0.033 & 0.051 & 0.015 & 0.91 & ... &  3.16 & 0.440 & 0.512 & 0.369 & 37.4 & 12.7 & 0.0775 & 0.0780 &  18.476 & -0.020322\\\\\n",
       "\t  0.05230819 & 1 & 6.977281 & 0.0962 & 0.204611 & 0.077852 & 0.037 & 0.043 & 0.030 & 1.00 & ... &  2.40 & 0.419 & 0.548 & 0.299 & 30.3 &  7.9 & 0.0668 & 0.0787 & 125.990 &  0.028916\\\\\n",
       "\t  0.03639089 & 1 & 7.649693 & 0.0227 & 0.136287 & 0.046730 & 0.081 & 0.105 & 0.056 & 0.99 & ... &  3.51 & 0.562 & 0.699 & 0.427 & 35.7 & 14.7 & 0.0872 & 0.0938 &  26.800 &  0.020228\\\\\n",
       "\t  0.02973823 & 1 & 8.056744 & 0.0208 & 0.197853 & 0.037224 & 0.083 & 0.097 & 0.069 & 1.00 & ... &  3.30 & 0.722 & 0.765 & 0.680 & 36.6 & 12.6 & 0.0557 & 0.0624 &   0.052 &  0.013407\\\\\n",
       "\t -0.05664358 & 1 & 8.780941 & 0.2654 & 0.189867 & 0.031747 & 0.068 & 0.089 & 0.046 & 0.94 & ... &  2.99 & 0.372 & 0.462 & 0.281 & 34.0 & 20.3 & 0.3178 & 0.1583 &   4.500 & -0.024761\\\\\n",
       "\t  0.01920480 & 1 & 6.287859 & 0.4207 & 0.130682 & 0.109921 & 0.053 & 0.039 & 0.011 & 0.74 & ... &  0.34 & 0.142 & 0.223 & 0.055 & 35.5 & 19.1 & 0.0201 & 0.0341 &   4.762 & -0.021656\\\\\n",
       "\t  0.08520600 & 1 & 6.137727 & 0.1371 & 0.123818 & 0.015897 & 0.028 & 0.025 & 0.007 & 0.72 & ... &  0.56 & 0.148 & 0.232 & 0.065 & 41.3 & 21.3 & 0.0298 & 0.0297 &   4.125 & -0.054872\\\\\n",
       "\t  0.13398221 & 1 & 8.128880 & 0.0000 & 0.167210 & 0.003311 & 0.129 & 0.196 & 0.063 & 1.00 & ... & 13.16 & 1.727 & 1.910 & 1.560 & 28.1 & 23.2 & 0.0570 & 0.0609 & 360.000 & -0.054874\\\\\n",
       "\t  0.17302474 & 1 & 6.680855 & 0.4713 & 0.228424 & 0.029328 & 0.062 & 0.090 & 0.032 & 1.00 & ... &  3.95 & 0.974 & 1.526 & 0.470 & 62.4 & 34.9 & 0.0206 & 0.0618 & 265.690 &  0.018194\\\\\n",
       "\t  0.10969915 & 1 & 7.177019 & 0.0178 & 0.185240 & 0.015453 & 0.020 & 0.026 & 0.013 & 0.90 & ... &  1.89 & 0.571 & 0.843 & 0.286 & 26.9 & 24.1 & 0.2295 & 0.1990 &   3.061 & -0.034733\\\\\n",
       "\t  0.01598990 & 1 & 6.648985 & 0.4762 & 0.171181 & 0.058937 & 0.018 & 0.028 & 0.007 & 0.40 & ... &  0.76 & 0.357 & 0.512 & 0.185 & 39.9 & 26.9 & 0.0178 & 0.0634 &   4.762 & -0.000222\\\\\n",
       "\t  0.06224977 & 1 & 6.879356 & 0.2927 & 0.179508 & 0.035842 & 0.188 & 0.169 & 0.208 & 1.00 & ... &  3.69 & 0.651 & 0.759 & 0.547 & 31.4 & 31.2 & 0.0695 & 0.0728 &   4.017 &  0.033636\\\\\n",
       "\t  0.10987069 & 1 & 7.347300 & 0.1017 & 0.247626 & 0.037392 & 0.080 & 0.133 & 0.027 & 0.78 & ... &  0.72 & 0.195 & 0.303 & 0.085 & 36.2 & 21.6 & 0.0860 & 0.0898 &   3.177 &  0.010162\\\\\n",
       "\t  0.09210628 & 1 & 6.725034 & 0.0266 & 0.179933 & 0.046376 & 0.015 & 0.020 & 0.010 & 0.78 & ... &  0.86 & 0.258 & 0.382 & 0.137 & 34.6 & 16.5 & 0.0558 & 0.0613 &  20.800 & -0.018514\\\\\n",
       "\t  0.08337604 & 1 & 8.451053 & 0.0000 & 0.358556 & 0.016468 & 0.090 & 0.133 & 0.044 & 1.00 & ... &  2.91 & 0.766 & 1.087 & 0.510 & 21.9 & 15.3 & 0.1687 & 0.1635 &  26.000 &  0.010943\\\\\n",
       "\t  0.07623345 & 1 & 8.602453 & 0.0000 & 0.416234 & 0.014721 & 0.148 & 0.194 & 0.100 & 1.00 & ... & 12.17 & 1.554 & 1.724 & 1.398 & 20.6 &  7.2 & 0.2629 & 0.2698 &  50.000 & -0.001521\\\\\n",
       "\t ... & ... & ... & ... & ... & ... & ... & ... & ... & ... &  & ... & ... & ... & ... & ... & ... & ... & ... & ... & ...\\\\\n",
       "\t -0.03404539 & 1 & 8.346168 & 0.3199 & 0.110885 & 0.028579 & 0.272 & 0.289 & 0.272 & 1.00 & ... &  9.58 & 0.919 & 0.936 & 0.902 & 18.2 &  7.7 & 0.0625 & 0.0578 &  36.603 &  0.014286\\\\\n",
       "\t -0.03380635 & 1 & 7.303170 & 0.3133 & 0.165784 & 0.020115 & 0.112 & 0.132 & 0.065 & 0.85 & ... &  5.60 & 1.158 & 1.473 & 0.862 & 22.7 & 18.2 & 0.1071 & 0.1028 &  20.000 &  0.111198\\\\\n",
       "\t  0.06991488 & 1 & 7.859027 & 0.1222 & 0.078488 & 0.011581 & 0.107 & 0.103 & 0.092 & 0.88 & ... &  2.80 & 0.596 & 0.645 & 0.548 & 21.7 & 14.4 & 0.0357 & 0.0466 &   8.127 &  0.006002\\\\\n",
       "\t -0.08172560 & 1 & 7.998335 & 1.6378 & 0.137482 & 0.026547 & 0.156 & 0.181 & 0.150 & 1.00 & ... & 13.74 & 1.339 & 1.222 & 1.445 & 34.8 & 15.2 & 0.0783 & 0.0847 &   4.911 & -0.127025\\\\\n",
       "\t  0.04601005 & 1 & 7.655864 & 0.1345 & 0.164598 & 0.044446 & 0.080 & 0.097 & 0.058 & 1.00 & ... &  8.25 & 1.076 & 1.143 & 1.013 & 32.1 & 19.4 & 0.0525 & 0.0572 &  30.929 & -0.004592\\\\\n",
       "\t  0.06659809 & 1 & 7.675082 & 0.0898 & 0.188016 & 0.045678 & 0.269 & 0.338 & 0.200 & 1.00 & ... &  5.80 & 0.687 & 0.745 & 0.630 & 37.5 & 16.4 & 0.0906 & 0.0959 &  25.000 &  0.191066\\\\\n",
       "\t -0.01138424 & 1 & 7.830028 & 0.4880 & 0.136287 & 0.046730 & 0.146 & 0.193 & 0.094 & 1.00 & ... &  6.42 & 0.950 & 1.129 & 0.772 & 39.1 & 23.8 & 0.0764 & 0.0866 &  40.500 & -0.007018\\\\\n",
       "\t -0.10098990 & 1 & 8.498622 & 0.0010 & 0.189867 & 0.031747 & 0.181 & 0.190 & 0.159 & 0.97 & ... &  7.63 & 0.801 & 0.850 & 0.752 & 30.2 & 16.8 & 0.2131 & 0.1437 &   4.285 &  0.168536\\\\\n",
       "\t  0.05475087 & 1 & 6.216606 & 0.7557 & 0.214345 & 0.073495 & 0.023 & 0.051 & 0.006 & 0.73 & ... &  0.44 & 0.282 & 0.488 & 0.051 & 50.6 & 21.8 & 0.0232 & 0.0407 &   8.876 & -0.084064\\\\\n",
       "\t  0.09461817 & 1 & 8.414496 & 0.0000 & 0.374328 & 0.000000 & 0.101 & 0.147 & 0.053 & 1.00 & ... & 11.80 & 1.846 & 2.369 & 1.301 & 31.1 & 24.3 & 0.5958 & 0.5819 &   4.935 &  0.021808\\\\\n",
       "\t  0.04571529 & 1 & 6.383507 & 0.3556 & 0.130682 & 0.109921 & 0.086 & 0.130 & 0.042 & 0.79 & ... &  1.00 & 0.446 & 0.713 & 0.163 & 42.3 & 19.8 & 0.0188 & 0.0222 &   8.653 & -0.012443\\\\\n",
       "\t  0.06549111 & 1 & 8.782323 & 0.0000 & 0.167210 & 0.003311 & 0.246 & 0.331 & 0.160 & 0.99 & ... & 15.52 & 1.969 & 2.121 & 1.828 & 25.3 & 17.5 & 0.1032 & 0.0958 & 296.800 & -0.057094\\\\\n",
       "\t  0.02124651 & 1 & 7.251345 & 0.0516 & 0.263813 & 0.045225 & 0.090 & 0.053 & 0.030 & 0.88 & ... &  4.00 & 0.817 & 1.205 & 0.413 & 34.7 & 21.1 & 0.0730 & 0.2227 &   0.320 &  0.128443\\\\\n",
       "\t  0.14144548 & 1 & 7.511525 & 0.1053 & 0.228424 & 0.029328 & 0.103 & 0.139 & 0.054 & 1.00 & ... &  9.33 & 1.700 & 2.369 & 1.060 & 51.7 & 37.1 & 0.0903 & 0.1229 & 484.000 &  0.007257\\\\\n",
       "\t  0.09681623 & 1 & 7.713785 & 0.0050 & 0.185240 & 0.015453 & 0.031 & 0.042 & 0.016 & 0.91 & ... &  4.35 & 0.891 & 1.255 & 0.517 & 31.8 & 27.3 & 0.1922 & 0.1821 &   2.402 &  0.030424\\\\\n",
       "\t  0.04053420 & 1 & 6.728629 & 0.6190 & 0.171181 & 0.058937 & 0.019 & 0.027 & 0.009 & 0.46 & ... &  1.01 & 0.670 & 1.039 & 0.271 & 40.1 & 18.0 & 0.0281 & 0.0459 &   9.900 & -0.012137\\\\\n",
       "\t  0.01058841 & 1 & 7.186144 & 0.0760 & 0.179508 & 0.035842 & 0.184 & 0.173 & 0.217 & 1.00 & ... &  5.34 & 0.943 & 1.049 & 0.837 & 29.0 & 31.5 & 0.0703 & 0.0716 &   7.248 &  0.009640\\\\\n",
       "\t  0.18552649 & 1 & 8.326033 & 0.0050 & 0.321658 & 0.005106 & 0.090 & 0.109 & 0.075 & 1.00 & ... &  4.64 & 1.127 & 1.427 & 0.817 & 30.5 & 23.1 & 0.7470 & 0.8489 &   2.371 &  0.051395\\\\\n",
       "\t  0.09310491 & 1 & 7.894691 & 0.1062 & 0.247626 & 0.037392 & 0.121 & 0.175 & 0.063 & 0.96 & ... &  1.47 & 0.481 & 0.761 & 0.200 & 33.8 & 19.6 & 0.0797 & 0.1018 &   3.017 &  0.207492\\\\\n",
       "\t  0.06522856 & 1 & 7.175490 & 0.0000 & 0.179933 & 0.046376 & 0.035 & 0.040 & 0.027 & 0.83 & ... &  1.23 & 0.332 & 0.451 & 0.219 & 27.9 & 27.2 & 0.0636 & 0.0721 &  20.379 &  0.018019\\\\\n",
       "\t  0.03809502 & 1 & 9.030974 & 0.0000 & 0.293138 & 0.005517 & 0.245 & 0.251 & 0.238 & 1.00 & ... &  7.50 & 1.167 & 1.210 & 1.128 & 22.5 & 15.5 & 0.1662 & 0.1617 &   4.286 & -0.006642\\\\\n",
       "\t  0.03421300 & 1 & 8.995537 & 0.0000 & 0.304720 & 0.011658 & 0.246 & 0.260 & 0.190 & 1.00 & ... &  6.75 & 0.667 & 0.776 & 0.575 & 23.5 & 15.0 & 0.2597 & 0.2288 &   2.460 & -0.003241\\\\\n",
       "\t  0.05275914 & 1 & 8.234830 & 0.0363 & 0.288405 & 0.011589 & 0.183 & 0.222 & 0.142 & 1.00 & ... &  8.18 & 1.010 & 1.220 & 0.821 & 30.2 & 28.3 & 0.1044 & 0.1796 &  32.051 & -0.034352\\\\\n",
       "\t  0.03841564 & 1 & 8.332549 & 0.0000 & 0.345485 & 0.006503 & 0.188 & 0.248 & 0.136 & 1.00 & ... & 13.12 & 1.576 & 1.567 & 1.585 & 31.0 & 14.3 & 0.2866 & 0.3500 &   0.452 & -0.001660\\\\\n",
       "\t  0.03189479 & 1 & 8.645586 & 0.0000 & 0.288440 & 0.005995 & 0.256 & 0.301 & 0.199 & 1.00 & ... &  6.91 & 1.307 & 1.579 & 1.062 & 18.9 & 11.3 & 0.1296 & 0.1458 & 652.850 & -0.046278\\\\\n",
       "\t  0.03119598 & 1 & 8.991064 & 0.0000 & 0.371898 & 0.014586 & 0.255 & 0.336 & 0.170 & 0.98 & ... & 11.41 & 2.226 & 2.494 & 1.971 & 27.5 & 15.9 & 0.4407 & 0.4257 &   2.529 & -0.011883\\\\\n",
       "\t  0.03409566 & 1 & 8.025189 & 0.0050 & 0.296437 & 0.013615 & 0.108 & 0.117 & 0.093 & 1.00 & ... &  1.95 & 0.510 & 0.694 & 0.362 & 20.2 & 15.7 & 0.1669 & 0.2201 &  25.553 & -0.039080\\\\\n",
       "\t  0.04690046 & 1 & 9.030137 & 0.0000 & 0.265778 & 0.008629 & 0.288 & 0.337 & 0.237 & 1.00 & ... & 25.64 & 2.727 & 2.664 & 2.788 & 20.4 &  9.4 & 0.3238 & 0.3134 &   4.152 &  0.005175\\\\\n",
       "\t  0.03977337 & 1 & 8.865312 & 0.0000 & 0.282939 & 0.005048 & 0.188 & 0.236 & 0.139 & 1.00 & ... & 10.76 & 1.888 & 1.920 & 1.860 & 20.0 & 16.0 & 0.1845 & 0.1940 &   0.452 & -0.029551\\\\\n",
       "\t  0.04064154 & 1 & 8.912339 & 0.0000 & 0.150366 & 0.024377 & 0.257 & 0.338 & 0.215 & 1.00 & ... & 24.40 & 3.051 & 3.235 & 2.875 & 18.5 & 29.1 & 0.1876 & 0.2007 &   0.886 & -0.036482\\\\\n",
       "\\end{tabular}\n"
      ],
      "text/markdown": [
       "\n",
       "A data.frame: 90 × 63\n",
       "\n",
       "| Outcome &lt;dbl&gt; | intercept &lt;int&gt; | gdpsh465 &lt;dbl&gt; | bmp1l &lt;dbl&gt; | freeop &lt;dbl&gt; | freetar &lt;dbl&gt; | h65 &lt;dbl&gt; | hm65 &lt;dbl&gt; | hf65 &lt;dbl&gt; | p65 &lt;dbl&gt; | ... ... | seccf65 &lt;dbl&gt; | syr65 &lt;dbl&gt; | syrm65 &lt;dbl&gt; | syrf65 &lt;dbl&gt; | teapri65 &lt;dbl&gt; | teasec65 &lt;dbl&gt; | ex1 &lt;dbl&gt; | im1 &lt;dbl&gt; | xr65 &lt;dbl&gt; | tot1 &lt;dbl&gt; |\n",
       "|---|---|---|---|---|---|---|---|---|---|---|---|---|---|---|---|---|---|---|---|---|\n",
       "| -0.02433575 | 1 | 6.591674 | 0.2837 | 0.153491 | 0.043888 | 0.007 | 0.013 | 0.001 | 0.29 | ... |  0.04 | 0.033 | 0.057 | 0.010 | 47.6 | 17.3 | 0.0729 | 0.0667 |   0.348 | -0.014727 |\n",
       "|  0.10047257 | 1 | 6.829794 | 0.6141 | 0.313509 | 0.061827 | 0.019 | 0.032 | 0.007 | 0.91 | ... |  0.64 | 0.173 | 0.274 | 0.067 | 57.1 | 18.0 | 0.0940 | 0.1438 |   0.525 |  0.005750 |\n",
       "|  0.06705148 | 1 | 8.895082 | 0.0000 | 0.204244 | 0.009186 | 0.260 | 0.325 | 0.201 | 1.00 | ... | 18.14 | 2.573 | 2.478 | 2.667 | 26.5 | 20.7 | 0.1741 | 0.1750 |   1.082 | -0.010040 |\n",
       "|  0.06408917 | 1 | 7.565275 | 0.1997 | 0.248714 | 0.036270 | 0.061 | 0.070 | 0.051 | 1.00 | ... |  2.63 | 0.438 | 0.453 | 0.424 | 27.8 | 22.7 | 0.1265 | 0.1496 |   6.625 | -0.002195 |\n",
       "|  0.02792955 | 1 | 7.162397 | 0.1740 | 0.299252 | 0.037367 | 0.017 | 0.027 | 0.007 | 0.82 | ... |  2.11 | 0.257 | 0.287 | 0.229 | 34.5 | 17.6 | 0.1211 | 0.1308 |   2.500 |  0.003283 |\n",
       "|  0.04640744 | 1 | 7.218910 | 0.0000 | 0.258865 | 0.020880 | 0.023 | 0.038 | 0.006 | 0.50 | ... |  1.46 | 0.160 | 0.174 | 0.146 | 34.3 |  8.1 | 0.0634 | 0.0762 |   1.000 | -0.001747 |\n",
       "|  0.06733234 | 1 | 7.853605 | 0.0000 | 0.182525 | 0.014385 | 0.039 | 0.063 | 0.014 | 0.92 | ... |  1.59 | 0.342 | 0.484 | 0.207 | 46.6 | 14.7 | 0.0342 | 0.0428 |  12.499 |  0.009092 |\n",
       "|  0.02097768 | 1 | 7.703910 | 0.2776 | 0.215275 | 0.029713 | 0.024 | 0.035 | 0.013 | 0.69 | ... |  1.63 | 0.184 | 0.219 | 0.152 | 34.0 | 16.1 | 0.0864 | 0.0931 |   7.000 |  0.011630 |\n",
       "|  0.03355124 | 1 | 9.063463 | 0.0000 | 0.109614 | 0.002171 | 0.402 | 0.488 | 0.314 | 1.00 | ... | 24.72 | 3.206 | 3.154 | 3.253 | 28.2 | 20.6 | 0.0594 | 0.0460 |   1.000 |  0.008169 |\n",
       "|  0.03914652 | 1 | 8.151910 | 0.1484 | 0.110885 | 0.028579 | 0.145 | 0.173 | 0.114 | 1.00 | ... |  6.76 | 0.703 | 0.785 | 0.620 | 20.3 |  7.2 | 0.0524 | 0.0523 |   2.119 |  0.007584 |\n",
       "|  0.07612651 | 1 | 6.929517 | 0.0296 | 0.165784 | 0.020115 | 0.046 | 0.066 | 0.025 | 0.73 | ... |  6.21 | 1.316 | 1.683 | 0.969 | 27.8 | 17.2 | 0.0560 | 0.0826 |  11.879 |  0.086032 |\n",
       "|  0.12795121 | 1 | 7.237778 | 0.2151 | 0.078488 | 0.011581 | 0.022 | 0.031 | 0.014 | 1.00 | ... |  3.96 | 0.594 | 0.674 | 0.515 | 28.2 | 14.8 | 0.0270 | 0.0275 |   1.938 |  0.007666 |\n",
       "| -0.02432609 | 1 | 8.115820 | 0.4318 | 0.137482 | 0.026547 | 0.059 | 0.073 | 0.045 | 1.00 | ... | 11.36 | 1.132 | 1.126 | 1.138 | 52.1 | 18.8 | 0.0804 | 0.0930 |   0.003 |  0.016968 |\n",
       "|  0.07829342 | 1 | 7.271704 | 0.1689 | 0.164598 | 0.044446 | 0.029 | 0.045 | 0.013 | 0.84 | ... |  3.10 | 0.568 | 0.695 | 0.450 | 35.9 | 13.1 | 0.0617 | 0.0678 |  10.479 |  0.004573 |\n",
       "|  0.11291155 | 1 | 7.121252 | 0.1832 | 0.188016 | 0.045678 | 0.033 | 0.051 | 0.015 | 0.91 | ... |  3.16 | 0.440 | 0.512 | 0.369 | 37.4 | 12.7 | 0.0775 | 0.0780 |  18.476 | -0.020322 |\n",
       "|  0.05230819 | 1 | 6.977281 | 0.0962 | 0.204611 | 0.077852 | 0.037 | 0.043 | 0.030 | 1.00 | ... |  2.40 | 0.419 | 0.548 | 0.299 | 30.3 |  7.9 | 0.0668 | 0.0787 | 125.990 |  0.028916 |\n",
       "|  0.03639089 | 1 | 7.649693 | 0.0227 | 0.136287 | 0.046730 | 0.081 | 0.105 | 0.056 | 0.99 | ... |  3.51 | 0.562 | 0.699 | 0.427 | 35.7 | 14.7 | 0.0872 | 0.0938 |  26.800 |  0.020228 |\n",
       "|  0.02973823 | 1 | 8.056744 | 0.0208 | 0.197853 | 0.037224 | 0.083 | 0.097 | 0.069 | 1.00 | ... |  3.30 | 0.722 | 0.765 | 0.680 | 36.6 | 12.6 | 0.0557 | 0.0624 |   0.052 |  0.013407 |\n",
       "| -0.05664358 | 1 | 8.780941 | 0.2654 | 0.189867 | 0.031747 | 0.068 | 0.089 | 0.046 | 0.94 | ... |  2.99 | 0.372 | 0.462 | 0.281 | 34.0 | 20.3 | 0.3178 | 0.1583 |   4.500 | -0.024761 |\n",
       "|  0.01920480 | 1 | 6.287859 | 0.4207 | 0.130682 | 0.109921 | 0.053 | 0.039 | 0.011 | 0.74 | ... |  0.34 | 0.142 | 0.223 | 0.055 | 35.5 | 19.1 | 0.0201 | 0.0341 |   4.762 | -0.021656 |\n",
       "|  0.08520600 | 1 | 6.137727 | 0.1371 | 0.123818 | 0.015897 | 0.028 | 0.025 | 0.007 | 0.72 | ... |  0.56 | 0.148 | 0.232 | 0.065 | 41.3 | 21.3 | 0.0298 | 0.0297 |   4.125 | -0.054872 |\n",
       "|  0.13398221 | 1 | 8.128880 | 0.0000 | 0.167210 | 0.003311 | 0.129 | 0.196 | 0.063 | 1.00 | ... | 13.16 | 1.727 | 1.910 | 1.560 | 28.1 | 23.2 | 0.0570 | 0.0609 | 360.000 | -0.054874 |\n",
       "|  0.17302474 | 1 | 6.680855 | 0.4713 | 0.228424 | 0.029328 | 0.062 | 0.090 | 0.032 | 1.00 | ... |  3.95 | 0.974 | 1.526 | 0.470 | 62.4 | 34.9 | 0.0206 | 0.0618 | 265.690 |  0.018194 |\n",
       "|  0.10969915 | 1 | 7.177019 | 0.0178 | 0.185240 | 0.015453 | 0.020 | 0.026 | 0.013 | 0.90 | ... |  1.89 | 0.571 | 0.843 | 0.286 | 26.9 | 24.1 | 0.2295 | 0.1990 |   3.061 | -0.034733 |\n",
       "|  0.01598990 | 1 | 6.648985 | 0.4762 | 0.171181 | 0.058937 | 0.018 | 0.028 | 0.007 | 0.40 | ... |  0.76 | 0.357 | 0.512 | 0.185 | 39.9 | 26.9 | 0.0178 | 0.0634 |   4.762 | -0.000222 |\n",
       "|  0.06224977 | 1 | 6.879356 | 0.2927 | 0.179508 | 0.035842 | 0.188 | 0.169 | 0.208 | 1.00 | ... |  3.69 | 0.651 | 0.759 | 0.547 | 31.4 | 31.2 | 0.0695 | 0.0728 |   4.017 |  0.033636 |\n",
       "|  0.10987069 | 1 | 7.347300 | 0.1017 | 0.247626 | 0.037392 | 0.080 | 0.133 | 0.027 | 0.78 | ... |  0.72 | 0.195 | 0.303 | 0.085 | 36.2 | 21.6 | 0.0860 | 0.0898 |   3.177 |  0.010162 |\n",
       "|  0.09210628 | 1 | 6.725034 | 0.0266 | 0.179933 | 0.046376 | 0.015 | 0.020 | 0.010 | 0.78 | ... |  0.86 | 0.258 | 0.382 | 0.137 | 34.6 | 16.5 | 0.0558 | 0.0613 |  20.800 | -0.018514 |\n",
       "|  0.08337604 | 1 | 8.451053 | 0.0000 | 0.358556 | 0.016468 | 0.090 | 0.133 | 0.044 | 1.00 | ... |  2.91 | 0.766 | 1.087 | 0.510 | 21.9 | 15.3 | 0.1687 | 0.1635 |  26.000 |  0.010943 |\n",
       "|  0.07623345 | 1 | 8.602453 | 0.0000 | 0.416234 | 0.014721 | 0.148 | 0.194 | 0.100 | 1.00 | ... | 12.17 | 1.554 | 1.724 | 1.398 | 20.6 |  7.2 | 0.2629 | 0.2698 |  50.000 | -0.001521 |\n",
       "| ... | ... | ... | ... | ... | ... | ... | ... | ... | ... | <!----> | ... | ... | ... | ... | ... | ... | ... | ... | ... | ... |\n",
       "| -0.03404539 | 1 | 8.346168 | 0.3199 | 0.110885 | 0.028579 | 0.272 | 0.289 | 0.272 | 1.00 | ... |  9.58 | 0.919 | 0.936 | 0.902 | 18.2 |  7.7 | 0.0625 | 0.0578 |  36.603 |  0.014286 |\n",
       "| -0.03380635 | 1 | 7.303170 | 0.3133 | 0.165784 | 0.020115 | 0.112 | 0.132 | 0.065 | 0.85 | ... |  5.60 | 1.158 | 1.473 | 0.862 | 22.7 | 18.2 | 0.1071 | 0.1028 |  20.000 |  0.111198 |\n",
       "|  0.06991488 | 1 | 7.859027 | 0.1222 | 0.078488 | 0.011581 | 0.107 | 0.103 | 0.092 | 0.88 | ... |  2.80 | 0.596 | 0.645 | 0.548 | 21.7 | 14.4 | 0.0357 | 0.0466 |   8.127 |  0.006002 |\n",
       "| -0.08172560 | 1 | 7.998335 | 1.6378 | 0.137482 | 0.026547 | 0.156 | 0.181 | 0.150 | 1.00 | ... | 13.74 | 1.339 | 1.222 | 1.445 | 34.8 | 15.2 | 0.0783 | 0.0847 |   4.911 | -0.127025 |\n",
       "|  0.04601005 | 1 | 7.655864 | 0.1345 | 0.164598 | 0.044446 | 0.080 | 0.097 | 0.058 | 1.00 | ... |  8.25 | 1.076 | 1.143 | 1.013 | 32.1 | 19.4 | 0.0525 | 0.0572 |  30.929 | -0.004592 |\n",
       "|  0.06659809 | 1 | 7.675082 | 0.0898 | 0.188016 | 0.045678 | 0.269 | 0.338 | 0.200 | 1.00 | ... |  5.80 | 0.687 | 0.745 | 0.630 | 37.5 | 16.4 | 0.0906 | 0.0959 |  25.000 |  0.191066 |\n",
       "| -0.01138424 | 1 | 7.830028 | 0.4880 | 0.136287 | 0.046730 | 0.146 | 0.193 | 0.094 | 1.00 | ... |  6.42 | 0.950 | 1.129 | 0.772 | 39.1 | 23.8 | 0.0764 | 0.0866 |  40.500 | -0.007018 |\n",
       "| -0.10098990 | 1 | 8.498622 | 0.0010 | 0.189867 | 0.031747 | 0.181 | 0.190 | 0.159 | 0.97 | ... |  7.63 | 0.801 | 0.850 | 0.752 | 30.2 | 16.8 | 0.2131 | 0.1437 |   4.285 |  0.168536 |\n",
       "|  0.05475087 | 1 | 6.216606 | 0.7557 | 0.214345 | 0.073495 | 0.023 | 0.051 | 0.006 | 0.73 | ... |  0.44 | 0.282 | 0.488 | 0.051 | 50.6 | 21.8 | 0.0232 | 0.0407 |   8.876 | -0.084064 |\n",
       "|  0.09461817 | 1 | 8.414496 | 0.0000 | 0.374328 | 0.000000 | 0.101 | 0.147 | 0.053 | 1.00 | ... | 11.80 | 1.846 | 2.369 | 1.301 | 31.1 | 24.3 | 0.5958 | 0.5819 |   4.935 |  0.021808 |\n",
       "|  0.04571529 | 1 | 6.383507 | 0.3556 | 0.130682 | 0.109921 | 0.086 | 0.130 | 0.042 | 0.79 | ... |  1.00 | 0.446 | 0.713 | 0.163 | 42.3 | 19.8 | 0.0188 | 0.0222 |   8.653 | -0.012443 |\n",
       "|  0.06549111 | 1 | 8.782323 | 0.0000 | 0.167210 | 0.003311 | 0.246 | 0.331 | 0.160 | 0.99 | ... | 15.52 | 1.969 | 2.121 | 1.828 | 25.3 | 17.5 | 0.1032 | 0.0958 | 296.800 | -0.057094 |\n",
       "|  0.02124651 | 1 | 7.251345 | 0.0516 | 0.263813 | 0.045225 | 0.090 | 0.053 | 0.030 | 0.88 | ... |  4.00 | 0.817 | 1.205 | 0.413 | 34.7 | 21.1 | 0.0730 | 0.2227 |   0.320 |  0.128443 |\n",
       "|  0.14144548 | 1 | 7.511525 | 0.1053 | 0.228424 | 0.029328 | 0.103 | 0.139 | 0.054 | 1.00 | ... |  9.33 | 1.700 | 2.369 | 1.060 | 51.7 | 37.1 | 0.0903 | 0.1229 | 484.000 |  0.007257 |\n",
       "|  0.09681623 | 1 | 7.713785 | 0.0050 | 0.185240 | 0.015453 | 0.031 | 0.042 | 0.016 | 0.91 | ... |  4.35 | 0.891 | 1.255 | 0.517 | 31.8 | 27.3 | 0.1922 | 0.1821 |   2.402 |  0.030424 |\n",
       "|  0.04053420 | 1 | 6.728629 | 0.6190 | 0.171181 | 0.058937 | 0.019 | 0.027 | 0.009 | 0.46 | ... |  1.01 | 0.670 | 1.039 | 0.271 | 40.1 | 18.0 | 0.0281 | 0.0459 |   9.900 | -0.012137 |\n",
       "|  0.01058841 | 1 | 7.186144 | 0.0760 | 0.179508 | 0.035842 | 0.184 | 0.173 | 0.217 | 1.00 | ... |  5.34 | 0.943 | 1.049 | 0.837 | 29.0 | 31.5 | 0.0703 | 0.0716 |   7.248 |  0.009640 |\n",
       "|  0.18552649 | 1 | 8.326033 | 0.0050 | 0.321658 | 0.005106 | 0.090 | 0.109 | 0.075 | 1.00 | ... |  4.64 | 1.127 | 1.427 | 0.817 | 30.5 | 23.1 | 0.7470 | 0.8489 |   2.371 |  0.051395 |\n",
       "|  0.09310491 | 1 | 7.894691 | 0.1062 | 0.247626 | 0.037392 | 0.121 | 0.175 | 0.063 | 0.96 | ... |  1.47 | 0.481 | 0.761 | 0.200 | 33.8 | 19.6 | 0.0797 | 0.1018 |   3.017 |  0.207492 |\n",
       "|  0.06522856 | 1 | 7.175490 | 0.0000 | 0.179933 | 0.046376 | 0.035 | 0.040 | 0.027 | 0.83 | ... |  1.23 | 0.332 | 0.451 | 0.219 | 27.9 | 27.2 | 0.0636 | 0.0721 |  20.379 |  0.018019 |\n",
       "|  0.03809502 | 1 | 9.030974 | 0.0000 | 0.293138 | 0.005517 | 0.245 | 0.251 | 0.238 | 1.00 | ... |  7.50 | 1.167 | 1.210 | 1.128 | 22.5 | 15.5 | 0.1662 | 0.1617 |   4.286 | -0.006642 |\n",
       "|  0.03421300 | 1 | 8.995537 | 0.0000 | 0.304720 | 0.011658 | 0.246 | 0.260 | 0.190 | 1.00 | ... |  6.75 | 0.667 | 0.776 | 0.575 | 23.5 | 15.0 | 0.2597 | 0.2288 |   2.460 | -0.003241 |\n",
       "|  0.05275914 | 1 | 8.234830 | 0.0363 | 0.288405 | 0.011589 | 0.183 | 0.222 | 0.142 | 1.00 | ... |  8.18 | 1.010 | 1.220 | 0.821 | 30.2 | 28.3 | 0.1044 | 0.1796 |  32.051 | -0.034352 |\n",
       "|  0.03841564 | 1 | 8.332549 | 0.0000 | 0.345485 | 0.006503 | 0.188 | 0.248 | 0.136 | 1.00 | ... | 13.12 | 1.576 | 1.567 | 1.585 | 31.0 | 14.3 | 0.2866 | 0.3500 |   0.452 | -0.001660 |\n",
       "|  0.03189479 | 1 | 8.645586 | 0.0000 | 0.288440 | 0.005995 | 0.256 | 0.301 | 0.199 | 1.00 | ... |  6.91 | 1.307 | 1.579 | 1.062 | 18.9 | 11.3 | 0.1296 | 0.1458 | 652.850 | -0.046278 |\n",
       "|  0.03119598 | 1 | 8.991064 | 0.0000 | 0.371898 | 0.014586 | 0.255 | 0.336 | 0.170 | 0.98 | ... | 11.41 | 2.226 | 2.494 | 1.971 | 27.5 | 15.9 | 0.4407 | 0.4257 |   2.529 | -0.011883 |\n",
       "|  0.03409566 | 1 | 8.025189 | 0.0050 | 0.296437 | 0.013615 | 0.108 | 0.117 | 0.093 | 1.00 | ... |  1.95 | 0.510 | 0.694 | 0.362 | 20.2 | 15.7 | 0.1669 | 0.2201 |  25.553 | -0.039080 |\n",
       "|  0.04690046 | 1 | 9.030137 | 0.0000 | 0.265778 | 0.008629 | 0.288 | 0.337 | 0.237 | 1.00 | ... | 25.64 | 2.727 | 2.664 | 2.788 | 20.4 |  9.4 | 0.3238 | 0.3134 |   4.152 |  0.005175 |\n",
       "|  0.03977337 | 1 | 8.865312 | 0.0000 | 0.282939 | 0.005048 | 0.188 | 0.236 | 0.139 | 1.00 | ... | 10.76 | 1.888 | 1.920 | 1.860 | 20.0 | 16.0 | 0.1845 | 0.1940 |   0.452 | -0.029551 |\n",
       "|  0.04064154 | 1 | 8.912339 | 0.0000 | 0.150366 | 0.024377 | 0.257 | 0.338 | 0.215 | 1.00 | ... | 24.40 | 3.051 | 3.235 | 2.875 | 18.5 | 29.1 | 0.1876 | 0.2007 |   0.886 | -0.036482 |\n",
       "\n"
      ],
      "text/plain": [
       "    Outcome     intercept gdpsh465 bmp1l  freeop   freetar  h65   hm65  hf65 \n",
       "1   -0.02433575 1         6.591674 0.2837 0.153491 0.043888 0.007 0.013 0.001\n",
       "2    0.10047257 1         6.829794 0.6141 0.313509 0.061827 0.019 0.032 0.007\n",
       "3    0.06705148 1         8.895082 0.0000 0.204244 0.009186 0.260 0.325 0.201\n",
       "4    0.06408917 1         7.565275 0.1997 0.248714 0.036270 0.061 0.070 0.051\n",
       "5    0.02792955 1         7.162397 0.1740 0.299252 0.037367 0.017 0.027 0.007\n",
       "6    0.04640744 1         7.218910 0.0000 0.258865 0.020880 0.023 0.038 0.006\n",
       "7    0.06733234 1         7.853605 0.0000 0.182525 0.014385 0.039 0.063 0.014\n",
       "8    0.02097768 1         7.703910 0.2776 0.215275 0.029713 0.024 0.035 0.013\n",
       "9    0.03355124 1         9.063463 0.0000 0.109614 0.002171 0.402 0.488 0.314\n",
       "10   0.03914652 1         8.151910 0.1484 0.110885 0.028579 0.145 0.173 0.114\n",
       "11   0.07612651 1         6.929517 0.0296 0.165784 0.020115 0.046 0.066 0.025\n",
       "12   0.12795121 1         7.237778 0.2151 0.078488 0.011581 0.022 0.031 0.014\n",
       "13  -0.02432609 1         8.115820 0.4318 0.137482 0.026547 0.059 0.073 0.045\n",
       "14   0.07829342 1         7.271704 0.1689 0.164598 0.044446 0.029 0.045 0.013\n",
       "15   0.11291155 1         7.121252 0.1832 0.188016 0.045678 0.033 0.051 0.015\n",
       "16   0.05230819 1         6.977281 0.0962 0.204611 0.077852 0.037 0.043 0.030\n",
       "17   0.03639089 1         7.649693 0.0227 0.136287 0.046730 0.081 0.105 0.056\n",
       "18   0.02973823 1         8.056744 0.0208 0.197853 0.037224 0.083 0.097 0.069\n",
       "19  -0.05664358 1         8.780941 0.2654 0.189867 0.031747 0.068 0.089 0.046\n",
       "20   0.01920480 1         6.287859 0.4207 0.130682 0.109921 0.053 0.039 0.011\n",
       "21   0.08520600 1         6.137727 0.1371 0.123818 0.015897 0.028 0.025 0.007\n",
       "22   0.13398221 1         8.128880 0.0000 0.167210 0.003311 0.129 0.196 0.063\n",
       "23   0.17302474 1         6.680855 0.4713 0.228424 0.029328 0.062 0.090 0.032\n",
       "24   0.10969915 1         7.177019 0.0178 0.185240 0.015453 0.020 0.026 0.013\n",
       "25   0.01598990 1         6.648985 0.4762 0.171181 0.058937 0.018 0.028 0.007\n",
       "26   0.06224977 1         6.879356 0.2927 0.179508 0.035842 0.188 0.169 0.208\n",
       "27   0.10987069 1         7.347300 0.1017 0.247626 0.037392 0.080 0.133 0.027\n",
       "28   0.09210628 1         6.725034 0.0266 0.179933 0.046376 0.015 0.020 0.010\n",
       "29   0.08337604 1         8.451053 0.0000 0.358556 0.016468 0.090 0.133 0.044\n",
       "30   0.07623345 1         8.602453 0.0000 0.416234 0.014721 0.148 0.194 0.100\n",
       "... ...         ...       ...      ...    ...      ...      ...   ...   ...  \n",
       "61  -0.03404539 1         8.346168 0.3199 0.110885 0.028579 0.272 0.289 0.272\n",
       "62  -0.03380635 1         7.303170 0.3133 0.165784 0.020115 0.112 0.132 0.065\n",
       "63   0.06991488 1         7.859027 0.1222 0.078488 0.011581 0.107 0.103 0.092\n",
       "64  -0.08172560 1         7.998335 1.6378 0.137482 0.026547 0.156 0.181 0.150\n",
       "65   0.04601005 1         7.655864 0.1345 0.164598 0.044446 0.080 0.097 0.058\n",
       "66   0.06659809 1         7.675082 0.0898 0.188016 0.045678 0.269 0.338 0.200\n",
       "67  -0.01138424 1         7.830028 0.4880 0.136287 0.046730 0.146 0.193 0.094\n",
       "68  -0.10098990 1         8.498622 0.0010 0.189867 0.031747 0.181 0.190 0.159\n",
       "69   0.05475087 1         6.216606 0.7557 0.214345 0.073495 0.023 0.051 0.006\n",
       "70   0.09461817 1         8.414496 0.0000 0.374328 0.000000 0.101 0.147 0.053\n",
       "71   0.04571529 1         6.383507 0.3556 0.130682 0.109921 0.086 0.130 0.042\n",
       "72   0.06549111 1         8.782323 0.0000 0.167210 0.003311 0.246 0.331 0.160\n",
       "73   0.02124651 1         7.251345 0.0516 0.263813 0.045225 0.090 0.053 0.030\n",
       "74   0.14144548 1         7.511525 0.1053 0.228424 0.029328 0.103 0.139 0.054\n",
       "75   0.09681623 1         7.713785 0.0050 0.185240 0.015453 0.031 0.042 0.016\n",
       "76   0.04053420 1         6.728629 0.6190 0.171181 0.058937 0.019 0.027 0.009\n",
       "77   0.01058841 1         7.186144 0.0760 0.179508 0.035842 0.184 0.173 0.217\n",
       "78   0.18552649 1         8.326033 0.0050 0.321658 0.005106 0.090 0.109 0.075\n",
       "79   0.09310491 1         7.894691 0.1062 0.247626 0.037392 0.121 0.175 0.063\n",
       "80   0.06522856 1         7.175490 0.0000 0.179933 0.046376 0.035 0.040 0.027\n",
       "81   0.03809502 1         9.030974 0.0000 0.293138 0.005517 0.245 0.251 0.238\n",
       "82   0.03421300 1         8.995537 0.0000 0.304720 0.011658 0.246 0.260 0.190\n",
       "83   0.05275914 1         8.234830 0.0363 0.288405 0.011589 0.183 0.222 0.142\n",
       "84   0.03841564 1         8.332549 0.0000 0.345485 0.006503 0.188 0.248 0.136\n",
       "85   0.03189479 1         8.645586 0.0000 0.288440 0.005995 0.256 0.301 0.199\n",
       "86   0.03119598 1         8.991064 0.0000 0.371898 0.014586 0.255 0.336 0.170\n",
       "87   0.03409566 1         8.025189 0.0050 0.296437 0.013615 0.108 0.117 0.093\n",
       "88   0.04690046 1         9.030137 0.0000 0.265778 0.008629 0.288 0.337 0.237\n",
       "89   0.03977337 1         8.865312 0.0000 0.282939 0.005048 0.188 0.236 0.139\n",
       "90   0.04064154 1         8.912339 0.0000 0.150366 0.024377 0.257 0.338 0.215\n",
       "    p65  ... seccf65 syr65 syrm65 syrf65 teapri65 teasec65 ex1    im1   \n",
       "1   0.29 ...  0.04   0.033 0.057  0.010  47.6     17.3     0.0729 0.0667\n",
       "2   0.91 ...  0.64   0.173 0.274  0.067  57.1     18.0     0.0940 0.1438\n",
       "3   1.00 ... 18.14   2.573 2.478  2.667  26.5     20.7     0.1741 0.1750\n",
       "4   1.00 ...  2.63   0.438 0.453  0.424  27.8     22.7     0.1265 0.1496\n",
       "5   0.82 ...  2.11   0.257 0.287  0.229  34.5     17.6     0.1211 0.1308\n",
       "6   0.50 ...  1.46   0.160 0.174  0.146  34.3      8.1     0.0634 0.0762\n",
       "7   0.92 ...  1.59   0.342 0.484  0.207  46.6     14.7     0.0342 0.0428\n",
       "8   0.69 ...  1.63   0.184 0.219  0.152  34.0     16.1     0.0864 0.0931\n",
       "9   1.00 ... 24.72   3.206 3.154  3.253  28.2     20.6     0.0594 0.0460\n",
       "10  1.00 ...  6.76   0.703 0.785  0.620  20.3      7.2     0.0524 0.0523\n",
       "11  0.73 ...  6.21   1.316 1.683  0.969  27.8     17.2     0.0560 0.0826\n",
       "12  1.00 ...  3.96   0.594 0.674  0.515  28.2     14.8     0.0270 0.0275\n",
       "13  1.00 ... 11.36   1.132 1.126  1.138  52.1     18.8     0.0804 0.0930\n",
       "14  0.84 ...  3.10   0.568 0.695  0.450  35.9     13.1     0.0617 0.0678\n",
       "15  0.91 ...  3.16   0.440 0.512  0.369  37.4     12.7     0.0775 0.0780\n",
       "16  1.00 ...  2.40   0.419 0.548  0.299  30.3      7.9     0.0668 0.0787\n",
       "17  0.99 ...  3.51   0.562 0.699  0.427  35.7     14.7     0.0872 0.0938\n",
       "18  1.00 ...  3.30   0.722 0.765  0.680  36.6     12.6     0.0557 0.0624\n",
       "19  0.94 ...  2.99   0.372 0.462  0.281  34.0     20.3     0.3178 0.1583\n",
       "20  0.74 ...  0.34   0.142 0.223  0.055  35.5     19.1     0.0201 0.0341\n",
       "21  0.72 ...  0.56   0.148 0.232  0.065  41.3     21.3     0.0298 0.0297\n",
       "22  1.00 ... 13.16   1.727 1.910  1.560  28.1     23.2     0.0570 0.0609\n",
       "23  1.00 ...  3.95   0.974 1.526  0.470  62.4     34.9     0.0206 0.0618\n",
       "24  0.90 ...  1.89   0.571 0.843  0.286  26.9     24.1     0.2295 0.1990\n",
       "25  0.40 ...  0.76   0.357 0.512  0.185  39.9     26.9     0.0178 0.0634\n",
       "26  1.00 ...  3.69   0.651 0.759  0.547  31.4     31.2     0.0695 0.0728\n",
       "27  0.78 ...  0.72   0.195 0.303  0.085  36.2     21.6     0.0860 0.0898\n",
       "28  0.78 ...  0.86   0.258 0.382  0.137  34.6     16.5     0.0558 0.0613\n",
       "29  1.00 ...  2.91   0.766 1.087  0.510  21.9     15.3     0.1687 0.1635\n",
       "30  1.00 ... 12.17   1.554 1.724  1.398  20.6      7.2     0.2629 0.2698\n",
       "... ...      ...     ...   ...    ...    ...      ...      ...    ...   \n",
       "61  1.00 ...  9.58   0.919 0.936  0.902  18.2      7.7     0.0625 0.0578\n",
       "62  0.85 ...  5.60   1.158 1.473  0.862  22.7     18.2     0.1071 0.1028\n",
       "63  0.88 ...  2.80   0.596 0.645  0.548  21.7     14.4     0.0357 0.0466\n",
       "64  1.00 ... 13.74   1.339 1.222  1.445  34.8     15.2     0.0783 0.0847\n",
       "65  1.00 ...  8.25   1.076 1.143  1.013  32.1     19.4     0.0525 0.0572\n",
       "66  1.00 ...  5.80   0.687 0.745  0.630  37.5     16.4     0.0906 0.0959\n",
       "67  1.00 ...  6.42   0.950 1.129  0.772  39.1     23.8     0.0764 0.0866\n",
       "68  0.97 ...  7.63   0.801 0.850  0.752  30.2     16.8     0.2131 0.1437\n",
       "69  0.73 ...  0.44   0.282 0.488  0.051  50.6     21.8     0.0232 0.0407\n",
       "70  1.00 ... 11.80   1.846 2.369  1.301  31.1     24.3     0.5958 0.5819\n",
       "71  0.79 ...  1.00   0.446 0.713  0.163  42.3     19.8     0.0188 0.0222\n",
       "72  0.99 ... 15.52   1.969 2.121  1.828  25.3     17.5     0.1032 0.0958\n",
       "73  0.88 ...  4.00   0.817 1.205  0.413  34.7     21.1     0.0730 0.2227\n",
       "74  1.00 ...  9.33   1.700 2.369  1.060  51.7     37.1     0.0903 0.1229\n",
       "75  0.91 ...  4.35   0.891 1.255  0.517  31.8     27.3     0.1922 0.1821\n",
       "76  0.46 ...  1.01   0.670 1.039  0.271  40.1     18.0     0.0281 0.0459\n",
       "77  1.00 ...  5.34   0.943 1.049  0.837  29.0     31.5     0.0703 0.0716\n",
       "78  1.00 ...  4.64   1.127 1.427  0.817  30.5     23.1     0.7470 0.8489\n",
       "79  0.96 ...  1.47   0.481 0.761  0.200  33.8     19.6     0.0797 0.1018\n",
       "80  0.83 ...  1.23   0.332 0.451  0.219  27.9     27.2     0.0636 0.0721\n",
       "81  1.00 ...  7.50   1.167 1.210  1.128  22.5     15.5     0.1662 0.1617\n",
       "82  1.00 ...  6.75   0.667 0.776  0.575  23.5     15.0     0.2597 0.2288\n",
       "83  1.00 ...  8.18   1.010 1.220  0.821  30.2     28.3     0.1044 0.1796\n",
       "84  1.00 ... 13.12   1.576 1.567  1.585  31.0     14.3     0.2866 0.3500\n",
       "85  1.00 ...  6.91   1.307 1.579  1.062  18.9     11.3     0.1296 0.1458\n",
       "86  0.98 ... 11.41   2.226 2.494  1.971  27.5     15.9     0.4407 0.4257\n",
       "87  1.00 ...  1.95   0.510 0.694  0.362  20.2     15.7     0.1669 0.2201\n",
       "88  1.00 ... 25.64   2.727 2.664  2.788  20.4      9.4     0.3238 0.3134\n",
       "89  1.00 ... 10.76   1.888 1.920  1.860  20.0     16.0     0.1845 0.1940\n",
       "90  1.00 ... 24.40   3.051 3.235  2.875  18.5     29.1     0.1876 0.2007\n",
       "    xr65    tot1     \n",
       "1     0.348 -0.014727\n",
       "2     0.525  0.005750\n",
       "3     1.082 -0.010040\n",
       "4     6.625 -0.002195\n",
       "5     2.500  0.003283\n",
       "6     1.000 -0.001747\n",
       "7    12.499  0.009092\n",
       "8     7.000  0.011630\n",
       "9     1.000  0.008169\n",
       "10    2.119  0.007584\n",
       "11   11.879  0.086032\n",
       "12    1.938  0.007666\n",
       "13    0.003  0.016968\n",
       "14   10.479  0.004573\n",
       "15   18.476 -0.020322\n",
       "16  125.990  0.028916\n",
       "17   26.800  0.020228\n",
       "18    0.052  0.013407\n",
       "19    4.500 -0.024761\n",
       "20    4.762 -0.021656\n",
       "21    4.125 -0.054872\n",
       "22  360.000 -0.054874\n",
       "23  265.690  0.018194\n",
       "24    3.061 -0.034733\n",
       "25    4.762 -0.000222\n",
       "26    4.017  0.033636\n",
       "27    3.177  0.010162\n",
       "28   20.800 -0.018514\n",
       "29   26.000  0.010943\n",
       "30   50.000 -0.001521\n",
       "... ...     ...      \n",
       "61   36.603  0.014286\n",
       "62   20.000  0.111198\n",
       "63    8.127  0.006002\n",
       "64    4.911 -0.127025\n",
       "65   30.929 -0.004592\n",
       "66   25.000  0.191066\n",
       "67   40.500 -0.007018\n",
       "68    4.285  0.168536\n",
       "69    8.876 -0.084064\n",
       "70    4.935  0.021808\n",
       "71    8.653 -0.012443\n",
       "72  296.800 -0.057094\n",
       "73    0.320  0.128443\n",
       "74  484.000  0.007257\n",
       "75    2.402  0.030424\n",
       "76    9.900 -0.012137\n",
       "77    7.248  0.009640\n",
       "78    2.371  0.051395\n",
       "79    3.017  0.207492\n",
       "80   20.379  0.018019\n",
       "81    4.286 -0.006642\n",
       "82    2.460 -0.003241\n",
       "83   32.051 -0.034352\n",
       "84    0.452 -0.001660\n",
       "85  652.850 -0.046278\n",
       "86    2.529 -0.011883\n",
       "87   25.553 -0.039080\n",
       "88    4.152  0.005175\n",
       "89    0.452 -0.029551\n",
       "90    0.886 -0.036482"
      ]
     },
     "metadata": {},
     "output_type": "display_data"
    }
   ],
   "source": [
    "library(dplyr)\n",
    "library(ggplot2)\n",
    "library(caTools)\n",
    "library(hdm)\n",
    "library(glmnet)\n",
    "library(sandwich)\n",
    "library(randomForest)\n",
    "\n",
    "GrowthData <- GrowthData\n",
    "save(GrowthData, file = \"C:/Users/Gonzalo/Documents/GitHub/grf/GrowthData.RData\")\n",
    "attach(GrowthData)\n",
    "names(GrowthData)\n",
    "dim(GrowthData)\n",
    "GrowthData"
   ]
  },
  {
   "cell_type": "code",
   "execution_count": 4,
   "id": "e5f353b3",
   "metadata": {},
   "outputs": [],
   "source": [
    "y <- c(\"Outcome\")\n",
    "d <- c(\"gdpsh465\")\n",
    "z1 <- c(\"govsh41\", \"govwb1\", \"gpop1\", \"gvxdxe41\", \"h65\", \"high65\" , \"hm65\", \"human65\")\n",
    "z2 <- c(\"p65\", \"pf65\", \"pinstab1\", \"pm65\", \"pop1565\", \"pop65\", \"s65\", \"sec65\", \"secc65\")\n",
    "z3 <- c(\"seccf65\", \"seccm65\", \"secf65\", \"secm65\", \"sf65\", \"sm65\", \"syr65\", \"syrf65\")        \n",
    "z4 <- c(\"syrm65\", \"teapri65\", \"teasec65\", \"tot1\", \"worker65\", \"xr65\")        \n",
    "        \n",
    "# Treatment Variable\n",
    "d <- GrowthData[which(colnames(GrowthData) == d)]\n",
    "# Outcome Variable\n",
    "y  <- GrowthData[which(colnames(GrowthData) == y)]\n",
    "# Construct matrix Z\n",
    "z <- GrowthData[which(colnames(GrowthData) %in% c(z1,z2,z3,z4))]"
   ]
  },
  {
   "cell_type": "markdown",
   "id": "2d7277b9",
   "metadata": {},
   "source": [
    "### 1. OLS without including the country characteristics.\n",
    "***\n",
    "We estimate a model of the outcome variable just on the treatment variable (initial wealth). That is:\n",
    "\n",
    " $$\n",
    "  Y = \\beta_1 D  + \\epsilon.\n",
    "  $$"
   ]
  },
  {
   "cell_type": "code",
   "execution_count": 5,
   "id": "7baa4517",
   "metadata": {},
   "outputs": [
    {
     "data": {
      "text/html": [
       "<style>\n",
       ".dl-inline {width: auto; margin:0; padding: 0}\n",
       ".dl-inline>dt, .dl-inline>dd {float: none; width: auto; display: inline-block}\n",
       ".dl-inline>dt::after {content: \":\\0020\"; padding-right: .5ex}\n",
       ".dl-inline>dt:not(:first-of-type) {padding-left: .5ex}\n",
       "</style><dl class=dl-inline><dt>2.5 %</dt><dd>-0.0108101278829858</dd><dt>97.5 %</dt><dd>0.013443553109878</dd></dl>\n"
      ],
      "text/latex": [
       "\\begin{description*}\n",
       "\\item[2.5 \\textbackslash{}\\%] -0.0108101278829858\n",
       "\\item[97.5 \\textbackslash{}\\%] 0.013443553109878\n",
       "\\end{description*}\n"
      ],
      "text/markdown": [
       "2.5 %\n",
       ":   -0.010810127882985897.5 %\n",
       ":   0.013443553109878\n",
       "\n"
      ],
      "text/plain": [
       "      2.5 %      97.5 % \n",
       "-0.01081013  0.01344355 "
      ]
     },
     "metadata": {},
     "output_type": "display_data"
    },
    {
     "data": {
      "text/html": [
       "<style>\n",
       ".dl-inline {width: auto; margin:0; padding: 0}\n",
       ".dl-inline>dt, .dl-inline>dd {float: none; width: auto; display: inline-block}\n",
       ".dl-inline>dt::after {content: \":\\0020\"; padding-right: .5ex}\n",
       ".dl-inline>dt:not(:first-of-type) {padding-left: .5ex}\n",
       "</style><dl class=dl-inline><dt>Estimate</dt><dd>0.00131671261344607</dd><dt>Std. Error</dt><dd>0.00610220014253539</dd><dt>t value</dt><dd>0.215776700647349</dd><dt>Pr(&gt;|t|)</dt><dd>0.829661164776388</dd></dl>\n"
      ],
      "text/latex": [
       "\\begin{description*}\n",
       "\\item[Estimate] 0.00131671261344607\n",
       "\\item[Std. Error] 0.00610220014253539\n",
       "\\item[t value] 0.215776700647349\n",
       "\\item[Pr(>\\textbackslash{}textbar\\{\\}t\\textbackslash{}textbar\\{\\})] 0.829661164776388\n",
       "\\end{description*}\n"
      ],
      "text/markdown": [
       "Estimate\n",
       ":   0.00131671261344607Std. Error\n",
       ":   0.00610220014253539t value\n",
       ":   0.215776700647349Pr(&amp;gt;|t|)\n",
       ":   0.829661164776388\n",
       "\n"
      ],
      "text/plain": [
       "   Estimate  Std. Error     t value    Pr(>|t|) \n",
       "0.001316713 0.006102200 0.215776701 0.829661165 "
      ]
     },
     "metadata": {},
     "output_type": "display_data"
    }
   ],
   "source": [
    "\n",
    "baseline_formula <- as.formula(paste(y, \"~\", d ))\n",
    "baseline.ols <- lm(baseline_formula,data=GrowthData)\n",
    "est_baseline <- summary(baseline.ols)$coef[2,]\n",
    "confint(baseline.ols)[2,]\n",
    "est_baseline"
   ]
  },
  {
   "cell_type": "markdown",
   "id": "13534dbb",
   "metadata": {},
   "source": [
    "### 2. OLS including the country characteristics.\n",
    "***"
   ]
  },
  {
   "cell_type": "code",
   "execution_count": 6,
   "id": "950ff3df",
   "metadata": {},
   "outputs": [
    {
     "data": {
      "text/html": [
       "<style>\n",
       ".dl-inline {width: auto; margin:0; padding: 0}\n",
       ".dl-inline>dt, .dl-inline>dd {float: none; width: auto; display: inline-block}\n",
       ".dl-inline>dt::after {content: \":\\0020\"; padding-right: .5ex}\n",
       ".dl-inline>dt:not(:first-of-type) {padding-left: .5ex}\n",
       "</style><dl class=dl-inline><dt>2.5 %</dt><dd>-0.0636091019362609</dd><dt>97.5 %</dt><dd>0.00143180320418041</dd></dl>\n"
      ],
      "text/latex": [
       "\\begin{description*}\n",
       "\\item[2.5 \\textbackslash{}\\%] -0.0636091019362609\n",
       "\\item[97.5 \\textbackslash{}\\%] 0.00143180320418041\n",
       "\\end{description*}\n"
      ],
      "text/markdown": [
       "2.5 %\n",
       ":   -0.063609101936260997.5 %\n",
       ":   0.00143180320418041\n",
       "\n"
      ],
      "text/plain": [
       "       2.5 %       97.5 % \n",
       "-0.063609102  0.001431803 "
      ]
     },
     "metadata": {},
     "output_type": "display_data"
    },
    {
     "data": {
      "text/html": [
       "<style>\n",
       ".dl-inline {width: auto; margin:0; padding: 0}\n",
       ".dl-inline>dt, .dl-inline>dd {float: none; width: auto; display: inline-block}\n",
       ".dl-inline>dt::after {content: \":\\0020\"; padding-right: .5ex}\n",
       ".dl-inline>dt:not(:first-of-type) {padding-left: .5ex}\n",
       "</style><dl class=dl-inline><dt>Estimate</dt><dd>-0.0310886493660402</dd><dt>Std. Error</dt><dd>0.0162402065011073</dd><dt>t value</dt><dd>-1.91430135841687</dd><dt>Pr(&gt;|t|)</dt><dd>0.0606063033216969</dd></dl>\n"
      ],
      "text/latex": [
       "\\begin{description*}\n",
       "\\item[Estimate] -0.0310886493660402\n",
       "\\item[Std. Error] 0.0162402065011073\n",
       "\\item[t value] -1.91430135841687\n",
       "\\item[Pr(>\\textbackslash{}textbar\\{\\}t\\textbackslash{}textbar\\{\\})] 0.0606063033216969\n",
       "\\end{description*}\n"
      ],
      "text/markdown": [
       "Estimate\n",
       ":   -0.0310886493660402Std. Error\n",
       ":   0.0162402065011073t value\n",
       ":   -1.91430135841687Pr(&amp;gt;|t|)\n",
       ":   0.0606063033216969\n",
       "\n"
      ],
      "text/plain": [
       "   Estimate  Std. Error     t value    Pr(>|t|) \n",
       "-0.03108865  0.01624021 -1.91430136  0.06060630 "
      ]
     },
     "metadata": {},
     "output_type": "display_data"
    }
   ],
   "source": [
    "control_formula <- as.formula(paste(\"Outcome\", \"~\", paste(\"gdpsh465\",paste(colnames(z),collapse=\"+\"),\n",
    "                                                        sep=\"+\")))\n",
    "control.ols <- lm(control_formula,data=GrowthData)\n",
    "est_ols <- summary(control.ols)$coef[2,]\n",
    "confint(control.ols)[2,]\n",
    "est_ols"
   ]
  },
  {
   "cell_type": "markdown",
   "id": "cbfb883f",
   "metadata": {},
   "source": [
    "### 3. DML using Lasso to predict y an d.\n",
    "***\n",
    "\n",
    "First we define the DML function"
   ]
  },
  {
   "cell_type": "code",
   "execution_count": 7,
   "id": "8bb3f49a",
   "metadata": {},
   "outputs": [
    {
     "name": "stdout",
     "output_type": "stream",
     "text": [
      "fold: 1  2  3  4  5  6  7  8  9  10  \n",
      "coef (se) = -0.0204917 (0.0163909)\n"
     ]
    }
   ],
   "source": [
    "DML2.for.PLM <- function(x, d, y, dreg, yreg, nfold=10) {\n",
    "  nobs <- nrow(x) #number of observations\n",
    "  foldid <- rep.int(1:nfold,times = ceiling(nobs/nfold))[sample.int(nobs)] #define folds indices\n",
    "  I <- split(1:nobs, foldid)  #split observation indices into folds  \n",
    "  ytil <- dtil <- rep(NA, nobs)\n",
    "  cat(\"fold: \")\n",
    "  for(b in 1:length(I)){\n",
    "    dfit <- dreg(x[-I[[b]],], d[-I[[b]]]) #take a fold out\n",
    "    yfit <- yreg(x[-I[[b]],], y[-I[[b]]]) # take a foldt out\n",
    "    dhat <- predict(dfit, x[I[[b]],], type=\"response\") #predict the left-out fold \n",
    "    yhat <- predict(yfit, x[I[[b]],], type=\"response\") #predict the left-out fold \n",
    "    dtil[I[[b]]] <- (d[I[[b]]] - dhat) #record residual for the left-out fold\n",
    "    ytil[I[[b]]] <- (y[I[[b]]] - yhat) #record residial for the left-out fold\n",
    "    cat(b,\" \")\n",
    "  }\n",
    "  rfit <- lm(ytil ~ dtil)    #estimate the main parameter by regressing one residual on the other\n",
    "  coef.est <- coef(rfit)[2]  #extract coefficient\n",
    "  se <- sqrt(vcovHC(rfit)[2,2]) #record robust standard error\n",
    "  cat(sprintf(\"\\ncoef (se) = %g (%g)\\n\", coef.est , se))  #printing output\n",
    "  return( list(coef.est =coef.est , se=se, dtil=dtil, ytil=ytil) ) #save output and residuals \n",
    "}\n",
    "\n",
    "y <- as.matrix(y)\n",
    "d <- as.matrix(d)\n",
    "z <- as.matrix(z)\n",
    "set.seed(123)\n",
    "dreg <- function(z,d){ rlasso(z,d, post=FALSE) } #ML method= lasso from hdm \n",
    "yreg <- function(z,y){ rlasso(z,y, post=FALSE) } #ML method = lasso from hdm\n",
    "DML2.lasso = DML2.for.PLM(z, d, y, dreg, yreg, nfold=10)"
   ]
  },
  {
   "cell_type": "markdown",
   "id": "692e2cb2",
   "metadata": {},
   "source": [
    "### 4. DML using Post-Lasso to predict y an d.\n",
    "***"
   ]
  },
  {
   "cell_type": "markdown",
   "id": "288b931e",
   "metadata": {},
   "source": [
    "Now we will perform the DML algorithm in a post-lasso context"
   ]
  },
  {
   "cell_type": "code",
   "execution_count": 8,
   "id": "956d3d32",
   "metadata": {},
   "outputs": [
    {
     "name": "stdout",
     "output_type": "stream",
     "text": [
      "fold: 1  2  3  4  5  6  7  8  9  10  \n",
      "coef (se) = -0.0241507 (0.0140893)\n"
     ]
    }
   ],
   "source": [
    "dreg <- function(z,d){ rlasso(z,d, post=T) } #ML method= lasso from hdm \n",
    "yreg <- function(z,y){ rlasso(z,y, post=T) } #ML method = lasso from hdm\n",
    "DML2.post = DML2.for.PLM(z, d, y, dreg, yreg, nfold=10)"
   ]
  },
  {
   "cell_type": "markdown",
   "id": "813dbd62",
   "metadata": {},
   "source": [
    "### 5. DML using Random Forest to predict y an d\n",
    "***"
   ]
  },
  {
   "cell_type": "code",
   "execution_count": 9,
   "id": "8e59f770",
   "metadata": {},
   "outputs": [
    {
     "name": "stdout",
     "output_type": "stream",
     "text": [
      "fold: 1  2  \n",
      "coef (se) = -0.0161184 (0.0154164)\n"
     ]
    }
   ],
   "source": [
    "dreg <- function(z,d){ randomForest(z, d) } #ML method=Forest \n",
    "yreg <- function(z,y){ randomForest(z, y) } #ML method=Forest\n",
    "set.seed(1)\n",
    "DML2.RF = DML2.for.PLM(z, d, y, dreg, yreg, nfold=2) # set to 2 due to computation time"
   ]
  },
  {
   "cell_type": "code",
   "execution_count": 10,
   "id": "ac44ab80",
   "metadata": {
    "scrolled": true
   },
   "outputs": [
    {
     "data": {
      "text/html": [
       "10"
      ],
      "text/latex": [
       "10"
      ],
      "text/markdown": [
       "10"
      ],
      "text/plain": [
       "[1] 10"
      ]
     },
     "metadata": {},
     "output_type": "display_data"
    },
    {
     "data": {
      "text/html": [
       "5"
      ],
      "text/latex": [
       "5"
      ],
      "text/markdown": [
       "5"
      ],
      "text/plain": [
       "[1] 5"
      ]
     },
     "metadata": {},
     "output_type": "display_data"
    }
   ],
   "source": [
    "if (!is.null(d) && !is.factor(d))\n",
    "  max(floor(ncol(z)/3), 1) else floor(sqrt(ncol(z)))\n",
    "if (!is.null(d) && !is.factor(d)) 5 else 1"
   ]
  },
  {
   "cell_type": "markdown",
   "id": "e5c96be9",
   "metadata": {},
   "source": [
    "####  DML using Ridge to predict y an d"
   ]
  },
  {
   "cell_type": "code",
   "execution_count": 12,
   "id": "7aef082e",
   "metadata": {},
   "outputs": [
    {
     "name": "stdout",
     "output_type": "stream",
     "text": [
      "fold: 1  2  3  4  5  \n",
      "coef (se) = -0.0161985 (0.0147703)\n"
     ]
    }
   ],
   "source": [
    "dreg <- function(z,d){ cv.glmnet(z,d,family=\"gaussian\", alpha=0) } #ML method = ridge from glmnet \n",
    "yreg <- function(z,y){ cv.glmnet(z,y,family=\"gaussian\", alpha=0) }  #ML method = ridge from glmnet \n",
    "DML2.ridge = DML2.for.PLM(z, d, y, dreg, yreg, nfold=5)\n",
    "\n"
   ]
  },
  {
   "cell_type": "markdown",
   "id": "f554efa8",
   "metadata": {},
   "source": [
    "#### DML using Elastic Net to predict y an d."
   ]
  },
  {
   "cell_type": "code",
   "execution_count": 16,
   "id": "70a57f08",
   "metadata": {},
   "outputs": [
    {
     "name": "stdout",
     "output_type": "stream",
     "text": [
      "fold: 1  2  3  4  5  \n",
      "coef (se) = -0.0217873 (0.0173413)\n"
     ]
    }
   ],
   "source": [
    "dreg <- function(z,d){ cv.glmnet(z,d,family=\"gaussian\", alpha=0.5) } #ML method = elastic net from glmnet \n",
    "yreg <- function(z,y){ cv.glmnet(z,y,family=\"gaussian\", alpha=0.5) }  #ML method = elastic net from glmnet \n",
    "DML2.elnet = DML2.for.PLM(z, d, y, dreg, yreg, nfold=5)"
   ]
  },
  {
   "cell_type": "code",
   "execution_count": 29,
   "id": "24d68ec4",
   "metadata": {},
   "outputs": [
    {
     "name": "stdout",
     "output_type": "stream",
     "text": [
      "              OLS       Lasso  Post-Lasso         RF\n",
      "RMSE D 0.00237811 0.000716101 1.04411e-18 0.00110599\n",
      "RMSE Y 0.01360242 0.004487708 1.40772e-02 0.02380319\n"
     ]
    }
   ],
   "source": [
    "mods<- list(DML2.ols, DML2.lasso, DML2.post, DML2.RF)\n",
    "\n",
    "RMSE.mdl<- function(mdl) {\n",
    "RMSEY <- sqrt(mean(mdl$ytil)^2) \n",
    "RMSED <- sqrt(mean(mdl$dtil)^2) \n",
    "return( list(RMSEY=RMSEY, RMSED=RMSED))\n",
    "}\n",
    "\n",
    "#RMSE.mdl(DML2.lasso)\n",
    "\n",
    "#DML2.lasso$ytil\n",
    "\n",
    "Res<- lapply(mods, RMSE.mdl)\n",
    "\n",
    "\n",
    "prRes.Y<- c( Res[[1]]$RMSEY,Res[[2]]$RMSEY, Res[[3]]$RMSEY, Res[[4]]$RMSEY)\n",
    "prRes.D<- c( Res[[1]]$RMSED,Res[[2]]$RMSED, Res[[3]]$RMSED, Res[[4]]$RMSED)\n",
    "\n",
    "prRes<- rbind(prRes.Y, prRes.D); \n",
    "rownames(prRes)<- c(\"RMSE D\", \"RMSE Y\");\n",
    "colnames(prRes)<- c(\"OLS\", \"Lasso\", \"Post-Lasso\", \"RF\")\n",
    "print(prRes,digit=6)"
   ]
  },
  {
   "cell_type": "markdown",
   "id": "ae419328",
   "metadata": {},
   "source": [
    "It looks like the best method for predicting both Y and D is Post-Lasso."
   ]
  },
  {
   "cell_type": "markdown",
   "id": "e5925b3a",
   "metadata": {},
   "source": [
    "### 6. Run the best method i.e. the best combination of methods to predict y an d.\n",
    "***"
   ]
  },
  {
   "cell_type": "markdown",
   "id": "d55228a2",
   "metadata": {},
   "source": [
    "Now we are going to predict $y$ and $d$ using Random forest. Note that we have to set the maximun number of features. The number of features is going to be 61 since we have 63 variables and we cannot include $y$ or $d$ as features."
   ]
  },
  {
   "cell_type": "code",
   "execution_count": 14,
   "id": "259b7075",
   "metadata": {},
   "outputs": [
    {
     "name": "stdout",
     "output_type": "stream",
     "text": [
      "fold: 1  2  3  4  5  6  7  8  9  10  \n",
      "coef (se) = -0.0184117 (0.0134722)\n"
     ]
    }
   ],
   "source": [
    "dreg <- function(z,d){ rlasso(z,d, post=T) } #ML method= lasso from hdm \n",
    "yreg <- function(z,y){ cv.glmnet(z,y,family=\"gaussian\", alpha=0) }  #ML method = ridge from glmnet \n",
    "DML2.best= DML2.for.PLM(z, d, y, dreg, yreg, nfold=10)"
   ]
  },
  {
   "cell_type": "code",
   "execution_count": 17,
   "id": "703876d5",
   "metadata": {},
   "outputs": [
    {
     "data": {
      "text/html": [
       "<table class=\"dataframe\">\n",
       "<caption>A matrix: 8 × 2 of type dbl</caption>\n",
       "<thead>\n",
       "\t<tr><th></th><th scope=col>Estimate</th><th scope=col>Standard Error</th></tr>\n",
       "</thead>\n",
       "<tbody>\n",
       "\t<tr><th scope=row>Baseline OLS</th><td> 0.001316713</td><td>0.00610220</td></tr>\n",
       "\t<tr><th scope=row>Least Squares with controls</th><td>-0.031088649</td><td>0.01624021</td></tr>\n",
       "\t<tr><th scope=row>Lasso</th><td>-0.020491729</td><td>0.01639087</td></tr>\n",
       "\t<tr><th scope=row>Post-Lasso</th><td>-0.024150678</td><td>0.01408932</td></tr>\n",
       "\t<tr><th scope=row>CV Elnet</th><td>-0.021787318</td><td>0.01734129</td></tr>\n",
       "\t<tr><th scope=row>CV Ridge</th><td>-0.016198522</td><td>0.01477027</td></tr>\n",
       "\t<tr><th scope=row>Random Forest</th><td>-0.016118365</td><td>0.01541636</td></tr>\n",
       "\t<tr><th scope=row>Best</th><td>-0.018411666</td><td>0.01347221</td></tr>\n",
       "</tbody>\n",
       "</table>\n"
      ],
      "text/latex": [
       "A matrix: 8 × 2 of type dbl\n",
       "\\begin{tabular}{r|ll}\n",
       "  & Estimate & Standard Error\\\\\n",
       "\\hline\n",
       "\tBaseline OLS &  0.001316713 & 0.00610220\\\\\n",
       "\tLeast Squares with controls & -0.031088649 & 0.01624021\\\\\n",
       "\tLasso & -0.020491729 & 0.01639087\\\\\n",
       "\tPost-Lasso & -0.024150678 & 0.01408932\\\\\n",
       "\tCV Elnet & -0.021787318 & 0.01734129\\\\\n",
       "\tCV Ridge & -0.016198522 & 0.01477027\\\\\n",
       "\tRandom Forest & -0.016118365 & 0.01541636\\\\\n",
       "\tBest & -0.018411666 & 0.01347221\\\\\n",
       "\\end{tabular}\n"
      ],
      "text/markdown": [
       "\n",
       "A matrix: 8 × 2 of type dbl\n",
       "\n",
       "| <!--/--> | Estimate | Standard Error |\n",
       "|---|---|---|\n",
       "| Baseline OLS |  0.001316713 | 0.00610220 |\n",
       "| Least Squares with controls | -0.031088649 | 0.01624021 |\n",
       "| Lasso | -0.020491729 | 0.01639087 |\n",
       "| Post-Lasso | -0.024150678 | 0.01408932 |\n",
       "| CV Elnet | -0.021787318 | 0.01734129 |\n",
       "| CV Ridge | -0.016198522 | 0.01477027 |\n",
       "| Random Forest | -0.016118365 | 0.01541636 |\n",
       "| Best | -0.018411666 | 0.01347221 |\n",
       "\n"
      ],
      "text/plain": [
       "                            Estimate     Standard Error\n",
       "Baseline OLS                 0.001316713 0.00610220    \n",
       "Least Squares with controls -0.031088649 0.01624021    \n",
       "Lasso                       -0.020491729 0.01639087    \n",
       "Post-Lasso                  -0.024150678 0.01408932    \n",
       "CV Elnet                    -0.021787318 0.01734129    \n",
       "CV Ridge                    -0.016198522 0.01477027    \n",
       "Random Forest               -0.016118365 0.01541636    \n",
       "Best                        -0.018411666 0.01347221    "
      ]
     },
     "metadata": {},
     "output_type": "display_data"
    }
   ],
   "source": [
    "#9 Show your results in a table as we did in the lab.\n",
    "library(xtable)\n",
    "table <- matrix(0,8,2)\n",
    "table[1,1] <- as.numeric(est_baseline[1])\n",
    "table[2,1] <- as.numeric(est_ols[1])\n",
    "table[3,1]   <- as.numeric(DML2.lasso$coef.est)\n",
    "table[4,1]   <- as.numeric(DML2.post$coef.est)\n",
    "table[5,1] <-as.numeric(DML2.elnet$coef.est)\n",
    "table[6,1] <-as.numeric(DML2.ridge$coef.est)\n",
    "table[7,1] <-as.numeric(DML2.RF$coef.est)\n",
    "table[8,1] <-as.numeric(DML2.best$coef.est)\n",
    "\n",
    "table[1,2] <- as.numeric(est_baseline[2])\n",
    "table[2,2] <- as.numeric(est_ols[2])\n",
    "table[3,2]   <- as.numeric(DML2.lasso$se)\n",
    "table[4,2]   <- as.numeric(DML2.post$se)\n",
    "table[5,2] <-as.numeric(DML2.elnet$se)\n",
    "table[6,2] <-as.numeric(DML2.ridge$se)\n",
    "table[7,2] <-as.numeric(DML2.RF$se)\n",
    "table[8,2] <-as.numeric(DML2.best$se)\n",
    "\n",
    "colnames(table) <- c(\"Estimate\",\"Standard Error\")\n",
    "rownames(table) <- c(\"Baseline OLS\", \"Least Squares with controls\", \"Lasso\", \"Post-Lasso\", \"CV Elnet\", \"CV Ridge\", \"Random Forest\", \n",
    "                     \"Best\")\n",
    "table\n"
   ]
  },
  {
   "cell_type": "code",
   "execution_count": null,
   "id": "7ba862bc",
   "metadata": {},
   "outputs": [],
   "source": []
  }
 ],
 "metadata": {
  "kernelspec": {
   "display_name": "R",
   "language": "R",
   "name": "ir"
  },
  "language_info": {
   "codemirror_mode": "r",
   "file_extension": ".r",
   "mimetype": "text/x-r-source",
   "name": "R",
   "pygments_lexer": "r",
   "version": "3.6.1"
  }
 },
 "nbformat": 4,
 "nbformat_minor": 5
}
