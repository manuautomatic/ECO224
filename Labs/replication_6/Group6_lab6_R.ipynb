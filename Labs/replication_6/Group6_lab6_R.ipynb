{
 "cells": [
  {
   "cell_type": "markdown",
   "id": "60039f82",
   "metadata": {},
   "source": [
    "# Replication of \"Estimating Treatment Effects with Causal Forests: An Application\""
   ]
  },
  {
   "cell_type": "markdown",
   "id": "65dbe623",
   "metadata": {},
   "source": [
    "## Group 6:\n",
    "- Claudia Vivas\n",
    "- Eljaer Eusebio\n",
    "- Andre Tapia\n",
    "- Luis Sandoval"
   ]
  },
  {
   "cell_type": "markdown",
   "id": "c867a48b",
   "metadata": {},
   "source": [
    "This article aims to make an analysis of the National Study of Learning Mindset dataset using the causal forest method to estimate heterogeneous treatment effects. In this way, this research is an empirical application of the causal forest since the Atlantic Causal Inference Conference was interested in methods for heterogeneous treatment effect estimation in observational studies. The National Study of Learning Mindset was a randomized study applied to U.S. public high schools whose purpose was to promote a growth mindset to students. Before using causal forest for estimation, the authors note that the dataset presented two methodological challenges. First, the dataset seems to have some selection bias, for this reason, this research assumes unconfoundness by using instruments to conduct sensitivity for hidden confounding. Second, the students are not independently sampled, instead, they were selected from 76 randomly schools, which generates heterogeneity across schools, so the researchers apply cluster-robust analysis tools to take account of the sample variability of potentially unexplained school-level effects. "
   ]
  },
  {
   "cell_type": "code",
   "execution_count": 1,
   "id": "5f021db7",
   "metadata": {},
   "outputs": [
    {
     "name": "stderr",
     "output_type": "stream",
     "text": [
      "Warning message:\n",
      "\"package 'grf' was built under R version 3.6.3\"\n",
      "Warning message:\n",
      "\"package 'lmtest' was built under R version 3.6.3\"\n",
      "Loading required package: zoo\n",
      "\n",
      "\n",
      "Attaching package: 'zoo'\n",
      "\n",
      "\n",
      "The following objects are masked from 'package:base':\n",
      "\n",
      "    as.Date, as.Date.numeric\n",
      "\n",
      "\n",
      "Warning message:\n",
      "\"package 'Hmisc' was built under R version 3.6.3\"\n",
      "Loading required package: lattice\n",
      "\n",
      "Loading required package: survival\n",
      "\n",
      "Warning message:\n",
      "\"package 'survival' was built under R version 3.6.3\"\n",
      "Loading required package: Formula\n",
      "\n",
      "Warning message:\n",
      "\"package 'Formula' was built under R version 3.6.3\"\n",
      "Loading required package: ggplot2\n",
      "\n",
      "Registered S3 methods overwritten by 'tibble':\n",
      "  method     from  \n",
      "  format.tbl pillar\n",
      "  print.tbl  pillar\n",
      "\n",
      "\n",
      "Attaching package: 'Hmisc'\n",
      "\n",
      "\n",
      "The following objects are masked from 'package:base':\n",
      "\n",
      "    format.pval, units\n",
      "\n",
      "\n"
     ]
    }
   ],
   "source": [
    "set.seed(1)\n",
    "\n",
    "rm(list = ls())\n",
    "\n",
    "library(grf)\n",
    "library(sandwich)\n",
    "library(lmtest)\n",
    "library(Hmisc)\n",
    "library(ggplot2)"
   ]
  },
  {
   "cell_type": "code",
   "execution_count": 2,
   "id": "04dfb33a",
   "metadata": {},
   "outputs": [],
   "source": [
    "data.all = read.csv(\"C:/Users/sniff/Documents/Estadistica aplicada/synthetic_data.csv\")\n",
    "data.all$schoolid = factor(data.all$schoolid)"
   ]
  },
  {
   "cell_type": "markdown",
   "id": "b80b2e73",
   "metadata": {},
   "source": [
    "this database stores 10,391 students in 76 schools with a simulated outcome Y (a continuous measure of achievement), a binary treatment variable Z indicating receipt of the intervention, and the following 10 covariates at both the student and school level:\n",
    "\n",
    "- $S3$ - Students' self-reported expectations for success in the future, a proxy for prior achievement, measured prior to random assignment\n",
    "- $C1$ - Categorical variable for student race/ethnicity\n",
    "- $C2$ - Categorical variable for student identified gender\n",
    "- $C3$ - Categorical variable for student first-generation status (i.e. first in family to go to college)\n",
    "- $XC$ - School-level categorical variable for urbanicity of the school (i.e. rural, suburban, etc.)\n",
    "- $X1$ - School-level mean of students' fixed mindsets, reported prior to random assignment\n",
    "- $X2$ - School achievement level, as measured by test scores and college preparation for the previous 4 cohorts of students\n",
    "- $X3$ - School racial/ethnic minority composition -- i.e. % black, latino, or native/american\n",
    "- $X4$ - School poverty concentration -- i.e. % of students who are from families whose incomes fall below the federal poverty line\n",
    "- $X5$ - School size - Total # of students in all four grade levels in the school"
   ]
  },
  {
   "cell_type": "code",
   "execution_count": 3,
   "id": "279b1ac6",
   "metadata": {},
   "outputs": [],
   "source": [
    "DF = data.all[,-1]\n",
    "school.id = as.numeric(data.all$schoolid)\n",
    "\n",
    "school.mat = model.matrix(~ schoolid + 0, data = data.all)\n",
    "school.size = colSums(school.mat)"
   ]
  },
  {
   "cell_type": "markdown",
   "id": "ebf60543",
   "metadata": {},
   "source": [
    "### It appears that school ID does not affect pscore. So ignore it\n",
    "### in modeling, and just treat it as source of per-cluster error."
   ]
  },
  {
   "cell_type": "code",
   "execution_count": 4,
   "id": "c6e76ffe",
   "metadata": {},
   "outputs": [
    {
     "data": {
      "text/plain": [
       "\n",
       "Call:\n",
       "glm(formula = Z ~ ., family = binomial, data = data.all[, -3])\n",
       "\n",
       "Deviance Residuals: \n",
       "    Min       1Q   Median       3Q      Max  \n",
       "-1.2079  -0.9088  -0.8297   1.4176   1.9556  \n",
       "\n",
       "Coefficients: (6 not defined because of singularities)\n",
       "              Estimate Std. Error z value Pr(>|z|)    \n",
       "(Intercept) -0.9524636  0.2845173  -3.348 0.000815 ***\n",
       "schoolid2    0.0697302  0.2766287   0.252 0.800986    \n",
       "schoolid3    0.0382080  0.2911323   0.131 0.895586    \n",
       "schoolid4    0.1761334  0.2784711   0.633 0.527059    \n",
       "schoolid5   -0.0033389  0.2950180  -0.011 0.990970    \n",
       "schoolid6    0.0583548  0.3067481   0.190 0.849124    \n",
       "schoolid7   -0.1313759  0.3188190  -0.412 0.680288    \n",
       "schoolid8    0.1233661  0.3023736   0.408 0.683279    \n",
       "schoolid9   -0.1955428  0.3073344  -0.636 0.524611    \n",
       "schoolid10  -0.1892794  0.2968750  -0.638 0.523752    \n",
       "schoolid11  -0.2224060  0.5461005  -0.407 0.683816    \n",
       "schoolid12  -0.3312420  0.5414374  -0.612 0.540682    \n",
       "schoolid13  -0.0408540  0.3989507  -0.102 0.918436    \n",
       "schoolid14  -0.8681934  0.6033674  -1.439 0.150175    \n",
       "schoolid15  -0.1059135  0.3263162  -0.325 0.745504    \n",
       "schoolid16  -0.1063268  0.2885387  -0.369 0.712500    \n",
       "schoolid17   0.0854323  0.3119435   0.274 0.784184    \n",
       "schoolid18  -0.1924441  0.2997822  -0.642 0.520908    \n",
       "schoolid19  -0.0265326  0.3229712  -0.082 0.934526    \n",
       "schoolid20  -0.2179554  0.3041336  -0.717 0.473594    \n",
       "schoolid21  -0.2147440  0.2982822  -0.720 0.471565    \n",
       "schoolid22  -0.5115966  0.4410779  -1.160 0.246098    \n",
       "schoolid23   0.0039231  0.3475373   0.011 0.990994    \n",
       "schoolid24  -0.0848314  0.3259572  -0.260 0.794668    \n",
       "schoolid25   0.0521087  0.2754586   0.189 0.849959    \n",
       "schoolid26   0.0241212  0.2876511   0.084 0.933171    \n",
       "schoolid27  -0.2300630  0.3104796  -0.741 0.458698    \n",
       "schoolid28  -0.3519010  0.2924774  -1.203 0.228909    \n",
       "schoolid29  -0.2198764  0.3293288  -0.668 0.504357    \n",
       "schoolid30  -0.3146292  0.3257994  -0.966 0.334187    \n",
       "schoolid31   0.1398555  0.6137901   0.228 0.819759    \n",
       "schoolid32   0.1555524  0.3916156   0.397 0.691215    \n",
       "schoolid33  -0.0991693  0.3939370  -0.252 0.801243    \n",
       "schoolid34  -0.0073688  0.2980808  -0.025 0.980278    \n",
       "schoolid35  -0.3528987  0.3997273  -0.883 0.377318    \n",
       "schoolid36  -0.3751465  0.3988972  -0.940 0.346982    \n",
       "schoolid37  -0.0343169  0.3219646  -0.107 0.915117    \n",
       "schoolid38  -0.1346432  0.3851869  -0.350 0.726674    \n",
       "schoolid39  -0.4339936  0.3612869  -1.201 0.229657    \n",
       "schoolid40  -0.3993958  0.3834495  -1.042 0.297604    \n",
       "schoolid41  -0.1490784  0.3542105  -0.421 0.673846    \n",
       "schoolid42  -0.1545715  0.3551857  -0.435 0.663428    \n",
       "schoolid43  -0.5679567  0.4277455  -1.328 0.184247    \n",
       "schoolid44  -0.1425896  0.3774795  -0.378 0.705623    \n",
       "schoolid45  -0.1337888  0.3232493  -0.414 0.678957    \n",
       "schoolid46  -0.2573249  0.3129119  -0.822 0.410874    \n",
       "schoolid47   0.0027726  0.2770108   0.010 0.992014    \n",
       "schoolid48  -0.3406079  0.3470361  -0.981 0.326358    \n",
       "schoolid49  -0.3236117  0.3434541  -0.942 0.346077    \n",
       "schoolid50  -0.1185119  0.4086074  -0.290 0.771787    \n",
       "schoolid51   0.4087898  0.4506822   0.907 0.364382    \n",
       "schoolid52  -0.3144014  0.4118342  -0.763 0.445214    \n",
       "schoolid53  -0.2733677  0.4511280  -0.606 0.544538    \n",
       "schoolid54  -0.0889588  0.3872532  -0.230 0.818311    \n",
       "schoolid55  -0.1558106  0.4155020  -0.375 0.707665    \n",
       "schoolid56   0.1050353  0.3149235   0.334 0.738737    \n",
       "schoolid57  -0.0314901  0.2901719  -0.109 0.913581    \n",
       "schoolid58  -0.0383183  0.2730077  -0.140 0.888379    \n",
       "schoolid59  -0.0529637  0.2934895  -0.180 0.856790    \n",
       "schoolid60  -0.1624792  0.3972885  -0.409 0.682561    \n",
       "schoolid61  -0.0289549  0.3201953  -0.090 0.927946    \n",
       "schoolid62   0.0993158  0.2669678   0.372 0.709882    \n",
       "schoolid63   0.1684702  0.3282167   0.513 0.607749    \n",
       "schoolid64  -0.0693060  0.2770896  -0.250 0.802493    \n",
       "schoolid65  -0.0004197  0.4072922  -0.001 0.999178    \n",
       "schoolid66  -0.2130911  0.2984091  -0.714 0.475171    \n",
       "schoolid67   0.0358440  0.2921158   0.123 0.902341    \n",
       "schoolid68  -0.0871303  0.3290814  -0.265 0.791188    \n",
       "schoolid69  -0.2550387  0.2908992  -0.877 0.380636    \n",
       "schoolid70  -0.0268947  0.4032160  -0.067 0.946820    \n",
       "schoolid71   0.0037464  0.4268290   0.009 0.992997    \n",
       "schoolid72  -0.1304085  0.2881512  -0.453 0.650859    \n",
       "schoolid73  -0.2160697  0.2840030  -0.761 0.446776    \n",
       "schoolid74  -0.0935320  0.2842612  -0.329 0.742129    \n",
       "schoolid75  -0.1056241  0.3024204  -0.349 0.726892    \n",
       "schoolid76  -0.1052261  0.2939262  -0.358 0.720342    \n",
       "S3           0.1036077  0.0197345   5.250 1.52e-07 ***\n",
       "C1          -0.0015919  0.0053900  -0.295 0.767728    \n",
       "C2          -0.1038596  0.0424020  -2.449 0.014309 *  \n",
       "C3          -0.1319218  0.0461833  -2.856 0.004284 ** \n",
       "XC                  NA         NA      NA       NA    \n",
       "X1                  NA         NA      NA       NA    \n",
       "X2                  NA         NA      NA       NA    \n",
       "X3                  NA         NA      NA       NA    \n",
       "X4                  NA         NA      NA       NA    \n",
       "X5                  NA         NA      NA       NA    \n",
       "---\n",
       "Signif. codes:  0 '***' 0.001 '**' 0.01 '*' 0.05 '.' 0.1 ' ' 1\n",
       "\n",
       "(Dispersion parameter for binomial family taken to be 1)\n",
       "\n",
       "    Null deviance: 13115  on 10390  degrees of freedom\n",
       "Residual deviance: 13009  on 10311  degrees of freedom\n",
       "AIC: 13169\n",
       "\n",
       "Number of Fisher Scoring iterations: 4\n"
      ]
     },
     "metadata": {},
     "output_type": "display_data"
    }
   ],
   "source": [
    "w.lm = glm(Z ~ ., data = data.all[,-3], family = binomial)\n",
    "summary(w.lm)\n",
    "\n",
    "W = DF$Z\n",
    "Y = DF$Y\n",
    "X.raw = DF[,-(1:2)]\n",
    "\n",
    "C1.exp = model.matrix(~ factor(X.raw$C1) + 0)\n",
    "XC.exp = model.matrix(~ factor(X.raw$XC) + 0)\n",
    "\n",
    "X = cbind(X.raw[,-which(names(X.raw) %in% c(\"C1\", \"XC\"))], C1.exp, XC.exp)"
   ]
  },
  {
   "cell_type": "markdown",
   "id": "e2250059",
   "metadata": {},
   "source": [
    "### Grow a forest. Add extra trees for the causal forest."
   ]
  },
  {
   "cell_type": "code",
   "execution_count": 5,
   "id": "05354e19",
   "metadata": {},
   "outputs": [],
   "source": [
    "# train Y.forest and W.forest\n",
    "Y.forest = regression_forest(X, Y, clusters = school.id, equalize.cluster.weights = TRUE)\n",
    "Y.hat = predict(Y.forest)$predictions\n",
    "W.forest = regression_forest(X, W, clusters = school.id, equalize.cluster.weights = TRUE)\n",
    "W.hat = predict(W.forest)$predictions\n",
    "\n",
    "#Train a first forest on all the features\n",
    "cf.raw = causal_forest(X, Y, W,\n",
    "                       Y.hat = Y.hat, W.hat = W.hat,\n",
    "                       clusters = school.id,\n",
    "                       equalize.cluster.weights = TRUE)\n",
    "varimp = variable_importance(cf.raw)\n",
    "\n",
    "\n",
    "selected.idx = which(varimp > mean(varimp))\n",
    "\n",
    "#Train a second forest on features selected on the previous step\n",
    "cf = causal_forest(X[,selected.idx], Y, W,\n",
    "                   Y.hat = Y.hat, W.hat = W.hat,\n",
    "                   clusters = school.id,\n",
    "                   equalize.cluster.weights = TRUE,\n",
    "                   tune.parameters = \"all\")\n",
    "tau.hat = predict(cf)$predictions"
   ]
  },
  {
   "cell_type": "markdown",
   "id": "310eefb9",
   "metadata": {},
   "source": [
    "First of all, this causal forest works with clustered data, so the authors adapt the random forest algorithm as follows. This algorithm stars:\n",
    "1. Fitting two separate regression forest to estimate $\\hat{m}$ (expected outcome marginalizing over treatment) $\\hat{e}$ (propensity score). \n",
    "2. Then, the algorithm make out-of-bag predictions using regression forest of the previous step. \n",
    "\n",
    "\n",
    "In few words, Y.forest and W.forest are trained using default settings, as their predictions are simply used as inputs to the causal forest, also causal forest have several parameters which are selected by cross-validation. That is, starts by training a pilot random forest on all the features, and then train a second forest on only those features that saw a reasonable number of splits."
   ]
  },
  {
   "cell_type": "code",
   "execution_count": 6,
   "id": "6bef560e",
   "metadata": {
    "scrolled": true
   },
   "outputs": [
    {
     "data": {
      "text/html": [
       "<style>\n",
       ".list-inline {list-style: none; margin:0; padding: 0}\n",
       ".list-inline>li {display: inline-block}\n",
       ".list-inline>li:not(:last-child)::after {content: \"\\00b7\"; padding: 0 .5ex}\n",
       "</style>\n",
       "<ol class=list-inline><li>0.270101590778175</li><li>0.241866678976215</li><li>0.270101590778175</li><li>0.270101590778175</li><li>0.275947030624162</li><li>0.270101590778175</li><li>0.275947030624162</li><li>0.275947030624162</li><li>0.256229897629723</li><li>0.275947030624162</li><li>0.256229897629723</li><li>0.260637943035727</li><li>0.275947030624162</li><li>0.275947030624162</li><li>0.270101590778175</li><li>0.262912891318467</li><li>0.256023647835309</li><li>0.275947030624162</li><li>0.275947030624162</li><li>0.275947030624162</li><li>0.279180430646804</li><li>0.261234379014867</li><li>0.261234379014867</li><li>0.262179503051952</li><li>0.275947030624162</li><li>0.270101590778175</li><li>0.275947030624162</li><li>0.262912891318467</li><li>0.275947030624162</li><li>0.261234379014867</li><li>0.261234379014867</li><li>0.248869421494036</li><li>0.261234379014867</li><li>0.262179503051952</li><li>0.25312849976053</li><li>0.270101590778175</li><li>0.260637943035727</li><li>0.240915229631166</li><li>0.275947030624162</li><li>0.270101590778175</li><li>0.262179503051952</li><li>0.270101590778175</li><li>0.270101590778175</li><li>0.275947030624162</li><li>0.270101590778175</li><li>0.275947030624162</li><li>0.275947030624162</li><li>0.262179503051952</li><li>0.279180430646804</li><li>0.261234379014867</li><li>0.261234379014867</li><li>0.262179503051952</li><li>0.270101590778175</li><li>0.270101590778175</li><li>0.275947030624162</li><li>0.240915229631166</li><li>0.262179503051952</li><li>0.240915229631166</li><li>0.25312849976053</li><li>0.275947030624162</li><li>0.285250855861034</li><li>0.256023647835309</li><li>0.279180430646804</li><li>0.270101590778175</li><li>0.265134045949961</li><li>0.265134045949961</li><li>0.241085004757165</li><li>0.241085004757165</li><li>0.20190336868498</li><li>0.241085004757165</li><li>0.20190336868498</li><li>0.221366062958894</li><li>0.202799698131828</li><li>0.265134045949961</li><li>0.221366062958894</li><li>0.20190336868498</li><li>0.241085004757165</li><li>0.221366062958894</li><li>0.281011752526135</li><li>0.227222634861664</li><li>0.20190336868498</li><li>0.281011752526135</li><li>0.241085004757165</li><li>0.227222634861664</li><li>0.221366062958894</li><li>0.257097040886977</li><li>0.224923198496512</li><li>0.237161198273099</li><li>0.265134045949961</li><li>0.221366062958894</li><li>0.221366062958894</li><li>0.241085004757165</li><li>0.257097040886977</li><li>0.265134045949961</li><li>0.241085004757165</li><li>0.221366062958894</li><li>0.221366062958894</li><li>0.257097040886977</li><li>0.281011752526135</li><li>0.265134045949961</li><li>0.222155461838046</li><li>0.208689129696293</li><li>0.237161198273099</li><li>0.222155461838046</li><li>0.202799698131828</li><li>0.257097040886977</li><li>0.20190336868498</li><li>0.257097040886977</li><li>0.273682462061837</li><li>0.221366062958894</li><li>0.265134045949961</li><li>0.260963425882059</li><li>0.20190336868498</li><li>0.221366062958894</li><li>0.221366062958894</li><li>0.247041362170159</li><li>0.247041362170159</li><li>0.239086603265259</li><li>0.259237403794633</li><li>0.234943642817978</li><li>0.228671936566133</li><li>0.234943642817978</li><li>0.225855763072653</li><li>0.234943642817978</li><li>0.259237403794633</li><li>0.261424970967735</li><li>0.274935298378623</li><li>0.267087188329784</li><li>0.262671816831665</li><li>0.272326882861493</li><li>0.234943642817978</li><li>0.252367129194079</li><li>0.228671936566133</li><li>0.246385401554842</li><li>0.225855763072653</li><li>0.228577731693268</li><li>0.239086603265259</li><li>0.262671816831665</li><li>0.237133110276583</li><li>0.259237403794633</li><li>0.228577731693268</li><li>0.239086603265259</li><li>0.262671816831665</li><li>0.234943642817978</li><li>0.239086603265259</li><li>0.267087188329784</li><li>0.228577731693268</li><li>0.234943642817978</li><li>0.220035564763393</li><li>0.239086603265259</li><li>0.262671816831665</li><li>0.261424970967735</li><li>0.243477398586767</li><li>0.249845693383525</li><li>0.223624850769768</li><li>0.239086603265259</li><li>0.239086603265259</li><li>0.252367129194079</li><li>0.272326882861493</li><li>0.259237403794633</li><li>0.262671816831665</li><li>0.228577731693268</li><li>0.223624850769768</li><li>0.228577731693268</li><li>0.225855763072653</li><li>0.247041362170159</li><li>0.239086603265259</li><li>0.228577731693268</li><li>0.247041362170159</li><li>0.249845693383525</li><li>0.225855763072653</li><li>0.259237403794633</li><li>0.237133110276583</li><li>0.225855763072653</li><li>0.225855763072653</li><li>0.225855763072653</li><li>0.247041362170159</li><li>0.228671936566133</li><li>0.267087188329784</li><li>0.228577731693268</li><li>0.249845693383525</li><li>0.261424970967735</li><li>0.261424970967735</li><li>0.259237403794633</li><li>0.274935298378623</li><li>0.261424970967735</li><li>0.239086603265259</li><li>0.259237403794633</li><li>0.262671816831665</li><li>0.261424970967735</li><li>0.225855763072653</li><li>0.228956693026517</li><li>0.247041362170159</li><li>0.259237403794633</li><li>0.274935298378623</li><li>0.225855763072653</li><li>0.228577731693268</li><li>0.28253960141067</li><li>0.305065749292731</li><li>0.276822487621255</li><li>...</li><li>0.254292273401005</li><li>0.278484082590908</li><li>0.24722610952395</li><li>0.26632829084606</li><li>0.271501845536514</li><li>0.26632829084606</li><li>0.26632829084606</li><li>0.278484082590908</li><li>0.244937285996308</li><li>0.254292273401005</li><li>0.26632829084606</li><li>0.278484082590908</li><li>0.290611107425634</li><li>0.26632829084606</li><li>0.252119224464664</li><li>0.254292273401005</li><li>0.271501845536514</li><li>0.255934818216038</li><li>0.254292273401005</li><li>0.255934818216038</li><li>0.261624433877216</li><li>0.26632829084606</li><li>0.255934818216038</li><li>0.261624433877216</li><li>0.252119224464664</li><li>0.290611107425634</li><li>0.26632829084606</li><li>0.254292273401005</li><li>0.255934818216038</li><li>0.28213385721823</li><li>0.244937285996308</li><li>0.278484082590908</li><li>0.278484082590908</li><li>0.26632829084606</li><li>0.278484082590908</li><li>0.278484082590908</li><li>0.244937285996308</li><li>0.28213385721823</li><li>0.278484082590908</li><li>0.244937285996308</li><li>0.278484082590908</li><li>0.254292273401005</li><li>0.278484082590908</li><li>0.28213385721823</li><li>0.26632829084606</li><li>0.278484082590908</li><li>0.254292273401005</li><li>0.278484082590908</li><li>0.289703327191857</li><li>0.254292273401005</li><li>0.278484082590908</li><li>0.252119224464664</li><li>0.24722610952395</li><li>0.244937285996308</li><li>0.24722610952395</li><li>0.255934818216038</li><li>0.278484082590908</li><li>0.24722610952395</li><li>0.254292273401005</li><li>0.26632829084606</li><li>0.244937285996308</li><li>0.26632829084606</li><li>0.278484082590908</li><li>0.278484082590908</li><li>0.244937285996308</li><li>0.28213385721823</li><li>0.26632829084606</li><li>0.25255541428323</li><li>0.254292273401005</li><li>0.278484082590908</li><li>0.26632829084606</li><li>0.244937285996308</li><li>0.26632829084606</li><li>0.281015930829637</li><li>0.255934818216038</li><li>0.255934818216038</li><li>0.255934818216038</li><li>0.261624433877216</li><li>0.255934818216038</li><li>0.261035616806466</li><li>0.26632829084606</li><li>0.278484082590908</li><li>0.278484082590908</li><li>0.254292273401005</li><li>0.26632829084606</li><li>0.278484082590908</li><li>0.26632829084606</li><li>0.252119224464664</li><li>0.278484082590908</li><li>0.26632829084606</li><li>0.252119224464664</li><li>0.290611107425634</li><li>0.254292273401005</li><li>0.278484082590908</li><li>0.244937285996308</li><li>0.239339612660095</li><li>0.252119224464664</li><li>0.278484082590908</li><li>0.278484082590908</li><li>0.254292273401005</li><li>0.254292273401005</li><li>0.26632829084606</li><li>0.254292273401005</li><li>0.24722610952395</li><li>0.26632829084606</li><li>0.244937285996308</li><li>0.28213385721823</li><li>0.278484082590908</li><li>0.261624433877216</li><li>0.282331229536743</li><li>0.252452418077565</li><li>0.289703327191857</li><li>0.26632829084606</li><li>0.246982959074257</li><li>0.238807214607347</li><li>0.254292273401005</li><li>0.26632829084606</li><li>0.254292273401005</li><li>0.278484082590908</li><li>0.254292273401005</li><li>0.244937285996308</li><li>0.282331229536743</li><li>0.244937285996308</li><li>0.254292273401005</li><li>0.238807214607347</li><li>0.24722610952395</li><li>0.24722610952395</li><li>0.261624433877216</li><li>0.254292273401005</li><li>0.252119224464664</li><li>0.244937285996308</li><li>0.239339612660095</li><li>0.244937285996308</li><li>0.278484082590908</li><li>0.24661531547485</li><li>0.244937285996308</li><li>0.254292273401005</li><li>0.254292273401005</li><li>0.24722610952395</li><li>0.24722610952395</li><li>0.244937285996308</li><li>0.289703327191857</li><li>0.254292273401005</li><li>0.24722610952395</li><li>0.255934818216038</li><li>0.244937285996308</li><li>0.254292273401005</li><li>0.244937285996308</li><li>0.24722610952395</li><li>0.24661531547485</li><li>0.244937285996308</li><li>0.254292273401005</li><li>0.196487272686843</li><li>0.24573362499937</li><li>0.240907419085984</li><li>0.196487272686843</li><li>0.258499202245183</li><li>0.239333018058053</li><li>0.20784121386879</li><li>0.240907419085984</li><li>0.239333018058053</li><li>0.254736433548552</li><li>0.190156998710548</li><li>0.239333018058053</li><li>0.22400162544991</li><li>0.190156998710548</li><li>0.190156998710548</li><li>0.279618613353593</li><li>0.20784121386879</li><li>0.190156998710548</li><li>0.240907419085984</li><li>0.20784121386879</li><li>0.196487272686843</li><li>0.20784121386879</li><li>0.2676011130903</li><li>0.196487272686843</li><li>0.214856450656064</li><li>0.196706278568106</li><li>0.22400162544991</li><li>0.190156998710548</li><li>0.214856450656064</li><li>0.240907419085984</li><li>0.240907419085984</li><li>0.190156998710548</li><li>0.20784121386879</li><li>0.22496259211071</li><li>0.2676011130903</li><li>0.254736433548552</li><li>0.196487272686843</li><li>0.22496259211071</li><li>0.190156998710548</li><li>0.20784121386879</li><li>0.239333018058053</li><li>0.239333018058053</li><li>0.224921825601729</li><li>0.273557754385463</li><li>0.273557754385463</li><li>0.214084451690363</li><li>0.239333018058053</li><li>0.190156998710548</li></ol>\n"
      ],
      "text/latex": [
       "\\begin{enumerate*}\n",
       "\\item 0.270101590778175\n",
       "\\item 0.241866678976215\n",
       "\\item 0.270101590778175\n",
       "\\item 0.270101590778175\n",
       "\\item 0.275947030624162\n",
       "\\item 0.270101590778175\n",
       "\\item 0.275947030624162\n",
       "\\item 0.275947030624162\n",
       "\\item 0.256229897629723\n",
       "\\item 0.275947030624162\n",
       "\\item 0.256229897629723\n",
       "\\item 0.260637943035727\n",
       "\\item 0.275947030624162\n",
       "\\item 0.275947030624162\n",
       "\\item 0.270101590778175\n",
       "\\item 0.262912891318467\n",
       "\\item 0.256023647835309\n",
       "\\item 0.275947030624162\n",
       "\\item 0.275947030624162\n",
       "\\item 0.275947030624162\n",
       "\\item 0.279180430646804\n",
       "\\item 0.261234379014867\n",
       "\\item 0.261234379014867\n",
       "\\item 0.262179503051952\n",
       "\\item 0.275947030624162\n",
       "\\item 0.270101590778175\n",
       "\\item 0.275947030624162\n",
       "\\item 0.262912891318467\n",
       "\\item 0.275947030624162\n",
       "\\item 0.261234379014867\n",
       "\\item 0.261234379014867\n",
       "\\item 0.248869421494036\n",
       "\\item 0.261234379014867\n",
       "\\item 0.262179503051952\n",
       "\\item 0.25312849976053\n",
       "\\item 0.270101590778175\n",
       "\\item 0.260637943035727\n",
       "\\item 0.240915229631166\n",
       "\\item 0.275947030624162\n",
       "\\item 0.270101590778175\n",
       "\\item 0.262179503051952\n",
       "\\item 0.270101590778175\n",
       "\\item 0.270101590778175\n",
       "\\item 0.275947030624162\n",
       "\\item 0.270101590778175\n",
       "\\item 0.275947030624162\n",
       "\\item 0.275947030624162\n",
       "\\item 0.262179503051952\n",
       "\\item 0.279180430646804\n",
       "\\item 0.261234379014867\n",
       "\\item 0.261234379014867\n",
       "\\item 0.262179503051952\n",
       "\\item 0.270101590778175\n",
       "\\item 0.270101590778175\n",
       "\\item 0.275947030624162\n",
       "\\item 0.240915229631166\n",
       "\\item 0.262179503051952\n",
       "\\item 0.240915229631166\n",
       "\\item 0.25312849976053\n",
       "\\item 0.275947030624162\n",
       "\\item 0.285250855861034\n",
       "\\item 0.256023647835309\n",
       "\\item 0.279180430646804\n",
       "\\item 0.270101590778175\n",
       "\\item 0.265134045949961\n",
       "\\item 0.265134045949961\n",
       "\\item 0.241085004757165\n",
       "\\item 0.241085004757165\n",
       "\\item 0.20190336868498\n",
       "\\item 0.241085004757165\n",
       "\\item 0.20190336868498\n",
       "\\item 0.221366062958894\n",
       "\\item 0.202799698131828\n",
       "\\item 0.265134045949961\n",
       "\\item 0.221366062958894\n",
       "\\item 0.20190336868498\n",
       "\\item 0.241085004757165\n",
       "\\item 0.221366062958894\n",
       "\\item 0.281011752526135\n",
       "\\item 0.227222634861664\n",
       "\\item 0.20190336868498\n",
       "\\item 0.281011752526135\n",
       "\\item 0.241085004757165\n",
       "\\item 0.227222634861664\n",
       "\\item 0.221366062958894\n",
       "\\item 0.257097040886977\n",
       "\\item 0.224923198496512\n",
       "\\item 0.237161198273099\n",
       "\\item 0.265134045949961\n",
       "\\item 0.221366062958894\n",
       "\\item 0.221366062958894\n",
       "\\item 0.241085004757165\n",
       "\\item 0.257097040886977\n",
       "\\item 0.265134045949961\n",
       "\\item 0.241085004757165\n",
       "\\item 0.221366062958894\n",
       "\\item 0.221366062958894\n",
       "\\item 0.257097040886977\n",
       "\\item 0.281011752526135\n",
       "\\item 0.265134045949961\n",
       "\\item 0.222155461838046\n",
       "\\item 0.208689129696293\n",
       "\\item 0.237161198273099\n",
       "\\item 0.222155461838046\n",
       "\\item 0.202799698131828\n",
       "\\item 0.257097040886977\n",
       "\\item 0.20190336868498\n",
       "\\item 0.257097040886977\n",
       "\\item 0.273682462061837\n",
       "\\item 0.221366062958894\n",
       "\\item 0.265134045949961\n",
       "\\item 0.260963425882059\n",
       "\\item 0.20190336868498\n",
       "\\item 0.221366062958894\n",
       "\\item 0.221366062958894\n",
       "\\item 0.247041362170159\n",
       "\\item 0.247041362170159\n",
       "\\item 0.239086603265259\n",
       "\\item 0.259237403794633\n",
       "\\item 0.234943642817978\n",
       "\\item 0.228671936566133\n",
       "\\item 0.234943642817978\n",
       "\\item 0.225855763072653\n",
       "\\item 0.234943642817978\n",
       "\\item 0.259237403794633\n",
       "\\item 0.261424970967735\n",
       "\\item 0.274935298378623\n",
       "\\item 0.267087188329784\n",
       "\\item 0.262671816831665\n",
       "\\item 0.272326882861493\n",
       "\\item 0.234943642817978\n",
       "\\item 0.252367129194079\n",
       "\\item 0.228671936566133\n",
       "\\item 0.246385401554842\n",
       "\\item 0.225855763072653\n",
       "\\item 0.228577731693268\n",
       "\\item 0.239086603265259\n",
       "\\item 0.262671816831665\n",
       "\\item 0.237133110276583\n",
       "\\item 0.259237403794633\n",
       "\\item 0.228577731693268\n",
       "\\item 0.239086603265259\n",
       "\\item 0.262671816831665\n",
       "\\item 0.234943642817978\n",
       "\\item 0.239086603265259\n",
       "\\item 0.267087188329784\n",
       "\\item 0.228577731693268\n",
       "\\item 0.234943642817978\n",
       "\\item 0.220035564763393\n",
       "\\item 0.239086603265259\n",
       "\\item 0.262671816831665\n",
       "\\item 0.261424970967735\n",
       "\\item 0.243477398586767\n",
       "\\item 0.249845693383525\n",
       "\\item 0.223624850769768\n",
       "\\item 0.239086603265259\n",
       "\\item 0.239086603265259\n",
       "\\item 0.252367129194079\n",
       "\\item 0.272326882861493\n",
       "\\item 0.259237403794633\n",
       "\\item 0.262671816831665\n",
       "\\item 0.228577731693268\n",
       "\\item 0.223624850769768\n",
       "\\item 0.228577731693268\n",
       "\\item 0.225855763072653\n",
       "\\item 0.247041362170159\n",
       "\\item 0.239086603265259\n",
       "\\item 0.228577731693268\n",
       "\\item 0.247041362170159\n",
       "\\item 0.249845693383525\n",
       "\\item 0.225855763072653\n",
       "\\item 0.259237403794633\n",
       "\\item 0.237133110276583\n",
       "\\item 0.225855763072653\n",
       "\\item 0.225855763072653\n",
       "\\item 0.225855763072653\n",
       "\\item 0.247041362170159\n",
       "\\item 0.228671936566133\n",
       "\\item 0.267087188329784\n",
       "\\item 0.228577731693268\n",
       "\\item 0.249845693383525\n",
       "\\item 0.261424970967735\n",
       "\\item 0.261424970967735\n",
       "\\item 0.259237403794633\n",
       "\\item 0.274935298378623\n",
       "\\item 0.261424970967735\n",
       "\\item 0.239086603265259\n",
       "\\item 0.259237403794633\n",
       "\\item 0.262671816831665\n",
       "\\item 0.261424970967735\n",
       "\\item 0.225855763072653\n",
       "\\item 0.228956693026517\n",
       "\\item 0.247041362170159\n",
       "\\item 0.259237403794633\n",
       "\\item 0.274935298378623\n",
       "\\item 0.225855763072653\n",
       "\\item 0.228577731693268\n",
       "\\item 0.28253960141067\n",
       "\\item 0.305065749292731\n",
       "\\item 0.276822487621255\n",
       "\\item ...\n",
       "\\item 0.254292273401005\n",
       "\\item 0.278484082590908\n",
       "\\item 0.24722610952395\n",
       "\\item 0.26632829084606\n",
       "\\item 0.271501845536514\n",
       "\\item 0.26632829084606\n",
       "\\item 0.26632829084606\n",
       "\\item 0.278484082590908\n",
       "\\item 0.244937285996308\n",
       "\\item 0.254292273401005\n",
       "\\item 0.26632829084606\n",
       "\\item 0.278484082590908\n",
       "\\item 0.290611107425634\n",
       "\\item 0.26632829084606\n",
       "\\item 0.252119224464664\n",
       "\\item 0.254292273401005\n",
       "\\item 0.271501845536514\n",
       "\\item 0.255934818216038\n",
       "\\item 0.254292273401005\n",
       "\\item 0.255934818216038\n",
       "\\item 0.261624433877216\n",
       "\\item 0.26632829084606\n",
       "\\item 0.255934818216038\n",
       "\\item 0.261624433877216\n",
       "\\item 0.252119224464664\n",
       "\\item 0.290611107425634\n",
       "\\item 0.26632829084606\n",
       "\\item 0.254292273401005\n",
       "\\item 0.255934818216038\n",
       "\\item 0.28213385721823\n",
       "\\item 0.244937285996308\n",
       "\\item 0.278484082590908\n",
       "\\item 0.278484082590908\n",
       "\\item 0.26632829084606\n",
       "\\item 0.278484082590908\n",
       "\\item 0.278484082590908\n",
       "\\item 0.244937285996308\n",
       "\\item 0.28213385721823\n",
       "\\item 0.278484082590908\n",
       "\\item 0.244937285996308\n",
       "\\item 0.278484082590908\n",
       "\\item 0.254292273401005\n",
       "\\item 0.278484082590908\n",
       "\\item 0.28213385721823\n",
       "\\item 0.26632829084606\n",
       "\\item 0.278484082590908\n",
       "\\item 0.254292273401005\n",
       "\\item 0.278484082590908\n",
       "\\item 0.289703327191857\n",
       "\\item 0.254292273401005\n",
       "\\item 0.278484082590908\n",
       "\\item 0.252119224464664\n",
       "\\item 0.24722610952395\n",
       "\\item 0.244937285996308\n",
       "\\item 0.24722610952395\n",
       "\\item 0.255934818216038\n",
       "\\item 0.278484082590908\n",
       "\\item 0.24722610952395\n",
       "\\item 0.254292273401005\n",
       "\\item 0.26632829084606\n",
       "\\item 0.244937285996308\n",
       "\\item 0.26632829084606\n",
       "\\item 0.278484082590908\n",
       "\\item 0.278484082590908\n",
       "\\item 0.244937285996308\n",
       "\\item 0.28213385721823\n",
       "\\item 0.26632829084606\n",
       "\\item 0.25255541428323\n",
       "\\item 0.254292273401005\n",
       "\\item 0.278484082590908\n",
       "\\item 0.26632829084606\n",
       "\\item 0.244937285996308\n",
       "\\item 0.26632829084606\n",
       "\\item 0.281015930829637\n",
       "\\item 0.255934818216038\n",
       "\\item 0.255934818216038\n",
       "\\item 0.255934818216038\n",
       "\\item 0.261624433877216\n",
       "\\item 0.255934818216038\n",
       "\\item 0.261035616806466\n",
       "\\item 0.26632829084606\n",
       "\\item 0.278484082590908\n",
       "\\item 0.278484082590908\n",
       "\\item 0.254292273401005\n",
       "\\item 0.26632829084606\n",
       "\\item 0.278484082590908\n",
       "\\item 0.26632829084606\n",
       "\\item 0.252119224464664\n",
       "\\item 0.278484082590908\n",
       "\\item 0.26632829084606\n",
       "\\item 0.252119224464664\n",
       "\\item 0.290611107425634\n",
       "\\item 0.254292273401005\n",
       "\\item 0.278484082590908\n",
       "\\item 0.244937285996308\n",
       "\\item 0.239339612660095\n",
       "\\item 0.252119224464664\n",
       "\\item 0.278484082590908\n",
       "\\item 0.278484082590908\n",
       "\\item 0.254292273401005\n",
       "\\item 0.254292273401005\n",
       "\\item 0.26632829084606\n",
       "\\item 0.254292273401005\n",
       "\\item 0.24722610952395\n",
       "\\item 0.26632829084606\n",
       "\\item 0.244937285996308\n",
       "\\item 0.28213385721823\n",
       "\\item 0.278484082590908\n",
       "\\item 0.261624433877216\n",
       "\\item 0.282331229536743\n",
       "\\item 0.252452418077565\n",
       "\\item 0.289703327191857\n",
       "\\item 0.26632829084606\n",
       "\\item 0.246982959074257\n",
       "\\item 0.238807214607347\n",
       "\\item 0.254292273401005\n",
       "\\item 0.26632829084606\n",
       "\\item 0.254292273401005\n",
       "\\item 0.278484082590908\n",
       "\\item 0.254292273401005\n",
       "\\item 0.244937285996308\n",
       "\\item 0.282331229536743\n",
       "\\item 0.244937285996308\n",
       "\\item 0.254292273401005\n",
       "\\item 0.238807214607347\n",
       "\\item 0.24722610952395\n",
       "\\item 0.24722610952395\n",
       "\\item 0.261624433877216\n",
       "\\item 0.254292273401005\n",
       "\\item 0.252119224464664\n",
       "\\item 0.244937285996308\n",
       "\\item 0.239339612660095\n",
       "\\item 0.244937285996308\n",
       "\\item 0.278484082590908\n",
       "\\item 0.24661531547485\n",
       "\\item 0.244937285996308\n",
       "\\item 0.254292273401005\n",
       "\\item 0.254292273401005\n",
       "\\item 0.24722610952395\n",
       "\\item 0.24722610952395\n",
       "\\item 0.244937285996308\n",
       "\\item 0.289703327191857\n",
       "\\item 0.254292273401005\n",
       "\\item 0.24722610952395\n",
       "\\item 0.255934818216038\n",
       "\\item 0.244937285996308\n",
       "\\item 0.254292273401005\n",
       "\\item 0.244937285996308\n",
       "\\item 0.24722610952395\n",
       "\\item 0.24661531547485\n",
       "\\item 0.244937285996308\n",
       "\\item 0.254292273401005\n",
       "\\item 0.196487272686843\n",
       "\\item 0.24573362499937\n",
       "\\item 0.240907419085984\n",
       "\\item 0.196487272686843\n",
       "\\item 0.258499202245183\n",
       "\\item 0.239333018058053\n",
       "\\item 0.20784121386879\n",
       "\\item 0.240907419085984\n",
       "\\item 0.239333018058053\n",
       "\\item 0.254736433548552\n",
       "\\item 0.190156998710548\n",
       "\\item 0.239333018058053\n",
       "\\item 0.22400162544991\n",
       "\\item 0.190156998710548\n",
       "\\item 0.190156998710548\n",
       "\\item 0.279618613353593\n",
       "\\item 0.20784121386879\n",
       "\\item 0.190156998710548\n",
       "\\item 0.240907419085984\n",
       "\\item 0.20784121386879\n",
       "\\item 0.196487272686843\n",
       "\\item 0.20784121386879\n",
       "\\item 0.2676011130903\n",
       "\\item 0.196487272686843\n",
       "\\item 0.214856450656064\n",
       "\\item 0.196706278568106\n",
       "\\item 0.22400162544991\n",
       "\\item 0.190156998710548\n",
       "\\item 0.214856450656064\n",
       "\\item 0.240907419085984\n",
       "\\item 0.240907419085984\n",
       "\\item 0.190156998710548\n",
       "\\item 0.20784121386879\n",
       "\\item 0.22496259211071\n",
       "\\item 0.2676011130903\n",
       "\\item 0.254736433548552\n",
       "\\item 0.196487272686843\n",
       "\\item 0.22496259211071\n",
       "\\item 0.190156998710548\n",
       "\\item 0.20784121386879\n",
       "\\item 0.239333018058053\n",
       "\\item 0.239333018058053\n",
       "\\item 0.224921825601729\n",
       "\\item 0.273557754385463\n",
       "\\item 0.273557754385463\n",
       "\\item 0.214084451690363\n",
       "\\item 0.239333018058053\n",
       "\\item 0.190156998710548\n",
       "\\end{enumerate*}\n"
      ],
      "text/markdown": [
       "1. 0.270101590778175\n",
       "2. 0.241866678976215\n",
       "3. 0.270101590778175\n",
       "4. 0.270101590778175\n",
       "5. 0.275947030624162\n",
       "6. 0.270101590778175\n",
       "7. 0.275947030624162\n",
       "8. 0.275947030624162\n",
       "9. 0.256229897629723\n",
       "10. 0.275947030624162\n",
       "11. 0.256229897629723\n",
       "12. 0.260637943035727\n",
       "13. 0.275947030624162\n",
       "14. 0.275947030624162\n",
       "15. 0.270101590778175\n",
       "16. 0.262912891318467\n",
       "17. 0.256023647835309\n",
       "18. 0.275947030624162\n",
       "19. 0.275947030624162\n",
       "20. 0.275947030624162\n",
       "21. 0.279180430646804\n",
       "22. 0.261234379014867\n",
       "23. 0.261234379014867\n",
       "24. 0.262179503051952\n",
       "25. 0.275947030624162\n",
       "26. 0.270101590778175\n",
       "27. 0.275947030624162\n",
       "28. 0.262912891318467\n",
       "29. 0.275947030624162\n",
       "30. 0.261234379014867\n",
       "31. 0.261234379014867\n",
       "32. 0.248869421494036\n",
       "33. 0.261234379014867\n",
       "34. 0.262179503051952\n",
       "35. 0.25312849976053\n",
       "36. 0.270101590778175\n",
       "37. 0.260637943035727\n",
       "38. 0.240915229631166\n",
       "39. 0.275947030624162\n",
       "40. 0.270101590778175\n",
       "41. 0.262179503051952\n",
       "42. 0.270101590778175\n",
       "43. 0.270101590778175\n",
       "44. 0.275947030624162\n",
       "45. 0.270101590778175\n",
       "46. 0.275947030624162\n",
       "47. 0.275947030624162\n",
       "48. 0.262179503051952\n",
       "49. 0.279180430646804\n",
       "50. 0.261234379014867\n",
       "51. 0.261234379014867\n",
       "52. 0.262179503051952\n",
       "53. 0.270101590778175\n",
       "54. 0.270101590778175\n",
       "55. 0.275947030624162\n",
       "56. 0.240915229631166\n",
       "57. 0.262179503051952\n",
       "58. 0.240915229631166\n",
       "59. 0.25312849976053\n",
       "60. 0.275947030624162\n",
       "61. 0.285250855861034\n",
       "62. 0.256023647835309\n",
       "63. 0.279180430646804\n",
       "64. 0.270101590778175\n",
       "65. 0.265134045949961\n",
       "66. 0.265134045949961\n",
       "67. 0.241085004757165\n",
       "68. 0.241085004757165\n",
       "69. 0.20190336868498\n",
       "70. 0.241085004757165\n",
       "71. 0.20190336868498\n",
       "72. 0.221366062958894\n",
       "73. 0.202799698131828\n",
       "74. 0.265134045949961\n",
       "75. 0.221366062958894\n",
       "76. 0.20190336868498\n",
       "77. 0.241085004757165\n",
       "78. 0.221366062958894\n",
       "79. 0.281011752526135\n",
       "80. 0.227222634861664\n",
       "81. 0.20190336868498\n",
       "82. 0.281011752526135\n",
       "83. 0.241085004757165\n",
       "84. 0.227222634861664\n",
       "85. 0.221366062958894\n",
       "86. 0.257097040886977\n",
       "87. 0.224923198496512\n",
       "88. 0.237161198273099\n",
       "89. 0.265134045949961\n",
       "90. 0.221366062958894\n",
       "91. 0.221366062958894\n",
       "92. 0.241085004757165\n",
       "93. 0.257097040886977\n",
       "94. 0.265134045949961\n",
       "95. 0.241085004757165\n",
       "96. 0.221366062958894\n",
       "97. 0.221366062958894\n",
       "98. 0.257097040886977\n",
       "99. 0.281011752526135\n",
       "100. 0.265134045949961\n",
       "101. 0.222155461838046\n",
       "102. 0.208689129696293\n",
       "103. 0.237161198273099\n",
       "104. 0.222155461838046\n",
       "105. 0.202799698131828\n",
       "106. 0.257097040886977\n",
       "107. 0.20190336868498\n",
       "108. 0.257097040886977\n",
       "109. 0.273682462061837\n",
       "110. 0.221366062958894\n",
       "111. 0.265134045949961\n",
       "112. 0.260963425882059\n",
       "113. 0.20190336868498\n",
       "114. 0.221366062958894\n",
       "115. 0.221366062958894\n",
       "116. 0.247041362170159\n",
       "117. 0.247041362170159\n",
       "118. 0.239086603265259\n",
       "119. 0.259237403794633\n",
       "120. 0.234943642817978\n",
       "121. 0.228671936566133\n",
       "122. 0.234943642817978\n",
       "123. 0.225855763072653\n",
       "124. 0.234943642817978\n",
       "125. 0.259237403794633\n",
       "126. 0.261424970967735\n",
       "127. 0.274935298378623\n",
       "128. 0.267087188329784\n",
       "129. 0.262671816831665\n",
       "130. 0.272326882861493\n",
       "131. 0.234943642817978\n",
       "132. 0.252367129194079\n",
       "133. 0.228671936566133\n",
       "134. 0.246385401554842\n",
       "135. 0.225855763072653\n",
       "136. 0.228577731693268\n",
       "137. 0.239086603265259\n",
       "138. 0.262671816831665\n",
       "139. 0.237133110276583\n",
       "140. 0.259237403794633\n",
       "141. 0.228577731693268\n",
       "142. 0.239086603265259\n",
       "143. 0.262671816831665\n",
       "144. 0.234943642817978\n",
       "145. 0.239086603265259\n",
       "146. 0.267087188329784\n",
       "147. 0.228577731693268\n",
       "148. 0.234943642817978\n",
       "149. 0.220035564763393\n",
       "150. 0.239086603265259\n",
       "151. 0.262671816831665\n",
       "152. 0.261424970967735\n",
       "153. 0.243477398586767\n",
       "154. 0.249845693383525\n",
       "155. 0.223624850769768\n",
       "156. 0.239086603265259\n",
       "157. 0.239086603265259\n",
       "158. 0.252367129194079\n",
       "159. 0.272326882861493\n",
       "160. 0.259237403794633\n",
       "161. 0.262671816831665\n",
       "162. 0.228577731693268\n",
       "163. 0.223624850769768\n",
       "164. 0.228577731693268\n",
       "165. 0.225855763072653\n",
       "166. 0.247041362170159\n",
       "167. 0.239086603265259\n",
       "168. 0.228577731693268\n",
       "169. 0.247041362170159\n",
       "170. 0.249845693383525\n",
       "171. 0.225855763072653\n",
       "172. 0.259237403794633\n",
       "173. 0.237133110276583\n",
       "174. 0.225855763072653\n",
       "175. 0.225855763072653\n",
       "176. 0.225855763072653\n",
       "177. 0.247041362170159\n",
       "178. 0.228671936566133\n",
       "179. 0.267087188329784\n",
       "180. 0.228577731693268\n",
       "181. 0.249845693383525\n",
       "182. 0.261424970967735\n",
       "183. 0.261424970967735\n",
       "184. 0.259237403794633\n",
       "185. 0.274935298378623\n",
       "186. 0.261424970967735\n",
       "187. 0.239086603265259\n",
       "188. 0.259237403794633\n",
       "189. 0.262671816831665\n",
       "190. 0.261424970967735\n",
       "191. 0.225855763072653\n",
       "192. 0.228956693026517\n",
       "193. 0.247041362170159\n",
       "194. 0.259237403794633\n",
       "195. 0.274935298378623\n",
       "196. 0.225855763072653\n",
       "197. 0.228577731693268\n",
       "198. 0.28253960141067\n",
       "199. 0.305065749292731\n",
       "200. 0.276822487621255\n",
       "201. ...\n",
       "202. 0.254292273401005\n",
       "203. 0.278484082590908\n",
       "204. 0.24722610952395\n",
       "205. 0.26632829084606\n",
       "206. 0.271501845536514\n",
       "207. 0.26632829084606\n",
       "208. 0.26632829084606\n",
       "209. 0.278484082590908\n",
       "210. 0.244937285996308\n",
       "211. 0.254292273401005\n",
       "212. 0.26632829084606\n",
       "213. 0.278484082590908\n",
       "214. 0.290611107425634\n",
       "215. 0.26632829084606\n",
       "216. 0.252119224464664\n",
       "217. 0.254292273401005\n",
       "218. 0.271501845536514\n",
       "219. 0.255934818216038\n",
       "220. 0.254292273401005\n",
       "221. 0.255934818216038\n",
       "222. 0.261624433877216\n",
       "223. 0.26632829084606\n",
       "224. 0.255934818216038\n",
       "225. 0.261624433877216\n",
       "226. 0.252119224464664\n",
       "227. 0.290611107425634\n",
       "228. 0.26632829084606\n",
       "229. 0.254292273401005\n",
       "230. 0.255934818216038\n",
       "231. 0.28213385721823\n",
       "232. 0.244937285996308\n",
       "233. 0.278484082590908\n",
       "234. 0.278484082590908\n",
       "235. 0.26632829084606\n",
       "236. 0.278484082590908\n",
       "237. 0.278484082590908\n",
       "238. 0.244937285996308\n",
       "239. 0.28213385721823\n",
       "240. 0.278484082590908\n",
       "241. 0.244937285996308\n",
       "242. 0.278484082590908\n",
       "243. 0.254292273401005\n",
       "244. 0.278484082590908\n",
       "245. 0.28213385721823\n",
       "246. 0.26632829084606\n",
       "247. 0.278484082590908\n",
       "248. 0.254292273401005\n",
       "249. 0.278484082590908\n",
       "250. 0.289703327191857\n",
       "251. 0.254292273401005\n",
       "252. 0.278484082590908\n",
       "253. 0.252119224464664\n",
       "254. 0.24722610952395\n",
       "255. 0.244937285996308\n",
       "256. 0.24722610952395\n",
       "257. 0.255934818216038\n",
       "258. 0.278484082590908\n",
       "259. 0.24722610952395\n",
       "260. 0.254292273401005\n",
       "261. 0.26632829084606\n",
       "262. 0.244937285996308\n",
       "263. 0.26632829084606\n",
       "264. 0.278484082590908\n",
       "265. 0.278484082590908\n",
       "266. 0.244937285996308\n",
       "267. 0.28213385721823\n",
       "268. 0.26632829084606\n",
       "269. 0.25255541428323\n",
       "270. 0.254292273401005\n",
       "271. 0.278484082590908\n",
       "272. 0.26632829084606\n",
       "273. 0.244937285996308\n",
       "274. 0.26632829084606\n",
       "275. 0.281015930829637\n",
       "276. 0.255934818216038\n",
       "277. 0.255934818216038\n",
       "278. 0.255934818216038\n",
       "279. 0.261624433877216\n",
       "280. 0.255934818216038\n",
       "281. 0.261035616806466\n",
       "282. 0.26632829084606\n",
       "283. 0.278484082590908\n",
       "284. 0.278484082590908\n",
       "285. 0.254292273401005\n",
       "286. 0.26632829084606\n",
       "287. 0.278484082590908\n",
       "288. 0.26632829084606\n",
       "289. 0.252119224464664\n",
       "290. 0.278484082590908\n",
       "291. 0.26632829084606\n",
       "292. 0.252119224464664\n",
       "293. 0.290611107425634\n",
       "294. 0.254292273401005\n",
       "295. 0.278484082590908\n",
       "296. 0.244937285996308\n",
       "297. 0.239339612660095\n",
       "298. 0.252119224464664\n",
       "299. 0.278484082590908\n",
       "300. 0.278484082590908\n",
       "301. 0.254292273401005\n",
       "302. 0.254292273401005\n",
       "303. 0.26632829084606\n",
       "304. 0.254292273401005\n",
       "305. 0.24722610952395\n",
       "306. 0.26632829084606\n",
       "307. 0.244937285996308\n",
       "308. 0.28213385721823\n",
       "309. 0.278484082590908\n",
       "310. 0.261624433877216\n",
       "311. 0.282331229536743\n",
       "312. 0.252452418077565\n",
       "313. 0.289703327191857\n",
       "314. 0.26632829084606\n",
       "315. 0.246982959074257\n",
       "316. 0.238807214607347\n",
       "317. 0.254292273401005\n",
       "318. 0.26632829084606\n",
       "319. 0.254292273401005\n",
       "320. 0.278484082590908\n",
       "321. 0.254292273401005\n",
       "322. 0.244937285996308\n",
       "323. 0.282331229536743\n",
       "324. 0.244937285996308\n",
       "325. 0.254292273401005\n",
       "326. 0.238807214607347\n",
       "327. 0.24722610952395\n",
       "328. 0.24722610952395\n",
       "329. 0.261624433877216\n",
       "330. 0.254292273401005\n",
       "331. 0.252119224464664\n",
       "332. 0.244937285996308\n",
       "333. 0.239339612660095\n",
       "334. 0.244937285996308\n",
       "335. 0.278484082590908\n",
       "336. 0.24661531547485\n",
       "337. 0.244937285996308\n",
       "338. 0.254292273401005\n",
       "339. 0.254292273401005\n",
       "340. 0.24722610952395\n",
       "341. 0.24722610952395\n",
       "342. 0.244937285996308\n",
       "343. 0.289703327191857\n",
       "344. 0.254292273401005\n",
       "345. 0.24722610952395\n",
       "346. 0.255934818216038\n",
       "347. 0.244937285996308\n",
       "348. 0.254292273401005\n",
       "349. 0.244937285996308\n",
       "350. 0.24722610952395\n",
       "351. 0.24661531547485\n",
       "352. 0.244937285996308\n",
       "353. 0.254292273401005\n",
       "354. 0.196487272686843\n",
       "355. 0.24573362499937\n",
       "356. 0.240907419085984\n",
       "357. 0.196487272686843\n",
       "358. 0.258499202245183\n",
       "359. 0.239333018058053\n",
       "360. 0.20784121386879\n",
       "361. 0.240907419085984\n",
       "362. 0.239333018058053\n",
       "363. 0.254736433548552\n",
       "364. 0.190156998710548\n",
       "365. 0.239333018058053\n",
       "366. 0.22400162544991\n",
       "367. 0.190156998710548\n",
       "368. 0.190156998710548\n",
       "369. 0.279618613353593\n",
       "370. 0.20784121386879\n",
       "371. 0.190156998710548\n",
       "372. 0.240907419085984\n",
       "373. 0.20784121386879\n",
       "374. 0.196487272686843\n",
       "375. 0.20784121386879\n",
       "376. 0.2676011130903\n",
       "377. 0.196487272686843\n",
       "378. 0.214856450656064\n",
       "379. 0.196706278568106\n",
       "380. 0.22400162544991\n",
       "381. 0.190156998710548\n",
       "382. 0.214856450656064\n",
       "383. 0.240907419085984\n",
       "384. 0.240907419085984\n",
       "385. 0.190156998710548\n",
       "386. 0.20784121386879\n",
       "387. 0.22496259211071\n",
       "388. 0.2676011130903\n",
       "389. 0.254736433548552\n",
       "390. 0.196487272686843\n",
       "391. 0.22496259211071\n",
       "392. 0.190156998710548\n",
       "393. 0.20784121386879\n",
       "394. 0.239333018058053\n",
       "395. 0.239333018058053\n",
       "396. 0.224921825601729\n",
       "397. 0.273557754385463\n",
       "398. 0.273557754385463\n",
       "399. 0.214084451690363\n",
       "400. 0.239333018058053\n",
       "401. 0.190156998710548\n",
       "\n",
       "\n"
      ],
      "text/plain": [
       "    [1] 0.2701016 0.2418667 0.2701016 0.2701016 0.2759470 0.2701016 0.2759470\n",
       "    [8] 0.2759470 0.2562299 0.2759470 0.2562299 0.2606379 0.2759470 0.2759470\n",
       "   [15] 0.2701016 0.2629129 0.2560236 0.2759470 0.2759470 0.2759470 0.2791804\n",
       "   [22] 0.2612344 0.2612344 0.2621795 0.2759470 0.2701016 0.2759470 0.2629129\n",
       "   [29] 0.2759470 0.2612344 0.2612344 0.2488694 0.2612344 0.2621795 0.2531285\n",
       "   [36] 0.2701016 0.2606379 0.2409152 0.2759470 0.2701016 0.2621795 0.2701016\n",
       "   [43] 0.2701016 0.2759470 0.2701016 0.2759470 0.2759470 0.2621795 0.2791804\n",
       "   [50] 0.2612344 0.2612344 0.2621795 0.2701016 0.2701016 0.2759470 0.2409152\n",
       "   [57] 0.2621795 0.2409152 0.2531285 0.2759470 0.2852509 0.2560236 0.2791804\n",
       "   [64] 0.2701016 0.2651340 0.2651340 0.2410850 0.2410850 0.2019034 0.2410850\n",
       "   [71] 0.2019034 0.2213661 0.2027997 0.2651340 0.2213661 0.2019034 0.2410850\n",
       "   [78] 0.2213661 0.2810118 0.2272226 0.2019034 0.2810118 0.2410850 0.2272226\n",
       "   [85] 0.2213661 0.2570970 0.2249232 0.2371612 0.2651340 0.2213661 0.2213661\n",
       "   [92] 0.2410850 0.2570970 0.2651340 0.2410850 0.2213661 0.2213661 0.2570970\n",
       "   [99] 0.2810118 0.2651340 0.2221555 0.2086891 0.2371612 0.2221555 0.2027997\n",
       "  [106] 0.2570970 0.2019034 0.2570970 0.2736825 0.2213661 0.2651340 0.2609634\n",
       "  [113] 0.2019034 0.2213661 0.2213661 0.2470414 0.2470414 0.2390866 0.2592374\n",
       "  [120] 0.2349436 0.2286719 0.2349436 0.2258558 0.2349436 0.2592374 0.2614250\n",
       "  [127] 0.2749353 0.2670872 0.2626718 0.2723269 0.2349436 0.2523671 0.2286719\n",
       "  [134] 0.2463854 0.2258558 0.2285777 0.2390866 0.2626718 0.2371331 0.2592374\n",
       "  [141] 0.2285777 0.2390866 0.2626718 0.2349436 0.2390866 0.2670872 0.2285777\n",
       "  [148] 0.2349436 0.2200356 0.2390866 0.2626718 0.2614250 0.2434774 0.2498457\n",
       "  [155] 0.2236249 0.2390866 0.2390866 0.2523671 0.2723269 0.2592374 0.2626718\n",
       "  [162] 0.2285777 0.2236249 0.2285777 0.2258558 0.2470414 0.2390866 0.2285777\n",
       "  [169] 0.2470414 0.2498457 0.2258558 0.2592374 0.2371331 0.2258558 0.2258558\n",
       "  [176] 0.2258558 0.2470414 0.2286719 0.2670872 0.2285777 0.2498457 0.2614250\n",
       "  [183] 0.2614250 0.2592374 0.2749353 0.2614250 0.2390866 0.2592374 0.2626718\n",
       "  [190] 0.2614250 0.2258558 0.2289567 0.2470414 0.2592374 0.2749353 0.2258558\n",
       "  [197] 0.2285777 0.2825396 0.3050657 0.2768225 0.2808885 0.3043146 0.3050657\n",
       "  [204] 0.2862064 0.2867763 0.3043146 0.3050657 0.2768225 0.3043146 0.3122920\n",
       "  [211] 0.3050657 0.3024176 0.3154462 0.2768225 0.3050657 0.3043146 0.3122920\n",
       "  [218] 0.2808885 0.2808885 0.2862064 0.3043146 0.3050657 0.2785025 0.3122920\n",
       "  [225] 0.3043146 0.3043146 0.3050657 0.3158066 0.3050657 0.3154462 0.3008368\n",
       "  [232] 0.3024176 0.2808885 0.3154462 0.2768225 0.2768225 0.3008368 0.2862064\n",
       "  [239] 0.2729464 0.3043146 0.3043146 0.2785025 0.2808885 0.3008368 0.3154462\n",
       "  [246] 0.2862064 0.3141342 0.3024176 0.3122920 0.2785025 0.3043146 0.2768225\n",
       "  [253] 0.3024176 0.2768225 0.2768225 0.3008368 0.2808885 0.3043146 0.3008368\n",
       "  [260] 0.2768225 0.2808885 0.2768225 0.3043146 0.2618869 0.2867763 0.3043146\n",
       "  [267] 0.3141342 0.3024176 0.3050657 0.3043146 0.3043146 0.3050657 0.3043146\n",
       "  [274] 0.3158066 0.3043146 0.3154462 0.3008368 0.2867763 0.3024176 0.3043146\n",
       "  [281] 0.2301325 0.2468020 0.2403353 0.2403353 0.2491168 0.2468020 0.2454109\n",
       "  [288] 0.2403353 0.2468020 0.2735500 0.2491168 0.2617743 0.2704977 0.2617743\n",
       "  [295] 0.2779778 0.2684160 0.2403353 0.2684160 0.2491168 0.2617743 0.2403353\n",
       "  [302] 0.2486989 0.2617743 0.2485590 0.2642554 0.2403353 0.2301325 0.2356675\n",
       "  [309] 0.2617743 0.2704977 0.2468020 0.2617743 0.2779778 0.2447281 0.2684160\n",
       "  [316] 0.2403353 0.2617743 0.2486989 0.2468020 0.2468020 0.2275265 0.2617743\n",
       "  [323] 0.2403353 0.2486989 0.2617743 0.2454109 0.2468020 0.2486989 0.2301325\n",
       "  [330] 0.2486989 0.2301325 0.2382825 0.2486989 0.2704977 0.2704977 0.2617743\n",
       "  [337] 0.2704977 0.2735500 0.2491168 0.2802008 0.2486989 0.2684160 0.2491168\n",
       "  [344] 0.2486989 0.2802008 0.2617743 0.2288191 0.2704977 0.2301325 0.2486989\n",
       "  [351] 0.2617743 0.2382825 0.2800478 0.2802864 0.2555281 0.2953725 0.2956128\n",
       "  [358] 0.2675049 0.2800478 0.2476891 0.2555281 0.2555281 0.2800478 0.2800478\n",
       "  [365] 0.2953725 0.1945827 0.2291868 0.1994926 0.2291868 0.2619801 0.2291868\n",
       "  [372] 0.1960407 0.2291868 0.1769210 0.1756274 0.2291868 0.2075362 0.1977717\n",
       "  [379] 0.1797691 0.1756274 0.2775751 0.2590442 0.2370168 0.2769707 0.2704490\n",
       "  [386] 0.2782639 0.2518533 0.2370168 0.2518533 0.2432679 0.2307371 0.2432679\n",
       "  [393] 0.2664590 0.2432679 0.2680300 0.2744366 0.2590442 0.2680300 0.2590442\n",
       "  [400] 0.2703999 0.2703999 0.2664590 0.2420450 0.2680300 0.2432679 0.2664590\n",
       "  [407] 0.2432679 0.2432679 0.2590442 0.2590442 0.2703999 0.2432679 0.2420450\n",
       "  [414] 0.2664590 0.2703999 0.2703999 0.2704490 0.2680300 0.2420450 0.2664590\n",
       "  [421] 0.2782639 0.2432679 0.2703999 0.2680300 0.2664590 0.2744366 0.2703999\n",
       "  [428] 0.2420450 0.2432679 0.2590442 0.2680300 0.2664590 0.2704490 0.2432679\n",
       "  [435] 0.2704490 0.2420450 0.2432679 0.2704490 0.2472567 0.2782639 0.2420450\n",
       "  [442] 0.2664590 0.2680300 0.2432679 0.2370168 0.2838177 0.2975870 0.2796443\n",
       "  [449] 0.2975870 0.2620844 0.2426075 0.2620844 0.2643633 0.2620844 0.2932555\n",
       "  [456] 0.2426075 0.2496519 0.2796443 0.2496519 0.2496519 0.2639684 0.2496519\n",
       "  [463] 0.2620844 0.2975870 0.2496519 0.2796443 0.2613327 0.2426075 0.2613327\n",
       "  [470] 0.2598112 0.2566672 0.2569764 0.2566672 0.2496519 0.2496519 0.2523970\n",
       "  [477] 0.2496519 0.2913515 0.2895968 0.2913515 0.3092266 0.2913515 0.2977230\n",
       "  [484] 0.3070512 0.3077351 0.3077351 0.3083040 0.2891617 0.2891617 0.3092266\n",
       "  [491] 0.2977230 0.3028869 0.2891617 0.2977230 0.3070512 0.2968765 0.2913515\n",
       "  [498] 0.2964789 0.3083040 0.3070512 0.2977230 0.2891617 0.2964789 0.3070512\n",
       "  [505] 0.3092266 0.2964789 0.3070512 0.2968765 0.2977230 0.2913515 0.2891617\n",
       "  [512] 0.3083040 0.2964789 0.2964789 0.3083040 0.3070512 0.3092266 0.2964789\n",
       "  [519] 0.2913515 0.2964789 0.2891617 0.2977230 0.3077351 0.3083040 0.2891617\n",
       "  [526] 0.3033920 0.2891617 0.3070512 0.3067875 0.2964789 0.2891617 0.2977230\n",
       "  [533] 0.2891617 0.2913515 0.3083040 0.3071281 0.3092266 0.2968765 0.3077351\n",
       "  [540] 0.2977230 0.3077351 0.2891617 0.2964789 0.2895968 0.3092266 0.2895968\n",
       "  [547] 0.2913515 0.3092266 0.2420987 0.2221880 0.2221880 0.2221880 0.2397686\n",
       "  [554] 0.2651933 0.2670861 0.2670861 0.2164319 0.2670861 0.2371700 0.2221880\n",
       "  [561] 0.2670861 0.2420987 0.2371700 0.2371700 0.2154103 0.2221880 0.2809047\n",
       "  [568] 0.2310998 0.2420987 0.2348494 0.2377512 0.2349890 0.2221880 0.2343963\n",
       "  [575] 0.2809047 0.2726924 0.2670861 0.2221880 0.2377512 0.2790136 0.2154103\n",
       "  [582] 0.2371700 0.2371700 0.2221880 0.2221880 0.2670861 0.2164319 0.2362334\n",
       "  [589] 0.2371700 0.2420987 0.2670861 0.2386349 0.2397686 0.2420987 0.2221880\n",
       "  [596] 0.2371700 0.2670861 0.2670861 0.2651933 0.2397686 0.2651933 0.2386349\n",
       "  [603] 0.2795220 0.2823142 0.2911832 0.2469101 0.2823142 0.2354879 0.2456565\n",
       "  [610] 0.2795220 0.2456496 0.2456565 0.3092304 0.2911832 0.2795220 0.3120526\n",
       "  [617] 0.2491481 0.2792063 0.2757543 0.2671556 0.2752601 0.2671556 0.2774790\n",
       "  [624] 0.2792063 0.2671556 0.2671556 0.2846481 0.2568274 0.2792063 0.2551386\n",
       "  [631] 0.2757543 0.2551386 0.2748444 0.2480766 0.2812049 0.2752601 0.2388886\n",
       "  [638] 0.2792063 0.2551386 0.2792063 0.2792063 0.2752601 0.2671556 0.2671556\n",
       "  [645] 0.2792063 0.2753324 0.2665893 0.2753324 0.2753324 0.2752601 0.2756097\n",
       "  [652] 0.2792063 0.2753324 0.2551386 0.2774790 0.2748444 0.2753324 0.2671556\n",
       "  [659] 0.2568274 0.2756097 0.2671556 0.2748444 0.2757543 0.2753324 0.2792063\n",
       "  [666] 0.2752601 0.2753324 0.2753324 0.2752601 0.2757543 0.2757543 0.2812049\n",
       "  [673] 0.2792063 0.2792063 0.2748444 0.2812049 0.2792063 0.2757543 0.2792063\n",
       "  [680] 0.2752601 0.2753324 0.2665893 0.2792063 0.2792063 0.2792063 0.2671556\n",
       "  [687] 0.2752601 0.2671556 0.2752601 0.2846481 0.2551386 0.2568274 0.2757543\n",
       "  [694] 0.2774790 0.2792063 0.2792063 0.2753324 0.2757543 0.2707084 0.2753324\n",
       "  [701] 0.2792063 0.2568274 0.2665349 0.2671556 0.2551386 0.2757543 0.2707084\n",
       "  [708] 0.2812049 0.2753324 0.2752601 0.2551386 0.2756097 0.2551386 0.2774790\n",
       "  [715] 0.2752601 0.2846481 0.2753324 0.2757543 0.2774790 0.2757543 0.2792063\n",
       "  [722] 0.2551386 0.2748444 0.2753324 0.2664335 0.2846481 0.3129879 0.2606355\n",
       "  [729] 0.3079410 0.2701755 0.2701755 0.3129879 0.3056324 0.3129879 0.3202898\n",
       "  [736] 0.2647407 0.3056324 0.2786101 0.3129879 0.3056324 0.3129879 0.3210223\n",
       "  [743] 0.2877475 0.2812955 0.2680325 0.3129879 0.3129879 0.2812955 0.3135075\n",
       "  [750] 0.2877475 0.3056324 0.3250348 0.2658569 0.2701755 0.3135075 0.2812955\n",
       "  [757] 0.3056324 0.2786101 0.2701755 0.3056324 0.3056324 0.2751779 0.2612146\n",
       "  [764] 0.2878448 0.2890212 0.2890212 0.3158354 0.3003665 0.2854591 0.3158354\n",
       "  [771] 0.2782151 0.2854591 0.3003295 0.3158354 0.3003665 0.2801625 0.2905489\n",
       "  [778] 0.2840622 0.2890212 0.3003665 0.2878448 0.2929599 0.3063418 0.3003665\n",
       "  [785] 0.2905489 0.3051262 0.2719819 0.3104856 0.3158354 0.2890212 0.2890212\n",
       "  [792] 0.2854591 0.3003665 0.3063418 0.2840622 0.2752658 0.2752658 0.3003665\n",
       "  [799] 0.2782151 0.3003665 0.3003295 0.3063418 0.2878448 0.2878448 0.2929599\n",
       "  [806] 0.3003295 0.3104856 0.2929599 0.3003665 0.3104856 0.2905489 0.3051262\n",
       "  [813] 0.3051262 0.3063418 0.2878448 0.3003665 0.2752658 0.2752658 0.2838768\n",
       "  [820] 0.3072151 0.3003665 0.2878448 0.3003665 0.2890212 0.2929599 0.3036285\n",
       "  [827] 0.3051262 0.3072151 0.2801625 0.3003665 0.3003665 0.2854591 0.2752658\n",
       "  [834] 0.3063418 0.3158354 0.3063418 0.2782151 0.3003665 0.2878448 0.3072151\n",
       "  [841] 0.3072151 0.2890212 0.3072151 0.3063418 0.2878448 0.3072151 0.2752658\n",
       "  [848] 0.2878448 0.3003665 0.3003665 0.2878448 0.2905489 0.2752658 0.2890212\n",
       "  [855] 0.3104856 0.2801625 0.2782151 0.2840622 0.3158354 0.3063418 0.2752658\n",
       "  [862] 0.2890212 0.2752658 0.2890212 0.3158354 0.2878448 0.2752658 0.2929599\n",
       "  [869] 0.3003295 0.2890212 0.3003295 0.3158354 0.2890212 0.3158354 0.2929599\n",
       "  [876] 0.2854591 0.2890212 0.2752658 0.3072151 0.2905489 0.3063418 0.2752658\n",
       "  [883] 0.2905489 0.2719819 0.3063418 0.2782151 0.3072151 0.2752658 0.2854591\n",
       "  [890] 0.3158354 0.2854591 0.2801625 0.2840622 0.2840622 0.3063418 0.2752658\n",
       "  [897] 0.2854591 0.2801625 0.2854591 0.2752658 0.3072151 0.3063418 0.2782151\n",
       "  [904] 0.2890212 0.3158354 0.2890212 0.2784978 0.2854591 0.2890212 0.3072151\n",
       "  [911] 0.2854591 0.2878448 0.3051262 0.2854591 0.2752658 0.2890212 0.2854591\n",
       "  [918] 0.3072151 0.3072151 0.2878448 0.3063418 0.3072151 0.3063418 0.3158354\n",
       "  [925] 0.3063418 0.2853912 0.3104856 0.3063418 0.2854591 0.3003295 0.3003665\n",
       "  [932] 0.2719819 0.3063418 0.3158354 0.3036285 0.3063418 0.3158354 0.2890212\n",
       "  [939] 0.2854591 0.2929599 0.2851613 0.2890212 0.2890212 0.3072151 0.2854591\n",
       "  [946] 0.2929599 0.2878448 0.2854591 0.2854591 0.2853912 0.3003665 0.2752658\n",
       "  [953] 0.3003665 0.2890212 0.2719819 0.3003665 0.2782151 0.2854591 0.2878448\n",
       "  [960] 0.2398665 0.2918463 0.2746945 0.2729161 0.2915183 0.2537511 0.2519754\n",
       "  [967] 0.2537511 0.2354321 0.2537511 0.2419540 0.2915183 0.2419540 0.3020955\n",
       "  [974] 0.2443344 0.2354205 0.3020955 0.2918463 0.2443344 0.2465224 0.2729161\n",
       "  [981] 0.2918463 0.2918463 0.2918463 0.2915183 0.2442154 0.2982396 0.2354321\n",
       "  [988] 0.2519754 0.2475355 0.2827946 0.2840766 0.2536479 0.2729161 0.2915183\n",
       "  [995] 0.2827946 0.2536479 0.2465224 0.2246643 0.2490854 0.2607621 0.2414623\n",
       " [1002] 0.2467028 0.2472654 0.2376698 0.2417189 0.2246643 0.2472654 0.2689120\n",
       " [1009] 0.2203923 0.2414623 0.2467028 0.2414623 0.2626623 0.2472084 0.2743396\n",
       " [1016] 0.2354347 0.2743396 0.2677547 0.2564807 0.2450951 0.2626623 0.2314656\n",
       " [1023] 0.2632931 0.2502285 0.2632931 0.2661440 0.2542313 0.2542313 0.2552861\n",
       " [1030] 0.2472084 0.2472084 0.2598617 0.2743396 0.2598617 0.2743396 0.2598617\n",
       " [1037] 0.2677547 0.2598617 0.2677547 0.2598617 0.2502285 0.2564807 0.2743396\n",
       " [1044] 0.2632931 0.2552861 0.2564807 0.2598617 0.2354347 0.2626623 0.2219007\n",
       " [1051] 0.2626623 0.2743396 0.2288790 0.2598617 0.2502285 0.2598617 0.2564807\n",
       " [1058] 0.2598617 0.2210741 0.2580611 0.2564807 0.2502285 0.2354347 0.2502285\n",
       " [1065] 0.2677547 0.2288790 0.2542313 0.2626623 0.2743396 0.2632931 0.2580611\n",
       " [1072] 0.2626623 0.2502285 0.2502285 0.2409551 0.2626623 0.2626623 0.2502285\n",
       " [1079] 0.2743396 0.2968509 0.3011169 0.2765774 0.2765774 0.2968509 0.2836570\n",
       " [1086] 0.3096623 0.2941429 0.3087888 0.2762702 0.3096623 0.3011169 0.2878483\n",
       " [1093] 0.2950815 0.3011169 0.2941429 0.2821457 0.3011169 0.3078687 0.2858943\n",
       " [1100] 0.3087888 0.2941429 0.3096623 0.2858943 0.3011169 0.2968509 0.2765774\n",
       " [1107] 0.3011169 0.2955744 0.2858943 0.2878483 0.2941429 0.2836570 0.2941429\n",
       " [1114] 0.2765774 0.2765774 0.2941429 0.2836570 0.3096623 0.2941429 0.3096623\n",
       " [1121] 0.3096623 0.2858943 0.2968509 0.2941429 0.2968509 0.2858943 0.2941429\n",
       " [1128] 0.2968509 0.3011169 0.2968509 0.2858943 0.2836570 0.3096623 0.2941429\n",
       " [1135] 0.2836570 0.2941429 0.2765774 0.2941429 0.3087888 0.3096623 0.2941429\n",
       " [1142] 0.2941429 0.2941429 0.2941429 0.3096623 0.2941429 0.2968509 0.2968509\n",
       " [1149] 0.2710806 0.3096623 0.3096623 0.3096623 0.3011169 0.2765774 0.2968509\n",
       " [1156] 0.2941429 0.2968509 0.2941429 0.2968509 0.3096623 0.2941429 0.2878483\n",
       " [1163] 0.3087888 0.2950815 0.2836570 0.2836570 0.2950815 0.2941429 0.2950815\n",
       " [1170] 0.2941429 0.2765774 0.3011169 0.3096623 0.2765774 0.2836570 0.3096623\n",
       " [1177] 0.2941429 0.2968509 0.2765774 0.3096623 0.2968509 0.2765774 0.2968509\n",
       " [1184] 0.2836570 0.2968509 0.3096623 0.3011169 0.2968509 0.3096623 0.3096623\n",
       " [1191] 0.2968509 0.2968509 0.2941429 0.2941429 0.2968509 0.3096623 0.2941429\n",
       " [1198] 0.3096623 0.3078687 0.2836570 0.2968509 0.2765774 0.2765774 0.2941429\n",
       " [1205] 0.3078687 0.2858943 0.2941429 0.3011169 0.3078687 0.2858943 0.2968509\n",
       " [1212] 0.2968509 0.2878483 0.2955744 0.2765774 0.2968509 0.2462423 0.2755722\n",
       " [1219] 0.2432140 0.2755722 0.2747883 0.2375766 0.2562938 0.2557915 0.2557915\n",
       " [1226] 0.2557915 0.2557915 0.2375766 0.2562938 0.2562938 0.2724331 0.2562938\n",
       " [1233] 0.2680229 0.2375766 0.2747883 0.2747883 0.2562938 0.2724331 0.2557915\n",
       " [1240] 0.2602520 0.2819405 0.2602520 0.2483362 0.2562938 0.2747883 0.2724331\n",
       " [1247] 0.2747883 0.2724331 0.2320540 0.2375766 0.2433282 0.2747883 0.2680229\n",
       " [1254] 0.2747883 0.2562938 0.2867072 0.2680229 0.2434712 0.2724331 0.2680229\n",
       " [1261] 0.2557915 0.2680229 0.2747883 0.2747883 0.2724331 0.2724331 0.2557915\n",
       " [1268] 0.2562938 0.2747883 0.2724331 0.2724331 0.2680229 0.2562938 0.2432140\n",
       " [1275] 0.2724331 0.2724331 0.2396451 0.2396451 0.2747883 0.2724331 0.2680229\n",
       " [1282] 0.2747883 0.2434712 0.2433282 0.2557915 0.2747883 0.2557915 0.2340583\n",
       " [1289] 0.1861635 0.2064104 0.2064104 0.2340583 0.2058007 0.2064104 0.2058007\n",
       " [1296] 0.2133435 0.1861635 0.2064104 0.2058007 0.1821892 0.1899582 0.1821892\n",
       " [1303] 0.2221066 0.2341976 0.2058007 0.1821892 0.2058007 0.2278611 0.1821892\n",
       " [1310] 0.1899582 0.1821892 0.1821892 0.2058007 0.2278611 0.1821892 0.1821892\n",
       " [1317] 0.1821892 0.2341976 0.2058007 0.2064104 0.2058007 0.1821892 0.2064104\n",
       " [1324] 0.2221066 0.2278611 0.1821892 0.1821892 0.2064104 0.2107278 0.2341976\n",
       " [1331] 0.2650177 0.2470905 0.2249897 0.2492273 0.2166748 0.2015899 0.2470905\n",
       " [1338] 0.2293552 0.2443976 0.2517342 0.2116267 0.2681077 0.2249897 0.2898910\n",
       " [1345] 0.2898910 0.2391140 0.2270690 0.3086054 0.2544608 0.2517069 0.2544608\n",
       " [1352] 0.3079789 0.2995359 0.2550501 0.2898910 0.2833026 0.2348727 0.2391140\n",
       " [1359] 0.2466992 0.2995359 0.2521302 0.2521302 0.2070491 0.2521302 0.2140833\n",
       " [1366] 0.2401428 0.2457209 0.2140833 0.2690789 0.2521302 0.2671962 0.2119262\n",
       " [1373] 0.2671962 0.2671962 0.2671962 0.2359414 0.2359414 0.2841943 0.2119262\n",
       " [1380] 0.2841943 0.2278847 0.2278847 0.2992611 0.2797758 0.2797758 0.2539821\n",
       " [1387] 0.2980238 0.3155981 0.2770802 0.2922123 0.2980238 0.3155981 0.3065797\n",
       " [1394] 0.2770802 0.3155981 0.3065797 0.1918929 0.2468077 0.2468077 0.2355334\n",
       " [1401] 0.2067889 0.2067889 0.2067889 0.2618469 0.2067889 0.2086995 0.2618469\n",
       " [1408] 0.2416865 0.2241672 0.2416865 0.2636901 0.2586312 0.2154287 0.1921703\n",
       " [1415] 0.2586312 0.2586312 0.2586312 0.2586312 0.2572819 0.2051041 0.2636901\n",
       " [1422] 0.2154287 0.2122931 0.2765191 0.2572819 0.2122931 0.2731151 0.2572819\n",
       " [1429] 0.2572819 0.2731151 0.2051041 0.2719884 0.2154287 0.2636901 0.2379440\n",
       " [1436] 0.2249505 0.3173190 0.2879586 0.3173190 0.2958061 0.3173190 0.2758273\n",
       " [1443] 0.2879586 0.2297834 0.2958061 0.2405572 0.2879586 0.2388674 0.2645303\n",
       " [1450] 0.2958061 0.2958061 0.2451424 0.2451424 0.2297684 0.2450736 0.2879586\n",
       " [1457] 0.2297834 0.2451424 0.2645303 0.3009875 0.2977524 0.3011144 0.3009875\n",
       " [1464] 0.2753620 0.2980734 0.3009875 0.3009875 0.3011144 0.2977524 0.3000554\n",
       " [1471] 0.2753620 0.3011144 0.3000554 0.3011144 0.2980734 0.3011144 0.2977524\n",
       " [1478] 0.2854592 0.2879970 0.3000554 0.3000554 0.2893747 0.3011144 0.2879970\n",
       " [1485] 0.2752021 0.2958001 0.3000554 0.3000554 0.3009875 0.3000554 0.2854592\n",
       " [1492] 0.3011144 0.2879970 0.3000554 0.3000554 0.3009875 0.3011144 0.2958001\n",
       " [1499] 0.2980734 0.2947282 0.3011144 0.3000554 0.3000554 0.2977524 0.2879970\n",
       " [1506] 0.2922069 0.3009875 0.2922069 0.2854592 0.2980734 0.2958001 0.2893747\n",
       " [1513] 0.2879970 0.2980734 0.2893747 0.2893747 0.2893747 0.2854592 0.2977524\n",
       " [1520] 0.2980734 0.2980734 0.2854592 0.2893747 0.2849574 0.2854592 0.3009875\n",
       " [1527] 0.2849960 0.2879970 0.3009875 0.3009875 0.3000554 0.2752021 0.2980734\n",
       " [1534] 0.2879970 0.2849960 0.3009875 0.2980734 0.2893747 0.2893060 0.2947282\n",
       " [1541] 0.3011144 0.3000554 0.2893060 0.3011144 0.2944655 0.2977524 0.2958001\n",
       " [1548] 0.3000554 0.2961519 0.2958001 0.2980734 0.2977524 0.2849960 0.3000554\n",
       " [1555] 0.3011144 0.2961519 0.3009875 0.2980734 0.2893747 0.2893747 0.3009875\n",
       " [1562] 0.2879970 0.2753620 0.2879970 0.3000554 0.2893747 0.3011144 0.3000554\n",
       " [1569] 0.2958001 0.3009875 0.2893747 0.2977524 0.2354528 0.2723584 0.2354528\n",
       " [1576] 0.2551367 0.2551367 0.2217389 0.2520054 0.2471961 0.2488761 0.2619011\n",
       " [1583] 0.2551367 0.2101914 0.2294855 0.2551236 0.2488761 0.2354528 0.2217389\n",
       " [1590] 0.2354528 0.2706304 0.2706304 0.2551367 0.2354528 0.2217389 0.2354528\n",
       " [1597] 0.2551367 0.2459287 0.2551367 0.2217389 0.2551236 0.2706304 0.2101914\n",
       " [1604] 0.2354528 0.2739629 0.2619011 0.2551367 0.2169465 0.2459287 0.2217389\n",
       " [1611] 0.2551367 0.2706304 0.2617446 0.2405808 0.2794428 0.2521827 0.2521827\n",
       " [1618] 0.2513249 0.2521827 0.2709865 0.2617446 0.2932778 0.2623795 0.2617446\n",
       " [1625] 0.2838310 0.2617446 0.2513249 0.2513249 0.2709865 0.2521827 0.2848458\n",
       " [1632] 0.2838310 0.2513249 0.2513249 0.2794428 0.2513249 0.2935250 0.2623795\n",
       " [1639] 0.2848458 0.2794428 0.2932778 0.2502857 0.2502857 0.2488220 0.2617446\n",
       " [1646] 0.2521827 0.2513249 0.2225247 0.2566187 0.2566187 0.1901913 0.2594365\n",
       " [1653] 0.2139131 0.2225247 0.2225247 0.2039932 0.2566187 0.1948671 0.2292202\n",
       " [1660] 0.2594365 0.1819145 0.2139131 0.2594365 0.2566187 0.1901913 0.2702745\n",
       " [1667] 0.2731072 0.2731072 0.2452470 0.2329869 0.2731072 0.2731072 0.2731072\n",
       " [1674] 0.2329869 0.2877593 0.2452470 0.1904505 0.2353526 0.2458564 0.2627921\n",
       " [1681] 0.2069929 0.1904505 0.2002520 0.2458564 0.2438189 0.2458564 0.2634999\n",
       " [1688] 0.2490929 0.2009214 0.1978954 0.2438189 0.2458564 0.2274973 0.2458564\n",
       " [1695] 0.1902575 0.2634999 0.2458564 0.2069929 0.2353526 0.2199812 0.2104513\n",
       " [1702] 0.2549660 0.1957770 0.1957770 0.2469201 0.2257208 0.2549660 0.2199812\n",
       " [1709] 0.1957770 0.1957770 0.2199812 0.2278150 0.2278150 0.1957770 0.2392908\n",
       " [1716] 0.2278150 0.2392908 0.1957770 0.2016354 0.2549660 0.2234484 0.2549660\n",
       " [1723] 0.2834626 0.2834626 0.2603182 0.2486083 0.2686079 0.2486083 0.2337348\n",
       " [1730] 0.2345172 0.2741100 0.2686079 0.2365238 0.2201676 0.2264406 0.2365238\n",
       " [1737] 0.2603182 0.2201676 0.2535721 0.2796935 0.2752490 0.2535314 0.2560213\n",
       " [1744] 0.2752490 0.2535721 0.2772324 0.2494275 0.2772422 0.2517635 0.2772957\n",
       " [1751] 0.2766908 0.2772422 0.2772324 0.2528844 0.2772422 0.2766908 0.2560213\n",
       " [1758] 0.2772957 0.2584575 0.2872321 0.2336751 0.2406488 0.2953756 0.2811249\n",
       " [1765] 0.2991237 0.2872321 0.2750625 0.2565722 0.2336751 0.3003897 0.2394756\n",
       " [1772] 0.2872321 0.2565722 0.3133880 0.2557552 0.2716376 0.2919748 0.2716376\n",
       " [1779] 0.2780701 0.2652131 0.2780701 0.2485968 0.2538008 0.2780701 0.2780701\n",
       " [1786] 0.2641074 0.2485968 0.2485968 0.2780701 0.2480521 0.2870949 0.2919748\n",
       " [1793] 0.2485968 0.2641074 0.2780701 0.2919748 0.2641074 0.2716376 0.2538008\n",
       " [1800] 0.2780701 0.2639395 0.2870949 0.2919748 0.2485968 0.2538008 0.2780701\n",
       " [1807] 0.2780701 0.2780701 0.2538008 0.2870949 0.2780701 0.2485968 0.2641074\n",
       " [1814] 0.2337624 0.2337624 0.2250725 0.2796536 0.3042339 0.2796536 0.2337624\n",
       " [1821] 0.2337624 0.2712886 0.2209505 0.2796536 0.2087800 0.2551042 0.2044463\n",
       " [1828] 0.2536530 0.2491046 0.2153952 0.2303593 0.2088095 0.2303593 0.2241458\n",
       " [1835] 0.2026064 0.2026064 0.2241535 0.2536530 0.2258149 0.2241458 0.2642848\n",
       " [1842] 0.2519215 0.2519215 0.2445069 0.2461281 0.2742412 0.2519215 0.2389603\n",
       " [1849] 0.2748028 0.2519215 0.2664835 0.2901602 0.2519215 0.2901602 0.2748028\n",
       " [1856] 0.2748028 0.2389603 0.2389603 0.2461281 0.2404331 0.2655791 0.2901602\n",
       " [1863] 0.2461281 0.2748028 0.2748028 0.2883858 0.2748028 0.2883858 0.2519215\n",
       " [1870] 0.2389603 0.2445069 0.2435712 0.2742412 0.2655791 0.2748028 0.2461281\n",
       " [1877] 0.2655791 0.2664835 0.2748028 0.2655791 0.2435712 0.2461281 0.2461281\n",
       " [1884] 0.2655791 0.2519215 0.2461281 0.2809784 0.2519215 0.2519215 0.2748028\n",
       " [1891] 0.2655791 0.2519215 0.2461281 0.2748028 0.2748028 0.2748028 0.2664835\n",
       " [1898] 0.2435712 0.2404331 0.2519215 0.2389603 0.2519215 0.2270762 0.2358743\n",
       " [1905] 0.2293586 0.2270762 0.2238316 0.2457484 0.2457484 0.2219318 0.2720313\n",
       " [1912] 0.2174797 0.2270762 0.2457484 0.2720313 0.2720313 0.2589388 0.2174797\n",
       " [1919] 0.2794076 0.2658774 0.2471827 0.2794076 0.2460394 0.2471827 0.2794076\n",
       " [1926] 0.2382891 0.2914456 0.2914456 0.2769718 0.2567057 0.2321978 0.2471827\n",
       " [1933] 0.2336375 0.2769718 0.2567057 0.2657231 0.2672342 0.2219571 0.2557065\n",
       " [1940] 0.2381221 0.2657661 0.2613847 0.2283556 0.2657564 0.2657564 0.2283556\n",
       " [1947] 0.2405638 0.2622301 0.2503771 0.2540322 0.2258557 0.2503771 0.2540322\n",
       " [1954] 0.2323362 0.2673757 0.2657564 0.2622301 0.2657564 0.2383537 0.2509770\n",
       " [1961] 0.2710827 0.2283556 0.2194220 0.2613847 0.2673757 0.2200455 0.2503771\n",
       " [1968] 0.2503771 0.2402000 0.2283556 0.2657564 0.2622301 0.2540322 0.3009788\n",
       " [1975] 0.2740368 0.2303139 0.3016116 0.2406109 0.3118808 0.2407277 0.2440667\n",
       " [1982] 0.3016116 0.2371551 0.2406109 0.2566320 0.2371551 0.2287671 0.3016116\n",
       " [1989] 0.2406109 0.2566320 0.2566320 0.2859214 0.2406109 0.2740368 0.3118808\n",
       " [1996] 0.2833229 0.2440667 0.2859214 0.2833229 0.2566320 0.2740368 0.2833229\n",
       " [2003] 0.2405313 0.3016116 0.2518170 0.2311909 0.2583025 0.2125410 0.2288300\n",
       " [2010] 0.2326782 0.2125410 0.2589044 0.2735936 0.2125410 0.2589044 0.2326782\n",
       " [2017] 0.2589044 0.2311909 0.2622926 0.2589044 0.2288300 0.2439134 0.2405118\n",
       " [2024] 0.2589044 0.2518170 0.2157863 0.2405118 0.2288300 0.2288300 0.2288300\n",
       " [2031] 0.2311909 0.2439134 0.2125410 0.2157863 0.2405118 0.2288300 0.2311909\n",
       " [2038] 0.2125410 0.2109680 0.2589044 0.2311909 0.2157863 0.2288300 0.2125410\n",
       " [2045] 0.2518170 0.2589044 0.2109680 0.2405118 0.2622926 0.2589044 0.2288300\n",
       " [2052] 0.2518170 0.2518170 0.2405118 0.2288300 0.2589044 0.2622926 0.2125410\n",
       " [2059] 0.2125410 0.2744052 0.2125410 0.2589044 0.2735936 0.2622926 0.2636431\n",
       " [2066] 0.2801780 0.2636431 0.2638143 0.2787886 0.2636431 0.2638143 0.2801780\n",
       " [2073] 0.2801780 0.2787886 0.2801780 0.2801780 0.2638143 0.2241454 0.2638143\n",
       " [2080] 0.2241454 0.2357926 0.2638143 0.2638143 0.2638143 0.2801780 0.2241454\n",
       " [2087] 0.2843039 0.2636431 0.2535546 0.2638143 0.2358588 0.2321385 0.2321385\n",
       " [2094] 0.2638143 0.2801780 0.2535546 0.2638143 0.2608757 0.2787886 0.2329324\n",
       " [2101] 0.2321385 0.2638143 0.2608757 0.2638143 0.2787886 0.2918882 0.2608757\n",
       " [2108] 0.2912171 0.2542421 0.2799415 0.2813526 0.2542421 0.2799415 0.2577947\n",
       " [2115] 0.2813526 0.2632040 0.2684645 0.2813526 0.2652455 0.2577947 0.2467116\n",
       " [2122] 0.2632040 0.2684645 0.2871509 0.2542421 0.2542421 0.2799415 0.2542421\n",
       " [2129] 0.2437120 0.2684645 0.2542421 0.2912171 0.2477274 0.2780004 0.2577225\n",
       " [2136] 0.2632040 0.2477274 0.2780004 0.2477274 0.2577947 0.2437120 0.2542421\n",
       " [2143] 0.2780004 0.2433353 0.2477274 0.2577947 0.2577947 0.2799415 0.2912171\n",
       " [2150] 0.2542421 0.2632040 0.2915344 0.2799415 0.2813526 0.2684645 0.2477274\n",
       " [2157] 0.2577947 0.2477274 0.2684645 0.2684645 0.2437120 0.2577947 0.2539828\n",
       " [2164] 0.2780004 0.2477274 0.2542421 0.2813526 0.2813526 0.2912171 0.2477274\n",
       " [2171] 0.2417859 0.2433353 0.2813526 0.2577947 0.2813526 0.2813526 0.2912171\n",
       " [2178] 0.2684645 0.2542421 0.2477274 0.2542421 0.2799415 0.2577947 0.2437120\n",
       " [2185] 0.2526284 0.2724740 0.2638659 0.2753643 0.2761639 0.2749695 0.2638659\n",
       " [2192] 0.2575851 0.2753643 0.2832682 0.2761639 0.2749695 0.2832682 0.2478735\n",
       " [2199] 0.2761639 0.2753643 0.2526984 0.2638382 0.2826565 0.2832682 0.2753643\n",
       " [2206] 0.2472370 0.2749695 0.2463241 0.2753643 0.2638659 0.2562444 0.2638382\n",
       " [2213] 0.2424516 0.2832682 0.2638659 0.2638382 0.2638659 0.2753643 0.2562444\n",
       " [2220] 0.2761639 0.2832682 0.2526984 0.2753643 0.2526984 0.2826565 0.2749695\n",
       " [2227] 0.2526284 0.2724740 0.2749695 0.2753643 0.2761639 0.2638382 0.2638659\n",
       " [2234] 0.2526284 0.2526984 0.2832682 0.2638659 0.2753643 0.2526984 0.2610445\n",
       " [2241] 0.2638659 0.2638382 0.2761639 0.2826565 0.2526984 0.2638382 0.2526984\n",
       " [2248] 0.2761639 0.2761639 0.2724740 0.2761639 0.2638382 0.2753643 0.2638659\n",
       " [2255] 0.2761639 0.2749695 0.2761639 0.2761639 0.2575851 0.2761639 0.2753643\n",
       " [2262] 0.2761639 0.2601049 0.2638659 0.2826565 0.2906808 0.2638659 0.2753643\n",
       " [2269] 0.2749695 0.2749695 0.2761639 0.2753643 0.2761639 0.2638659 0.2610445\n",
       " [2276] 0.2749695 0.2425542 0.2761639 0.2526284 0.2826565 0.2761639 0.2567958\n",
       " [2283] 0.2749695 0.2526984 0.2753643 0.2761639 0.2761639 0.2826565 0.2638382\n",
       " [2290] 0.2526284 0.2638659 0.2638382 0.2753643 0.2761639 0.2761639 0.2724740\n",
       " [2297] 0.2906808 0.2638382 0.2638382 0.2638659 0.2638659 0.2638659 0.2638659\n",
       " [2304] 0.2753643 0.2424516 0.2761639 0.2826565 0.2638659 0.2822782 0.2809502\n",
       " [2311] 0.2676003 0.2676003 0.2676003 0.2919182 0.2811989 0.2847357 0.2983098\n",
       " [2318] 0.2811989 0.2811989 0.2811989 0.2822782 0.2916075 0.2953697 0.2676003\n",
       " [2325] 0.2769598 0.2894291 0.2847357 0.2919182 0.2993920 0.2993920 0.2983098\n",
       " [2332] 0.2676003 0.2811989 0.2944415 0.2822782 0.2944415 0.2811989 0.2811989\n",
       " [2339] 0.2847357 0.2993920 0.2822782 0.2811989 0.2271352 0.2038472 0.2387851\n",
       " [2346] 0.2271352 0.1922816 0.1821680 0.2504591 0.2387851 0.1841074 0.1841074\n",
       " [2353] 0.2271352 0.2504591 0.1841074 0.2271352 0.2271352 0.2387851 0.2271352\n",
       " [2360] 0.2038472 0.1860252 0.1841074 0.2422928 0.2387851 0.1821680 0.2504591\n",
       " [2367] 0.2535649 0.1860252 0.1705149 0.1896092 0.1923203 0.2461307 0.1896092\n",
       " [2374] 0.1923203 0.1923203 0.1923203 0.1977806 0.1705149 0.2025046 0.2025046\n",
       " [2381] 0.2025046 0.2025046 0.2025046 0.2143762 0.2089272 0.2053937 0.2272825\n",
       " [2388] 0.2143762 0.2089272 0.2053937 0.2143762 0.2143762 0.2143762 0.2087203\n",
       " [2395] 0.2143762 0.2143762 0.2464812 0.2637554 0.2025046 0.2464812 0.2053937\n",
       " [2402] 0.2218125 0.2288518 0.2053937 0.2288518 0.2288518 0.2053937 0.2025046\n",
       " [2409] 0.2143762 0.2380483 0.2025046 0.2218663 0.2288518 0.2464812 0.2053937\n",
       " [2416] 0.2288518 0.2380483 0.2218663 0.2272825 0.2464812 0.2218663 0.2053937\n",
       " [2423] 0.2272825 0.2053937 0.2218125 0.2272825 0.2464812 0.2272825 0.2288518\n",
       " [2430] 0.2025046 0.2687709 0.2380483 0.2967380 0.2996438 0.2781884 0.2781884\n",
       " [2437] 0.2996438 0.2972469 0.2972499 0.2945052 0.2822833 0.2701597 0.2945052\n",
       " [2444] 0.2945052 0.2945052 0.2781884 0.2996438 0.2945052 0.2972499 0.2701597\n",
       " [2451] 0.3021534 0.2932730 0.2980309 0.2932730 0.2701597 0.2735002 0.2701597\n",
       " [2458] 0.2701597 0.2972499 0.2972469 0.2945052 0.2945052 0.2980309 0.2945052\n",
       " [2465] 0.2972499 0.2652043 0.2972469 0.2781884 0.2932730 0.2945052 0.2617638\n",
       " [2472] 0.2932730 0.2972499 0.2701597 0.2945052 0.2617638 0.2628506 0.2932730\n",
       " [2479] 0.2822833 0.2822833 0.2972499 0.2937858 0.2565263 0.2740993 0.2740993\n",
       " [2486] 0.2793552 0.2454595 0.2890392 0.2623678 0.2532166 0.2890392 0.2740993\n",
       " [2493] 0.2454595 0.2542161 0.2623678 0.2635080 0.2793552 0.2793552 0.2793552\n",
       " [2500] 0.2793552 0.2532166 0.2635080 0.2793552 0.2740993 0.2740993 0.2918106\n",
       " [2507] 0.2623678 0.3013935 0.2890392 0.2890392 0.2775731 0.2861534 0.2454595\n",
       " [2514] 0.2635080 0.2793552 0.2665850 0.2740993 0.2665850 0.2132209 0.2387896\n",
       " [2521] 0.2387896 0.2590173 0.2132209 0.2534360 0.2534360 0.2532271 0.2589944\n",
       " [2528] 0.2132209 0.2132209 0.2132209 0.2328885 0.2063800 0.2532271 0.2318151\n",
       " [2535] 0.2589944 0.2532271 0.2318151 0.2318151 0.2081180 0.2132209 0.2707266\n",
       " [2542] 0.2318151 0.2590173 0.2318151 0.2081180 0.2079001 0.2079001 0.2081180\n",
       " [2549] 0.2387896 0.2119461 0.2534360 0.2081180 0.2079001 0.2318151 0.2589944\n",
       " [2556] 0.2589944 0.2119461 0.2343072 0.2337002 0.2589944 0.2293835 0.2739350\n",
       " [2563] 0.2532271 0.2739350 0.2387896 0.2081180 0.2343072 0.2707266 0.2322186\n",
       " [2570] 0.2033416 0.2063800 0.2274839 0.2181627 0.1937845 0.2514731 0.2176219\n",
       " [2577] 0.1937845 0.2176219 0.2349889 0.2191500 0.2514731 0.2176219 0.2387732\n",
       " [2584] 0.2433387 0.2433387 0.2387169 0.2274839 0.2274839 0.2274839 0.2054116\n",
       " [2591] 0.2176219 0.2203115 0.2234255 0.2433387 0.2349889 0.2054116 0.2176219\n",
       " [2598] 0.1937845 0.2054116 0.2203115 0.2176219 0.2087596 0.2387732 0.2387732\n",
       " [2605] 0.2274839 0.2140181 0.2191500 0.2387169 0.2514731 0.2231719 0.2203115\n",
       " [2612] 0.1937845 0.2140181 0.1937845 0.2203115 0.2176219 0.2641524 0.2874990\n",
       " [2619] 0.2762018 0.2741087 0.2874990 0.2742598 0.2733078 0.2741087 0.2641524\n",
       " [2626] 0.2641524 0.2742598 0.2762018 0.2651496 0.2742598 0.2641524 0.2874990\n",
       " [2633] 0.2762018 0.2741087 0.2874990 0.2762018 0.2741087 0.2741087 0.2762018\n",
       " [2640] 0.2641524 0.2732332 0.2697374 0.2741087 0.2641524 0.2641524 0.2641524\n",
       " [2647] 0.2651496 0.2733078 0.2692799 0.2762018 0.2742598 0.2874990 0.2641524\n",
       " [2654] 0.2656002 0.2874990 0.2641524 0.2762018 0.2697374 0.2641524 0.2741087\n",
       " [2661] 0.2741087 0.2742598 0.2743067 0.2733078 0.2733078 0.2762018 0.2741087\n",
       " [2668] 0.2742598 0.2762018 0.2762018 0.2733078 0.2742598 0.2742598 0.2762018\n",
       " [2675] 0.2741087 0.2697374 0.2763055 0.2763055 0.2763055 0.2763055 0.2738384\n",
       " [2682] 0.2732332 0.2789389 0.2741087 0.2732332 0.2920949 0.2742598 0.2741087\n",
       " [2689] 0.2732332 0.2628392 0.2366677 0.2431991 0.2431991 0.2702967 0.2706928\n",
       " [2696] 0.2628392 0.2702967 0.2546635 0.2706928 0.2628392 0.2702967 0.2431991\n",
       " [2703] 0.2702967 0.2431991 0.2330397 0.2702967 0.2628392 0.2706928 0.2628392\n",
       " [2710] 0.2628392 0.2578497 0.2578497 0.2450172 0.2538465 0.2702967 0.2578497\n",
       " [2717] 0.2647028 0.2724764 0.2578497 0.2550580 0.2702967 0.2706928 0.2636473\n",
       " [2724] 0.1943560 0.2314677 0.2226807 0.2221669 0.2852876 0.2335466 0.2570110\n",
       " [2731] 0.2732356 0.2570110 0.2570110 0.2642995 0.2725220 0.2183960 0.2183960\n",
       " [2738] 0.2732356 0.2732356 0.2725220 0.2570110 0.2511529 0.2183960 0.2429103\n",
       " [2745] 0.2429715 0.2668086 0.2790671 0.2790671 0.2429715 0.2506420 0.2145140\n",
       " [2752] 0.2401410 0.2388187 0.2506420 0.2249490 0.2396425 0.2266938 0.2182554\n",
       " [2759] 0.2158177 0.2314199 0.2503587 0.2396425 0.2503587 0.2317304 0.2158177\n",
       " [2766] 0.2317304 0.2396425 0.2396425 0.2317304 0.2317304 0.2354305 0.2317304\n",
       " [2773] 0.2266404 0.2182554 0.2158177 0.2587758 0.2317304 0.2182554 0.2317304\n",
       " [2780] 0.2335928 0.2314199 0.2266404 0.2587758 0.2396425 0.2503587 0.2396425\n",
       " [2787] 0.2510795 0.2317304 0.2503587 0.2150369 0.2314199 0.2354305 0.2158177\n",
       " [2794] 0.2510795 0.2406586 0.2354305 0.2396425 0.2182554 0.2150369 0.2406586\n",
       " [2801] 0.2158177 0.2396425 0.2158177 0.2510795 0.2335928 0.2150369 0.2587758\n",
       " [2808] 0.2503587 0.2510795 0.2510795 0.2182554 0.2236078 0.2511871 0.2226258\n",
       " [2815] 0.2232877 0.2277948 0.2738706 0.2322274 0.2236078 0.2226258 0.2277948\n",
       " [2822] 0.2236078 0.2306701 0.2738706 0.2608396 0.2277948 0.2432215 0.2322274\n",
       " [2829] 0.2232877 0.2511871 0.2541675 0.2236078 0.2306701 0.2511871 0.2306701\n",
       " [2836] 0.2236078 0.2511871 0.2277948 0.2511871 0.2738706 0.2461329 0.2236078\n",
       " [2843] 0.2226258 0.2461329 0.2738706 0.2511871 0.2461329 0.2322274 0.2608396\n",
       " [2850] 0.2226258 0.2232877 0.2677058 0.2511871 0.2511871 0.2226258 0.2738706\n",
       " [2857] 0.2861870 0.2861870 0.2444089 0.2861870 0.2444089 0.2710368 0.2710368\n",
       " [2864] 0.2924881 0.2945420 0.2861870 0.2861870 0.2444089 0.2861870 0.2861870\n",
       " [2871] 0.2548182 0.2548182 0.2752622 0.2444089 0.2444089 0.2861870 0.2570813\n",
       " [2878] 0.2444089 0.2548182 0.2570813 0.2731113 0.2861870 0.2861870 0.2861870\n",
       " [2885] 0.2927950 0.2845029 0.2444089 0.2599639 0.2731113 0.2861870 0.2444089\n",
       " [2892] 0.2444089 0.2710368 0.2945420 0.2599639 0.2653149 0.2861870 0.2731113\n",
       " [2899] 0.2483339 0.2444089 0.2845029 0.2444089 0.2945420 0.2710368 0.2547099\n",
       " [2906] 0.2570813 0.2710368 0.2570813 0.2653149 0.2945420 0.2653149 0.2710368\n",
       " [2913] 0.2519313 0.2707490 0.2671779 0.2519313 0.2243931 0.2519313 0.2621474\n",
       " [2920] 0.2119628 0.2707490 0.2342785 0.2519313 0.2121720 0.2121720 0.2529495\n",
       " [2927] 0.2519313 0.2342785 0.2342785 0.2219393 0.2519313 0.2519313 0.2267558\n",
       " [2934] 0.2519313 0.2621474 0.2621474 0.2219393 0.2519313 0.2519313 0.2621474\n",
       " [2941] 0.2182680 0.2534834 0.2519313 0.2267558 0.2519313 0.2219393 0.2267558\n",
       " [2948] 0.2519313 0.2529495 0.2519313 0.2540958 0.2720442 0.2586842 0.2720442\n",
       " [2955] 0.2820821 0.2540958 0.2720442 0.2444834 0.2423522 0.2687792 0.2423522\n",
       " [2962] 0.2586842 0.2314537 0.2540958 0.2586842 0.2540958 0.2832877 0.2423522\n",
       " [2969] 0.2497939 0.2316659 0.2445418 0.2497939 0.2820821 0.2781992 0.2316659\n",
       " [2976] 0.2720442 0.2534251 0.2586842 0.2820821 0.2534251 0.2464017 0.2720442\n",
       " [2983] 0.2540958 0.2820821 0.2519712 0.2586842 0.2423522 0.2497939 0.2820821\n",
       " [2990] 0.2444834 0.2820821 0.2820821 0.2586842 0.2444834 0.2534251 0.2720442\n",
       " [2997] 0.2586842 0.2463737 0.2540958 0.2534251 0.2360275 0.2461535 0.2632079\n",
       " [3004] 0.2893941 0.2440524 0.2605803 0.2530236 0.2440524 0.2800404 0.2461535\n",
       " [3011] 0.2440524 0.2363403 0.2431124 0.2778243 0.2763657 0.2378604 0.2605803\n",
       " [3018] 0.2362443 0.2800404 0.2605803 0.2632079 0.2763657 0.2632079 0.2632079\n",
       " [3025] 0.2632079 0.2763657 0.2763657 0.2763657 0.2360275 0.2800404 0.2778243\n",
       " [3032] 0.2431124 0.2431124 0.2522426 0.2440524 0.2431124 0.2440524 0.2363403\n",
       " [3039] 0.2632079 0.2632079 0.2605803 0.2360275 0.2763657 0.2763657 0.2378604\n",
       " [3046] 0.2362443 0.2431124 0.2440524 0.2378604 0.2367435 0.2440524 0.2632079\n",
       " [3053] 0.2431124 0.2605803 0.2378604 0.2431124 0.2605803 0.2367435 0.2605803\n",
       " [3060] 0.2431124 0.2431124 0.2360275 0.2971723 0.2571904 0.2853446 0.2528217\n",
       " [3067] 0.2495631 0.2606084 0.2853446 0.2853446 0.2528217 0.2559948 0.2490266\n",
       " [3074] 0.2606084 0.2971723 0.2884756 0.2606084 0.2884756 0.3035688 0.2559795\n",
       " [3081] 0.2758720 0.2971723 0.2758720 0.2606084 0.2853446 0.2884756 0.2971723\n",
       " [3088] 0.2646058 0.2646058 0.2758720 0.2646058 0.2924741 0.2884756 0.2971723\n",
       " [3095] 0.2566538 0.2559948 0.2884756 0.2971723 0.2559948 0.2559948 0.2646058\n",
       " [3102] 0.2495631 0.2646058 0.2884756 0.2559948 0.2758720 0.2559948 0.2646058\n",
       " [3109] 0.2646058 0.2971723 0.2971723 0.2758720 0.2528130 0.2646058 0.2646058\n",
       " [3116] 0.2559795 0.2971723 0.2853446 0.2646058 0.2559795 0.2559948 0.2646058\n",
       " [3123] 0.3035688 0.2606084 0.2646058 0.2559948 0.2853446 0.2571904 0.2450868\n",
       " [3130] 0.2450868 0.2924741 0.2534284 0.2758720 0.2853446 0.2571904 0.2646058\n",
       " [3137] 0.2646058 0.2971723 0.2530530 0.2971723 0.2971723 0.2646058 0.2646058\n",
       " [3144] 0.2495631 0.2929030 0.2646058 0.2559948 0.2971723 0.2971723 0.2450868\n",
       " [3151] 0.2571904 0.2606084 0.2929030 0.2559795 0.2495631 0.2571904 0.2758720\n",
       " [3158] 0.2495631 0.2571904 0.3035688 0.2490266 0.2758720 0.3035688 0.2646058\n",
       " [3165] 0.2559948 0.2450868 0.2559795 0.2530530 0.2971723 0.2530530 0.2528130\n",
       " [3172] 0.2646058 0.2929030 0.2744391 0.2703514 0.2912780 0.2912780 0.2912780\n",
       " [3179] 0.2805827 0.2939482 0.2744391 0.2778647 0.2897166 0.2850014 0.2939482\n",
       " [3186] 0.2805827 0.2918470 0.2897166 0.2912780 0.2807463 0.2897166 0.2912780\n",
       " [3193] 0.2807463 0.2850014 0.2686995 0.2850014 0.2678500 0.2939482 0.2918470\n",
       " [3200] 0.2897166 0.2850014 0.2939482 0.2678500 0.2939482 0.2897166 0.2807463\n",
       " [3207] 0.2850014 0.2931147 0.2805827 0.2805827 0.2850014 0.2805827 0.2805827\n",
       " [3214] 0.2873538 0.2897166 0.2931147 0.2931147 0.2678500 0.2703514 0.2744391\n",
       " [3221] 0.2931147 0.2939482 0.2939482 0.2939482 0.2643342 0.2744391 0.2577543\n",
       " [3228] 0.2744391 0.2931147 0.2805827 0.2744391 0.2807463 0.2912780 0.2939482\n",
       " [3235] 0.2939482 0.2897166 0.2897166 0.2939482 0.2576142 0.2897166 0.2931147\n",
       " [3242] 0.2897166 0.2805827 0.2728566 0.2931147 0.2678500 0.2542923 0.2784841\n",
       " [3249] 0.2559348 0.2821339 0.2663283 0.2521192 0.2616244 0.2521192 0.2616244\n",
       " [3256] 0.2821339 0.2663283 0.2821339 0.2906111 0.2715018 0.2784841 0.2897033\n",
       " [3263] 0.2472261 0.2715018 0.2906111 0.2810159 0.2449373 0.2449373 0.2542923\n",
       " [3270] 0.2449373 0.2821339 0.2521192 0.2663283 0.2663283 0.2449373 0.2472261\n",
       " [3277] 0.2784841 0.2897033 0.2821339 0.2472261 0.2823312 0.2542923 0.2784841\n",
       " [3284] 0.2559348 0.2611861 0.2472261 0.2663283 0.2906111 0.2388072 0.2715018\n",
       " [3291] 0.2663283 0.2616244 0.2906111 0.2906111 0.2610356 0.2821339 0.2715018\n",
       " [3298] 0.2784841 0.2449373 0.2616244 0.2823312 0.2784841 0.2559348 0.2472261\n",
       " [3305] 0.2663283 0.2821339 0.2823312 0.2715018 0.2784841 0.2663283 0.2663283\n",
       " [3312] 0.2539456 0.2559348 0.2663283 0.2521192 0.2449373 0.2821339 0.2784841\n",
       " [3319] 0.2897033 0.2393396 0.2472261 0.2542923 0.2472261 0.2663283 0.2542923\n",
       " [3326] 0.2472261 0.2542923 0.2542923 0.2559348 0.2784841 0.2810159 0.2521192\n",
       " [3333] 0.2663283 0.2449373 0.2449373 0.2663283 0.2784841 0.2542923 0.2663283\n",
       " [3340] 0.2466153 0.2663283 0.2810159 0.2449373 0.2542923 0.2542923 0.2611861\n",
       " [3347] 0.2449373 0.2616244 0.2821339 0.2449373 0.2466153 0.2663283 0.2449373\n",
       " [3354] 0.2559348 0.2542923 0.2449373 0.2821339 0.2521192 0.2542923 0.2472261\n",
       " [3361] 0.2409074 0.2078412 0.1901570 0.2676011 0.2409074 0.2078412 0.2676011\n",
       " [3368] 0.1901570 0.2078412 0.2148565 0.2240016 0.1965390 0.2240016 0.1901570\n",
       " [3375] 0.1965390 0.1901570 0.2547364 0.2547364 0.2148565 0.2409074 0.2078412\n",
       " [3382] 0.2409074 0.2417700 0.2393330 0.2621795 0.2409152 0.2621795 0.2418916\n",
       " [3389] 0.2701016 0.2701016 0.2621795 0.2759470 0.2409152 0.2701016 0.2759470\n",
       " [3396] 0.2701016 0.2612344 0.2606379 0.2701016 0.2629129 0.2880422 0.2612344\n",
       " [3403] 0.2759470 0.2488694 0.2560236 0.2382818 0.2791804 0.2612344 0.2418916\n",
       " [3410] 0.2621795 0.2701016 0.2701016 0.2621795 0.2612344 0.2701016 0.2621795\n",
       " [3417] 0.2701016 0.2701016 0.2791804 0.2621795 0.2621795 0.2701016 0.2621795\n",
       " [3424] 0.2621795 0.2612344 0.2701016 0.2621795 0.2621795 0.2621795 0.2409152\n",
       " [3431] 0.2612344 0.2621795 0.2612344 0.2759470 0.2791804 0.2409152 0.2612344\n",
       " [3438] 0.2759470 0.2759470 0.2612344 0.2409152 0.2701016 0.2621795 0.2612344\n",
       " [3445] 0.2880422 0.2621795 0.2621795 0.2621795 0.2606379 0.2701016 0.2759470\n",
       " [3452] 0.2701016 0.2612344 0.2621795 0.2701016 0.2759470 0.2701016 0.2791804\n",
       " [3459] 0.2418916 0.2701016 0.2701016 0.2759470 0.2701016 0.2560236 0.2606379\n",
       " [3466] 0.2701016 0.2701016 0.2759470 0.2531285 0.2701016 0.2701016 0.2629129\n",
       " [3473] 0.2612344 0.2488694 0.2612344 0.2409152 0.2621795 0.2701016 0.2409152\n",
       " [3480] 0.2418916 0.2759470 0.2701016 0.2562299 0.2701016 0.2701016 0.2621795\n",
       " [3487] 0.2409152 0.2562299 0.2621795 0.2621795 0.2612344 0.2612344 0.2701016\n",
       " [3494] 0.2306686 0.2759470 0.2409152 0.2701016 0.2333445 0.2306686 0.2621795\n",
       " [3501] 0.2759470 0.2701016 0.2531285 0.2302692 0.2612344 0.2759470 0.2701016\n",
       " [3508] 0.2759470 0.2629129 0.2562299 0.2409152 0.2612344 0.2612344 0.2621795\n",
       " [3515] 0.2759470 0.2629129 0.2086891 0.2019034 0.2019034 0.2086891 0.2213661\n",
       " [3522] 0.2213661 0.2570970 0.2019034 0.2213661 0.2810118 0.2651340 0.2213661\n",
       " [3529] 0.2027997 0.2213661 0.2019034 0.2019034 0.2410850 0.2019034 0.2810118\n",
       " [3536] 0.2213661 0.2410850 0.2272226 0.2086891 0.2651340 0.2651340 0.2019034\n",
       " [3543] 0.2213661 0.2410850 0.2651340 0.2086891 0.2366930 0.2213661 0.2019034\n",
       " [3550] 0.2213661 0.2272226 0.2019034 0.2371612 0.2651340 0.2272226 0.2213661\n",
       " [3557] 0.2019034 0.2213661 0.2019034 0.2810118 0.2272226 0.2366930 0.2213661\n",
       " [3564] 0.2651340 0.2031852 0.2213661 0.2410850 0.2019034 0.2213661 0.2249232\n",
       " [3571] 0.2651340 0.2736825 0.2651340 0.2213661 0.2249232 0.2410850 0.2810118\n",
       " [3578] 0.2366930 0.2371612 0.2293134 0.2410850 0.2810118 0.2086891 0.2651340\n",
       " [3585] 0.2019034 0.2019034 0.2272226 0.2019034 0.2810118 0.2570970 0.2019034\n",
       " [3592] 0.2782164 0.2736825 0.2410850 0.2213661 0.2249232 0.2366930 0.2019034\n",
       " [3599] 0.2272226 0.2410850 0.2410850 0.2019034 0.2019034 0.2213661 0.2019034\n",
       " [3606] 0.2272226 0.2086891 0.2213661 0.2213661 0.2570970 0.2410850 0.2213661\n",
       " [3613] 0.2736825 0.2019034 0.2019034 0.2410850 0.2019034 0.2086891 0.2019034\n",
       " [3620] 0.2213661 0.2570970 0.2213661 0.2570970 0.2213661 0.2651340 0.2213661\n",
       " [3627] 0.2213661 0.2272226 0.2592374 0.2285777 0.2626718 0.2470414 0.2614250\n",
       " [3634] 0.2592374 0.2498457 0.2258558 0.2258558 0.2749353 0.2470414 0.2463854\n",
       " [3641] 0.2592374 0.2523671 0.2498457 0.2390866 0.2390866 0.2626718 0.2626718\n",
       " [3648] 0.2390866 0.2626718 0.2286719 0.2390866 0.2236249 0.2258558 0.2463854\n",
       " [3655] 0.2236249 0.2258558 0.2390866 0.2202682 0.2498457 0.2286719 0.2285777\n",
       " [3662] 0.2390866 0.2626718 0.2626718 0.2286719 0.2470414 0.2592374 0.2560892\n",
       " [3669] 0.2470414 0.2258558 0.2560892 0.2285777 0.2390866 0.2592374 0.2349436\n",
       " [3676] 0.2285777 0.2498457 0.2285777 0.2285777 0.2498457 0.2390866 0.2390866\n",
       " [3683] 0.2498457 0.2258558 0.2498457 0.2390866 0.2614250 0.2498457 0.2614250\n",
       " [3690] 0.2498457 0.2258558 0.2498457 0.2670872 0.2285777 0.2498457 0.2258558\n",
       " [3697] 0.2258558 0.2289567 0.2470414 0.2258558 0.2470414 0.2670872 0.2258558\n",
       " [3704] 0.2470414 0.2390866 0.2258558 0.2285777 0.2523671 0.2236249 0.2258558\n",
       " [3711] 0.2470414 0.2592374 0.2236249 0.2723269 0.2523671 0.2470414 0.2626718\n",
       " [3718] 0.2390866 0.2285777 0.2258558 0.2258558 0.2390866 0.2749353 0.2614250\n",
       " [3725] 0.2289567 0.2470414 0.2285777 0.2434774 0.2470414 0.2560892 0.2470414\n",
       " [3732] 0.2285777 0.2390866 0.2523671 0.2498457 0.2258558 0.2286719 0.2498457\n",
       " [3739] 0.2592374 0.2258558 0.2258558 0.2723269 0.2523671 0.2498457 0.2592374\n",
       " [3746] 0.2614250 0.2286719 0.2560892 0.2258558 0.2285777 0.2434774 0.2258558\n",
       " [3753] 0.2202682 0.2434774 0.2614250 0.2626718 0.2390866 0.2258558 0.2749353\n",
       " [3760] 0.2749353 0.2498457 0.2470414 0.2390866 0.2285777 0.2626718 0.2498457\n",
       " [3767] 0.2286719 0.2258558 0.2200356 0.2498457 0.2470414 0.2592374 0.2614250\n",
       " [3774] 0.2723269 0.2626718 0.2614250 0.2434774 0.2390866 0.2723269 0.2626718\n",
       " [3781] 0.2390866 0.2626718 0.2560892 0.2670872 0.2463854 0.2670872 0.2390866\n",
       " [3788] 0.2626718 0.2258558 0.2258558 0.2498457 0.2390866 0.2626718 0.2390866\n",
       " [3795] 0.2470414 0.2258558 0.2470414 0.2390866 0.2470414 0.2390866 0.2470414\n",
       " [3802] 0.2498457 0.2626718 0.2592374 0.3024176 0.2867763 0.2867763 0.3024176\n",
       " [3809] 0.2867763 0.2768225 0.3008368 0.3050657 0.2768225 0.3024176 0.3043146\n",
       " [3816] 0.2867763 0.2768225 0.2729464 0.2768225 0.3050657 0.2768225 0.3043146\n",
       " [3823] 0.2867763 0.3043146 0.3158066 0.3050657 0.2867763 0.2808885 0.2768225\n",
       " [3830] 0.3043146 0.3050657 0.2729464 0.2808885 0.2867763 0.3050657 0.2768225\n",
       " [3837] 0.3158066 0.3043146 0.2768225 0.3043146 0.2867763 0.2648880 0.3050657\n",
       " [3844] 0.2862064 0.2867763 0.2867763 0.3050657 0.3050657 0.2808885 0.3043146\n",
       " [3851] 0.3050657 0.2808885 0.3043146 0.3122920 0.2721275 0.3050657 0.2867763\n",
       " [3858] 0.2692062 0.3024176 0.3154462 0.3050657 0.3024176 0.3008368 0.2711582\n",
       " [3865] 0.2808885 0.2711582 0.3008368 0.2768225 0.2721275 0.3008368 0.3008368\n",
       " [3872] 0.2808885 0.2711582 0.2785025 0.2867763 0.3008368 0.3122920 0.2768225\n",
       " [3879] 0.3008368 0.2768225 0.3141342 0.3158066 0.2808885 0.3008368 0.2862064\n",
       " [3886] 0.2808885 0.3050657 0.3024176 0.2867763 0.2808885 0.3141342 0.2862064\n",
       " [3893] 0.3122920 0.3141342 0.2862064 0.3122920 0.3141342 0.3024176 0.2808885\n",
       " [3900] 0.3024176 0.3050657 0.2768225 0.2862064 0.2768225 0.2867763 0.2768225\n",
       " [3907] 0.2867763 0.3141342 0.3141342 0.2768225 0.2862064 0.2721275 0.2862064\n",
       " [3914] 0.2808885 0.3024176 0.3122920 0.2729464 0.2768225 0.3024176 0.3050657\n",
       " [3921] 0.3158066 0.3154462 0.3008368 0.3043146 0.3008368 0.3050657 0.3122920\n",
       " [3928] 0.2692062 0.2768225 0.3043146 0.2867763 0.3043146 0.3122920 0.3043146\n",
       " [3935] 0.3008368 0.2867763 0.3008368 0.3024176 0.3043146 0.3050657 0.3141342\n",
       " [3942] 0.3158066 0.3008368 0.2729464 0.3043146 0.2648880 0.2867763 0.2729464\n",
       " [3949] 0.3154462 0.3043146 0.2862064 0.2768225 0.3122920 0.3043146 0.2862064\n",
       " [3956] 0.3141342 0.2867763 0.2862064 0.2808885 0.2729464 0.3024176 0.2729464\n",
       " [3963] 0.2785025 0.3043146 0.2768225 0.3043146 0.2867763 0.3024176 0.2867763\n",
       " [3970] 0.3050657 0.3043146 0.2808885 0.3050657 0.3043146 0.2862064 0.3141342\n",
       " [3977] 0.3043146 0.3024176 0.3050657 0.3043146 0.2862064 0.3008368 0.3122920\n",
       " [3984] 0.2808885 0.2867763 0.2862064 0.3024176 0.2867763 0.2867763 0.2862064\n",
       " [3991] 0.3043146 0.2486989 0.2228865 0.2486989 0.2485590 0.2491168 0.2704977\n",
       " [3998] 0.2468020 0.2485590 0.2486989 0.2704977 0.2642554 0.2468020 0.2403353\n",
       " [4005] 0.2486989 0.2468020 0.2468020 0.2779778 0.2486989 0.2704977 0.2454109\n",
       " [4012] 0.2704977 0.2486989 0.2468020 0.2301325 0.2275265 0.2684160 0.2485590\n",
       " [4019] 0.2617743 0.2454109 0.2735500 0.2444755 0.2486989 0.2301325 0.2468020\n",
       " [4026] 0.2704977 0.2486989 0.2468020 0.2486989 0.2486989 0.2454109 0.2301325\n",
       " [4033] 0.2447281 0.2454109 0.2486989 0.2468020 0.2617743 0.2454109 0.2468020\n",
       " [4040] 0.2684160 0.2447281 0.2454109 0.2779778 0.2486989 0.2301325 0.2704977\n",
       " [4047] 0.2642554 0.2684160 0.2382825 0.2403353 0.2301325 0.2486989 0.2704977\n",
       " [4054] 0.2704977 0.2704977 0.2468020 0.2403353 0.2704977 0.2486989 0.2454109\n",
       " [4061] 0.2617743 0.2403353 0.2779778 0.2491168 0.2802008 0.2486989 0.2486989\n",
       " [4068] 0.2486989 0.2684160 0.2454109 0.2356675 0.2704977 0.2485590 0.2491168\n",
       " [4075] 0.2468020 0.2225946 0.2486989 0.2485590 0.2617743 0.2468020 0.2485590\n",
       " [4082] 0.2486989 0.2735500 0.2617743 0.2468020 0.2617743 0.2486989 0.2468020\n",
       " [4089] 0.2704977 0.2491168 0.2704977 0.2485590 0.2704977 0.2491168 0.2403353\n",
       " [4096] 0.2301325 0.2454109 0.2704977 0.2684160 0.2617743 0.2617743 0.2486989\n",
       " [4103] 0.2617743 0.2491168 0.2486989 0.2403353 0.2301325 0.2447281 0.2447281\n",
       " [4110] 0.2486989 0.2468020 0.2486989 0.2468020 0.2485590 0.2403353 0.2454109\n",
       " [4117] 0.2704977 0.2403353 0.2491168 0.2486989 0.2704977 0.2779778 0.2228865\n",
       " [4124] 0.2447281 0.2617743 0.2356675 0.2735500 0.2403353 0.2468020 0.2468020\n",
       " [4131] 0.2454109 0.2301325 0.2704977 0.2617743 0.2617743 0.2485590 0.2356675\n",
       " [4138] 0.2485590 0.2454109 0.2684160 0.2382825 0.2704977 0.2382825 0.2403353\n",
       " [4145] 0.2468020 0.2468020 0.2704977 0.2468020 0.2468020 0.2617743 0.2486989\n",
       " [4152] 0.2684160 0.2800478 0.2802864 0.2503008 0.2800478 0.2800478 0.2476891\n",
       " [4159] 0.2555281 0.2604888 0.2503008 0.2533961 0.2618199 0.2588341 0.2709208\n",
       " [4166] 0.2800478 0.2555281 0.2800478 0.2604888 0.2555281 0.2466226 0.2709208\n",
       " [4173] 0.2800478 0.2675049 0.2555281 0.2533961 0.2433124 0.1756274 0.1756274\n",
       " [4180] 0.1953618 0.1797691 0.1756274 0.1756274 0.2100991 0.2291868 0.1994926\n",
       " [4187] 0.2229039 0.1994926 0.1756274 0.1756274 0.1756274 0.2479258 0.2291868\n",
       " [4194] 0.2291868 0.1756274 0.1977717 0.1756274 0.1756274 0.1797691 0.1960407\n",
       " [4201] 0.1775815 0.1994926 0.1797691 0.1756274 0.1994926 0.2291868 0.1775815\n",
       " [4208] 0.2664590 0.2664590 0.2664590 0.2680300 0.2610507 0.2590442 0.2420450\n",
       " [4215] 0.2420450 0.2703999 0.2420450 0.2607941 0.2680300 0.2432679 0.2680300\n",
       " [4222] 0.2607941 0.2820637 0.2432679 0.2680300 0.2775751 0.2775751 0.2680300\n",
       " [4229] 0.2703999 0.2432679 0.2769707 0.2420450 0.2664590 0.2432679 0.2432679\n",
       " [4236] 0.2680300 0.2704490 0.2307371 0.2432679 0.2420450 0.2820637 0.2607941\n",
       " [4243] 0.2664590 0.2590442 0.2680300 0.2680300 0.2432679 0.2420450 0.2664590\n",
       " [4250] 0.2664381 0.2420450 0.2664590 0.2782639 0.2680300 0.2432679 0.2775751\n",
       " [4257] 0.2664381 0.2664590 0.2782639 0.2704490 0.2704490 0.2680300 0.2704490\n",
       " [4264] 0.2704490 0.2703999 0.2590442 0.2664590 0.2420450 0.2590442 0.2590442\n",
       " [4271] 0.2664590 0.2420450 0.2782639 0.2664590 0.2590442 0.2420450 0.2432679\n",
       " [4278] 0.2704490 0.2432679 0.2744366 0.2782639 0.2590442 0.2775751 0.2329676\n",
       " [4285] 0.2680300 0.2664590 0.2664590 0.2680300 0.2704490 0.2664590 0.2432679\n",
       " [4292] 0.2782639 0.2680300 0.2432679 0.2420450 0.2275558 0.2469831 0.2274139\n",
       " [4299] 0.2370168 0.2703999 0.2680300 0.2703999 0.2420450 0.2664590 0.2782639\n",
       " [4306] 0.2703999 0.2782639 0.2664590 0.2782639 0.2590442 0.2703999 0.2704490\n",
       " [4313] 0.2703999 0.2664590 0.2307371 0.2432679 0.2420450 0.2704490 0.2782639\n",
       " [4320] 0.2664590 0.2432679 0.2307371 0.2744366 0.2704490 0.2275558 0.2432679\n",
       " [4327] 0.2420450 0.2370168 0.2420450 0.2420450 0.2680300 0.2782639 0.2782639\n",
       " [4334] 0.2432679 0.2664590 0.2744366 0.2518533 0.2432679 0.2664590 0.2432679\n",
       " [4341] 0.2664590 0.2590442 0.2590442 0.2664590 0.2420450 0.2704490 0.2782639\n",
       " [4348] 0.2680300 0.2680300 0.2703999 0.2703999 0.2432679 0.2420450 0.2432679\n",
       " [4355] 0.2680300 0.2664590 0.2370168 0.2680300 0.2680300 0.2782639 0.2420450\n",
       " [4362] 0.2432679 0.2680300 0.2680300 0.2307371 0.2704490 0.2518533 0.2975870\n",
       " [4369] 0.2613327 0.2796443 0.2643633 0.2496519 0.2620844 0.2598112 0.2643633\n",
       " [4376] 0.2620844 0.2975870 0.2796443 0.2796443 0.2643633 0.2643633 0.2426075\n",
       " [4383] 0.2601522 0.2523970 0.2796443 0.2595503 0.2620844 0.2496519 0.2796443\n",
       " [4390] 0.2796443 0.2643633 0.2496519 0.2426075 0.2620844 0.2796443 0.2620844\n",
       " [4397] 0.2426075 0.2496519 0.2598112 0.2566672 0.2569764 0.2566672 0.2426075\n",
       " [4404] 0.2621322 0.2620844 0.2496519 0.2598112 0.2496519 0.2496519 0.2620844\n",
       " [4411] 0.2620844 0.2566672 0.2496519 0.2796443 0.2566672 0.2426075 0.2838177\n",
       " [4418] 0.2613327 0.2975870 0.2796443 0.2496519 0.2601522 0.2496519 0.2569764\n",
       " [4425] 0.2613327 0.2613327 0.2496519 0.2569764 0.2975870 0.2975870 0.2613327\n",
       " [4432] 0.2796443 0.2566672 0.2566672 0.2496519 0.2639684 0.2426075 0.2426075\n",
       " [4439] 0.2643633 0.3070512 0.3077351 0.2977230 0.2891617 0.3092266 0.3083040\n",
       " [4446] 0.3071281 0.2758759 0.3092266 0.2977230 0.2913515 0.3067875 0.3077351\n",
       " [4453] 0.2891617 0.2913515 0.3070512 0.3070512 0.2891617 0.2876484 0.2891617\n",
       " [4460] 0.2957177 0.2977230 0.3070512 0.3083040 0.2964789 0.3077351 0.2891617\n",
       " [4467] 0.3083040 0.2895968 0.3070512 0.2891617 0.2805039 0.3070512 0.2977230\n",
       " [4474] 0.3092266 0.3083040 0.3092266 0.2876484 0.2977230 0.3092266 0.2913515\n",
       " [4481] 0.3083040 0.2964789 0.2957177 0.2891617 0.3083040 0.3033920 0.2957177\n",
       " [4488] 0.3083040 0.3092266 0.3077351 0.2913515 0.2891617 0.3077351 0.2977230\n",
       " [4495] 0.2964789 0.3092266 0.3092266 0.3083040 0.2891617 0.3092266 0.2957177\n",
       " [4502] 0.2805039 0.2891617 0.3092266 0.3077351 0.3083040 0.3077351 0.3077351\n",
       " [4509] 0.2913515 0.3067875 0.3077351 0.2977230 0.2913515 0.3077351 0.3077351\n",
       " [4516] 0.2964789 0.2957177 0.2968765 0.3083040 0.2968765 0.2913515 0.3077351\n",
       " [4523] 0.2913515 0.3092266 0.2913515 0.2913515 0.3092266 0.3092266 0.2964789\n",
       " [4530] 0.2964789 0.3092266 0.2913515 0.2891617 0.3077351 0.2758759 0.3070512\n",
       " [4537] 0.3092266 0.3083040 0.3083040 0.2964789 0.2805039 0.3077351 0.2913515\n",
       " [4544] 0.3070512 0.3092266 0.2913515 0.2957177 0.3077351 0.3077351 0.2891617\n",
       " [4551] 0.3077351 0.2891617 0.2977230 0.3092266 0.2913515 0.3092266 0.2964789\n",
       " [4558] 0.3070512 0.2891617 0.3077351 0.2891617 0.2891617 0.2913515 0.2913515\n",
       " [4565] 0.3077351 0.2651933 0.2371700 0.2397686 0.2371700 0.2615619 0.2386349\n",
       " [4572] 0.2377512 0.2670861 0.2362334 0.2809047 0.2314951 0.2362334 0.2420987\n",
       " [4579] 0.2195657 0.2371700 0.2397686 0.2420987 0.2790136 0.2790136 0.2221880\n",
       " [4586] 0.2362334 0.2670861 0.2397686 0.2386349 0.2420987 0.2651933 0.2362334\n",
       " [4593] 0.2726924 0.2386349 0.2310998 0.2371700 0.2670861 0.2221880 0.2221880\n",
       " [4600] 0.2670861 0.2790136 0.2195657 0.2533276 0.2371700 0.2371700 0.2377512\n",
       " [4607] 0.2195657 0.2371700 0.2533276 0.2362334 0.2809047 0.2221880 0.2386349\n",
       " [4614] 0.2377512 0.2221880 0.2221880 0.2371700 0.2310998 0.2420987 0.2195657\n",
       " [4621] 0.2670861 0.2221880 0.2362334 0.2195657 0.2397686 0.2670861 0.2726924\n",
       " [4628] 0.2386349 0.2371700 0.2386349 0.2154103 0.2670861 0.2339060 0.2809047\n",
       " [4635] 0.2533276 0.2371700 0.2651933 0.2790136 0.2651933 0.2371700 0.2533276\n",
       " [4642] 0.2154103 0.2397686 0.2420987 0.2377512 0.2533276 0.2371700 0.2371700\n",
       " [4649] 0.2533276 0.2362334 0.2809047 0.2386349 0.2790136 0.2533276 0.2670861\n",
       " [4656] 0.2386349 0.2377512 0.2221880 0.2221880 0.2397686 0.2371700 0.2790136\n",
       " [4663] 0.2420987 0.2221880 0.2533276 0.2397686 0.2154103 0.2670861 0.2310998\n",
       " [4670] 0.2420987 0.2651933 0.2371700 0.2420987 0.2397686 0.2533276 0.2386349\n",
       " [4677] 0.2343963 0.2533276 0.2397686 0.2154103 0.2397686 0.2397686 0.2386349\n",
       " [4684] 0.2670861 0.2386349 0.2651933 0.2397686 0.2790136 0.2310998 0.2651933\n",
       " [4691] 0.2195657 0.2651933 0.2221880 0.2377512 0.2397686 0.2386349 0.2394340\n",
       " [4698] 0.2900445 0.2795220 0.2795220 0.2911832 0.2469101 0.2911832 0.2823142\n",
       " [4705] 0.2823142 0.2911832 0.2456496 0.3120526 0.2445904 0.3074814 0.2456565\n",
       " [4712] 0.2424809 0.2456496 0.2456496 0.2424809 0.2456496 0.2456565 0.2795220\n",
       " [4719] 0.2438884 0.2911832 0.2823142 0.2795220 0.2456496 0.2795220 0.2469101\n",
       " [4726] 0.2752601 0.2568274 0.2707084 0.2665893 0.2603016 0.2462542 0.2846481\n",
       " [4733] 0.2551386 0.2792063 0.2774790 0.2551386 0.2427269 0.2665893 0.2671556\n",
       " [4740] 0.2752601 0.2752601 0.2748444 0.2792063 0.2707084 0.2753324 0.2846481\n",
       " [4747] 0.2707084 0.2707084 0.2774790 0.2792063 0.2846481 0.2388886 0.2671556\n",
       " [4754] 0.2427269 0.2568274 0.2757543 0.2707084 0.2757543 0.2707084 0.2671556\n",
       " [4761] 0.2792063 0.2551386 0.2774790 0.2568274 0.2774790 0.2568274 0.2568274\n",
       " [4768] 0.2846481 0.2792063 0.2792063 0.2748444 0.2748444 0.2665893 0.2664335\n",
       " [4775] 0.2568274 0.2603016 0.2774790 0.2757543 0.2753324 0.2792063 0.2671556\n",
       " [4782] 0.2427269 0.2756097 0.2792063 0.2752601 0.2388886 0.2753324 0.2812049\n",
       " [4789] 0.2812049 0.2757543 0.2792063 0.2752601 0.2774790 0.2752601 0.2671556\n",
       " [4796] 0.2671556 0.2671556 0.2792063 0.2707084 0.2774790 0.2753324 0.2427269\n",
       " [4803] 0.2748444 0.2757543 0.2748444 0.2665893 0.2774790 0.2792063 0.2757543\n",
       " [4810] 0.2671556 0.2748444 0.2774790 0.2792063 0.2792063 0.2757543 0.2568274\n",
       " [4817] 0.2748444 0.2707084 0.2752601 0.2752601 0.2774790 0.2792063 0.2392063\n",
       " [4824] 0.2792063 0.2812049 0.2707084 0.2665349 0.2665893 0.2792063 0.2757543\n",
       " [4831] 0.2752601 0.2671556 0.2603923 0.2753324 0.2792063 0.2757543 0.2753324\n",
       " [4838] 0.2752601 0.2748444 0.2752601 0.2551386 0.2774790 0.2756097 0.2671556\n",
       " [4845] 0.2480766 0.2752601 0.2792063 0.2753324 0.2748444 0.2752601 0.2707084\n",
       " [4852] 0.2665349 0.2812049 0.2792063 0.2753324 0.2792063 0.2757543 0.2753324\n",
       " [4859] 0.2753324 0.2671556 0.2792063 0.2671556 0.2792063 0.2671556 0.2753324\n",
       " [4866] 0.2748444 0.2757543 0.2665349 0.2792063 0.2707084 0.2568274 0.2748444\n",
       " [4873] 0.2757543 0.2757543 0.2753324 0.2792063 0.2812049 0.2753324 0.2568274\n",
       " [4880] 0.2752601 0.2603923 0.2427269 0.2551386 0.2707084 0.2752601 0.2792063\n",
       " [4887] 0.2792063 0.2812049 0.2671556 0.2757543 0.2480766 0.2846481 0.2792063\n",
       " [4894] 0.2551386 0.2792063 0.2753324 0.2568274 0.2671556 0.2757543 0.2774790\n",
       " [4901] 0.2792063 0.2792063 0.2748444 0.2792063 0.2753324 0.2757543 0.2665893\n",
       " [4908] 0.2752601 0.2392063 0.2792063 0.2665893 0.2748444 0.2752601 0.2752601\n",
       " [4915] 0.2752601 0.2752601 0.2812049 0.2753324 0.2671556 0.2792063 0.2774790\n",
       " [4922] 0.2757543 0.2665893 0.2757543 0.2753324 0.2757543 0.2752601 0.2671556\n",
       " [4929] 0.2748444 0.2753324 0.2757543 0.2665349 0.2568274 0.2752601 0.2551386\n",
       " [4936] 0.2665893 0.2748444 0.2753324 0.2753324 0.2753324 0.2756097 0.2671556\n",
       " [4943] 0.2480766 0.2753324 0.3056324 0.2786101 0.2701755 0.2606355 0.2786101\n",
       " [4950] 0.2877475 0.3225992 0.2786101 0.2812955 0.2877475 0.3056324 0.2812955\n",
       " [4957] 0.3202898 0.3079410 0.3056324 0.2786101 0.2687100 0.2701755 0.2701755\n",
       " [4964] 0.2687100 0.3210223 0.3056324 0.3210223 0.3129879 0.3079410 0.2548914\n",
       " [4971] 0.3056324 0.3056324 0.3056324 0.3250348 0.3129879 0.2786101 0.3202898\n",
       " [4978] 0.2701755 0.3210223 0.3079410 0.2812955 0.3079410 0.3135075 0.3079410\n",
       " [4985] 0.3079410 0.3079410 0.2647407 0.2786101 0.3210223 0.2701755 0.3135075\n",
       " [4992] 0.2786101 0.3129879 0.3056324 0.3056324 0.2701755 0.2701755 0.2606355\n",
       " [4999] 0.2877475 0.2786101 0.2701755 0.2812955 0.3003665 0.2878448 0.3003665\n",
       " [5006] 0.2878448 0.3036285 0.2801625 0.3072151 0.3003665 0.2853912 0.3158354\n",
       " [5013] 0.3003295 0.3158354 0.3063418 0.2854591 0.2905489 0.2890212 0.3063418\n",
       " [5020] 0.3158354 0.2782151 0.2841414 0.2840622 0.2752658 0.3158354 0.3063418\n",
       " [5027] 0.3158354 0.2752658 0.2841414 0.3063418 0.3003665 0.2840622 0.2878448\n",
       " [5034] 0.3072151 0.2752658 0.2752658 0.2890212 0.2905489 0.3003665 0.2801625\n",
       " [5041] 0.2840622 0.2722294 0.2752658 0.3003665 0.2840622 0.2890212 0.3051262\n",
       " [5048] 0.3063418 0.2878448 0.2854591 0.2878448 0.2890212 0.3003665 0.2854591\n",
       " [5055] 0.2752658 0.3003665 0.2853912 0.3063418 0.3003665 0.3072151 0.2752658\n",
       " [5062] 0.3158354 0.3063418 0.2854591 0.2929599 0.3003665 0.2719819 0.3051262\n",
       " [5069] 0.3072151 0.2878448 0.3003295 0.2752658 0.2890212 0.3003665 0.3063418\n",
       " [5076] 0.3072151 0.2854591 0.2752658 0.3003665 0.3072151 0.2840622 0.3003665\n",
       " [5083] 0.2890212 0.3003665 0.2890212 0.2890212 0.3072151 0.2890212 0.2851613\n",
       " [5090] 0.3003665 0.3072151 0.3072151 0.2878448 0.2838768 0.2854591 0.3158354\n",
       " [5097] 0.2752658 0.3003665 0.3003665 0.2854591 0.2890212 0.2878448 0.2905489\n",
       " [5104] 0.2890212 0.2890212 0.2905489 0.2890212 0.3063418 0.2752658 0.3063418\n",
       " [5111] 0.2854591 0.3158354 0.2878448 0.2878448 0.2890212 0.3158354 0.2854591\n",
       " [5118] 0.2929599 0.2878448 0.3158354 0.2801625 0.3003665 0.3003665 0.3063418\n",
       " [5125] 0.2890212 0.3072151 0.3063418 0.3003665 0.2878448 0.2890212 0.3003665\n",
       " [5132] 0.2722294 0.2890212 0.2854591 0.3072151 0.3158354 0.2929599 0.2878448\n",
       " [5139] 0.2854591 0.3104856 0.2719819 0.3003665 0.2890212 0.2905489 0.2801625\n",
       " [5146] 0.2878448 0.3003665 0.3003295 0.3072151 0.2929599 0.2784978 0.2752658\n",
       " [5153] 0.3036285 0.2719819 0.2752658 0.2878448 0.2752658 0.2890212 0.3158354\n",
       " [5160] 0.3158354 0.3063418 0.2878448 0.2752658 0.2878448 0.3072151 0.2890212\n",
       " [5167] 0.2801625 0.2752658 0.3104856 0.3072151 0.3072151 0.2838768 0.3072151\n",
       " [5174] 0.3072151 0.3003665 0.2752658 0.3003665 0.2878448 0.3036285 0.3072151\n",
       " [5181] 0.3072151 0.2854591 0.3072151 0.2854591 0.2752658 0.3063418 0.2878448\n",
       " [5188] 0.2752658 0.3072151 0.2890212 0.2752658 0.2890212 0.2840622 0.3072151\n",
       " [5195] 0.3003665 0.2890212 0.2752658 0.2905489 0.2854591 0.3104856 0.3104856\n",
       " [5202] 0.3003665 0.3072151 0.2838768 0.2854591 0.2752658 0.3158354 0.2841414\n",
       " [5209] 0.2752658 0.2801625 0.2854591 0.3158354 0.2801625 0.3104856 0.3036285\n",
       " [5216] 0.3158354 0.3051262 0.3158354 0.3158354 0.2752658 0.2752658 0.3158354\n",
       " [5223] 0.2854591 0.3104856 0.2890212 0.3158354 0.2854591 0.2752658 0.2854591\n",
       " [5230] 0.2905489 0.2890212 0.2905489 0.3158354 0.2854591 0.2854591 0.2752658\n",
       " [5237] 0.2905489 0.2784978 0.2722294 0.3158354 0.3158354 0.2752658 0.3063418\n",
       " [5244] 0.3003665 0.3063418 0.3158354 0.3063418 0.2752658 0.2854591 0.2752658\n",
       " [5251] 0.2801625 0.2905489 0.3158354 0.3072151 0.3072151 0.2929599 0.2854591\n",
       " [5258] 0.2840622 0.2752658 0.2752658 0.2890212 0.3063418 0.2801625 0.2840622\n",
       " [5265] 0.3063418 0.2854591 0.2905489 0.2752658 0.3158354 0.2719819 0.2854591\n",
       " [5272] 0.2854591 0.2854591 0.2890212 0.3036285 0.3063418 0.3003665 0.2890212\n",
       " [5279] 0.3003665 0.3158354 0.3003665 0.2878448 0.2801625 0.2890212 0.3063418\n",
       " [5286] 0.2752658 0.2854591 0.3063418 0.3036285 0.3104856 0.2752658 0.3158354\n",
       " [5293] 0.3072151 0.2840622 0.2752658 0.3003665 0.2854591 0.3072151 0.2722294\n",
       " [5300] 0.3003665 0.3063418 0.2878448 0.2905489 0.3003665 0.2752658 0.3158354\n",
       " [5307] 0.2890212 0.2752658 0.2890212 0.2878448 0.3063418 0.2722294 0.3051262\n",
       " [5314] 0.2890212 0.3158354 0.3051262 0.2890212 0.3036285 0.3158354 0.2752658\n",
       " [5321] 0.2752658 0.3104856 0.2878448 0.2890212 0.3003665 0.3003665 0.3072151\n",
       " [5328] 0.2801625 0.3063418 0.2752658 0.2854591 0.2878448 0.3158354 0.2878448\n",
       " [5335] 0.3072151 0.2746945 0.2475355 0.2729161 0.2443344 0.2536479 0.2729161\n",
       " [5342] 0.2918463 0.2918463 0.2537511 0.2537511 0.2519754 0.2419540 0.2746945\n",
       " [5349] 0.2537511 0.2465224 0.2982396 0.2729161 0.2475355 0.2465224 0.2746945\n",
       " [5356] 0.2359629 0.2537511 0.2536479 0.2419540 0.2443344 0.2536479 0.2354321\n",
       " [5363] 0.2536479 0.2354321 0.2915183 0.2918463 0.2827946 0.2537511 0.2537511\n",
       " [5370] 0.2419540 0.2918463 0.2443344 0.2915183 0.2915183 0.2729161 0.2419540\n",
       " [5377] 0.2465224 0.2475355 0.3020955 0.2443344 0.2746945 0.2840766 0.2918463\n",
       " [5384] 0.2475355 0.2918463 0.2465224 0.2442154 0.3020955 0.2536479 0.2729161\n",
       " [5391] 0.2465224 0.2746945 0.2746945 0.2419540 0.2536479 0.2729161 0.2918463\n",
       " [5398] 0.2465224 0.2536479 0.2918463 0.2746945 0.2915183 0.2915183 0.2729161\n",
       " [5405] 0.2465224 0.2465224 0.2475355 0.2419540 0.2729161 0.2915183 0.2536479\n",
       " [5412] 0.2417189 0.2417731 0.2467028 0.2354355 0.2472654 0.2760467 0.2417189\n",
       " [5419] 0.2446505 0.2689120 0.2376698 0.2490854 0.2717761 0.2446505 0.2595445\n",
       " [5426] 0.2246643 0.2595445 0.2689120 0.2246643 0.2414623 0.2352649 0.2472654\n",
       " [5433] 0.2607621 0.2246643 0.2760467 0.2760467 0.2446505 0.2446505 0.2490854\n",
       " [5440] 0.2414623 0.2246643 0.2490854 0.2414623 0.2467028 0.2595445 0.2472654\n",
       " [5447] 0.2400927 0.2632931 0.2626623 0.2354347 0.2564807 0.2626623 0.2626623\n",
       " [5454] 0.2677547 0.2288790 0.2409551 0.2598617 0.2288790 0.2598617 0.2598617\n",
       " [5461] 0.2743396 0.2552861 0.2502285 0.2626623 0.2580611 0.2677547 0.2626623\n",
       " [5468] 0.2409551 0.2707883 0.2677547 0.2632931 0.2552861 0.2564807 0.2354347\n",
       " [5475] 0.2552861 0.2626623 0.2677547 0.2743396 0.2598617 0.2743396 0.2542313\n",
       " [5482] 0.2502285 0.2632931 0.2677547 0.2626623 0.2450951 0.2502285 0.2743396\n",
       " [5489] 0.2743396 0.2707883 0.2743396 0.2626623 0.2626623 0.2677547 0.2677547\n",
       " [5496] 0.2626623 0.2598617 0.2707883 0.2743396 0.2598617 0.2677547 0.2743396\n",
       " [5503] 0.2626623 0.2661440 0.2677547 0.2743396 0.2707883 0.2661440 0.2598617\n",
       " [5510] 0.2677547 0.2743396 0.2354347 0.2472084 0.2409551 0.2598617 0.2598617\n",
       " [5517] 0.2248296 0.2598617 0.2580611 0.2677547 0.2598617 0.2626623 0.2354347\n",
       " [5524] 0.2314656 0.2564807 0.2564807 0.2743396 0.2626623 0.2707883 0.2626623\n",
       " [5531] 0.2743396 0.2502285 0.2598617 0.2743396 0.2552861 0.2248296 0.2626623\n",
       " [5538] 0.2598617 0.2502285 0.2314656 0.2502285 0.2354347 0.2219007 0.2743396\n",
       " [5545] 0.2564807 0.2552861 0.2288790 0.2598617 0.2450951 0.2632931 0.2677547\n",
       " [5552] 0.2677547 0.2288790 0.2552861 0.2564807 0.2564807 0.2409551 0.2502285\n",
       " [5559] 0.2677547 0.2743396 0.2626623 0.2598617 0.2564807 0.2626623 0.2354347\n",
       " [5566] 0.2564807 0.2677547 0.2564807 0.2354347 0.2598617 0.2598617 0.2502285\n",
       " [5573] 0.2626623 0.2354347 0.2632931 0.2626623 0.2660689 0.2968509 0.2765774\n",
       " [5580] 0.2836570 0.2878483 0.3096623 0.2836570 0.2941429 0.2836570 0.2878483\n",
       " [5587] 0.3096623 0.2858943 0.3011169 0.3087888 0.2836570 0.2968509 0.2821457\n",
       " [5594] 0.2955744 0.2941429 0.2836570 0.2941429 0.2878483 0.3096623 0.2836570\n",
       " [5601] 0.2878483 0.2968509 0.2765774 0.2821457 0.3096623 0.3011169 0.3096623\n",
       " [5608] 0.2858943 0.2878483 0.2941429 0.2941429 0.3078687 0.3096623 0.3096623\n",
       " [5615] 0.2710806 0.2968509 0.2878483 0.2941429 0.2968509 0.3096623 0.2765774\n",
       " [5622] 0.2941429 0.2858943 0.2968509 0.3096623 0.2941429 0.2941429 0.2968509\n",
       " [5629] 0.3011169 0.2836570 0.2941429 0.2765774 0.2908815 0.3096623 0.3011169\n",
       " [5636] 0.2941429 0.2941429 0.2710806 0.3078687 0.2858943 0.2941429 0.2941429\n",
       " [5643] 0.2968509 0.3087888 0.2941429 0.2836570 0.3011169 0.2950815 0.2950815\n",
       " [5650] 0.3096623 0.2765774 0.2878483 0.2941429 0.2858943 0.2836570 0.2878483\n",
       " [5657] 0.2836570 0.2941429 0.2941429 0.3096623 0.3096623 0.2821457 0.3096623\n",
       " [5664] 0.2950815 0.3087888 0.2836570 0.2968509 0.3078687 0.3011169 0.2858943\n",
       " [5671] 0.2941429 0.2836570 0.2858943 0.2821750 0.2821457 0.2660689 0.2765774\n",
       " [5678] 0.2955744 0.2941429 0.2968509 0.3096623 0.3087888 0.3096623 0.2908815\n",
       " [5685] 0.2878483 0.2968509 0.2765774 0.2968509 0.3011169 0.3011169 0.2968509\n",
       " [5692] 0.3078687 0.2858943 0.2765774 0.2950815 0.2941429 0.2941429 0.3087888\n",
       " [5699] 0.3096623 0.2836570 0.2836570 0.3096623 0.2941429 0.2968509 0.3096623\n",
       " [5706] 0.2968509 0.2806734 0.3096623 0.2941429 0.2821457 0.2836570 0.3096623\n",
       " [5713] 0.2950815 0.2765774 0.2941429 0.2941429 0.2941429 0.2941429 0.3096623\n",
       " [5720] 0.2950815 0.3087888 0.2765774 0.2941429 0.2941429 0.2968509 0.2765774\n",
       " [5727] 0.2858943 0.2941429 0.2710587 0.2836570 0.3096623 0.3096623 0.2765774\n",
       " [5734] 0.2836570 0.2941429 0.2735999 0.3096623 0.2908815 0.2821750 0.2941429\n",
       " [5741] 0.2941429 0.2941429 0.2941429 0.2941429 0.2836570 0.2941429 0.2821750\n",
       " [5748] 0.3011169 0.3096623 0.3087888 0.2941429 0.2941429 0.2836570 0.3087888\n",
       " [5755] 0.2968509 0.2858943 0.2836570 0.2941429 0.3087888 0.2806734 0.3096623\n",
       " [5762] 0.3078687 0.2968509 0.3096623 0.2836570 0.3096623 0.2836570 0.2941429\n",
       " [5769] 0.2836570 0.2941429 0.3096623 0.2941429 0.2941429 0.2821457 0.2836570\n",
       " [5776] 0.3096623 0.2941429 0.2836570 0.2836570 0.2968509 0.2941429 0.2950815\n",
       " [5783] 0.2950815 0.2941429 0.2836570 0.2878483 0.2950815 0.3087888 0.2941429\n",
       " [5790] 0.3096623 0.2941429 0.2765774 0.2908815 0.3087888 0.2941429 0.3087888\n",
       " [5797] 0.3096623 0.2950815 0.2836570 0.2858943 0.2836570 0.2858943 0.3011169\n",
       " [5804] 0.2968509 0.3011169 0.2765774 0.2941429 0.2968509 0.2858943 0.3096623\n",
       " [5811] 0.2765774 0.2878483 0.2878483 0.2836570 0.3096623 0.2660999 0.2821457\n",
       " [5818] 0.2968509 0.2968509 0.3096623 0.2950815 0.2941429 0.2941429 0.2858943\n",
       " [5825] 0.2765774 0.3096623 0.3096623 0.2908815 0.2908815 0.2968509 0.2955744\n",
       " [5832] 0.3087888 0.2320540 0.2557915 0.2375766 0.2433282 0.2724331 0.2557915\n",
       " [5839] 0.2724331 0.2680229 0.2680229 0.2724331 0.2557915 0.2602520 0.2328079\n",
       " [5846] 0.2747883 0.2375766 0.2433282 0.2557915 0.2434712 0.2328079 0.2320540\n",
       " [5853] 0.2562938 0.2562938 0.2602520 0.2724331 0.2432140 0.2557915 0.2680229\n",
       " [5860] 0.2724331 0.2375766 0.2557915 0.2562938 0.2724331 0.2562938 0.2680229\n",
       " [5867] 0.2328079 0.2433282 0.2320540 0.2680229 0.2462423 0.2867072 0.2724331\n",
       " [5874] 0.2819405 0.2867072 0.2375766 0.2724331 0.2433282 0.2602520 0.2562938\n",
       " [5881] 0.2852817 0.2557915 0.2602520 0.2562938 0.2433282 0.2462423 0.2747883\n",
       " [5888] 0.2557915 0.2724331 0.2747883 0.2852817 0.2562938 0.2867072 0.2483362\n",
       " [5895] 0.2432140 0.2724331 0.2557915 0.2724331 0.2462423 0.2819405 0.2433282\n",
       " [5902] 0.2433282 0.2462423 0.2724331 0.2680229 0.2557915 0.2852817 0.2747883\n",
       " [5909] 0.2747883 0.2852817 0.2747883 0.2320540 0.2562938 0.2557915 0.2819405\n",
       " [5916] 0.2724331 0.2747883 0.2462423 0.2747883 0.2724331 0.2557915 0.2680229\n",
       " [5923] 0.2724331 0.2483362 0.2724331 0.2724331 0.2562938 0.2557915 0.2747883\n",
       " [5930] 0.2434712 0.2747883 0.2562938 0.2562938 0.2562938 0.2747883 0.2602520\n",
       " [5937] 0.2562938 0.2747883 0.2562938 0.2867072 0.2819405 0.2747883 0.2724331\n",
       " [5944] 0.2557915 0.2747883 0.2562938 0.2557915 0.2724331 0.2433282 0.2724331\n",
       " [5951] 0.2680229 0.2562938 0.2747883 0.2557915 0.2557915 0.2755722 0.2462423\n",
       " [5958] 0.2602520 0.2724331 0.2724331 0.2284964 0.2434712 0.2747883 0.2294598\n",
       " [5965] 0.2557915 0.2328079 0.2557915 0.2557915 0.2680229 0.2724331 0.2433282\n",
       " [5972] 0.2755722 0.2523595 0.2058007 0.1821892 0.2064104 0.2064104 0.1821892\n",
       " [5979] 0.2058007 0.1899582 0.1821892 0.2341976 0.1821892 0.2340583 0.1899582\n",
       " [5986] 0.2341976 0.2093310 0.2341976 0.1821892 0.1821892 0.2173230 0.2341976\n",
       " [5993] 0.2064104 0.2341976 0.1821892 0.1821892 0.1821892 0.2341976 0.1821892\n",
       " [6000] 0.1821892 0.1821892 0.2604796 0.1821892 0.1821892 0.2064104 0.2065434\n",
       " [6007] 0.2058007 0.1821892 0.2064104 0.1821892 0.2093310 0.2278611 0.1821892\n",
       " [6014] 0.2058007 0.2508025 0.1899582 0.2064104 0.2492040 0.1861635 0.2058007\n",
       " [6021] 0.2058007 0.2071391 0.2093310 0.1821892 0.1899582 0.2058007 0.2058007\n",
       " [6028] 0.1899582 0.1899582 0.1821892 0.2065434 0.2058007 0.2064104 0.2058007\n",
       " [6035] 0.1821892 0.1899582 0.1821892 0.2066653 0.2508025 0.2064104 0.1899582\n",
       " [6042] 0.1821892 0.2066653 0.2278611 0.2093310 0.2058007 0.2341976 0.2341976\n",
       " [6049] 0.1821892 0.2064104 0.2015899 0.2470905 0.2393735 0.2110979 0.2470905\n",
       " [6056] 0.2681077 0.2015899 0.2298449 0.2470905 0.2141935 0.2298449 0.2298449\n",
       " [6063] 0.2492273 0.2470905 0.2226692 0.2293552 0.2443976 0.2015899 0.2298449\n",
       " [6070] 0.2166748 0.2015899 0.2015899 0.2141935 0.2110979 0.2166748 0.2110979\n",
       " [6077] 0.2166748 0.2166748 0.2443976 0.2298449 0.2015899 0.2991403 0.2270690\n",
       " [6084] 0.2995359 0.2991403 0.2995359 0.3086054 0.2270690 0.2833026 0.2391140\n",
       " [6091] 0.2270690 0.2898910 0.2524633 0.2544608 0.2550501 0.2500042 0.3079789\n",
       " [6098] 0.2833026 0.2497297 0.2348727 0.2270690 0.2391140 0.2991403 0.2995359\n",
       " [6105] 0.2310210 0.2995359 0.2466992 0.2898910 0.2550501 0.2310210 0.2310210\n",
       " [6112] 0.2270690 0.2995359 0.3086054 0.2550501 0.2524633 0.2898910 0.2026123\n",
       " [6119] 0.2457209 0.2136262 0.2140833 0.2457209 0.2102115 0.2059398 0.2690789\n",
       " [6126] 0.2457209 0.2075898 0.2059398 0.2521302 0.2521302 0.2690789 0.2699390\n",
       " [6133] 0.2521302 0.2401428 0.2457209 0.2521302 0.2042697 0.2075898 0.2102115\n",
       " [6140] 0.2521302 0.2136262 0.2516257 0.2359414 0.2671962 0.2171069 0.2278847\n",
       " [6147] 0.2861704 0.2692547 0.2671962 0.2671962 0.2671962 0.2671962 0.2841943\n",
       " [6154] 0.2171069 0.2537352 0.2841943 0.2671962 0.2671962 0.2671962 0.2841943\n",
       " [6161] 0.2119262 0.2086631 0.2171069 0.2671962 0.2220772 0.2359414 0.2841943\n",
       " [6168] 0.2119262 0.2119262 0.2841943 0.2278847 0.2278847 0.2841943 0.2841943\n",
       " [6175] 0.2220772 0.2119262 0.3155981 0.2797758 0.2589100 0.3155981 0.2980238\n",
       " [6182] 0.2770802 0.2770802 0.3065797 0.2558154 0.2980238 0.3210607 0.2770802\n",
       " [6189] 0.2980238 0.2539821 0.2980238 0.2483784 0.2416865 0.2416865 0.2241672\n",
       " [6196] 0.2067889 0.2000327 0.2086005 0.2057042 0.2000327 0.2146800 0.2091140\n",
       " [6203] 0.2468077 0.2067889 0.2000327 0.2067889 0.2241672 0.2416865 0.2415988\n",
       " [6210] 0.2618469 0.2416865 0.2146800 0.2067889 0.2468077 0.2618469 0.1945049\n",
       " [6217] 0.2416865 0.2612327 0.2468077 0.2146800 0.2241672 0.2468077 0.2612327\n",
       " [6224] 0.2122931 0.2051041 0.2636901 0.2087187 0.2154287 0.2586312 0.2572819\n",
       " [6231] 0.2116158 0.2154287 0.1921703 0.1921703 0.2154287 0.2087187 0.2114087\n",
       " [6238] 0.2154287 0.2572819 0.2572819 0.2090804 0.2114087 0.2051041 0.2122931\n",
       " [6245] 0.2636901 0.2046946 0.2030437 0.2572819 0.2586312 0.2572819 0.2586312\n",
       " [6252] 0.2572819 0.2636901 0.2572819 0.2572819 0.2154287 0.2154287 0.2123622\n",
       " [6259] 0.2051041 0.2122931 0.2572819 0.2572819 0.2379440 0.2154287 0.2154287\n",
       " [6266] 0.2572819 0.1921703 0.1921703 0.2122931 0.2572819 0.2572819 0.2114087\n",
       " [6273] 0.1883818 0.2154287 0.1921703 0.2154287 0.2126921 0.2636901 0.2765191\n",
       " [6280] 0.2572819 0.2154287 0.2122931 0.2636901 0.2122931 0.2051041 0.2154287\n",
       " [6287] 0.2719884 0.1921703 0.2636901 0.2122931 0.2187194 0.2451424 0.2249505\n",
       " [6294] 0.2450736 0.2958061 0.2450736 0.2450736 0.2958061 0.2451424 0.2450736\n",
       " [6301] 0.2958061 0.2451424 0.2214348 0.2451424 0.2958061 0.2958061 0.2451424\n",
       " [6308] 0.2249505 0.2879586 0.2958061 0.2450736 0.2278582 0.2451424 0.2451424\n",
       " [6315] 0.2879586 0.3035792 0.2958061 0.2249505 0.2450736 0.2451424 0.2451424\n",
       " [6322] 0.2214348 0.2958061 0.2451424 0.2879586 0.2879586 0.2450736 0.2879586\n",
       " [6329] 0.2451424 0.3173190 0.2275048 0.2450736 0.2945587 0.2388674 0.2958061\n",
       " [6336] 0.2958061 0.3173190 0.2645303 0.2879586 0.2879586 0.2451424 0.2758273\n",
       " [6343] 0.2297684 0.2758273 0.2879586 0.2451424 0.2879586 0.3100950 0.2294032\n",
       " [6350] 0.2758273 0.2879586 0.3035792 0.2758273 0.2451424 0.2893747 0.2893747\n",
       " [6357] 0.2980734 0.3011144 0.2977524 0.2753620 0.2893747 0.2961519 0.3009875\n",
       " [6364] 0.2752021 0.2854592 0.3009875 0.2980734 0.2980734 0.2879970 0.2958001\n",
       " [6371] 0.2879970 0.2849574 0.2753620 0.3000554 0.2944655 0.2958001 0.2849960\n",
       " [6378] 0.2854592 0.3009875 0.2753620 0.2893747 0.2879970 0.2893747 0.2977524\n",
       " [6385] 0.2980734 0.2977524 0.2958001 0.2977524 0.3000554 0.2958001 0.2879970\n",
       " [6392] 0.3000554 0.3000554 0.2879970 0.3000554 0.3000554 0.2893060 0.2977524\n",
       " [6399] 0.3011144 0.3011144 0.2958001 0.2958001 0.2958001 0.3011144 0.3011144\n",
       " [6406] 0.3000554 0.2879970 0.2958001 0.3000554 0.2977524 0.3000554 0.2961519\n",
       " [6413] 0.3011144 0.3000554 0.2980734 0.2753620 0.3011144 0.3011144 0.2922069\n",
       " [6420] 0.2752021 0.3011144 0.3009875 0.3000554 0.2977524 0.3000554 0.3009875\n",
       " [6427] 0.2980734 0.2980734 0.2947282 0.2980734 0.2958001 0.2980734 0.2980734\n",
       " [6434] 0.3000554 0.2752021 0.3000554 0.3011144 0.2977524 0.2980734 0.2752021\n",
       " [6441] 0.2980734 0.2977524 0.2893060 0.2879970 0.2944655 0.2893060 0.3000554\n",
       " [6448] 0.2753620 0.2854592 0.3011144 0.3000554 0.2922069 0.2849960 0.2752021\n",
       " [6455] 0.2947282 0.2958001 0.3009875 0.2958001 0.2980734 0.2893747 0.2893747\n",
       " [6462] 0.2753620 0.2753620 0.2958001 0.3011144 0.3011144 0.2922069 0.3009875\n",
       " [6469] 0.2753620 0.3009875 0.3000554 0.3011144 0.2980734 0.2893060 0.2958001\n",
       " [6476] 0.2893747 0.2879970 0.2893747 0.2849960 0.2936961 0.2893747 0.2753620\n",
       " [6483] 0.2753620 0.2893060 0.3009875 0.2980734 0.2977524 0.2893747 0.2854592\n",
       " [6490] 0.2893747 0.2893060 0.2849960 0.2854592 0.2893060 0.2849960 0.2849960\n",
       " [6497] 0.2849960 0.2879970 0.2980734 0.2854592 0.2922069 0.2753620 0.2753620\n",
       " [6504] 0.2849960 0.2893747 0.3009875 0.2977524 0.2980734 0.2854592 0.2980734\n",
       " [6511] 0.2893747 0.2879970 0.2893747 0.2854592 0.2977524 0.2893060 0.2893747\n",
       " [6518] 0.2980734 0.2854592 0.2879970 0.2752021 0.2947282 0.2893747 0.2958001\n",
       " [6525] 0.2958001 0.3011144 0.3011144 0.2879970 0.2936961 0.3009875 0.2958001\n",
       " [6532] 0.2893747 0.3009875 0.2893060 0.2879970 0.2879970 0.3009875 0.3011144\n",
       " [6539] 0.2879970 0.2961519 0.2879970 0.2958001 0.2879970 0.2893747 0.2980734\n",
       " [6546] 0.3009875 0.2977524 0.2893747 0.2980734 0.2753620 0.3011144 0.2893747\n",
       " [6553] 0.2958001 0.2980734 0.3009875 0.2879970 0.2977524 0.2893747 0.3009875\n",
       " [6560] 0.2893747 0.3009875 0.2980734 0.2958001 0.2893747 0.2980734 0.2858532\n",
       " [6567] 0.2488761 0.2551236 0.2488761 0.2551367 0.2551367 0.2101914 0.2217389\n",
       " [6574] 0.2619011 0.2294855 0.2217389 0.2551367 0.2101914 0.2354528 0.2217389\n",
       " [6581] 0.2449618 0.2101914 0.2706304 0.2551367 0.2619011 0.2459287 0.2354528\n",
       " [6588] 0.2619011 0.2101914 0.2354528 0.2219704 0.2219704 0.2446642 0.2101914\n",
       " [6595] 0.2219704 0.2488761 0.2551367 0.2101914 0.2619011 0.2706304 0.2551367\n",
       " [6602] 0.2101914 0.2551367 0.2101914 0.2488761 0.2551236 0.2488761 0.2551236\n",
       " [6609] 0.2551367 0.2723584 0.2101914 0.2723584 0.2354528 0.2219704 0.2354528\n",
       " [6616] 0.2723584 0.2236892 0.2354528 0.2471961 0.2354528 0.2101914 0.2532910\n",
       " [6623] 0.2101914 0.2217389 0.2551367 0.2815812 0.2706304 0.2354528 0.2217389\n",
       " [6630] 0.2219704 0.2217389 0.2706304 0.2488761 0.2706304 0.2551367 0.2551367\n",
       " [6637] 0.2551367 0.2619011 0.2166728 0.2217389 0.2488761 0.2240085 0.2101914\n",
       " [6644] 0.2723584 0.2619011 0.2217389 0.2294855 0.2217389 0.2219704 0.2551367\n",
       " [6651] 0.2219704 0.2532910 0.2294855 0.2236892 0.2815812 0.2166728 0.2469295\n",
       " [6658] 0.2166728 0.2236892 0.2294855 0.2101914 0.2169465 0.2217389 0.2551367\n",
       " [6665] 0.2217389 0.2217389 0.2217389 0.2485856 0.2935250 0.2521827 0.2502857\n",
       " [6672] 0.2709865 0.2623795 0.2617446 0.2513249 0.2502857 0.2521827 0.2838310\n",
       " [6679] 0.2521827 0.2410117 0.2794428 0.2848458 0.2617446 0.2794428 0.2513249\n",
       " [6686] 0.2502857 0.2838310 0.2794428 0.2932778 0.2513249 0.2709865 0.2488220\n",
       " [6693] 0.2410117 0.2521827 0.2916195 0.2488220 0.2848458 0.2488220 0.2617446\n",
       " [6700] 0.2485856 0.2411758 0.2485856 0.2617446 0.2623795 0.2838310 0.2502857\n",
       " [6707] 0.2709865 0.2838310 0.2521827 0.2617446 0.2848458 0.2502857 0.2402240\n",
       " [6714] 0.2617446 0.2916195 0.2794428 0.2848458 0.2502857 0.2485856 0.2848458\n",
       " [6721] 0.2513249 0.2617446 0.2932778 0.2488220 0.2521827 0.2623795 0.2848458\n",
       " [6728] 0.2488220 0.2935250 0.2488220 0.2488220 0.2406406 0.2848458 0.2932778\n",
       " [6735] 0.2485856 0.2496898 0.2617446 0.2402098 0.2617446 0.2513249 0.2402098\n",
       " [6742] 0.2617446 0.2402240 0.2617446 0.2709865 0.2594365 0.2154647 0.2450831\n",
       " [6749] 0.2154647 0.2594365 0.2213428 0.1901913 0.2154647 0.2154647 0.2154647\n",
       " [6756] 0.2566187 0.2594365 0.1901913 0.2139131 0.2450831 0.2154647 0.2450831\n",
       " [6763] 0.2292202 0.2594365 0.2154647 0.2292202 0.2139131 0.2213428 0.2154647\n",
       " [6770] 0.2139131 0.2154647 0.2225247 0.2566187 0.2566187 0.2154647 0.1948671\n",
       " [6777] 0.1948671 0.2139131 0.2614294 0.2594365 0.1819145 0.2594365 0.2225247\n",
       " [6784] 0.1819145 0.2139131 0.2154647 0.2213428 0.2898679 0.2452470 0.2617177\n",
       " [6791] 0.2731072 0.2296822 0.2731072 0.2421381 0.2877593 0.2731072 0.2731072\n",
       " [6798] 0.2731072 0.2731072 0.2452470 0.2617177 0.2313974 0.2329869 0.2617177\n",
       " [6805] 0.2329869 0.2731072 0.2352677 0.2617177 0.2898679 0.2452470 0.2313974\n",
       " [6812] 0.2812894 0.2808582 0.2352677 0.2731072 0.2452470 0.2702745 0.2731072\n",
       " [6819] 0.2421381 0.2608333 0.2898679 0.2313974 0.1902575 0.2002520 0.2069929\n",
       " [6826] 0.2438189 0.2009214 0.2438189 0.1942181 0.2438189 0.2069929 0.1977690\n",
       " [6833] 0.2002520 0.2002520 0.2069929 0.2013624 0.2490929 0.2069929 0.2438189\n",
       " [6840] 0.2274973 0.2353526 0.2438189 0.2458564 0.2458564 0.2002520 0.2438189\n",
       " [6847] 0.2551044 0.2353526 0.2069929 0.2002520 0.2458564 0.2458564 0.2078399\n",
       " [6854] 0.1902575 0.2551044 0.2458564 0.2002520 0.2274973 0.2353526 0.2002520\n",
       " [6861] 0.1904505 0.2002520 0.2274973 0.2634999 0.2458564 0.2458564 0.2069929\n",
       " [6868] 0.2069929 0.2353526 0.1902575 0.1904505 0.2069929 0.2353526 0.1957770\n",
       " [6875] 0.2278150 0.2000998 0.2278150 0.2721504 0.2199812 0.2548417 0.2199812\n",
       " [6882] 0.1957770 0.2257208 0.2257208 0.1957770 0.2199812 0.2104513 0.2549660\n",
       " [6889] 0.1957770 0.2707065 0.2278150 0.2587207 0.2587207 0.2199812 0.2257208\n",
       " [6896] 0.2199812 0.2199812 0.1957770 0.2587207 0.1957770 0.2587207 0.2199812\n",
       " [6903] 0.2707065 0.1957770 0.2245813 0.2285051 0.2548417 0.1957770 0.2392908\n",
       " [6910] 0.2278150 0.1957770 0.1957770 0.2278150 0.1957770 0.2392908 0.2245813\n",
       " [6917] 0.2110764 0.2245813 0.2231437 0.2245813 0.2245813 0.2278150 0.2549660\n",
       " [6924] 0.2199812 0.1957770 0.1957770 0.2365238 0.2418737 0.2337348 0.2201676\n",
       " [6931] 0.2201676 0.2178335 0.2686079 0.2418737 0.2224356 0.2337348 0.2686079\n",
       " [6938] 0.2834626 0.2289996 0.2177446 0.2365238 0.2201676 0.2345172 0.2365238\n",
       " [6945] 0.2686079 0.2337348 0.2337348 0.2686079 0.2692813 0.2486083 0.2686079\n",
       " [6952] 0.2486083 0.2365238 0.2201676 0.2337348 0.2365238 0.2418737 0.2365238\n",
       " [6959] 0.2337348 0.2686079 0.2289996 0.2365238 0.2418737 0.2224356 0.2224356\n",
       " [6966] 0.2686079 0.2177446 0.2291674 0.2337348 0.2201676 0.2201676 0.2486083\n",
       " [6973] 0.2418737 0.2567252 0.2494275 0.2560213 0.2517678 0.2772422 0.2766908\n",
       " [6980] 0.2535721 0.2766908 0.2772957 0.2772324 0.2772957 0.2517678 0.2528844\n",
       " [6987] 0.2766908 0.2752490 0.2535721 0.2772422 0.2517678 0.2766908 0.2766908\n",
       " [6994] 0.2517635 0.2772957 0.2517635 0.2772422 0.2517678 0.2535721 0.2772324\n",
       " [7001] 0.2766908 0.2517678 0.2772324 0.2517635 0.2528844 0.2766908 0.2504610\n",
       " [7008] 0.2517635 0.2766908 0.2772422 0.2772422 0.2560213 0.2468624 0.2535721\n",
       " [7015] 0.2772422 0.2766908 0.2535721 0.2517635 0.2560213 0.2517678 0.2503767\n",
       " [7022] 0.2517678 0.2517635 0.2567252 0.2772422 0.2535721 0.2772324 0.2517678\n",
       " [7029] 0.2766908 0.2766908 0.2517678 0.2440371 0.2669425 0.2565722 0.2406488\n",
       " [7036] 0.2565722 0.2811249 0.2953756 0.2750625 0.3133880 0.2811249 0.2750625\n",
       " [7043] 0.2557552 0.2336751 0.2750625 0.2811249 0.2394756 0.2953756 0.2394756\n",
       " [7050] 0.2394756 0.2991237 0.2811249 0.2565722 0.2394756 0.2669425 0.2872321\n",
       " [7057] 0.2406488 0.2394756 0.2336751 0.2872321 0.2889603 0.2750625 0.2565722\n",
       " [7064] 0.2406488 0.2376075 0.2406488 0.2872321 0.2336751 0.2357826 0.2641074\n",
       " [7071] 0.2716376 0.2485968 0.2641074 0.2780701 0.2780701 0.2716376 0.2780701\n",
       " [7078] 0.2641074 0.2919748 0.2716376 0.2716376 0.2919748 0.2538008 0.2485968\n",
       " [7085] 0.2919748 0.2716376 0.2780701 0.2780701 0.2790625 0.2641074 0.2716376\n",
       " [7092] 0.2780701 0.2716376 0.2538008 0.2485968 0.2485968 0.2538008 0.2485968\n",
       " [7099] 0.2780701 0.2485968 0.2716376 0.2411042 0.2538008 0.2919748 0.2716376\n",
       " [7106] 0.2485968 0.2485968 0.2716376 0.2485968 0.2538008 0.2513817 0.3025486\n",
       " [7113] 0.2919748 0.2485968 0.2411042 0.2639395 0.2790625 0.2870949 0.2716376\n",
       " [7120] 0.2716376 0.2652131 0.2790625 0.2641074 0.2919748 0.2641074 0.2716376\n",
       " [7127] 0.2641074 0.2513817 0.2780701 0.2716376 0.2790625 0.2485968 0.2780701\n",
       " [7134] 0.2485968 0.2780701 0.2641074 0.2919748 0.2716376 0.2780701 0.2652131\n",
       " [7141] 0.2280171 0.2571893 0.2796536 0.2337624 0.2796536 0.2127164 0.2812034\n",
       " [7148] 0.2020752 0.2337624 0.2061182 0.2280171 0.2712886 0.2796536 0.2337624\n",
       " [7155] 0.2127164 0.2337624 0.2057412 0.2337624 0.2796536 0.2280171 0.2571893\n",
       " [7162] 0.2250725 0.2551042 0.2712886 0.2551042 0.2796536 0.2337624 0.2061182\n",
       " [7169] 0.2337624 0.2796536 0.2280171 0.2551042 0.2061182 0.2337624 0.2712886\n",
       " [7176] 0.2280171 0.2817279 0.2817279 0.2712886 0.2337624 0.2796536 0.2655449\n",
       " [7183] 0.2536530 0.2026064 0.2536530 0.1929869 0.2491046 0.2258149 0.1838388\n",
       " [7190] 0.1898297 0.2026064 0.2088095 0.1926992 0.2368652 0.2642848 0.1898297\n",
       " [7197] 0.2258149 0.2241535 0.2303593 0.2241535 0.2303593 0.2491046 0.2303593\n",
       " [7204] 0.2241535 0.2258149 0.2491046 0.2303593 0.2258149 0.2491046 0.2085251\n",
       " [7211] 0.2138889 0.2258149 0.2642848 0.2241535 0.2536530 0.2026064 0.2258149\n",
       " [7218] 0.2135460 0.2153952 0.2536530 0.2303593 0.2389603 0.2389603 0.2809784\n",
       " [7225] 0.2332603 0.2748028 0.2445069 0.2655791 0.2445069 0.2742412 0.2295360\n",
       " [7232] 0.2389603 0.2353668 0.2748028 0.2664835 0.2809784 0.2389603 0.2748028\n",
       " [7239] 0.2445069 0.2519215 0.2389603 0.2748028 0.2445069 0.2901602 0.2901602\n",
       " [7246] 0.2901602 0.2655791 0.2655791 0.2332603 0.2389603 0.2389603 0.2445069\n",
       " [7253] 0.2655791 0.2461281 0.2332603 0.2461281 0.2353668 0.2519215 0.2664835\n",
       " [7260] 0.2404331 0.2742412 0.2748028 0.2461281 0.2748028 0.2461281 0.2655791\n",
       " [7267] 0.2655791 0.2389603 0.2748028 0.2655791 0.2389603 0.2445069 0.2655791\n",
       " [7274] 0.2461281 0.2742412 0.2461281 0.2748028 0.2519215 0.2387640 0.2519215\n",
       " [7281] 0.2332603 0.2664835 0.2332603 0.2655791 0.2519215 0.2742412 0.2461281\n",
       " [7288] 0.2461281 0.2445069 0.2389603 0.2748028 0.2387640 0.2664835 0.2389603\n",
       " [7295] 0.2461281 0.2748028 0.2461281 0.2742412 0.2748028 0.2389603 0.2748028\n",
       " [7302] 0.2519215 0.2655791 0.2655791 0.2337821 0.2655791 0.2883858 0.2519215\n",
       " [7309] 0.2742412 0.2461281 0.2655791 0.2461281 0.2445069 0.2655791 0.2742412\n",
       " [7316] 0.2655791 0.2748028 0.2519215 0.2655791 0.2664835 0.2461281 0.2748028\n",
       " [7323] 0.2655791 0.2831620 0.2742412 0.2748028 0.2519215 0.2742412 0.2389603\n",
       " [7330] 0.2389603 0.2742412 0.2742412 0.2804290 0.2457484 0.2270762 0.2089664\n",
       " [7337] 0.2646385 0.2690285 0.2589388 0.2174797 0.2457484 0.2589388 0.2720313\n",
       " [7344] 0.2358743 0.2804290 0.2238316 0.2457484 0.2579633 0.2720313 0.2720313\n",
       " [7351] 0.2579633 0.2720313 0.2457484 0.2690285 0.2720313 0.2238316 0.2457484\n",
       " [7358] 0.2720313 0.2579633 0.2720313 0.2457484 0.2457484 0.2238316 0.2720313\n",
       " [7365] 0.2238316 0.2579633 0.2658774 0.2321978 0.2471827 0.2539340 0.2382891\n",
       " [7372] 0.2794076 0.2914456 0.2336375 0.2471827 0.2471827 0.2794076 0.2657231\n",
       " [7379] 0.2657231 0.2382891 0.2539340 0.2794076 0.2658774 0.2914456 0.2539340\n",
       " [7386] 0.2460394 0.2471827 0.2346283 0.2657231 0.2539340 0.2539340 0.2658774\n",
       " [7393] 0.2914456 0.2657231 0.2471827 0.2381015 0.2381221 0.2460190 0.2263673\n",
       " [7400] 0.2263673 0.2489403 0.2381221 0.2263673 0.2381221 0.2503771 0.2258557\n",
       " [7407] 0.2540322 0.2283556 0.2303404 0.2710827 0.2509770 0.2194220 0.2657564\n",
       " [7414] 0.2258557 0.2673757 0.2258557 0.2622301 0.2405638 0.2258557 0.2235499\n",
       " [7421] 0.2657564 0.2540322 0.2383403 0.2509770 0.2622301 0.2383537 0.2503771\n",
       " [7428] 0.2258557 0.2194220 0.2673757 0.2503771 0.2405638 0.2540322 0.2503771\n",
       " [7435] 0.2323362 0.2673757 0.2405638 0.2168883 0.2673757 0.2503771 0.2258557\n",
       " [7442] 0.2258557 0.2503771 0.2323362 0.2503771 0.2194220 0.2657564 0.2194220\n",
       " [7449] 0.2673757 0.2383403 0.2258557 0.2540322 0.2622301 0.2283556 0.2503771\n",
       " [7456] 0.2503771 0.2657564 0.2657564 0.2503771 0.2258557 0.2540322 0.2503771\n",
       " [7463] 0.2509770 0.2258557 0.2540322 0.2405638 0.2258557 0.2405638 0.2405638\n",
       " [7470] 0.2673757 0.2283556 0.2622301 0.2740690 0.2622301 0.2168883 0.2402000\n",
       " [7477] 0.2673757 0.2168883 0.2258557 0.2405638 0.2657564 0.2503771 0.2405638\n",
       " [7484] 0.2283556 0.2258557 0.2283556 0.2194220 0.2283556 0.2194220 0.2406109\n",
       " [7491] 0.2406109 0.2833229 0.2740368 0.2287671 0.2473113 0.2470482 0.2566320\n",
       " [7498] 0.2859214 0.3016116 0.2520940 0.2859214 0.2376458 0.2859214 0.2740368\n",
       " [7505] 0.2859214 0.3016116 0.2520940 0.2740368 0.2520940 0.2967934 0.2859214\n",
       " [7512] 0.2389305 0.2566320 0.3016116 0.3118808 0.2406109 0.2406109 0.2859214\n",
       " [7519] 0.3016116 0.3009788 0.2520940 0.2406109 0.2305650 0.2406109 0.3016116\n",
       " [7526] 0.2566320 0.3118808 0.2376458 0.2303139 0.2440667 0.2566320 0.2406109\n",
       " [7533] 0.2833229 0.2859214 0.3118808 0.2859214 0.2287671 0.2967934 0.2859214\n",
       " [7540] 0.2376458 0.2566320 0.2740368 0.2406109 0.2389305 0.3118808 0.2520940\n",
       " [7547] 0.2566320 0.2371551 0.2566320 0.2520940 0.2833229 0.2859214 0.2520940\n",
       " [7554] 0.2859214 0.3016116 0.2520940 0.2740368 0.2386618 0.3016116 0.2740368\n",
       " [7561] 0.2520940 0.2440667 0.2833229 0.2440667 0.2566320 0.2157863 0.2439134\n",
       " [7568] 0.2359758 0.2326782 0.2684879 0.2125410 0.2109680 0.2288300 0.2622926\n",
       " [7575] 0.2326782 0.2735936 0.2157863 0.2311909 0.2125410 0.2288300 0.2125410\n",
       " [7582] 0.2583025 0.2277157 0.2288300 0.2125410 0.2157863 0.2735936 0.2311909\n",
       " [7589] 0.2684879 0.2125410 0.2622926 0.2326782 0.2288300 0.2589044 0.2439134\n",
       " [7596] 0.2326782 0.2439134 0.2622926 0.2157863 0.2157863 0.2125410 0.2125410\n",
       " [7603] 0.2288300 0.2288300 0.2125410 0.2409888 0.2589044 0.2288300 0.2157863\n",
       " [7610] 0.2735936 0.2125410 0.2326782 0.2684879 0.2125410 0.2359758 0.2439134\n",
       " [7617] 0.2359758 0.2326782 0.2125410 0.2622926 0.2359758 0.2439134 0.2589044\n",
       " [7624] 0.2125410 0.2157863 0.2409888 0.2125410 0.2359758 0.2277157 0.2288300\n",
       " [7631] 0.2589044 0.2409888 0.2288300 0.2311909 0.2439134 0.2288300 0.2311909\n",
       " [7638] 0.2311909 0.2125410 0.2311909 0.2744052 0.2125410 0.2125410 0.2125410\n",
       " [7645] 0.2439134 0.2288300 0.2125410 0.2326782 0.2288300 0.2125410 0.2157863\n",
       " [7652] 0.2288300 0.2735936 0.2735936 0.2622926 0.2405118 0.2589044 0.2405118\n",
       " [7659] 0.2589044 0.2125410 0.2125410 0.2288300 0.2157863 0.2157863 0.2120472\n",
       " [7666] 0.2311909 0.2405118 0.2735936 0.2311909 0.2288300 0.2326782 0.2744052\n",
       " [7673] 0.2288300 0.2125410 0.2109680 0.2277157 0.2125410 0.2125410 0.2589044\n",
       " [7680] 0.2326782 0.2589044 0.2405118 0.2125410 0.2405118 0.2311909 0.2120472\n",
       " [7687] 0.2405118 0.2622926 0.2622926 0.2120472 0.2359758 0.2439134 0.2518170\n",
       " [7694] 0.2125410 0.2326782 0.2439134 0.2518170 0.2311909 0.2735936 0.2405118\n",
       " [7701] 0.2288300 0.2311909 0.2405118 0.2405118 0.2622926 0.2744052 0.2405118\n",
       " [7708] 0.2311909 0.2157863 0.2589044 0.2622926 0.2405118 0.2405118 0.2471195\n",
       " [7715] 0.2157863 0.2518170 0.2735936 0.2735936 0.2589044 0.2471195 0.2157863\n",
       " [7722] 0.2311909 0.2589044 0.2288300 0.2125410 0.2109680 0.2405118 0.2125410\n",
       " [7729] 0.2439134 0.2157863 0.2125410 0.2405118 0.2288300 0.2157863 0.2288300\n",
       " [7736] 0.2321385 0.2535546 0.2358588 0.2608757 0.2638143 0.2241454 0.2321385\n",
       " [7743] 0.2535546 0.2638143 0.2535546 0.2392195 0.2801780 0.2329324 0.2321385\n",
       " [7750] 0.2321385 0.2638143 0.2638143 0.2843039 0.2638143 0.2638143 0.2636431\n",
       " [7757] 0.2321385 0.2321385 0.2638143 0.2801780 0.2241454 0.2918882 0.2801780\n",
       " [7764] 0.2918882 0.2321385 0.2787886 0.2535546 0.2535546 0.2638143 0.2535546\n",
       " [7771] 0.2796224 0.2638143 0.2321385 0.2241454 0.2638143 0.2535546 0.2241454\n",
       " [7778] 0.2241454 0.2610363 0.2638143 0.2638143 0.2321385 0.2329324 0.2843039\n",
       " [7785] 0.2638143 0.2535546 0.2638143 0.2241454 0.2843039 0.2241454 0.2321385\n",
       " [7792] 0.2241454 0.2918882 0.2608757 0.2787886 0.2787886 0.2241454 0.2801780\n",
       " [7799] 0.2608757 0.2535546 0.2358588 0.2801780 0.2535546 0.2638143 0.2535546\n",
       " [7806] 0.2638143 0.2535546 0.2321385 0.2843039 0.2801780 0.2321385 0.2392195\n",
       " [7813] 0.2321385 0.2321385 0.2638143 0.2638143 0.2241454 0.2241454 0.2801780\n",
       " [7820] 0.2291156 0.2291156 0.2535546 0.2602230 0.2282923 0.2329324 0.2796224\n",
       " [7827] 0.2638143 0.2843039 0.2321385 0.2608757 0.2796224 0.2321385 0.2392195\n",
       " [7834] 0.2321385 0.2636431 0.2477274 0.2477274 0.2632040 0.2477274 0.2780004\n",
       " [7841] 0.2542421 0.2799415 0.2632040 0.2488609 0.2417859 0.2488609 0.2799415\n",
       " [7848] 0.2652455 0.2780004 0.2433353 0.2488609 0.2813526 0.2577947 0.2684645\n",
       " [7855] 0.2813526 0.2799415 0.2488609 0.2813526 0.2652455 0.2780004 0.2813526\n",
       " [7862] 0.2915344 0.2477274 0.2577947 0.2813526 0.2542421 0.2813526 0.2915344\n",
       " [7869] 0.2684645 0.2477274 0.2813526 0.2632040 0.2632040 0.2632040 0.2871509\n",
       " [7876] 0.2477274 0.2477274 0.2539828 0.2780004 0.2437120 0.2684645 0.2542421\n",
       " [7883] 0.2488609 0.2632040 0.2414716 0.2542421 0.2912171 0.2542421 0.2632040\n",
       " [7890] 0.2542421 0.2477274 0.2542421 0.2488609 0.2542421 0.2871509 0.2512471\n",
       " [7897] 0.2799415 0.2871509 0.2477274 0.2652455 0.2512471 0.2632040 0.2780004\n",
       " [7904] 0.2477274 0.2542421 0.2632040 0.2471251 0.2488609 0.2433353 0.2542421\n",
       " [7911] 0.2915344 0.2799415 0.2799415 0.2477274 0.2512471 0.2799415 0.2813526\n",
       " [7918] 0.2684645 0.2912171 0.2577225 0.2813526 0.2813526 0.2780004 0.2632040\n",
       " [7925] 0.2488609 0.2799415 0.2632040 0.2813526 0.2414716 0.2684645 0.2684645\n",
       " [7932] 0.2813526 0.2433353 0.2577947 0.2632040 0.2542421 0.2684645 0.2915344\n",
       " [7939] 0.2477274 0.2813526 0.2684645 0.2813526 0.2542421 0.2542421 0.2780004\n",
       " [7946] 0.2542421 0.2799415 0.2488609 0.2577947 0.2799415 0.2477274 0.2488609\n",
       " [7953] 0.2799415 0.2652455 0.2414716 0.2477274 0.2488609 0.2577947 0.2912171\n",
       " [7960] 0.2512471 0.2512471 0.2684645 0.2467116 0.2577947 0.2915344 0.2912171\n",
       " [7967] 0.2813526 0.2577947 0.2488609 0.2632040 0.2477274 0.2512471 0.2799415\n",
       " [7974] 0.2512471 0.2652455 0.2577947 0.2471251 0.2780004 0.2780004 0.2813526\n",
       " [7981] 0.2915344 0.2632040 0.2753643 0.2638659 0.2526284 0.2638382 0.2832682\n",
       " [7988] 0.2526984 0.2906808 0.2826565 0.2753643 0.2638382 0.2753643 0.2761639\n",
       " [7995] 0.2753643 0.2761639 0.2463241 0.2638659 0.2761639 0.2724740 0.2749695\n",
       " [8002] 0.2761639 0.2753643 0.2638382 0.2638382 0.2753643 0.2753643 0.2638659\n",
       " [8009] 0.2826565 0.2761639 0.2526984 0.2753643 0.2906808 0.2761639 0.2638382\n",
       " [8016] 0.2638382 0.2638659 0.2832682 0.2638382 0.2638382 0.2749695 0.2761639\n",
       " [8023] 0.2761639 0.2526284 0.2526984 0.2424516 0.2826565 0.2638382 0.2575851\n",
       " [8030] 0.2753643 0.2749695 0.2638659 0.2638382 0.2753643 0.2526984 0.2425542\n",
       " [8037] 0.2724740 0.2638382 0.2826565 0.2906808 0.2638659 0.2761639 0.2753643\n",
       " [8044] 0.2420140 0.2753643 0.2753643 0.2638659 0.2526984 0.2761639 0.2638659\n",
       " [8051] 0.2638382 0.2761639 0.2638382 0.2526284 0.2753643 0.2753643 0.2638382\n",
       " [8058] 0.2623200 0.2638659 0.2761639 0.2638382 0.2567958 0.2638659 0.2638382\n",
       " [8065] 0.2749695 0.2753643 0.2749695 0.2887065 0.2638659 0.2638382 0.2753643\n",
       " [8072] 0.2638659 0.2526284 0.2753643 0.2526284 0.2761639 0.2526284 0.2753643\n",
       " [8079] 0.2526284 0.2575851 0.2478735 0.2562444 0.2906808 0.2526984 0.2724740\n",
       " [8086] 0.2749695 0.2753643 0.2826565 0.2478735 0.2761639 0.2526284 0.2761639\n",
       " [8093] 0.2753643 0.2826565 0.2906808 0.2826565 0.2638659 0.2753643 0.2638659\n",
       " [8100] 0.2753643 0.2638382 0.2753643 0.2761639 0.2567958 0.2761639 0.2753643\n",
       " [8107] 0.2610445 0.2478735 0.2761639 0.2526984 0.2761639 0.2638382 0.2526284\n",
       " [8114] 0.2526984 0.2761639 0.2826565 0.2724740 0.2749695 0.2638659 0.2638382\n",
       " [8121] 0.2761639 0.2623200 0.2832682 0.2753643 0.2623200 0.2638659 0.2463241\n",
       " [8128] 0.2906808 0.2832682 0.2906808 0.2638659 0.2638659 0.2761639 0.2724740\n",
       " [8135] 0.2753643 0.2420140 0.2575851 0.2638382 0.2638659 0.2638382 0.2638382\n",
       " [8142] 0.2638659 0.2638382 0.2575851 0.2753643 0.2761639 0.2753643 0.2478735\n",
       " [8149] 0.2749695 0.2638382 0.2761639 0.2638659 0.2826565 0.2724740 0.2761639\n",
       " [8156] 0.2638382 0.2826565 0.2887065 0.2832682 0.2826565 0.2761639 0.2724740\n",
       " [8163] 0.2753643 0.2906808 0.2832682 0.2761639 0.2761639 0.2638382 0.2753643\n",
       " [8170] 0.2638382 0.2526984 0.2724740 0.2753643 0.2638659 0.2478735 0.2887065\n",
       " [8177] 0.2526284 0.2724740 0.2753643 0.2761639 0.2610445 0.2761639 0.2526984\n",
       " [8184] 0.2761639 0.2761639 0.2610445 0.2832682 0.2526284 0.2761639 0.2567958\n",
       " [8191] 0.2761639 0.2638382 0.2638659 0.2638659 0.2638382 0.2601049 0.2601049\n",
       " [8198] 0.2638382 0.2420140 0.2638069 0.2919182 0.2919182 0.2638069 0.2847357\n",
       " [8205] 0.2822782 0.2919182 0.2687700 0.2919182 0.2847357 0.2847357 0.3031103\n",
       " [8212] 0.2811989 0.2638069 0.3031103 0.2811989 0.2983098 0.2811989 0.2894291\n",
       " [8219] 0.2553376 0.2676003 0.2802661 0.2553700 0.2809502 0.2993920 0.2553700\n",
       " [8226] 0.2676003 0.2993920 0.2676003 0.2847357 0.2983098 0.3031103 0.2822782\n",
       " [8233] 0.2811989 0.2944415 0.2553700 0.2919182 0.2847357 0.2811989 0.2710519\n",
       " [8240] 0.2809502 0.2953697 0.2916075 0.2769598 0.2811989 0.2688608 0.2769598\n",
       " [8247] 0.2553376 0.2993920 0.2847357 0.2894291 0.2811989 0.2676003 0.2638069\n",
       " [8254] 0.2916075 0.2638069 0.2916075 0.2802661 0.2811989 0.2916075 0.2553376\n",
       " [8261] 0.2811989 0.2706129 0.2811989 0.2916075 0.2919182 0.2993920 0.2809502\n",
       " [8268] 0.2919182 0.2822782 0.2811989 0.2811989 0.2847357 0.1841074 0.1841074\n",
       " [8275] 0.2271352 0.2038472 0.2504591 0.2387851 0.2016469 0.2504591 0.2504591\n",
       " [8282] 0.1922816 0.1922816 0.2635501 0.2504591 0.1821680 0.2016469 0.2038472\n",
       " [8289] 0.2271352 0.2422928 0.1872097 0.2038472 0.1922816 0.2504591 0.1872097\n",
       " [8296] 0.1860252 0.2504591 0.1821680 0.2047463 0.2422928 0.1841074 0.2535649\n",
       " [8303] 0.1922816 0.1841074 0.2047463 0.1805368 0.1841074 0.1841074 0.1807990\n",
       " [8310] 0.2271352 0.1997922 0.2635501 0.2016469 0.1821680 0.2271352 0.2504591\n",
       " [8317] 0.2422928 0.1805368 0.1841074 0.1841074 0.1997922 0.2635501 0.1976732\n",
       " [8324] 0.2271352 0.2269246 0.2187837 0.2187837 0.2187837 0.2187837 0.2187837\n",
       " [8331] 0.2461307 0.1705149 0.2269246 0.2187837 0.1923203 0.1896092 0.1835111\n",
       " [8338] 0.1896092 0.1923203 0.1835111 0.1896092 0.1923203 0.1835111 0.2187837\n",
       " [8345] 0.1977806 0.1977806 0.2187837 0.1896092 0.2187837 0.2187837 0.1896092\n",
       " [8352] 0.2269246 0.1896092 0.2187837 0.1923203 0.2187837 0.2320340 0.2025421\n",
       " [8359] 0.2053937 0.2053937 0.2272825 0.2132981 0.2143762 0.2143762 0.2380483\n",
       " [8366] 0.2132981 0.2025046 0.2272825 0.2218663 0.2272825 0.2059490 0.2272825\n",
       " [8373] 0.2025046 0.2053937 0.2500547 0.2025046 0.2053937 0.2218125 0.2132981\n",
       " [8380] 0.2053937 0.2020819 0.2053937 0.2687709 0.2053937 0.2053937 0.2025046\n",
       " [8387] 0.2380483 0.2464812 0.2272825 0.2464812 0.2053937 0.2272825 0.2500547\n",
       " [8394] 0.2053937 0.2272825 0.2132981 0.2169921 0.2380483 0.2132981 0.2025046\n",
       " [8401] 0.2464812 0.2025421 0.2025046 0.2288518 0.2053937 0.2380483 0.2218663\n",
       " [8408] 0.2272825 0.2132981 0.2272825 0.2428003 0.2025046 0.2089272 0.2464812\n",
       " [8415] 0.2272825 0.2143762 0.2053937 0.2143762 0.2320340 0.2637554 0.2143762\n",
       " [8422] 0.2059490 0.2218663 0.2053937 0.2380483 0.2218663 0.2053937 0.2218663\n",
       " [8429] 0.2380483 0.2025046 0.2380483 0.2380483 0.2025046 0.2143762 0.2025046\n",
       " [8436] 0.2087203 0.2380483 0.2380483 0.2320340 0.2025046 0.2059490 0.2025046\n",
       " [8443] 0.2464812 0.2053937 0.2053937 0.2053937 0.2025046 0.2218663 0.2053937\n",
       " [8450] 0.2288518 0.2218663 0.2143762 0.2143762 0.2053937 0.2380483 0.2380483\n",
       " [8457] 0.2288518 0.2218663 0.2059490 0.2143762 0.2025046 0.2272825 0.2218663\n",
       " [8464] 0.2288518 0.2059490 0.2380483 0.2687709 0.2166097 0.2143762 0.2282254\n",
       " [8471] 0.2143762 0.2089272 0.2053937 0.2143762 0.2053937 0.2025046 0.2272825\n",
       " [8478] 0.2464812 0.2025046 0.2143762 0.2428003 0.2272825 0.2025046 0.2143762\n",
       " [8485] 0.2218663 0.2059490 0.2053937 0.2500547 0.2464812 0.2781884 0.2497989\n",
       " [8492] 0.2822833 0.3021534 0.2967380 0.2932730 0.2996438 0.2701597 0.2701597\n",
       " [8499] 0.3021534 0.2972469 0.2972499 0.3021534 0.2967380 0.2932730 0.2945052\n",
       " [8506] 0.2945052 0.2497989 0.2735002 0.2980309 0.2781884 0.2980309 0.2822833\n",
       " [8513] 0.2945052 0.2723101 0.2701597 0.2945052 0.2972469 0.2652043 0.2967380\n",
       " [8520] 0.2932730 0.2781884 0.2723101 0.2945052 0.2945052 0.2996438 0.2972469\n",
       " [8527] 0.2735002 0.2972469 0.2945052 0.2980309 0.2972499 0.2972469 0.2497989\n",
       " [8534] 0.2996438 0.2972469 0.2652043 0.2781884 0.2751498 0.2932730 0.2945052\n",
       " [8541] 0.2972499 0.2701597 0.3021534 0.2723101 0.2822833 0.2932730 0.2701597\n",
       " [8548] 0.2822833 0.2701597 0.2972469 0.2822833 0.2972469 0.2972499 0.2781884\n",
       " [8555] 0.2945052 0.2781884 0.2980309 0.2980309 0.2822833 0.2945052 0.2972469\n",
       " [8562] 0.2701597 0.2781884 0.2972469 0.2945052 0.2972499 0.2972469 0.2945052\n",
       " [8569] 0.2967380 0.2972469 0.2822833 0.2972469 0.2735002 0.2972469 0.2945052\n",
       " [8576] 0.2972499 0.2980309 0.2972469 0.2701597 0.2723101 0.2972469 0.3021534\n",
       " [8583] 0.2996438 0.2980309 0.2972469 0.2972469 0.2617638 0.2945052 0.2701597\n",
       " [8590] 0.2497989 0.2735002 0.2945052 0.2652043 0.2497989 0.2701597 0.2590115\n",
       " [8597] 0.2781884 0.2980309 0.2932730 0.2497989 0.2652043 0.2740993 0.2635080\n",
       " [8604] 0.2793552 0.2635080 0.2890392 0.2665850 0.2890392 0.2793552 0.2621019\n",
       " [8611] 0.2861534 0.2665850 0.2635080 0.2740993 0.2937858 0.3013935 0.2793552\n",
       " [8618] 0.2775731 0.2623678 0.2740993 0.2918106 0.2621019 0.2740993 0.2793552\n",
       " [8625] 0.2665850 0.2740993 0.2740993 0.2445839 0.2445839 0.2623678 0.2740993\n",
       " [8632] 0.2432422 0.2918106 0.2740993 0.2740993 0.2623678 0.2623678 0.2775731\n",
       " [8639] 0.2635080 0.2793552 0.2890392 0.2890392 0.2775731 0.2740993 0.2635080\n",
       " [8646] 0.2740993 0.2432492 0.2623678 0.2665850 0.2623678 0.2740993 0.2918106\n",
       " [8653] 0.2793552 0.2793552 0.2623678 0.2793552 0.2635080 0.2623678 0.2740993\n",
       " [8660] 0.2445671 0.2454595 0.2918106 0.2635080 0.2665850 0.2532166 0.2740993\n",
       " [8667] 0.2861534 0.2793552 0.2918106 0.2793552 0.2426410 0.2740993 0.2343072\n",
       " [8674] 0.2132209 0.2590173 0.2590173 0.2079001 0.2081180 0.2119461 0.2079001\n",
       " [8681] 0.2063800 0.2387896 0.2337002 0.2739350 0.2387896 0.2318151 0.2589944\n",
       " [8688] 0.2063800 0.2318151 0.2343072 0.2132209 0.2293835 0.2337002 0.2387896\n",
       " [8695] 0.2132209 0.2532271 0.2318151 0.2081180 0.2387896 0.2387896 0.2132209\n",
       " [8702] 0.2033416 0.2322186 0.2739350 0.2063800 0.2322186 0.2337002 0.2132209\n",
       " [8709] 0.2132209 0.2081180 0.2318151 0.2033416 0.2081180 0.2387896 0.2589944\n",
       " [8716] 0.2318151 0.2132209 0.2132209 0.2293835 0.2387896 0.2132209 0.2739350\n",
       " [8723] 0.2387896 0.2322186 0.2081180 0.2328885 0.2318151 0.2387896 0.2532271\n",
       " [8730] 0.2387896 0.2343072 0.2387896 0.2322186 0.2132209 0.2318151 0.2033416\n",
       " [8737] 0.2387896 0.2119461 0.2534360 0.2343072 0.2318151 0.2343072 0.2318151\n",
       " [8744] 0.2132209 0.2534360 0.2337002 0.2343072 0.2119461 0.2132209 0.2081180\n",
       " [8751] 0.2132209 0.2081180 0.2589944 0.2132209 0.2081180 0.2119461 0.2589944\n",
       " [8758] 0.2119461 0.2337002 0.2337002 0.2318151 0.2318151 0.2079001 0.2337002\n",
       " [8765] 0.2532271 0.2081180 0.2132209 0.2532271 0.2318151 0.2387896 0.2387896\n",
       " [8772] 0.2132209 0.2318151 0.2132209 0.2343072 0.2063800 0.2318151 0.2132209\n",
       " [8779] 0.2081180 0.2387896 0.2337002 0.2590173 0.2132209 0.2119461 0.2081180\n",
       " [8786] 0.2343072 0.2264550 0.2081180 0.2589944 0.2322186 0.2132209 0.2337002\n",
       " [8793] 0.2264550 0.2132209 0.2293835 0.2119461 0.2337002 0.2274839 0.2387169\n",
       " [8800] 0.2387169 0.2145627 0.2349889 0.2252282 0.2301516 0.2274839 0.2181627\n",
       " [8807] 0.1937845 0.2072906 0.2191500 0.2433387 0.2274839 0.2066888 0.2191500\n",
       " [8814] 0.2387732 0.1937845 0.1937845 0.2234255 0.2387732 0.1937845 0.2274839\n",
       " [8821] 0.2349889 0.2191500 0.2072906 0.1937845 0.2054116 0.2203115 0.2176219\n",
       " [8828] 0.2054116 0.1937845 0.2181627 0.2302173 0.2301516 0.2072906 0.1937845\n",
       " [8835] 0.2191500 0.2349889 0.2387732 0.2087596 0.2387732 0.2433387 0.2203115\n",
       " [8842] 0.2387732 0.1937845 0.2301516 0.2274839 0.2191500 0.2387169 0.2387169\n",
       " [8849] 0.2302173 0.2274839 0.1937845 0.2054116 0.2387732 0.2387732 0.2087596\n",
       " [8856] 0.2203115 0.2176219 0.2181627 0.2525923 0.2387732 0.2176219 0.1937845\n",
       " [8863] 0.2254604 0.2054116 0.2387732 0.1937845 0.2087596 0.2072906 0.2176219\n",
       " [8870] 0.2066888 0.2181627 0.2433387 0.2301516 0.2387732 0.2349889 0.2191500\n",
       " [8877] 0.2191500 0.2054116 0.2054116 0.2054116 0.2733078 0.2651496 0.2762018\n",
       " [8884] 0.2874990 0.2874990 0.2651496 0.2697374 0.2741087 0.2741087 0.2742598\n",
       " [8891] 0.2742598 0.2651496 0.2732332 0.2762018 0.2651496 0.2641524 0.2733078\n",
       " [8898] 0.2641524 0.2686903 0.2692799 0.2641524 0.2874990 0.2742598 0.2742598\n",
       " [8905] 0.2874990 0.2641524 0.2697374 0.2874990 0.2697374 0.2742598 0.2697374\n",
       " [8912] 0.2651496 0.2874990 0.2742598 0.2920949 0.2874990 0.2874990 0.2874990\n",
       " [8919] 0.2732332 0.2641524 0.2733078 0.2733078 0.2697374 0.2874990 0.2732332\n",
       " [8926] 0.2874990 0.2733078 0.2641524 0.2732332 0.2641524 0.2733078 0.2741087\n",
       " [8933] 0.2733078 0.2697374 0.2692799 0.2874990 0.2874990 0.2742598 0.2742598\n",
       " [8940] 0.2641524 0.2738384 0.2641524 0.2742598 0.2697374 0.2874990 0.2733078\n",
       " [8947] 0.2686903 0.2732332 0.2762018 0.2650179 0.2741087 0.2732332 0.2738384\n",
       " [8954] 0.2697391 0.2697374 0.2732332 0.2641524 0.2686903 0.2762018 0.2874990\n",
       " [8961] 0.2733078 0.2762018 0.2762018 0.2650179 0.2741087 0.2650179 0.2762018\n",
       " [8968] 0.2641524 0.2733078 0.2641524 0.2733078 0.2741087 0.2742598 0.2686903\n",
       " [8975] 0.2611088 0.2762018 0.2641524 0.2732332 0.2874990 0.2874990 0.2732332\n",
       " [8982] 0.2741087 0.2741087 0.2742598 0.2762018 0.2733078 0.2742598 0.2641524\n",
       " [8989] 0.2743067 0.2697374 0.2741087 0.2742598 0.2741087 0.2641524 0.2733078\n",
       " [8996] 0.2732332 0.2742598 0.2874990 0.2641524 0.2651496 0.2742598 0.2733078\n",
       " [9003] 0.2789389 0.2789389 0.2763055 0.2651496 0.2789389 0.2732332 0.2733078\n",
       " [9010] 0.2762018 0.2697374 0.2733078 0.2741087 0.2732332 0.2741087 0.2733078\n",
       " [9017] 0.2732332 0.2697374 0.2874990 0.2651496 0.2732332 0.2874990 0.2762018\n",
       " [9024] 0.2732332 0.2641524 0.2697391 0.2742598 0.2874990 0.2742598 0.2697374\n",
       " [9031] 0.2641524 0.2733078 0.2733078 0.2724764 0.2636473 0.2706928 0.2431991\n",
       " [9038] 0.2628392 0.2330397 0.2755537 0.2595246 0.2366677 0.2706928 0.2644486\n",
       " [9045] 0.2636473 0.2431991 0.2639755 0.2595246 0.2450172 0.2755537 0.2628392\n",
       " [9052] 0.2419563 0.2695539 0.2366677 0.2330397 0.2450172 0.2628392 0.2431991\n",
       " [9059] 0.2628392 0.2578497 0.2366677 0.2431991 0.2578497 0.2578497 0.2702967\n",
       " [9066] 0.2373322 0.2702967 0.2706928 0.2636473 0.2595246 0.2636473 0.2702967\n",
       " [9073] 0.2702967 0.2628392 0.2578497 0.2578497 0.2431991 0.2706928 0.2706928\n",
       " [9080] 0.2545728 0.2636473 0.2706928 0.2702967 0.2695539 0.2578497 0.2755537\n",
       " [9087] 0.2578497 0.2366677 0.2628392 0.2702967 0.2702967 0.2702967 0.2702967\n",
       " [9094] 0.2636473 0.2366677 0.2706928 0.2578497 0.2431991 0.2373322 0.2695539\n",
       " [9101] 0.2595246 0.2378342 0.2545728 0.2702967 0.2546635 0.2314677 0.2226807\n",
       " [9108] 0.2314677 0.2314677 0.1900697 0.2592358 0.2314677 0.2314677 0.1872626\n",
       " [9115] 0.2192271 0.2102200 0.2314677 0.1970377 0.2314677 0.2226807 0.2314677\n",
       " [9122] 0.2592358 0.2610780 0.1962537 0.2221669 0.2183960 0.2732356 0.1975002\n",
       " [9129] 0.2725220 0.2732356 0.2725220 0.2335466 0.2005222 0.2732356 0.2183960\n",
       " [9136] 0.2732356 0.2183960 0.2183960 0.2732356 0.1975002 0.2732356 0.2725220\n",
       " [9143] 0.2725220 0.2183960 0.2857258 0.2183960 0.2725220 0.2732356 0.1975002\n",
       " [9150] 0.2511529 0.1975002 0.2183960 0.2570110 0.2511529 0.2093174 0.2668086\n",
       " [9157] 0.2473046 0.2473046 0.2429715 0.2790671 0.2756880 0.2473046 0.2756880\n",
       " [9164] 0.2790671 0.2790671 0.2429715 0.2429715 0.2429715 0.2429715 0.2756880\n",
       " [9171] 0.2520938 0.2353309 0.2020987 0.2424745 0.2506420 0.2145140 0.2593266\n",
       " [9178] 0.2353309 0.2218583 0.2409319 0.2202486 0.2020987 0.2218583 0.2524754\n",
       " [9185] 0.2187966 0.2271563 0.2335928 0.2317304 0.2150369 0.2088832 0.2314199\n",
       " [9192] 0.2317304 0.2158177 0.2158177 0.2085993 0.2150369 0.2503587 0.2406586\n",
       " [9199] 0.2317304 0.2354305 0.2158177 0.2396425 0.2396425 0.2158177 0.2314199\n",
       " [9206] 0.2510795 0.2510795 0.2503587 0.2587758 0.2503587 0.2317304 0.2510795\n",
       " [9213] 0.2396425 0.2317304 0.2335928 0.2503587 0.2088832 0.2317304 0.2314199\n",
       " [9220] 0.2587758 0.2317304 0.2158177 0.2510795 0.2503587 0.2317304 0.2158177\n",
       " [9227] 0.2317304 0.2503587 0.2317304 0.2182554 0.2150369 0.2503587 0.2396425\n",
       " [9234] 0.2314199 0.2510795 0.2314199 0.2266938 0.2266404 0.2396425 0.2266938\n",
       " [9241] 0.2150369 0.2182554 0.2396425 0.2266404 0.2510795 0.2354305 0.2266938\n",
       " [9248] 0.2317304 0.2396425 0.2503587 0.2158177 0.2636361 0.2396425 0.2396425\n",
       " [9255] 0.2354305 0.2503587 0.2317304 0.2503587 0.2158177 0.2335513 0.2266404\n",
       " [9262] 0.2510795 0.2335928 0.2396425 0.2396425 0.2317304 0.2587758 0.2158177\n",
       " [9269] 0.2396425 0.2396425 0.2406586 0.2406586 0.2510795 0.2317304 0.2396425\n",
       " [9276] 0.2158177 0.2396425 0.2406586 0.2158177 0.2406586 0.2317304 0.2503587\n",
       " [9283] 0.2317304 0.2503587 0.2317304 0.2503587 0.2317304 0.2335513 0.2510795\n",
       " [9290] 0.2266404 0.2406586 0.2317304 0.2396425 0.2158177 0.2317304 0.2354305\n",
       " [9297] 0.2396425 0.2396425 0.2396425 0.2182554 0.2317304 0.2636361 0.2503587\n",
       " [9304] 0.2317304 0.2159752 0.2266938 0.2587758 0.2354305 0.2396425 0.2159752\n",
       " [9311] 0.2158177 0.2317304 0.2182554 0.2396425 0.2354305 0.2100535 0.2317304\n",
       " [9318] 0.2317304 0.2396425 0.2317304 0.2182554 0.2396425 0.2277948 0.2511871\n",
       " [9325] 0.2677058 0.2226258 0.2322274 0.2738706 0.2277948 0.2738706 0.2277948\n",
       " [9332] 0.2511871 0.2677058 0.2461329 0.2461329 0.2511871 0.2461329 0.2226258\n",
       " [9339] 0.2461329 0.2461329 0.2277948 0.2232877 0.2226258 0.2461329 0.2306701\n",
       " [9346] 0.2226258 0.2461329 0.2226258 0.2232877 0.2226258 0.2226258 0.2236078\n",
       " [9353] 0.2511871 0.2226258 0.2322274 0.2738706 0.2226258 0.2306701 0.2226258\n",
       " [9360] 0.2226258 0.2511871 0.2277948 0.2461329 0.2677058 0.2226258 0.2236078\n",
       " [9367] 0.2511871 0.2277948 0.2277948 0.2461329 0.2322274 0.2226258 0.2461329\n",
       " [9374] 0.2226258 0.2387031 0.2461329 0.2226258 0.2511871 0.2226258 0.2387031\n",
       " [9381] 0.2236078 0.2226258 0.2277948 0.2738706 0.2461329 0.2322274 0.2226258\n",
       " [9388] 0.2461329 0.2677058 0.2461329 0.2306701 0.2677058 0.2277948 0.2306701\n",
       " [9395] 0.2461329 0.2432215 0.2232877 0.2277948 0.2277948 0.2738706 0.2232877\n",
       " [9402] 0.2277948 0.2236078 0.2461329 0.2511871 0.2306701 0.2226258 0.2277948\n",
       " [9409] 0.2232877 0.2277948 0.2277948 0.2226258 0.2677058 0.2236078 0.2277948\n",
       " [9416] 0.2511871 0.2738706 0.2277948 0.2738706 0.2226258 0.2226258 0.2226258\n",
       " [9423] 0.2738706 0.2306701 0.2461329 0.2277948 0.2322274 0.2511871 0.2432215\n",
       " [9430] 0.2511871 0.2277948 0.2444089 0.2845029 0.2444089 0.2710368 0.2710368\n",
       " [9437] 0.2927950 0.2710368 0.2710368 0.2599639 0.2945420 0.2551727 0.2444089\n",
       " [9444] 0.2945420 0.2444089 0.2444089 0.2861870 0.2548182 0.2570813 0.2861870\n",
       " [9451] 0.2548182 0.2570813 0.2548182 0.2945420 0.2861870 0.2490895 0.2710368\n",
       " [9458] 0.2710368 0.2845029 0.2861870 0.2710368 0.2444089 0.2710368 0.2752622\n",
       " [9465] 0.2710368 0.2845029 0.2444089 0.2570813 0.2927950 0.2710368 0.2710368\n",
       " [9472] 0.2490895 0.2444089 0.2444089 0.2444089 0.2570813 0.2483339 0.2444089\n",
       " [9479] 0.2861870 0.2444089 0.2444089 0.2845029 0.2945420 0.2710368 0.2444089\n",
       " [9486] 0.2547099 0.2483339 0.2731113 0.2444089 0.2483339 0.2710368 0.2444089\n",
       " [9493] 0.2653149 0.2831111 0.2570813 0.2548182 0.2444089 0.2444089 0.2710368\n",
       " [9500] 0.2490895 0.2444089 0.2444089 0.2653149 0.2444089 0.2444089 0.2831111\n",
       " [9507] 0.2483339 0.2710368 0.2444089 0.2444089 0.2547099 0.2861870 0.2444089\n",
       " [9514] 0.2444089 0.2444089 0.2599639 0.2444089 0.2945420 0.2945420 0.2547099\n",
       " [9521] 0.2945420 0.2444089 0.2444089 0.2861870 0.2718334 0.2444089 0.2861870\n",
       " [9528] 0.2035801 0.2121720 0.2621474 0.2019918 0.2519313 0.2085299 0.2267558\n",
       " [9535] 0.2267558 0.2121720 0.2707490 0.2529495 0.2182680 0.2063638 0.2621474\n",
       " [9542] 0.2085299 0.2267558 0.2621474 0.2121720 0.2621474 0.2035801 0.2267558\n",
       " [9549] 0.2707490 0.2121720 0.2534834 0.2063638 0.2671779 0.2219393 0.2219393\n",
       " [9556] 0.2121720 0.2519313 0.2519313 0.2529495 0.2519313 0.2707490 0.2243931\n",
       " [9563] 0.2519313 0.2342785 0.2119628 0.2621474 0.2519313 0.2621474 0.2342785\n",
       " [9570] 0.2219393 0.2267558 0.2267558 0.2219393 0.2182680 0.2267558 0.2119628\n",
       " [9577] 0.2219393 0.2707490 0.2267558 0.2219393 0.2529495 0.2182680 0.2063638\n",
       " [9584] 0.2267558 0.2707490 0.2621474 0.2219393 0.2621474 0.2182680 0.2182680\n",
       " [9591] 0.2219393 0.2219393 0.2063638 0.2621474 0.2671779 0.2519313 0.2219393\n",
       " [9598] 0.2519313 0.2267558 0.2219393 0.2063638 0.2267558 0.2671779 0.2519313\n",
       " [9605] 0.2219393 0.2519313 0.2243931 0.2219393 0.2267558 0.2316659 0.2534251\n",
       " [9612] 0.2540958 0.2519712 0.2781992 0.2534251 0.2687792 0.2534251 0.2519712\n",
       " [9619] 0.2820821 0.2687792 0.2720442 0.2534251 0.2316659 0.2497939 0.2586842\n",
       " [9626] 0.2534251 0.2316659 0.2316659 0.2720442 0.2262050 0.2519712 0.2720442\n",
       " [9633] 0.2423522 0.2586842 0.2423522 0.2540958 0.2534251 0.2423522 0.2540958\n",
       " [9640] 0.2720442 0.2687792 0.2820821 0.2720442 0.2423522 0.2263500 0.2586842\n",
       " [9647] 0.2720442 0.2781992 0.2540958 0.2820821 0.2720442 0.2820821 0.2361719\n",
       " [9654] 0.2720442 0.2820821 0.2316659 0.2820821 0.2720442 0.2463737 0.2540958\n",
       " [9661] 0.2534251 0.2540958 0.2534251 0.2586842 0.2820821 0.2720442 0.2820821\n",
       " [9668] 0.2497939 0.2540958 0.2464017 0.2316659 0.2534251 0.2534251 0.2540958\n",
       " [9675] 0.2586842 0.2534251 0.2720442 0.2586842 0.2423522 0.2262050 0.2497939\n",
       " [9682] 0.2316659 0.2586842 0.2534251 0.2820821 0.2687792 0.2687792 0.2519712\n",
       " [9689] 0.2820821 0.2586842 0.2361719 0.2820821 0.2316659 0.2820821 0.2540958\n",
       " [9696] 0.2832877 0.2497939 0.2820821 0.2687792 0.2423522 0.2431124 0.2366670\n",
       " [9703] 0.2530236 0.2367435 0.2362443 0.2367435 0.2440524 0.2605803 0.2431124\n",
       " [9710] 0.2366670 0.2378604 0.2632079 0.2763657 0.2763657 0.2632079 0.2431124\n",
       " [9717] 0.2461535 0.2763657 0.2431124 0.2605803 0.2378604 0.2459877 0.2800404\n",
       " [9724] 0.2778243 0.2378604 0.2632079 0.2431124 0.2522426 0.2605803 0.2800404\n",
       " [9731] 0.2800404 0.2800404 0.2800404 0.2440524 0.2440524 0.2632079 0.2605803\n",
       " [9738] 0.2440524 0.2522426 0.2605803 0.2605803 0.2461535 0.2431124 0.2360275\n",
       " [9745] 0.2893941 0.2440524 0.2440524 0.2362443 0.2366670 0.2440524 0.2530236\n",
       " [9752] 0.2632079 0.2431124 0.2605803 0.2431124 0.2778243 0.2431124 0.2522426\n",
       " [9759] 0.2431124 0.2360275 0.2605803 0.2431124 0.2440524 0.2431124 0.2431124\n",
       " [9766] 0.2444964 0.2440524 0.2378604 0.2362443 0.2378604 0.2763657 0.2367435\n",
       " [9773] 0.2440524 0.2632079 0.2360275 0.2632079 0.2431124 0.2363403 0.2440524\n",
       " [9780] 0.2367435 0.2363403 0.2431124 0.2378604 0.2431124 0.2367435 0.2362443\n",
       " [9787] 0.2360275 0.2363403 0.2605803 0.2440524 0.2366670 0.2632079 0.2431124\n",
       " [9794] 0.2362443 0.2360275 0.2431124 0.2632079 0.2431124 0.2431124 0.2440524\n",
       " [9801] 0.2440524 0.2605803 0.2431124 0.2461535 0.2360275 0.2605803 0.2632079\n",
       " [9808] 0.2431124 0.2605803 0.2440524 0.2366670 0.2431124 0.2360275 0.2431124\n",
       " [9815] 0.2378604 0.2378604 0.2360275 0.2605803 0.2431124 0.2605803 0.2360275\n",
       " [9822] 0.2431124 0.2440524 0.2366670 0.2367435 0.2363403 0.2605803 0.2495631\n",
       " [9829] 0.2559948 0.2646058 0.2450868 0.2884756 0.2571904 0.2971723 0.2971723\n",
       " [9836] 0.2528217 0.2559948 0.2646058 0.2559948 0.2971723 0.2971723 0.2528217\n",
       " [9843] 0.2646058 0.2971723 0.2971723 0.2606084 0.2450868 0.2559795 0.2758720\n",
       " [9850] 0.3035688 0.3035688 0.2884756 0.2559948 0.2758720 0.2884756 0.2559948\n",
       " [9857] 0.2924741 0.2758720 0.2924741 0.2758720 0.2884756 0.2884756 0.2758720\n",
       " [9864] 0.2490266 0.2758720 0.2559795 0.2566538 0.2884756 0.3035688 0.2606084\n",
       " [9871] 0.2606084 0.2534284 0.2534284 0.2495631 0.2853446 0.2884756 0.2571904\n",
       " [9878] 0.2559948 0.2884756 0.2884756 0.3035688 0.2571904 0.3035688 0.2495631\n",
       " [9885] 0.2450868 0.2646058 0.2571904 0.2646058 0.2971723 0.2646058 0.2971723\n",
       " [9892] 0.2559948 0.2559948 0.2495631 0.2530530 0.2758720 0.2559948 0.2758720\n",
       " [9899] 0.2884756 0.2853446 0.2853446 0.2853446 0.2528130 0.2971723 0.2853446\n",
       " [9906] 0.2559948 0.2450868 0.2559948 0.2884756 0.2646058 0.3035688 0.2971723\n",
       " [9913] 0.2812689 0.2853446 0.2571904 0.2559948 0.2495631 0.2853446 0.2559948\n",
       " [9920] 0.2495631 0.2884756 0.2971723 0.2571904 0.2853446 0.2495631 0.2559948\n",
       " [9927] 0.2853446 0.2571904 0.2566538 0.2495631 0.2646058 0.2530530 0.2646058\n",
       " [9934] 0.2646058 0.2559795 0.2646058 0.2646058 0.2646058 0.2559948 0.2971723\n",
       " [9941] 0.2758720 0.2646058 0.2571904 0.2971723 0.2971723 0.3035688 0.2971723\n",
       " [9948] 0.3035688 0.2758720 0.2559795 0.2559948 0.2971723 0.2571904 0.2646058\n",
       " [9955] 0.2853446 0.2528217 0.2530530 0.2646058 0.2452592 0.2646058 0.2559948\n",
       " [9962] 0.2450868 0.2559795 0.2559948 0.2646058 0.2450868 0.2971723 0.2853446\n",
       " [9969] 0.2571904 0.2528130 0.2646058 0.2646058 0.2559948 0.2971723 0.2646058\n",
       " [9976] 0.2495631 0.2450868 0.2450868 0.2971723 0.2559948 0.2559948 0.2853446\n",
       " [9983] 0.2853446 0.2606084 0.2571904 0.2646058 0.2495631 0.3035688 0.2571904\n",
       " [9990] 0.2758720 0.2853446 0.2528130 0.2971723 0.2571904 0.2559795 0.3035688\n",
       " [9997] 0.2559948 0.2495631 0.2758720 0.2646058 0.2559948 0.2646058 0.3035688\n",
       "[10004] 0.2559795 0.2646058 0.2495631 0.2758720 0.2924741 0.2703514 0.2931147\n",
       "[10011] 0.2939482 0.2678500 0.2931147 0.2897166 0.2939482 0.2744391 0.2805827\n",
       "[10018] 0.2744391 0.2939482 0.2807463 0.2678500 0.2678500 0.2931147 0.2655524\n",
       "[10025] 0.2678500 0.2805827 0.2912780 0.2939482 0.2744391 0.2744391 0.2744391\n",
       "[10032] 0.2912780 0.2678500 0.2931147 0.2850014 0.2897166 0.2931147 0.2873538\n",
       "[10039] 0.2744391 0.2850014 0.2897166 0.2850014 0.2850014 0.2678500 0.2805827\n",
       "[10046] 0.2850014 0.2778647 0.2744391 0.2850014 0.2850014 0.2728566 0.2918470\n",
       "[10053] 0.2850014 0.2939482 0.2744391 0.2807463 0.2728566 0.2897166 0.2718993\n",
       "[10060] 0.2850014 0.2678500 0.2850014 0.2850014 0.2850014 0.2873538 0.2873538\n",
       "[10067] 0.2805827 0.2736987 0.2703514 0.2850014 0.2678500 0.2678500 0.2873538\n",
       "[10074] 0.2807463 0.2897166 0.2807463 0.2897166 0.2807463 0.2736987 0.2897166\n",
       "[10081] 0.2703514 0.2643342 0.2703514 0.2807463 0.2939482 0.2678500 0.2744391\n",
       "[10088] 0.2678500 0.2744391 0.2744391 0.2939482 0.2744391 0.2939482 0.2678500\n",
       "[10095] 0.2678500 0.2703514 0.2678500 0.2939482 0.2912780 0.2931147 0.2931147\n",
       "[10102] 0.2678500 0.2678500 0.2678500 0.2931147 0.2576142 0.2577543 0.2703514\n",
       "[10109] 0.2805827 0.2805827 0.2643342 0.2807463 0.2850014 0.2686995 0.2643342\n",
       "[10116] 0.2850014 0.2873538 0.2678500 0.2736987 0.2805827 0.2703514 0.2897166\n",
       "[10123] 0.2897166 0.2678500 0.2931147 0.2897166 0.2805827 0.2736987 0.2850014\n",
       "[10130] 0.2931147 0.2703514 0.2918470 0.2912780 0.2939482 0.2912780 0.2703514\n",
       "[10137] 0.2559348 0.2610356 0.2823312 0.2449373 0.2663283 0.2616244 0.2472261\n",
       "[10144] 0.2810159 0.2521192 0.2616244 0.2542923 0.2542923 0.2784841 0.2897033\n",
       "[10151] 0.2449373 0.2524524 0.2559348 0.2715018 0.2542923 0.2388072 0.2472261\n",
       "[10158] 0.2784841 0.2784841 0.2821339 0.2559348 0.2784841 0.2663283 0.2663283\n",
       "[10165] 0.2906111 0.2715018 0.2663283 0.2542923 0.2784841 0.2472261 0.2542923\n",
       "[10172] 0.2663283 0.2542923 0.2542923 0.2821339 0.2542923 0.2715018 0.2897033\n",
       "[10179] 0.2821339 0.2897033 0.2542923 0.2784841 0.2542923 0.2449373 0.2542923\n",
       "[10186] 0.2784841 0.2784841 0.2784841 0.2616244 0.2449373 0.2715018 0.2542923\n",
       "[10193] 0.2784841 0.2472261 0.2663283 0.2715018 0.2663283 0.2663283 0.2784841\n",
       "[10200] 0.2449373 0.2542923 0.2663283 0.2784841 0.2906111 0.2663283 0.2521192\n",
       "[10207] 0.2542923 0.2715018 0.2559348 0.2542923 0.2559348 0.2616244 0.2663283\n",
       "[10214] 0.2559348 0.2616244 0.2521192 0.2906111 0.2663283 0.2542923 0.2559348\n",
       "[10221] 0.2821339 0.2449373 0.2784841 0.2784841 0.2663283 0.2784841 0.2784841\n",
       "[10228] 0.2449373 0.2821339 0.2784841 0.2449373 0.2784841 0.2542923 0.2784841\n",
       "[10235] 0.2821339 0.2663283 0.2784841 0.2542923 0.2784841 0.2897033 0.2542923\n",
       "[10242] 0.2784841 0.2521192 0.2472261 0.2449373 0.2472261 0.2559348 0.2784841\n",
       "[10249] 0.2472261 0.2542923 0.2663283 0.2449373 0.2663283 0.2784841 0.2784841\n",
       "[10256] 0.2449373 0.2821339 0.2663283 0.2525554 0.2542923 0.2784841 0.2663283\n",
       "[10263] 0.2449373 0.2663283 0.2810159 0.2559348 0.2559348 0.2559348 0.2616244\n",
       "[10270] 0.2559348 0.2610356 0.2663283 0.2784841 0.2784841 0.2542923 0.2663283\n",
       "[10277] 0.2784841 0.2663283 0.2521192 0.2784841 0.2663283 0.2521192 0.2906111\n",
       "[10284] 0.2542923 0.2784841 0.2449373 0.2393396 0.2521192 0.2784841 0.2784841\n",
       "[10291] 0.2542923 0.2542923 0.2663283 0.2542923 0.2472261 0.2663283 0.2449373\n",
       "[10298] 0.2821339 0.2784841 0.2616244 0.2823312 0.2524524 0.2897033 0.2663283\n",
       "[10305] 0.2469830 0.2388072 0.2542923 0.2663283 0.2542923 0.2784841 0.2542923\n",
       "[10312] 0.2449373 0.2823312 0.2449373 0.2542923 0.2388072 0.2472261 0.2472261\n",
       "[10319] 0.2616244 0.2542923 0.2521192 0.2449373 0.2393396 0.2449373 0.2784841\n",
       "[10326] 0.2466153 0.2449373 0.2542923 0.2542923 0.2472261 0.2472261 0.2449373\n",
       "[10333] 0.2897033 0.2542923 0.2472261 0.2559348 0.2449373 0.2542923 0.2449373\n",
       "[10340] 0.2472261 0.2466153 0.2449373 0.2542923 0.1964873 0.2457336 0.2409074\n",
       "[10347] 0.1964873 0.2584992 0.2393330 0.2078412 0.2409074 0.2393330 0.2547364\n",
       "[10354] 0.1901570 0.2393330 0.2240016 0.1901570 0.1901570 0.2796186 0.2078412\n",
       "[10361] 0.1901570 0.2409074 0.2078412 0.1964873 0.2078412 0.2676011 0.1964873\n",
       "[10368] 0.2148565 0.1967063 0.2240016 0.1901570 0.2148565 0.2409074 0.2409074\n",
       "[10375] 0.1901570 0.2078412 0.2249626 0.2676011 0.2547364 0.1964873 0.2249626\n",
       "[10382] 0.1901570 0.2078412 0.2393330 0.2393330 0.2249218 0.2735578 0.2735578\n",
       "[10389] 0.2140845 0.2393330 0.1901570"
      ]
     },
     "metadata": {},
     "output_type": "display_data"
    }
   ],
   "source": [
    "tau.hat #"
   ]
  },
  {
   "cell_type": "markdown",
   "id": "288f2553",
   "metadata": {},
   "source": [
    "After all the process, the CATE are predicted for clusterized causal forests. "
   ]
  },
  {
   "cell_type": "markdown",
   "id": "f8567843",
   "metadata": {},
   "source": [
    "### Estimate ATE"
   ]
  },
  {
   "cell_type": "code",
   "execution_count": 7,
   "id": "e65d6216",
   "metadata": {},
   "outputs": [
    {
     "data": {
      "text/html": [
       "'95% CI for the ATE: 0.248 +/- 0.041'"
      ],
      "text/latex": [
       "'95\\% CI for the ATE: 0.248 +/- 0.041'"
      ],
      "text/markdown": [
       "'95% CI for the ATE: 0.248 +/- 0.041'"
      ],
      "text/plain": [
       "[1] \"95% CI for the ATE: 0.248 +/- 0.041\""
      ]
     },
     "metadata": {},
     "output_type": "display_data"
    }
   ],
   "source": [
    "ATE = average_treatment_effect(cf)\n",
    "paste(\"95% CI for the ATE:\", round(ATE[1], 3),\n",
    "      \"+/-\", round(qnorm(0.975) * ATE[2], 3))"
   ]
  },
  {
   "cell_type": "markdown",
   "id": "de0d021c",
   "metadata": {},
   "source": [
    "This sections tries to know the overall effectiveness of the treatment. The resoult says that the estimated ATE is 0.248 with +/- 0.041 of confidence interval, this application suggests that the treatment had a large positive effect on average. "
   ]
  },
  {
   "cell_type": "markdown",
   "id": "ed642e41",
   "metadata": {},
   "source": [
    "### Omnibus tests for heterogeneity\n",
    "\n",
    "### Run best linear predictor analysis"
   ]
  },
  {
   "cell_type": "code",
   "execution_count": 8,
   "id": "36e1e40a",
   "metadata": {},
   "outputs": [
    {
     "data": {
      "text/plain": [
       "\n",
       "Best linear fit using forest predictions (on held-out data)\n",
       "as well as the mean forest prediction as regressors, along\n",
       "with one-sided heteroskedasticity-robust (HC3) SEs:\n",
       "\n",
       "                               Estimate Std. Error t value Pr(>t)    \n",
       "mean.forest.prediction         0.992560   0.082569 12.0210 <2e-16 ***\n",
       "differential.forest.prediction 0.275835   0.616262  0.4476 0.3272    \n",
       "---\n",
       "Signif. codes:  0 '***' 0.001 '**' 0.01 '*' 0.05 '.' 0.1 ' ' 1\n"
      ]
     },
     "metadata": {},
     "output_type": "display_data"
    },
    {
     "data": {
      "text/html": [
       "'95% CI for difference in ATE: 0.037 +/- 0.074'"
      ],
      "text/latex": [
       "'95\\% CI for difference in ATE: 0.037 +/- 0.074'"
      ],
      "text/markdown": [
       "'95% CI for difference in ATE: 0.037 +/- 0.074'"
      ],
      "text/plain": [
       "[1] \"95% CI for difference in ATE: 0.037 +/- 0.074\""
      ]
     },
     "metadata": {},
     "output_type": "display_data"
    }
   ],
   "source": [
    "test_calibration(cf)\n",
    "\n",
    "# Compare regions with high and low estimated CATEs\n",
    "\n",
    "\n",
    "high_effect = tau.hat > median(tau.hat)\n",
    "\n",
    "# Estimation of ATE for ate high and low\n",
    "ate.high = average_treatment_effect(cf, subset = high_effect)\n",
    "ate.low = average_treatment_effect(cf, subset = !high_effect)\n",
    "paste(\"95% CI for difference in ATE:\",\n",
    "      round(ate.high[1] - ate.low[1], 3), \"+/-\",\n",
    "      round(qnorm(0.975) * sqrt(ate.high[2]^2 + ate.low[2]^2), 3))"
   ]
  },
  {
   "cell_type": "markdown",
   "id": "5c4dd7e7",
   "metadata": {},
   "source": [
    "Now is important to test the treatment heterogeneity, despite plotting the estimated CATE and noticing there is treatment heterogeneity. There are two approaches to test heterogeneity, The first approach groups observations according to whether their out-of-bag CATE estimates are above or below the median CATE estimate, and then estimating average treatment effects in these two subgroups separately using the doubly robust approach.The second approach tests for heterogeneity by the $best linear predictor$ method. Running both methods, we can conclude that there is heterogeneity, but neither is significant. Thus, at least if we insist on cluster-robust inference, any treatment heterogeneity that may be present appears to be relatively weak, and causal forests do not identify subgroups with effects that obviously stand out. In sum, althought we didn't find strong evidence of treatment heterogeneity, this doesn't implies there isn't heterogeneity. "
   ]
  },
  {
   "cell_type": "code",
   "execution_count": 9,
   "id": "e8e73482",
   "metadata": {},
   "outputs": [
    {
     "data": {
      "text/plain": [
       "\n",
       "\tWelch Two Sample t-test\n",
       "\n",
       "data:  school.score[high.X1] and school.score[!high.X1]\n",
       "t = -3.0796, df = 71.402, p-value = 0.002942\n",
       "alternative hypothesis: true difference in means is not equal to 0\n",
       "95 percent confidence interval:\n",
       " -0.19481996 -0.04169622\n",
       "sample estimates:\n",
       "mean of x mean of y \n",
       "0.1885602 0.3068183 \n"
      ]
     },
     "metadata": {},
     "output_type": "display_data"
    },
    {
     "data": {
      "text/plain": [
       "\n",
       "\tWelch Two Sample t-test\n",
       "\n",
       "data:  school.score[high.X2] and school.score[!high.X2]\n",
       "t = 1.0011, df = 72.229, p-value = 0.3201\n",
       "alternative hypothesis: true difference in means is not equal to 0\n",
       "95 percent confidence interval:\n",
       " -0.04020131  0.12131665\n",
       "sample estimates:\n",
       "mean of x mean of y \n",
       "0.2679681 0.2274105 \n"
      ]
     },
     "metadata": {},
     "output_type": "display_data"
    },
    {
     "data": {
      "text/plain": [
       "                 Df Sum Sq Mean Sq F value Pr(>F)\n",
       "school.X2.levels  2  0.085 0.04251   1.377  0.259\n",
       "Residuals        73  2.254 0.03088               "
      ]
     },
     "metadata": {},
     "output_type": "display_data"
    }
   ],
   "source": [
    "#\n",
    "# formal test for X1 and X2\n",
    "#\n",
    "\n",
    "dr.score = tau.hat + W / cf$W.hat *\n",
    "  (Y - cf$Y.hat - (1 - cf$W.hat) * tau.hat) -\n",
    "  (1 - W) / (1 - cf$W.hat) * (Y - cf$Y.hat + cf$W.hat * tau.hat)\n",
    "school.score = t(school.mat) %*% dr.score / school.size\n",
    "\n",
    "school.X1 = t(school.mat) %*% X$X1 / school.size\n",
    "high.X1 = school.X1 > median(school.X1)\n",
    "t.test(school.score[high.X1], school.score[!high.X1])\n",
    "\n",
    "school.X2 = (t(school.mat) %*% X$X2) / school.size\n",
    "high.X2 = school.X2 > median(school.X2)\n",
    "t.test(school.score[high.X2], school.score[!high.X2])\n",
    "\n",
    "school.X2.levels = cut(school.X2,\n",
    "  breaks = c(-Inf, quantile(school.X2, c(1/3, 2/3)), Inf))\n",
    "summary(aov(school.score ~ school.X2.levels))"
   ]
  },
  {
   "cell_type": "markdown",
   "id": "fa20f8b9",
   "metadata": {},
   "source": [
    "- For $X1$: we can notice that there is heterogeneity in $X1$ variable.Also, this heterogeneous effect is significant, since it´s condifence interval doesn't contain zero value.  \n",
    "- For $X2$: there is no very striking heterogeneity, since the estimated coefficient is not significant"
   ]
  },
  {
   "cell_type": "code",
   "execution_count": 10,
   "id": "206ce483",
   "metadata": {},
   "outputs": [
    {
     "data": {
      "text/plain": [
       "\n",
       "\tOne Sample t-test\n",
       "\n",
       "data:  school.score.XS3.high - school.score.XS3.low\n",
       "t = 2.2544, df = 75, p-value = 0.02709\n",
       "alternative hypothesis: true mean is not equal to 0\n",
       "95 percent confidence interval:\n",
       " 0.0100095 0.1620529\n",
       "sample estimates:\n",
       " mean of x \n",
       "0.08603122 \n"
      ]
     },
     "metadata": {},
     "output_type": "display_data"
    },
    {
     "data": {
      "image/png": "[encoded data removed]",
      "text/plain": [
       "plot without title"
      ]
     },
     "metadata": {
      "image/png": {
       "height": 420,
       "width": 420
      }
     },
     "output_type": "display_data"
    }
   ],
   "source": [
    "#\n",
    "# formal test for S3\n",
    "#\n",
    "\n",
    "school.score.XS3.high = t(school.mat) %*% (dr.score * (X$S3 >= 6)) /\n",
    "  t(school.mat) %*% (X$S3 >= 6)\n",
    "school.score.XS3.low = t(school.mat) %*% (dr.score * (X$S3 < 6)) /\n",
    "  t(school.mat) %*% (X$S3 < 6)\n",
    "\n",
    "plot(school.score.XS3.low, school.score.XS3.high)\n",
    "t.test(school.score.XS3.high - school.score.XS3.low)"
   ]
  },
  {
   "cell_type": "markdown",
   "id": "986897e9",
   "metadata": {},
   "source": [
    "### Look at school-wise heterogeneity"
   ]
  },
  {
   "cell_type": "code",
   "execution_count": 11,
   "id": "7e2e05a3",
   "metadata": {},
   "outputs": [
    {
     "data": {
      "image/png": "[encoded data removed]",
      "text/plain": [
       "Plot with title \"\""
      ]
     },
     "metadata": {
      "image/png": {
       "height": 420,
       "width": 420
      }
     },
     "output_type": "display_data"
    }
   ],
   "source": [
    "#pdf(\"school_hist.pdf\")\n",
    "pardef = par(mar = c(5, 4, 4, 2) + 0.5, cex.lab=1.5, cex.axis=1.5, cex.main=1.5, cex.sub=1.5)\n",
    "hist(school.score, xlab = \"School Treatment Effect Estimate\", main = \"\")\n",
    "#dev.off()\n"
   ]
  },
  {
   "cell_type": "markdown",
   "id": "dd8d8149",
   "metadata": {},
   "source": [
    "At the beginning of the article, the authors mentioned that two variables were of interest $X1$ (School-level mean of students' fixed mindsets reported before random assignment) $X2$(School achievement level, both covariates are refere to school-level,  measured by test scores and college preparation for the previous 4 cohorts of students) because of the possible heterogeneity, so it is plausible that a test for heterogeneity that focuses on these two variables may have more power than the approaches developed before. In this way, this graphics depicts heterogenity because the school treatment effect estimate take diferent estimated values. "
   ]
  },
  {
   "cell_type": "code",
   "execution_count": 12,
   "id": "cfcea7ce",
   "metadata": {},
   "outputs": [
    {
     "name": "stdout",
     "output_type": "stream",
     "text": [
      "[1] \"0.248 +/- 0.04\"\n"
     ]
    }
   ],
   "source": [
    "#\n",
    "# Re-check ATE... sanity check only\n",
    "#\n",
    "\n",
    "ate.hat = mean(school.score)\n",
    "se.hat = sqrt(var(school.score) / length(school.score - 1))\n",
    "print(paste(round(ate.hat, 3), \"+/-\", round(1.96 * se.hat, 3)))"
   ]
  },
  {
   "cell_type": "code",
   "execution_count": 13,
   "id": "532d023e",
   "metadata": {},
   "outputs": [
    {
     "data": {
      "image/png": "[encoded data removed]",
      "text/plain": [
       "plot without title"
      ]
     },
     "metadata": {
      "image/png": {
       "height": 420,
       "width": 420
      }
     },
     "output_type": "display_data"
    }
   ],
   "source": [
    "#\n",
    "# Look at variation in propensity scores\n",
    "# PAG 3\n",
    "\n",
    "DF = X\n",
    "DF$W.hat = cf$W.hat\n",
    "\n",
    "#pdf(\"pscore.pdf\")\n",
    "pardef = par(mar = c(5, 4, 4, 2) + 0.5, cex.lab=1.5, cex.axis=1.5, cex.main=1.5, cex.sub=1.5)\n",
    "boxplot(W.hat ~ S3, data = DF, ylab = \"Propensity Score\", xlab = \"Student Expectation of Success\")\n",
    "lines(smooth.spline(X$S3, cf$W.hat), lwd = 2, col = 4)\n",
    "#dev.off()"
   ]
  },
  {
   "cell_type": "markdown",
   "id": "a24d1f11",
   "metadata": {},
   "source": [
    "This graphics shows shows that students with higher expectations of success ($S3$) have higher probabilities to recive the treatment $W$."
   ]
  },
  {
   "cell_type": "markdown",
   "id": "d177d723",
   "metadata": {},
   "source": [
    "### Analysis ignoring clusters"
   ]
  },
  {
   "cell_type": "code",
   "execution_count": 14,
   "id": "92d1a778",
   "metadata": {},
   "outputs": [
    {
     "data": {
      "text/html": [
       "'95% CI for the ATE: 0.253 +/- 0.022'"
      ],
      "text/latex": [
       "'95\\% CI for the ATE: 0.253 +/- 0.022'"
      ],
      "text/markdown": [
       "'95% CI for the ATE: 0.253 +/- 0.022'"
      ],
      "text/plain": [
       "[1] \"95% CI for the ATE: 0.253 +/- 0.022\""
      ]
     },
     "metadata": {},
     "output_type": "display_data"
    },
    {
     "data": {
      "text/plain": [
       "\n",
       "Best linear fit using forest predictions (on held-out data)\n",
       "as well as the mean forest prediction as regressors, along\n",
       "with one-sided heteroskedasticity-robust (HC3) SEs:\n",
       "\n",
       "                               Estimate Std. Error t value    Pr(>t)    \n",
       "mean.forest.prediction         1.009318   0.045006 22.4261 < 2.2e-16 ***\n",
       "differential.forest.prediction 0.533711   0.123261  4.3299 7.528e-06 ***\n",
       "---\n",
       "Signif. codes:  0 '***' 0.001 '**' 0.01 '*' 0.05 '.' 0.1 ' ' 1\n"
      ]
     },
     "metadata": {},
     "output_type": "display_data"
    },
    {
     "name": "stdout",
     "output_type": "stream",
     "text": [
      "[1] 1\n",
      "[1] 2\n",
      "[1] 3\n",
      "[1] 4\n",
      "[1] 5\n"
     ]
    },
    {
     "data": {
      "text/plain": [
       "\n",
       "Best linear fit using forest predictions (on held-out data)\n",
       "as well as the mean forest prediction as regressors, along\n",
       "with one-sided heteroskedasticity-robust (HC3) SEs:\n",
       "\n",
       "                               Estimate Std. Error t value Pr(>t)    \n",
       "mean.forest.prediction         0.979843   0.064856 15.1079 <2e-16 ***\n",
       "differential.forest.prediction 0.147340   0.213052  0.6916 0.2446    \n",
       "---\n",
       "Signif. codes:  0 '***' 0.001 '**' 0.01 '*' 0.05 '.' 0.1 ' ' 1\n"
      ]
     },
     "metadata": {},
     "output_type": "display_data"
    },
    {
     "data": {
      "text/html": [
       "<style>\n",
       ".list-inline {list-style: none; margin:0; padding: 0}\n",
       ".list-inline>li {display: inline-block}\n",
       ".list-inline>li:not(:last-child)::after {content: \"\\00b7\"; padding: 0 .5ex}\n",
       "</style>\n",
       "<ol class=list-inline><li>-3.86745890349482e-05</li><li>0.00070962679292641</li></ol>\n"
      ],
      "text/latex": [
       "\\begin{enumerate*}\n",
       "\\item -3.86745890349482e-05\n",
       "\\item 0.00070962679292641\n",
       "\\end{enumerate*}\n"
      ],
      "text/markdown": [
       "1. -3.86745890349482e-05\n",
       "2. 0.00070962679292641\n",
       "\n",
       "\n"
      ],
      "text/plain": [
       "[1] -3.867459e-05  7.096268e-04"
      ]
     },
     "metadata": {},
     "output_type": "display_data"
    },
    {
     "data": {
      "text/plain": [
       "                     Df Sum Sq Mean Sq F value  Pr(>F)    \n",
       "factor(school.id)    75    203   2.708   1.999 7.3e-07 ***\n",
       "Residuals         10315  13972   1.355                    \n",
       "---\n",
       "Signif. codes:  0 '***' 0.001 '**' 0.01 '*' 0.05 '.' 0.1 ' ' 1"
      ]
     },
     "metadata": {},
     "output_type": "display_data"
    },
    {
     "data": {
      "image/png": "[encoded data removed]",
      "text/plain": [
       "plot without title"
      ]
     },
     "metadata": {
      "image/png": {
       "height": 420,
       "width": 420
      }
     },
     "output_type": "display_data"
    }
   ],
   "source": [
    "cf.noclust = causal_forest(X[,selected.idx], Y, W,\n",
    "                           Y.hat = Y.hat, W.hat = W.hat,\n",
    "                           tune.parameters = \"all\")\n",
    "\n",
    "ATE.noclust = average_treatment_effect(cf.noclust)\n",
    "paste(\"95% CI for the ATE:\", round(ATE.noclust[1], 3),\n",
    "      \"+/-\", round(qnorm(0.975) * ATE.noclust[2], 3))\n",
    "\n",
    "test_calibration(cf.noclust)\n",
    "\n",
    "tau.hat.noclust = predict(cf.noclust)$predict\n",
    "plot(school.id, tau.hat.noclust)\n",
    "\n",
    "nfold = 5\n",
    "school.levels = unique(school.id)\n",
    "cluster.folds = sample.int(nfold, length(school.levels), replace = TRUE)\n",
    "\n",
    "tau.hat.crossfold = rep(NA, length(Y))\n",
    "for (foldid in 1:nfold) {\n",
    "  print(foldid)\n",
    "  infold = school.id %in% school.levels[cluster.folds == foldid]\n",
    "  cf.fold = causal_forest(X[!infold, selected.idx], Y[!infold], W[!infold],\n",
    "                          Y.hat = Y.hat[!infold], W.hat = W.hat[!infold],\n",
    "                          tune.parameters = \"all\")\n",
    "  pred.fold = predict(cf.fold, X[infold, selected.idx])$predictions\n",
    "  tau.hat.crossfold[infold] = pred.fold\n",
    "}\n",
    "\n",
    "cf.noclust.cpy = cf.noclust\n",
    "cf.noclust.cpy$predictions = tau.hat.crossfold\n",
    "cf.noclust.cpy$clusters = school.id\n",
    "test_calibration(cf.noclust.cpy)\n",
    "\n",
    "Rloss = mean(((Y - Y.hat) - tau.hat * (W - W.hat))^2)\n",
    "Rloss.noclust = mean(((Y - Y.hat) - tau.hat.noclust * (W - W.hat))^2)\n",
    "Rloss.crossfold = mean(((Y - Y.hat) - tau.hat.crossfold * (W - W.hat))^2)\n",
    "\n",
    "c(Rloss.noclust - Rloss, Rloss.crossfold - Rloss)\n",
    "\n",
    "summary(aov(dr.score ~ factor(school.id)))"
   ]
  },
  {
   "cell_type": "markdown",
   "id": "b705b082",
   "metadata": {},
   "source": [
    "There are two differences between this article analysis and classic causal forest analysis since this article includes cluster-robust methods and orthogonalization for robustness to confounding. In this section, the authors estimate CATE from a non-cluster-robust causal forest. The histogram of the distribution of the CATE estimates with no clustering shows that the variation es vary from 0.26 to 0.36, whereas the cluster-robust estimate of its mean CATE was roughly 0.2.\n",
    "\n",
    "On the second part of the programming, the data is divided into 5-fold version of causal forest algorithm where the forests themselves are not cluster-robust, but the estimation folds are cluster aligned. First, this algorithm split the schools into 5 folds; then each fold  fit a causal forest without clustering on observations belonging to schools in the 4/5 other folds, and made CATE estimates on the held out fold. \n",
    "\n",
    "In sum, while the first method concludes that there is no presence of heterogeneity and the result is far from the causal forest whith clusterization, the second method (5-fold version) a tenous evidence for the presence of heterogeneity is found.In other words, if we use evaluation methods that are robust to clustering, then the apparent gains from non-cluster-robust forests wash away."
   ]
  },
  {
   "cell_type": "markdown",
   "id": "287371a4",
   "metadata": {},
   "source": [
    "### Analaysis without fitting the propensity score"
   ]
  },
  {
   "cell_type": "code",
   "execution_count": 15,
   "id": "126cc7fb",
   "metadata": {},
   "outputs": [
    {
     "data": {
      "text/html": [
       "'95% CI for the ATE: 0.254 +/- 0.041'"
      ],
      "text/latex": [
       "'95\\% CI for the ATE: 0.254 +/- 0.041'"
      ],
      "text/markdown": [
       "'95% CI for the ATE: 0.254 +/- 0.041'"
      ],
      "text/plain": [
       "[1] \"95% CI for the ATE: 0.254 +/- 0.041\""
      ]
     },
     "metadata": {},
     "output_type": "display_data"
    },
    {
     "data": {
      "image/png": "[encoded data removed]",
      "text/plain": [
       "plot without title"
      ]
     },
     "metadata": {
      "image/png": {
       "height": 420,
       "width": 420
      }
     },
     "output_type": "display_data"
    }
   ],
   "source": [
    "cf.noprop = causal_forest(X[,selected.idx], Y, W,\n",
    "                          Y.hat = Y.hat, W.hat = mean(W),\n",
    "                          tune.parameters = \"all\",\n",
    "                          equalize.cluster.weights = TRUE,\n",
    "                          clusters = school.id)\n",
    "tau.hat.noprop = predict(cf.noprop)$predictions\n",
    "\n",
    "ATE.noprop = average_treatment_effect(cf.noprop)\n",
    "paste(\"95% CI for the ATE:\", round(ATE.noprop[1], 3),\n",
    "      \"+/-\", round(qnorm(0.975) * ATE.noprop[2], 3))\n",
    "\n",
    "#pdf(\"tauhat_noprop.pdf\")\n",
    "pardef = par(mar = c(5, 4, 4, 2) + 0.5, cex.lab=1.5, cex.axis=1.5, cex.main=1.5, cex.sub=1.5)\n",
    "plot(tau.hat, tau.hat.noprop,\n",
    "     xlim = range(tau.hat, tau.hat.noprop),\n",
    "     ylim = range(tau.hat, tau.hat.noprop),\n",
    "     xlab = \"orthogonalized causal forest estimates\",\n",
    "     ylab = \"non-orthogonalized causal forest\")\n",
    "abline(0, 1, lwd = 2, lty = 2, col = 4)\n",
    "par = pardef\n",
    "#dev.off()"
   ]
  },
  {
   "cell_type": "markdown",
   "id": "960d9ba0",
   "metadata": {},
   "source": [
    "In this section, authors train a causal forests without estimating the propensity score or, that is to say the default propensity score, and if we estimate CATE with orthogonalization, the CATE estimates using both ways are almost the same using the trivial propensity. That is the causal forests trained with or without orthogonalization yield essentially the same CATE estimatesNevertheless, orthogonalization becomes important when there are some covariates that are highly predictive of treatment propensities but not very predictive of Y. \n",
    "\n",
    "The figure above compares the estimates from a forest trained with a trivial propensity score to predictions from the forest trained as in algorithm and uses an orthogonalized propensity score. We can conclude that estimation using both ways is almost the same"
   ]
  },
  {
   "cell_type": "code",
   "execution_count": 16,
   "id": "a1833536",
   "metadata": {},
   "outputs": [
    {
     "data": {
      "text/plain": [
       "\n",
       "Best linear fit using forest predictions (on held-out data)\n",
       "as well as the mean forest prediction as regressors, along\n",
       "with one-sided heteroskedasticity-robust (HC3) SEs:\n",
       "\n",
       "                               Estimate Std. Error t value Pr(>t)    \n",
       "mean.forest.prediction         0.990389   0.082107 12.0622 <2e-16 ***\n",
       "differential.forest.prediction 0.598579   0.727696  0.8226 0.2067    \n",
       "---\n",
       "Signif. codes:  0 '***' 0.001 '**' 0.01 '*' 0.05 '.' 0.1 ' ' 1\n"
      ]
     },
     "metadata": {},
     "output_type": "display_data"
    }
   ],
   "source": [
    "#\n",
    "# Train forest on school-wise DR scores\n",
    "#\n",
    "\n",
    "school.X = (t(school.mat) %*% as.matrix(X[,c(4:8, 25:28)])) / school.size\n",
    "school.X = data.frame(school.X)\n",
    "colnames(school.X) = c(\"X1\", \"X2\", \"X3\", \"X4\", \"X5\",\n",
    "                    \"XC.1\", \"XC.2\", \"XC.3\", \"XC.4\")\n",
    "\n",
    "dr.score = tau.hat + W / cf$W.hat * (Y - cf$Y.hat - (1 - cf$W.hat) * tau.hat) -\n",
    "  (1 - W) / (1 - cf$W.hat) * (Y - cf$Y.hat + cf$W.hat * tau.hat)\n",
    "school.score = t(school.mat) %*% dr.score / school.size\n",
    "\n",
    "school.forest = regression_forest(school.X, school.score)\n",
    "school.pred = predict(school.forest)$predictions\n",
    "test_calibration(school.forest)"
   ]
  },
  {
   "cell_type": "code",
   "execution_count": 17,
   "id": "d6ef08b5",
   "metadata": {},
   "outputs": [
    {
     "data": {
      "text/plain": [
       "\n",
       "t test of coefficients:\n",
       "\n",
       "               Estimate  Std. Error t value Pr(>|t|)   \n",
       "(Intercept)  0.24079581  0.07773953  3.0975 0.002866 **\n",
       "X1          -0.04959039  0.02966052 -1.6719 0.099273 . \n",
       "X2           0.01412785  0.03388522  0.4169 0.678081   \n",
       "X3           0.00939179  0.02683438  0.3500 0.727460   \n",
       "X4           0.02372228  0.02555013  0.9285 0.356552   \n",
       "X5          -0.03526586  0.02708329 -1.3021 0.197399   \n",
       "XC.1         0.00090015  0.09453655  0.0095 0.992432   \n",
       "XC.2         0.08582749  0.10582788  0.8110 0.420275   \n",
       "XC.3        -0.13553694  0.08823978 -1.5360 0.129317   \n",
       "XC.4         0.04492317  0.08222504  0.5463 0.586672   \n",
       "---\n",
       "Signif. codes:  0 '***' 0.001 '**' 0.01 '*' 0.05 '.' 0.1 ' ' 1\n"
      ]
     },
     "metadata": {},
     "output_type": "display_data"
    }
   ],
   "source": [
    "# Alternative OLS analysis\n",
    "school.DF = data.frame(school.X, school.score=school.score)\n",
    "coeftest(lm(school.score ~ ., data = school.DF), vcov = vcovHC)"
   ]
  },
  {
   "cell_type": "markdown",
   "id": "d1a50e72",
   "metadata": {},
   "source": [
    "### The code plot six plots in the Make some plots section, so explain what you find there.\n",
    "### Make some plots..."
   ]
  },
  {
   "cell_type": "code",
   "execution_count": 18,
   "id": "1894bb55",
   "metadata": {},
   "outputs": [
    {
     "data": {
      "image/png": "[encoded data removed]",
      "text/plain": [
       "Plot with title \"\""
      ]
     },
     "metadata": {
      "image/png": {
       "height": 420,
       "width": 420
      }
     },
     "output_type": "display_data"
    }
   ],
   "source": [
    "#pdf(\"tauhat_hist.pdf\")\n",
    "pardef = par(mar = c(5, 4, 4, 2) + 0.5, cex.lab=1.5, cex.axis=1.5, cex.main=1.5, cex.sub=1.5)\n",
    "hist(tau.hat, xlab = \"estimated CATE\", main = \"\")\n",
    "#dev.off()"
   ]
  },
  {
   "cell_type": "markdown",
   "id": "a6180264",
   "metadata": {},
   "source": [
    "Once the causal forest is fitted, is usefull to look the distribution of the prediction to notice if there is heterogeneity. However, the histogram is not recommended as a definitive way to assess heterogeneity, since one might tempted to think \"is the histogram is concentrated at a point, then there is no heterogeneity, or if the histogram is spread out, then our estimator has found interesting heterogeneity\", however both of this statements might be wrong. In contrast, the correct interpretation of this histogram might be that if histogram is concentrated at a point, then the forest were not able to detect any heterogeneity. On the other hand, is the histogram is spread out, it may be that the forest are simply overfiting anf producing very noisy estimates. \n",
    "\n",
    "This histogram shows the distribution of estimated CATE using causal forest algorithmn, this demostrate that there are different heterogeneous effects for different groups, that is, it is not the same effect for all groups. In few words, this histogram demostrate heterogeneity. "
   ]
  },
  {
   "cell_type": "code",
   "execution_count": 19,
   "id": "d6a237db",
   "metadata": {},
   "outputs": [
    {
     "data": {
      "image/png": "[encoded data removed]",
      "text/plain": [
       "Plot with title \"\""
      ]
     },
     "metadata": {
      "image/png": {
       "height": 420,
       "width": 420
      }
     },
     "output_type": "display_data"
    }
   ],
   "source": [
    "#pdf(\"tauhat_hist_noprop.pdf\")\n",
    "pardef = par(mar = c(5, 4, 4, 2) + 0.5, cex.lab=1.5, cex.axis=1.5, cex.main=1.5, cex.sub=1.5)\n",
    "hist(tau.hat.noprop, xlab = \"estimated CATE\", main = \"\")\n",
    "#dev.off()"
   ]
  },
  {
   "cell_type": "markdown",
   "id": "0e8c886b",
   "metadata": {},
   "source": [
    "This histogram shows the distribution of estimated CATE using trival propensity score, this demostrate that there are different heterogeneous effects for different groups, that is, it is not the same effect for all groups. In few words, this histogram demostrate heterogeneity. "
   ]
  },
  {
   "cell_type": "code",
   "execution_count": 26,
   "id": "65753fc6",
   "metadata": {},
   "outputs": [
    {
     "data": {
      "image/png": "[encoded data removed]",
      "text/plain": [
       "Plot with title \"\""
      ]
     },
     "metadata": {
      "image/png": {
       "height": 420,
       "width": 420
      }
     },
     "output_type": "display_data"
    }
   ],
   "source": [
    "#pdf(\"tauhat_hist_noclust.pdf\")\n",
    "pardef = par(mar = c(5, 4, 4, 2) + 0.5, cex.lab=1.5, cex.axis=1.5, cex.main=1.5, cex.sub=1.5)\n",
    "hist(tau.hat.noclust, xlab = \"estimated CATE\", main = \"\",\n",
    "     breaks = seq(-0.0, 0.55, by = 0.55 / 25))\n",
    "#dev.off()"
   ]
  },
  {
   "cell_type": "markdown",
   "id": "d68ee2cd",
   "metadata": {},
   "source": [
    "This histogram shows CATE estimates without clustering, that is, trained using a causal forest that does not account for school-level clustering. Unlike the previous figures, the CATE estimates obtained without clustering are much more dispersed than those obtained with clustering. In few words, this histogram doesn't shows heterogeneity. "
   ]
  },
  {
   "cell_type": "code",
   "execution_count": 22,
   "id": "df6620c4",
   "metadata": {},
   "outputs": [
    {
     "data": {
      "image/png": "[encoded data removed]",
      "text/plain": [
       "plot without title"
      ]
     },
     "metadata": {
      "image/png": {
       "height": 420,
       "width": 420
      }
     },
     "output_type": "display_data"
    }
   ],
   "source": [
    "#pdf(\"tauhat_vs_X1.pdf\")\n",
    "pardef = par(mar = c(5, 4, 4, 2) + 0.5, cex.lab=1.5, cex.axis=1.5, cex.main=1.5, cex.sub=1.5)\n",
    "boxplot(tau.hat ~ round(X$X1), xlab = \"X1\", ylab = \"estimated CATE\")\n",
    "lines(smooth.spline(4 + X[,\"X1\"], tau.hat, df = 4), lwd = 2, col = 4)\n",
    "#dev.off()"
   ]
  },
  {
   "cell_type": "markdown",
   "id": "08a6ba31",
   "metadata": {},
   "source": [
    "This graph shows that if the variable $X1$ (School-level mean of students' fixed mindsets reported before random assignment) is taken into account, it could be concluded that there is heterogeneity, since the subgroups of X1 adopt varied CATEs.  Is important to remember that previously we have showed that heterogeneity along X1 was significant."
   ]
  },
  {
   "cell_type": "code",
   "execution_count": 23,
   "id": "27387a2d",
   "metadata": {},
   "outputs": [
    {
     "data": {
      "image/png": "[encoded data removed]",
      "text/plain": [
       "plot without title"
      ]
     },
     "metadata": {
      "image/png": {
       "height": 420,
       "width": 420
      }
     },
     "output_type": "display_data"
    }
   ],
   "source": [
    "#pdf(\"tauhat_vs_X2.pdf\")\n",
    "pardef = par(mar = c(5, 4, 4, 2) + 0.5, cex.lab=1.5, cex.axis=1.5, cex.main=1.5, cex.sub=1.5)\n",
    "boxplot(tau.hat ~ round(X$X2), xlab = \"X2\", ylab = \"estimated CATE\")\n",
    "lines(smooth.spline(4 + X[,\"X2\"], tau.hat, df = 4), lwd = 2, col = 4)\n",
    "#dev.off()"
   ]
  },
  {
   "cell_type": "markdown",
   "id": "441cc3ea",
   "metadata": {},
   "source": [
    "This graph shows that if the variable $X2$(School achievement level, both covariates are refere to school-level,  measured by test scores and college preparation for the previous 4 cohorts of students) is taken into account, it could be concluded that there is heterogeneity, since the subgroups of X2 adopt varied CATEs. HOwever, is importand to remind that the heterogeneity along $X2$ was not significant."
   ]
  },
  {
   "cell_type": "code",
   "execution_count": 24,
   "id": "1b799c14",
   "metadata": {},
   "outputs": [
    {
     "data": {
      "image/png": "[encoded data removed]",
      "text/plain": [
       "plot without title"
      ]
     },
     "metadata": {
      "image/png": {
       "height": 420,
       "width": 420
      }
     },
     "output_type": "display_data"
    }
   ],
   "source": [
    "school.avg.tauhat = t(school.mat) %*% tau.hat / school.size\n",
    "\n",
    "#pdf(\"school_avg.pdf\")\n",
    "pardef = par(mar = c(5, 4, 4, 2) + 0.5, cex.lab=1.5, cex.axis=1.5, cex.main=1.5, cex.sub=1.5)\n",
    "plot(school.avg.tauhat, school.pred, cex = 1.5,\n",
    "     xlim = range(school.avg.tauhat, school.pred),\n",
    "     ylim = range(school.avg.tauhat, school.pred),\n",
    "     xlab = \"average CATE estimate in school\",\n",
    "     ylab = \"school-wise forest predictions\")\n",
    "abline(0, 1, lwd = 2, lty = 2, col = 4)\n",
    "par = pardef\n",
    "#dev.off()"
   ]
  },
  {
   "cell_type": "markdown",
   "id": "bb5086ab",
   "metadata": {},
   "source": [
    "This graphics compares average CATE estimate in school to school-wise forest predictions, we can see that the points are not very close to the blue line, in that sense we can conclude that the estimates using these two forms are not the same."
   ]
  },
  {
   "cell_type": "code",
   "execution_count": 25,
   "id": "e8b85f90",
   "metadata": {},
   "outputs": [
    {
     "data": {
      "text/html": [
       "'95% CI for the ATE: 0.011 +/- 0.15'"
      ],
      "text/latex": [
       "'95\\% CI for the ATE: 0.011 +/- 0.15'"
      ],
      "text/markdown": [
       "'95% CI for the ATE: 0.011 +/- 0.15'"
      ],
      "text/plain": [
       "[1] \"95% CI for the ATE: 0.011 +/- 0.15\""
      ]
     },
     "metadata": {},
     "output_type": "display_data"
    },
    {
     "data": {
      "text/html": [
       "'95% CI for the ATE: 0.13 +/- 0.137'"
      ],
      "text/latex": [
       "'95\\% CI for the ATE: 0.13 +/- 0.137'"
      ],
      "text/markdown": [
       "'95% CI for the ATE: 0.13 +/- 0.137'"
      ],
      "text/plain": [
       "[1] \"95% CI for the ATE: 0.13 +/- 0.137\""
      ]
     },
     "metadata": {},
     "output_type": "display_data"
    }
   ],
   "source": [
    "#\n",
    "# Experiment with no orthogonalization\n",
    "#\n",
    "\n",
    "n.synth = 1000\n",
    "p.synth = 10\n",
    "X.synth = matrix(rnorm(n.synth * p.synth), n.synth, p.synth)\n",
    "W.synth = rbinom(n.synth, 1, 1 / (1 + exp(-X.synth[,1])))\n",
    "Y.synth = 2 * rowMeans(X.synth[,1:6]) + rnorm(n.synth)\n",
    "\n",
    "Y.forest.synth = regression_forest(X.synth, Y.synth)\n",
    "Y.hat.synth = predict(Y.forest.synth)$predictions\n",
    "W.forest.synth = regression_forest(X.synth, W.synth)\n",
    "W.hat.synth = predict(W.forest.synth)$predictions\n",
    "\n",
    "cf.synth = causal_forest(X.synth, Y.synth, W.synth,\n",
    "                         Y.hat = Y.hat.synth, W.hat = W.hat.synth)\n",
    "ATE.synth = average_treatment_effect(cf.synth)\n",
    "paste(\"95% CI for the ATE:\", round(ATE.synth[1], 3),\n",
    "      \"+/-\", round(qnorm(0.975) * ATE.synth[2], 3))\n",
    "\n",
    "cf.synth.noprop = causal_forest(X.synth, Y.synth, W.synth,\n",
    "                                Y.hat = Y.hat.synth, W.hat = mean(W.synth))\n",
    "ATE.synth.noprop = average_treatment_effect(cf.synth.noprop)\n",
    "paste(\"95% CI for the ATE:\", round(ATE.synth.noprop[1], 3),\n",
    "      \"+/-\", round(qnorm(0.975) * ATE.synth.noprop[2], 3))\n"
   ]
  },
  {
   "cell_type": "markdown",
   "id": "4808bb68",
   "metadata": {},
   "source": [
    "### Visualize school-level covariates by treatment heterogeneity"
   ]
  },
  {
   "cell_type": "code",
   "execution_count": 27,
   "id": "3d9e5b60",
   "metadata": {},
   "outputs": [
    {
     "data": {
      "text/html": [
       "0.210526315789474"
      ],
      "text/latex": [
       "0.210526315789474"
      ],
      "text/markdown": [
       "0.210526315789474"
      ],
      "text/plain": [
       "[1] 0.2105263"
      ]
     },
     "metadata": {},
     "output_type": "display_data"
    },
    {
     "data": {
      "text/html": [
       "0.538461538461538"
      ],
      "text/latex": [
       "0.538461538461538"
      ],
      "text/markdown": [
       "0.538461538461538"
      ],
      "text/plain": [
       "[1] 0.5384615"
      ]
     },
     "metadata": {},
     "output_type": "display_data"
    },
    {
     "data": {
      "image/png": "[encoded data removed]",
      "text/plain": [
       "plot without title"
      ]
     },
     "metadata": {
      "image/png": {
       "height": 420,
       "width": 420
      }
     },
     "output_type": "display_data"
    }
   ],
   "source": [
    "school.X.std = scale(school.X)\n",
    "school.tercile = cut(school.pred,\n",
    "                     breaks = c(-Inf, quantile(school.pred, c(1/3, 2/3)), Inf))\n",
    "school.tercile.mat = model.matrix(~ school.tercile + 0)\n",
    "school.means = diag(1 / colSums(school.tercile.mat)) %*% t(school.tercile.mat) %*% as.matrix(school.X.std)\n",
    "\n",
    "MM = max(abs(school.means))\n",
    "HC = heat.colors(21)\n",
    "school.col = apply(school.means, 1:2, function(aa) HC[1 + round(20 * (0.5 + aa))])\n",
    "\n",
    "DF.plot = data.frame(tercile=rep(factor(1:3, labels=c(\"low\", \"mid\", \"high\")), 9), mean=as.numeric(school.means),\n",
    "                     feature = factor(rbind(colnames(school.X), colnames(school.X), colnames(school.X))))\n",
    "\n",
    "ggplot(data = DF.plot, aes(x = feature, y = tercile, fill = mean)) +\n",
    "    geom_tile() + scale_fill_gradient(low = \"white\", high = \"steelblue\") +\n",
    "    theme(axis.text = element_text(size=12), axis.title = element_text(size=14),\n",
    "          legend.title = element_text(size=14), legend.text = element_text(size=12)) +\n",
    "    theme(panel.background = element_blank())\n",
    "ggsave(\"tercile_plot.pdf\", width = 8, height = 4.5, dpi = 120)\n",
    "\n",
    "mean(school.X$XC.3)\n",
    "mean(school.X$XC.3[as.numeric(school.tercile) == 1])"
   ]
  },
  {
   "cell_type": "markdown",
   "id": "7256b14a",
   "metadata": {},
   "source": [
    "This picture visualize the treatment heterogeneity for school-level covariates vs school tercile, splitting the data into groups.It allows us to observe in which groups the HTE was greater or less, in this case we observe that the rectangles where the blue color is darker have a value closer to 0.5 of heteroregoneity in the treatment, on the contrary, the rectangles that are lighter showed a value closer to -0.5 for heterogeneity. In short, this graph allows us to observe the heterogeneous effect of the treatment for different groups, since the rectangles are painted in different colors."
   ]
  },
  {
   "cell_type": "markdown",
   "id": "c58cb6ee",
   "metadata": {},
   "source": [
    "### CATE by school"
   ]
  },
  {
   "cell_type": "code",
   "execution_count": 28,
   "id": "40700dd2",
   "metadata": {},
   "outputs": [
    {
     "data": {
      "image/png": "[encoded data removed]",
      "text/plain": [
       "plot without title"
      ]
     },
     "metadata": {
      "image/png": {
       "height": 420,
       "width": 420
      }
     },
     "output_type": "display_data"
    }
   ],
   "source": [
    "ord = order(order(school.pred))\n",
    "school.sort = ord[school.id]\n",
    "\n",
    "#pdf(\"school_boxplot.pdf\")\n",
    "pardef = par(mar = c(5, 4, 4, 2) + 0.5, cex.lab=1.5, cex.axis=1.5, cex.main=1.5, cex.sub=1.5)\n",
    "boxplot(tau.hat.noclust ~ school.sort, xaxt = \"n\",\n",
    "        xlab = \"school\", ylab = \"estimated CATE\")\n",
    "points(1:76, sort(school.pred), col = 4, pch = 16)\n",
    "legend(\"topleft\", c(\"school mean CATE\", \"CATE w/o clustering\"), pch = c(16, 1), col = c(4, 1), cex = 1.5)\n",
    "par = pardef\n",
    "#dev.off()"
   ]
  },
  {
   "cell_type": "markdown",
   "id": "9ab808e9",
   "metadata": {},
   "source": [
    "This graphic compares the CATE from a non-cluster-robust causal forest to per-school mean treatment effect predictions from a forest trained on per-school responses as seen before. This graphic is also explained in \"Analysis ignoring clusters\" section, however, I would like to complement the explanation with the following: non-cluster-robust forest is able to overfit the treatmente effect to this school-level effect because it does not account for potential correlations between different students in the same school."
   ]
  },
  {
   "cell_type": "markdown",
   "id": "97d2561d",
   "metadata": {},
   "source": [
    "## Testing the Convergence Hypothesis"
   ]
  },
  {
   "cell_type": "markdown",
   "id": "a157e6b8",
   "metadata": {},
   "source": [
    "## Introduction"
   ]
  },
  {
   "cell_type": "markdown",
   "id": "d402b204",
   "metadata": {},
   "source": [
    "We provide an additional empirical example of partialling-out with Lasso to estimate the regression coefficient $\\beta_1$ in the high-dimensional linear regression model:\n",
    "  $$\n",
    "  Y = \\beta_1 D +  \\beta_2'W + \\epsilon.\n",
    "  $$\n",
    "  \n",
    "Specifically, we are interested in how the rates  at which economies of different countries grow ($Y$) are related to the initial wealth levels in each country ($D$) controlling for country's institutional, educational, and other similar characteristics ($W$).\n",
    "  \n",
    "The relationship is captured by $\\beta_1$, the *speed of convergence/divergence*, which measures the speed at which poor countries catch up $(\\beta_1< 0)$ or fall behind $(\\beta_1> 0)$ rich countries, after controlling for $W$. Our inference question here is: do poor countries grow faster than rich countries, controlling for educational and other characteristics? In other words, is the speed of convergence negative: $ \\beta_1 <0?$ This is the Convergence Hypothesis predicted by the Solow Growth Model. This is a structural economic model. Under some strong assumptions, that we won't state here, the predictive exercise we are doing here can be given causal interpretation.\n",
    "\n",
    "The outcome $Y$ is the realized annual growth rate of a country's wealth  (Gross Domestic Product per capita). The target regressor ($D$) is the initial level of the country's wealth. The target parameter $\\beta_1$ is the speed of convergence, which measures the speed at which poor countries catch up with rich countries. The controls ($W$) include measures of education levels, quality of institutions, trade openness, and political stability in the country."
   ]
  },
  {
   "cell_type": "code",
   "execution_count": 29,
   "id": "241e8a17",
   "metadata": {},
   "outputs": [
    {
     "name": "stderr",
     "output_type": "stream",
     "text": [
      "Warning message:\n",
      "\"package 'hdm' was built under R version 3.6.3\"\n",
      "Warning message:\n",
      "\"package 'xtable' was built under R version 3.6.3\"\n",
      "\n",
      "Attaching package: 'xtable'\n",
      "\n",
      "\n",
      "The following objects are masked from 'package:Hmisc':\n",
      "\n",
      "    label, label<-\n",
      "\n",
      "\n"
     ]
    }
   ],
   "source": [
    "library(hdm)\n",
    "library(xtable)"
   ]
  },
  {
   "cell_type": "code",
   "execution_count": 30,
   "id": "9e42daad",
   "metadata": {},
   "outputs": [],
   "source": [
    "# Export data to read in python\n",
    "GrowthData <- GrowthData\n",
    "save(GrowthData, file = \"C:/Users/sniff/Documents/Estadistica aplicada/GrowthData.RData\")"
   ]
  },
  {
   "cell_type": "code",
   "execution_count": 31,
   "id": "c9388039",
   "metadata": {},
   "outputs": [
    {
     "data": {
      "text/html": [
       "<style>\n",
       ".list-inline {list-style: none; margin:0; padding: 0}\n",
       ".list-inline>li {display: inline-block}\n",
       ".list-inline>li:not(:last-child)::after {content: \"\\00b7\"; padding: 0 .5ex}\n",
       "</style>\n",
       "<ol class=list-inline><li>'Outcome'</li><li>'intercept'</li><li>'gdpsh465'</li><li>'bmp1l'</li><li>'freeop'</li><li>'freetar'</li><li>'h65'</li><li>'hm65'</li><li>'hf65'</li><li>'p65'</li><li>'pm65'</li><li>'pf65'</li><li>'s65'</li><li>'sm65'</li><li>'sf65'</li><li>'fert65'</li><li>'mort65'</li><li>'lifee065'</li><li>'gpop1'</li><li>'fert1'</li><li>'mort1'</li><li>'invsh41'</li><li>'geetot1'</li><li>'geerec1'</li><li>'gde1'</li><li>'govwb1'</li><li>'govsh41'</li><li>'gvxdxe41'</li><li>'high65'</li><li>'highm65'</li><li>'highf65'</li><li>'highc65'</li><li>'highcm65'</li><li>'highcf65'</li><li>'human65'</li><li>'humanm65'</li><li>'humanf65'</li><li>'hyr65'</li><li>'hyrm65'</li><li>'hyrf65'</li><li>'no65'</li><li>'nom65'</li><li>'nof65'</li><li>'pinstab1'</li><li>'pop65'</li><li>'worker65'</li><li>'pop1565'</li><li>'pop6565'</li><li>'sec65'</li><li>'secm65'</li><li>'secf65'</li><li>'secc65'</li><li>'seccm65'</li><li>'seccf65'</li><li>'syr65'</li><li>'syrm65'</li><li>'syrf65'</li><li>'teapri65'</li><li>'teasec65'</li><li>'ex1'</li><li>'im1'</li><li>'xr65'</li><li>'tot1'</li></ol>\n"
      ],
      "text/latex": [
       "\\begin{enumerate*}\n",
       "\\item 'Outcome'\n",
       "\\item 'intercept'\n",
       "\\item 'gdpsh465'\n",
       "\\item 'bmp1l'\n",
       "\\item 'freeop'\n",
       "\\item 'freetar'\n",
       "\\item 'h65'\n",
       "\\item 'hm65'\n",
       "\\item 'hf65'\n",
       "\\item 'p65'\n",
       "\\item 'pm65'\n",
       "\\item 'pf65'\n",
       "\\item 's65'\n",
       "\\item 'sm65'\n",
       "\\item 'sf65'\n",
       "\\item 'fert65'\n",
       "\\item 'mort65'\n",
       "\\item 'lifee065'\n",
       "\\item 'gpop1'\n",
       "\\item 'fert1'\n",
       "\\item 'mort1'\n",
       "\\item 'invsh41'\n",
       "\\item 'geetot1'\n",
       "\\item 'geerec1'\n",
       "\\item 'gde1'\n",
       "\\item 'govwb1'\n",
       "\\item 'govsh41'\n",
       "\\item 'gvxdxe41'\n",
       "\\item 'high65'\n",
       "\\item 'highm65'\n",
       "\\item 'highf65'\n",
       "\\item 'highc65'\n",
       "\\item 'highcm65'\n",
       "\\item 'highcf65'\n",
       "\\item 'human65'\n",
       "\\item 'humanm65'\n",
       "\\item 'humanf65'\n",
       "\\item 'hyr65'\n",
       "\\item 'hyrm65'\n",
       "\\item 'hyrf65'\n",
       "\\item 'no65'\n",
       "\\item 'nom65'\n",
       "\\item 'nof65'\n",
       "\\item 'pinstab1'\n",
       "\\item 'pop65'\n",
       "\\item 'worker65'\n",
       "\\item 'pop1565'\n",
       "\\item 'pop6565'\n",
       "\\item 'sec65'\n",
       "\\item 'secm65'\n",
       "\\item 'secf65'\n",
       "\\item 'secc65'\n",
       "\\item 'seccm65'\n",
       "\\item 'seccf65'\n",
       "\\item 'syr65'\n",
       "\\item 'syrm65'\n",
       "\\item 'syrf65'\n",
       "\\item 'teapri65'\n",
       "\\item 'teasec65'\n",
       "\\item 'ex1'\n",
       "\\item 'im1'\n",
       "\\item 'xr65'\n",
       "\\item 'tot1'\n",
       "\\end{enumerate*}\n"
      ],
      "text/markdown": [
       "1. 'Outcome'\n",
       "2. 'intercept'\n",
       "3. 'gdpsh465'\n",
       "4. 'bmp1l'\n",
       "5. 'freeop'\n",
       "6. 'freetar'\n",
       "7. 'h65'\n",
       "8. 'hm65'\n",
       "9. 'hf65'\n",
       "10. 'p65'\n",
       "11. 'pm65'\n",
       "12. 'pf65'\n",
       "13. 's65'\n",
       "14. 'sm65'\n",
       "15. 'sf65'\n",
       "16. 'fert65'\n",
       "17. 'mort65'\n",
       "18. 'lifee065'\n",
       "19. 'gpop1'\n",
       "20. 'fert1'\n",
       "21. 'mort1'\n",
       "22. 'invsh41'\n",
       "23. 'geetot1'\n",
       "24. 'geerec1'\n",
       "25. 'gde1'\n",
       "26. 'govwb1'\n",
       "27. 'govsh41'\n",
       "28. 'gvxdxe41'\n",
       "29. 'high65'\n",
       "30. 'highm65'\n",
       "31. 'highf65'\n",
       "32. 'highc65'\n",
       "33. 'highcm65'\n",
       "34. 'highcf65'\n",
       "35. 'human65'\n",
       "36. 'humanm65'\n",
       "37. 'humanf65'\n",
       "38. 'hyr65'\n",
       "39. 'hyrm65'\n",
       "40. 'hyrf65'\n",
       "41. 'no65'\n",
       "42. 'nom65'\n",
       "43. 'nof65'\n",
       "44. 'pinstab1'\n",
       "45. 'pop65'\n",
       "46. 'worker65'\n",
       "47. 'pop1565'\n",
       "48. 'pop6565'\n",
       "49. 'sec65'\n",
       "50. 'secm65'\n",
       "51. 'secf65'\n",
       "52. 'secc65'\n",
       "53. 'seccm65'\n",
       "54. 'seccf65'\n",
       "55. 'syr65'\n",
       "56. 'syrm65'\n",
       "57. 'syrf65'\n",
       "58. 'teapri65'\n",
       "59. 'teasec65'\n",
       "60. 'ex1'\n",
       "61. 'im1'\n",
       "62. 'xr65'\n",
       "63. 'tot1'\n",
       "\n",
       "\n"
      ],
      "text/plain": [
       " [1] \"Outcome\"   \"intercept\" \"gdpsh465\"  \"bmp1l\"     \"freeop\"    \"freetar\"  \n",
       " [7] \"h65\"       \"hm65\"      \"hf65\"      \"p65\"       \"pm65\"      \"pf65\"     \n",
       "[13] \"s65\"       \"sm65\"      \"sf65\"      \"fert65\"    \"mort65\"    \"lifee065\" \n",
       "[19] \"gpop1\"     \"fert1\"     \"mort1\"     \"invsh41\"   \"geetot1\"   \"geerec1\"  \n",
       "[25] \"gde1\"      \"govwb1\"    \"govsh41\"   \"gvxdxe41\"  \"high65\"    \"highm65\"  \n",
       "[31] \"highf65\"   \"highc65\"   \"highcm65\"  \"highcf65\"  \"human65\"   \"humanm65\" \n",
       "[37] \"humanf65\"  \"hyr65\"     \"hyrm65\"    \"hyrf65\"    \"no65\"      \"nom65\"    \n",
       "[43] \"nof65\"     \"pinstab1\"  \"pop65\"     \"worker65\"  \"pop1565\"   \"pop6565\"  \n",
       "[49] \"sec65\"     \"secm65\"    \"secf65\"    \"secc65\"    \"seccm65\"   \"seccf65\"  \n",
       "[55] \"syr65\"     \"syrm65\"    \"syrf65\"    \"teapri65\"  \"teasec65\"  \"ex1\"      \n",
       "[61] \"im1\"       \"xr65\"      \"tot1\"     "
      ]
     },
     "metadata": {},
     "output_type": "display_data"
    }
   ],
   "source": [
    "library(hdm)\n",
    "growth <- GrowthData\n",
    "attach(growth)\n",
    "names(growth)"
   ]
  },
  {
   "cell_type": "code",
   "execution_count": 32,
   "id": "813fd9ec",
   "metadata": {},
   "outputs": [
    {
     "data": {
      "text/html": [
       "<style>\n",
       ".list-inline {list-style: none; margin:0; padding: 0}\n",
       ".list-inline>li {display: inline-block}\n",
       ".list-inline>li:not(:last-child)::after {content: \"\\00b7\"; padding: 0 .5ex}\n",
       "</style>\n",
       "<ol class=list-inline><li>90</li><li>63</li></ol>\n"
      ],
      "text/latex": [
       "\\begin{enumerate*}\n",
       "\\item 90\n",
       "\\item 63\n",
       "\\end{enumerate*}\n"
      ],
      "text/markdown": [
       "1. 90\n",
       "2. 63\n",
       "\n",
       "\n"
      ],
      "text/plain": [
       "[1] 90 63"
      ]
     },
     "metadata": {},
     "output_type": "display_data"
    }
   ],
   "source": [
    "dim(growth)"
   ]
  },
  {
   "cell_type": "code",
   "execution_count": 33,
   "id": "8e9b7561",
   "metadata": {},
   "outputs": [],
   "source": [
    "#install.packages('lfe')"
   ]
  },
  {
   "cell_type": "code",
   "execution_count": 34,
   "id": "5fed3f68",
   "metadata": {},
   "outputs": [
    {
     "name": "stderr",
     "output_type": "stream",
     "text": [
      "Warning message:\n",
      "\"package 'lfe' was built under R version 3.6.3\"\n",
      "Loading required package: Matrix\n",
      "\n",
      "\n",
      "Attaching package: 'lfe'\n",
      "\n",
      "\n",
      "The following object is masked from 'package:lmtest':\n",
      "\n",
      "    waldtest\n",
      "\n",
      "\n"
     ]
    }
   ],
   "source": [
    "library(lfe)"
   ]
  },
  {
   "cell_type": "markdown",
   "id": "5792c972",
   "metadata": {},
   "source": [
    "## OLS"
   ]
  },
  {
   "cell_type": "code",
   "execution_count": 35,
   "id": "9c5dae50",
   "metadata": {},
   "outputs": [
    {
     "data": {
      "text/html": [
       "<style>\n",
       ".list-inline {list-style: none; margin:0; padding: 0}\n",
       ".list-inline>li {display: inline-block}\n",
       ".list-inline>li:not(:last-child)::after {content: \"\\00b7\"; padding: 0 .5ex}\n",
       "</style>\n",
       "<ol class=list-inline><li>90</li><li>60</li></ol>\n"
      ],
      "text/latex": [
       "\\begin{enumerate*}\n",
       "\\item 90\n",
       "\\item 60\n",
       "\\end{enumerate*}\n"
      ],
      "text/markdown": [
       "1. 90\n",
       "2. 60\n",
       "\n",
       "\n"
      ],
      "text/plain": [
       "[1] 90 60"
      ]
     },
     "metadata": {},
     "output_type": "display_data"
    }
   ],
   "source": [
    "Y <- growth[, 1, drop = F] # output variable\n",
    "Z <- as.matrix(growth)[, -c(1, 2,3)] # controls\n",
    "D <- growth[, 3, drop = F] # target regressor\n",
    "dim(Z)"
   ]
  },
  {
   "cell_type": "code",
   "execution_count": 36,
   "id": "354cbdea",
   "metadata": {},
   "outputs": [],
   "source": [
    "y <- as.matrix(Y)\n",
    "d <- as.matrix(D)\n",
    "z <- as.matrix(Z)\n",
    "#head(data.frame(cbind(y,d))"
   ]
  },
  {
   "cell_type": "code",
   "execution_count": 37,
   "id": "a8bf511e",
   "metadata": {},
   "outputs": [
    {
     "data": {
      "text/html": [
       "<style>\n",
       ".dl-inline {width: auto; margin:0; padding: 0}\n",
       ".dl-inline>dt, .dl-inline>dd {float: none; width: auto; display: inline-block}\n",
       ".dl-inline>dt::after {content: \":\\0020\"; padding-right: .5ex}\n",
       ".dl-inline>dt:not(:first-of-type) {padding-left: .5ex}\n",
       "</style><dl class=dl-inline><dt>2.5 %</dt><dd>-0.0108101278829858</dd><dt>97.5 %</dt><dd>0.013443553109878</dd></dl>\n"
      ],
      "text/latex": [
       "\\begin{description*}\n",
       "\\item[2.5 \\textbackslash{}\\%] -0.0108101278829858\n",
       "\\item[97.5 \\textbackslash{}\\%] 0.013443553109878\n",
       "\\end{description*}\n"
      ],
      "text/markdown": [
       "2.5 %\n",
       ":   -0.010810127882985897.5 %\n",
       ":   0.013443553109878\n",
       "\n"
      ],
      "text/plain": [
       "      2.5 %      97.5 % \n",
       "-0.01081013  0.01344355 "
      ]
     },
     "metadata": {},
     "output_type": "display_data"
    },
    {
     "data": {
      "text/html": [
       "<style>\n",
       ".dl-inline {width: auto; margin:0; padding: 0}\n",
       ".dl-inline>dt, .dl-inline>dd {float: none; width: auto; display: inline-block}\n",
       ".dl-inline>dt::after {content: \":\\0020\"; padding-right: .5ex}\n",
       ".dl-inline>dt:not(:first-of-type) {padding-left: .5ex}\n",
       "</style><dl class=dl-inline><dt>Estimate</dt><dd>0.00131671261344607</dd><dt>Std. Error</dt><dd>0.00610220014253539</dd><dt>t value</dt><dd>0.215776700647349</dd><dt>Pr(&gt;|t|)</dt><dd>0.829661164776388</dd></dl>\n"
      ],
      "text/latex": [
       "\\begin{description*}\n",
       "\\item[Estimate] 0.00131671261344607\n",
       "\\item[Std. Error] 0.00610220014253539\n",
       "\\item[t value] 0.215776700647349\n",
       "\\item[Pr(>\\textbackslash{}textbar\\{\\}t\\textbackslash{}textbar\\{\\})] 0.829661164776388\n",
       "\\end{description*}\n"
      ],
      "text/markdown": [
       "Estimate\n",
       ":   0.00131671261344607Std. Error\n",
       ":   0.00610220014253539t value\n",
       ":   0.215776700647349Pr(&amp;gt;|t|)\n",
       ":   0.829661164776388\n",
       "\n"
      ],
      "text/plain": [
       "   Estimate  Std. Error     t value    Pr(>|t|) \n",
       "0.001316713 0.006102200 0.215776701 0.829661165 "
      ]
     },
     "metadata": {},
     "output_type": "display_data"
    }
   ],
   "source": [
    "#baseline_formula <- as.formula(paste(y, \"~\", d ))\n",
    "#baseline.ols <- lm(baseline_formula,data=rdata)\n",
    "\n",
    "baseline.ols <- lm(Outcome ~ gdpsh465,data=growth)\n",
    "est_baseline <- summary(baseline.ols)$coef[2,]\n",
    "confint(baseline.ols)[2,]\n",
    "est_baseline"
   ]
  },
  {
   "cell_type": "code",
   "execution_count": 38,
   "id": "e0d096bc",
   "metadata": {},
   "outputs": [
    {
     "data": {
      "text/plain": [
       "\n",
       "Call:\n",
       "lm(formula = Outcome ~ gdpsh465, data = growth)\n",
       "\n",
       "Residuals:\n",
       "      Min        1Q    Median        3Q       Max \n",
       "-0.147387 -0.024088  0.001209  0.027721  0.139357 \n",
       "\n",
       "Coefficients:\n",
       "            Estimate Std. Error t value Pr(>|t|)\n",
       "(Intercept) 0.035207   0.047318   0.744    0.459\n",
       "gdpsh465    0.001317   0.006102   0.216    0.830\n",
       "\n",
       "Residual standard error: 0.05159 on 88 degrees of freedom\n",
       "Multiple R-squared:  0.0005288,\tAdjusted R-squared:  -0.01083 \n",
       "F-statistic: 0.04656 on 1 and 88 DF,  p-value: 0.8297\n"
      ]
     },
     "metadata": {},
     "output_type": "display_data"
    }
   ],
   "source": [
    "summary(baseline.ols)"
   ]
  },
  {
   "cell_type": "code",
   "execution_count": 39,
   "id": "526f0c89",
   "metadata": {},
   "outputs": [
    {
     "data": {
      "text/html": [
       "<style>\n",
       ".dl-inline {width: auto; margin:0; padding: 0}\n",
       ".dl-inline>dt, .dl-inline>dd {float: none; width: auto; display: inline-block}\n",
       ".dl-inline>dt::after {content: \":\\0020\"; padding-right: .5ex}\n",
       ".dl-inline>dt:not(:first-of-type) {padding-left: .5ex}\n",
       "</style><dl class=dl-inline><dt>2.5 %</dt><dd>-0.0108101278829858</dd><dt>97.5 %</dt><dd>0.013443553109878</dd></dl>\n"
      ],
      "text/latex": [
       "\\begin{description*}\n",
       "\\item[2.5 \\textbackslash{}\\%] -0.0108101278829858\n",
       "\\item[97.5 \\textbackslash{}\\%] 0.013443553109878\n",
       "\\end{description*}\n"
      ],
      "text/markdown": [
       "2.5 %\n",
       ":   -0.010810127882985897.5 %\n",
       ":   0.013443553109878\n",
       "\n"
      ],
      "text/plain": [
       "      2.5 %      97.5 % \n",
       "-0.01081013  0.01344355 "
      ]
     },
     "metadata": {},
     "output_type": "display_data"
    }
   ],
   "source": [
    "confint(baseline.ols)[2,]"
   ]
  },
  {
   "cell_type": "code",
   "execution_count": 40,
   "id": "02adee99",
   "metadata": {},
   "outputs": [
    {
     "data": {
      "text/html": [
       "0.0510147956858465"
      ],
      "text/latex": [
       "0.0510147956858465"
      ],
      "text/markdown": [
       "0.0510147956858465"
      ],
      "text/plain": [
       "[1] 0.0510148"
      ]
     },
     "metadata": {},
     "output_type": "display_data"
    }
   ],
   "source": [
    "value<- predict(baseline.ols,growth)\n",
    "difference <- value - growth$Outcome\n",
    "rmse_ols_y <- sqrt(mean(difference^2))\n",
    "rmse_ols_y"
   ]
  },
  {
   "cell_type": "code",
   "execution_count": 41,
   "id": "10fb8e64",
   "metadata": {},
   "outputs": [
    {
     "data": {
      "text/html": [
       "7.7091053745297"
      ],
      "text/latex": [
       "7.7091053745297"
      ],
      "text/markdown": [
       "7.7091053745297"
      ],
      "text/plain": [
       "[1] 7.709105"
      ]
     },
     "metadata": {},
     "output_type": "display_data"
    }
   ],
   "source": [
    "value_d<- predict(baseline.ols,growth)\n",
    "difference_d <- value_d - growth$gdpsh465\n",
    "rmse_ols_d <- sqrt(mean(difference_d^2))\n",
    "rmse_ols_d"
   ]
  },
  {
   "cell_type": "markdown",
   "id": "08342711",
   "metadata": {},
   "source": [
    "## OLS contolling countries characteristics"
   ]
  },
  {
   "cell_type": "code",
   "execution_count": 42,
   "id": "a5b8c6fc",
   "metadata": {},
   "outputs": [
    {
     "data": {
      "text/plain": [
       "Outcome ~ gdpsh465 + bmp1l + freeop + freetar + h65 + hm65 + \n",
       "    hf65 + p65 + pm65 + pf65 + s65 + sm65 + sf65 + fert65 + mort65 + \n",
       "    lifee065 + gpop1 + fert1 + mort1 + invsh41 + geetot1 + geerec1 + \n",
       "    gde1 + govwb1 + govsh41 + gvxdxe41 + high65 + highm65 + highf65 + \n",
       "    highc65 + highcm65 + highcf65 + human65 + humanm65 + humanf65 + \n",
       "    hyr65 + hyrm65 + hyrf65 + no65 + nom65 + nof65 + pinstab1 + \n",
       "    pop65 + worker65 + pop1565 + pop6565 + sec65 + secm65 + secf65 + \n",
       "    secc65 + seccm65 + seccf65 + syr65 + syrm65 + syrf65 + teapri65 + \n",
       "    teasec65 + ex1 + im1 + xr65 + tot1"
      ]
     },
     "metadata": {},
     "output_type": "display_data"
    }
   ],
   "source": [
    "control_formula <- as.formula(paste(\"Outcome\", \"~\", paste(\"gdpsh465\",paste(colnames(Z),collapse=\"+\"),\n",
    "                                                          sep=\"+\")))\n",
    "control_formula"
   ]
  },
  {
   "cell_type": "code",
   "execution_count": 43,
   "id": "887a7e73",
   "metadata": {},
   "outputs": [
    {
     "data": {
      "text/html": [
       "<style>\n",
       ".dl-inline {width: auto; margin:0; padding: 0}\n",
       ".dl-inline>dt, .dl-inline>dd {float: none; width: auto; display: inline-block}\n",
       ".dl-inline>dt::after {content: \":\\0020\"; padding-right: .5ex}\n",
       ".dl-inline>dt:not(:first-of-type) {padding-left: .5ex}\n",
       "</style><dl class=dl-inline><dt>2.5 %</dt><dd>-0.0706002209228732</dd><dt>97.5 %</dt><dd>0.0518442433577102</dd></dl>\n"
      ],
      "text/latex": [
       "\\begin{description*}\n",
       "\\item[2.5 \\textbackslash{}\\%] -0.0706002209228732\n",
       "\\item[97.5 \\textbackslash{}\\%] 0.0518442433577102\n",
       "\\end{description*}\n"
      ],
      "text/markdown": [
       "2.5 %\n",
       ":   -0.070600220922873297.5 %\n",
       ":   0.0518442433577102\n",
       "\n"
      ],
      "text/plain": [
       "      2.5 %      97.5 % \n",
       "-0.07060022  0.05184424 "
      ]
     },
     "metadata": {},
     "output_type": "display_data"
    },
    {
     "data": {
      "text/html": [
       "<style>\n",
       ".dl-inline {width: auto; margin:0; padding: 0}\n",
       ".dl-inline>dt, .dl-inline>dd {float: none; width: auto; display: inline-block}\n",
       ".dl-inline>dt::after {content: \":\\0020\"; padding-right: .5ex}\n",
       ".dl-inline>dt:not(:first-of-type) {padding-left: .5ex}\n",
       "</style><dl class=dl-inline><dt>Estimate</dt><dd>-0.00937798878258146</dd><dt>Std. Error</dt><dd>0.0298877263660758</dd><dt>t value</dt><dd>-0.313773910658724</dd><dt>Pr(&gt;|t|)</dt><dd>0.756018517732854</dd></dl>\n"
      ],
      "text/latex": [
       "\\begin{description*}\n",
       "\\item[Estimate] -0.00937798878258146\n",
       "\\item[Std. Error] 0.0298877263660758\n",
       "\\item[t value] -0.313773910658724\n",
       "\\item[Pr(>\\textbackslash{}textbar\\{\\}t\\textbackslash{}textbar\\{\\})] 0.756018517732854\n",
       "\\end{description*}\n"
      ],
      "text/markdown": [
       "Estimate\n",
       ":   -0.00937798878258146Std. Error\n",
       ":   0.0298877263660758t value\n",
       ":   -0.313773910658724Pr(&amp;gt;|t|)\n",
       ":   0.756018517732854\n",
       "\n"
      ],
      "text/plain": [
       "    Estimate   Std. Error      t value     Pr(>|t|) \n",
       "-0.009377989  0.029887726 -0.313773911  0.756018518 "
      ]
     },
     "metadata": {},
     "output_type": "display_data"
    }
   ],
   "source": [
    "control.ols <- lm(control_formula,data=growth)\n",
    "est_ols <- summary(control.ols)$coef[2,]\n",
    "confint(control.ols)[2,]\n",
    "est_ols"
   ]
  },
  {
   "cell_type": "code",
   "execution_count": 44,
   "id": "29b4ab1b",
   "metadata": {},
   "outputs": [
    {
     "data": {
      "text/html": [
       "<table class=\"dataframe\">\n",
       "<caption>A matrix: 62 × 4 of type dbl</caption>\n",
       "<thead>\n",
       "\t<tr><th></th><th scope=col>Estimate</th><th scope=col>Std. Error</th><th scope=col>t value</th><th scope=col>Pr(&gt;|t|)</th></tr>\n",
       "</thead>\n",
       "<tbody>\n",
       "\t<tr><th scope=row>(Intercept)</th><td> 0.247160893</td><td>0.78450163</td><td> 0.31505466</td><td>0.755056170</td></tr>\n",
       "\t<tr><th scope=row>gdpsh465</th><td>-0.009377989</td><td>0.02988773</td><td>-0.31377391</td><td>0.756018518</td></tr>\n",
       "\t<tr><th scope=row>bmp1l</th><td>-0.068862679</td><td>0.03253065</td><td>-2.11685513</td><td>0.043289718</td></tr>\n",
       "\t<tr><th scope=row>freeop</th><td> 0.080068974</td><td>0.20786400</td><td> 0.38519885</td><td>0.703000838</td></tr>\n",
       "\t<tr><th scope=row>freetar</th><td>-0.488962605</td><td>0.41816285</td><td>-1.16931143</td><td>0.252136477</td></tr>\n",
       "\t<tr><th scope=row>h65</th><td>-2.362098638</td><td>0.85729167</td><td>-2.75530338</td><td>0.010192435</td></tr>\n",
       "\t<tr><th scope=row>hm65</th><td> 0.707143400</td><td>0.52314511</td><td> 1.35171560</td><td>0.187285919</td></tr>\n",
       "\t<tr><th scope=row>hf65</th><td> 1.693448425</td><td>0.50318881</td><td> 3.36543337</td><td>0.002232683</td></tr>\n",
       "\t<tr><th scope=row>p65</th><td> 0.265526695</td><td>0.16429407</td><td> 1.61616729</td><td>0.117271229</td></tr>\n",
       "\t<tr><th scope=row>pm65</th><td> 0.136952626</td><td>0.15121749</td><td> 0.90566657</td><td>0.372840111</td></tr>\n",
       "\t<tr><th scope=row>pf65</th><td>-0.331266948</td><td>0.16512299</td><td>-2.00618303</td><td>0.054583866</td></tr>\n",
       "\t<tr><th scope=row>s65</th><td> 0.039079306</td><td>0.18552248</td><td> 0.21064459</td><td>0.834690082</td></tr>\n",
       "\t<tr><th scope=row>sm65</th><td>-0.030668507</td><td>0.11679396</td><td>-0.26258642</td><td>0.794791807</td></tr>\n",
       "\t<tr><th scope=row>sf65</th><td>-0.179917280</td><td>0.11809892</td><td>-1.52344556</td><td>0.138863011</td></tr>\n",
       "\t<tr><th scope=row>fert65</th><td> 0.006880834</td><td>0.02705142</td><td> 0.25436128</td><td>0.801075252</td></tr>\n",
       "\t<tr><th scope=row>mort65</th><td>-0.233454503</td><td>0.81742198</td><td>-0.28559852</td><td>0.777287824</td></tr>\n",
       "\t<tr><th scope=row>lifee065</th><td>-0.014914473</td><td>0.19333559</td><td>-0.07714292</td><td>0.939058459</td></tr>\n",
       "\t<tr><th scope=row>gpop1</th><td> 0.970184579</td><td>1.81220835</td><td> 0.53536039</td><td>0.596627593</td></tr>\n",
       "\t<tr><th scope=row>fert1</th><td> 0.008838189</td><td>0.03504148</td><td> 0.25222077</td><td>0.802712696</td></tr>\n",
       "\t<tr><th scope=row>mort1</th><td> 0.066562928</td><td>0.68481002</td><td> 0.09719911</td><td>0.923260701</td></tr>\n",
       "\t<tr><th scope=row>invsh41</th><td> 0.074461126</td><td>0.10844692</td><td> 0.68661354</td><td>0.497973611</td></tr>\n",
       "\t<tr><th scope=row>geetot1</th><td>-0.715104906</td><td>1.68013567</td><td>-0.42562331</td><td>0.673636102</td></tr>\n",
       "\t<tr><th scope=row>geerec1</th><td> 0.630004630</td><td>2.44737848</td><td> 0.25742019</td><td>0.798736842</td></tr>\n",
       "\t<tr><th scope=row>gde1</th><td>-0.443575219</td><td>1.67120674</td><td>-0.26542211</td><td>0.792628757</td></tr>\n",
       "\t<tr><th scope=row>govwb1</th><td> 0.337452364</td><td>0.43798695</td><td> 0.77046214</td><td>0.447478336</td></tr>\n",
       "\t<tr><th scope=row>govsh41</th><td> 0.463174632</td><td>1.92543733</td><td> 0.24055555</td><td>0.811652246</td></tr>\n",
       "\t<tr><th scope=row>gvxdxe41</th><td>-0.793381582</td><td>2.05939737</td><td>-0.38524939</td><td>0.702963815</td></tr>\n",
       "\t<tr><th scope=row>high65</th><td>-0.752483828</td><td>0.90572159</td><td>-0.83081141</td><td>0.413108816</td></tr>\n",
       "\t<tr><th scope=row>highm65</th><td>-0.390261804</td><td>0.68124930</td><td>-0.57286195</td><td>0.571310302</td></tr>\n",
       "\t<tr><th scope=row>highf65</th><td>-0.417748705</td><td>0.56149048</td><td>-0.74399963</td><td>0.463075062</td></tr>\n",
       "\t<tr><th scope=row>...</th><td>...</td><td>...</td><td>...</td><td>...</td></tr>\n",
       "\t<tr><th scope=row>highcf65</th><td> 3.920771e-01</td><td>7.660246e-01</td><td> 0.51183360</td><td>0.61278088</td></tr>\n",
       "\t<tr><th scope=row>human65</th><td> 2.337269e+00</td><td>3.307269e+00</td><td> 0.70670678</td><td>0.48558873</td></tr>\n",
       "\t<tr><th scope=row>humanm65</th><td>-1.209249e+00</td><td>1.618516e+00</td><td>-0.74713475</td><td>0.46121072</td></tr>\n",
       "\t<tr><th scope=row>humanf65</th><td>-1.103947e+00</td><td>1.684693e+00</td><td>-0.65528075</td><td>0.51763499</td></tr>\n",
       "\t<tr><th scope=row>hyr65</th><td> 5.491388e+01</td><td>2.388729e+01</td><td> 2.29887430</td><td>0.02918450</td></tr>\n",
       "\t<tr><th scope=row>hyrm65</th><td> 1.293505e+01</td><td>2.317142e+01</td><td> 0.55823278</td><td>0.58112223</td></tr>\n",
       "\t<tr><th scope=row>hyrf65</th><td> 9.092580e+00</td><td>1.766958e+01</td><td> 0.51458948</td><td>0.61087820</td></tr>\n",
       "\t<tr><th scope=row>no65</th><td> 3.720986e-02</td><td>1.319733e-01</td><td> 0.28194994</td><td>0.78005541</td></tr>\n",
       "\t<tr><th scope=row>nom65</th><td>-2.119769e-02</td><td>6.495975e-02</td><td>-0.32632032</td><td>0.74660861</td></tr>\n",
       "\t<tr><th scope=row>nof65</th><td>-1.685782e-02</td><td>6.700258e-02</td><td>-0.25159954</td><td>0.80318810</td></tr>\n",
       "\t<tr><th scope=row>pinstab1</th><td>-4.997113e-02</td><td>3.092081e-02</td><td>-1.61610019</td><td>0.11728579</td></tr>\n",
       "\t<tr><th scope=row>pop65</th><td> 1.031796e-07</td><td>1.317950e-07</td><td> 0.78287929</td><td>0.44026959</td></tr>\n",
       "\t<tr><th scope=row>worker65</th><td> 3.407897e-02</td><td>1.561909e-01</td><td> 0.21818786</td><td>0.82886516</td></tr>\n",
       "\t<tr><th scope=row>pop1565</th><td>-4.655346e-01</td><td>4.713340e-01</td><td>-0.98769582</td><td>0.33176044</td></tr>\n",
       "\t<tr><th scope=row>pop6565</th><td>-1.357450e+00</td><td>6.349424e-01</td><td>-2.13791049</td><td>0.04139326</td></tr>\n",
       "\t<tr><th scope=row>sec65</th><td>-1.089278e-02</td><td>3.076618e-01</td><td>-0.03540506</td><td>0.97200796</td></tr>\n",
       "\t<tr><th scope=row>secm65</th><td> 3.343664e-03</td><td>1.511923e-01</td><td> 0.02211530</td><td>0.98251284</td></tr>\n",
       "\t<tr><th scope=row>secf65</th><td>-2.304329e-03</td><td>1.579715e-01</td><td>-0.01458699</td><td>0.98846512</td></tr>\n",
       "\t<tr><th scope=row>secc65</th><td>-4.915284e-01</td><td>7.290408e-01</td><td>-0.67421246</td><td>0.50570489</td></tr>\n",
       "\t<tr><th scope=row>seccm65</th><td> 2.596016e-01</td><td>3.556533e-01</td><td> 0.72992873</td><td>0.47149686</td></tr>\n",
       "\t<tr><th scope=row>seccf65</th><td> 2.206524e-01</td><td>3.733333e-01</td><td> 0.59103325</td><td>0.55923950</td></tr>\n",
       "\t<tr><th scope=row>syr65</th><td>-7.555807e-01</td><td>7.976763e+00</td><td>-0.09472273</td><td>0.92520970</td></tr>\n",
       "\t<tr><th scope=row>syrm65</th><td> 3.109007e-01</td><td>3.896731e+00</td><td> 0.07978502</td><td>0.93697576</td></tr>\n",
       "\t<tr><th scope=row>syrf65</th><td> 7.592811e-01</td><td>4.110634e+00</td><td> 0.18471143</td><td>0.85478676</td></tr>\n",
       "\t<tr><th scope=row>teapri65</th><td> 3.954523e-05</td><td>7.700406e-04</td><td> 0.05135474</td><td>0.95940747</td></tr>\n",
       "\t<tr><th scope=row>teasec65</th><td> 2.496674e-04</td><td>1.171230e-03</td><td> 0.21316678</td><td>0.83274136</td></tr>\n",
       "\t<tr><th scope=row>ex1</th><td>-5.804081e-01</td><td>2.418472e-01</td><td>-2.39989593</td><td>0.02329485</td></tr>\n",
       "\t<tr><th scope=row>im1</th><td> 5.914450e-01</td><td>2.502978e-01</td><td> 2.36296558</td><td>0.02530892</td></tr>\n",
       "\t<tr><th scope=row>xr65</th><td>-1.037768e-04</td><td>5.416760e-05</td><td>-1.91584652</td><td>0.06564690</td></tr>\n",
       "\t<tr><th scope=row>tot1</th><td>-1.279011e-01</td><td>1.125951e-01</td><td>-1.13593842</td><td>0.26561200</td></tr>\n",
       "</tbody>\n",
       "</table>\n"
      ],
      "text/latex": [
       "A matrix: 62 × 4 of type dbl\n",
       "\\begin{tabular}{r|llll}\n",
       "  & Estimate & Std. Error & t value & Pr(>\\textbar{}t\\textbar{})\\\\\n",
       "\\hline\n",
       "\t(Intercept) &  0.247160893 & 0.78450163 &  0.31505466 & 0.755056170\\\\\n",
       "\tgdpsh465 & -0.009377989 & 0.02988773 & -0.31377391 & 0.756018518\\\\\n",
       "\tbmp1l & -0.068862679 & 0.03253065 & -2.11685513 & 0.043289718\\\\\n",
       "\tfreeop &  0.080068974 & 0.20786400 &  0.38519885 & 0.703000838\\\\\n",
       "\tfreetar & -0.488962605 & 0.41816285 & -1.16931143 & 0.252136477\\\\\n",
       "\th65 & -2.362098638 & 0.85729167 & -2.75530338 & 0.010192435\\\\\n",
       "\thm65 &  0.707143400 & 0.52314511 &  1.35171560 & 0.187285919\\\\\n",
       "\thf65 &  1.693448425 & 0.50318881 &  3.36543337 & 0.002232683\\\\\n",
       "\tp65 &  0.265526695 & 0.16429407 &  1.61616729 & 0.117271229\\\\\n",
       "\tpm65 &  0.136952626 & 0.15121749 &  0.90566657 & 0.372840111\\\\\n",
       "\tpf65 & -0.331266948 & 0.16512299 & -2.00618303 & 0.054583866\\\\\n",
       "\ts65 &  0.039079306 & 0.18552248 &  0.21064459 & 0.834690082\\\\\n",
       "\tsm65 & -0.030668507 & 0.11679396 & -0.26258642 & 0.794791807\\\\\n",
       "\tsf65 & -0.179917280 & 0.11809892 & -1.52344556 & 0.138863011\\\\\n",
       "\tfert65 &  0.006880834 & 0.02705142 &  0.25436128 & 0.801075252\\\\\n",
       "\tmort65 & -0.233454503 & 0.81742198 & -0.28559852 & 0.777287824\\\\\n",
       "\tlifee065 & -0.014914473 & 0.19333559 & -0.07714292 & 0.939058459\\\\\n",
       "\tgpop1 &  0.970184579 & 1.81220835 &  0.53536039 & 0.596627593\\\\\n",
       "\tfert1 &  0.008838189 & 0.03504148 &  0.25222077 & 0.802712696\\\\\n",
       "\tmort1 &  0.066562928 & 0.68481002 &  0.09719911 & 0.923260701\\\\\n",
       "\tinvsh41 &  0.074461126 & 0.10844692 &  0.68661354 & 0.497973611\\\\\n",
       "\tgeetot1 & -0.715104906 & 1.68013567 & -0.42562331 & 0.673636102\\\\\n",
       "\tgeerec1 &  0.630004630 & 2.44737848 &  0.25742019 & 0.798736842\\\\\n",
       "\tgde1 & -0.443575219 & 1.67120674 & -0.26542211 & 0.792628757\\\\\n",
       "\tgovwb1 &  0.337452364 & 0.43798695 &  0.77046214 & 0.447478336\\\\\n",
       "\tgovsh41 &  0.463174632 & 1.92543733 &  0.24055555 & 0.811652246\\\\\n",
       "\tgvxdxe41 & -0.793381582 & 2.05939737 & -0.38524939 & 0.702963815\\\\\n",
       "\thigh65 & -0.752483828 & 0.90572159 & -0.83081141 & 0.413108816\\\\\n",
       "\thighm65 & -0.390261804 & 0.68124930 & -0.57286195 & 0.571310302\\\\\n",
       "\thighf65 & -0.417748705 & 0.56149048 & -0.74399963 & 0.463075062\\\\\n",
       "\t... & ... & ... & ... & ...\\\\\n",
       "\thighcf65 &  3.920771e-01 & 7.660246e-01 &  0.51183360 & 0.61278088\\\\\n",
       "\thuman65 &  2.337269e+00 & 3.307269e+00 &  0.70670678 & 0.48558873\\\\\n",
       "\thumanm65 & -1.209249e+00 & 1.618516e+00 & -0.74713475 & 0.46121072\\\\\n",
       "\thumanf65 & -1.103947e+00 & 1.684693e+00 & -0.65528075 & 0.51763499\\\\\n",
       "\thyr65 &  5.491388e+01 & 2.388729e+01 &  2.29887430 & 0.02918450\\\\\n",
       "\thyrm65 &  1.293505e+01 & 2.317142e+01 &  0.55823278 & 0.58112223\\\\\n",
       "\thyrf65 &  9.092580e+00 & 1.766958e+01 &  0.51458948 & 0.61087820\\\\\n",
       "\tno65 &  3.720986e-02 & 1.319733e-01 &  0.28194994 & 0.78005541\\\\\n",
       "\tnom65 & -2.119769e-02 & 6.495975e-02 & -0.32632032 & 0.74660861\\\\\n",
       "\tnof65 & -1.685782e-02 & 6.700258e-02 & -0.25159954 & 0.80318810\\\\\n",
       "\tpinstab1 & -4.997113e-02 & 3.092081e-02 & -1.61610019 & 0.11728579\\\\\n",
       "\tpop65 &  1.031796e-07 & 1.317950e-07 &  0.78287929 & 0.44026959\\\\\n",
       "\tworker65 &  3.407897e-02 & 1.561909e-01 &  0.21818786 & 0.82886516\\\\\n",
       "\tpop1565 & -4.655346e-01 & 4.713340e-01 & -0.98769582 & 0.33176044\\\\\n",
       "\tpop6565 & -1.357450e+00 & 6.349424e-01 & -2.13791049 & 0.04139326\\\\\n",
       "\tsec65 & -1.089278e-02 & 3.076618e-01 & -0.03540506 & 0.97200796\\\\\n",
       "\tsecm65 &  3.343664e-03 & 1.511923e-01 &  0.02211530 & 0.98251284\\\\\n",
       "\tsecf65 & -2.304329e-03 & 1.579715e-01 & -0.01458699 & 0.98846512\\\\\n",
       "\tsecc65 & -4.915284e-01 & 7.290408e-01 & -0.67421246 & 0.50570489\\\\\n",
       "\tseccm65 &  2.596016e-01 & 3.556533e-01 &  0.72992873 & 0.47149686\\\\\n",
       "\tseccf65 &  2.206524e-01 & 3.733333e-01 &  0.59103325 & 0.55923950\\\\\n",
       "\tsyr65 & -7.555807e-01 & 7.976763e+00 & -0.09472273 & 0.92520970\\\\\n",
       "\tsyrm65 &  3.109007e-01 & 3.896731e+00 &  0.07978502 & 0.93697576\\\\\n",
       "\tsyrf65 &  7.592811e-01 & 4.110634e+00 &  0.18471143 & 0.85478676\\\\\n",
       "\tteapri65 &  3.954523e-05 & 7.700406e-04 &  0.05135474 & 0.95940747\\\\\n",
       "\tteasec65 &  2.496674e-04 & 1.171230e-03 &  0.21316678 & 0.83274136\\\\\n",
       "\tex1 & -5.804081e-01 & 2.418472e-01 & -2.39989593 & 0.02329485\\\\\n",
       "\tim1 &  5.914450e-01 & 2.502978e-01 &  2.36296558 & 0.02530892\\\\\n",
       "\txr65 & -1.037768e-04 & 5.416760e-05 & -1.91584652 & 0.06564690\\\\\n",
       "\ttot1 & -1.279011e-01 & 1.125951e-01 & -1.13593842 & 0.26561200\\\\\n",
       "\\end{tabular}\n"
      ],
      "text/markdown": [
       "\n",
       "A matrix: 62 × 4 of type dbl\n",
       "\n",
       "| <!--/--> | Estimate | Std. Error | t value | Pr(&gt;|t|) |\n",
       "|---|---|---|---|---|\n",
       "| (Intercept) |  0.247160893 | 0.78450163 |  0.31505466 | 0.755056170 |\n",
       "| gdpsh465 | -0.009377989 | 0.02988773 | -0.31377391 | 0.756018518 |\n",
       "| bmp1l | -0.068862679 | 0.03253065 | -2.11685513 | 0.043289718 |\n",
       "| freeop |  0.080068974 | 0.20786400 |  0.38519885 | 0.703000838 |\n",
       "| freetar | -0.488962605 | 0.41816285 | -1.16931143 | 0.252136477 |\n",
       "| h65 | -2.362098638 | 0.85729167 | -2.75530338 | 0.010192435 |\n",
       "| hm65 |  0.707143400 | 0.52314511 |  1.35171560 | 0.187285919 |\n",
       "| hf65 |  1.693448425 | 0.50318881 |  3.36543337 | 0.002232683 |\n",
       "| p65 |  0.265526695 | 0.16429407 |  1.61616729 | 0.117271229 |\n",
       "| pm65 |  0.136952626 | 0.15121749 |  0.90566657 | 0.372840111 |\n",
       "| pf65 | -0.331266948 | 0.16512299 | -2.00618303 | 0.054583866 |\n",
       "| s65 |  0.039079306 | 0.18552248 |  0.21064459 | 0.834690082 |\n",
       "| sm65 | -0.030668507 | 0.11679396 | -0.26258642 | 0.794791807 |\n",
       "| sf65 | -0.179917280 | 0.11809892 | -1.52344556 | 0.138863011 |\n",
       "| fert65 |  0.006880834 | 0.02705142 |  0.25436128 | 0.801075252 |\n",
       "| mort65 | -0.233454503 | 0.81742198 | -0.28559852 | 0.777287824 |\n",
       "| lifee065 | -0.014914473 | 0.19333559 | -0.07714292 | 0.939058459 |\n",
       "| gpop1 |  0.970184579 | 1.81220835 |  0.53536039 | 0.596627593 |\n",
       "| fert1 |  0.008838189 | 0.03504148 |  0.25222077 | 0.802712696 |\n",
       "| mort1 |  0.066562928 | 0.68481002 |  0.09719911 | 0.923260701 |\n",
       "| invsh41 |  0.074461126 | 0.10844692 |  0.68661354 | 0.497973611 |\n",
       "| geetot1 | -0.715104906 | 1.68013567 | -0.42562331 | 0.673636102 |\n",
       "| geerec1 |  0.630004630 | 2.44737848 |  0.25742019 | 0.798736842 |\n",
       "| gde1 | -0.443575219 | 1.67120674 | -0.26542211 | 0.792628757 |\n",
       "| govwb1 |  0.337452364 | 0.43798695 |  0.77046214 | 0.447478336 |\n",
       "| govsh41 |  0.463174632 | 1.92543733 |  0.24055555 | 0.811652246 |\n",
       "| gvxdxe41 | -0.793381582 | 2.05939737 | -0.38524939 | 0.702963815 |\n",
       "| high65 | -0.752483828 | 0.90572159 | -0.83081141 | 0.413108816 |\n",
       "| highm65 | -0.390261804 | 0.68124930 | -0.57286195 | 0.571310302 |\n",
       "| highf65 | -0.417748705 | 0.56149048 | -0.74399963 | 0.463075062 |\n",
       "| ... | ... | ... | ... | ... |\n",
       "| highcf65 |  3.920771e-01 | 7.660246e-01 |  0.51183360 | 0.61278088 |\n",
       "| human65 |  2.337269e+00 | 3.307269e+00 |  0.70670678 | 0.48558873 |\n",
       "| humanm65 | -1.209249e+00 | 1.618516e+00 | -0.74713475 | 0.46121072 |\n",
       "| humanf65 | -1.103947e+00 | 1.684693e+00 | -0.65528075 | 0.51763499 |\n",
       "| hyr65 |  5.491388e+01 | 2.388729e+01 |  2.29887430 | 0.02918450 |\n",
       "| hyrm65 |  1.293505e+01 | 2.317142e+01 |  0.55823278 | 0.58112223 |\n",
       "| hyrf65 |  9.092580e+00 | 1.766958e+01 |  0.51458948 | 0.61087820 |\n",
       "| no65 |  3.720986e-02 | 1.319733e-01 |  0.28194994 | 0.78005541 |\n",
       "| nom65 | -2.119769e-02 | 6.495975e-02 | -0.32632032 | 0.74660861 |\n",
       "| nof65 | -1.685782e-02 | 6.700258e-02 | -0.25159954 | 0.80318810 |\n",
       "| pinstab1 | -4.997113e-02 | 3.092081e-02 | -1.61610019 | 0.11728579 |\n",
       "| pop65 |  1.031796e-07 | 1.317950e-07 |  0.78287929 | 0.44026959 |\n",
       "| worker65 |  3.407897e-02 | 1.561909e-01 |  0.21818786 | 0.82886516 |\n",
       "| pop1565 | -4.655346e-01 | 4.713340e-01 | -0.98769582 | 0.33176044 |\n",
       "| pop6565 | -1.357450e+00 | 6.349424e-01 | -2.13791049 | 0.04139326 |\n",
       "| sec65 | -1.089278e-02 | 3.076618e-01 | -0.03540506 | 0.97200796 |\n",
       "| secm65 |  3.343664e-03 | 1.511923e-01 |  0.02211530 | 0.98251284 |\n",
       "| secf65 | -2.304329e-03 | 1.579715e-01 | -0.01458699 | 0.98846512 |\n",
       "| secc65 | -4.915284e-01 | 7.290408e-01 | -0.67421246 | 0.50570489 |\n",
       "| seccm65 |  2.596016e-01 | 3.556533e-01 |  0.72992873 | 0.47149686 |\n",
       "| seccf65 |  2.206524e-01 | 3.733333e-01 |  0.59103325 | 0.55923950 |\n",
       "| syr65 | -7.555807e-01 | 7.976763e+00 | -0.09472273 | 0.92520970 |\n",
       "| syrm65 |  3.109007e-01 | 3.896731e+00 |  0.07978502 | 0.93697576 |\n",
       "| syrf65 |  7.592811e-01 | 4.110634e+00 |  0.18471143 | 0.85478676 |\n",
       "| teapri65 |  3.954523e-05 | 7.700406e-04 |  0.05135474 | 0.95940747 |\n",
       "| teasec65 |  2.496674e-04 | 1.171230e-03 |  0.21316678 | 0.83274136 |\n",
       "| ex1 | -5.804081e-01 | 2.418472e-01 | -2.39989593 | 0.02329485 |\n",
       "| im1 |  5.914450e-01 | 2.502978e-01 |  2.36296558 | 0.02530892 |\n",
       "| xr65 | -1.037768e-04 | 5.416760e-05 | -1.91584652 | 0.06564690 |\n",
       "| tot1 | -1.279011e-01 | 1.125951e-01 | -1.13593842 | 0.26561200 |\n",
       "\n"
      ],
      "text/plain": [
       "            Estimate      Std. Error   t value     Pr(>|t|)   \n",
       "(Intercept)  0.247160893  0.78450163    0.31505466 0.755056170\n",
       "gdpsh465    -0.009377989  0.02988773   -0.31377391 0.756018518\n",
       "bmp1l       -0.068862679  0.03253065   -2.11685513 0.043289718\n",
       "freeop       0.080068974  0.20786400    0.38519885 0.703000838\n",
       "freetar     -0.488962605  0.41816285   -1.16931143 0.252136477\n",
       "h65         -2.362098638  0.85729167   -2.75530338 0.010192435\n",
       "hm65         0.707143400  0.52314511    1.35171560 0.187285919\n",
       "hf65         1.693448425  0.50318881    3.36543337 0.002232683\n",
       "p65          0.265526695  0.16429407    1.61616729 0.117271229\n",
       "pm65         0.136952626  0.15121749    0.90566657 0.372840111\n",
       "pf65        -0.331266948  0.16512299   -2.00618303 0.054583866\n",
       "s65          0.039079306  0.18552248    0.21064459 0.834690082\n",
       "sm65        -0.030668507  0.11679396   -0.26258642 0.794791807\n",
       "sf65        -0.179917280  0.11809892   -1.52344556 0.138863011\n",
       "fert65       0.006880834  0.02705142    0.25436128 0.801075252\n",
       "mort65      -0.233454503  0.81742198   -0.28559852 0.777287824\n",
       "lifee065    -0.014914473  0.19333559   -0.07714292 0.939058459\n",
       "gpop1        0.970184579  1.81220835    0.53536039 0.596627593\n",
       "fert1        0.008838189  0.03504148    0.25222077 0.802712696\n",
       "mort1        0.066562928  0.68481002    0.09719911 0.923260701\n",
       "invsh41      0.074461126  0.10844692    0.68661354 0.497973611\n",
       "geetot1     -0.715104906  1.68013567   -0.42562331 0.673636102\n",
       "geerec1      0.630004630  2.44737848    0.25742019 0.798736842\n",
       "gde1        -0.443575219  1.67120674   -0.26542211 0.792628757\n",
       "govwb1       0.337452364  0.43798695    0.77046214 0.447478336\n",
       "govsh41      0.463174632  1.92543733    0.24055555 0.811652246\n",
       "gvxdxe41    -0.793381582  2.05939737   -0.38524939 0.702963815\n",
       "high65      -0.752483828  0.90572159   -0.83081141 0.413108816\n",
       "highm65     -0.390261804  0.68124930   -0.57286195 0.571310302\n",
       "highf65     -0.417748705  0.56149048   -0.74399963 0.463075062\n",
       "...         ...           ...          ...         ...        \n",
       "highcf65     3.920771e-01 7.660246e-01  0.51183360 0.61278088 \n",
       "human65      2.337269e+00 3.307269e+00  0.70670678 0.48558873 \n",
       "humanm65    -1.209249e+00 1.618516e+00 -0.74713475 0.46121072 \n",
       "humanf65    -1.103947e+00 1.684693e+00 -0.65528075 0.51763499 \n",
       "hyr65        5.491388e+01 2.388729e+01  2.29887430 0.02918450 \n",
       "hyrm65       1.293505e+01 2.317142e+01  0.55823278 0.58112223 \n",
       "hyrf65       9.092580e+00 1.766958e+01  0.51458948 0.61087820 \n",
       "no65         3.720986e-02 1.319733e-01  0.28194994 0.78005541 \n",
       "nom65       -2.119769e-02 6.495975e-02 -0.32632032 0.74660861 \n",
       "nof65       -1.685782e-02 6.700258e-02 -0.25159954 0.80318810 \n",
       "pinstab1    -4.997113e-02 3.092081e-02 -1.61610019 0.11728579 \n",
       "pop65        1.031796e-07 1.317950e-07  0.78287929 0.44026959 \n",
       "worker65     3.407897e-02 1.561909e-01  0.21818786 0.82886516 \n",
       "pop1565     -4.655346e-01 4.713340e-01 -0.98769582 0.33176044 \n",
       "pop6565     -1.357450e+00 6.349424e-01 -2.13791049 0.04139326 \n",
       "sec65       -1.089278e-02 3.076618e-01 -0.03540506 0.97200796 \n",
       "secm65       3.343664e-03 1.511923e-01  0.02211530 0.98251284 \n",
       "secf65      -2.304329e-03 1.579715e-01 -0.01458699 0.98846512 \n",
       "secc65      -4.915284e-01 7.290408e-01 -0.67421246 0.50570489 \n",
       "seccm65      2.596016e-01 3.556533e-01  0.72992873 0.47149686 \n",
       "seccf65      2.206524e-01 3.733333e-01  0.59103325 0.55923950 \n",
       "syr65       -7.555807e-01 7.976763e+00 -0.09472273 0.92520970 \n",
       "syrm65       3.109007e-01 3.896731e+00  0.07978502 0.93697576 \n",
       "syrf65       7.592811e-01 4.110634e+00  0.18471143 0.85478676 \n",
       "teapri65     3.954523e-05 7.700406e-04  0.05135474 0.95940747 \n",
       "teasec65     2.496674e-04 1.171230e-03  0.21316678 0.83274136 \n",
       "ex1         -5.804081e-01 2.418472e-01 -2.39989593 0.02329485 \n",
       "im1          5.914450e-01 2.502978e-01  2.36296558 0.02530892 \n",
       "xr65        -1.037768e-04 5.416760e-05 -1.91584652 0.06564690 \n",
       "tot1        -1.279011e-01 1.125951e-01 -1.13593842 0.26561200 "
      ]
     },
     "metadata": {},
     "output_type": "display_data"
    }
   ],
   "source": [
    "summary(control.ols)$coef"
   ]
  },
  {
   "cell_type": "code",
   "execution_count": 45,
   "id": "149fd8dc",
   "metadata": {},
   "outputs": [
    {
     "data": {
      "text/html": [
       "0.0171455609450992"
      ],
      "text/latex": [
       "0.0171455609450992"
      ],
      "text/markdown": [
       "0.0171455609450992"
      ],
      "text/plain": [
       "[1] 0.01714556"
      ]
     },
     "metadata": {},
     "output_type": "display_data"
    }
   ],
   "source": [
    "value.control<- predict(control.ols,growth)\n",
    "difference.control <- value.control - growth$Outcome\n",
    "rmse_ols_control_y <- sqrt(mean(difference.control^2))\n",
    "rmse_ols_control_y"
   ]
  },
  {
   "cell_type": "code",
   "execution_count": 46,
   "id": "32a2f584",
   "metadata": {},
   "outputs": [
    {
     "data": {
      "text/html": [
       "7.7092551011574"
      ],
      "text/latex": [
       "7.7092551011574"
      ],
      "text/markdown": [
       "7.7092551011574"
      ],
      "text/plain": [
       "[1] 7.709255"
      ]
     },
     "metadata": {},
     "output_type": "display_data"
    }
   ],
   "source": [
    "value_control_d<- predict(control.ols,growth)\n",
    "difference_control_d <- value_control_d - growth$gdpsh465\n",
    "rmse_ols_control_d <- sqrt(mean(difference_control_d^2))\n",
    "rmse_ols_control_d"
   ]
  },
  {
   "cell_type": "markdown",
   "id": "6060dd13",
   "metadata": {},
   "source": [
    "## DML"
   ]
  },
  {
   "cell_type": "code",
   "execution_count": 47,
   "id": "25258684",
   "metadata": {},
   "outputs": [
    {
     "data": {
      "text/html": [
       "<style>\n",
       ".list-inline {list-style: none; margin:0; padding: 0}\n",
       ".list-inline>li {display: inline-block}\n",
       ".list-inline>li:not(:last-child)::after {content: \"\\00b7\"; padding: 0 .5ex}\n",
       "</style>\n",
       "<ol class=list-inline><li>1</li><li>2</li><li>3</li><li>4</li><li>5</li><li>6</li><li>7</li><li>8</li><li>9</li><li>10</li><li>11</li><li>12</li><li>13</li><li>14</li><li>15</li><li>16</li><li>17</li><li>18</li><li>19</li><li>20</li></ol>\n"
      ],
      "text/latex": [
       "\\begin{enumerate*}\n",
       "\\item 1\n",
       "\\item 2\n",
       "\\item 3\n",
       "\\item 4\n",
       "\\item 5\n",
       "\\item 6\n",
       "\\item 7\n",
       "\\item 8\n",
       "\\item 9\n",
       "\\item 10\n",
       "\\item 11\n",
       "\\item 12\n",
       "\\item 13\n",
       "\\item 14\n",
       "\\item 15\n",
       "\\item 16\n",
       "\\item 17\n",
       "\\item 18\n",
       "\\item 19\n",
       "\\item 20\n",
       "\\end{enumerate*}\n"
      ],
      "text/markdown": [
       "1. 1\n",
       "2. 2\n",
       "3. 3\n",
       "4. 4\n",
       "5. 5\n",
       "6. 6\n",
       "7. 7\n",
       "8. 8\n",
       "9. 9\n",
       "10. 10\n",
       "11. 11\n",
       "12. 12\n",
       "13. 13\n",
       "14. 14\n",
       "15. 15\n",
       "16. 16\n",
       "17. 17\n",
       "18. 18\n",
       "19. 19\n",
       "20. 20\n",
       "\n",
       "\n"
      ],
      "text/plain": [
       " [1]  1  2  3  4  5  6  7  8  9 10 11 12 13 14 15 16 17 18 19 20"
      ]
     },
     "metadata": {},
     "output_type": "display_data"
    }
   ],
   "source": [
    "I_1 <- c(1,2,3,4,5,6,7,8,9,10)\n",
    "I_2 <- c(11,12,13,14,15,16,17,18,19,20)\n",
    "I = c(I_1, I_2)\n",
    "I"
   ]
  },
  {
   "cell_type": "code",
   "execution_count": 48,
   "id": "7d1476c9",
   "metadata": {},
   "outputs": [],
   "source": [
    "DML2.for.PLM <- function(z, d, y, dreg, yreg, nfold=2) {\n",
    "  nobs <- nrow(z) #number of observations\n",
    "  foldid <- rep.int(1:nfold,times = ceiling(nobs/nfold))[sample.int(nobs)] #define folds indices\n",
    "  I <- split(1:nobs, foldid)  #split observation indices into folds  \n",
    "  ytil <- dtil <- rep(NA, nobs)\n",
    "  cat(\"fold: \")\n",
    "  for(b in 1:length(I)){\n",
    "    dfit <- dreg(z[-I[[b]],], d[-I[[b]]]) #take a fold out\n",
    "    yfit <- yreg(z[-I[[b]],], y[-I[[b]]]) # take a foldt out\n",
    "    dhat <- predict(dfit, z[I[[b]],], type=\"response\") #predict the left-out fold \n",
    "    yhat <- predict(yfit, z[I[[b]],], type=\"response\") #predict the left-out fold  \n",
    "    dtil[I[[b]]] <- (d[I[[b]]] - dhat) #record residual for the left-out fold\n",
    "    ytil[I[[b]]] <- (y[I[[b]]] - yhat) #record residial for the left-out fold\n",
    "    cat(b,\" \")\n",
    "        }\n",
    "  #rfit <- lm(ytil ~ dtil)    #estimate the main parameter by regressing one residual on the other\n",
    "  data <- data.frame(cbind(ytil, dtil))\n",
    "  rfit <- felm(ytil ~ dtil,data=growth) \n",
    "  coef.est <- coef(rfit)[2]  #extract coefficient\n",
    "  #HC <- vcovHC(rfit)\n",
    "  se    <- summary(rfit,robust=T)$coefficients[2,2] #record robust standard error by County\n",
    "  cat(sprintf(\"\\ncoef (se) = %g (%g)\\n\", coef.est , se))  #printing output\n",
    "  return( list(coef.est =coef.est , se=se, dtil=dtil, ytil=ytil, rfit=rfit) ) #save output and residuals \n",
    "}"
   ]
  },
  {
   "cell_type": "markdown",
   "id": "83d377c2",
   "metadata": {},
   "source": [
    "## DML Lasso"
   ]
  },
  {
   "cell_type": "code",
   "execution_count": 49,
   "id": "69f2969b",
   "metadata": {},
   "outputs": [
    {
     "name": "stderr",
     "output_type": "stream",
     "text": [
      "Warning message:\n",
      "\"package 'glmnet' was built under R version 3.6.3\"\n",
      "Loaded glmnet 4.1-1\n",
      "\n",
      "Warning message:\n",
      "\"package 'randomForest' was built under R version 3.6.3\"\n",
      "randomForest 4.6-14\n",
      "\n",
      "Type rfNews() to see new features/changes/bug fixes.\n",
      "\n",
      "\n",
      "Attaching package: 'randomForest'\n",
      "\n",
      "\n",
      "The following object is masked from 'package:ggplot2':\n",
      "\n",
      "    margin\n",
      "\n",
      "\n"
     ]
    }
   ],
   "source": [
    "library(hdm)\n",
    "library(glmnet)\n",
    "library(sandwich)\n",
    "library(randomForest)"
   ]
  },
  {
   "cell_type": "code",
   "execution_count": 50,
   "id": "8f4a4b0a",
   "metadata": {},
   "outputs": [],
   "source": [
    "#DML with Lasso:\n",
    "set.seed(123)\n",
    "dreg <- function(z,d){ rlasso(z,d, post=FALSE) } #ML method= lasso from hdm \n",
    "yreg <- function(z,y){ rlasso(z,y, post=FALSE) } #ML method = lasso from hdm"
   ]
  },
  {
   "cell_type": "code",
   "execution_count": 51,
   "id": "35db403b",
   "metadata": {},
   "outputs": [
    {
     "name": "stdout",
     "output_type": "stream",
     "text": [
      "fold: 1  2  3  4  5  6  7  8  9  10  \n",
      "coef (se) = -0.0370317 (0.0161774)\n"
     ]
    }
   ],
   "source": [
    "DML2.lasso = DML2.for.PLM(z, d, y, dreg, yreg, nfold=10)"
   ]
  },
  {
   "cell_type": "markdown",
   "id": "cff90e4d",
   "metadata": {},
   "source": [
    "## DML Lasso Post"
   ]
  },
  {
   "cell_type": "code",
   "execution_count": 52,
   "id": "69417733",
   "metadata": {},
   "outputs": [
    {
     "name": "stdout",
     "output_type": "stream",
     "text": [
      "fold: 1  2  3  4  5  6  7  8  9  10  \n",
      "coef (se) = -0.0368285 (0.0141174)\n"
     ]
    }
   ],
   "source": [
    "#DML with Post-Lasso:\n",
    "dreg <- function(z,d){ rlasso(z,d, post=T) } #ML method= lasso from hdm \n",
    "yreg <- function(z,y){ rlasso(z,y, post=T) } #ML method = lasso from hdm\n",
    "DML2.post = DML2.for.PLM(z, d, y, dreg, yreg, nfold=10)"
   ]
  },
  {
   "cell_type": "markdown",
   "id": "23885ccd",
   "metadata": {},
   "source": [
    "## DML Ridge"
   ]
  },
  {
   "cell_type": "code",
   "execution_count": 53,
   "id": "82efaa70",
   "metadata": {},
   "outputs": [
    {
     "name": "stdout",
     "output_type": "stream",
     "text": [
      "fold: 1  2  3  4  5  \n",
      "coef (se) = -0.03214 (0.0151531)\n"
     ]
    }
   ],
   "source": [
    "dreg <- function(z,d){ cv.glmnet(z,d,family=\"gaussian\", alpha=0) } #ML method = ridge from glmnet \n",
    "yreg <- function(z,y){ cv.glmnet(z,y,family=\"gaussian\", alpha=0) }  #ML method = ridge from glmnet \n",
    "DML2.ridge = DML2.for.PLM(z, d, y, dreg, yreg, nfold=5)"
   ]
  },
  {
   "cell_type": "markdown",
   "id": "8a6f8ac1",
   "metadata": {},
   "source": [
    "## DML Elnet"
   ]
  },
  {
   "cell_type": "code",
   "execution_count": 54,
   "id": "da94a12c",
   "metadata": {},
   "outputs": [
    {
     "name": "stdout",
     "output_type": "stream",
     "text": [
      "fold: 1  2  3  4  5  \n",
      "coef (se) = -0.037759 (0.0171555)\n"
     ]
    }
   ],
   "source": [
    "dreg <- function(z,d){ cv.glmnet(z,d,family=\"gaussian\", alpha=0.5) } #ML method = elastic net from glmnet \n",
    "yreg <- function(z,y){ cv.glmnet(z,y,family=\"gaussian\", alpha=0.5) }  #ML method = elastic net from glmnet \n",
    "DML2.elnet = DML2.for.PLM(z, d, y, dreg, yreg, nfold=5)"
   ]
  },
  {
   "cell_type": "code",
   "execution_count": 55,
   "id": "10a8821b",
   "metadata": {},
   "outputs": [],
   "source": [
    "## DML Random Forest"
   ]
  },
  {
   "cell_type": "code",
   "execution_count": 56,
   "id": "9e0f45c7",
   "metadata": {},
   "outputs": [
    {
     "name": "stdout",
     "output_type": "stream",
     "text": [
      "fold: 1  2  \n",
      "coef (se) = -0.0290514 (0.0128382)\n"
     ]
    }
   ],
   "source": [
    "#DML with Random Forest:\n",
    "dreg <- function(z,d){ randomForest(z, d) } #ML method=Forest \n",
    "yreg <- function(z,y){ randomForest(z, y) } #ML method=Forest\n",
    "set.seed(1)\n",
    "DML2.RF = DML2.for.PLM(z, d, y, dreg, yreg, nfold=2) # set to 2 due to computation time"
   ]
  },
  {
   "cell_type": "code",
   "execution_count": 57,
   "id": "b7335882",
   "metadata": {},
   "outputs": [
    {
     "data": {
      "text/html": [
       "20"
      ],
      "text/latex": [
       "20"
      ],
      "text/markdown": [
       "20"
      ],
      "text/plain": [
       "[1] 20"
      ]
     },
     "metadata": {},
     "output_type": "display_data"
    }
   ],
   "source": [
    "if (!is.null(d) && !is.factor(d))\n",
    "             max(floor(ncol(z)/3), 1) else floor(sqrt(ncol(z)))"
   ]
  },
  {
   "cell_type": "code",
   "execution_count": 58,
   "id": "dc518a30",
   "metadata": {},
   "outputs": [
    {
     "data": {
      "text/html": [
       "5"
      ],
      "text/latex": [
       "5"
      ],
      "text/markdown": [
       "5"
      ],
      "text/plain": [
       "[1] 5"
      ]
     },
     "metadata": {},
     "output_type": "display_data"
    }
   ],
   "source": [
    "if (!is.null(d) && !is.factor(d)) 5 else 1"
   ]
  },
  {
   "cell_type": "code",
   "execution_count": 59,
   "id": "1d28b5b2",
   "metadata": {},
   "outputs": [
    {
     "name": "stdout",
     "output_type": "stream",
     "text": [
      "             Lasso  Post-Lasso    CV Elnet    CV Ridge          RF\n",
      "RMSE D 0.000831523 0.000333837 3.81930e-18 0.000199755 0.000844267\n",
      "RMSE Y 0.012439826 0.000541272 1.14092e-02 0.003328221 0.029621814\n"
     ]
    }
   ],
   "source": [
    "mods<- list(DML2.lasso, DML2.post, DML2.elnet, DML2.ridge, DML2.RF)\n",
    "\n",
    "RMSE.mdl<- function(mdl) {\n",
    "RMSEY <- sqrt(mean(mdl$ytil)^2) \n",
    "RMSED <- sqrt(mean(mdl$dtil)^2) \n",
    "return( list(RMSEY=RMSEY, RMSED=RMSED))\n",
    "}\n",
    "\n",
    "#RMSE.mdl(DML2.lasso)\n",
    "\n",
    "#DML2.lasso$ytil\n",
    "\n",
    "Res<- lapply(mods, RMSE.mdl)\n",
    "\n",
    "\n",
    "prRes.Y<- c( Res[[1]]$RMSEY,Res[[2]]$RMSEY, Res[[3]]$RMSEY, Res[[4]]$RMSEY, Res[[5]]$RMSEY)\n",
    "prRes.D<- c( Res[[1]]$RMSED,Res[[2]]$RMSED, Res[[3]]$RMSED, Res[[4]]$RMSED, Res[[5]]$RMSED)\n",
    "\n",
    "prRes<- rbind(prRes.Y, prRes.D); \n",
    "rownames(prRes)<- c(\"RMSE D\", \"RMSE Y\");\n",
    "colnames(prRes)<- c(\"Lasso\", \"Post-Lasso\",  \"CV Elnet\", \"CV Ridge\", \"RF\")\n",
    "print(prRes,digit=6)"
   ]
  },
  {
   "cell_type": "code",
   "execution_count": 60,
   "id": "644c9c3f",
   "metadata": {},
   "outputs": [
    {
     "name": "stdout",
     "output_type": "stream",
     "text": [
      "<!-- html table generated in R 3.6.1 by xtable 1.8-4 package -->\n",
      "<!-- Sat Nov 27 16:45:28 2021 -->\n",
      "<table border=1>\n",
      "<tr> <th>  </th> <th> OLS </th> <th> OLS with countries characteristics </th>  </tr>\n",
      "  <tr> <td align=\"right\"> RMSE D </td> <td align=\"right\"> 7.709 </td> <td align=\"right\"> 0.051 </td> </tr>\n",
      "  <tr> <td align=\"right\"> RMSE Y </td> <td align=\"right\"> 7.709 </td> <td align=\"right\"> 0.017 </td> </tr>\n",
      "   </table>\n"
     ]
    },
    {
     "data": {
      "text/html": [
       "<table class=\"dataframe\">\n",
       "<caption>A matrix: 2 × 2 of type dbl</caption>\n",
       "<thead>\n",
       "\t<tr><th></th><th scope=col>OLS</th><th scope=col>OLS with countries characteristics</th></tr>\n",
       "</thead>\n",
       "<tbody>\n",
       "\t<tr><th scope=row>RMSE D</th><td>7.709105</td><td>0.05101480</td></tr>\n",
       "\t<tr><th scope=row>RMSE Y</th><td>7.709255</td><td>0.01714556</td></tr>\n",
       "</tbody>\n",
       "</table>\n"
      ],
      "text/latex": [
       "A matrix: 2 × 2 of type dbl\n",
       "\\begin{tabular}{r|ll}\n",
       "  & OLS & OLS with countries characteristics\\\\\n",
       "\\hline\n",
       "\tRMSE D & 7.709105 & 0.05101480\\\\\n",
       "\tRMSE Y & 7.709255 & 0.01714556\\\\\n",
       "\\end{tabular}\n"
      ],
      "text/markdown": [
       "\n",
       "A matrix: 2 × 2 of type dbl\n",
       "\n",
       "| <!--/--> | OLS | OLS with countries characteristics |\n",
       "|---|---|---|\n",
       "| RMSE D | 7.709105 | 0.05101480 |\n",
       "| RMSE Y | 7.709255 | 0.01714556 |\n",
       "\n"
      ],
      "text/plain": [
       "       OLS      OLS with countries characteristics\n",
       "RMSE D 7.709105 0.05101480                        \n",
       "RMSE Y 7.709255 0.01714556                        "
      ]
     },
     "metadata": {},
     "output_type": "display_data"
    }
   ],
   "source": [
    "library(xtable)\n",
    "table <- matrix(0, 2, 2)\n",
    "table[1,1:2]   <- c(rmse_ols_d,rmse_ols_y)\n",
    "table[2,1:2]   <- c(rmse_ols_control_d,rmse_ols_control_y)\n",
    "colnames(table) <-c(\"OLS\",\"OLS with countries characteristics\")\n",
    "rownames(table) <-c(\"RMSE D\",\"RMSE Y\")\n",
    "tab<- xtable(table, digits = 3)\n",
    "print(tab,type=\"html\") # set type=\"latex\" for printing table in LaTeX\n",
    "table"
   ]
  },
  {
   "cell_type": "markdown",
   "id": "b964e5ac",
   "metadata": {},
   "source": [
    "## DML Best"
   ]
  },
  {
   "cell_type": "markdown",
   "id": "64cf7b0d",
   "metadata": {},
   "source": [
    "It looks like the best method for predicting D is CV Elnet, and the best method for predicting Y is CV Elnet. Because it has the lowest Root Mean Square Error in Y and D matrix variables."
   ]
  },
  {
   "cell_type": "code",
   "execution_count": 61,
   "id": "fdf142d0",
   "metadata": {},
   "outputs": [
    {
     "name": "stdout",
     "output_type": "stream",
     "text": [
      "fold: 1  2  3  4  5  \n",
      "coef (se) = -0.038173 (0.0156573)\n"
     ]
    }
   ],
   "source": [
    "dreg <- function(z,d){ cv.glmnet(z,d,family=\"gaussian\", alpha=0.5) } #ML method = elastic net from glmnet \n",
    "yreg <- function(z,y){ cv.glmnet(z,y,family=\"gaussian\", alpha=0.5) }  #ML method = elastic net from glmnet \n",
    "DML2.best = DML2.for.PLM(z, d, y, dreg, yreg, nfold=5)"
   ]
  },
  {
   "cell_type": "code",
   "execution_count": 62,
   "id": "c75fc693",
   "metadata": {},
   "outputs": [
    {
     "data": {
      "text/html": [
       "FALSE"
      ],
      "text/latex": [
       "FALSE"
      ],
      "text/markdown": [
       "FALSE"
      ],
      "text/plain": [
       "[1] FALSE"
      ]
     },
     "metadata": {},
     "output_type": "display_data"
    },
    {
     "data": {
      "text/html": [
       "<table class=\"dataframe\">\n",
       "<caption>A matrix: 8 × 2 of type dbl</caption>\n",
       "<thead>\n",
       "\t<tr><th></th><th scope=col>Estimate</th><th scope=col>Standard Error</th></tr>\n",
       "</thead>\n",
       "<tbody>\n",
       "\t<tr><th scope=row>OLS</th><td> 0.001316713</td><td>0.00610220</td></tr>\n",
       "\t<tr><th scope=row>OLS with controls</th><td>-0.009377989</td><td>0.02988773</td></tr>\n",
       "\t<tr><th scope=row>Lasso</th><td>-0.037031673</td><td>0.01617736</td></tr>\n",
       "\t<tr><th scope=row>Post-Lasso</th><td>-0.036828539</td><td>0.01411740</td></tr>\n",
       "\t<tr><th scope=row>CV Elnet</th><td> 0.000000000</td><td>0.01715554</td></tr>\n",
       "\t<tr><th scope=row>CV Ridge</th><td>-0.032140022</td><td>0.01515307</td></tr>\n",
       "\t<tr><th scope=row>Random Forest</th><td>-0.029051448</td><td>0.01283821</td></tr>\n",
       "\t<tr><th scope=row>Best</th><td>-0.038172960</td><td>0.01565734</td></tr>\n",
       "</tbody>\n",
       "</table>\n"
      ],
      "text/latex": [
       "A matrix: 8 × 2 of type dbl\n",
       "\\begin{tabular}{r|ll}\n",
       "  & Estimate & Standard Error\\\\\n",
       "\\hline\n",
       "\tOLS &  0.001316713 & 0.00610220\\\\\n",
       "\tOLS with controls & -0.009377989 & 0.02988773\\\\\n",
       "\tLasso & -0.037031673 & 0.01617736\\\\\n",
       "\tPost-Lasso & -0.036828539 & 0.01411740\\\\\n",
       "\tCV Elnet &  0.000000000 & 0.01715554\\\\\n",
       "\tCV Ridge & -0.032140022 & 0.01515307\\\\\n",
       "\tRandom Forest & -0.029051448 & 0.01283821\\\\\n",
       "\tBest & -0.038172960 & 0.01565734\\\\\n",
       "\\end{tabular}\n"
      ],
      "text/markdown": [
       "\n",
       "A matrix: 8 × 2 of type dbl\n",
       "\n",
       "| <!--/--> | Estimate | Standard Error |\n",
       "|---|---|---|\n",
       "| OLS |  0.001316713 | 0.00610220 |\n",
       "| OLS with controls | -0.009377989 | 0.02988773 |\n",
       "| Lasso | -0.037031673 | 0.01617736 |\n",
       "| Post-Lasso | -0.036828539 | 0.01411740 |\n",
       "| CV Elnet |  0.000000000 | 0.01715554 |\n",
       "| CV Ridge | -0.032140022 | 0.01515307 |\n",
       "| Random Forest | -0.029051448 | 0.01283821 |\n",
       "| Best | -0.038172960 | 0.01565734 |\n",
       "\n"
      ],
      "text/plain": [
       "                  Estimate     Standard Error\n",
       "OLS                0.001316713 0.00610220    \n",
       "OLS with controls -0.009377989 0.02988773    \n",
       "Lasso             -0.037031673 0.01617736    \n",
       "Post-Lasso        -0.036828539 0.01411740    \n",
       "CV Elnet           0.000000000 0.01715554    \n",
       "CV Ridge          -0.032140022 0.01515307    \n",
       "Random Forest     -0.029051448 0.01283821    \n",
       "Best              -0.038172960 0.01565734    "
      ]
     },
     "metadata": {},
     "output_type": "display_data"
    }
   ],
   "source": [
    "library(xtable)\n",
    "\n",
    "table <- matrix(0,8,2)\n",
    "table[1,1] <- as.numeric(est_baseline[1])\n",
    "table[2,1] <- as.numeric(est_ols[1])\n",
    "table[3,1]   <- as.numeric(DML2.lasso$coef.est)\n",
    "table[4,1]   <- as.numeric(DML2.post$coef.est)\n",
    "table[5,1]  <as.numeric(DML2.elnet$coef.est)\n",
    "table[6,1] <-as.numeric(DML2.ridge$coef.est)\n",
    "table[7,1] <-as.numeric(DML2.RF$coef.est)\n",
    "table[8,1] <-as.numeric(DML2.best$coef.est)\n",
    "table[1,2] <- as.numeric(est_baseline[2])\n",
    "table[2,2] <- as.numeric(est_ols[2])\n",
    "table[3,2]   <- as.numeric(DML2.lasso$se)\n",
    "table[4,2]   <- as.numeric(DML2.post$se)\n",
    "table[5,2]  <-as.numeric(DML2.elnet$se)\n",
    "table[6,2] <-as.numeric(DML2.ridge$se)\n",
    "table[7,2] <-as.numeric(DML2.RF$se)\n",
    "table[8,2] <-as.numeric(DML2.best$se)\n",
    "\n",
    "\n",
    "\n",
    "\n",
    "\n",
    "################################# Print Results #################################\n",
    "\n",
    "colnames(table) <- c(\"Estimate\",\"Standard Error\")\n",
    "rownames(table) <- c(\"OLS\", \"OLS with controls\", \"Lasso\", \"Post-Lasso\", \"CV Elnet\", \"CV Ridge\", \"Random Forest\", \n",
    "                     \"Best\")\n",
    "\n",
    "table"
   ]
  },
  {
   "cell_type": "code",
   "execution_count": 63,
   "id": "61ae118a",
   "metadata": {},
   "outputs": [
    {
     "name": "stdout",
     "output_type": "stream",
     "text": [
      "                  Estimate Standard Error\n",
      "OLS                0.00132         0.0061\n",
      "OLS with controls -0.00938         0.0299\n",
      "Lasso             -0.03703         0.0162\n",
      "Post-Lasso        -0.03683         0.0141\n",
      "CV Elnet           0.00000         0.0172\n",
      "CV Ridge          -0.03214         0.0152\n",
      "Random Forest     -0.02905         0.0128\n",
      "Best              -0.03817         0.0157\n"
     ]
    }
   ],
   "source": [
    "print(table, digit=3)"
   ]
  },
  {
   "cell_type": "code",
   "execution_count": 65,
   "id": "9be0eaa5",
   "metadata": {},
   "outputs": [
    {
     "name": "stdout",
     "output_type": "stream",
     "text": [
      "% latex table generated in R 3.6.1 by xtable 1.8-4 package\n",
      "% Sat Nov 27 16:48:08 2021\n",
      "\\begin{table}[ht]\n",
      "\\centering\n",
      "\\begin{tabular}{rrr}\n",
      "  \\hline\n",
      " & Estimate & Standard Error \\\\ \n",
      "  \\hline\n",
      "OLS & 0.001 & 0.006 \\\\ \n",
      "  OLS with controls & -0.009 & 0.030 \\\\ \n",
      "  Lasso & -0.037 & 0.016 \\\\ \n",
      "  Post-Lasso & -0.037 & 0.014 \\\\ \n",
      "  CV Elnet & 0.000 & 0.017 \\\\ \n",
      "  CV Ridge & -0.032 & 0.015 \\\\ \n",
      "  Random Forest & -0.029 & 0.013 \\\\ \n",
      "  Best & -0.038 & 0.016 \\\\ \n",
      "   \\hline\n",
      "\\end{tabular}\n",
      "\\end{table}\n"
     ]
    },
    {
     "data": {
      "text/html": [
       "<table class=\"dataframe\">\n",
       "<caption>A xtable: 8 × 2</caption>\n",
       "<thead>\n",
       "\t<tr><th></th><th scope=col>Estimate</th><th scope=col>Standard Error</th></tr>\n",
       "\t<tr><th></th><th scope=col>&lt;dbl&gt;</th><th scope=col>&lt;dbl&gt;</th></tr>\n",
       "</thead>\n",
       "<tbody>\n",
       "\t<tr><th scope=row>OLS</th><td> 0.001316713</td><td>0.00610220</td></tr>\n",
       "\t<tr><th scope=row>OLS with controls</th><td>-0.009377989</td><td>0.02988773</td></tr>\n",
       "\t<tr><th scope=row>Lasso</th><td>-0.037031673</td><td>0.01617736</td></tr>\n",
       "\t<tr><th scope=row>Post-Lasso</th><td>-0.036828539</td><td>0.01411740</td></tr>\n",
       "\t<tr><th scope=row>CV Elnet</th><td> 0.000000000</td><td>0.01715554</td></tr>\n",
       "\t<tr><th scope=row>CV Ridge</th><td>-0.032140022</td><td>0.01515307</td></tr>\n",
       "\t<tr><th scope=row>Random Forest</th><td>-0.029051448</td><td>0.01283821</td></tr>\n",
       "\t<tr><th scope=row>Best</th><td>-0.038172960</td><td>0.01565734</td></tr>\n",
       "</tbody>\n",
       "</table>\n"
      ],
      "text/latex": [
       "A xtable: 8 × 2\n",
       "\\begin{tabular}{r|ll}\n",
       "  & Estimate & Standard Error\\\\\n",
       "  & <dbl> & <dbl>\\\\\n",
       "\\hline\n",
       "\tOLS &  0.001316713 & 0.00610220\\\\\n",
       "\tOLS with controls & -0.009377989 & 0.02988773\\\\\n",
       "\tLasso & -0.037031673 & 0.01617736\\\\\n",
       "\tPost-Lasso & -0.036828539 & 0.01411740\\\\\n",
       "\tCV Elnet &  0.000000000 & 0.01715554\\\\\n",
       "\tCV Ridge & -0.032140022 & 0.01515307\\\\\n",
       "\tRandom Forest & -0.029051448 & 0.01283821\\\\\n",
       "\tBest & -0.038172960 & 0.01565734\\\\\n",
       "\\end{tabular}\n"
      ],
      "text/markdown": [
       "\n",
       "A xtable: 8 × 2\n",
       "\n",
       "| <!--/--> | Estimate &lt;dbl&gt; | Standard Error &lt;dbl&gt; |\n",
       "|---|---|---|\n",
       "| OLS |  0.001316713 | 0.00610220 |\n",
       "| OLS with controls | -0.009377989 | 0.02988773 |\n",
       "| Lasso | -0.037031673 | 0.01617736 |\n",
       "| Post-Lasso | -0.036828539 | 0.01411740 |\n",
       "| CV Elnet |  0.000000000 | 0.01715554 |\n",
       "| CV Ridge | -0.032140022 | 0.01515307 |\n",
       "| Random Forest | -0.029051448 | 0.01283821 |\n",
       "| Best | -0.038172960 | 0.01565734 |\n",
       "\n"
      ],
      "text/plain": [
       "                  Estimate     Standard Error\n",
       "OLS                0.001316713 0.00610220    \n",
       "OLS with controls -0.009377989 0.02988773    \n",
       "Lasso             -0.037031673 0.01617736    \n",
       "Post-Lasso        -0.036828539 0.01411740    \n",
       "CV Elnet           0.000000000 0.01715554    \n",
       "CV Ridge          -0.032140022 0.01515307    \n",
       "Random Forest     -0.029051448 0.01283821    \n",
       "Best              -0.038172960 0.01565734    "
      ]
     },
     "metadata": {},
     "output_type": "display_data"
    }
   ],
   "source": [
    "tab<- xtable(table, digits=3)\n",
    "print(tab, type=\"latex\")\n",
    "tab"
   ]
  },
  {
   "cell_type": "code",
   "execution_count": 1,
   "id": "8716adc0",
   "metadata": {},
   "outputs": [],
   "source": [
    "#Main coefficients\n",
    "#m1: \n",
    "est_baseline <- 0.00132 \n",
    "\n",
    "#m2\n",
    "est_ols <- -0.00938 \n",
    "\n",
    "#m3\n",
    "DML2.lasso_coef.est <- -0.03703 \n",
    "\n",
    "#m4\n",
    "DML2.post_coef.est <- -0.03683\n",
    "\n",
    "#m5\n",
    "DML2.elnet_coef.est <- -0.03683\n",
    "\n",
    "#m6\n",
    "DML2.ridge_coef.est <- -0.03214\n",
    "\n",
    "#m7\n",
    "DML2.RF_coef.est <- -0.02905\n",
    "\n",
    "#m8\n",
    "DML2.best_coef.est <- -0.03817"
   ]
  },
  {
   "cell_type": "code",
   "execution_count": 2,
   "id": "7c363fe7",
   "metadata": {},
   "outputs": [
    {
     "name": "stderr",
     "output_type": "stream",
     "text": [
      "Registered S3 methods overwritten by 'tibble':\n",
      "  method     from  \n",
      "  format.tbl pillar\n",
      "  print.tbl  pillar\n",
      "\n",
      "\n",
      "Attaching package: 'dplyr'\n",
      "\n",
      "\n",
      "The following objects are masked from 'package:stats':\n",
      "\n",
      "    filter, lag\n",
      "\n",
      "\n",
      "The following objects are masked from 'package:base':\n",
      "\n",
      "    intersect, setdiff, setequal, union\n",
      "\n",
      "\n"
     ]
    },
    {
     "data": {
      "image/png": "[encoded data removed]",
      "text/plain": [
       "Plot with title \"Coeficient Results\""
      ]
     },
     "metadata": {
      "image/png": {
       "height": 420,
       "width": 420
      }
     },
     "output_type": "display_data"
    }
   ],
   "source": [
    "library (dplyr)\n",
    "\n",
    "plot(NA, xlim = c(-0.2, 0.2), ylim = c(0,8), xlab = \"Coefficient Estimate w/ 95% Confidence Intervals\", ylab = \"\", yaxt = \"n\")\n",
    "title(\"Coeficient Results\")\n",
    "\n",
    "axis(2, 1:8, c(\"m1\", \"m2\", \"m3\", \"m4\", \"m5\", \"m6\", \"m7\", \"m8\"), las = 2)\n",
    "abline(v = 0, col = \"blue\")\n",
    "\n",
    "points(est_baseline , 1, pch = 23, col = \"black\", bg= \"black\")\n",
    "points(est_ols, 2, pch =23, col = \"black\", bg= \"black\")\n",
    "points(DML2.lasso_coef.est, 3, pch =23, col = \"black\", bg= \"black\")\n",
    "points(DML2.post_coef.est, 4, pch =23, col = \"black\", bg= \"black\")\n",
    "points(DML2.elnet_coef.est, 5, pch =23, col = \"black\", bg= \"black\")\n",
    "points(DML2.ridge_coef.est, 6, pch =23, col = \"black\", bg= \"black\")\n",
    "points(DML2.RF_coef.est, 7, pch =23, col = \"black\", bg= \"black\")\n",
    "points(DML2.best_coef.est, 8, pch =23, col = \"black\", bg= \"black\")\n"
   ]
  },
  {
   "cell_type": "markdown",
   "id": "9e3e3b7e",
   "metadata": {},
   "source": [
    "## CONCLUSIONS"
   ]
  },
  {
   "cell_type": "markdown",
   "id": "0875a57e",
   "metadata": {},
   "source": [
    "In conclusion, Cross - Validation Elnet is the best method in comparison with the other ones (OLS, OLS with countries characteristics, Lasso, Post-Lasso, CV Elnet & Random Forest), because it give us the lowest RMSE in Y and D matrix variables. According to CV Elnet, our coefficient is $ \\beta_1 = -0.038172960 $, which means that poor countries grow faster than rich countries."
   ]
  },
  {
   "cell_type": "code",
   "execution_count": null,
   "id": "c1886cce",
   "metadata": {},
   "outputs": [],
   "source": []
  }
 ],
 "metadata": {
  "kernelspec": {
   "display_name": "R",
   "language": "R",
   "name": "ir"
  },
  "language_info": {
   "codemirror_mode": "r",
   "file_extension": ".r",
   "mimetype": "text/x-r-source",
   "name": "R",
   "pygments_lexer": "r",
   "version": "3.6.1"
  }
 },
 "nbformat": 4,
 "nbformat_minor": 5
}
