{
 "cells": [
  {
   "cell_type": "markdown",
   "metadata": {
    "papermill": {
     "duration": 0.018414,
     "end_time": "2021-02-13T17:30:13.212232",
     "exception": false,
     "start_time": "2021-02-13T17:30:13.193818",
     "status": "completed"
    },
    "tags": []
   },
   "source": [
    "# Workgroup 7: Debiased Machine Learning\n",
    "\n",
    "## Group 2: Diego Alonso Gómez and Partner"
   ]
  },
  {
   "cell_type": "code",
   "execution_count": 12,
   "metadata": {},
   "outputs": [
    {
     "name": "stderr",
     "output_type": "stream",
     "text": [
      "The following objects are masked from growth (pos = 3):\n",
      "\n",
      "    bmp1l, ex1, fert1, fert65, freeop, freetar, gde1, gdpsh465,\n",
      "    geerec1, geetot1, govsh41, govwb1, gpop1, gvxdxe41, h65, hf65,\n",
      "    high65, highc65, highcf65, highcm65, highf65, highm65, hm65,\n",
      "    human65, humanf65, humanm65, hyr65, hyrf65, hyrm65, im1, intercept,\n",
      "    invsh41, lifee065, mort1, mort65, no65, nof65, nom65, Outcome, p65,\n",
      "    pf65, pinstab1, pm65, pop1565, pop65, pop6565, s65, sec65, secc65,\n",
      "    seccf65, seccm65, secf65, secm65, sf65, sm65, syr65, syrf65,\n",
      "    syrm65, teapri65, teasec65, tot1, worker65, xr65\n",
      "\n"
     ]
    },
    {
     "data": {
      "text/html": [
       "<ol class=list-inline>\n",
       "\t<li>'Outcome'</li>\n",
       "\t<li>'intercept'</li>\n",
       "\t<li>'gdpsh465'</li>\n",
       "\t<li>'bmp1l'</li>\n",
       "\t<li>'freeop'</li>\n",
       "\t<li>'freetar'</li>\n",
       "\t<li>'h65'</li>\n",
       "\t<li>'hm65'</li>\n",
       "\t<li>'hf65'</li>\n",
       "\t<li>'p65'</li>\n",
       "\t<li>'pm65'</li>\n",
       "\t<li>'pf65'</li>\n",
       "\t<li>'s65'</li>\n",
       "\t<li>'sm65'</li>\n",
       "\t<li>'sf65'</li>\n",
       "\t<li>'fert65'</li>\n",
       "\t<li>'mort65'</li>\n",
       "\t<li>'lifee065'</li>\n",
       "\t<li>'gpop1'</li>\n",
       "\t<li>'fert1'</li>\n",
       "\t<li>'mort1'</li>\n",
       "\t<li>'invsh41'</li>\n",
       "\t<li>'geetot1'</li>\n",
       "\t<li>'geerec1'</li>\n",
       "\t<li>'gde1'</li>\n",
       "\t<li>'govwb1'</li>\n",
       "\t<li>'govsh41'</li>\n",
       "\t<li>'gvxdxe41'</li>\n",
       "\t<li>'high65'</li>\n",
       "\t<li>'highm65'</li>\n",
       "\t<li>'highf65'</li>\n",
       "\t<li>'highc65'</li>\n",
       "\t<li>'highcm65'</li>\n",
       "\t<li>'highcf65'</li>\n",
       "\t<li>'human65'</li>\n",
       "\t<li>'humanm65'</li>\n",
       "\t<li>'humanf65'</li>\n",
       "\t<li>'hyr65'</li>\n",
       "\t<li>'hyrm65'</li>\n",
       "\t<li>'hyrf65'</li>\n",
       "\t<li>'no65'</li>\n",
       "\t<li>'nom65'</li>\n",
       "\t<li>'nof65'</li>\n",
       "\t<li>'pinstab1'</li>\n",
       "\t<li>'pop65'</li>\n",
       "\t<li>'worker65'</li>\n",
       "\t<li>'pop1565'</li>\n",
       "\t<li>'pop6565'</li>\n",
       "\t<li>'sec65'</li>\n",
       "\t<li>'secm65'</li>\n",
       "\t<li>'secf65'</li>\n",
       "\t<li>'secc65'</li>\n",
       "\t<li>'seccm65'</li>\n",
       "\t<li>'seccf65'</li>\n",
       "\t<li>'syr65'</li>\n",
       "\t<li>'syrm65'</li>\n",
       "\t<li>'syrf65'</li>\n",
       "\t<li>'teapri65'</li>\n",
       "\t<li>'teasec65'</li>\n",
       "\t<li>'ex1'</li>\n",
       "\t<li>'im1'</li>\n",
       "\t<li>'xr65'</li>\n",
       "\t<li>'tot1'</li>\n",
       "</ol>\n"
      ],
      "text/latex": [
       "\\begin{enumerate*}\n",
       "\\item 'Outcome'\n",
       "\\item 'intercept'\n",
       "\\item 'gdpsh465'\n",
       "\\item 'bmp1l'\n",
       "\\item 'freeop'\n",
       "\\item 'freetar'\n",
       "\\item 'h65'\n",
       "\\item 'hm65'\n",
       "\\item 'hf65'\n",
       "\\item 'p65'\n",
       "\\item 'pm65'\n",
       "\\item 'pf65'\n",
       "\\item 's65'\n",
       "\\item 'sm65'\n",
       "\\item 'sf65'\n",
       "\\item 'fert65'\n",
       "\\item 'mort65'\n",
       "\\item 'lifee065'\n",
       "\\item 'gpop1'\n",
       "\\item 'fert1'\n",
       "\\item 'mort1'\n",
       "\\item 'invsh41'\n",
       "\\item 'geetot1'\n",
       "\\item 'geerec1'\n",
       "\\item 'gde1'\n",
       "\\item 'govwb1'\n",
       "\\item 'govsh41'\n",
       "\\item 'gvxdxe41'\n",
       "\\item 'high65'\n",
       "\\item 'highm65'\n",
       "\\item 'highf65'\n",
       "\\item 'highc65'\n",
       "\\item 'highcm65'\n",
       "\\item 'highcf65'\n",
       "\\item 'human65'\n",
       "\\item 'humanm65'\n",
       "\\item 'humanf65'\n",
       "\\item 'hyr65'\n",
       "\\item 'hyrm65'\n",
       "\\item 'hyrf65'\n",
       "\\item 'no65'\n",
       "\\item 'nom65'\n",
       "\\item 'nof65'\n",
       "\\item 'pinstab1'\n",
       "\\item 'pop65'\n",
       "\\item 'worker65'\n",
       "\\item 'pop1565'\n",
       "\\item 'pop6565'\n",
       "\\item 'sec65'\n",
       "\\item 'secm65'\n",
       "\\item 'secf65'\n",
       "\\item 'secc65'\n",
       "\\item 'seccm65'\n",
       "\\item 'seccf65'\n",
       "\\item 'syr65'\n",
       "\\item 'syrm65'\n",
       "\\item 'syrf65'\n",
       "\\item 'teapri65'\n",
       "\\item 'teasec65'\n",
       "\\item 'ex1'\n",
       "\\item 'im1'\n",
       "\\item 'xr65'\n",
       "\\item 'tot1'\n",
       "\\end{enumerate*}\n"
      ],
      "text/markdown": [
       "1. 'Outcome'\n",
       "2. 'intercept'\n",
       "3. 'gdpsh465'\n",
       "4. 'bmp1l'\n",
       "5. 'freeop'\n",
       "6. 'freetar'\n",
       "7. 'h65'\n",
       "8. 'hm65'\n",
       "9. 'hf65'\n",
       "10. 'p65'\n",
       "11. 'pm65'\n",
       "12. 'pf65'\n",
       "13. 's65'\n",
       "14. 'sm65'\n",
       "15. 'sf65'\n",
       "16. 'fert65'\n",
       "17. 'mort65'\n",
       "18. 'lifee065'\n",
       "19. 'gpop1'\n",
       "20. 'fert1'\n",
       "21. 'mort1'\n",
       "22. 'invsh41'\n",
       "23. 'geetot1'\n",
       "24. 'geerec1'\n",
       "25. 'gde1'\n",
       "26. 'govwb1'\n",
       "27. 'govsh41'\n",
       "28. 'gvxdxe41'\n",
       "29. 'high65'\n",
       "30. 'highm65'\n",
       "31. 'highf65'\n",
       "32. 'highc65'\n",
       "33. 'highcm65'\n",
       "34. 'highcf65'\n",
       "35. 'human65'\n",
       "36. 'humanm65'\n",
       "37. 'humanf65'\n",
       "38. 'hyr65'\n",
       "39. 'hyrm65'\n",
       "40. 'hyrf65'\n",
       "41. 'no65'\n",
       "42. 'nom65'\n",
       "43. 'nof65'\n",
       "44. 'pinstab1'\n",
       "45. 'pop65'\n",
       "46. 'worker65'\n",
       "47. 'pop1565'\n",
       "48. 'pop6565'\n",
       "49. 'sec65'\n",
       "50. 'secm65'\n",
       "51. 'secf65'\n",
       "52. 'secc65'\n",
       "53. 'seccm65'\n",
       "54. 'seccf65'\n",
       "55. 'syr65'\n",
       "56. 'syrm65'\n",
       "57. 'syrf65'\n",
       "58. 'teapri65'\n",
       "59. 'teasec65'\n",
       "60. 'ex1'\n",
       "61. 'im1'\n",
       "62. 'xr65'\n",
       "63. 'tot1'\n",
       "\n",
       "\n"
      ],
      "text/plain": [
       " [1] \"Outcome\"   \"intercept\" \"gdpsh465\"  \"bmp1l\"     \"freeop\"    \"freetar\"  \n",
       " [7] \"h65\"       \"hm65\"      \"hf65\"      \"p65\"       \"pm65\"      \"pf65\"     \n",
       "[13] \"s65\"       \"sm65\"      \"sf65\"      \"fert65\"    \"mort65\"    \"lifee065\" \n",
       "[19] \"gpop1\"     \"fert1\"     \"mort1\"     \"invsh41\"   \"geetot1\"   \"geerec1\"  \n",
       "[25] \"gde1\"      \"govwb1\"    \"govsh41\"   \"gvxdxe41\"  \"high65\"    \"highm65\"  \n",
       "[31] \"highf65\"   \"highc65\"   \"highcm65\"  \"highcf65\"  \"human65\"   \"humanm65\" \n",
       "[37] \"humanf65\"  \"hyr65\"     \"hyrm65\"    \"hyrf65\"    \"no65\"      \"nom65\"    \n",
       "[43] \"nof65\"     \"pinstab1\"  \"pop65\"     \"worker65\"  \"pop1565\"   \"pop6565\"  \n",
       "[49] \"sec65\"     \"secm65\"    \"secf65\"    \"secc65\"    \"seccm65\"   \"seccf65\"  \n",
       "[55] \"syr65\"     \"syrm65\"    \"syrf65\"    \"teapri65\"  \"teasec65\"  \"ex1\"      \n",
       "[61] \"im1\"       \"xr65\"      \"tot1\"     "
      ]
     },
     "metadata": {},
     "output_type": "display_data"
    }
   ],
   "source": [
    "library(hdm)\n",
    "library(xtable)\n",
    "GrowthData <- GrowthData\n",
    "save(GrowthData, file = \"../data/GrowthData.RData\")\n",
    "growth <- GrowthData\n",
    "attach(growth)\n",
    "names(growth)"
   ]
  },
  {
   "cell_type": "code",
   "execution_count": 13,
   "metadata": {},
   "outputs": [
    {
     "data": {
      "text/html": [
       "<table>\n",
       "<thead><tr><th scope=col>Outcome</th><th scope=col>intercept</th><th scope=col>gdpsh465</th><th scope=col>bmp1l</th><th scope=col>freeop</th><th scope=col>freetar</th><th scope=col>h65</th><th scope=col>hm65</th><th scope=col>hf65</th><th scope=col>p65</th><th scope=col>...</th><th scope=col>seccf65</th><th scope=col>syr65</th><th scope=col>syrm65</th><th scope=col>syrf65</th><th scope=col>teapri65</th><th scope=col>teasec65</th><th scope=col>ex1</th><th scope=col>im1</th><th scope=col>xr65</th><th scope=col>tot1</th></tr></thead>\n",
       "<tbody>\n",
       "\t<tr><td>-0.02433575</td><td>1          </td><td>6.591674   </td><td>0.2837     </td><td>0.153491   </td><td>0.043888   </td><td>0.007      </td><td>0.013      </td><td>0.001      </td><td>0.29       </td><td>...        </td><td> 0.04      </td><td>0.033      </td><td>0.057      </td><td>0.010      </td><td>47.6       </td><td>17.3       </td><td>0.0729     </td><td>0.0667     </td><td>0.348      </td><td>-0.014727  </td></tr>\n",
       "\t<tr><td> 0.10047257</td><td>1          </td><td>6.829794   </td><td>0.6141     </td><td>0.313509   </td><td>0.061827   </td><td>0.019      </td><td>0.032      </td><td>0.007      </td><td>0.91       </td><td>...        </td><td> 0.64      </td><td>0.173      </td><td>0.274      </td><td>0.067      </td><td>57.1       </td><td>18.0       </td><td>0.0940     </td><td>0.1438     </td><td>0.525      </td><td> 0.005750  </td></tr>\n",
       "\t<tr><td> 0.06705148</td><td>1          </td><td>8.895082   </td><td>0.0000     </td><td>0.204244   </td><td>0.009186   </td><td>0.260      </td><td>0.325      </td><td>0.201      </td><td>1.00       </td><td>...        </td><td>18.14      </td><td>2.573      </td><td>2.478      </td><td>2.667      </td><td>26.5       </td><td>20.7       </td><td>0.1741     </td><td>0.1750     </td><td>1.082      </td><td>-0.010040  </td></tr>\n",
       "\t<tr><td> 0.06408917</td><td>1          </td><td>7.565275   </td><td>0.1997     </td><td>0.248714   </td><td>0.036270   </td><td>0.061      </td><td>0.070      </td><td>0.051      </td><td>1.00       </td><td>...        </td><td> 2.63      </td><td>0.438      </td><td>0.453      </td><td>0.424      </td><td>27.8       </td><td>22.7       </td><td>0.1265     </td><td>0.1496     </td><td>6.625      </td><td>-0.002195  </td></tr>\n",
       "\t<tr><td> 0.02792955</td><td>1          </td><td>7.162397   </td><td>0.1740     </td><td>0.299252   </td><td>0.037367   </td><td>0.017      </td><td>0.027      </td><td>0.007      </td><td>0.82       </td><td>...        </td><td> 2.11      </td><td>0.257      </td><td>0.287      </td><td>0.229      </td><td>34.5       </td><td>17.6       </td><td>0.1211     </td><td>0.1308     </td><td>2.500      </td><td> 0.003283  </td></tr>\n",
       "\t<tr><td> 0.04640744</td><td>1          </td><td>7.218910   </td><td>0.0000     </td><td>0.258865   </td><td>0.020880   </td><td>0.023      </td><td>0.038      </td><td>0.006      </td><td>0.50       </td><td>...        </td><td> 1.46      </td><td>0.160      </td><td>0.174      </td><td>0.146      </td><td>34.3       </td><td> 8.1       </td><td>0.0634     </td><td>0.0762     </td><td>1.000      </td><td>-0.001747  </td></tr>\n",
       "</tbody>\n",
       "</table>\n"
      ],
      "text/latex": [
       "\\begin{tabular}{r|lllllllllllllllllllllllllllllllllllllllllllllllllllllllllllllll}\n",
       " Outcome & intercept & gdpsh465 & bmp1l & freeop & freetar & h65 & hm65 & hf65 & p65 & ... & seccf65 & syr65 & syrm65 & syrf65 & teapri65 & teasec65 & ex1 & im1 & xr65 & tot1\\\\\n",
       "\\hline\n",
       "\t -0.02433575 & 1           & 6.591674    & 0.2837      & 0.153491    & 0.043888    & 0.007       & 0.013       & 0.001       & 0.29        & ...         &  0.04       & 0.033       & 0.057       & 0.010       & 47.6        & 17.3        & 0.0729      & 0.0667      & 0.348       & -0.014727  \\\\\n",
       "\t  0.10047257 & 1           & 6.829794    & 0.6141      & 0.313509    & 0.061827    & 0.019       & 0.032       & 0.007       & 0.91        & ...         &  0.64       & 0.173       & 0.274       & 0.067       & 57.1        & 18.0        & 0.0940      & 0.1438      & 0.525       &  0.005750  \\\\\n",
       "\t  0.06705148 & 1           & 8.895082    & 0.0000      & 0.204244    & 0.009186    & 0.260       & 0.325       & 0.201       & 1.00        & ...         & 18.14       & 2.573       & 2.478       & 2.667       & 26.5        & 20.7        & 0.1741      & 0.1750      & 1.082       & -0.010040  \\\\\n",
       "\t  0.06408917 & 1           & 7.565275    & 0.1997      & 0.248714    & 0.036270    & 0.061       & 0.070       & 0.051       & 1.00        & ...         &  2.63       & 0.438       & 0.453       & 0.424       & 27.8        & 22.7        & 0.1265      & 0.1496      & 6.625       & -0.002195  \\\\\n",
       "\t  0.02792955 & 1           & 7.162397    & 0.1740      & 0.299252    & 0.037367    & 0.017       & 0.027       & 0.007       & 0.82        & ...         &  2.11       & 0.257       & 0.287       & 0.229       & 34.5        & 17.6        & 0.1211      & 0.1308      & 2.500       &  0.003283  \\\\\n",
       "\t  0.04640744 & 1           & 7.218910    & 0.0000      & 0.258865    & 0.020880    & 0.023       & 0.038       & 0.006       & 0.50        & ...         &  1.46       & 0.160       & 0.174       & 0.146       & 34.3        &  8.1        & 0.0634      & 0.0762      & 1.000       & -0.001747  \\\\\n",
       "\\end{tabular}\n"
      ],
      "text/markdown": [
       "\n",
       "| Outcome | intercept | gdpsh465 | bmp1l | freeop | freetar | h65 | hm65 | hf65 | p65 | ... | seccf65 | syr65 | syrm65 | syrf65 | teapri65 | teasec65 | ex1 | im1 | xr65 | tot1 |\n",
       "|---|---|---|---|---|---|---|---|---|---|---|---|---|---|---|---|---|---|---|---|---|\n",
       "| -0.02433575 | 1           | 6.591674    | 0.2837      | 0.153491    | 0.043888    | 0.007       | 0.013       | 0.001       | 0.29        | ...         |  0.04       | 0.033       | 0.057       | 0.010       | 47.6        | 17.3        | 0.0729      | 0.0667      | 0.348       | -0.014727   |\n",
       "|  0.10047257 | 1           | 6.829794    | 0.6141      | 0.313509    | 0.061827    | 0.019       | 0.032       | 0.007       | 0.91        | ...         |  0.64       | 0.173       | 0.274       | 0.067       | 57.1        | 18.0        | 0.0940      | 0.1438      | 0.525       |  0.005750   |\n",
       "|  0.06705148 | 1           | 8.895082    | 0.0000      | 0.204244    | 0.009186    | 0.260       | 0.325       | 0.201       | 1.00        | ...         | 18.14       | 2.573       | 2.478       | 2.667       | 26.5        | 20.7        | 0.1741      | 0.1750      | 1.082       | -0.010040   |\n",
       "|  0.06408917 | 1           | 7.565275    | 0.1997      | 0.248714    | 0.036270    | 0.061       | 0.070       | 0.051       | 1.00        | ...         |  2.63       | 0.438       | 0.453       | 0.424       | 27.8        | 22.7        | 0.1265      | 0.1496      | 6.625       | -0.002195   |\n",
       "|  0.02792955 | 1           | 7.162397    | 0.1740      | 0.299252    | 0.037367    | 0.017       | 0.027       | 0.007       | 0.82        | ...         |  2.11       | 0.257       | 0.287       | 0.229       | 34.5        | 17.6        | 0.1211      | 0.1308      | 2.500       |  0.003283   |\n",
       "|  0.04640744 | 1           | 7.218910    | 0.0000      | 0.258865    | 0.020880    | 0.023       | 0.038       | 0.006       | 0.50        | ...         |  1.46       | 0.160       | 0.174       | 0.146       | 34.3        |  8.1        | 0.0634      | 0.0762      | 1.000       | -0.001747   |\n",
       "\n"
      ],
      "text/plain": [
       "  Outcome     intercept gdpsh465 bmp1l  freeop   freetar  h65   hm65  hf65 \n",
       "1 -0.02433575 1         6.591674 0.2837 0.153491 0.043888 0.007 0.013 0.001\n",
       "2  0.10047257 1         6.829794 0.6141 0.313509 0.061827 0.019 0.032 0.007\n",
       "3  0.06705148 1         8.895082 0.0000 0.204244 0.009186 0.260 0.325 0.201\n",
       "4  0.06408917 1         7.565275 0.1997 0.248714 0.036270 0.061 0.070 0.051\n",
       "5  0.02792955 1         7.162397 0.1740 0.299252 0.037367 0.017 0.027 0.007\n",
       "6  0.04640744 1         7.218910 0.0000 0.258865 0.020880 0.023 0.038 0.006\n",
       "  p65  ... seccf65 syr65 syrm65 syrf65 teapri65 teasec65 ex1    im1    xr65 \n",
       "1 0.29 ...  0.04   0.033 0.057  0.010  47.6     17.3     0.0729 0.0667 0.348\n",
       "2 0.91 ...  0.64   0.173 0.274  0.067  57.1     18.0     0.0940 0.1438 0.525\n",
       "3 1.00 ... 18.14   2.573 2.478  2.667  26.5     20.7     0.1741 0.1750 1.082\n",
       "4 1.00 ...  2.63   0.438 0.453  0.424  27.8     22.7     0.1265 0.1496 6.625\n",
       "5 0.82 ...  2.11   0.257 0.287  0.229  34.5     17.6     0.1211 0.1308 2.500\n",
       "6 0.50 ...  1.46   0.160 0.174  0.146  34.3      8.1     0.0634 0.0762 1.000\n",
       "  tot1     \n",
       "1 -0.014727\n",
       "2  0.005750\n",
       "3 -0.010040\n",
       "4 -0.002195\n",
       "5  0.003283\n",
       "6 -0.001747"
      ]
     },
     "metadata": {},
     "output_type": "display_data"
    }
   ],
   "source": [
    "head(growth)"
   ]
  },
  {
   "cell_type": "code",
   "execution_count": 24,
   "metadata": {},
   "outputs": [
    {
     "data": {
      "text/html": [
       "<ol class=list-inline>\n",
       "\t<li>90</li>\n",
       "\t<li>63</li>\n",
       "</ol>\n"
      ],
      "text/latex": [
       "\\begin{enumerate*}\n",
       "\\item 90\n",
       "\\item 63\n",
       "\\end{enumerate*}\n"
      ],
      "text/markdown": [
       "1. 90\n",
       "2. 63\n",
       "\n",
       "\n"
      ],
      "text/plain": [
       "[1] 90 63"
      ]
     },
     "metadata": {},
     "output_type": "display_data"
    }
   ],
   "source": [
    "dim(growth)"
   ]
  },
  {
   "cell_type": "code",
   "execution_count": 25,
   "metadata": {},
   "outputs": [
    {
     "data": {
      "text/html": [
       "<ol class=list-inline>\n",
       "\t<li>'gdpsh465'</li>\n",
       "\t<li>'bmp1l'</li>\n",
       "\t<li>'freeop'</li>\n",
       "\t<li>'freetar'</li>\n",
       "\t<li>'h65'</li>\n",
       "\t<li>'hm65'</li>\n",
       "\t<li>'hf65'</li>\n",
       "\t<li>'p65'</li>\n",
       "\t<li>'pm65'</li>\n",
       "\t<li>'pf65'</li>\n",
       "\t<li>'s65'</li>\n",
       "\t<li>'sm65'</li>\n",
       "\t<li>'sf65'</li>\n",
       "\t<li>'fert65'</li>\n",
       "\t<li>'mort65'</li>\n",
       "\t<li>'lifee065'</li>\n",
       "\t<li>'gpop1'</li>\n",
       "\t<li>'fert1'</li>\n",
       "\t<li>'mort1'</li>\n",
       "\t<li>'invsh41'</li>\n",
       "\t<li>'geetot1'</li>\n",
       "\t<li>'geerec1'</li>\n",
       "\t<li>'gde1'</li>\n",
       "\t<li>'govwb1'</li>\n",
       "\t<li>'govsh41'</li>\n",
       "\t<li>'gvxdxe41'</li>\n",
       "\t<li>'high65'</li>\n",
       "\t<li>'highm65'</li>\n",
       "\t<li>'highf65'</li>\n",
       "\t<li>'highc65'</li>\n",
       "\t<li>'highcm65'</li>\n",
       "\t<li>'highcf65'</li>\n",
       "\t<li>'human65'</li>\n",
       "\t<li>'humanm65'</li>\n",
       "\t<li>'humanf65'</li>\n",
       "\t<li>'hyr65'</li>\n",
       "\t<li>'hyrm65'</li>\n",
       "\t<li>'hyrf65'</li>\n",
       "\t<li>'no65'</li>\n",
       "\t<li>'nom65'</li>\n",
       "\t<li>'nof65'</li>\n",
       "\t<li>'pinstab1'</li>\n",
       "\t<li>'pop65'</li>\n",
       "\t<li>'worker65'</li>\n",
       "\t<li>'pop1565'</li>\n",
       "\t<li>'pop6565'</li>\n",
       "\t<li>'sec65'</li>\n",
       "\t<li>'secm65'</li>\n",
       "\t<li>'secf65'</li>\n",
       "\t<li>'secc65'</li>\n",
       "\t<li>'seccm65'</li>\n",
       "\t<li>'seccf65'</li>\n",
       "\t<li>'syr65'</li>\n",
       "\t<li>'syrm65'</li>\n",
       "\t<li>'syrf65'</li>\n",
       "\t<li>'teapri65'</li>\n",
       "\t<li>'teasec65'</li>\n",
       "\t<li>'ex1'</li>\n",
       "\t<li>'im1'</li>\n",
       "\t<li>'xr65'</li>\n",
       "\t<li>'tot1'</li>\n",
       "</ol>\n"
      ],
      "text/latex": [
       "\\begin{enumerate*}\n",
       "\\item 'gdpsh465'\n",
       "\\item 'bmp1l'\n",
       "\\item 'freeop'\n",
       "\\item 'freetar'\n",
       "\\item 'h65'\n",
       "\\item 'hm65'\n",
       "\\item 'hf65'\n",
       "\\item 'p65'\n",
       "\\item 'pm65'\n",
       "\\item 'pf65'\n",
       "\\item 's65'\n",
       "\\item 'sm65'\n",
       "\\item 'sf65'\n",
       "\\item 'fert65'\n",
       "\\item 'mort65'\n",
       "\\item 'lifee065'\n",
       "\\item 'gpop1'\n",
       "\\item 'fert1'\n",
       "\\item 'mort1'\n",
       "\\item 'invsh41'\n",
       "\\item 'geetot1'\n",
       "\\item 'geerec1'\n",
       "\\item 'gde1'\n",
       "\\item 'govwb1'\n",
       "\\item 'govsh41'\n",
       "\\item 'gvxdxe41'\n",
       "\\item 'high65'\n",
       "\\item 'highm65'\n",
       "\\item 'highf65'\n",
       "\\item 'highc65'\n",
       "\\item 'highcm65'\n",
       "\\item 'highcf65'\n",
       "\\item 'human65'\n",
       "\\item 'humanm65'\n",
       "\\item 'humanf65'\n",
       "\\item 'hyr65'\n",
       "\\item 'hyrm65'\n",
       "\\item 'hyrf65'\n",
       "\\item 'no65'\n",
       "\\item 'nom65'\n",
       "\\item 'nof65'\n",
       "\\item 'pinstab1'\n",
       "\\item 'pop65'\n",
       "\\item 'worker65'\n",
       "\\item 'pop1565'\n",
       "\\item 'pop6565'\n",
       "\\item 'sec65'\n",
       "\\item 'secm65'\n",
       "\\item 'secf65'\n",
       "\\item 'secc65'\n",
       "\\item 'seccm65'\n",
       "\\item 'seccf65'\n",
       "\\item 'syr65'\n",
       "\\item 'syrm65'\n",
       "\\item 'syrf65'\n",
       "\\item 'teapri65'\n",
       "\\item 'teasec65'\n",
       "\\item 'ex1'\n",
       "\\item 'im1'\n",
       "\\item 'xr65'\n",
       "\\item 'tot1'\n",
       "\\end{enumerate*}\n"
      ],
      "text/markdown": [
       "1. 'gdpsh465'\n",
       "2. 'bmp1l'\n",
       "3. 'freeop'\n",
       "4. 'freetar'\n",
       "5. 'h65'\n",
       "6. 'hm65'\n",
       "7. 'hf65'\n",
       "8. 'p65'\n",
       "9. 'pm65'\n",
       "10. 'pf65'\n",
       "11. 's65'\n",
       "12. 'sm65'\n",
       "13. 'sf65'\n",
       "14. 'fert65'\n",
       "15. 'mort65'\n",
       "16. 'lifee065'\n",
       "17. 'gpop1'\n",
       "18. 'fert1'\n",
       "19. 'mort1'\n",
       "20. 'invsh41'\n",
       "21. 'geetot1'\n",
       "22. 'geerec1'\n",
       "23. 'gde1'\n",
       "24. 'govwb1'\n",
       "25. 'govsh41'\n",
       "26. 'gvxdxe41'\n",
       "27. 'high65'\n",
       "28. 'highm65'\n",
       "29. 'highf65'\n",
       "30. 'highc65'\n",
       "31. 'highcm65'\n",
       "32. 'highcf65'\n",
       "33. 'human65'\n",
       "34. 'humanm65'\n",
       "35. 'humanf65'\n",
       "36. 'hyr65'\n",
       "37. 'hyrm65'\n",
       "38. 'hyrf65'\n",
       "39. 'no65'\n",
       "40. 'nom65'\n",
       "41. 'nof65'\n",
       "42. 'pinstab1'\n",
       "43. 'pop65'\n",
       "44. 'worker65'\n",
       "45. 'pop1565'\n",
       "46. 'pop6565'\n",
       "47. 'sec65'\n",
       "48. 'secm65'\n",
       "49. 'secf65'\n",
       "50. 'secc65'\n",
       "51. 'seccm65'\n",
       "52. 'seccf65'\n",
       "53. 'syr65'\n",
       "54. 'syrm65'\n",
       "55. 'syrf65'\n",
       "56. 'teapri65'\n",
       "57. 'teasec65'\n",
       "58. 'ex1'\n",
       "59. 'im1'\n",
       "60. 'xr65'\n",
       "61. 'tot1'\n",
       "\n",
       "\n"
      ],
      "text/plain": [
       " [1] \"gdpsh465\" \"bmp1l\"    \"freeop\"   \"freetar\"  \"h65\"      \"hm65\"    \n",
       " [7] \"hf65\"     \"p65\"      \"pm65\"     \"pf65\"     \"s65\"      \"sm65\"    \n",
       "[13] \"sf65\"     \"fert65\"   \"mort65\"   \"lifee065\" \"gpop1\"    \"fert1\"   \n",
       "[19] \"mort1\"    \"invsh41\"  \"geetot1\"  \"geerec1\"  \"gde1\"     \"govwb1\"  \n",
       "[25] \"govsh41\"  \"gvxdxe41\" \"high65\"   \"highm65\"  \"highf65\"  \"highc65\" \n",
       "[31] \"highcm65\" \"highcf65\" \"human65\"  \"humanm65\" \"humanf65\" \"hyr65\"   \n",
       "[37] \"hyrm65\"   \"hyrf65\"   \"no65\"     \"nom65\"    \"nof65\"    \"pinstab1\"\n",
       "[43] \"pop65\"    \"worker65\" \"pop1565\"  \"pop6565\"  \"sec65\"    \"secm65\"  \n",
       "[49] \"secf65\"   \"secc65\"   \"seccm65\"  \"seccf65\"  \"syr65\"    \"syrm65\"  \n",
       "[55] \"syrf65\"   \"teapri65\" \"teasec65\" \"ex1\"      \"im1\"      \"xr65\"    \n",
       "[61] \"tot1\"    "
      ]
     },
     "metadata": {},
     "output_type": "display_data"
    }
   ],
   "source": [
    "colnames(growth)[3:63]"
   ]
  },
  {
   "cell_type": "markdown",
   "metadata": {
    "papermill": {
     "duration": 0.017216,
     "end_time": "2021-02-13T17:30:14.432656",
     "exception": false,
     "start_time": "2021-02-13T17:30:14.415440",
     "status": "completed"
    },
    "tags": []
   },
   "source": [
    "### Preprocessing"
   ]
  },
  {
   "cell_type": "code",
   "execution_count": 35,
   "metadata": {
    "execution": {
     "iopub.execute_input": "2021-02-13T17:30:14.549368Z",
     "iopub.status.busy": "2021-02-13T17:30:14.504714Z",
     "iopub.status.idle": "2021-02-13T17:30:38.894116Z",
     "shell.execute_reply": "2021-02-13T17:30:38.893545Z"
    },
    "papermill": {
     "duration": 24.410531,
     "end_time": "2021-02-13T17:30:38.894264",
     "exception": false,
     "start_time": "2021-02-13T17:30:14.483733",
     "status": "completed"
    },
    "tags": []
   },
   "outputs": [],
   "source": [
    "#################################  Find Variable Names from Dataset ########################\n",
    "\n",
    "varlist <- function (df=NULL,type=c(\"numeric\",\"factor\",\"character\"), pattern=\"\", exclude=NULL) {\n",
    "  vars <- character(0)\n",
    "  if (any(type %in% \"numeric\")) {\n",
    "    vars <- c(vars,names(df)[sapply(df,is.numeric)])\n",
    "  }\n",
    "  if (any(type %in% \"factor\")) {\n",
    "    vars <- c(vars,names(df)[sapply(df,is.factor)])\n",
    "  }  \n",
    "  if (any(type %in% \"character\")) {\n",
    "    vars <- c(vars,names(df)[sapply(df,is.character)])\n",
    "  }  \n",
    "  vars[(!vars %in% exclude) & grepl(vars,pattern=pattern)]\n",
    "}\n",
    "\n",
    "################################# Create Variables ####################################################\n",
    "\n",
    "\n",
    "################################ Variables ##################################\n",
    "# Treatment Variable\n",
    "d     <- \"gdpsh465\"    # THE INICIAL WEALTH\n",
    "\n",
    "# Outcome Variable\n",
    "y     <- \"Outcome\"\n",
    "\n",
    "# Other Control Variables\n",
    "X1    <-   c(colnames(growth)[3:63])  \n",
    "\n",
    "#################################  Partial out Fixed Effects ########################\n",
    "\n",
    "\n",
    "# Variables to be Partialled-out\n",
    "varlist <- c(y, d,X1)\n"
   ]
  },
  {
   "cell_type": "markdown",
   "metadata": {
    "papermill": {
     "duration": 0.016789,
     "end_time": "2021-02-13T17:30:38.928857",
     "exception": false,
     "start_time": "2021-02-13T17:30:38.912068",
     "status": "completed"
    },
    "tags": []
   },
   "source": [
    "Now, we can construct the treatment variable, the outcome variable and the matrix $Z$ that includes the control variables."
   ]
  },
  {
   "cell_type": "code",
   "execution_count": 69,
   "metadata": {
    "execution": {
     "iopub.execute_input": "2021-02-13T17:30:38.968895Z",
     "iopub.status.busy": "2021-02-13T17:30:38.967511Z",
     "iopub.status.idle": "2021-02-13T17:30:38.988737Z",
     "shell.execute_reply": "2021-02-13T17:30:38.987198Z"
    },
    "papermill": {
     "duration": 0.042922,
     "end_time": "2021-02-13T17:30:38.988875",
     "exception": false,
     "start_time": "2021-02-13T17:30:38.945953",
     "status": "completed"
    },
    "tags": []
   },
   "outputs": [],
   "source": [
    "# Treatment Variable\n",
    "D     <- growth[\"gdpsh465\"]\n",
    "\n",
    "# Outcome Variable\n",
    "Y     <- growth[\"Outcome\"]\n",
    "\n",
    "# Construct matrix Z\n",
    "\n",
    "Z <- growth[c(colnames(growth)[3:63])]"
   ]
  },
  {
   "cell_type": "code",
   "execution_count": 72,
   "metadata": {},
   "outputs": [],
   "source": [
    "# To use in Python\n",
    "save(data, file = \"../data/growth_group2.RData\")"
   ]
  },
  {
   "cell_type": "code",
   "execution_count": 74,
   "metadata": {},
   "outputs": [],
   "source": [
    "# install.packages(\"lfe\")"
   ]
  },
  {
   "cell_type": "code",
   "execution_count": 46,
   "metadata": {},
   "outputs": [],
   "source": [
    "library(Matrix)"
   ]
  },
  {
   "cell_type": "code",
   "execution_count": 47,
   "metadata": {
    "execution": {
     "iopub.execute_input": "2021-02-13T17:30:39.119837Z",
     "iopub.status.busy": "2021-02-13T17:30:39.119341Z",
     "iopub.status.idle": "2021-02-13T17:30:40.222653Z",
     "shell.execute_reply": "2021-02-13T17:30:40.221044Z"
    },
    "papermill": {
     "duration": 1.126576,
     "end_time": "2021-02-13T17:30:40.222803",
     "exception": false,
     "start_time": "2021-02-13T17:30:39.096227",
     "status": "completed"
    },
    "scrolled": true,
    "tags": []
   },
   "outputs": [
    {
     "name": "stderr",
     "output_type": "stream",
     "text": [
      "Warning message:\n",
      "\"package 'lfe' was built under R version 3.6.3\""
     ]
    }
   ],
   "source": [
    "library(lfe)"
   ]
  },
  {
   "cell_type": "markdown",
   "metadata": {},
   "source": [
    "## y = outcome: growth rate  (Outcome)\n",
    "\n",
    "## d = treatment: initial wealth  (gdpsh465)\n",
    "\n",
    "## x = controls: country characteristics"
   ]
  },
  {
   "cell_type": "markdown",
   "metadata": {},
   "source": [
    "The target parameter $\\beta_1$ is the speed of convergence, which measures the speed at which poor countries catch up with rich countries. The relationship is captured by $\\beta_1$, the *speed of convergence/divergence*, which measures the speed at which poor countries catch up $(\\beta_1< 0)$ or fall behind $(\\beta_1> 0)$ rich countries, after controlling for $W$. Our inference question here is: do poor countries grow faster than rich countries, controlling for educational and other characteristics? In other words, is the speed of convergence negative: $ \\beta_1 <0?$ This is the Convergence Hypothesis predicted by the Solow Growth Model."
   ]
  },
  {
   "cell_type": "markdown",
   "metadata": {
    "papermill": {
     "duration": 0.018478,
     "end_time": "2021-02-13T17:30:40.297035",
     "exception": false,
     "start_time": "2021-02-13T17:30:40.278557",
     "status": "completed"
    },
    "tags": []
   },
   "source": [
    "## 1° OLS without including the country characteristics."
   ]
  },
  {
   "cell_type": "markdown",
   "metadata": {
    "papermill": {
     "duration": 0.018386,
     "end_time": "2021-02-13T17:30:40.333613",
     "exception": false,
     "start_time": "2021-02-13T17:30:40.315227",
     "status": "completed"
    },
    "tags": []
   },
   "source": [
    "After preprocessing the data, we first look at simple regression of $Y_{j,t}$ on $D_{j,t-1}$ without controls as a baseline model."
   ]
  },
  {
   "cell_type": "code",
   "execution_count": 57,
   "metadata": {
    "execution": {
     "iopub.execute_input": "2021-02-13T17:30:40.378059Z",
     "iopub.status.busy": "2021-02-13T17:30:40.375375Z",
     "iopub.status.idle": "2021-02-13T17:30:40.488189Z",
     "shell.execute_reply": "2021-02-13T17:30:40.485758Z"
    },
    "papermill": {
     "duration": 0.136101,
     "end_time": "2021-02-13T17:30:40.488367",
     "exception": false,
     "start_time": "2021-02-13T17:30:40.352266",
     "status": "completed"
    },
    "scrolled": true,
    "tags": []
   },
   "outputs": [
    {
     "data": {
      "text/html": [
       "<dl class=dl-horizontal>\n",
       "\t<dt>2.5 %</dt>\n",
       "\t\t<dd>-0.0108101278829859</dd>\n",
       "\t<dt>97.5 %</dt>\n",
       "\t\t<dd>0.013443553109878</dd>\n",
       "</dl>\n"
      ],
      "text/latex": [
       "\\begin{description*}\n",
       "\\item[2.5 \\textbackslash{}\\%] -0.0108101278829859\n",
       "\\item[97.5 \\textbackslash{}\\%] 0.013443553109878\n",
       "\\end{description*}\n"
      ],
      "text/markdown": [
       "2.5 %\n",
       ":   -0.010810127882985997.5 %\n",
       ":   0.013443553109878\n",
       "\n"
      ],
      "text/plain": [
       "      2.5 %      97.5 % \n",
       "-0.01081013  0.01344355 "
      ]
     },
     "metadata": {},
     "output_type": "display_data"
    },
    {
     "data": {
      "text/html": [
       "<dl class=dl-horizontal>\n",
       "\t<dt>Estimate</dt>\n",
       "\t\t<dd>0.00131671261344604</dd>\n",
       "\t<dt>Std. Error</dt>\n",
       "\t\t<dd>0.00610220014253542</dd>\n",
       "\t<dt>t value</dt>\n",
       "\t\t<dd>0.215776700647343</dd>\n",
       "\t<dt>Pr(&gt;|t|)</dt>\n",
       "\t\t<dd>0.829661164776393</dd>\n",
       "</dl>\n"
      ],
      "text/latex": [
       "\\begin{description*}\n",
       "\\item[Estimate] 0.00131671261344604\n",
       "\\item[Std. Error] 0.00610220014253542\n",
       "\\item[t value] 0.215776700647343\n",
       "\\item[Pr(>\\textbackslash{}textbar\\{\\}t\\textbackslash{}textbar\\{\\})] 0.829661164776393\n",
       "\\end{description*}\n"
      ],
      "text/markdown": [
       "Estimate\n",
       ":   0.00131671261344604Std. Error\n",
       ":   0.00610220014253542t value\n",
       ":   0.215776700647343Pr(&amp;gt;|t|)\n",
       ":   0.829661164776393\n",
       "\n"
      ],
      "text/plain": [
       "   Estimate  Std. Error     t value    Pr(>|t|) \n",
       "0.001316713 0.006102200 0.215776701 0.829661165 "
      ]
     },
     "metadata": {},
     "output_type": "display_data"
    }
   ],
   "source": [
    "#baseline_formula <- as.formula(paste(y, \"~\", d ))\n",
    "#baseline.ols <- lm(baseline_formula,data=rdata)\n",
    "\n",
    "baseline.ols <- felm(Outcome ~ gdpsh465,data=growth)\n",
    "est_baseline <- summary(baseline.ols)$coef[2,]\n",
    "confint(baseline.ols)[2,]\n",
    "est_baseline"
   ]
  },
  {
   "cell_type": "code",
   "execution_count": 64,
   "metadata": {},
   "outputs": [
    {
     "data": {
      "text/html": [
       "<table>\n",
       "<thead><tr><th></th><th scope=col>Estimate</th><th scope=col>Std. Error</th><th scope=col>t value</th><th scope=col>Pr(&gt;|t|)</th></tr></thead>\n",
       "<tbody>\n",
       "\t<tr><th scope=row>(Intercept)</th><td>0.035206978</td><td>0.04731822 </td><td>0.7440470  </td><td>0.4588302  </td></tr>\n",
       "\t<tr><th scope=row>gdpsh465</th><td>0.001316713</td><td>0.00610220 </td><td>0.2157767  </td><td>0.8296612  </td></tr>\n",
       "</tbody>\n",
       "</table>\n"
      ],
      "text/latex": [
       "\\begin{tabular}{r|llll}\n",
       "  & Estimate & Std. Error & t value & Pr(>\\textbar{}t\\textbar{})\\\\\n",
       "\\hline\n",
       "\t(Intercept) & 0.035206978 & 0.04731822  & 0.7440470   & 0.4588302  \\\\\n",
       "\tgdpsh465 & 0.001316713 & 0.00610220  & 0.2157767   & 0.8296612  \\\\\n",
       "\\end{tabular}\n"
      ],
      "text/markdown": [
       "\n",
       "| <!--/--> | Estimate | Std. Error | t value | Pr(>|t|) |\n",
       "|---|---|---|---|---|\n",
       "| (Intercept) | 0.035206978 | 0.04731822  | 0.7440470   | 0.4588302   |\n",
       "| gdpsh465 | 0.001316713 | 0.00610220  | 0.2157767   | 0.8296612   |\n",
       "\n"
      ],
      "text/plain": [
       "            Estimate    Std. Error t value   Pr(>|t|) \n",
       "(Intercept) 0.035206978 0.04731822 0.7440470 0.4588302\n",
       "gdpsh465    0.001316713 0.00610220 0.2157767 0.8296612"
      ]
     },
     "metadata": {},
     "output_type": "display_data"
    }
   ],
   "source": [
    "summary(baseline.ols)$coef"
   ]
  },
  {
   "cell_type": "code",
   "execution_count": 60,
   "metadata": {},
   "outputs": [
    {
     "data": {
      "text/html": [
       "<dl class=dl-horizontal>\n",
       "\t<dt>2.5 %</dt>\n",
       "\t\t<dd>-0.0108101278829859</dd>\n",
       "\t<dt>97.5 %</dt>\n",
       "\t\t<dd>0.013443553109878</dd>\n",
       "</dl>\n"
      ],
      "text/latex": [
       "\\begin{description*}\n",
       "\\item[2.5 \\textbackslash{}\\%] -0.0108101278829859\n",
       "\\item[97.5 \\textbackslash{}\\%] 0.013443553109878\n",
       "\\end{description*}\n"
      ],
      "text/markdown": [
       "2.5 %\n",
       ":   -0.010810127882985997.5 %\n",
       ":   0.013443553109878\n",
       "\n"
      ],
      "text/plain": [
       "      2.5 %      97.5 % \n",
       "-0.01081013  0.01344355 "
      ]
     },
     "metadata": {},
     "output_type": "display_data"
    }
   ],
   "source": [
    "confint(baseline.ols)[2,]"
   ]
  },
  {
   "cell_type": "markdown",
   "metadata": {
    "papermill": {
     "duration": 0.019514,
     "end_time": "2021-02-13T17:30:40.528479",
     "exception": false,
     "start_time": "2021-02-13T17:30:40.508965",
     "status": "completed"
    },
    "tags": []
   },
   "source": [
    "The point estimate is $0.001316713$ with the confidence interval ranging from $-0.0108101278829859$ to $0.013443553109878$. This suggests that poor countries fall behind rich countries, so the convergence hypothesis predicted by the Solow Growth Model would not apply here. However, this first estimation provides us with a non-significant estimation, that due , and does not allow us to answer the question\n",
    "about the convergence hypothesis since the confidence interval crosses 0 on the right side of the interval."
   ]
  },
  {
   "cell_type": "markdown",
   "metadata": {},
   "source": [
    "## 2° OLS including the country characteristics. (OLS with controls)"
   ]
  },
  {
   "cell_type": "code",
   "execution_count": 63,
   "metadata": {
    "scrolled": true
   },
   "outputs": [
    {
     "data": {
      "text/html": [
       "<table>\n",
       "<thead><tr><th></th><th scope=col>Estimate</th><th scope=col>Std. Error</th><th scope=col>t value</th><th scope=col>Pr(&gt;|t|)</th></tr></thead>\n",
       "<tbody>\n",
       "\t<tr><th scope=row>intercept</th><td> 0.247160893</td><td>0.78450163  </td><td> 0.31505466 </td><td>0.755056170 </td></tr>\n",
       "\t<tr><th scope=row>gdpsh465</th><td>-0.009377989</td><td>0.02988773  </td><td>-0.31377391 </td><td>0.756018518 </td></tr>\n",
       "\t<tr><th scope=row>bmp1l</th><td>-0.068862679</td><td>0.03253065  </td><td>-2.11685513 </td><td>0.043289718 </td></tr>\n",
       "\t<tr><th scope=row>freeop</th><td> 0.080068974</td><td>0.20786400  </td><td> 0.38519885 </td><td>0.703000838 </td></tr>\n",
       "\t<tr><th scope=row>freetar</th><td>-0.488962605</td><td>0.41816285  </td><td>-1.16931143 </td><td>0.252136477 </td></tr>\n",
       "\t<tr><th scope=row>h65</th><td>-2.362098638</td><td>0.85729167  </td><td>-2.75530338 </td><td>0.010192435 </td></tr>\n",
       "\t<tr><th scope=row>hm65</th><td> 0.707143400</td><td>0.52314511  </td><td> 1.35171560 </td><td>0.187285919 </td></tr>\n",
       "\t<tr><th scope=row>hf65</th><td> 1.693448425</td><td>0.50318881  </td><td> 3.36543337 </td><td>0.002232683 </td></tr>\n",
       "\t<tr><th scope=row>p65</th><td> 0.265526695</td><td>0.16429407  </td><td> 1.61616729 </td><td>0.117271229 </td></tr>\n",
       "\t<tr><th scope=row>pm65</th><td> 0.136952626</td><td>0.15121749  </td><td> 0.90566657 </td><td>0.372840111 </td></tr>\n",
       "\t<tr><th scope=row>pf65</th><td>-0.331266948</td><td>0.16512299  </td><td>-2.00618303 </td><td>0.054583866 </td></tr>\n",
       "\t<tr><th scope=row>s65</th><td> 0.039079306</td><td>0.18552248  </td><td> 0.21064459 </td><td>0.834690082 </td></tr>\n",
       "\t<tr><th scope=row>sm65</th><td>-0.030668507</td><td>0.11679396  </td><td>-0.26258642 </td><td>0.794791807 </td></tr>\n",
       "\t<tr><th scope=row>sf65</th><td>-0.179917280</td><td>0.11809892  </td><td>-1.52344556 </td><td>0.138863011 </td></tr>\n",
       "\t<tr><th scope=row>fert65</th><td> 0.006880834</td><td>0.02705142  </td><td> 0.25436128 </td><td>0.801075252 </td></tr>\n",
       "\t<tr><th scope=row>mort65</th><td>-0.233454503</td><td>0.81742198  </td><td>-0.28559852 </td><td>0.777287824 </td></tr>\n",
       "\t<tr><th scope=row>lifee065</th><td>-0.014914473</td><td>0.19333559  </td><td>-0.07714292 </td><td>0.939058459 </td></tr>\n",
       "\t<tr><th scope=row>gpop1</th><td> 0.970184579</td><td>1.81220835  </td><td> 0.53536039 </td><td>0.596627593 </td></tr>\n",
       "\t<tr><th scope=row>fert1</th><td> 0.008838189</td><td>0.03504148  </td><td> 0.25222077 </td><td>0.802712696 </td></tr>\n",
       "\t<tr><th scope=row>mort1</th><td> 0.066562928</td><td>0.68481002  </td><td> 0.09719911 </td><td>0.923260701 </td></tr>\n",
       "\t<tr><th scope=row>invsh41</th><td> 0.074461126</td><td>0.10844692  </td><td> 0.68661354 </td><td>0.497973611 </td></tr>\n",
       "\t<tr><th scope=row>geetot1</th><td>-0.715104906</td><td>1.68013567  </td><td>-0.42562331 </td><td>0.673636102 </td></tr>\n",
       "\t<tr><th scope=row>geerec1</th><td> 0.630004630</td><td>2.44737848  </td><td> 0.25742019 </td><td>0.798736842 </td></tr>\n",
       "\t<tr><th scope=row>gde1</th><td>-0.443575219</td><td>1.67120674  </td><td>-0.26542211 </td><td>0.792628757 </td></tr>\n",
       "\t<tr><th scope=row>govwb1</th><td> 0.337452364</td><td>0.43798695  </td><td> 0.77046214 </td><td>0.447478336 </td></tr>\n",
       "\t<tr><th scope=row>govsh41</th><td> 0.463174632</td><td>1.92543733  </td><td> 0.24055555 </td><td>0.811652246 </td></tr>\n",
       "\t<tr><th scope=row>gvxdxe41</th><td>-0.793381582</td><td>2.05939737  </td><td>-0.38524939 </td><td>0.702963815 </td></tr>\n",
       "\t<tr><th scope=row>high65</th><td>-0.752483828</td><td>0.90572159  </td><td>-0.83081141 </td><td>0.413108816 </td></tr>\n",
       "\t<tr><th scope=row>highm65</th><td>-0.390261804</td><td>0.68124930  </td><td>-0.57286195 </td><td>0.571310302 </td></tr>\n",
       "\t<tr><th scope=row>highf65</th><td>-0.417748705</td><td>0.56149048  </td><td>-0.74399963 </td><td>0.463075062 </td></tr>\n",
       "\t<tr><th scope=row>...</th><td>...</td><td>...</td><td>...</td><td>...</td></tr>\n",
       "\t<tr><th scope=row>highcf65</th><td> 3.920771e-01</td><td>7.660246e-01 </td><td> 0.51183360  </td><td>0.61278088   </td></tr>\n",
       "\t<tr><th scope=row>human65</th><td> 2.337269e+00</td><td>3.307269e+00 </td><td> 0.70670678  </td><td>0.48558873   </td></tr>\n",
       "\t<tr><th scope=row>humanm65</th><td>-1.209249e+00</td><td>1.618516e+00 </td><td>-0.74713475  </td><td>0.46121072   </td></tr>\n",
       "\t<tr><th scope=row>humanf65</th><td>-1.103947e+00</td><td>1.684693e+00 </td><td>-0.65528075  </td><td>0.51763499   </td></tr>\n",
       "\t<tr><th scope=row>hyr65</th><td> 5.491388e+01</td><td>2.388729e+01 </td><td> 2.29887430  </td><td>0.02918450   </td></tr>\n",
       "\t<tr><th scope=row>hyrm65</th><td> 1.293505e+01</td><td>2.317142e+01 </td><td> 0.55823278  </td><td>0.58112223   </td></tr>\n",
       "\t<tr><th scope=row>hyrf65</th><td> 9.092580e+00</td><td>1.766958e+01 </td><td> 0.51458948  </td><td>0.61087820   </td></tr>\n",
       "\t<tr><th scope=row>no65</th><td> 3.720986e-02</td><td>1.319733e-01 </td><td> 0.28194994  </td><td>0.78005541   </td></tr>\n",
       "\t<tr><th scope=row>nom65</th><td>-2.119769e-02</td><td>6.495975e-02 </td><td>-0.32632032  </td><td>0.74660861   </td></tr>\n",
       "\t<tr><th scope=row>nof65</th><td>-1.685782e-02</td><td>6.700258e-02 </td><td>-0.25159954  </td><td>0.80318810   </td></tr>\n",
       "\t<tr><th scope=row>pinstab1</th><td>-4.997113e-02</td><td>3.092081e-02 </td><td>-1.61610019  </td><td>0.11728579   </td></tr>\n",
       "\t<tr><th scope=row>pop65</th><td> 1.031796e-07</td><td>1.317950e-07 </td><td> 0.78287929  </td><td>0.44026959   </td></tr>\n",
       "\t<tr><th scope=row>worker65</th><td> 3.407897e-02</td><td>1.561909e-01 </td><td> 0.21818786  </td><td>0.82886516   </td></tr>\n",
       "\t<tr><th scope=row>pop1565</th><td>-4.655346e-01</td><td>4.713340e-01 </td><td>-0.98769582  </td><td>0.33176044   </td></tr>\n",
       "\t<tr><th scope=row>pop6565</th><td>-1.357450e+00</td><td>6.349424e-01 </td><td>-2.13791049  </td><td>0.04139326   </td></tr>\n",
       "\t<tr><th scope=row>sec65</th><td>-1.089278e-02</td><td>3.076618e-01 </td><td>-0.03540506  </td><td>0.97200796   </td></tr>\n",
       "\t<tr><th scope=row>secm65</th><td> 3.343664e-03</td><td>1.511923e-01 </td><td> 0.02211530  </td><td>0.98251284   </td></tr>\n",
       "\t<tr><th scope=row>secf65</th><td>-2.304329e-03</td><td>1.579715e-01 </td><td>-0.01458699  </td><td>0.98846512   </td></tr>\n",
       "\t<tr><th scope=row>secc65</th><td>-4.915284e-01</td><td>7.290408e-01 </td><td>-0.67421246  </td><td>0.50570489   </td></tr>\n",
       "\t<tr><th scope=row>seccm65</th><td> 2.596016e-01</td><td>3.556533e-01 </td><td> 0.72992873  </td><td>0.47149686   </td></tr>\n",
       "\t<tr><th scope=row>seccf65</th><td> 2.206524e-01</td><td>3.733333e-01 </td><td> 0.59103325  </td><td>0.55923950   </td></tr>\n",
       "\t<tr><th scope=row>syr65</th><td>-7.555807e-01</td><td>7.976763e+00 </td><td>-0.09472273  </td><td>0.92520970   </td></tr>\n",
       "\t<tr><th scope=row>syrm65</th><td> 3.109007e-01</td><td>3.896731e+00 </td><td> 0.07978502  </td><td>0.93697576   </td></tr>\n",
       "\t<tr><th scope=row>syrf65</th><td> 7.592811e-01</td><td>4.110634e+00 </td><td> 0.18471143  </td><td>0.85478676   </td></tr>\n",
       "\t<tr><th scope=row>teapri65</th><td> 3.954523e-05</td><td>7.700406e-04 </td><td> 0.05135474  </td><td>0.95940747   </td></tr>\n",
       "\t<tr><th scope=row>teasec65</th><td> 2.496674e-04</td><td>1.171230e-03 </td><td> 0.21316678  </td><td>0.83274136   </td></tr>\n",
       "\t<tr><th scope=row>ex1</th><td>-5.804081e-01</td><td>2.418472e-01 </td><td>-2.39989593  </td><td>0.02329485   </td></tr>\n",
       "\t<tr><th scope=row>im1</th><td> 5.914450e-01</td><td>2.502978e-01 </td><td> 2.36296558  </td><td>0.02530892   </td></tr>\n",
       "\t<tr><th scope=row>xr65</th><td>-1.037768e-04</td><td>5.416760e-05 </td><td>-1.91584652  </td><td>0.06564690   </td></tr>\n",
       "\t<tr><th scope=row>tot1</th><td>-1.279011e-01</td><td>1.125951e-01 </td><td>-1.13593842  </td><td>0.26561200   </td></tr>\n",
       "</tbody>\n",
       "</table>\n"
      ],
      "text/latex": [
       "\\begin{tabular}{r|llll}\n",
       "  & Estimate & Std. Error & t value & Pr(>\\textbar{}t\\textbar{})\\\\\n",
       "\\hline\n",
       "\tintercept &  0.247160893 & 0.78450163   &  0.31505466  & 0.755056170 \\\\\n",
       "\tgdpsh465 & -0.009377989 & 0.02988773   & -0.31377391  & 0.756018518 \\\\\n",
       "\tbmp1l & -0.068862679 & 0.03253065   & -2.11685513  & 0.043289718 \\\\\n",
       "\tfreeop &  0.080068974 & 0.20786400   &  0.38519885  & 0.703000838 \\\\\n",
       "\tfreetar & -0.488962605 & 0.41816285   & -1.16931143  & 0.252136477 \\\\\n",
       "\th65 & -2.362098638 & 0.85729167   & -2.75530338  & 0.010192435 \\\\\n",
       "\thm65 &  0.707143400 & 0.52314511   &  1.35171560  & 0.187285919 \\\\\n",
       "\thf65 &  1.693448425 & 0.50318881   &  3.36543337  & 0.002232683 \\\\\n",
       "\tp65 &  0.265526695 & 0.16429407   &  1.61616729  & 0.117271229 \\\\\n",
       "\tpm65 &  0.136952626 & 0.15121749   &  0.90566657  & 0.372840111 \\\\\n",
       "\tpf65 & -0.331266948 & 0.16512299   & -2.00618303  & 0.054583866 \\\\\n",
       "\ts65 &  0.039079306 & 0.18552248   &  0.21064459  & 0.834690082 \\\\\n",
       "\tsm65 & -0.030668507 & 0.11679396   & -0.26258642  & 0.794791807 \\\\\n",
       "\tsf65 & -0.179917280 & 0.11809892   & -1.52344556  & 0.138863011 \\\\\n",
       "\tfert65 &  0.006880834 & 0.02705142   &  0.25436128  & 0.801075252 \\\\\n",
       "\tmort65 & -0.233454503 & 0.81742198   & -0.28559852  & 0.777287824 \\\\\n",
       "\tlifee065 & -0.014914473 & 0.19333559   & -0.07714292  & 0.939058459 \\\\\n",
       "\tgpop1 &  0.970184579 & 1.81220835   &  0.53536039  & 0.596627593 \\\\\n",
       "\tfert1 &  0.008838189 & 0.03504148   &  0.25222077  & 0.802712696 \\\\\n",
       "\tmort1 &  0.066562928 & 0.68481002   &  0.09719911  & 0.923260701 \\\\\n",
       "\tinvsh41 &  0.074461126 & 0.10844692   &  0.68661354  & 0.497973611 \\\\\n",
       "\tgeetot1 & -0.715104906 & 1.68013567   & -0.42562331  & 0.673636102 \\\\\n",
       "\tgeerec1 &  0.630004630 & 2.44737848   &  0.25742019  & 0.798736842 \\\\\n",
       "\tgde1 & -0.443575219 & 1.67120674   & -0.26542211  & 0.792628757 \\\\\n",
       "\tgovwb1 &  0.337452364 & 0.43798695   &  0.77046214  & 0.447478336 \\\\\n",
       "\tgovsh41 &  0.463174632 & 1.92543733   &  0.24055555  & 0.811652246 \\\\\n",
       "\tgvxdxe41 & -0.793381582 & 2.05939737   & -0.38524939  & 0.702963815 \\\\\n",
       "\thigh65 & -0.752483828 & 0.90572159   & -0.83081141  & 0.413108816 \\\\\n",
       "\thighm65 & -0.390261804 & 0.68124930   & -0.57286195  & 0.571310302 \\\\\n",
       "\thighf65 & -0.417748705 & 0.56149048   & -0.74399963  & 0.463075062 \\\\\n",
       "\t... & ... & ... & ... & ...\\\\\n",
       "\thighcf65 &  3.920771e-01 & 7.660246e-01  &  0.51183360   & 0.61278088   \\\\\n",
       "\thuman65 &  2.337269e+00 & 3.307269e+00  &  0.70670678   & 0.48558873   \\\\\n",
       "\thumanm65 & -1.209249e+00 & 1.618516e+00  & -0.74713475   & 0.46121072   \\\\\n",
       "\thumanf65 & -1.103947e+00 & 1.684693e+00  & -0.65528075   & 0.51763499   \\\\\n",
       "\thyr65 &  5.491388e+01 & 2.388729e+01  &  2.29887430   & 0.02918450   \\\\\n",
       "\thyrm65 &  1.293505e+01 & 2.317142e+01  &  0.55823278   & 0.58112223   \\\\\n",
       "\thyrf65 &  9.092580e+00 & 1.766958e+01  &  0.51458948   & 0.61087820   \\\\\n",
       "\tno65 &  3.720986e-02 & 1.319733e-01  &  0.28194994   & 0.78005541   \\\\\n",
       "\tnom65 & -2.119769e-02 & 6.495975e-02  & -0.32632032   & 0.74660861   \\\\\n",
       "\tnof65 & -1.685782e-02 & 6.700258e-02  & -0.25159954   & 0.80318810   \\\\\n",
       "\tpinstab1 & -4.997113e-02 & 3.092081e-02  & -1.61610019   & 0.11728579   \\\\\n",
       "\tpop65 &  1.031796e-07 & 1.317950e-07  &  0.78287929   & 0.44026959   \\\\\n",
       "\tworker65 &  3.407897e-02 & 1.561909e-01  &  0.21818786   & 0.82886516   \\\\\n",
       "\tpop1565 & -4.655346e-01 & 4.713340e-01  & -0.98769582   & 0.33176044   \\\\\n",
       "\tpop6565 & -1.357450e+00 & 6.349424e-01  & -2.13791049   & 0.04139326   \\\\\n",
       "\tsec65 & -1.089278e-02 & 3.076618e-01  & -0.03540506   & 0.97200796   \\\\\n",
       "\tsecm65 &  3.343664e-03 & 1.511923e-01  &  0.02211530   & 0.98251284   \\\\\n",
       "\tsecf65 & -2.304329e-03 & 1.579715e-01  & -0.01458699   & 0.98846512   \\\\\n",
       "\tsecc65 & -4.915284e-01 & 7.290408e-01  & -0.67421246   & 0.50570489   \\\\\n",
       "\tseccm65 &  2.596016e-01 & 3.556533e-01  &  0.72992873   & 0.47149686   \\\\\n",
       "\tseccf65 &  2.206524e-01 & 3.733333e-01  &  0.59103325   & 0.55923950   \\\\\n",
       "\tsyr65 & -7.555807e-01 & 7.976763e+00  & -0.09472273   & 0.92520970   \\\\\n",
       "\tsyrm65 &  3.109007e-01 & 3.896731e+00  &  0.07978502   & 0.93697576   \\\\\n",
       "\tsyrf65 &  7.592811e-01 & 4.110634e+00  &  0.18471143   & 0.85478676   \\\\\n",
       "\tteapri65 &  3.954523e-05 & 7.700406e-04  &  0.05135474   & 0.95940747   \\\\\n",
       "\tteasec65 &  2.496674e-04 & 1.171230e-03  &  0.21316678   & 0.83274136   \\\\\n",
       "\tex1 & -5.804081e-01 & 2.418472e-01  & -2.39989593   & 0.02329485   \\\\\n",
       "\tim1 &  5.914450e-01 & 2.502978e-01  &  2.36296558   & 0.02530892   \\\\\n",
       "\txr65 & -1.037768e-04 & 5.416760e-05  & -1.91584652   & 0.06564690   \\\\\n",
       "\ttot1 & -1.279011e-01 & 1.125951e-01  & -1.13593842   & 0.26561200   \\\\\n",
       "\\end{tabular}\n"
      ],
      "text/markdown": [
       "\n",
       "| <!--/--> | Estimate | Std. Error | t value | Pr(>|t|) |\n",
       "|---|---|---|---|---|\n",
       "| intercept |  0.247160893 | 0.78450163   |  0.31505466  | 0.755056170  |\n",
       "| gdpsh465 | -0.009377989 | 0.02988773   | -0.31377391  | 0.756018518  |\n",
       "| bmp1l | -0.068862679 | 0.03253065   | -2.11685513  | 0.043289718  |\n",
       "| freeop |  0.080068974 | 0.20786400   |  0.38519885  | 0.703000838  |\n",
       "| freetar | -0.488962605 | 0.41816285   | -1.16931143  | 0.252136477  |\n",
       "| h65 | -2.362098638 | 0.85729167   | -2.75530338  | 0.010192435  |\n",
       "| hm65 |  0.707143400 | 0.52314511   |  1.35171560  | 0.187285919  |\n",
       "| hf65 |  1.693448425 | 0.50318881   |  3.36543337  | 0.002232683  |\n",
       "| p65 |  0.265526695 | 0.16429407   |  1.61616729  | 0.117271229  |\n",
       "| pm65 |  0.136952626 | 0.15121749   |  0.90566657  | 0.372840111  |\n",
       "| pf65 | -0.331266948 | 0.16512299   | -2.00618303  | 0.054583866  |\n",
       "| s65 |  0.039079306 | 0.18552248   |  0.21064459  | 0.834690082  |\n",
       "| sm65 | -0.030668507 | 0.11679396   | -0.26258642  | 0.794791807  |\n",
       "| sf65 | -0.179917280 | 0.11809892   | -1.52344556  | 0.138863011  |\n",
       "| fert65 |  0.006880834 | 0.02705142   |  0.25436128  | 0.801075252  |\n",
       "| mort65 | -0.233454503 | 0.81742198   | -0.28559852  | 0.777287824  |\n",
       "| lifee065 | -0.014914473 | 0.19333559   | -0.07714292  | 0.939058459  |\n",
       "| gpop1 |  0.970184579 | 1.81220835   |  0.53536039  | 0.596627593  |\n",
       "| fert1 |  0.008838189 | 0.03504148   |  0.25222077  | 0.802712696  |\n",
       "| mort1 |  0.066562928 | 0.68481002   |  0.09719911  | 0.923260701  |\n",
       "| invsh41 |  0.074461126 | 0.10844692   |  0.68661354  | 0.497973611  |\n",
       "| geetot1 | -0.715104906 | 1.68013567   | -0.42562331  | 0.673636102  |\n",
       "| geerec1 |  0.630004630 | 2.44737848   |  0.25742019  | 0.798736842  |\n",
       "| gde1 | -0.443575219 | 1.67120674   | -0.26542211  | 0.792628757  |\n",
       "| govwb1 |  0.337452364 | 0.43798695   |  0.77046214  | 0.447478336  |\n",
       "| govsh41 |  0.463174632 | 1.92543733   |  0.24055555  | 0.811652246  |\n",
       "| gvxdxe41 | -0.793381582 | 2.05939737   | -0.38524939  | 0.702963815  |\n",
       "| high65 | -0.752483828 | 0.90572159   | -0.83081141  | 0.413108816  |\n",
       "| highm65 | -0.390261804 | 0.68124930   | -0.57286195  | 0.571310302  |\n",
       "| highf65 | -0.417748705 | 0.56149048   | -0.74399963  | 0.463075062  |\n",
       "| ... | ... | ... | ... | ... |\n",
       "| highcf65 |  3.920771e-01 | 7.660246e-01  |  0.51183360   | 0.61278088    |\n",
       "| human65 |  2.337269e+00 | 3.307269e+00  |  0.70670678   | 0.48558873    |\n",
       "| humanm65 | -1.209249e+00 | 1.618516e+00  | -0.74713475   | 0.46121072    |\n",
       "| humanf65 | -1.103947e+00 | 1.684693e+00  | -0.65528075   | 0.51763499    |\n",
       "| hyr65 |  5.491388e+01 | 2.388729e+01  |  2.29887430   | 0.02918450    |\n",
       "| hyrm65 |  1.293505e+01 | 2.317142e+01  |  0.55823278   | 0.58112223    |\n",
       "| hyrf65 |  9.092580e+00 | 1.766958e+01  |  0.51458948   | 0.61087820    |\n",
       "| no65 |  3.720986e-02 | 1.319733e-01  |  0.28194994   | 0.78005541    |\n",
       "| nom65 | -2.119769e-02 | 6.495975e-02  | -0.32632032   | 0.74660861    |\n",
       "| nof65 | -1.685782e-02 | 6.700258e-02  | -0.25159954   | 0.80318810    |\n",
       "| pinstab1 | -4.997113e-02 | 3.092081e-02  | -1.61610019   | 0.11728579    |\n",
       "| pop65 |  1.031796e-07 | 1.317950e-07  |  0.78287929   | 0.44026959    |\n",
       "| worker65 |  3.407897e-02 | 1.561909e-01  |  0.21818786   | 0.82886516    |\n",
       "| pop1565 | -4.655346e-01 | 4.713340e-01  | -0.98769582   | 0.33176044    |\n",
       "| pop6565 | -1.357450e+00 | 6.349424e-01  | -2.13791049   | 0.04139326    |\n",
       "| sec65 | -1.089278e-02 | 3.076618e-01  | -0.03540506   | 0.97200796    |\n",
       "| secm65 |  3.343664e-03 | 1.511923e-01  |  0.02211530   | 0.98251284    |\n",
       "| secf65 | -2.304329e-03 | 1.579715e-01  | -0.01458699   | 0.98846512    |\n",
       "| secc65 | -4.915284e-01 | 7.290408e-01  | -0.67421246   | 0.50570489    |\n",
       "| seccm65 |  2.596016e-01 | 3.556533e-01  |  0.72992873   | 0.47149686    |\n",
       "| seccf65 |  2.206524e-01 | 3.733333e-01  |  0.59103325   | 0.55923950    |\n",
       "| syr65 | -7.555807e-01 | 7.976763e+00  | -0.09472273   | 0.92520970    |\n",
       "| syrm65 |  3.109007e-01 | 3.896731e+00  |  0.07978502   | 0.93697576    |\n",
       "| syrf65 |  7.592811e-01 | 4.110634e+00  |  0.18471143   | 0.85478676    |\n",
       "| teapri65 |  3.954523e-05 | 7.700406e-04  |  0.05135474   | 0.95940747    |\n",
       "| teasec65 |  2.496674e-04 | 1.171230e-03  |  0.21316678   | 0.83274136    |\n",
       "| ex1 | -5.804081e-01 | 2.418472e-01  | -2.39989593   | 0.02329485    |\n",
       "| im1 |  5.914450e-01 | 2.502978e-01  |  2.36296558   | 0.02530892    |\n",
       "| xr65 | -1.037768e-04 | 5.416760e-05  | -1.91584652   | 0.06564690    |\n",
       "| tot1 | -1.279011e-01 | 1.125951e-01  | -1.13593842   | 0.26561200    |\n",
       "\n"
      ],
      "text/plain": [
       "          Estimate      Std. Error   t value     Pr(>|t|)   \n",
       "intercept  0.247160893  0.78450163    0.31505466 0.755056170\n",
       "gdpsh465  -0.009377989  0.02988773   -0.31377391 0.756018518\n",
       "bmp1l     -0.068862679  0.03253065   -2.11685513 0.043289718\n",
       "freeop     0.080068974  0.20786400    0.38519885 0.703000838\n",
       "freetar   -0.488962605  0.41816285   -1.16931143 0.252136477\n",
       "h65       -2.362098638  0.85729167   -2.75530338 0.010192435\n",
       "hm65       0.707143400  0.52314511    1.35171560 0.187285919\n",
       "hf65       1.693448425  0.50318881    3.36543337 0.002232683\n",
       "p65        0.265526695  0.16429407    1.61616729 0.117271229\n",
       "pm65       0.136952626  0.15121749    0.90566657 0.372840111\n",
       "pf65      -0.331266948  0.16512299   -2.00618303 0.054583866\n",
       "s65        0.039079306  0.18552248    0.21064459 0.834690082\n",
       "sm65      -0.030668507  0.11679396   -0.26258642 0.794791807\n",
       "sf65      -0.179917280  0.11809892   -1.52344556 0.138863011\n",
       "fert65     0.006880834  0.02705142    0.25436128 0.801075252\n",
       "mort65    -0.233454503  0.81742198   -0.28559852 0.777287824\n",
       "lifee065  -0.014914473  0.19333559   -0.07714292 0.939058459\n",
       "gpop1      0.970184579  1.81220835    0.53536039 0.596627593\n",
       "fert1      0.008838189  0.03504148    0.25222077 0.802712696\n",
       "mort1      0.066562928  0.68481002    0.09719911 0.923260701\n",
       "invsh41    0.074461126  0.10844692    0.68661354 0.497973611\n",
       "geetot1   -0.715104906  1.68013567   -0.42562331 0.673636102\n",
       "geerec1    0.630004630  2.44737848    0.25742019 0.798736842\n",
       "gde1      -0.443575219  1.67120674   -0.26542211 0.792628757\n",
       "govwb1     0.337452364  0.43798695    0.77046214 0.447478336\n",
       "govsh41    0.463174632  1.92543733    0.24055555 0.811652246\n",
       "gvxdxe41  -0.793381582  2.05939737   -0.38524939 0.702963815\n",
       "high65    -0.752483828  0.90572159   -0.83081141 0.413108816\n",
       "highm65   -0.390261804  0.68124930   -0.57286195 0.571310302\n",
       "highf65   -0.417748705  0.56149048   -0.74399963 0.463075062\n",
       "...       ...           ...          ...         ...        \n",
       "highcf65   3.920771e-01 7.660246e-01  0.51183360 0.61278088 \n",
       "human65    2.337269e+00 3.307269e+00  0.70670678 0.48558873 \n",
       "humanm65  -1.209249e+00 1.618516e+00 -0.74713475 0.46121072 \n",
       "humanf65  -1.103947e+00 1.684693e+00 -0.65528075 0.51763499 \n",
       "hyr65      5.491388e+01 2.388729e+01  2.29887430 0.02918450 \n",
       "hyrm65     1.293505e+01 2.317142e+01  0.55823278 0.58112223 \n",
       "hyrf65     9.092580e+00 1.766958e+01  0.51458948 0.61087820 \n",
       "no65       3.720986e-02 1.319733e-01  0.28194994 0.78005541 \n",
       "nom65     -2.119769e-02 6.495975e-02 -0.32632032 0.74660861 \n",
       "nof65     -1.685782e-02 6.700258e-02 -0.25159954 0.80318810 \n",
       "pinstab1  -4.997113e-02 3.092081e-02 -1.61610019 0.11728579 \n",
       "pop65      1.031796e-07 1.317950e-07  0.78287929 0.44026959 \n",
       "worker65   3.407897e-02 1.561909e-01  0.21818786 0.82886516 \n",
       "pop1565   -4.655346e-01 4.713340e-01 -0.98769582 0.33176044 \n",
       "pop6565   -1.357450e+00 6.349424e-01 -2.13791049 0.04139326 \n",
       "sec65     -1.089278e-02 3.076618e-01 -0.03540506 0.97200796 \n",
       "secm65     3.343664e-03 1.511923e-01  0.02211530 0.98251284 \n",
       "secf65    -2.304329e-03 1.579715e-01 -0.01458699 0.98846512 \n",
       "secc65    -4.915284e-01 7.290408e-01 -0.67421246 0.50570489 \n",
       "seccm65    2.596016e-01 3.556533e-01  0.72992873 0.47149686 \n",
       "seccf65    2.206524e-01 3.733333e-01  0.59103325 0.55923950 \n",
       "syr65     -7.555807e-01 7.976763e+00 -0.09472273 0.92520970 \n",
       "syrm65     3.109007e-01 3.896731e+00  0.07978502 0.93697576 \n",
       "syrf65     7.592811e-01 4.110634e+00  0.18471143 0.85478676 \n",
       "teapri65   3.954523e-05 7.700406e-04  0.05135474 0.95940747 \n",
       "teasec65   2.496674e-04 1.171230e-03  0.21316678 0.83274136 \n",
       "ex1       -5.804081e-01 2.418472e-01 -2.39989593 0.02329485 \n",
       "im1        5.914450e-01 2.502978e-01  2.36296558 0.02530892 \n",
       "xr65      -1.037768e-04 5.416760e-05 -1.91584652 0.06564690 \n",
       "tot1      -1.279011e-01 1.125951e-01 -1.13593842 0.26561200 "
      ]
     },
     "metadata": {},
     "output_type": "display_data"
    }
   ],
   "source": [
    "summary(control.ols)$coef"
   ]
  },
  {
   "cell_type": "code",
   "execution_count": 62,
   "metadata": {
    "execution": {
     "iopub.execute_input": "2021-02-13T17:30:40.575465Z",
     "iopub.status.busy": "2021-02-13T17:30:40.573798Z",
     "iopub.status.idle": "2021-02-13T17:30:40.777165Z",
     "shell.execute_reply": "2021-02-13T17:30:40.774926Z"
    },
    "papermill": {
     "duration": 0.229579,
     "end_time": "2021-02-13T17:30:40.777425",
     "exception": false,
     "start_time": "2021-02-13T17:30:40.547846",
     "status": "completed"
    },
    "tags": []
   },
   "outputs": [
    {
     "data": {
      "text/html": [
       "<dl class=dl-horizontal>\n",
       "\t<dt>2.5 %</dt>\n",
       "\t\t<dd>-0.0706002209228739</dd>\n",
       "\t<dt>97.5 %</dt>\n",
       "\t\t<dd>0.0518442433577119</dd>\n",
       "</dl>\n"
      ],
      "text/latex": [
       "\\begin{description*}\n",
       "\\item[2.5 \\textbackslash{}\\%] -0.0706002209228739\n",
       "\\item[97.5 \\textbackslash{}\\%] 0.0518442433577119\n",
       "\\end{description*}\n"
      ],
      "text/markdown": [
       "2.5 %\n",
       ":   -0.070600220922873997.5 %\n",
       ":   0.0518442433577119\n",
       "\n"
      ],
      "text/plain": [
       "      2.5 %      97.5 % \n",
       "-0.07060022  0.05184424 "
      ]
     },
     "metadata": {},
     "output_type": "display_data"
    },
    {
     "data": {
      "text/html": [
       "<dl class=dl-horizontal>\n",
       "\t<dt>Estimate</dt>\n",
       "\t\t<dd>-0.00937798878258103</dd>\n",
       "\t<dt>Std. Error</dt>\n",
       "\t\t<dd>0.0298877263660764</dd>\n",
       "\t<dt>t value</dt>\n",
       "\t\t<dd>-0.313773910658703</dd>\n",
       "\t<dt>Pr(&gt;|t|)</dt>\n",
       "\t\t<dd>0.75601851773287</dd>\n",
       "</dl>\n"
      ],
      "text/latex": [
       "\\begin{description*}\n",
       "\\item[Estimate] -0.00937798878258103\n",
       "\\item[Std. Error] 0.0298877263660764\n",
       "\\item[t value] -0.313773910658703\n",
       "\\item[Pr(>\\textbackslash{}textbar\\{\\}t\\textbackslash{}textbar\\{\\})] 0.75601851773287\n",
       "\\end{description*}\n"
      ],
      "text/markdown": [
       "Estimate\n",
       ":   -0.00937798878258103Std. Error\n",
       ":   0.0298877263660764t value\n",
       ":   -0.313773910658703Pr(&amp;gt;|t|)\n",
       ":   0.75601851773287\n",
       "\n"
      ],
      "text/plain": [
       "    Estimate   Std. Error      t value     Pr(>|t|) \n",
       "-0.009377989  0.029887726 -0.313773911  0.756018518 "
      ]
     },
     "metadata": {},
     "output_type": "display_data"
    }
   ],
   "source": [
    "control.ols <- lm(Outcome~.-1,data=growth)\n",
    "est_ols <- summary(control.ols)$coef[2,]\n",
    "confint(control.ols)[2,]\n",
    "est_ols"
   ]
  },
  {
   "cell_type": "markdown",
   "metadata": {},
   "source": [
    "After controlling The point estimate is $-0.00937798878258103$ with the confidence interval ranging from $\n",
    "-0.0706002209228739$ to $\n",
    "-0.0706002209228739$. This can suggest that poor countries catch up rich countries, so the convergence hypothesis predicted by the Solow Growth Model would be accepted here. However, this estimation also provides us with a non-significant estimation, that due , and does not allow us to answer the question\n",
    "about the convergence hypothesis since the confidence interval crosses 0 on the right side of the interval."
   ]
  },
  {
   "cell_type": "markdown",
   "metadata": {},
   "source": [
    "## 3° DML using Lasso to predict y an d."
   ]
  },
  {
   "cell_type": "markdown",
   "metadata": {
    "papermill": {
     "duration": 0.022083,
     "end_time": "2021-02-13T17:30:40.902070",
     "exception": false,
     "start_time": "2021-02-13T17:30:40.879987",
     "status": "completed"
    },
    "tags": []
   },
   "source": [
    "# DML algorithm\n",
    "\n",
    "Here we perform inference of the predictive coefficient $\\beta$ in our partially linear statistical model, \n",
    "\n",
    "$$\n",
    "Y = D\\beta + g(Z) + \\epsilon, \\quad E (\\epsilon | D, Z) = 0,\n",
    "$$\n",
    "\n",
    "using the **double machine learning** approach. \n",
    "\n",
    "For $\\tilde Y = Y- E(Y|Z)$ and $\\tilde D= D- E(D|Z)$, we can write\n",
    "$$\n",
    "\\tilde Y = \\alpha \\tilde D + \\epsilon, \\quad E (\\epsilon |\\tilde D) =0.\n",
    "$$\n",
    "\n",
    "Using cross-fitting, we employ modern regression methods\n",
    "to build estimators $\\hat \\ell(Z)$ and $\\hat m(Z)$ of $\\ell(Z):=E(Y|Z)$ and $m(Z):=E(D|Z)$ to obtain the estimates of the residualized quantities:\n",
    "\n",
    "$$\n",
    "\\tilde Y_i = Y_i  - \\hat \\ell (Z_i),   \\quad \\tilde D_i = D_i - \\hat m(Z_i), \\quad \\text{ for each } i = 1,\\dots,n.\n",
    "$$\n",
    "\n",
    "Finally, using ordinary least squares of $\\tilde Y_i$ on $\\tilde D_i$, we obtain the \n",
    "estimate of $\\beta$."
   ]
  },
  {
   "cell_type": "markdown",
   "metadata": {
    "papermill": {
     "duration": 0.021101,
     "end_time": "2021-02-13T17:30:40.944373",
     "exception": false,
     "start_time": "2021-02-13T17:30:40.923272",
     "status": "completed"
    },
    "tags": []
   },
   "source": [
    "The following algorithm comsumes $Y, D, Z$, and a machine learning method for learning the residuals $\\tilde Y$ and $\\tilde D$, where the residuals are obtained by cross-validation (cross-fitting). Then, it prints the estimated coefficient $\\beta$ and the corresponding standard error from the final OLS regression."
   ]
  },
  {
   "cell_type": "code",
   "execution_count": 76,
   "metadata": {
    "execution": {
     "iopub.execute_input": "2021-02-13T17:30:41.049917Z",
     "iopub.status.busy": "2021-02-13T17:30:41.048343Z",
     "iopub.status.idle": "2021-02-13T17:30:41.060452Z",
     "shell.execute_reply": "2021-02-13T17:30:41.059555Z"
    },
    "papermill": {
     "duration": 0.095479,
     "end_time": "2021-02-13T17:30:41.060587",
     "exception": false,
     "start_time": "2021-02-13T17:30:40.965108",
     "status": "completed"
    },
    "tags": []
   },
   "outputs": [],
   "source": [
    "DML2.for.PLM <- function(z, d, y, dreg, yreg, nfold=2) {\n",
    "  nobs <- nrow(z) #number of observations\n",
    "  foldid <- rep.int(1:nfold,times = ceiling(nobs/nfold))[sample.int(nobs)] #define folds indices\n",
    "  I <- split(1:nobs, foldid)  #split observation indices into folds  \n",
    "  ytil <- dtil <- rep(NA, nobs)\n",
    "  cat(\"fold: \")\n",
    "  for(b in 1:length(I)){\n",
    "    dfit <- dreg(z[-I[[b]],], d[-I[[b]]]) #take a fold out\n",
    "    yfit <- yreg(z[-I[[b]],], y[-I[[b]]]) # take a foldt out\n",
    "    dhat <- predict(dfit, z[I[[b]],], type=\"response\") #predict the left-out fold \n",
    "    yhat <- predict(yfit, z[I[[b]],], type=\"response\") #predict the left-out fold  \n",
    "    dtil[I[[b]]] <- (d[I[[b]]] - dhat) #record residual for the left-out fold\n",
    "    ytil[I[[b]]] <- (y[I[[b]]] - yhat) #record residial for the left-out fold\n",
    "    cat(b,\" \")\n",
    "        }\n",
    "  #rfit <- lm(ytil ~ dtil)    #estimate the main parameter by regressing one residual on the other\n",
    "  data <- data.frame(cbind(ytil, dtil))\n",
    "  rfit <- felm(ytil ~ dtil,data=growth) \n",
    "  coef.est <- coef(rfit)[2]  #extract coefficient\n",
    "  #HC <- vcovHC(rfit)\n",
    "  se    <- summary(rfit,robust=T)$coefficients[2,2] #record robust standard error by County\n",
    "  cat(sprintf(\"\\ncoef (se) = %g (%g)\\n\", coef.est , se))  #printing output\n",
    "  return( list(coef.est =coef.est , se=se, dtil=dtil, ytil=ytil, rfit=rfit) ) #save output and residuals \n",
    "}"
   ]
  },
  {
   "cell_type": "markdown",
   "metadata": {
    "papermill": {
     "duration": 0.020604,
     "end_time": "2021-02-13T17:30:41.102146",
     "exception": false,
     "start_time": "2021-02-13T17:30:41.081542",
     "status": "completed"
    },
    "tags": []
   },
   "source": [
    "Now, we apply the Double Machine Learning (DML) approach with different machine learning methods. First, we load the relevant libraries."
   ]
  },
  {
   "cell_type": "code",
   "execution_count": 77,
   "metadata": {},
   "outputs": [
    {
     "name": "stderr",
     "output_type": "stream",
     "text": [
      "Warning message:\n",
      "\"package 'hdm' is in use and will not be installed\""
     ]
    }
   ],
   "source": [
    "# install.packages(\"hdm\")"
   ]
  },
  {
   "cell_type": "code",
   "execution_count": 78,
   "metadata": {
    "execution": {
     "iopub.execute_input": "2021-02-13T17:30:41.148547Z",
     "iopub.status.busy": "2021-02-13T17:30:41.147436Z",
     "iopub.status.idle": "2021-02-13T17:30:41.609900Z",
     "shell.execute_reply": "2021-02-13T17:30:41.609227Z"
    },
    "papermill": {
     "duration": 0.486944,
     "end_time": "2021-02-13T17:30:41.610047",
     "exception": false,
     "start_time": "2021-02-13T17:30:41.123103",
     "status": "completed"
    },
    "tags": []
   },
   "outputs": [
    {
     "name": "stderr",
     "output_type": "stream",
     "text": [
      "Loaded glmnet 2.0-16\n",
      "\n",
      "randomForest 4.6-14\n",
      "Type rfNews() to see new features/changes/bug fixes.\n"
     ]
    }
   ],
   "source": [
    "library(foreach)\n",
    "library(hdm)\n",
    "library(glmnet)\n",
    "library(sandwich)\n",
    "library(randomForest)"
   ]
  },
  {
   "cell_type": "markdown",
   "metadata": {
    "papermill": {
     "duration": 0.022531,
     "end_time": "2021-02-13T17:30:41.655799",
     "exception": false,
     "start_time": "2021-02-13T17:30:41.633268",
     "status": "completed"
    },
    "tags": []
   },
   "source": [
    "Let us, construct the input matrices."
   ]
  },
  {
   "cell_type": "code",
   "execution_count": 102,
   "metadata": {},
   "outputs": [],
   "source": [
    "# Treatment Variable\n",
    "D     <- growth[\"gdpsh465\"]\n",
    "\n",
    "# Outcome Variable\n",
    "Y     <- growth[\"Outcome\"]\n",
    "\n",
    "# Construct matrix Z\n",
    "\n",
    "Z <- growth[c(colnames(growth)[4:63])]"
   ]
  },
  {
   "cell_type": "code",
   "execution_count": 103,
   "metadata": {},
   "outputs": [],
   "source": [
    "y <- as.matrix(Y)"
   ]
  },
  {
   "cell_type": "code",
   "execution_count": 104,
   "metadata": {},
   "outputs": [],
   "source": [
    "d <- as.matrix(D)"
   ]
  },
  {
   "cell_type": "code",
   "execution_count": 105,
   "metadata": {},
   "outputs": [],
   "source": [
    "z <- as.matrix(Z)"
   ]
  },
  {
   "cell_type": "code",
   "execution_count": 106,
   "metadata": {
    "execution": {
     "iopub.execute_input": "2021-02-13T17:30:41.706539Z",
     "iopub.status.busy": "2021-02-13T17:30:41.705289Z",
     "iopub.status.idle": "2021-02-13T17:30:41.750368Z",
     "shell.execute_reply": "2021-02-13T17:30:41.749361Z"
    },
    "papermill": {
     "duration": 0.071827,
     "end_time": "2021-02-13T17:30:41.750537",
     "exception": false,
     "start_time": "2021-02-13T17:30:41.678710",
     "status": "completed"
    },
    "tags": []
   },
   "outputs": [
    {
     "data": {
      "text/html": [
       "<table>\n",
       "<thead><tr><th scope=col>Outcome</th><th scope=col>gdpsh465</th></tr></thead>\n",
       "<tbody>\n",
       "\t<tr><td>-0.02433575</td><td>6.591674   </td></tr>\n",
       "\t<tr><td> 0.10047257</td><td>6.829794   </td></tr>\n",
       "\t<tr><td> 0.06705148</td><td>8.895082   </td></tr>\n",
       "\t<tr><td> 0.06408917</td><td>7.565275   </td></tr>\n",
       "\t<tr><td> 0.02792955</td><td>7.162397   </td></tr>\n",
       "\t<tr><td> 0.04640744</td><td>7.218910   </td></tr>\n",
       "</tbody>\n",
       "</table>\n"
      ],
      "text/latex": [
       "\\begin{tabular}{r|ll}\n",
       " Outcome & gdpsh465\\\\\n",
       "\\hline\n",
       "\t -0.02433575 & 6.591674   \\\\\n",
       "\t  0.10047257 & 6.829794   \\\\\n",
       "\t  0.06705148 & 8.895082   \\\\\n",
       "\t  0.06408917 & 7.565275   \\\\\n",
       "\t  0.02792955 & 7.162397   \\\\\n",
       "\t  0.04640744 & 7.218910   \\\\\n",
       "\\end{tabular}\n"
      ],
      "text/markdown": [
       "\n",
       "| Outcome | gdpsh465 |\n",
       "|---|---|\n",
       "| -0.02433575 | 6.591674    |\n",
       "|  0.10047257 | 6.829794    |\n",
       "|  0.06705148 | 8.895082    |\n",
       "|  0.06408917 | 7.565275    |\n",
       "|  0.02792955 | 7.162397    |\n",
       "|  0.04640744 | 7.218910    |\n",
       "\n"
      ],
      "text/plain": [
       "  Outcome     gdpsh465\n",
       "1 -0.02433575 6.591674\n",
       "2  0.10047257 6.829794\n",
       "3  0.06705148 8.895082\n",
       "4  0.06408917 7.565275\n",
       "5  0.02792955 7.162397\n",
       "6  0.04640744 7.218910"
      ]
     },
     "metadata": {},
     "output_type": "display_data"
    }
   ],
   "source": [
    "head(data.frame(cbind(y,d)))"
   ]
  },
  {
   "cell_type": "markdown",
   "metadata": {
    "papermill": {
     "duration": 0.022813,
     "end_time": "2021-02-13T17:30:41.796577",
     "exception": false,
     "start_time": "2021-02-13T17:30:41.773764",
     "status": "completed"
    },
    "tags": []
   },
   "source": [
    "In the following, we apply the DML approach with the differnt versions of lasso.\n"
   ]
  },
  {
   "cell_type": "markdown",
   "metadata": {
    "papermill": {
     "duration": 0.02306,
     "end_time": "2021-02-13T17:30:41.843131",
     "exception": false,
     "start_time": "2021-02-13T17:30:41.820071",
     "status": "completed"
    },
    "tags": []
   },
   "source": [
    "## 3° DML using Lasso to predict y an d."
   ]
  },
  {
   "cell_type": "code",
   "execution_count": 107,
   "metadata": {
    "execution": {
     "iopub.execute_input": "2021-02-13T17:30:41.892634Z",
     "iopub.status.busy": "2021-02-13T17:30:41.891453Z",
     "iopub.status.idle": "2021-02-13T17:31:07.362797Z",
     "shell.execute_reply": "2021-02-13T17:31:07.360728Z"
    },
    "papermill": {
     "duration": 25.497739,
     "end_time": "2021-02-13T17:31:07.363059",
     "exception": false,
     "start_time": "2021-02-13T17:30:41.865320",
     "status": "completed"
    },
    "tags": []
   },
   "outputs": [],
   "source": [
    "#DML with Lasso:\n",
    "set.seed(123)\n",
    "dreg <- function(z,d){ rlasso(z,d, post=FALSE) } #ML method= lasso from hdm \n",
    "yreg <- function(z,y){ rlasso(z,y, post=FALSE) } #ML method = lasso from hdm"
   ]
  },
  {
   "cell_type": "code",
   "execution_count": 108,
   "metadata": {
    "execution": {
     "iopub.execute_input": "2021-02-13T17:30:41.892634Z",
     "iopub.status.busy": "2021-02-13T17:30:41.891453Z",
     "iopub.status.idle": "2021-02-13T17:31:07.362797Z",
     "shell.execute_reply": "2021-02-13T17:31:07.360728Z"
    },
    "papermill": {
     "duration": 25.497739,
     "end_time": "2021-02-13T17:31:07.363059",
     "exception": false,
     "start_time": "2021-02-13T17:30:41.865320",
     "status": "completed"
    },
    "tags": []
   },
   "outputs": [
    {
     "name": "stdout",
     "output_type": "stream",
     "text": [
      "fold: 1  2  3  4  5  6  7  8  9  10  \n",
      "coef (se) = -0.0370317 (0.0161774)\n"
     ]
    }
   ],
   "source": [
    "DML2.lasso = DML2.for.PLM(z, d, y, dreg, yreg, nfold=10)"
   ]
  },
  {
   "cell_type": "markdown",
   "metadata": {},
   "source": [
    "Here we have that to estimate the $\\hat{\\beta}$ related to the effect of $D$ on $Y$ was constructed as a solution of the following penalized least square problem:\n",
    "$$\n",
    "        min_{b \\in R^p} \\sum_i (Y_i - b^\\prime X_i )^2 + \\lambda \\dot \\sum_{j=1}^{p} |b_j|\n",
    "$$"
   ]
  },
  {
   "cell_type": "markdown",
   "metadata": {},
   "source": [
    "So, DML with lasso give us a estimate parameter equal to $-0.0370317$, with a standard deviation of $0.0161774$. This beta estimate suggest that poor countries catch up rich countries, so the convergence hypothesis predicted by the Solow Growth Model would be accepted here. Besides that, we can see that this standard deviation is lower than the other two previous ones we got."
   ]
  },
  {
   "cell_type": "markdown",
   "metadata": {},
   "source": [
    "## 4° DML using Post-Lasso to predict y an d."
   ]
  },
  {
   "cell_type": "code",
   "execution_count": 110,
   "metadata": {
    "execution": {
     "iopub.execute_input": "2021-02-13T17:31:07.450047Z",
     "iopub.status.busy": "2021-02-13T17:31:07.449335Z",
     "iopub.status.idle": "2021-02-13T17:31:33.296006Z",
     "shell.execute_reply": "2021-02-13T17:31:33.294119Z"
    },
    "papermill": {
     "duration": 25.88845,
     "end_time": "2021-02-13T17:31:33.296252",
     "exception": false,
     "start_time": "2021-02-13T17:31:07.407802",
     "status": "completed"
    },
    "tags": []
   },
   "outputs": [
    {
     "name": "stdout",
     "output_type": "stream",
     "text": [
      "fold: 1  2  3  4  5  6  7  8  9  10  \n",
      "coef (se) = -0.0368285 (0.0141174)\n"
     ]
    }
   ],
   "source": [
    "#DML with Post-Lasso:\n",
    "dreg <- function(z,d){ rlasso(z,d, post=T) } #ML method= lasso from hdm \n",
    "yreg <- function(z,y){ rlasso(z,y, post=T) } #ML method = lasso from hdm\n",
    "DML2.post = DML2.for.PLM(z, d, y, dreg, yreg, nfold=10)"
   ]
  },
  {
   "cell_type": "markdown",
   "metadata": {},
   "source": [
    "Here we have that to estimate the $\\hat{\\beta}$ related to the effect of $D$ on $Y$ it was used the Lasso-selected set of regressors to refit the model by least squares. This method is callend the \"least squares post Lasso\" and was constructed as a solution of the following penalized least square problem.\n",
    "\n",
    "So, this technique applied with DML give us a estimate parameter equal to $-0.0368285$, with a standard deviation of $0.0141174$. This beta estimate suggest that poor countries catch up rich countries, so the convergence hypothesis predicted by the Solow Growth Model would also be accepted here. Besides that, we can see that this standard deviation is even lower than the one we got with DML- Lasso."
   ]
  },
  {
   "cell_type": "markdown",
   "metadata": {},
   "source": [
    "## 5° DML using Random Forest to predict y an d."
   ]
  },
  {
   "cell_type": "code",
   "execution_count": 113,
   "metadata": {
    "execution": {
     "iopub.execute_input": "2021-02-13T17:35:14.320437Z",
     "iopub.status.busy": "2021-02-13T17:35:14.319294Z",
     "iopub.status.idle": "2021-02-13T17:40:48.550498Z",
     "shell.execute_reply": "2021-02-13T17:40:48.551323Z"
    },
    "papermill": {
     "duration": 334.261061,
     "end_time": "2021-02-13T17:40:48.551591",
     "exception": false,
     "start_time": "2021-02-13T17:35:14.290530",
     "status": "completed"
    },
    "scrolled": true,
    "tags": []
   },
   "outputs": [
    {
     "name": "stdout",
     "output_type": "stream",
     "text": [
      "fold: 1  2  \n",
      "coef (se) = -0.0290514 (0.0128382)\n"
     ]
    }
   ],
   "source": [
    "#DML with Random Forest:\n",
    "dreg <- function(z,d){ randomForest(z, d) } #ML method=Forest \n",
    "yreg <- function(z,y){ randomForest(z, y) } #ML method=Forest\n",
    "set.seed(1)\n",
    "DML2.RF = DML2.for.PLM(z, d, y, dreg, yreg, nfold=2) # set to 2 due to computation time"
   ]
  },
  {
   "cell_type": "markdown",
   "metadata": {},
   "source": [
    "Here we have that to estimate the $\\hat{\\beta}$ related to the effect of $D$ on $Y$ it was used DML with Random forest to predict Y and D. \n",
    "So, this technique give us a estimate parameter equal to $-0.0290514$, with a standard deviation of $0.0128382$. This beta estimate also suggest that poor countries catch up rich countries, so the convergence hypothesis predicted by the Solow Growth Model would also be accepted here. Besides that, we can see that this standard deviation is even lower than the one we got with DML- Post Lasso."
   ]
  },
  {
   "cell_type": "markdown",
   "metadata": {},
   "source": [
    "## 6° Run the best method i.e. the best combination of methods to predict y and d. "
   ]
  },
  {
   "cell_type": "markdown",
   "metadata": {},
   "source": [
    "To be able to find the best method, we will execute the DML algorithm with other machine learning techniques:"
   ]
  },
  {
   "cell_type": "code",
   "execution_count": 122,
   "metadata": {},
   "outputs": [
    {
     "name": "stdout",
     "output_type": "stream",
     "text": [
      "fold: 1  2  3  4  5  \n",
      "coef (se) = -0.0360247 (0.0153477)\n",
      "fold: 1  2  3  4  5  \n",
      "coef (se) = -0.0365546 (0.015524)\n",
      "fold: 1  2  3  4  5  \n",
      "coef (se) = -0.0327663 (0.0157992)\n"
     ]
    }
   ],
   "source": [
    "#DML with cross-validated Lasso:\n",
    "dreg <- function(z,d){ cv.glmnet(z,d,family=\"gaussian\", alpha=1) } #ML method = cvlasso from glmnet \n",
    "yreg <- function(z,y){ cv.glmnet(z,y,family=\"gaussian\", alpha=1) }  #ML method = cvlasso from glmnet \n",
    "DML2.lasso.cv = DML2.for.PLM(z, d, y, dreg, yreg, nfold=5)\n",
    "\n",
    "dreg <- function(z,d){ cv.glmnet(z,d,family=\"gaussian\", alpha=0.5) } #ML method = elastic net from glmnet \n",
    "yreg <- function(z,y){ cv.glmnet(z,y,family=\"gaussian\", alpha=0.5) }  #ML method = elastic net from glmnet \n",
    "DML2.elnet = DML2.for.PLM(z, d, y, dreg, yreg, nfold=5)\n",
    "\n",
    "dreg <- function(z,d){ cv.glmnet(z,d,family=\"gaussian\", alpha=0) } #ML method = ridge from glmnet \n",
    "yreg <- function(z,y){ cv.glmnet(z,y,family=\"gaussian\", alpha=0) }  #ML method = ridge from glmnet \n",
    "DML2.ridge = DML2.for.PLM(z, d, y, dreg, yreg, nfold=5)"
   ]
  },
  {
   "cell_type": "code",
   "execution_count": 123,
   "metadata": {},
   "outputs": [
    {
     "name": "stdout",
     "output_type": "stream",
     "text": [
      "fold: 1  2  3  4  5  6  7  8  9  10  \n",
      "coef (se) = 0.0265087 (0.0134078)\n"
     ]
    }
   ],
   "source": [
    "# DML with OLS used as the ML method\n",
    "dreg <- function(z,d){  glmnet(z,d,family=\"gaussian\", lambda=0) } #ML method = ols from glmnet \n",
    "yreg <- function(z,y){  glmnet(z,y,family=\"gaussian\", lambda=0) }  #ML method = ols from glmnet \n",
    "DML2.ols = DML2.for.PLM(z, d, y, dreg, yreg, nfold=10)"
   ]
  },
  {
   "cell_type": "markdown",
   "metadata": {
    "papermill": {
     "duration": 0.027238,
     "end_time": "2021-02-13T17:40:48.657096",
     "exception": false,
     "start_time": "2021-02-13T17:40:48.629858",
     "status": "completed"
    },
    "tags": []
   },
   "source": [
    "Finally, let's see which method is actually better. We compute RMSE for predicting D and Y, and see which\n",
    "of the methods works better."
   ]
  },
  {
   "cell_type": "code",
   "execution_count": 134,
   "metadata": {},
   "outputs": [
    {
     "name": "stdout",
     "output_type": "stream",
     "text": [
      "               OLS       Lasso  Post-Lasso    CV Lasso    CV Ridge    CV Elnet\n",
      "RMSE D 0.000449556 0.000831523 0.000333837 8.08041e-19 0.000154909 0.000813289\n",
      "RMSE Y 0.010418259 0.012439826 0.000541272 3.23386e-03 0.008698366 0.006694750\n",
      "                RF\n",
      "RMSE D 0.000844267\n",
      "RMSE Y 0.029621814\n"
     ]
    }
   ],
   "source": [
    "mods<- list(DML2.ols, DML2.lasso, DML2.post, DML2.lasso.cv, DML2.ridge, DML2.elnet, DML2.RF)\n",
    "\n",
    "RMSE.mdl<- function(mdl) {\n",
    "RMSEY <- sqrt(mean(mdl$ytil)^2) \n",
    "RMSED <- sqrt(mean(mdl$dtil)^2) \n",
    "return( list(RMSEY=RMSEY, RMSED=RMSED))\n",
    "}\n",
    "\n",
    "#RMSE.mdl(DML2.lasso)\n",
    "\n",
    "#DML2.lasso$ytil\n",
    "\n",
    "Res<- lapply(mods, RMSE.mdl)\n",
    "\n",
    "\n",
    "prRes.Y<- c( Res[[1]]$RMSEY,Res[[2]]$RMSEY, Res[[3]]$RMSEY, Res[[4]]$RMSEY, Res[[5]]$RMSEY,  Res[[6]]$RMSEY, Res[[7]]$RMSEY)\n",
    "prRes.D<- c( Res[[1]]$RMSED,Res[[2]]$RMSED, Res[[3]]$RMSED, Res[[4]]$RMSED, Res[[5]]$RMSED, Res[[6]]$RMSED, Res[[7]]$RMSED)\n",
    "\n",
    "prRes<- rbind(prRes.Y, prRes.D); \n",
    "rownames(prRes)<- c(\"RMSE D\", \"RMSE Y\");\n",
    "colnames(prRes)<- c(\"OLS\", \"Lasso\", \"Post-Lasso\", \"CV Lasso\", \"CV Ridge\", \"CV Elnet\", \"RF\")\n",
    "print(prRes,digit=6)"
   ]
  },
  {
   "cell_type": "markdown",
   "metadata": {
    "papermill": {
     "duration": 0.027155,
     "end_time": "2021-02-13T17:40:48.832101",
     "exception": false,
     "start_time": "2021-02-13T17:40:48.804946",
     "status": "completed"
    },
    "tags": []
   },
   "source": [
    "Here we can see that the best method for predicting D is \"CV Lasso\", and the best method for predicting Y is also \"CV Lasso\".So, we'll run the algorithm following these two machine-learning methods for $D$ and $Y$: "
   ]
  },
  {
   "cell_type": "code",
   "execution_count": 135,
   "metadata": {
    "execution": {
     "iopub.execute_input": "2021-02-13T17:40:48.887079Z",
     "iopub.status.busy": "2021-02-13T17:40:48.885820Z",
     "iopub.status.idle": "2021-02-13T17:41:18.806979Z",
     "shell.execute_reply": "2021-02-13T17:41:18.805624Z"
    },
    "papermill": {
     "duration": 29.950099,
     "end_time": "2021-02-13T17:41:18.807192",
     "exception": false,
     "start_time": "2021-02-13T17:40:48.857093",
     "status": "completed"
    },
    "tags": []
   },
   "outputs": [
    {
     "name": "stdout",
     "output_type": "stream",
     "text": [
      "fold: 1  2  3  4  5  6  7  8  9  10  \n",
      "coef (se) = -0.0340352 (0.0160492)\n"
     ]
    }
   ],
   "source": [
    "dreg_b <- function(z,d){ cv.glmnet(z,d,family=\"gaussian\", alpha=1) } #ML method = cvlasso from glmnet for d \n",
    "yreg_b <- function(z,y){ cv.glmnet(z,y,family=\"gaussian\", alpha=1) }  #ML method = cvlasso from glmnet y\n",
    "DML2.best= DML2.for.PLM(z, d, y, dreg_b, yreg_b, nfold=10)"
   ]
  },
  {
   "cell_type": "markdown",
   "metadata": {},
   "source": [
    "## 7° Show your results in a table as we did in the lab."
   ]
  },
  {
   "cell_type": "markdown",
   "metadata": {
    "papermill": {
     "duration": 0.034891,
     "end_time": "2021-02-13T17:41:18.892429",
     "exception": false,
     "start_time": "2021-02-13T17:41:18.857538",
     "status": "completed"
    },
    "tags": []
   },
   "source": [
    "Let's organize the results in a table."
   ]
  },
  {
   "cell_type": "code",
   "execution_count": 138,
   "metadata": {
    "execution": {
     "iopub.execute_input": "2021-02-13T17:41:18.948154Z",
     "iopub.status.busy": "2021-02-13T17:41:18.946908Z",
     "iopub.status.idle": "2021-02-13T17:41:19.006359Z",
     "shell.execute_reply": "2021-02-13T17:41:19.005308Z"
    },
    "papermill": {
     "duration": 0.088669,
     "end_time": "2021-02-13T17:41:19.006521",
     "exception": false,
     "start_time": "2021-02-13T17:41:18.917852",
     "status": "completed"
    },
    "tags": []
   },
   "outputs": [
    {
     "data": {
      "text/html": [
       "<table>\n",
       "<thead><tr><th></th><th scope=col>Estimate</th><th scope=col>Standard Error</th></tr></thead>\n",
       "<tbody>\n",
       "\t<tr><th scope=row>Baseline OLS</th><td> 0.001316713</td><td>0.00610220  </td></tr>\n",
       "\t<tr><th scope=row>Least Squares with controls</th><td>-0.009377989</td><td>0.02988773  </td></tr>\n",
       "\t<tr><th scope=row>Lasso</th><td>-0.037031673</td><td>0.01617736  </td></tr>\n",
       "\t<tr><th scope=row>Post-Lasso</th><td>-0.036828539</td><td>0.01411740  </td></tr>\n",
       "\t<tr><th scope=row>CV Lasso</th><td>-0.036024675</td><td>0.01534774  </td></tr>\n",
       "\t<tr><th scope=row>CV Elnet</th><td>-0.036554650</td><td>0.01552403  </td></tr>\n",
       "\t<tr><th scope=row>CV Ridge</th><td>-0.032766296</td><td>0.01579923  </td></tr>\n",
       "\t<tr><th scope=row>Random Forest</th><td>-0.029051448</td><td>0.01283821  </td></tr>\n",
       "\t<tr><th scope=row>Best</th><td>-0.034035162</td><td>0.01604917  </td></tr>\n",
       "</tbody>\n",
       "</table>\n"
      ],
      "text/latex": [
       "\\begin{tabular}{r|ll}\n",
       "  & Estimate & Standard Error\\\\\n",
       "\\hline\n",
       "\tBaseline OLS &  0.001316713 & 0.00610220  \\\\\n",
       "\tLeast Squares with controls & -0.009377989 & 0.02988773  \\\\\n",
       "\tLasso & -0.037031673 & 0.01617736  \\\\\n",
       "\tPost-Lasso & -0.036828539 & 0.01411740  \\\\\n",
       "\tCV Lasso & -0.036024675 & 0.01534774  \\\\\n",
       "\tCV Elnet & -0.036554650 & 0.01552403  \\\\\n",
       "\tCV Ridge & -0.032766296 & 0.01579923  \\\\\n",
       "\tRandom Forest & -0.029051448 & 0.01283821  \\\\\n",
       "\tBest & -0.034035162 & 0.01604917  \\\\\n",
       "\\end{tabular}\n"
      ],
      "text/markdown": [
       "\n",
       "| <!--/--> | Estimate | Standard Error |\n",
       "|---|---|---|\n",
       "| Baseline OLS |  0.001316713 | 0.00610220   |\n",
       "| Least Squares with controls | -0.009377989 | 0.02988773   |\n",
       "| Lasso | -0.037031673 | 0.01617736   |\n",
       "| Post-Lasso | -0.036828539 | 0.01411740   |\n",
       "| CV Lasso | -0.036024675 | 0.01534774   |\n",
       "| CV Elnet | -0.036554650 | 0.01552403   |\n",
       "| CV Ridge | -0.032766296 | 0.01579923   |\n",
       "| Random Forest | -0.029051448 | 0.01283821   |\n",
       "| Best | -0.034035162 | 0.01604917   |\n",
       "\n"
      ],
      "text/plain": [
       "                            Estimate     Standard Error\n",
       "Baseline OLS                 0.001316713 0.00610220    \n",
       "Least Squares with controls -0.009377989 0.02988773    \n",
       "Lasso                       -0.037031673 0.01617736    \n",
       "Post-Lasso                  -0.036828539 0.01411740    \n",
       "CV Lasso                    -0.036024675 0.01534774    \n",
       "CV Elnet                    -0.036554650 0.01552403    \n",
       "CV Ridge                    -0.032766296 0.01579923    \n",
       "Random Forest               -0.029051448 0.01283821    \n",
       "Best                        -0.034035162 0.01604917    "
      ]
     },
     "metadata": {},
     "output_type": "display_data"
    }
   ],
   "source": [
    "library(xtable)\n",
    "\n",
    "table <- matrix(0,9,2)\n",
    "table[1,1] <- as.numeric(est_baseline[1])\n",
    "table[2,1] <- as.numeric(est_ols[1])\n",
    "table[3,1]   <- as.numeric(DML2.lasso$coef.est)\n",
    "table[4,1]   <- as.numeric(DML2.post$coef.est)\n",
    "table[5,1]  <-as.numeric(DML2.lasso.cv$coef.est)\n",
    "table[6,1] <-as.numeric(DML2.elnet$coef.est)\n",
    "table[7,1] <-as.numeric(DML2.ridge$coef.est)\n",
    "table[8,1] <-as.numeric(DML2.RF$coef.est)\n",
    "table[9,1] <-as.numeric(DML2.best$coef.est)\n",
    "table[1,2] <- as.numeric(est_baseline[2])\n",
    "table[2,2] <- as.numeric(est_ols[2])\n",
    "table[3,2]   <- as.numeric(DML2.lasso$se)\n",
    "table[4,2]   <- as.numeric(DML2.post$se)\n",
    "table[5,2]  <-as.numeric(DML2.lasso.cv$se)\n",
    "table[6,2] <-as.numeric(DML2.elnet$se)\n",
    "table[7,2] <-as.numeric(DML2.ridge$se)\n",
    "table[8,2] <-as.numeric(DML2.RF$se)\n",
    "table[9,2] <-as.numeric(DML2.best$se)\n",
    "\n",
    "\n",
    "################################# Print Results #################################\n",
    "\n",
    "colnames(table) <- c(\"Estimate\",\"Standard Error\")\n",
    "rownames(table) <- c(\"Baseline OLS\", \"Least Squares with controls\", \"Lasso\", \"Post-Lasso\", \"CV Lasso\",\"CV Elnet\", \"CV Ridge\", \"Random Forest\", \n",
    "                     \"Best\")\n",
    "\n",
    "table"
   ]
  },
  {
   "cell_type": "code",
   "execution_count": 139,
   "metadata": {
    "execution": {
     "iopub.execute_input": "2021-02-13T17:41:19.063047Z",
     "iopub.status.busy": "2021-02-13T17:41:19.062074Z",
     "iopub.status.idle": "2021-02-13T17:41:19.075566Z",
     "shell.execute_reply": "2021-02-13T17:41:19.074278Z"
    },
    "papermill": {
     "duration": 0.043017,
     "end_time": "2021-02-13T17:41:19.075707",
     "exception": false,
     "start_time": "2021-02-13T17:41:19.032690",
     "status": "completed"
    },
    "tags": []
   },
   "outputs": [
    {
     "name": "stdout",
     "output_type": "stream",
     "text": [
      "                            Estimate Standard Error\n",
      "Baseline OLS                 0.00132         0.0061\n",
      "Least Squares with controls -0.00938         0.0299\n",
      "Lasso                       -0.03703         0.0162\n",
      "Post-Lasso                  -0.03683         0.0141\n",
      "CV Lasso                    -0.03602         0.0153\n",
      "CV Elnet                    -0.03655         0.0155\n",
      "CV Ridge                    -0.03277         0.0158\n",
      "Random Forest               -0.02905         0.0128\n",
      "Best                        -0.03404         0.0160\n"
     ]
    }
   ],
   "source": [
    "print(table, digit=3)"
   ]
  }
 ],
 "metadata": {
  "hide_input": false,
  "kernelspec": {
   "display_name": "R",
   "language": "R",
   "name": "ir"
  },
  "language_info": {
   "codemirror_mode": "r",
   "file_extension": ".r",
   "mimetype": "text/x-r-source",
   "name": "R",
   "pygments_lexer": "r",
   "version": "4.1.1"
  },
  "papermill": {
   "default_parameters": {},
   "duration": 669.535702,
   "end_time": "2021-02-13T17:41:19.292106",
   "environment_variables": {},
   "exception": null,
   "input_path": "__notebook__.ipynb",
   "output_path": "__notebook__.ipynb",
   "parameters": {},
   "start_time": "2021-02-13T17:30:09.756404",
   "version": "2.2.2"
  }
 },
 "nbformat": 4,
 "nbformat_minor": 4
}
