{
 "cells": [
  {
   "cell_type": "code",
   "execution_count": 60,
   "id": "6cbed655",
   "metadata": {},
   "outputs": [],
   "source": [
    "set.seed(1)\n"
   ]
  },
  {
   "cell_type": "markdown",
   "id": "14219926",
   "metadata": {},
   "source": [
    "# Grupo 4 - Laboratorio 6 - R\n",
    "\n",
    "Katiuska Olivera Quevedo (20172533) \\\n",
    "Rosemery Fernandez Sanchez (20172635) \\\n",
    "Aliro Cabrera Florez (20152034) \\\n",
    "Jose Uscamayta Quispe (20195674)\n"
   ]
  },
  {
   "cell_type": "code",
   "execution_count": 61,
   "id": "cb35238d",
   "metadata": {},
   "outputs": [],
   "source": [
    "rm(list = ls())\n"
   ]
  },
  {
   "cell_type": "code",
   "execution_count": 62,
   "id": "dcdce8d7",
   "metadata": {},
   "outputs": [],
   "source": [
    "library(grf)\n",
    "if(packageVersion(\"grf\") < '0.10.2') {\n",
    "  warning(\"This script requires grf 0.10.2 or higher\")\n",
    "}"
   ]
  },
  {
   "cell_type": "code",
   "execution_count": 63,
   "id": "2798c390",
   "metadata": {
    "scrolled": true
   },
   "outputs": [],
   "source": [
    "library(sandwich)\n",
    "library(lmtest)\n",
    "library(Hmisc)\n",
    "library(ggplot2)"
   ]
  },
  {
   "cell_type": "code",
   "execution_count": 64,
   "id": "b1e900c7",
   "metadata": {},
   "outputs": [],
   "source": [
    "data.all = read.csv(\"https://raw.githubusercontent.com/grf-labs/grf/master/experiments/acic18/synthetic_data.csv\")\n",
    "data.all$schoolid = factor(data.all$schoolid)"
   ]
  },
  {
   "cell_type": "code",
   "execution_count": 65,
   "id": "0d76d8bc",
   "metadata": {},
   "outputs": [
    {
     "data": {
      "text/html": [
       "<table>\n",
       "<thead><tr><th scope=col>schoolid</th><th scope=col>Z</th><th scope=col>Y</th><th scope=col>S3</th><th scope=col>C1</th><th scope=col>C2</th><th scope=col>C3</th><th scope=col>XC</th><th scope=col>X1</th><th scope=col>X2</th><th scope=col>X3</th><th scope=col>X4</th><th scope=col>X5</th></tr></thead>\n",
       "<tbody>\n",
       "\t<tr><td>76         </td><td>1          </td><td> 0.08160167</td><td>6          </td><td> 4         </td><td>2          </td><td>1          </td><td>4          </td><td>0.3345435  </td><td>0.6485856  </td><td>-1.310927  </td><td>0.2240765  </td><td>-0.4267567 </td></tr>\n",
       "\t<tr><td>76         </td><td>1          </td><td>-0.38586896</td><td>4          </td><td>12         </td><td>2          </td><td>1          </td><td>4          </td><td>0.3345435  </td><td>0.6485856  </td><td>-1.310927  </td><td>0.2240765  </td><td>-0.4267567 </td></tr>\n",
       "\t<tr><td>76         </td><td>1          </td><td> 0.39818373</td><td>6          </td><td> 4         </td><td>2          </td><td>0          </td><td>4          </td><td>0.3345435  </td><td>0.6485856  </td><td>-1.310927  </td><td>0.2240765  </td><td>-0.4267567 </td></tr>\n",
       "\t<tr><td>76         </td><td>1          </td><td>-0.17503685</td><td>6          </td><td> 4         </td><td>2          </td><td>0          </td><td>4          </td><td>0.3345435  </td><td>0.6485856  </td><td>-1.310927  </td><td>0.2240765  </td><td>-0.4267567 </td></tr>\n",
       "\t<tr><td>76         </td><td>1          </td><td> 0.88458337</td><td>6          </td><td> 4         </td><td>1          </td><td>0          </td><td>4          </td><td>0.3345435  </td><td>0.6485856  </td><td>-1.310927  </td><td>0.2240765  </td><td>-0.4267567 </td></tr>\n",
       "\t<tr><td>76         </td><td>1          </td><td>-0.09056477</td><td>6          </td><td> 4         </td><td>2          </td><td>0          </td><td>4          </td><td>0.3345435  </td><td>0.6485856  </td><td>-1.310927  </td><td>0.2240765  </td><td>-0.4267567 </td></tr>\n",
       "</tbody>\n",
       "</table>\n"
      ],
      "text/latex": [
       "\\begin{tabular}{r|lllllllllllll}\n",
       " schoolid & Z & Y & S3 & C1 & C2 & C3 & XC & X1 & X2 & X3 & X4 & X5\\\\\n",
       "\\hline\n",
       "\t 76          & 1           &  0.08160167 & 6           &  4          & 2           & 1           & 4           & 0.3345435   & 0.6485856   & -1.310927   & 0.2240765   & -0.4267567 \\\\\n",
       "\t 76          & 1           & -0.38586896 & 4           & 12          & 2           & 1           & 4           & 0.3345435   & 0.6485856   & -1.310927   & 0.2240765   & -0.4267567 \\\\\n",
       "\t 76          & 1           &  0.39818373 & 6           &  4          & 2           & 0           & 4           & 0.3345435   & 0.6485856   & -1.310927   & 0.2240765   & -0.4267567 \\\\\n",
       "\t 76          & 1           & -0.17503685 & 6           &  4          & 2           & 0           & 4           & 0.3345435   & 0.6485856   & -1.310927   & 0.2240765   & -0.4267567 \\\\\n",
       "\t 76          & 1           &  0.88458337 & 6           &  4          & 1           & 0           & 4           & 0.3345435   & 0.6485856   & -1.310927   & 0.2240765   & -0.4267567 \\\\\n",
       "\t 76          & 1           & -0.09056477 & 6           &  4          & 2           & 0           & 4           & 0.3345435   & 0.6485856   & -1.310927   & 0.2240765   & -0.4267567 \\\\\n",
       "\\end{tabular}\n"
      ],
      "text/markdown": [
       "\n",
       "| schoolid | Z | Y | S3 | C1 | C2 | C3 | XC | X1 | X2 | X3 | X4 | X5 |\n",
       "|---|---|---|---|---|---|---|---|---|---|---|---|---|\n",
       "| 76          | 1           |  0.08160167 | 6           |  4          | 2           | 1           | 4           | 0.3345435   | 0.6485856   | -1.310927   | 0.2240765   | -0.4267567  |\n",
       "| 76          | 1           | -0.38586896 | 4           | 12          | 2           | 1           | 4           | 0.3345435   | 0.6485856   | -1.310927   | 0.2240765   | -0.4267567  |\n",
       "| 76          | 1           |  0.39818373 | 6           |  4          | 2           | 0           | 4           | 0.3345435   | 0.6485856   | -1.310927   | 0.2240765   | -0.4267567  |\n",
       "| 76          | 1           | -0.17503685 | 6           |  4          | 2           | 0           | 4           | 0.3345435   | 0.6485856   | -1.310927   | 0.2240765   | -0.4267567  |\n",
       "| 76          | 1           |  0.88458337 | 6           |  4          | 1           | 0           | 4           | 0.3345435   | 0.6485856   | -1.310927   | 0.2240765   | -0.4267567  |\n",
       "| 76          | 1           | -0.09056477 | 6           |  4          | 2           | 0           | 4           | 0.3345435   | 0.6485856   | -1.310927   | 0.2240765   | -0.4267567  |\n",
       "\n"
      ],
      "text/plain": [
       "  schoolid Z Y           S3 C1 C2 C3 XC X1        X2        X3        X4       \n",
       "1 76       1  0.08160167 6   4 2  1  4  0.3345435 0.6485856 -1.310927 0.2240765\n",
       "2 76       1 -0.38586896 4  12 2  1  4  0.3345435 0.6485856 -1.310927 0.2240765\n",
       "3 76       1  0.39818373 6   4 2  0  4  0.3345435 0.6485856 -1.310927 0.2240765\n",
       "4 76       1 -0.17503685 6   4 2  0  4  0.3345435 0.6485856 -1.310927 0.2240765\n",
       "5 76       1  0.88458337 6   4 1  0  4  0.3345435 0.6485856 -1.310927 0.2240765\n",
       "6 76       1 -0.09056477 6   4 2  0  4  0.3345435 0.6485856 -1.310927 0.2240765\n",
       "  X5        \n",
       "1 -0.4267567\n",
       "2 -0.4267567\n",
       "3 -0.4267567\n",
       "4 -0.4267567\n",
       "5 -0.4267567\n",
       "6 -0.4267567"
      ]
     },
     "metadata": {},
     "output_type": "display_data"
    }
   ],
   "source": [
    "head(data.all)"
   ]
  },
  {
   "cell_type": "code",
   "execution_count": 66,
   "id": "61c4564f",
   "metadata": {},
   "outputs": [],
   "source": [
    "DF = data.all[,-1]\n",
    "school.id = as.numeric(data.all$schoolid)"
   ]
  },
  {
   "cell_type": "markdown",
   "id": "9dc20e48",
   "metadata": {},
   "source": [
    "## How the tree was built?\n",
    "\n",
    "The tree  first the model is defined and the data split is used. A statistic of the data is assembled and minimized.\n",
    "It begins by fitting two separate regression forests. Then, he makes out-of-the-bag predictions using these two first-stage forests, and uses them to grow a causal forest. So we train causal forests with different values of the fit parameters, and choose those that make out-of-pocket estimates of the minimized target.\n",
    "\n",
    "we start by training a pilot random forest on all the features, and then train a second forest on only those features that saw a reasonable number of splits in the first step.5 This enables the forest to make more splits on the most important features in low-signal situations. Second, we increase the samples_per_cluster parameter (called k in Section 1.2) to increase the number of samples used to grow each tree. Finally, the option tune.parameters = TRUEhastheforestcross-validatetuningparametersusingtheR-objectiverather than just setting defaults.\n",
    "\n"
   ]
  },
  {
   "cell_type": "code",
   "execution_count": 69,
   "id": "68a4948f",
   "metadata": {},
   "outputs": [],
   "source": [
    "school.mat = model.matrix(~ schoolid + 0, data = data.all)\n",
    "school.size = colSums(school.mat)"
   ]
  },
  {
   "cell_type": "code",
   "execution_count": 73,
   "id": "a8e845af",
   "metadata": {},
   "outputs": [
    {
     "data": {
      "text/html": [
       "<dl class=dl-horizontal>\n",
       "\t<dt>schoolid1</dt>\n",
       "\t\t<dd>72</dd>\n",
       "\t<dt>schoolid2</dt>\n",
       "\t\t<dd>321</dd>\n",
       "\t<dt>schoolid3</dt>\n",
       "\t\t<dd>201</dd>\n",
       "\t<dt>schoolid4</dt>\n",
       "\t\t<dd>292</dd>\n",
       "\t<dt>schoolid5</dt>\n",
       "\t\t<dd>189</dd>\n",
       "\t<dt>schoolid6</dt>\n",
       "\t\t<dd>141</dd>\n",
       "\t<dt>schoolid7</dt>\n",
       "\t\t<dd>120</dd>\n",
       "\t<dt>schoolid8</dt>\n",
       "\t\t<dd>152</dd>\n",
       "\t<dt>schoolid9</dt>\n",
       "\t\t<dd>154</dd>\n",
       "\t<dt>schoolid10</dt>\n",
       "\t\t<dd>192</dd>\n",
       "\t<dt>schoolid11</dt>\n",
       "\t\t<dd>21</dd>\n",
       "\t<dt>schoolid12</dt>\n",
       "\t\t<dd>22</dd>\n",
       "\t<dt>schoolid13</dt>\n",
       "\t\t<dd>46</dd>\n",
       "\t<dt>schoolid14</dt>\n",
       "\t\t<dd>24</dd>\n",
       "\t<dt>schoolid15</dt>\n",
       "\t\t<dd>106</dd>\n",
       "\t<dt>schoolid16</dt>\n",
       "\t\t<dd>226</dd>\n",
       "\t<dt>schoolid17</dt>\n",
       "\t\t<dd>128</dd>\n",
       "\t<dt>schoolid18</dt>\n",
       "\t\t<dd>178</dd>\n",
       "\t<dt>schoolid19</dt>\n",
       "\t\t<dd>108</dd>\n",
       "\t<dt>schoolid20</dt>\n",
       "\t\t<dd>161</dd>\n",
       "\t<dt>schoolid21</dt>\n",
       "\t\t<dd>187</dd>\n",
       "\t<dt>schoolid22</dt>\n",
       "\t\t<dd>42</dd>\n",
       "\t<dt>schoolid23</dt>\n",
       "\t\t<dd>78</dd>\n",
       "\t<dt>schoolid24</dt>\n",
       "\t\t<dd>107</dd>\n",
       "\t<dt>schoolid25</dt>\n",
       "\t\t<dd>341</dd>\n",
       "\t<dt>schoolid26</dt>\n",
       "\t\t<dd>224</dd>\n",
       "\t<dt>schoolid27</dt>\n",
       "\t\t<dd>143</dd>\n",
       "\t<dt>schoolid28</dt>\n",
       "\t\t<dd>230</dd>\n",
       "\t<dt>schoolid29</dt>\n",
       "\t\t<dd>107</dd>\n",
       "\t<dt>schoolid30</dt>\n",
       "\t\t<dd>117</dd>\n",
       "\t<dt>schoolid31</dt>\n",
       "\t\t<dd>14</dd>\n",
       "\t<dt>schoolid32</dt>\n",
       "\t\t<dd>47</dd>\n",
       "\t<dt>schoolid33</dt>\n",
       "\t\t<dd>50</dd>\n",
       "\t<dt>schoolid34</dt>\n",
       "\t\t<dd>172</dd>\n",
       "\t<dt>schoolid35</dt>\n",
       "\t\t<dd>54</dd>\n",
       "\t<dt>schoolid36</dt>\n",
       "\t\t<dd>55</dd>\n",
       "\t<dt>schoolid37</dt>\n",
       "\t\t<dd>109</dd>\n",
       "\t<dt>schoolid38</dt>\n",
       "\t\t<dd>55</dd>\n",
       "\t<dt>schoolid39</dt>\n",
       "\t\t<dd>78</dd>\n",
       "\t<dt>schoolid40</dt>\n",
       "\t\t<dd>63</dd>\n",
       "\t<dt>schoolid41</dt>\n",
       "\t\t<dd>76</dd>\n",
       "\t<dt>schoolid42</dt>\n",
       "\t\t<dd>74</dd>\n",
       "\t<dt>schoolid43</dt>\n",
       "\t\t<dd>46</dd>\n",
       "\t<dt>schoolid44</dt>\n",
       "\t\t<dd>60</dd>\n",
       "\t<dt>schoolid45</dt>\n",
       "\t\t<dd>113</dd>\n",
       "\t<dt>schoolid46</dt>\n",
       "\t\t<dd>141</dd>\n",
       "\t<dt>schoolid47</dt>\n",
       "\t\t<dd>325</dd>\n",
       "\t<dt>schoolid48</dt>\n",
       "\t\t<dd>88</dd>\n",
       "\t<dt>schoolid49</dt>\n",
       "\t\t<dd>92</dd>\n",
       "\t<dt>schoolid50</dt>\n",
       "\t\t<dd>45</dd>\n",
       "\t<dt>schoolid51</dt>\n",
       "\t\t<dd>29</dd>\n",
       "\t<dt>schoolid52</dt>\n",
       "\t\t<dd>47</dd>\n",
       "\t<dt>schoolid53</dt>\n",
       "\t\t<dd>35</dd>\n",
       "\t<dt>schoolid54</dt>\n",
       "\t\t<dd>53</dd>\n",
       "\t<dt>schoolid55</dt>\n",
       "\t\t<dd>44</dd>\n",
       "\t<dt>schoolid56</dt>\n",
       "\t\t<dd>121</dd>\n",
       "\t<dt>schoolid57</dt>\n",
       "\t\t<dd>211</dd>\n",
       "\t<dt>schoolid58</dt>\n",
       "\t\t<dd>393</dd>\n",
       "\t<dt>schoolid59</dt>\n",
       "\t\t<dd>196</dd>\n",
       "\t<dt>schoolid60</dt>\n",
       "\t\t<dd>51</dd>\n",
       "\t<dt>schoolid61</dt>\n",
       "\t\t<dd>114</dd>\n",
       "\t<dt>schoolid62</dt>\n",
       "\t\t<dd>529</dd>\n",
       "\t<dt>schoolid63</dt>\n",
       "\t\t<dd>95</dd>\n",
       "\t<dt>schoolid64</dt>\n",
       "\t\t<dd>328</dd>\n",
       "\t<dt>schoolid65</dt>\n",
       "\t\t<dd>43</dd>\n",
       "\t<dt>schoolid66</dt>\n",
       "\t\t<dd>186</dd>\n",
       "\t<dt>schoolid67</dt>\n",
       "\t\t<dd>197</dd>\n",
       "\t<dt>schoolid68</dt>\n",
       "\t\t<dd>104</dd>\n",
       "\t<dt>schoolid69</dt>\n",
       "\t\t<dd>225</dd>\n",
       "\t<dt>schoolid70</dt>\n",
       "\t\t<dd>46</dd>\n",
       "\t<dt>schoolid71</dt>\n",
       "\t\t<dd>37</dd>\n",
       "\t<dt>schoolid72</dt>\n",
       "\t\t<dd>233</dd>\n",
       "\t<dt>schoolid73</dt>\n",
       "\t\t<dd>270</dd>\n",
       "\t<dt>schoolid74</dt>\n",
       "\t\t<dd>258</dd>\n",
       "\t<dt>schoolid75</dt>\n",
       "\t\t<dd>163</dd>\n",
       "\t<dt>schoolid76</dt>\n",
       "\t\t<dd>196</dd>\n",
       "</dl>\n"
      ],
      "text/latex": [
       "\\begin{description*}\n",
       "\\item[schoolid1] 72\n",
       "\\item[schoolid2] 321\n",
       "\\item[schoolid3] 201\n",
       "\\item[schoolid4] 292\n",
       "\\item[schoolid5] 189\n",
       "\\item[schoolid6] 141\n",
       "\\item[schoolid7] 120\n",
       "\\item[schoolid8] 152\n",
       "\\item[schoolid9] 154\n",
       "\\item[schoolid10] 192\n",
       "\\item[schoolid11] 21\n",
       "\\item[schoolid12] 22\n",
       "\\item[schoolid13] 46\n",
       "\\item[schoolid14] 24\n",
       "\\item[schoolid15] 106\n",
       "\\item[schoolid16] 226\n",
       "\\item[schoolid17] 128\n",
       "\\item[schoolid18] 178\n",
       "\\item[schoolid19] 108\n",
       "\\item[schoolid20] 161\n",
       "\\item[schoolid21] 187\n",
       "\\item[schoolid22] 42\n",
       "\\item[schoolid23] 78\n",
       "\\item[schoolid24] 107\n",
       "\\item[schoolid25] 341\n",
       "\\item[schoolid26] 224\n",
       "\\item[schoolid27] 143\n",
       "\\item[schoolid28] 230\n",
       "\\item[schoolid29] 107\n",
       "\\item[schoolid30] 117\n",
       "\\item[schoolid31] 14\n",
       "\\item[schoolid32] 47\n",
       "\\item[schoolid33] 50\n",
       "\\item[schoolid34] 172\n",
       "\\item[schoolid35] 54\n",
       "\\item[schoolid36] 55\n",
       "\\item[schoolid37] 109\n",
       "\\item[schoolid38] 55\n",
       "\\item[schoolid39] 78\n",
       "\\item[schoolid40] 63\n",
       "\\item[schoolid41] 76\n",
       "\\item[schoolid42] 74\n",
       "\\item[schoolid43] 46\n",
       "\\item[schoolid44] 60\n",
       "\\item[schoolid45] 113\n",
       "\\item[schoolid46] 141\n",
       "\\item[schoolid47] 325\n",
       "\\item[schoolid48] 88\n",
       "\\item[schoolid49] 92\n",
       "\\item[schoolid50] 45\n",
       "\\item[schoolid51] 29\n",
       "\\item[schoolid52] 47\n",
       "\\item[schoolid53] 35\n",
       "\\item[schoolid54] 53\n",
       "\\item[schoolid55] 44\n",
       "\\item[schoolid56] 121\n",
       "\\item[schoolid57] 211\n",
       "\\item[schoolid58] 393\n",
       "\\item[schoolid59] 196\n",
       "\\item[schoolid60] 51\n",
       "\\item[schoolid61] 114\n",
       "\\item[schoolid62] 529\n",
       "\\item[schoolid63] 95\n",
       "\\item[schoolid64] 328\n",
       "\\item[schoolid65] 43\n",
       "\\item[schoolid66] 186\n",
       "\\item[schoolid67] 197\n",
       "\\item[schoolid68] 104\n",
       "\\item[schoolid69] 225\n",
       "\\item[schoolid70] 46\n",
       "\\item[schoolid71] 37\n",
       "\\item[schoolid72] 233\n",
       "\\item[schoolid73] 270\n",
       "\\item[schoolid74] 258\n",
       "\\item[schoolid75] 163\n",
       "\\item[schoolid76] 196\n",
       "\\end{description*}\n"
      ],
      "text/markdown": [
       "schoolid1\n",
       ":   72schoolid2\n",
       ":   321schoolid3\n",
       ":   201schoolid4\n",
       ":   292schoolid5\n",
       ":   189schoolid6\n",
       ":   141schoolid7\n",
       ":   120schoolid8\n",
       ":   152schoolid9\n",
       ":   154schoolid10\n",
       ":   192schoolid11\n",
       ":   21schoolid12\n",
       ":   22schoolid13\n",
       ":   46schoolid14\n",
       ":   24schoolid15\n",
       ":   106schoolid16\n",
       ":   226schoolid17\n",
       ":   128schoolid18\n",
       ":   178schoolid19\n",
       ":   108schoolid20\n",
       ":   161schoolid21\n",
       ":   187schoolid22\n",
       ":   42schoolid23\n",
       ":   78schoolid24\n",
       ":   107schoolid25\n",
       ":   341schoolid26\n",
       ":   224schoolid27\n",
       ":   143schoolid28\n",
       ":   230schoolid29\n",
       ":   107schoolid30\n",
       ":   117schoolid31\n",
       ":   14schoolid32\n",
       ":   47schoolid33\n",
       ":   50schoolid34\n",
       ":   172schoolid35\n",
       ":   54schoolid36\n",
       ":   55schoolid37\n",
       ":   109schoolid38\n",
       ":   55schoolid39\n",
       ":   78schoolid40\n",
       ":   63schoolid41\n",
       ":   76schoolid42\n",
       ":   74schoolid43\n",
       ":   46schoolid44\n",
       ":   60schoolid45\n",
       ":   113schoolid46\n",
       ":   141schoolid47\n",
       ":   325schoolid48\n",
       ":   88schoolid49\n",
       ":   92schoolid50\n",
       ":   45schoolid51\n",
       ":   29schoolid52\n",
       ":   47schoolid53\n",
       ":   35schoolid54\n",
       ":   53schoolid55\n",
       ":   44schoolid56\n",
       ":   121schoolid57\n",
       ":   211schoolid58\n",
       ":   393schoolid59\n",
       ":   196schoolid60\n",
       ":   51schoolid61\n",
       ":   114schoolid62\n",
       ":   529schoolid63\n",
       ":   95schoolid64\n",
       ":   328schoolid65\n",
       ":   43schoolid66\n",
       ":   186schoolid67\n",
       ":   197schoolid68\n",
       ":   104schoolid69\n",
       ":   225schoolid70\n",
       ":   46schoolid71\n",
       ":   37schoolid72\n",
       ":   233schoolid73\n",
       ":   270schoolid74\n",
       ":   258schoolid75\n",
       ":   163schoolid76\n",
       ":   196\n",
       "\n"
      ],
      "text/plain": [
       " schoolid1  schoolid2  schoolid3  schoolid4  schoolid5  schoolid6  schoolid7 \n",
       "        72        321        201        292        189        141        120 \n",
       " schoolid8  schoolid9 schoolid10 schoolid11 schoolid12 schoolid13 schoolid14 \n",
       "       152        154        192         21         22         46         24 \n",
       "schoolid15 schoolid16 schoolid17 schoolid18 schoolid19 schoolid20 schoolid21 \n",
       "       106        226        128        178        108        161        187 \n",
       "schoolid22 schoolid23 schoolid24 schoolid25 schoolid26 schoolid27 schoolid28 \n",
       "        42         78        107        341        224        143        230 \n",
       "schoolid29 schoolid30 schoolid31 schoolid32 schoolid33 schoolid34 schoolid35 \n",
       "       107        117         14         47         50        172         54 \n",
       "schoolid36 schoolid37 schoolid38 schoolid39 schoolid40 schoolid41 schoolid42 \n",
       "        55        109         55         78         63         76         74 \n",
       "schoolid43 schoolid44 schoolid45 schoolid46 schoolid47 schoolid48 schoolid49 \n",
       "        46         60        113        141        325         88         92 \n",
       "schoolid50 schoolid51 schoolid52 schoolid53 schoolid54 schoolid55 schoolid56 \n",
       "        45         29         47         35         53         44        121 \n",
       "schoolid57 schoolid58 schoolid59 schoolid60 schoolid61 schoolid62 schoolid63 \n",
       "       211        393        196         51        114        529         95 \n",
       "schoolid64 schoolid65 schoolid66 schoolid67 schoolid68 schoolid69 schoolid70 \n",
       "       328         43        186        197        104        225         46 \n",
       "schoolid71 schoolid72 schoolid73 schoolid74 schoolid75 schoolid76 \n",
       "        37        233        270        258        163        196 "
      ]
     },
     "metadata": {},
     "output_type": "display_data"
    }
   ],
   "source": [
    "schook.mat\n",
    "school.size"
   ]
  },
  {
   "cell_type": "code",
   "execution_count": 74,
   "id": "0c5a25e2",
   "metadata": {},
   "outputs": [
    {
     "data": {
      "text/plain": [
       "\n",
       "Call:\n",
       "glm(formula = Z ~ ., family = binomial, data = data.all[, -3])\n",
       "\n",
       "Deviance Residuals: \n",
       "    Min       1Q   Median       3Q      Max  \n",
       "-1.2079  -0.9088  -0.8297   1.4176   1.9556  \n",
       "\n",
       "Coefficients: (6 not defined because of singularities)\n",
       "              Estimate Std. Error z value Pr(>|z|)    \n",
       "(Intercept) -0.9524636  0.2845173  -3.348 0.000815 ***\n",
       "schoolid2    0.0697302  0.2766287   0.252 0.800986    \n",
       "schoolid3    0.0382080  0.2911323   0.131 0.895586    \n",
       "schoolid4    0.1761334  0.2784711   0.633 0.527059    \n",
       "schoolid5   -0.0033389  0.2950180  -0.011 0.990970    \n",
       "schoolid6    0.0583548  0.3067481   0.190 0.849124    \n",
       "schoolid7   -0.1313759  0.3188190  -0.412 0.680288    \n",
       "schoolid8    0.1233661  0.3023736   0.408 0.683279    \n",
       "schoolid9   -0.1955428  0.3073344  -0.636 0.524611    \n",
       "schoolid10  -0.1892794  0.2968750  -0.638 0.523752    \n",
       "schoolid11  -0.2224060  0.5461005  -0.407 0.683816    \n",
       "schoolid12  -0.3312420  0.5414374  -0.612 0.540682    \n",
       "schoolid13  -0.0408540  0.3989507  -0.102 0.918436    \n",
       "schoolid14  -0.8681934  0.6033674  -1.439 0.150175    \n",
       "schoolid15  -0.1059135  0.3263162  -0.325 0.745504    \n",
       "schoolid16  -0.1063268  0.2885387  -0.369 0.712500    \n",
       "schoolid17   0.0854323  0.3119435   0.274 0.784184    \n",
       "schoolid18  -0.1924441  0.2997822  -0.642 0.520908    \n",
       "schoolid19  -0.0265326  0.3229712  -0.082 0.934526    \n",
       "schoolid20  -0.2179554  0.3041336  -0.717 0.473594    \n",
       "schoolid21  -0.2147440  0.2982822  -0.720 0.471565    \n",
       "schoolid22  -0.5115966  0.4410779  -1.160 0.246098    \n",
       "schoolid23   0.0039231  0.3475373   0.011 0.990994    \n",
       "schoolid24  -0.0848314  0.3259572  -0.260 0.794668    \n",
       "schoolid25   0.0521087  0.2754586   0.189 0.849959    \n",
       "schoolid26   0.0241212  0.2876511   0.084 0.933171    \n",
       "schoolid27  -0.2300630  0.3104796  -0.741 0.458698    \n",
       "schoolid28  -0.3519010  0.2924774  -1.203 0.228909    \n",
       "schoolid29  -0.2198764  0.3293288  -0.668 0.504357    \n",
       "schoolid30  -0.3146292  0.3257994  -0.966 0.334187    \n",
       "schoolid31   0.1398555  0.6137901   0.228 0.819759    \n",
       "schoolid32   0.1555524  0.3916156   0.397 0.691215    \n",
       "schoolid33  -0.0991693  0.3939370  -0.252 0.801243    \n",
       "schoolid34  -0.0073688  0.2980808  -0.025 0.980278    \n",
       "schoolid35  -0.3528987  0.3997273  -0.883 0.377318    \n",
       "schoolid36  -0.3751465  0.3988972  -0.940 0.346982    \n",
       "schoolid37  -0.0343169  0.3219646  -0.107 0.915117    \n",
       "schoolid38  -0.1346432  0.3851869  -0.350 0.726674    \n",
       "schoolid39  -0.4339936  0.3612869  -1.201 0.229657    \n",
       "schoolid40  -0.3993958  0.3834495  -1.042 0.297604    \n",
       "schoolid41  -0.1490784  0.3542105  -0.421 0.673846    \n",
       "schoolid42  -0.1545715  0.3551857  -0.435 0.663428    \n",
       "schoolid43  -0.5679567  0.4277455  -1.328 0.184247    \n",
       "schoolid44  -0.1425896  0.3774795  -0.378 0.705623    \n",
       "schoolid45  -0.1337888  0.3232493  -0.414 0.678957    \n",
       "schoolid46  -0.2573249  0.3129119  -0.822 0.410874    \n",
       "schoolid47   0.0027726  0.2770108   0.010 0.992014    \n",
       "schoolid48  -0.3406079  0.3470361  -0.981 0.326358    \n",
       "schoolid49  -0.3236117  0.3434541  -0.942 0.346077    \n",
       "schoolid50  -0.1185119  0.4086074  -0.290 0.771787    \n",
       "schoolid51   0.4087898  0.4506822   0.907 0.364382    \n",
       "schoolid52  -0.3144014  0.4118342  -0.763 0.445214    \n",
       "schoolid53  -0.2733677  0.4511280  -0.606 0.544538    \n",
       "schoolid54  -0.0889588  0.3872532  -0.230 0.818311    \n",
       "schoolid55  -0.1558106  0.4155020  -0.375 0.707665    \n",
       "schoolid56   0.1050353  0.3149235   0.334 0.738737    \n",
       "schoolid57  -0.0314901  0.2901719  -0.109 0.913581    \n",
       "schoolid58  -0.0383183  0.2730077  -0.140 0.888379    \n",
       "schoolid59  -0.0529637  0.2934895  -0.180 0.856790    \n",
       "schoolid60  -0.1624792  0.3972885  -0.409 0.682561    \n",
       "schoolid61  -0.0289549  0.3201953  -0.090 0.927946    \n",
       "schoolid62   0.0993158  0.2669678   0.372 0.709882    \n",
       "schoolid63   0.1684702  0.3282167   0.513 0.607749    \n",
       "schoolid64  -0.0693060  0.2770896  -0.250 0.802493    \n",
       "schoolid65  -0.0004197  0.4072922  -0.001 0.999178    \n",
       "schoolid66  -0.2130911  0.2984091  -0.714 0.475171    \n",
       "schoolid67   0.0358440  0.2921158   0.123 0.902341    \n",
       "schoolid68  -0.0871303  0.3290814  -0.265 0.791188    \n",
       "schoolid69  -0.2550387  0.2908992  -0.877 0.380636    \n",
       "schoolid70  -0.0268947  0.4032160  -0.067 0.946820    \n",
       "schoolid71   0.0037464  0.4268290   0.009 0.992997    \n",
       "schoolid72  -0.1304085  0.2881512  -0.453 0.650859    \n",
       "schoolid73  -0.2160697  0.2840030  -0.761 0.446776    \n",
       "schoolid74  -0.0935320  0.2842612  -0.329 0.742129    \n",
       "schoolid75  -0.1056241  0.3024204  -0.349 0.726892    \n",
       "schoolid76  -0.1052261  0.2939262  -0.358 0.720342    \n",
       "S3           0.1036077  0.0197345   5.250 1.52e-07 ***\n",
       "C1          -0.0015919  0.0053900  -0.295 0.767728    \n",
       "C2          -0.1038596  0.0424020  -2.449 0.014309 *  \n",
       "C3          -0.1319218  0.0461833  -2.856 0.004284 ** \n",
       "XC                  NA         NA      NA       NA    \n",
       "X1                  NA         NA      NA       NA    \n",
       "X2                  NA         NA      NA       NA    \n",
       "X3                  NA         NA      NA       NA    \n",
       "X4                  NA         NA      NA       NA    \n",
       "X5                  NA         NA      NA       NA    \n",
       "---\n",
       "Signif. codes:  0 '***' 0.001 '**' 0.01 '*' 0.05 '.' 0.1 ' ' 1\n",
       "\n",
       "(Dispersion parameter for binomial family taken to be 1)\n",
       "\n",
       "    Null deviance: 13115  on 10390  degrees of freedom\n",
       "Residual deviance: 13009  on 10311  degrees of freedom\n",
       "AIC: 13169\n",
       "\n",
       "Number of Fisher Scoring iterations: 4\n"
      ]
     },
     "metadata": {},
     "output_type": "display_data"
    }
   ],
   "source": [
    "# It appears that school ID does not affect pscore. So ignore it\n",
    "# in modeling, and just treat it as source of per-cluster error.\n",
    "w.lm = glm(Z ~ ., data = data.all[,-3], family = binomial)\n",
    "summary(w.lm)\n"
   ]
  },
  {
   "cell_type": "code",
   "execution_count": 75,
   "id": "b4530ae9",
   "metadata": {},
   "outputs": [],
   "source": [
    "W = DF$Z\n",
    "Y = DF$Y\n",
    "X.raw = DF[,-(1:2)] #covariables"
   ]
  },
  {
   "cell_type": "code",
   "execution_count": 77,
   "id": "60584e63",
   "metadata": {},
   "outputs": [
    {
     "data": {
      "text/html": [
       "<table>\n",
       "<thead><tr><th scope=col>S3</th><th scope=col>C1</th><th scope=col>C2</th><th scope=col>C3</th><th scope=col>XC</th><th scope=col>X1</th><th scope=col>X2</th><th scope=col>X3</th><th scope=col>X4</th><th scope=col>X5</th></tr></thead>\n",
       "<tbody>\n",
       "\t<tr><td>6         </td><td> 4        </td><td>2         </td><td>1         </td><td>4         </td><td>0.3345435 </td><td>0.6485856 </td><td>-1.310927 </td><td>0.2240765 </td><td>-0.4267567</td></tr>\n",
       "\t<tr><td>4         </td><td>12        </td><td>2         </td><td>1         </td><td>4         </td><td>0.3345435 </td><td>0.6485856 </td><td>-1.310927 </td><td>0.2240765 </td><td>-0.4267567</td></tr>\n",
       "\t<tr><td>6         </td><td> 4        </td><td>2         </td><td>0         </td><td>4         </td><td>0.3345435 </td><td>0.6485856 </td><td>-1.310927 </td><td>0.2240765 </td><td>-0.4267567</td></tr>\n",
       "\t<tr><td>6         </td><td> 4        </td><td>2         </td><td>0         </td><td>4         </td><td>0.3345435 </td><td>0.6485856 </td><td>-1.310927 </td><td>0.2240765 </td><td>-0.4267567</td></tr>\n",
       "\t<tr><td>6         </td><td> 4        </td><td>1         </td><td>0         </td><td>4         </td><td>0.3345435 </td><td>0.6485856 </td><td>-1.310927 </td><td>0.2240765 </td><td>-0.4267567</td></tr>\n",
       "\t<tr><td>6         </td><td> 4        </td><td>2         </td><td>0         </td><td>4         </td><td>0.3345435 </td><td>0.6485856 </td><td>-1.310927 </td><td>0.2240765 </td><td>-0.4267567</td></tr>\n",
       "\t<tr><td>6         </td><td> 4        </td><td>1         </td><td>0         </td><td>4         </td><td>0.3345435 </td><td>0.6485856 </td><td>-1.310927 </td><td>0.2240765 </td><td>-0.4267567</td></tr>\n",
       "\t<tr><td>6         </td><td> 4        </td><td>1         </td><td>0         </td><td>4         </td><td>0.3345435 </td><td>0.6485856 </td><td>-1.310927 </td><td>0.2240765 </td><td>-0.4267567</td></tr>\n",
       "\t<tr><td>6         </td><td> 5        </td><td>2         </td><td>0         </td><td>4         </td><td>0.3345435 </td><td>0.6485856 </td><td>-1.310927 </td><td>0.2240765 </td><td>-0.4267567</td></tr>\n",
       "\t<tr><td>6         </td><td> 4        </td><td>1         </td><td>1         </td><td>4         </td><td>0.3345435 </td><td>0.6485856 </td><td>-1.310927 </td><td>0.2240765 </td><td>-0.4267567</td></tr>\n",
       "\t<tr><td>6         </td><td> 5        </td><td>2         </td><td>0         </td><td>4         </td><td>0.3345435 </td><td>0.6485856 </td><td>-1.310927 </td><td>0.2240765 </td><td>-0.4267567</td></tr>\n",
       "\t<tr><td>4         </td><td> 4        </td><td>2         </td><td>0         </td><td>4         </td><td>0.3345435 </td><td>0.6485856 </td><td>-1.310927 </td><td>0.2240765 </td><td>-0.4267567</td></tr>\n",
       "\t<tr><td>6         </td><td> 4        </td><td>1         </td><td>1         </td><td>4         </td><td>0.3345435 </td><td>0.6485856 </td><td>-1.310927 </td><td>0.2240765 </td><td>-0.4267567</td></tr>\n",
       "\t<tr><td>6         </td><td> 4        </td><td>1         </td><td>0         </td><td>4         </td><td>0.3345435 </td><td>0.6485856 </td><td>-1.310927 </td><td>0.2240765 </td><td>-0.4267567</td></tr>\n",
       "\t<tr><td>6         </td><td> 4        </td><td>2         </td><td>0         </td><td>4         </td><td>0.3345435 </td><td>0.6485856 </td><td>-1.310927 </td><td>0.2240765 </td><td>-0.4267567</td></tr>\n",
       "\t<tr><td>6         </td><td> 1        </td><td>1         </td><td>0         </td><td>4         </td><td>0.3345435 </td><td>0.6485856 </td><td>-1.310927 </td><td>0.2240765 </td><td>-0.4267567</td></tr>\n",
       "\t<tr><td>4         </td><td> 4        </td><td>1         </td><td>0         </td><td>4         </td><td>0.3345435 </td><td>0.6485856 </td><td>-1.310927 </td><td>0.2240765 </td><td>-0.4267567</td></tr>\n",
       "\t<tr><td>6         </td><td> 4        </td><td>1         </td><td>1         </td><td>4         </td><td>0.3345435 </td><td>0.6485856 </td><td>-1.310927 </td><td>0.2240765 </td><td>-0.4267567</td></tr>\n",
       "\t<tr><td>6         </td><td> 4        </td><td>1         </td><td>1         </td><td>4         </td><td>0.3345435 </td><td>0.6485856 </td><td>-1.310927 </td><td>0.2240765 </td><td>-0.4267567</td></tr>\n",
       "\t<tr><td>6         </td><td> 4        </td><td>1         </td><td>0         </td><td>4         </td><td>0.3345435 </td><td>0.6485856 </td><td>-1.310927 </td><td>0.2240765 </td><td>-0.4267567</td></tr>\n",
       "\t<tr><td>7         </td><td> 5        </td><td>1         </td><td>0         </td><td>4         </td><td>0.3345435 </td><td>0.6485856 </td><td>-1.310927 </td><td>0.2240765 </td><td>-0.4267567</td></tr>\n",
       "\t<tr><td>5         </td><td> 4        </td><td>1         </td><td>1         </td><td>4         </td><td>0.3345435 </td><td>0.6485856 </td><td>-1.310927 </td><td>0.2240765 </td><td>-0.4267567</td></tr>\n",
       "\t<tr><td>5         </td><td> 4        </td><td>1         </td><td>1         </td><td>4         </td><td>0.3345435 </td><td>0.6485856 </td><td>-1.310927 </td><td>0.2240765 </td><td>-0.4267567</td></tr>\n",
       "\t<tr><td>5         </td><td> 4        </td><td>2         </td><td>0         </td><td>4         </td><td>0.3345435 </td><td>0.6485856 </td><td>-1.310927 </td><td>0.2240765 </td><td>-0.4267567</td></tr>\n",
       "\t<tr><td>6         </td><td> 4        </td><td>1         </td><td>0         </td><td>4         </td><td>0.3345435 </td><td>0.6485856 </td><td>-1.310927 </td><td>0.2240765 </td><td>-0.4267567</td></tr>\n",
       "\t<tr><td>6         </td><td> 4        </td><td>2         </td><td>1         </td><td>4         </td><td>0.3345435 </td><td>0.6485856 </td><td>-1.310927 </td><td>0.2240765 </td><td>-0.4267567</td></tr>\n",
       "\t<tr><td>6         </td><td> 4        </td><td>1         </td><td>0         </td><td>4         </td><td>0.3345435 </td><td>0.6485856 </td><td>-1.310927 </td><td>0.2240765 </td><td>-0.4267567</td></tr>\n",
       "\t<tr><td>6         </td><td>12        </td><td>1         </td><td>1         </td><td>4         </td><td>0.3345435 </td><td>0.6485856 </td><td>-1.310927 </td><td>0.2240765 </td><td>-0.4267567</td></tr>\n",
       "\t<tr><td>6         </td><td> 4        </td><td>1         </td><td>0         </td><td>4         </td><td>0.3345435 </td><td>0.6485856 </td><td>-1.310927 </td><td>0.2240765 </td><td>-0.4267567</td></tr>\n",
       "\t<tr><td>5         </td><td> 4        </td><td>1         </td><td>0         </td><td>4         </td><td>0.3345435 </td><td>0.6485856 </td><td>-1.310927 </td><td>0.2240765 </td><td>-0.4267567</td></tr>\n",
       "\t<tr><td>...</td><td>...</td><td>...</td><td>...</td><td>...</td><td>...</td><td>...</td><td>...</td><td>...</td><td>...</td></tr>\n",
       "\t<tr><td>6        </td><td> 3       </td><td>1        </td><td>0        </td><td>3        </td><td>1.185986 </td><td>-1.129889</td><td>1.009875 </td><td>1.005063 </td><td>-1.174702</td></tr>\n",
       "\t<tr><td>5        </td><td>14       </td><td>1        </td><td>1        </td><td>3        </td><td>1.185986 </td><td>-1.129889</td><td>1.009875 </td><td>1.005063 </td><td>-1.174702</td></tr>\n",
       "\t<tr><td>3        </td><td> 3       </td><td>2        </td><td>0        </td><td>3        </td><td>1.185986 </td><td>-1.129889</td><td>1.009875 </td><td>1.005063 </td><td>-1.174702</td></tr>\n",
       "\t<tr><td>5        </td><td> 3       </td><td>1        </td><td>0        </td><td>3        </td><td>1.185986 </td><td>-1.129889</td><td>1.009875 </td><td>1.005063 </td><td>-1.174702</td></tr>\n",
       "\t<tr><td>6        </td><td> 4       </td><td>1        </td><td>0        </td><td>3        </td><td>1.185986 </td><td>-1.129889</td><td>1.009875 </td><td>1.005063 </td><td>-1.174702</td></tr>\n",
       "\t<tr><td>3        </td><td>14       </td><td>2        </td><td>1        </td><td>3        </td><td>1.185986 </td><td>-1.129889</td><td>1.009875 </td><td>1.005063 </td><td>-1.174702</td></tr>\n",
       "\t<tr><td>4        </td><td> 2       </td><td>1        </td><td>1        </td><td>3        </td><td>1.185986 </td><td>-1.129889</td><td>1.009875 </td><td>1.005063 </td><td>-1.174702</td></tr>\n",
       "\t<tr><td>2        </td><td> 3       </td><td>2        </td><td>1        </td><td>3        </td><td>1.185986 </td><td>-1.129889</td><td>1.009875 </td><td>1.005063 </td><td>-1.174702</td></tr>\n",
       "\t<tr><td>6        </td><td> 2       </td><td>2        </td><td>1        </td><td>3        </td><td>1.185986 </td><td>-1.129889</td><td>1.009875 </td><td>1.005063 </td><td>-1.174702</td></tr>\n",
       "\t<tr><td>5        </td><td> 2       </td><td>2        </td><td>1        </td><td>3        </td><td>1.185986 </td><td>-1.129889</td><td>1.009875 </td><td>1.005063 </td><td>-1.174702</td></tr>\n",
       "\t<tr><td>4        </td><td> 3       </td><td>1        </td><td>1        </td><td>3        </td><td>1.185986 </td><td>-1.129889</td><td>1.009875 </td><td>1.005063 </td><td>-1.174702</td></tr>\n",
       "\t<tr><td>6        </td><td> 3       </td><td>1        </td><td>0        </td><td>3        </td><td>1.185986 </td><td>-1.129889</td><td>1.009875 </td><td>1.005063 </td><td>-1.174702</td></tr>\n",
       "\t<tr><td>6        </td><td>14       </td><td>1        </td><td>1        </td><td>3        </td><td>1.185986 </td><td>-1.129889</td><td>1.009875 </td><td>1.005063 </td><td>-1.174702</td></tr>\n",
       "\t<tr><td>5        </td><td> 3       </td><td>2        </td><td>1        </td><td>3        </td><td>1.185986 </td><td>-1.129889</td><td>1.009875 </td><td>1.005063 </td><td>-1.174702</td></tr>\n",
       "\t<tr><td>5        </td><td> 3       </td><td>1        </td><td>1        </td><td>3        </td><td>1.185986 </td><td>-1.129889</td><td>1.009875 </td><td>1.005063 </td><td>-1.174702</td></tr>\n",
       "\t<tr><td>3        </td><td> 4       </td><td>2        </td><td>1        </td><td>3        </td><td>1.185986 </td><td>-1.129889</td><td>1.009875 </td><td>1.005063 </td><td>-1.174702</td></tr>\n",
       "\t<tr><td>6        </td><td> 4       </td><td>1        </td><td>1        </td><td>3        </td><td>1.185986 </td><td>-1.129889</td><td>1.009875 </td><td>1.005063 </td><td>-1.174702</td></tr>\n",
       "\t<tr><td>6        </td><td> 4       </td><td>2        </td><td>1        </td><td>3        </td><td>1.185986 </td><td>-1.129889</td><td>1.009875 </td><td>1.005063 </td><td>-1.174702</td></tr>\n",
       "\t<tr><td>3        </td><td> 2       </td><td>2        </td><td>1        </td><td>3        </td><td>1.185986 </td><td>-1.129889</td><td>1.009875 </td><td>1.005063 </td><td>-1.174702</td></tr>\n",
       "\t<tr><td>3        </td><td> 4       </td><td>2        </td><td>1        </td><td>3        </td><td>1.185986 </td><td>-1.129889</td><td>1.009875 </td><td>1.005063 </td><td>-1.174702</td></tr>\n",
       "\t<tr><td>5        </td><td> 2       </td><td>2        </td><td>1        </td><td>3        </td><td>1.185986 </td><td>-1.129889</td><td>1.009875 </td><td>1.005063 </td><td>-1.174702</td></tr>\n",
       "\t<tr><td>5        </td><td>14       </td><td>1        </td><td>1        </td><td>3        </td><td>1.185986 </td><td>-1.129889</td><td>1.009875 </td><td>1.005063 </td><td>-1.174702</td></tr>\n",
       "\t<tr><td>5        </td><td> 4       </td><td>1        </td><td>1        </td><td>3        </td><td>1.185986 </td><td>-1.129889</td><td>1.009875 </td><td>1.005063 </td><td>-1.174702</td></tr>\n",
       "\t<tr><td>5        </td><td> 4       </td><td>1        </td><td>1        </td><td>3        </td><td>1.185986 </td><td>-1.129889</td><td>1.009875 </td><td>1.005063 </td><td>-1.174702</td></tr>\n",
       "\t<tr><td>5        </td><td> 4       </td><td>2        </td><td>0        </td><td>3        </td><td>1.185986 </td><td>-1.129889</td><td>1.009875 </td><td>1.005063 </td><td>-1.174702</td></tr>\n",
       "\t<tr><td>7        </td><td> 4       </td><td>2        </td><td>1        </td><td>3        </td><td>1.185986 </td><td>-1.129889</td><td>1.009875 </td><td>1.005063 </td><td>-1.174702</td></tr>\n",
       "\t<tr><td>7        </td><td> 4       </td><td>2        </td><td>1        </td><td>3        </td><td>1.185986 </td><td>-1.129889</td><td>1.009875 </td><td>1.005063 </td><td>-1.174702</td></tr>\n",
       "\t<tr><td>2        </td><td>15       </td><td>1        </td><td>1        </td><td>3        </td><td>1.185986 </td><td>-1.129889</td><td>1.009875 </td><td>1.005063 </td><td>-1.174702</td></tr>\n",
       "\t<tr><td>5        </td><td> 4       </td><td>1        </td><td>1        </td><td>3        </td><td>1.185986 </td><td>-1.129889</td><td>1.009875 </td><td>1.005063 </td><td>-1.174702</td></tr>\n",
       "\t<tr><td>5        </td><td> 1       </td><td>2        </td><td>1        </td><td>3        </td><td>1.185986 </td><td>-1.129889</td><td>1.009875 </td><td>1.005063 </td><td>-1.174702</td></tr>\n",
       "</tbody>\n",
       "</table>\n"
      ],
      "text/latex": [
       "\\begin{tabular}{r|llllllllll}\n",
       " S3 & C1 & C2 & C3 & XC & X1 & X2 & X3 & X4 & X5\\\\\n",
       "\\hline\n",
       "\t 6          &  4         & 2          & 1          & 4          & 0.3345435  & 0.6485856  & -1.310927  & 0.2240765  & -0.4267567\\\\\n",
       "\t 4          & 12         & 2          & 1          & 4          & 0.3345435  & 0.6485856  & -1.310927  & 0.2240765  & -0.4267567\\\\\n",
       "\t 6          &  4         & 2          & 0          & 4          & 0.3345435  & 0.6485856  & -1.310927  & 0.2240765  & -0.4267567\\\\\n",
       "\t 6          &  4         & 2          & 0          & 4          & 0.3345435  & 0.6485856  & -1.310927  & 0.2240765  & -0.4267567\\\\\n",
       "\t 6          &  4         & 1          & 0          & 4          & 0.3345435  & 0.6485856  & -1.310927  & 0.2240765  & -0.4267567\\\\\n",
       "\t 6          &  4         & 2          & 0          & 4          & 0.3345435  & 0.6485856  & -1.310927  & 0.2240765  & -0.4267567\\\\\n",
       "\t 6          &  4         & 1          & 0          & 4          & 0.3345435  & 0.6485856  & -1.310927  & 0.2240765  & -0.4267567\\\\\n",
       "\t 6          &  4         & 1          & 0          & 4          & 0.3345435  & 0.6485856  & -1.310927  & 0.2240765  & -0.4267567\\\\\n",
       "\t 6          &  5         & 2          & 0          & 4          & 0.3345435  & 0.6485856  & -1.310927  & 0.2240765  & -0.4267567\\\\\n",
       "\t 6          &  4         & 1          & 1          & 4          & 0.3345435  & 0.6485856  & -1.310927  & 0.2240765  & -0.4267567\\\\\n",
       "\t 6          &  5         & 2          & 0          & 4          & 0.3345435  & 0.6485856  & -1.310927  & 0.2240765  & -0.4267567\\\\\n",
       "\t 4          &  4         & 2          & 0          & 4          & 0.3345435  & 0.6485856  & -1.310927  & 0.2240765  & -0.4267567\\\\\n",
       "\t 6          &  4         & 1          & 1          & 4          & 0.3345435  & 0.6485856  & -1.310927  & 0.2240765  & -0.4267567\\\\\n",
       "\t 6          &  4         & 1          & 0          & 4          & 0.3345435  & 0.6485856  & -1.310927  & 0.2240765  & -0.4267567\\\\\n",
       "\t 6          &  4         & 2          & 0          & 4          & 0.3345435  & 0.6485856  & -1.310927  & 0.2240765  & -0.4267567\\\\\n",
       "\t 6          &  1         & 1          & 0          & 4          & 0.3345435  & 0.6485856  & -1.310927  & 0.2240765  & -0.4267567\\\\\n",
       "\t 4          &  4         & 1          & 0          & 4          & 0.3345435  & 0.6485856  & -1.310927  & 0.2240765  & -0.4267567\\\\\n",
       "\t 6          &  4         & 1          & 1          & 4          & 0.3345435  & 0.6485856  & -1.310927  & 0.2240765  & -0.4267567\\\\\n",
       "\t 6          &  4         & 1          & 1          & 4          & 0.3345435  & 0.6485856  & -1.310927  & 0.2240765  & -0.4267567\\\\\n",
       "\t 6          &  4         & 1          & 0          & 4          & 0.3345435  & 0.6485856  & -1.310927  & 0.2240765  & -0.4267567\\\\\n",
       "\t 7          &  5         & 1          & 0          & 4          & 0.3345435  & 0.6485856  & -1.310927  & 0.2240765  & -0.4267567\\\\\n",
       "\t 5          &  4         & 1          & 1          & 4          & 0.3345435  & 0.6485856  & -1.310927  & 0.2240765  & -0.4267567\\\\\n",
       "\t 5          &  4         & 1          & 1          & 4          & 0.3345435  & 0.6485856  & -1.310927  & 0.2240765  & -0.4267567\\\\\n",
       "\t 5          &  4         & 2          & 0          & 4          & 0.3345435  & 0.6485856  & -1.310927  & 0.2240765  & -0.4267567\\\\\n",
       "\t 6          &  4         & 1          & 0          & 4          & 0.3345435  & 0.6485856  & -1.310927  & 0.2240765  & -0.4267567\\\\\n",
       "\t 6          &  4         & 2          & 1          & 4          & 0.3345435  & 0.6485856  & -1.310927  & 0.2240765  & -0.4267567\\\\\n",
       "\t 6          &  4         & 1          & 0          & 4          & 0.3345435  & 0.6485856  & -1.310927  & 0.2240765  & -0.4267567\\\\\n",
       "\t 6          & 12         & 1          & 1          & 4          & 0.3345435  & 0.6485856  & -1.310927  & 0.2240765  & -0.4267567\\\\\n",
       "\t 6          &  4         & 1          & 0          & 4          & 0.3345435  & 0.6485856  & -1.310927  & 0.2240765  & -0.4267567\\\\\n",
       "\t 5          &  4         & 1          & 0          & 4          & 0.3345435  & 0.6485856  & -1.310927  & 0.2240765  & -0.4267567\\\\\n",
       "\t ... & ... & ... & ... & ... & ... & ... & ... & ... & ...\\\\\n",
       "\t 6         &  3        & 1         & 0         & 3         & 1.185986  & -1.129889 & 1.009875  & 1.005063  & -1.174702\\\\\n",
       "\t 5         & 14        & 1         & 1         & 3         & 1.185986  & -1.129889 & 1.009875  & 1.005063  & -1.174702\\\\\n",
       "\t 3         &  3        & 2         & 0         & 3         & 1.185986  & -1.129889 & 1.009875  & 1.005063  & -1.174702\\\\\n",
       "\t 5         &  3        & 1         & 0         & 3         & 1.185986  & -1.129889 & 1.009875  & 1.005063  & -1.174702\\\\\n",
       "\t 6         &  4        & 1         & 0         & 3         & 1.185986  & -1.129889 & 1.009875  & 1.005063  & -1.174702\\\\\n",
       "\t 3         & 14        & 2         & 1         & 3         & 1.185986  & -1.129889 & 1.009875  & 1.005063  & -1.174702\\\\\n",
       "\t 4         &  2        & 1         & 1         & 3         & 1.185986  & -1.129889 & 1.009875  & 1.005063  & -1.174702\\\\\n",
       "\t 2         &  3        & 2         & 1         & 3         & 1.185986  & -1.129889 & 1.009875  & 1.005063  & -1.174702\\\\\n",
       "\t 6         &  2        & 2         & 1         & 3         & 1.185986  & -1.129889 & 1.009875  & 1.005063  & -1.174702\\\\\n",
       "\t 5         &  2        & 2         & 1         & 3         & 1.185986  & -1.129889 & 1.009875  & 1.005063  & -1.174702\\\\\n",
       "\t 4         &  3        & 1         & 1         & 3         & 1.185986  & -1.129889 & 1.009875  & 1.005063  & -1.174702\\\\\n",
       "\t 6         &  3        & 1         & 0         & 3         & 1.185986  & -1.129889 & 1.009875  & 1.005063  & -1.174702\\\\\n",
       "\t 6         & 14        & 1         & 1         & 3         & 1.185986  & -1.129889 & 1.009875  & 1.005063  & -1.174702\\\\\n",
       "\t 5         &  3        & 2         & 1         & 3         & 1.185986  & -1.129889 & 1.009875  & 1.005063  & -1.174702\\\\\n",
       "\t 5         &  3        & 1         & 1         & 3         & 1.185986  & -1.129889 & 1.009875  & 1.005063  & -1.174702\\\\\n",
       "\t 3         &  4        & 2         & 1         & 3         & 1.185986  & -1.129889 & 1.009875  & 1.005063  & -1.174702\\\\\n",
       "\t 6         &  4        & 1         & 1         & 3         & 1.185986  & -1.129889 & 1.009875  & 1.005063  & -1.174702\\\\\n",
       "\t 6         &  4        & 2         & 1         & 3         & 1.185986  & -1.129889 & 1.009875  & 1.005063  & -1.174702\\\\\n",
       "\t 3         &  2        & 2         & 1         & 3         & 1.185986  & -1.129889 & 1.009875  & 1.005063  & -1.174702\\\\\n",
       "\t 3         &  4        & 2         & 1         & 3         & 1.185986  & -1.129889 & 1.009875  & 1.005063  & -1.174702\\\\\n",
       "\t 5         &  2        & 2         & 1         & 3         & 1.185986  & -1.129889 & 1.009875  & 1.005063  & -1.174702\\\\\n",
       "\t 5         & 14        & 1         & 1         & 3         & 1.185986  & -1.129889 & 1.009875  & 1.005063  & -1.174702\\\\\n",
       "\t 5         &  4        & 1         & 1         & 3         & 1.185986  & -1.129889 & 1.009875  & 1.005063  & -1.174702\\\\\n",
       "\t 5         &  4        & 1         & 1         & 3         & 1.185986  & -1.129889 & 1.009875  & 1.005063  & -1.174702\\\\\n",
       "\t 5         &  4        & 2         & 0         & 3         & 1.185986  & -1.129889 & 1.009875  & 1.005063  & -1.174702\\\\\n",
       "\t 7         &  4        & 2         & 1         & 3         & 1.185986  & -1.129889 & 1.009875  & 1.005063  & -1.174702\\\\\n",
       "\t 7         &  4        & 2         & 1         & 3         & 1.185986  & -1.129889 & 1.009875  & 1.005063  & -1.174702\\\\\n",
       "\t 2         & 15        & 1         & 1         & 3         & 1.185986  & -1.129889 & 1.009875  & 1.005063  & -1.174702\\\\\n",
       "\t 5         &  4        & 1         & 1         & 3         & 1.185986  & -1.129889 & 1.009875  & 1.005063  & -1.174702\\\\\n",
       "\t 5         &  1        & 2         & 1         & 3         & 1.185986  & -1.129889 & 1.009875  & 1.005063  & -1.174702\\\\\n",
       "\\end{tabular}\n"
      ],
      "text/markdown": [
       "\n",
       "| S3 | C1 | C2 | C3 | XC | X1 | X2 | X3 | X4 | X5 |\n",
       "|---|---|---|---|---|---|---|---|---|---|\n",
       "| 6          |  4         | 2          | 1          | 4          | 0.3345435  | 0.6485856  | -1.310927  | 0.2240765  | -0.4267567 |\n",
       "| 4          | 12         | 2          | 1          | 4          | 0.3345435  | 0.6485856  | -1.310927  | 0.2240765  | -0.4267567 |\n",
       "| 6          |  4         | 2          | 0          | 4          | 0.3345435  | 0.6485856  | -1.310927  | 0.2240765  | -0.4267567 |\n",
       "| 6          |  4         | 2          | 0          | 4          | 0.3345435  | 0.6485856  | -1.310927  | 0.2240765  | -0.4267567 |\n",
       "| 6          |  4         | 1          | 0          | 4          | 0.3345435  | 0.6485856  | -1.310927  | 0.2240765  | -0.4267567 |\n",
       "| 6          |  4         | 2          | 0          | 4          | 0.3345435  | 0.6485856  | -1.310927  | 0.2240765  | -0.4267567 |\n",
       "| 6          |  4         | 1          | 0          | 4          | 0.3345435  | 0.6485856  | -1.310927  | 0.2240765  | -0.4267567 |\n",
       "| 6          |  4         | 1          | 0          | 4          | 0.3345435  | 0.6485856  | -1.310927  | 0.2240765  | -0.4267567 |\n",
       "| 6          |  5         | 2          | 0          | 4          | 0.3345435  | 0.6485856  | -1.310927  | 0.2240765  | -0.4267567 |\n",
       "| 6          |  4         | 1          | 1          | 4          | 0.3345435  | 0.6485856  | -1.310927  | 0.2240765  | -0.4267567 |\n",
       "| 6          |  5         | 2          | 0          | 4          | 0.3345435  | 0.6485856  | -1.310927  | 0.2240765  | -0.4267567 |\n",
       "| 4          |  4         | 2          | 0          | 4          | 0.3345435  | 0.6485856  | -1.310927  | 0.2240765  | -0.4267567 |\n",
       "| 6          |  4         | 1          | 1          | 4          | 0.3345435  | 0.6485856  | -1.310927  | 0.2240765  | -0.4267567 |\n",
       "| 6          |  4         | 1          | 0          | 4          | 0.3345435  | 0.6485856  | -1.310927  | 0.2240765  | -0.4267567 |\n",
       "| 6          |  4         | 2          | 0          | 4          | 0.3345435  | 0.6485856  | -1.310927  | 0.2240765  | -0.4267567 |\n",
       "| 6          |  1         | 1          | 0          | 4          | 0.3345435  | 0.6485856  | -1.310927  | 0.2240765  | -0.4267567 |\n",
       "| 4          |  4         | 1          | 0          | 4          | 0.3345435  | 0.6485856  | -1.310927  | 0.2240765  | -0.4267567 |\n",
       "| 6          |  4         | 1          | 1          | 4          | 0.3345435  | 0.6485856  | -1.310927  | 0.2240765  | -0.4267567 |\n",
       "| 6          |  4         | 1          | 1          | 4          | 0.3345435  | 0.6485856  | -1.310927  | 0.2240765  | -0.4267567 |\n",
       "| 6          |  4         | 1          | 0          | 4          | 0.3345435  | 0.6485856  | -1.310927  | 0.2240765  | -0.4267567 |\n",
       "| 7          |  5         | 1          | 0          | 4          | 0.3345435  | 0.6485856  | -1.310927  | 0.2240765  | -0.4267567 |\n",
       "| 5          |  4         | 1          | 1          | 4          | 0.3345435  | 0.6485856  | -1.310927  | 0.2240765  | -0.4267567 |\n",
       "| 5          |  4         | 1          | 1          | 4          | 0.3345435  | 0.6485856  | -1.310927  | 0.2240765  | -0.4267567 |\n",
       "| 5          |  4         | 2          | 0          | 4          | 0.3345435  | 0.6485856  | -1.310927  | 0.2240765  | -0.4267567 |\n",
       "| 6          |  4         | 1          | 0          | 4          | 0.3345435  | 0.6485856  | -1.310927  | 0.2240765  | -0.4267567 |\n",
       "| 6          |  4         | 2          | 1          | 4          | 0.3345435  | 0.6485856  | -1.310927  | 0.2240765  | -0.4267567 |\n",
       "| 6          |  4         | 1          | 0          | 4          | 0.3345435  | 0.6485856  | -1.310927  | 0.2240765  | -0.4267567 |\n",
       "| 6          | 12         | 1          | 1          | 4          | 0.3345435  | 0.6485856  | -1.310927  | 0.2240765  | -0.4267567 |\n",
       "| 6          |  4         | 1          | 0          | 4          | 0.3345435  | 0.6485856  | -1.310927  | 0.2240765  | -0.4267567 |\n",
       "| 5          |  4         | 1          | 0          | 4          | 0.3345435  | 0.6485856  | -1.310927  | 0.2240765  | -0.4267567 |\n",
       "| ... | ... | ... | ... | ... | ... | ... | ... | ... | ... |\n",
       "| 6         |  3        | 1         | 0         | 3         | 1.185986  | -1.129889 | 1.009875  | 1.005063  | -1.174702 |\n",
       "| 5         | 14        | 1         | 1         | 3         | 1.185986  | -1.129889 | 1.009875  | 1.005063  | -1.174702 |\n",
       "| 3         |  3        | 2         | 0         | 3         | 1.185986  | -1.129889 | 1.009875  | 1.005063  | -1.174702 |\n",
       "| 5         |  3        | 1         | 0         | 3         | 1.185986  | -1.129889 | 1.009875  | 1.005063  | -1.174702 |\n",
       "| 6         |  4        | 1         | 0         | 3         | 1.185986  | -1.129889 | 1.009875  | 1.005063  | -1.174702 |\n",
       "| 3         | 14        | 2         | 1         | 3         | 1.185986  | -1.129889 | 1.009875  | 1.005063  | -1.174702 |\n",
       "| 4         |  2        | 1         | 1         | 3         | 1.185986  | -1.129889 | 1.009875  | 1.005063  | -1.174702 |\n",
       "| 2         |  3        | 2         | 1         | 3         | 1.185986  | -1.129889 | 1.009875  | 1.005063  | -1.174702 |\n",
       "| 6         |  2        | 2         | 1         | 3         | 1.185986  | -1.129889 | 1.009875  | 1.005063  | -1.174702 |\n",
       "| 5         |  2        | 2         | 1         | 3         | 1.185986  | -1.129889 | 1.009875  | 1.005063  | -1.174702 |\n",
       "| 4         |  3        | 1         | 1         | 3         | 1.185986  | -1.129889 | 1.009875  | 1.005063  | -1.174702 |\n",
       "| 6         |  3        | 1         | 0         | 3         | 1.185986  | -1.129889 | 1.009875  | 1.005063  | -1.174702 |\n",
       "| 6         | 14        | 1         | 1         | 3         | 1.185986  | -1.129889 | 1.009875  | 1.005063  | -1.174702 |\n",
       "| 5         |  3        | 2         | 1         | 3         | 1.185986  | -1.129889 | 1.009875  | 1.005063  | -1.174702 |\n",
       "| 5         |  3        | 1         | 1         | 3         | 1.185986  | -1.129889 | 1.009875  | 1.005063  | -1.174702 |\n",
       "| 3         |  4        | 2         | 1         | 3         | 1.185986  | -1.129889 | 1.009875  | 1.005063  | -1.174702 |\n",
       "| 6         |  4        | 1         | 1         | 3         | 1.185986  | -1.129889 | 1.009875  | 1.005063  | -1.174702 |\n",
       "| 6         |  4        | 2         | 1         | 3         | 1.185986  | -1.129889 | 1.009875  | 1.005063  | -1.174702 |\n",
       "| 3         |  2        | 2         | 1         | 3         | 1.185986  | -1.129889 | 1.009875  | 1.005063  | -1.174702 |\n",
       "| 3         |  4        | 2         | 1         | 3         | 1.185986  | -1.129889 | 1.009875  | 1.005063  | -1.174702 |\n",
       "| 5         |  2        | 2         | 1         | 3         | 1.185986  | -1.129889 | 1.009875  | 1.005063  | -1.174702 |\n",
       "| 5         | 14        | 1         | 1         | 3         | 1.185986  | -1.129889 | 1.009875  | 1.005063  | -1.174702 |\n",
       "| 5         |  4        | 1         | 1         | 3         | 1.185986  | -1.129889 | 1.009875  | 1.005063  | -1.174702 |\n",
       "| 5         |  4        | 1         | 1         | 3         | 1.185986  | -1.129889 | 1.009875  | 1.005063  | -1.174702 |\n",
       "| 5         |  4        | 2         | 0         | 3         | 1.185986  | -1.129889 | 1.009875  | 1.005063  | -1.174702 |\n",
       "| 7         |  4        | 2         | 1         | 3         | 1.185986  | -1.129889 | 1.009875  | 1.005063  | -1.174702 |\n",
       "| 7         |  4        | 2         | 1         | 3         | 1.185986  | -1.129889 | 1.009875  | 1.005063  | -1.174702 |\n",
       "| 2         | 15        | 1         | 1         | 3         | 1.185986  | -1.129889 | 1.009875  | 1.005063  | -1.174702 |\n",
       "| 5         |  4        | 1         | 1         | 3         | 1.185986  | -1.129889 | 1.009875  | 1.005063  | -1.174702 |\n",
       "| 5         |  1        | 2         | 1         | 3         | 1.185986  | -1.129889 | 1.009875  | 1.005063  | -1.174702 |\n",
       "\n"
      ],
      "text/plain": [
       "      S3  C1  C2  C3  XC  X1        X2        X3        X4        X5        \n",
       "1     6    4  2   1   4   0.3345435 0.6485856 -1.310927 0.2240765 -0.4267567\n",
       "2     4   12  2   1   4   0.3345435 0.6485856 -1.310927 0.2240765 -0.4267567\n",
       "3     6    4  2   0   4   0.3345435 0.6485856 -1.310927 0.2240765 -0.4267567\n",
       "4     6    4  2   0   4   0.3345435 0.6485856 -1.310927 0.2240765 -0.4267567\n",
       "5     6    4  1   0   4   0.3345435 0.6485856 -1.310927 0.2240765 -0.4267567\n",
       "6     6    4  2   0   4   0.3345435 0.6485856 -1.310927 0.2240765 -0.4267567\n",
       "7     6    4  1   0   4   0.3345435 0.6485856 -1.310927 0.2240765 -0.4267567\n",
       "8     6    4  1   0   4   0.3345435 0.6485856 -1.310927 0.2240765 -0.4267567\n",
       "9     6    5  2   0   4   0.3345435 0.6485856 -1.310927 0.2240765 -0.4267567\n",
       "10    6    4  1   1   4   0.3345435 0.6485856 -1.310927 0.2240765 -0.4267567\n",
       "11    6    5  2   0   4   0.3345435 0.6485856 -1.310927 0.2240765 -0.4267567\n",
       "12    4    4  2   0   4   0.3345435 0.6485856 -1.310927 0.2240765 -0.4267567\n",
       "13    6    4  1   1   4   0.3345435 0.6485856 -1.310927 0.2240765 -0.4267567\n",
       "14    6    4  1   0   4   0.3345435 0.6485856 -1.310927 0.2240765 -0.4267567\n",
       "15    6    4  2   0   4   0.3345435 0.6485856 -1.310927 0.2240765 -0.4267567\n",
       "16    6    1  1   0   4   0.3345435 0.6485856 -1.310927 0.2240765 -0.4267567\n",
       "17    4    4  1   0   4   0.3345435 0.6485856 -1.310927 0.2240765 -0.4267567\n",
       "18    6    4  1   1   4   0.3345435 0.6485856 -1.310927 0.2240765 -0.4267567\n",
       "19    6    4  1   1   4   0.3345435 0.6485856 -1.310927 0.2240765 -0.4267567\n",
       "20    6    4  1   0   4   0.3345435 0.6485856 -1.310927 0.2240765 -0.4267567\n",
       "21    7    5  1   0   4   0.3345435 0.6485856 -1.310927 0.2240765 -0.4267567\n",
       "22    5    4  1   1   4   0.3345435 0.6485856 -1.310927 0.2240765 -0.4267567\n",
       "23    5    4  1   1   4   0.3345435 0.6485856 -1.310927 0.2240765 -0.4267567\n",
       "24    5    4  2   0   4   0.3345435 0.6485856 -1.310927 0.2240765 -0.4267567\n",
       "25    6    4  1   0   4   0.3345435 0.6485856 -1.310927 0.2240765 -0.4267567\n",
       "26    6    4  2   1   4   0.3345435 0.6485856 -1.310927 0.2240765 -0.4267567\n",
       "27    6    4  1   0   4   0.3345435 0.6485856 -1.310927 0.2240765 -0.4267567\n",
       "28    6   12  1   1   4   0.3345435 0.6485856 -1.310927 0.2240765 -0.4267567\n",
       "29    6    4  1   0   4   0.3345435 0.6485856 -1.310927 0.2240765 -0.4267567\n",
       "30    5    4  1   0   4   0.3345435 0.6485856 -1.310927 0.2240765 -0.4267567\n",
       "...   ... ... ... ... ... ...       ...       ...       ...       ...       \n",
       "10362 6    3  1   0   3   1.185986  -1.129889 1.009875  1.005063  -1.174702 \n",
       "10363 5   14  1   1   3   1.185986  -1.129889 1.009875  1.005063  -1.174702 \n",
       "10364 3    3  2   0   3   1.185986  -1.129889 1.009875  1.005063  -1.174702 \n",
       "10365 5    3  1   0   3   1.185986  -1.129889 1.009875  1.005063  -1.174702 \n",
       "10366 6    4  1   0   3   1.185986  -1.129889 1.009875  1.005063  -1.174702 \n",
       "10367 3   14  2   1   3   1.185986  -1.129889 1.009875  1.005063  -1.174702 \n",
       "10368 4    2  1   1   3   1.185986  -1.129889 1.009875  1.005063  -1.174702 \n",
       "10369 2    3  2   1   3   1.185986  -1.129889 1.009875  1.005063  -1.174702 \n",
       "10370 6    2  2   1   3   1.185986  -1.129889 1.009875  1.005063  -1.174702 \n",
       "10371 5    2  2   1   3   1.185986  -1.129889 1.009875  1.005063  -1.174702 \n",
       "10372 4    3  1   1   3   1.185986  -1.129889 1.009875  1.005063  -1.174702 \n",
       "10373 6    3  1   0   3   1.185986  -1.129889 1.009875  1.005063  -1.174702 \n",
       "10374 6   14  1   1   3   1.185986  -1.129889 1.009875  1.005063  -1.174702 \n",
       "10375 5    3  2   1   3   1.185986  -1.129889 1.009875  1.005063  -1.174702 \n",
       "10376 5    3  1   1   3   1.185986  -1.129889 1.009875  1.005063  -1.174702 \n",
       "10377 3    4  2   1   3   1.185986  -1.129889 1.009875  1.005063  -1.174702 \n",
       "10378 6    4  1   1   3   1.185986  -1.129889 1.009875  1.005063  -1.174702 \n",
       "10379 6    4  2   1   3   1.185986  -1.129889 1.009875  1.005063  -1.174702 \n",
       "10380 3    2  2   1   3   1.185986  -1.129889 1.009875  1.005063  -1.174702 \n",
       "10381 3    4  2   1   3   1.185986  -1.129889 1.009875  1.005063  -1.174702 \n",
       "10382 5    2  2   1   3   1.185986  -1.129889 1.009875  1.005063  -1.174702 \n",
       "10383 5   14  1   1   3   1.185986  -1.129889 1.009875  1.005063  -1.174702 \n",
       "10384 5    4  1   1   3   1.185986  -1.129889 1.009875  1.005063  -1.174702 \n",
       "10385 5    4  1   1   3   1.185986  -1.129889 1.009875  1.005063  -1.174702 \n",
       "10386 5    4  2   0   3   1.185986  -1.129889 1.009875  1.005063  -1.174702 \n",
       "10387 7    4  2   1   3   1.185986  -1.129889 1.009875  1.005063  -1.174702 \n",
       "10388 7    4  2   1   3   1.185986  -1.129889 1.009875  1.005063  -1.174702 \n",
       "10389 2   15  1   1   3   1.185986  -1.129889 1.009875  1.005063  -1.174702 \n",
       "10390 5    4  1   1   3   1.185986  -1.129889 1.009875  1.005063  -1.174702 \n",
       "10391 5    1  2   1   3   1.185986  -1.129889 1.009875  1.005063  -1.174702 "
      ]
     },
     "metadata": {},
     "output_type": "display_data"
    }
   ],
   "source": [
    "X.raw"
   ]
  },
  {
   "cell_type": "code",
   "execution_count": 78,
   "id": "6a0b5434",
   "metadata": {},
   "outputs": [],
   "source": [
    "C1.exp = model.matrix(~ factor(X.raw$C1) + 0)\n",
    "XC.exp = model.matrix(~ factor(X.raw$XC) + 0)"
   ]
  },
  {
   "cell_type": "code",
   "execution_count": 80,
   "id": "a8806794",
   "metadata": {},
   "outputs": [
    {
     "data": {
      "text/html": [
       "<table>\n",
       "<thead><tr><th scope=col>factor(X.raw$XC)0</th><th scope=col>factor(X.raw$XC)1</th><th scope=col>factor(X.raw$XC)2</th><th scope=col>factor(X.raw$XC)3</th><th scope=col>factor(X.raw$XC)4</th></tr></thead>\n",
       "<tbody>\n",
       "\t<tr><td>0</td><td>0</td><td>0</td><td>0</td><td>1</td></tr>\n",
       "\t<tr><td>0</td><td>0</td><td>0</td><td>0</td><td>1</td></tr>\n",
       "\t<tr><td>0</td><td>0</td><td>0</td><td>0</td><td>1</td></tr>\n",
       "\t<tr><td>0</td><td>0</td><td>0</td><td>0</td><td>1</td></tr>\n",
       "\t<tr><td>0</td><td>0</td><td>0</td><td>0</td><td>1</td></tr>\n",
       "\t<tr><td>0</td><td>0</td><td>0</td><td>0</td><td>1</td></tr>\n",
       "\t<tr><td>0</td><td>0</td><td>0</td><td>0</td><td>1</td></tr>\n",
       "\t<tr><td>0</td><td>0</td><td>0</td><td>0</td><td>1</td></tr>\n",
       "\t<tr><td>0</td><td>0</td><td>0</td><td>0</td><td>1</td></tr>\n",
       "\t<tr><td>0</td><td>0</td><td>0</td><td>0</td><td>1</td></tr>\n",
       "\t<tr><td>0</td><td>0</td><td>0</td><td>0</td><td>1</td></tr>\n",
       "\t<tr><td>0</td><td>0</td><td>0</td><td>0</td><td>1</td></tr>\n",
       "\t<tr><td>0</td><td>0</td><td>0</td><td>0</td><td>1</td></tr>\n",
       "\t<tr><td>0</td><td>0</td><td>0</td><td>0</td><td>1</td></tr>\n",
       "\t<tr><td>0</td><td>0</td><td>0</td><td>0</td><td>1</td></tr>\n",
       "\t<tr><td>0</td><td>0</td><td>0</td><td>0</td><td>1</td></tr>\n",
       "\t<tr><td>0</td><td>0</td><td>0</td><td>0</td><td>1</td></tr>\n",
       "\t<tr><td>0</td><td>0</td><td>0</td><td>0</td><td>1</td></tr>\n",
       "\t<tr><td>0</td><td>0</td><td>0</td><td>0</td><td>1</td></tr>\n",
       "\t<tr><td>0</td><td>0</td><td>0</td><td>0</td><td>1</td></tr>\n",
       "\t<tr><td>0</td><td>0</td><td>0</td><td>0</td><td>1</td></tr>\n",
       "\t<tr><td>0</td><td>0</td><td>0</td><td>0</td><td>1</td></tr>\n",
       "\t<tr><td>0</td><td>0</td><td>0</td><td>0</td><td>1</td></tr>\n",
       "\t<tr><td>0</td><td>0</td><td>0</td><td>0</td><td>1</td></tr>\n",
       "\t<tr><td>0</td><td>0</td><td>0</td><td>0</td><td>1</td></tr>\n",
       "\t<tr><td>0</td><td>0</td><td>0</td><td>0</td><td>1</td></tr>\n",
       "\t<tr><td>0</td><td>0</td><td>0</td><td>0</td><td>1</td></tr>\n",
       "\t<tr><td>0</td><td>0</td><td>0</td><td>0</td><td>1</td></tr>\n",
       "\t<tr><td>0</td><td>0</td><td>0</td><td>0</td><td>1</td></tr>\n",
       "\t<tr><td>0</td><td>0</td><td>0</td><td>0</td><td>1</td></tr>\n",
       "\t<tr><td>...</td><td>...</td><td>...</td><td>...</td><td>...</td></tr>\n",
       "\t<tr><td>0</td><td>0</td><td>0</td><td>1</td><td>0</td></tr>\n",
       "\t<tr><td>0</td><td>0</td><td>0</td><td>1</td><td>0</td></tr>\n",
       "\t<tr><td>0</td><td>0</td><td>0</td><td>1</td><td>0</td></tr>\n",
       "\t<tr><td>0</td><td>0</td><td>0</td><td>1</td><td>0</td></tr>\n",
       "\t<tr><td>0</td><td>0</td><td>0</td><td>1</td><td>0</td></tr>\n",
       "\t<tr><td>0</td><td>0</td><td>0</td><td>1</td><td>0</td></tr>\n",
       "\t<tr><td>0</td><td>0</td><td>0</td><td>1</td><td>0</td></tr>\n",
       "\t<tr><td>0</td><td>0</td><td>0</td><td>1</td><td>0</td></tr>\n",
       "\t<tr><td>0</td><td>0</td><td>0</td><td>1</td><td>0</td></tr>\n",
       "\t<tr><td>0</td><td>0</td><td>0</td><td>1</td><td>0</td></tr>\n",
       "\t<tr><td>0</td><td>0</td><td>0</td><td>1</td><td>0</td></tr>\n",
       "\t<tr><td>0</td><td>0</td><td>0</td><td>1</td><td>0</td></tr>\n",
       "\t<tr><td>0</td><td>0</td><td>0</td><td>1</td><td>0</td></tr>\n",
       "\t<tr><td>0</td><td>0</td><td>0</td><td>1</td><td>0</td></tr>\n",
       "\t<tr><td>0</td><td>0</td><td>0</td><td>1</td><td>0</td></tr>\n",
       "\t<tr><td>0</td><td>0</td><td>0</td><td>1</td><td>0</td></tr>\n",
       "\t<tr><td>0</td><td>0</td><td>0</td><td>1</td><td>0</td></tr>\n",
       "\t<tr><td>0</td><td>0</td><td>0</td><td>1</td><td>0</td></tr>\n",
       "\t<tr><td>0</td><td>0</td><td>0</td><td>1</td><td>0</td></tr>\n",
       "\t<tr><td>0</td><td>0</td><td>0</td><td>1</td><td>0</td></tr>\n",
       "\t<tr><td>0</td><td>0</td><td>0</td><td>1</td><td>0</td></tr>\n",
       "\t<tr><td>0</td><td>0</td><td>0</td><td>1</td><td>0</td></tr>\n",
       "\t<tr><td>0</td><td>0</td><td>0</td><td>1</td><td>0</td></tr>\n",
       "\t<tr><td>0</td><td>0</td><td>0</td><td>1</td><td>0</td></tr>\n",
       "\t<tr><td>0</td><td>0</td><td>0</td><td>1</td><td>0</td></tr>\n",
       "\t<tr><td>0</td><td>0</td><td>0</td><td>1</td><td>0</td></tr>\n",
       "\t<tr><td>0</td><td>0</td><td>0</td><td>1</td><td>0</td></tr>\n",
       "\t<tr><td>0</td><td>0</td><td>0</td><td>1</td><td>0</td></tr>\n",
       "\t<tr><td>0</td><td>0</td><td>0</td><td>1</td><td>0</td></tr>\n",
       "\t<tr><td>0</td><td>0</td><td>0</td><td>1</td><td>0</td></tr>\n",
       "</tbody>\n",
       "</table>\n"
      ],
      "text/latex": [
       "\\begin{tabular}{r|lllll}\n",
       " factor(X.raw\\$XC)0 & factor(X.raw\\$XC)1 & factor(X.raw\\$XC)2 & factor(X.raw\\$XC)3 & factor(X.raw\\$XC)4\\\\\n",
       "\\hline\n",
       "\t 0 & 0 & 0 & 0 & 1\\\\\n",
       "\t 0 & 0 & 0 & 0 & 1\\\\\n",
       "\t 0 & 0 & 0 & 0 & 1\\\\\n",
       "\t 0 & 0 & 0 & 0 & 1\\\\\n",
       "\t 0 & 0 & 0 & 0 & 1\\\\\n",
       "\t 0 & 0 & 0 & 0 & 1\\\\\n",
       "\t 0 & 0 & 0 & 0 & 1\\\\\n",
       "\t 0 & 0 & 0 & 0 & 1\\\\\n",
       "\t 0 & 0 & 0 & 0 & 1\\\\\n",
       "\t 0 & 0 & 0 & 0 & 1\\\\\n",
       "\t 0 & 0 & 0 & 0 & 1\\\\\n",
       "\t 0 & 0 & 0 & 0 & 1\\\\\n",
       "\t 0 & 0 & 0 & 0 & 1\\\\\n",
       "\t 0 & 0 & 0 & 0 & 1\\\\\n",
       "\t 0 & 0 & 0 & 0 & 1\\\\\n",
       "\t 0 & 0 & 0 & 0 & 1\\\\\n",
       "\t 0 & 0 & 0 & 0 & 1\\\\\n",
       "\t 0 & 0 & 0 & 0 & 1\\\\\n",
       "\t 0 & 0 & 0 & 0 & 1\\\\\n",
       "\t 0 & 0 & 0 & 0 & 1\\\\\n",
       "\t 0 & 0 & 0 & 0 & 1\\\\\n",
       "\t 0 & 0 & 0 & 0 & 1\\\\\n",
       "\t 0 & 0 & 0 & 0 & 1\\\\\n",
       "\t 0 & 0 & 0 & 0 & 1\\\\\n",
       "\t 0 & 0 & 0 & 0 & 1\\\\\n",
       "\t 0 & 0 & 0 & 0 & 1\\\\\n",
       "\t 0 & 0 & 0 & 0 & 1\\\\\n",
       "\t 0 & 0 & 0 & 0 & 1\\\\\n",
       "\t 0 & 0 & 0 & 0 & 1\\\\\n",
       "\t 0 & 0 & 0 & 0 & 1\\\\\n",
       "\t ... & ... & ... & ... & ...\\\\\n",
       "\t 0 & 0 & 0 & 1 & 0\\\\\n",
       "\t 0 & 0 & 0 & 1 & 0\\\\\n",
       "\t 0 & 0 & 0 & 1 & 0\\\\\n",
       "\t 0 & 0 & 0 & 1 & 0\\\\\n",
       "\t 0 & 0 & 0 & 1 & 0\\\\\n",
       "\t 0 & 0 & 0 & 1 & 0\\\\\n",
       "\t 0 & 0 & 0 & 1 & 0\\\\\n",
       "\t 0 & 0 & 0 & 1 & 0\\\\\n",
       "\t 0 & 0 & 0 & 1 & 0\\\\\n",
       "\t 0 & 0 & 0 & 1 & 0\\\\\n",
       "\t 0 & 0 & 0 & 1 & 0\\\\\n",
       "\t 0 & 0 & 0 & 1 & 0\\\\\n",
       "\t 0 & 0 & 0 & 1 & 0\\\\\n",
       "\t 0 & 0 & 0 & 1 & 0\\\\\n",
       "\t 0 & 0 & 0 & 1 & 0\\\\\n",
       "\t 0 & 0 & 0 & 1 & 0\\\\\n",
       "\t 0 & 0 & 0 & 1 & 0\\\\\n",
       "\t 0 & 0 & 0 & 1 & 0\\\\\n",
       "\t 0 & 0 & 0 & 1 & 0\\\\\n",
       "\t 0 & 0 & 0 & 1 & 0\\\\\n",
       "\t 0 & 0 & 0 & 1 & 0\\\\\n",
       "\t 0 & 0 & 0 & 1 & 0\\\\\n",
       "\t 0 & 0 & 0 & 1 & 0\\\\\n",
       "\t 0 & 0 & 0 & 1 & 0\\\\\n",
       "\t 0 & 0 & 0 & 1 & 0\\\\\n",
       "\t 0 & 0 & 0 & 1 & 0\\\\\n",
       "\t 0 & 0 & 0 & 1 & 0\\\\\n",
       "\t 0 & 0 & 0 & 1 & 0\\\\\n",
       "\t 0 & 0 & 0 & 1 & 0\\\\\n",
       "\t 0 & 0 & 0 & 1 & 0\\\\\n",
       "\\end{tabular}\n"
      ],
      "text/markdown": [
       "\n",
       "| factor(X.raw$XC)0 | factor(X.raw$XC)1 | factor(X.raw$XC)2 | factor(X.raw$XC)3 | factor(X.raw$XC)4 |\n",
       "|---|---|---|---|---|\n",
       "| 0 | 0 | 0 | 0 | 1 |\n",
       "| 0 | 0 | 0 | 0 | 1 |\n",
       "| 0 | 0 | 0 | 0 | 1 |\n",
       "| 0 | 0 | 0 | 0 | 1 |\n",
       "| 0 | 0 | 0 | 0 | 1 |\n",
       "| 0 | 0 | 0 | 0 | 1 |\n",
       "| 0 | 0 | 0 | 0 | 1 |\n",
       "| 0 | 0 | 0 | 0 | 1 |\n",
       "| 0 | 0 | 0 | 0 | 1 |\n",
       "| 0 | 0 | 0 | 0 | 1 |\n",
       "| 0 | 0 | 0 | 0 | 1 |\n",
       "| 0 | 0 | 0 | 0 | 1 |\n",
       "| 0 | 0 | 0 | 0 | 1 |\n",
       "| 0 | 0 | 0 | 0 | 1 |\n",
       "| 0 | 0 | 0 | 0 | 1 |\n",
       "| 0 | 0 | 0 | 0 | 1 |\n",
       "| 0 | 0 | 0 | 0 | 1 |\n",
       "| 0 | 0 | 0 | 0 | 1 |\n",
       "| 0 | 0 | 0 | 0 | 1 |\n",
       "| 0 | 0 | 0 | 0 | 1 |\n",
       "| 0 | 0 | 0 | 0 | 1 |\n",
       "| 0 | 0 | 0 | 0 | 1 |\n",
       "| 0 | 0 | 0 | 0 | 1 |\n",
       "| 0 | 0 | 0 | 0 | 1 |\n",
       "| 0 | 0 | 0 | 0 | 1 |\n",
       "| 0 | 0 | 0 | 0 | 1 |\n",
       "| 0 | 0 | 0 | 0 | 1 |\n",
       "| 0 | 0 | 0 | 0 | 1 |\n",
       "| 0 | 0 | 0 | 0 | 1 |\n",
       "| 0 | 0 | 0 | 0 | 1 |\n",
       "| ... | ... | ... | ... | ... |\n",
       "| 0 | 0 | 0 | 1 | 0 |\n",
       "| 0 | 0 | 0 | 1 | 0 |\n",
       "| 0 | 0 | 0 | 1 | 0 |\n",
       "| 0 | 0 | 0 | 1 | 0 |\n",
       "| 0 | 0 | 0 | 1 | 0 |\n",
       "| 0 | 0 | 0 | 1 | 0 |\n",
       "| 0 | 0 | 0 | 1 | 0 |\n",
       "| 0 | 0 | 0 | 1 | 0 |\n",
       "| 0 | 0 | 0 | 1 | 0 |\n",
       "| 0 | 0 | 0 | 1 | 0 |\n",
       "| 0 | 0 | 0 | 1 | 0 |\n",
       "| 0 | 0 | 0 | 1 | 0 |\n",
       "| 0 | 0 | 0 | 1 | 0 |\n",
       "| 0 | 0 | 0 | 1 | 0 |\n",
       "| 0 | 0 | 0 | 1 | 0 |\n",
       "| 0 | 0 | 0 | 1 | 0 |\n",
       "| 0 | 0 | 0 | 1 | 0 |\n",
       "| 0 | 0 | 0 | 1 | 0 |\n",
       "| 0 | 0 | 0 | 1 | 0 |\n",
       "| 0 | 0 | 0 | 1 | 0 |\n",
       "| 0 | 0 | 0 | 1 | 0 |\n",
       "| 0 | 0 | 0 | 1 | 0 |\n",
       "| 0 | 0 | 0 | 1 | 0 |\n",
       "| 0 | 0 | 0 | 1 | 0 |\n",
       "| 0 | 0 | 0 | 1 | 0 |\n",
       "| 0 | 0 | 0 | 1 | 0 |\n",
       "| 0 | 0 | 0 | 1 | 0 |\n",
       "| 0 | 0 | 0 | 1 | 0 |\n",
       "| 0 | 0 | 0 | 1 | 0 |\n",
       "| 0 | 0 | 0 | 1 | 0 |\n",
       "\n"
      ],
      "text/plain": [
       "      factor(X.raw$XC)0 factor(X.raw$XC)1 factor(X.raw$XC)2 factor(X.raw$XC)3\n",
       "1     0                 0                 0                 0                \n",
       "2     0                 0                 0                 0                \n",
       "3     0                 0                 0                 0                \n",
       "4     0                 0                 0                 0                \n",
       "5     0                 0                 0                 0                \n",
       "6     0                 0                 0                 0                \n",
       "7     0                 0                 0                 0                \n",
       "8     0                 0                 0                 0                \n",
       "9     0                 0                 0                 0                \n",
       "10    0                 0                 0                 0                \n",
       "11    0                 0                 0                 0                \n",
       "12    0                 0                 0                 0                \n",
       "13    0                 0                 0                 0                \n",
       "14    0                 0                 0                 0                \n",
       "15    0                 0                 0                 0                \n",
       "16    0                 0                 0                 0                \n",
       "17    0                 0                 0                 0                \n",
       "18    0                 0                 0                 0                \n",
       "19    0                 0                 0                 0                \n",
       "20    0                 0                 0                 0                \n",
       "21    0                 0                 0                 0                \n",
       "22    0                 0                 0                 0                \n",
       "23    0                 0                 0                 0                \n",
       "24    0                 0                 0                 0                \n",
       "25    0                 0                 0                 0                \n",
       "26    0                 0                 0                 0                \n",
       "27    0                 0                 0                 0                \n",
       "28    0                 0                 0                 0                \n",
       "29    0                 0                 0                 0                \n",
       "30    0                 0                 0                 0                \n",
       "...   ...               ...               ...               ...              \n",
       "10362 0                 0                 0                 1                \n",
       "10363 0                 0                 0                 1                \n",
       "10364 0                 0                 0                 1                \n",
       "10365 0                 0                 0                 1                \n",
       "10366 0                 0                 0                 1                \n",
       "10367 0                 0                 0                 1                \n",
       "10368 0                 0                 0                 1                \n",
       "10369 0                 0                 0                 1                \n",
       "10370 0                 0                 0                 1                \n",
       "10371 0                 0                 0                 1                \n",
       "10372 0                 0                 0                 1                \n",
       "10373 0                 0                 0                 1                \n",
       "10374 0                 0                 0                 1                \n",
       "10375 0                 0                 0                 1                \n",
       "10376 0                 0                 0                 1                \n",
       "10377 0                 0                 0                 1                \n",
       "10378 0                 0                 0                 1                \n",
       "10379 0                 0                 0                 1                \n",
       "10380 0                 0                 0                 1                \n",
       "10381 0                 0                 0                 1                \n",
       "10382 0                 0                 0                 1                \n",
       "10383 0                 0                 0                 1                \n",
       "10384 0                 0                 0                 1                \n",
       "10385 0                 0                 0                 1                \n",
       "10386 0                 0                 0                 1                \n",
       "10387 0                 0                 0                 1                \n",
       "10388 0                 0                 0                 1                \n",
       "10389 0                 0                 0                 1                \n",
       "10390 0                 0                 0                 1                \n",
       "10391 0                 0                 0                 1                \n",
       "      factor(X.raw$XC)4\n",
       "1     1                \n",
       "2     1                \n",
       "3     1                \n",
       "4     1                \n",
       "5     1                \n",
       "6     1                \n",
       "7     1                \n",
       "8     1                \n",
       "9     1                \n",
       "10    1                \n",
       "11    1                \n",
       "12    1                \n",
       "13    1                \n",
       "14    1                \n",
       "15    1                \n",
       "16    1                \n",
       "17    1                \n",
       "18    1                \n",
       "19    1                \n",
       "20    1                \n",
       "21    1                \n",
       "22    1                \n",
       "23    1                \n",
       "24    1                \n",
       "25    1                \n",
       "26    1                \n",
       "27    1                \n",
       "28    1                \n",
       "29    1                \n",
       "30    1                \n",
       "...   ...              \n",
       "10362 0                \n",
       "10363 0                \n",
       "10364 0                \n",
       "10365 0                \n",
       "10366 0                \n",
       "10367 0                \n",
       "10368 0                \n",
       "10369 0                \n",
       "10370 0                \n",
       "10371 0                \n",
       "10372 0                \n",
       "10373 0                \n",
       "10374 0                \n",
       "10375 0                \n",
       "10376 0                \n",
       "10377 0                \n",
       "10378 0                \n",
       "10379 0                \n",
       "10380 0                \n",
       "10381 0                \n",
       "10382 0                \n",
       "10383 0                \n",
       "10384 0                \n",
       "10385 0                \n",
       "10386 0                \n",
       "10387 0                \n",
       "10388 0                \n",
       "10389 0                \n",
       "10390 0                \n",
       "10391 0                "
      ]
     },
     "metadata": {},
     "output_type": "display_data"
    }
   ],
   "source": [
    "#C1.exp\n",
    "#XC.exp"
   ]
  },
  {
   "cell_type": "code",
   "execution_count": 81,
   "id": "9aa3d3e7",
   "metadata": {},
   "outputs": [
    {
     "data": {
      "text/html": [
       "<table>\n",
       "<thead><tr><th scope=col>S3</th><th scope=col>C2</th><th scope=col>C3</th><th scope=col>X1</th><th scope=col>X2</th><th scope=col>X3</th><th scope=col>X4</th><th scope=col>X5</th><th scope=col>factor(X.raw$C1)1</th><th scope=col>factor(X.raw$C1)2</th><th scope=col>...</th><th scope=col>factor(X.raw$C1)11</th><th scope=col>factor(X.raw$C1)12</th><th scope=col>factor(X.raw$C1)13</th><th scope=col>factor(X.raw$C1)14</th><th scope=col>factor(X.raw$C1)15</th><th scope=col>factor(X.raw$XC)0</th><th scope=col>factor(X.raw$XC)1</th><th scope=col>factor(X.raw$XC)2</th><th scope=col>factor(X.raw$XC)3</th><th scope=col>factor(X.raw$XC)4</th></tr></thead>\n",
       "<tbody>\n",
       "\t<tr><td>6         </td><td>2         </td><td>1         </td><td>0.3345435 </td><td>0.6485856 </td><td>-1.310927 </td><td>0.2240765 </td><td>-0.4267567</td><td>0         </td><td>0         </td><td>...       </td><td>0         </td><td>0         </td><td>0         </td><td>0         </td><td>0         </td><td>0         </td><td>0         </td><td>0         </td><td>0         </td><td>1         </td></tr>\n",
       "\t<tr><td>4         </td><td>2         </td><td>1         </td><td>0.3345435 </td><td>0.6485856 </td><td>-1.310927 </td><td>0.2240765 </td><td>-0.4267567</td><td>0         </td><td>0         </td><td>...       </td><td>0         </td><td>1         </td><td>0         </td><td>0         </td><td>0         </td><td>0         </td><td>0         </td><td>0         </td><td>0         </td><td>1         </td></tr>\n",
       "\t<tr><td>6         </td><td>2         </td><td>0         </td><td>0.3345435 </td><td>0.6485856 </td><td>-1.310927 </td><td>0.2240765 </td><td>-0.4267567</td><td>0         </td><td>0         </td><td>...       </td><td>0         </td><td>0         </td><td>0         </td><td>0         </td><td>0         </td><td>0         </td><td>0         </td><td>0         </td><td>0         </td><td>1         </td></tr>\n",
       "\t<tr><td>6         </td><td>2         </td><td>0         </td><td>0.3345435 </td><td>0.6485856 </td><td>-1.310927 </td><td>0.2240765 </td><td>-0.4267567</td><td>0         </td><td>0         </td><td>...       </td><td>0         </td><td>0         </td><td>0         </td><td>0         </td><td>0         </td><td>0         </td><td>0         </td><td>0         </td><td>0         </td><td>1         </td></tr>\n",
       "\t<tr><td>6         </td><td>1         </td><td>0         </td><td>0.3345435 </td><td>0.6485856 </td><td>-1.310927 </td><td>0.2240765 </td><td>-0.4267567</td><td>0         </td><td>0         </td><td>...       </td><td>0         </td><td>0         </td><td>0         </td><td>0         </td><td>0         </td><td>0         </td><td>0         </td><td>0         </td><td>0         </td><td>1         </td></tr>\n",
       "\t<tr><td>6         </td><td>2         </td><td>0         </td><td>0.3345435 </td><td>0.6485856 </td><td>-1.310927 </td><td>0.2240765 </td><td>-0.4267567</td><td>0         </td><td>0         </td><td>...       </td><td>0         </td><td>0         </td><td>0         </td><td>0         </td><td>0         </td><td>0         </td><td>0         </td><td>0         </td><td>0         </td><td>1         </td></tr>\n",
       "\t<tr><td>6         </td><td>1         </td><td>0         </td><td>0.3345435 </td><td>0.6485856 </td><td>-1.310927 </td><td>0.2240765 </td><td>-0.4267567</td><td>0         </td><td>0         </td><td>...       </td><td>0         </td><td>0         </td><td>0         </td><td>0         </td><td>0         </td><td>0         </td><td>0         </td><td>0         </td><td>0         </td><td>1         </td></tr>\n",
       "\t<tr><td>6         </td><td>1         </td><td>0         </td><td>0.3345435 </td><td>0.6485856 </td><td>-1.310927 </td><td>0.2240765 </td><td>-0.4267567</td><td>0         </td><td>0         </td><td>...       </td><td>0         </td><td>0         </td><td>0         </td><td>0         </td><td>0         </td><td>0         </td><td>0         </td><td>0         </td><td>0         </td><td>1         </td></tr>\n",
       "\t<tr><td>6         </td><td>2         </td><td>0         </td><td>0.3345435 </td><td>0.6485856 </td><td>-1.310927 </td><td>0.2240765 </td><td>-0.4267567</td><td>0         </td><td>0         </td><td>...       </td><td>0         </td><td>0         </td><td>0         </td><td>0         </td><td>0         </td><td>0         </td><td>0         </td><td>0         </td><td>0         </td><td>1         </td></tr>\n",
       "\t<tr><td>6         </td><td>1         </td><td>1         </td><td>0.3345435 </td><td>0.6485856 </td><td>-1.310927 </td><td>0.2240765 </td><td>-0.4267567</td><td>0         </td><td>0         </td><td>...       </td><td>0         </td><td>0         </td><td>0         </td><td>0         </td><td>0         </td><td>0         </td><td>0         </td><td>0         </td><td>0         </td><td>1         </td></tr>\n",
       "\t<tr><td>6         </td><td>2         </td><td>0         </td><td>0.3345435 </td><td>0.6485856 </td><td>-1.310927 </td><td>0.2240765 </td><td>-0.4267567</td><td>0         </td><td>0         </td><td>...       </td><td>0         </td><td>0         </td><td>0         </td><td>0         </td><td>0         </td><td>0         </td><td>0         </td><td>0         </td><td>0         </td><td>1         </td></tr>\n",
       "\t<tr><td>4         </td><td>2         </td><td>0         </td><td>0.3345435 </td><td>0.6485856 </td><td>-1.310927 </td><td>0.2240765 </td><td>-0.4267567</td><td>0         </td><td>0         </td><td>...       </td><td>0         </td><td>0         </td><td>0         </td><td>0         </td><td>0         </td><td>0         </td><td>0         </td><td>0         </td><td>0         </td><td>1         </td></tr>\n",
       "\t<tr><td>6         </td><td>1         </td><td>1         </td><td>0.3345435 </td><td>0.6485856 </td><td>-1.310927 </td><td>0.2240765 </td><td>-0.4267567</td><td>0         </td><td>0         </td><td>...       </td><td>0         </td><td>0         </td><td>0         </td><td>0         </td><td>0         </td><td>0         </td><td>0         </td><td>0         </td><td>0         </td><td>1         </td></tr>\n",
       "\t<tr><td>6         </td><td>1         </td><td>0         </td><td>0.3345435 </td><td>0.6485856 </td><td>-1.310927 </td><td>0.2240765 </td><td>-0.4267567</td><td>0         </td><td>0         </td><td>...       </td><td>0         </td><td>0         </td><td>0         </td><td>0         </td><td>0         </td><td>0         </td><td>0         </td><td>0         </td><td>0         </td><td>1         </td></tr>\n",
       "\t<tr><td>6         </td><td>2         </td><td>0         </td><td>0.3345435 </td><td>0.6485856 </td><td>-1.310927 </td><td>0.2240765 </td><td>-0.4267567</td><td>0         </td><td>0         </td><td>...       </td><td>0         </td><td>0         </td><td>0         </td><td>0         </td><td>0         </td><td>0         </td><td>0         </td><td>0         </td><td>0         </td><td>1         </td></tr>\n",
       "\t<tr><td>6         </td><td>1         </td><td>0         </td><td>0.3345435 </td><td>0.6485856 </td><td>-1.310927 </td><td>0.2240765 </td><td>-0.4267567</td><td>1         </td><td>0         </td><td>...       </td><td>0         </td><td>0         </td><td>0         </td><td>0         </td><td>0         </td><td>0         </td><td>0         </td><td>0         </td><td>0         </td><td>1         </td></tr>\n",
       "\t<tr><td>4         </td><td>1         </td><td>0         </td><td>0.3345435 </td><td>0.6485856 </td><td>-1.310927 </td><td>0.2240765 </td><td>-0.4267567</td><td>0         </td><td>0         </td><td>...       </td><td>0         </td><td>0         </td><td>0         </td><td>0         </td><td>0         </td><td>0         </td><td>0         </td><td>0         </td><td>0         </td><td>1         </td></tr>\n",
       "\t<tr><td>6         </td><td>1         </td><td>1         </td><td>0.3345435 </td><td>0.6485856 </td><td>-1.310927 </td><td>0.2240765 </td><td>-0.4267567</td><td>0         </td><td>0         </td><td>...       </td><td>0         </td><td>0         </td><td>0         </td><td>0         </td><td>0         </td><td>0         </td><td>0         </td><td>0         </td><td>0         </td><td>1         </td></tr>\n",
       "\t<tr><td>6         </td><td>1         </td><td>1         </td><td>0.3345435 </td><td>0.6485856 </td><td>-1.310927 </td><td>0.2240765 </td><td>-0.4267567</td><td>0         </td><td>0         </td><td>...       </td><td>0         </td><td>0         </td><td>0         </td><td>0         </td><td>0         </td><td>0         </td><td>0         </td><td>0         </td><td>0         </td><td>1         </td></tr>\n",
       "\t<tr><td>6         </td><td>1         </td><td>0         </td><td>0.3345435 </td><td>0.6485856 </td><td>-1.310927 </td><td>0.2240765 </td><td>-0.4267567</td><td>0         </td><td>0         </td><td>...       </td><td>0         </td><td>0         </td><td>0         </td><td>0         </td><td>0         </td><td>0         </td><td>0         </td><td>0         </td><td>0         </td><td>1         </td></tr>\n",
       "\t<tr><td>7         </td><td>1         </td><td>0         </td><td>0.3345435 </td><td>0.6485856 </td><td>-1.310927 </td><td>0.2240765 </td><td>-0.4267567</td><td>0         </td><td>0         </td><td>...       </td><td>0         </td><td>0         </td><td>0         </td><td>0         </td><td>0         </td><td>0         </td><td>0         </td><td>0         </td><td>0         </td><td>1         </td></tr>\n",
       "\t<tr><td>5         </td><td>1         </td><td>1         </td><td>0.3345435 </td><td>0.6485856 </td><td>-1.310927 </td><td>0.2240765 </td><td>-0.4267567</td><td>0         </td><td>0         </td><td>...       </td><td>0         </td><td>0         </td><td>0         </td><td>0         </td><td>0         </td><td>0         </td><td>0         </td><td>0         </td><td>0         </td><td>1         </td></tr>\n",
       "\t<tr><td>5         </td><td>1         </td><td>1         </td><td>0.3345435 </td><td>0.6485856 </td><td>-1.310927 </td><td>0.2240765 </td><td>-0.4267567</td><td>0         </td><td>0         </td><td>...       </td><td>0         </td><td>0         </td><td>0         </td><td>0         </td><td>0         </td><td>0         </td><td>0         </td><td>0         </td><td>0         </td><td>1         </td></tr>\n",
       "\t<tr><td>5         </td><td>2         </td><td>0         </td><td>0.3345435 </td><td>0.6485856 </td><td>-1.310927 </td><td>0.2240765 </td><td>-0.4267567</td><td>0         </td><td>0         </td><td>...       </td><td>0         </td><td>0         </td><td>0         </td><td>0         </td><td>0         </td><td>0         </td><td>0         </td><td>0         </td><td>0         </td><td>1         </td></tr>\n",
       "\t<tr><td>6         </td><td>1         </td><td>0         </td><td>0.3345435 </td><td>0.6485856 </td><td>-1.310927 </td><td>0.2240765 </td><td>-0.4267567</td><td>0         </td><td>0         </td><td>...       </td><td>0         </td><td>0         </td><td>0         </td><td>0         </td><td>0         </td><td>0         </td><td>0         </td><td>0         </td><td>0         </td><td>1         </td></tr>\n",
       "\t<tr><td>6         </td><td>2         </td><td>1         </td><td>0.3345435 </td><td>0.6485856 </td><td>-1.310927 </td><td>0.2240765 </td><td>-0.4267567</td><td>0         </td><td>0         </td><td>...       </td><td>0         </td><td>0         </td><td>0         </td><td>0         </td><td>0         </td><td>0         </td><td>0         </td><td>0         </td><td>0         </td><td>1         </td></tr>\n",
       "\t<tr><td>6         </td><td>1         </td><td>0         </td><td>0.3345435 </td><td>0.6485856 </td><td>-1.310927 </td><td>0.2240765 </td><td>-0.4267567</td><td>0         </td><td>0         </td><td>...       </td><td>0         </td><td>0         </td><td>0         </td><td>0         </td><td>0         </td><td>0         </td><td>0         </td><td>0         </td><td>0         </td><td>1         </td></tr>\n",
       "\t<tr><td>6         </td><td>1         </td><td>1         </td><td>0.3345435 </td><td>0.6485856 </td><td>-1.310927 </td><td>0.2240765 </td><td>-0.4267567</td><td>0         </td><td>0         </td><td>...       </td><td>0         </td><td>1         </td><td>0         </td><td>0         </td><td>0         </td><td>0         </td><td>0         </td><td>0         </td><td>0         </td><td>1         </td></tr>\n",
       "\t<tr><td>6         </td><td>1         </td><td>0         </td><td>0.3345435 </td><td>0.6485856 </td><td>-1.310927 </td><td>0.2240765 </td><td>-0.4267567</td><td>0         </td><td>0         </td><td>...       </td><td>0         </td><td>0         </td><td>0         </td><td>0         </td><td>0         </td><td>0         </td><td>0         </td><td>0         </td><td>0         </td><td>1         </td></tr>\n",
       "\t<tr><td>5         </td><td>1         </td><td>0         </td><td>0.3345435 </td><td>0.6485856 </td><td>-1.310927 </td><td>0.2240765 </td><td>-0.4267567</td><td>0         </td><td>0         </td><td>...       </td><td>0         </td><td>0         </td><td>0         </td><td>0         </td><td>0         </td><td>0         </td><td>0         </td><td>0         </td><td>0         </td><td>1         </td></tr>\n",
       "\t<tr><td>...</td><td>...</td><td>...</td><td>...</td><td>...</td><td>...</td><td>...</td><td>...</td><td>...</td><td>...</td><td>   </td><td>...</td><td>...</td><td>...</td><td>...</td><td>...</td><td>...</td><td>...</td><td>...</td><td>...</td><td>...</td></tr>\n",
       "\t<tr><td>6        </td><td>1        </td><td>0        </td><td>1.185986 </td><td>-1.129889</td><td>1.009875 </td><td>1.005063 </td><td>-1.174702</td><td>0        </td><td>0        </td><td>...      </td><td>0        </td><td>0        </td><td>0        </td><td>0        </td><td>0        </td><td>0        </td><td>0        </td><td>0        </td><td>1        </td><td>0        </td></tr>\n",
       "\t<tr><td>5        </td><td>1        </td><td>1        </td><td>1.185986 </td><td>-1.129889</td><td>1.009875 </td><td>1.005063 </td><td>-1.174702</td><td>0        </td><td>0        </td><td>...      </td><td>0        </td><td>0        </td><td>0        </td><td>1        </td><td>0        </td><td>0        </td><td>0        </td><td>0        </td><td>1        </td><td>0        </td></tr>\n",
       "\t<tr><td>3        </td><td>2        </td><td>0        </td><td>1.185986 </td><td>-1.129889</td><td>1.009875 </td><td>1.005063 </td><td>-1.174702</td><td>0        </td><td>0        </td><td>...      </td><td>0        </td><td>0        </td><td>0        </td><td>0        </td><td>0        </td><td>0        </td><td>0        </td><td>0        </td><td>1        </td><td>0        </td></tr>\n",
       "\t<tr><td>5        </td><td>1        </td><td>0        </td><td>1.185986 </td><td>-1.129889</td><td>1.009875 </td><td>1.005063 </td><td>-1.174702</td><td>0        </td><td>0        </td><td>...      </td><td>0        </td><td>0        </td><td>0        </td><td>0        </td><td>0        </td><td>0        </td><td>0        </td><td>0        </td><td>1        </td><td>0        </td></tr>\n",
       "\t<tr><td>6        </td><td>1        </td><td>0        </td><td>1.185986 </td><td>-1.129889</td><td>1.009875 </td><td>1.005063 </td><td>-1.174702</td><td>0        </td><td>0        </td><td>...      </td><td>0        </td><td>0        </td><td>0        </td><td>0        </td><td>0        </td><td>0        </td><td>0        </td><td>0        </td><td>1        </td><td>0        </td></tr>\n",
       "\t<tr><td>3        </td><td>2        </td><td>1        </td><td>1.185986 </td><td>-1.129889</td><td>1.009875 </td><td>1.005063 </td><td>-1.174702</td><td>0        </td><td>0        </td><td>...      </td><td>0        </td><td>0        </td><td>0        </td><td>1        </td><td>0        </td><td>0        </td><td>0        </td><td>0        </td><td>1        </td><td>0        </td></tr>\n",
       "\t<tr><td>4        </td><td>1        </td><td>1        </td><td>1.185986 </td><td>-1.129889</td><td>1.009875 </td><td>1.005063 </td><td>-1.174702</td><td>0        </td><td>1        </td><td>...      </td><td>0        </td><td>0        </td><td>0        </td><td>0        </td><td>0        </td><td>0        </td><td>0        </td><td>0        </td><td>1        </td><td>0        </td></tr>\n",
       "\t<tr><td>2        </td><td>2        </td><td>1        </td><td>1.185986 </td><td>-1.129889</td><td>1.009875 </td><td>1.005063 </td><td>-1.174702</td><td>0        </td><td>0        </td><td>...      </td><td>0        </td><td>0        </td><td>0        </td><td>0        </td><td>0        </td><td>0        </td><td>0        </td><td>0        </td><td>1        </td><td>0        </td></tr>\n",
       "\t<tr><td>6        </td><td>2        </td><td>1        </td><td>1.185986 </td><td>-1.129889</td><td>1.009875 </td><td>1.005063 </td><td>-1.174702</td><td>0        </td><td>1        </td><td>...      </td><td>0        </td><td>0        </td><td>0        </td><td>0        </td><td>0        </td><td>0        </td><td>0        </td><td>0        </td><td>1        </td><td>0        </td></tr>\n",
       "\t<tr><td>5        </td><td>2        </td><td>1        </td><td>1.185986 </td><td>-1.129889</td><td>1.009875 </td><td>1.005063 </td><td>-1.174702</td><td>0        </td><td>1        </td><td>...      </td><td>0        </td><td>0        </td><td>0        </td><td>0        </td><td>0        </td><td>0        </td><td>0        </td><td>0        </td><td>1        </td><td>0        </td></tr>\n",
       "\t<tr><td>4        </td><td>1        </td><td>1        </td><td>1.185986 </td><td>-1.129889</td><td>1.009875 </td><td>1.005063 </td><td>-1.174702</td><td>0        </td><td>0        </td><td>...      </td><td>0        </td><td>0        </td><td>0        </td><td>0        </td><td>0        </td><td>0        </td><td>0        </td><td>0        </td><td>1        </td><td>0        </td></tr>\n",
       "\t<tr><td>6        </td><td>1        </td><td>0        </td><td>1.185986 </td><td>-1.129889</td><td>1.009875 </td><td>1.005063 </td><td>-1.174702</td><td>0        </td><td>0        </td><td>...      </td><td>0        </td><td>0        </td><td>0        </td><td>0        </td><td>0        </td><td>0        </td><td>0        </td><td>0        </td><td>1        </td><td>0        </td></tr>\n",
       "\t<tr><td>6        </td><td>1        </td><td>1        </td><td>1.185986 </td><td>-1.129889</td><td>1.009875 </td><td>1.005063 </td><td>-1.174702</td><td>0        </td><td>0        </td><td>...      </td><td>0        </td><td>0        </td><td>0        </td><td>1        </td><td>0        </td><td>0        </td><td>0        </td><td>0        </td><td>1        </td><td>0        </td></tr>\n",
       "\t<tr><td>5        </td><td>2        </td><td>1        </td><td>1.185986 </td><td>-1.129889</td><td>1.009875 </td><td>1.005063 </td><td>-1.174702</td><td>0        </td><td>0        </td><td>...      </td><td>0        </td><td>0        </td><td>0        </td><td>0        </td><td>0        </td><td>0        </td><td>0        </td><td>0        </td><td>1        </td><td>0        </td></tr>\n",
       "\t<tr><td>5        </td><td>1        </td><td>1        </td><td>1.185986 </td><td>-1.129889</td><td>1.009875 </td><td>1.005063 </td><td>-1.174702</td><td>0        </td><td>0        </td><td>...      </td><td>0        </td><td>0        </td><td>0        </td><td>0        </td><td>0        </td><td>0        </td><td>0        </td><td>0        </td><td>1        </td><td>0        </td></tr>\n",
       "\t<tr><td>3        </td><td>2        </td><td>1        </td><td>1.185986 </td><td>-1.129889</td><td>1.009875 </td><td>1.005063 </td><td>-1.174702</td><td>0        </td><td>0        </td><td>...      </td><td>0        </td><td>0        </td><td>0        </td><td>0        </td><td>0        </td><td>0        </td><td>0        </td><td>0        </td><td>1        </td><td>0        </td></tr>\n",
       "\t<tr><td>6        </td><td>1        </td><td>1        </td><td>1.185986 </td><td>-1.129889</td><td>1.009875 </td><td>1.005063 </td><td>-1.174702</td><td>0        </td><td>0        </td><td>...      </td><td>0        </td><td>0        </td><td>0        </td><td>0        </td><td>0        </td><td>0        </td><td>0        </td><td>0        </td><td>1        </td><td>0        </td></tr>\n",
       "\t<tr><td>6        </td><td>2        </td><td>1        </td><td>1.185986 </td><td>-1.129889</td><td>1.009875 </td><td>1.005063 </td><td>-1.174702</td><td>0        </td><td>0        </td><td>...      </td><td>0        </td><td>0        </td><td>0        </td><td>0        </td><td>0        </td><td>0        </td><td>0        </td><td>0        </td><td>1        </td><td>0        </td></tr>\n",
       "\t<tr><td>3        </td><td>2        </td><td>1        </td><td>1.185986 </td><td>-1.129889</td><td>1.009875 </td><td>1.005063 </td><td>-1.174702</td><td>0        </td><td>1        </td><td>...      </td><td>0        </td><td>0        </td><td>0        </td><td>0        </td><td>0        </td><td>0        </td><td>0        </td><td>0        </td><td>1        </td><td>0        </td></tr>\n",
       "\t<tr><td>3        </td><td>2        </td><td>1        </td><td>1.185986 </td><td>-1.129889</td><td>1.009875 </td><td>1.005063 </td><td>-1.174702</td><td>0        </td><td>0        </td><td>...      </td><td>0        </td><td>0        </td><td>0        </td><td>0        </td><td>0        </td><td>0        </td><td>0        </td><td>0        </td><td>1        </td><td>0        </td></tr>\n",
       "\t<tr><td>5        </td><td>2        </td><td>1        </td><td>1.185986 </td><td>-1.129889</td><td>1.009875 </td><td>1.005063 </td><td>-1.174702</td><td>0        </td><td>1        </td><td>...      </td><td>0        </td><td>0        </td><td>0        </td><td>0        </td><td>0        </td><td>0        </td><td>0        </td><td>0        </td><td>1        </td><td>0        </td></tr>\n",
       "\t<tr><td>5        </td><td>1        </td><td>1        </td><td>1.185986 </td><td>-1.129889</td><td>1.009875 </td><td>1.005063 </td><td>-1.174702</td><td>0        </td><td>0        </td><td>...      </td><td>0        </td><td>0        </td><td>0        </td><td>1        </td><td>0        </td><td>0        </td><td>0        </td><td>0        </td><td>1        </td><td>0        </td></tr>\n",
       "\t<tr><td>5        </td><td>1        </td><td>1        </td><td>1.185986 </td><td>-1.129889</td><td>1.009875 </td><td>1.005063 </td><td>-1.174702</td><td>0        </td><td>0        </td><td>...      </td><td>0        </td><td>0        </td><td>0        </td><td>0        </td><td>0        </td><td>0        </td><td>0        </td><td>0        </td><td>1        </td><td>0        </td></tr>\n",
       "\t<tr><td>5        </td><td>1        </td><td>1        </td><td>1.185986 </td><td>-1.129889</td><td>1.009875 </td><td>1.005063 </td><td>-1.174702</td><td>0        </td><td>0        </td><td>...      </td><td>0        </td><td>0        </td><td>0        </td><td>0        </td><td>0        </td><td>0        </td><td>0        </td><td>0        </td><td>1        </td><td>0        </td></tr>\n",
       "\t<tr><td>5        </td><td>2        </td><td>0        </td><td>1.185986 </td><td>-1.129889</td><td>1.009875 </td><td>1.005063 </td><td>-1.174702</td><td>0        </td><td>0        </td><td>...      </td><td>0        </td><td>0        </td><td>0        </td><td>0        </td><td>0        </td><td>0        </td><td>0        </td><td>0        </td><td>1        </td><td>0        </td></tr>\n",
       "\t<tr><td>7        </td><td>2        </td><td>1        </td><td>1.185986 </td><td>-1.129889</td><td>1.009875 </td><td>1.005063 </td><td>-1.174702</td><td>0        </td><td>0        </td><td>...      </td><td>0        </td><td>0        </td><td>0        </td><td>0        </td><td>0        </td><td>0        </td><td>0        </td><td>0        </td><td>1        </td><td>0        </td></tr>\n",
       "\t<tr><td>7        </td><td>2        </td><td>1        </td><td>1.185986 </td><td>-1.129889</td><td>1.009875 </td><td>1.005063 </td><td>-1.174702</td><td>0        </td><td>0        </td><td>...      </td><td>0        </td><td>0        </td><td>0        </td><td>0        </td><td>0        </td><td>0        </td><td>0        </td><td>0        </td><td>1        </td><td>0        </td></tr>\n",
       "\t<tr><td>2        </td><td>1        </td><td>1        </td><td>1.185986 </td><td>-1.129889</td><td>1.009875 </td><td>1.005063 </td><td>-1.174702</td><td>0        </td><td>0        </td><td>...      </td><td>0        </td><td>0        </td><td>0        </td><td>0        </td><td>1        </td><td>0        </td><td>0        </td><td>0        </td><td>1        </td><td>0        </td></tr>\n",
       "\t<tr><td>5        </td><td>1        </td><td>1        </td><td>1.185986 </td><td>-1.129889</td><td>1.009875 </td><td>1.005063 </td><td>-1.174702</td><td>0        </td><td>0        </td><td>...      </td><td>0        </td><td>0        </td><td>0        </td><td>0        </td><td>0        </td><td>0        </td><td>0        </td><td>0        </td><td>1        </td><td>0        </td></tr>\n",
       "\t<tr><td>5        </td><td>2        </td><td>1        </td><td>1.185986 </td><td>-1.129889</td><td>1.009875 </td><td>1.005063 </td><td>-1.174702</td><td>1        </td><td>0        </td><td>...      </td><td>0        </td><td>0        </td><td>0        </td><td>0        </td><td>0        </td><td>0        </td><td>0        </td><td>0        </td><td>1        </td><td>0        </td></tr>\n",
       "</tbody>\n",
       "</table>\n"
      ],
      "text/latex": [
       "\\begin{tabular}{r|llllllllllllllllllllllllllll}\n",
       " S3 & C2 & C3 & X1 & X2 & X3 & X4 & X5 & factor(X.raw\\$C1)1 & factor(X.raw\\$C1)2 & ... & factor(X.raw\\$C1)11 & factor(X.raw\\$C1)12 & factor(X.raw\\$C1)13 & factor(X.raw\\$C1)14 & factor(X.raw\\$C1)15 & factor(X.raw\\$XC)0 & factor(X.raw\\$XC)1 & factor(X.raw\\$XC)2 & factor(X.raw\\$XC)3 & factor(X.raw\\$XC)4\\\\\n",
       "\\hline\n",
       "\t 6          & 2          & 1          & 0.3345435  & 0.6485856  & -1.310927  & 0.2240765  & -0.4267567 & 0          & 0          & ...        & 0          & 0          & 0          & 0          & 0          & 0          & 0          & 0          & 0          & 1         \\\\\n",
       "\t 4          & 2          & 1          & 0.3345435  & 0.6485856  & -1.310927  & 0.2240765  & -0.4267567 & 0          & 0          & ...        & 0          & 1          & 0          & 0          & 0          & 0          & 0          & 0          & 0          & 1         \\\\\n",
       "\t 6          & 2          & 0          & 0.3345435  & 0.6485856  & -1.310927  & 0.2240765  & -0.4267567 & 0          & 0          & ...        & 0          & 0          & 0          & 0          & 0          & 0          & 0          & 0          & 0          & 1         \\\\\n",
       "\t 6          & 2          & 0          & 0.3345435  & 0.6485856  & -1.310927  & 0.2240765  & -0.4267567 & 0          & 0          & ...        & 0          & 0          & 0          & 0          & 0          & 0          & 0          & 0          & 0          & 1         \\\\\n",
       "\t 6          & 1          & 0          & 0.3345435  & 0.6485856  & -1.310927  & 0.2240765  & -0.4267567 & 0          & 0          & ...        & 0          & 0          & 0          & 0          & 0          & 0          & 0          & 0          & 0          & 1         \\\\\n",
       "\t 6          & 2          & 0          & 0.3345435  & 0.6485856  & -1.310927  & 0.2240765  & -0.4267567 & 0          & 0          & ...        & 0          & 0          & 0          & 0          & 0          & 0          & 0          & 0          & 0          & 1         \\\\\n",
       "\t 6          & 1          & 0          & 0.3345435  & 0.6485856  & -1.310927  & 0.2240765  & -0.4267567 & 0          & 0          & ...        & 0          & 0          & 0          & 0          & 0          & 0          & 0          & 0          & 0          & 1         \\\\\n",
       "\t 6          & 1          & 0          & 0.3345435  & 0.6485856  & -1.310927  & 0.2240765  & -0.4267567 & 0          & 0          & ...        & 0          & 0          & 0          & 0          & 0          & 0          & 0          & 0          & 0          & 1         \\\\\n",
       "\t 6          & 2          & 0          & 0.3345435  & 0.6485856  & -1.310927  & 0.2240765  & -0.4267567 & 0          & 0          & ...        & 0          & 0          & 0          & 0          & 0          & 0          & 0          & 0          & 0          & 1         \\\\\n",
       "\t 6          & 1          & 1          & 0.3345435  & 0.6485856  & -1.310927  & 0.2240765  & -0.4267567 & 0          & 0          & ...        & 0          & 0          & 0          & 0          & 0          & 0          & 0          & 0          & 0          & 1         \\\\\n",
       "\t 6          & 2          & 0          & 0.3345435  & 0.6485856  & -1.310927  & 0.2240765  & -0.4267567 & 0          & 0          & ...        & 0          & 0          & 0          & 0          & 0          & 0          & 0          & 0          & 0          & 1         \\\\\n",
       "\t 4          & 2          & 0          & 0.3345435  & 0.6485856  & -1.310927  & 0.2240765  & -0.4267567 & 0          & 0          & ...        & 0          & 0          & 0          & 0          & 0          & 0          & 0          & 0          & 0          & 1         \\\\\n",
       "\t 6          & 1          & 1          & 0.3345435  & 0.6485856  & -1.310927  & 0.2240765  & -0.4267567 & 0          & 0          & ...        & 0          & 0          & 0          & 0          & 0          & 0          & 0          & 0          & 0          & 1         \\\\\n",
       "\t 6          & 1          & 0          & 0.3345435  & 0.6485856  & -1.310927  & 0.2240765  & -0.4267567 & 0          & 0          & ...        & 0          & 0          & 0          & 0          & 0          & 0          & 0          & 0          & 0          & 1         \\\\\n",
       "\t 6          & 2          & 0          & 0.3345435  & 0.6485856  & -1.310927  & 0.2240765  & -0.4267567 & 0          & 0          & ...        & 0          & 0          & 0          & 0          & 0          & 0          & 0          & 0          & 0          & 1         \\\\\n",
       "\t 6          & 1          & 0          & 0.3345435  & 0.6485856  & -1.310927  & 0.2240765  & -0.4267567 & 1          & 0          & ...        & 0          & 0          & 0          & 0          & 0          & 0          & 0          & 0          & 0          & 1         \\\\\n",
       "\t 4          & 1          & 0          & 0.3345435  & 0.6485856  & -1.310927  & 0.2240765  & -0.4267567 & 0          & 0          & ...        & 0          & 0          & 0          & 0          & 0          & 0          & 0          & 0          & 0          & 1         \\\\\n",
       "\t 6          & 1          & 1          & 0.3345435  & 0.6485856  & -1.310927  & 0.2240765  & -0.4267567 & 0          & 0          & ...        & 0          & 0          & 0          & 0          & 0          & 0          & 0          & 0          & 0          & 1         \\\\\n",
       "\t 6          & 1          & 1          & 0.3345435  & 0.6485856  & -1.310927  & 0.2240765  & -0.4267567 & 0          & 0          & ...        & 0          & 0          & 0          & 0          & 0          & 0          & 0          & 0          & 0          & 1         \\\\\n",
       "\t 6          & 1          & 0          & 0.3345435  & 0.6485856  & -1.310927  & 0.2240765  & -0.4267567 & 0          & 0          & ...        & 0          & 0          & 0          & 0          & 0          & 0          & 0          & 0          & 0          & 1         \\\\\n",
       "\t 7          & 1          & 0          & 0.3345435  & 0.6485856  & -1.310927  & 0.2240765  & -0.4267567 & 0          & 0          & ...        & 0          & 0          & 0          & 0          & 0          & 0          & 0          & 0          & 0          & 1         \\\\\n",
       "\t 5          & 1          & 1          & 0.3345435  & 0.6485856  & -1.310927  & 0.2240765  & -0.4267567 & 0          & 0          & ...        & 0          & 0          & 0          & 0          & 0          & 0          & 0          & 0          & 0          & 1         \\\\\n",
       "\t 5          & 1          & 1          & 0.3345435  & 0.6485856  & -1.310927  & 0.2240765  & -0.4267567 & 0          & 0          & ...        & 0          & 0          & 0          & 0          & 0          & 0          & 0          & 0          & 0          & 1         \\\\\n",
       "\t 5          & 2          & 0          & 0.3345435  & 0.6485856  & -1.310927  & 0.2240765  & -0.4267567 & 0          & 0          & ...        & 0          & 0          & 0          & 0          & 0          & 0          & 0          & 0          & 0          & 1         \\\\\n",
       "\t 6          & 1          & 0          & 0.3345435  & 0.6485856  & -1.310927  & 0.2240765  & -0.4267567 & 0          & 0          & ...        & 0          & 0          & 0          & 0          & 0          & 0          & 0          & 0          & 0          & 1         \\\\\n",
       "\t 6          & 2          & 1          & 0.3345435  & 0.6485856  & -1.310927  & 0.2240765  & -0.4267567 & 0          & 0          & ...        & 0          & 0          & 0          & 0          & 0          & 0          & 0          & 0          & 0          & 1         \\\\\n",
       "\t 6          & 1          & 0          & 0.3345435  & 0.6485856  & -1.310927  & 0.2240765  & -0.4267567 & 0          & 0          & ...        & 0          & 0          & 0          & 0          & 0          & 0          & 0          & 0          & 0          & 1         \\\\\n",
       "\t 6          & 1          & 1          & 0.3345435  & 0.6485856  & -1.310927  & 0.2240765  & -0.4267567 & 0          & 0          & ...        & 0          & 1          & 0          & 0          & 0          & 0          & 0          & 0          & 0          & 1         \\\\\n",
       "\t 6          & 1          & 0          & 0.3345435  & 0.6485856  & -1.310927  & 0.2240765  & -0.4267567 & 0          & 0          & ...        & 0          & 0          & 0          & 0          & 0          & 0          & 0          & 0          & 0          & 1         \\\\\n",
       "\t 5          & 1          & 0          & 0.3345435  & 0.6485856  & -1.310927  & 0.2240765  & -0.4267567 & 0          & 0          & ...        & 0          & 0          & 0          & 0          & 0          & 0          & 0          & 0          & 0          & 1         \\\\\n",
       "\t ... & ... & ... & ... & ... & ... & ... & ... & ... & ... &     & ... & ... & ... & ... & ... & ... & ... & ... & ... & ...\\\\\n",
       "\t 6         & 1         & 0         & 1.185986  & -1.129889 & 1.009875  & 1.005063  & -1.174702 & 0         & 0         & ...       & 0         & 0         & 0         & 0         & 0         & 0         & 0         & 0         & 1         & 0        \\\\\n",
       "\t 5         & 1         & 1         & 1.185986  & -1.129889 & 1.009875  & 1.005063  & -1.174702 & 0         & 0         & ...       & 0         & 0         & 0         & 1         & 0         & 0         & 0         & 0         & 1         & 0        \\\\\n",
       "\t 3         & 2         & 0         & 1.185986  & -1.129889 & 1.009875  & 1.005063  & -1.174702 & 0         & 0         & ...       & 0         & 0         & 0         & 0         & 0         & 0         & 0         & 0         & 1         & 0        \\\\\n",
       "\t 5         & 1         & 0         & 1.185986  & -1.129889 & 1.009875  & 1.005063  & -1.174702 & 0         & 0         & ...       & 0         & 0         & 0         & 0         & 0         & 0         & 0         & 0         & 1         & 0        \\\\\n",
       "\t 6         & 1         & 0         & 1.185986  & -1.129889 & 1.009875  & 1.005063  & -1.174702 & 0         & 0         & ...       & 0         & 0         & 0         & 0         & 0         & 0         & 0         & 0         & 1         & 0        \\\\\n",
       "\t 3         & 2         & 1         & 1.185986  & -1.129889 & 1.009875  & 1.005063  & -1.174702 & 0         & 0         & ...       & 0         & 0         & 0         & 1         & 0         & 0         & 0         & 0         & 1         & 0        \\\\\n",
       "\t 4         & 1         & 1         & 1.185986  & -1.129889 & 1.009875  & 1.005063  & -1.174702 & 0         & 1         & ...       & 0         & 0         & 0         & 0         & 0         & 0         & 0         & 0         & 1         & 0        \\\\\n",
       "\t 2         & 2         & 1         & 1.185986  & -1.129889 & 1.009875  & 1.005063  & -1.174702 & 0         & 0         & ...       & 0         & 0         & 0         & 0         & 0         & 0         & 0         & 0         & 1         & 0        \\\\\n",
       "\t 6         & 2         & 1         & 1.185986  & -1.129889 & 1.009875  & 1.005063  & -1.174702 & 0         & 1         & ...       & 0         & 0         & 0         & 0         & 0         & 0         & 0         & 0         & 1         & 0        \\\\\n",
       "\t 5         & 2         & 1         & 1.185986  & -1.129889 & 1.009875  & 1.005063  & -1.174702 & 0         & 1         & ...       & 0         & 0         & 0         & 0         & 0         & 0         & 0         & 0         & 1         & 0        \\\\\n",
       "\t 4         & 1         & 1         & 1.185986  & -1.129889 & 1.009875  & 1.005063  & -1.174702 & 0         & 0         & ...       & 0         & 0         & 0         & 0         & 0         & 0         & 0         & 0         & 1         & 0        \\\\\n",
       "\t 6         & 1         & 0         & 1.185986  & -1.129889 & 1.009875  & 1.005063  & -1.174702 & 0         & 0         & ...       & 0         & 0         & 0         & 0         & 0         & 0         & 0         & 0         & 1         & 0        \\\\\n",
       "\t 6         & 1         & 1         & 1.185986  & -1.129889 & 1.009875  & 1.005063  & -1.174702 & 0         & 0         & ...       & 0         & 0         & 0         & 1         & 0         & 0         & 0         & 0         & 1         & 0        \\\\\n",
       "\t 5         & 2         & 1         & 1.185986  & -1.129889 & 1.009875  & 1.005063  & -1.174702 & 0         & 0         & ...       & 0         & 0         & 0         & 0         & 0         & 0         & 0         & 0         & 1         & 0        \\\\\n",
       "\t 5         & 1         & 1         & 1.185986  & -1.129889 & 1.009875  & 1.005063  & -1.174702 & 0         & 0         & ...       & 0         & 0         & 0         & 0         & 0         & 0         & 0         & 0         & 1         & 0        \\\\\n",
       "\t 3         & 2         & 1         & 1.185986  & -1.129889 & 1.009875  & 1.005063  & -1.174702 & 0         & 0         & ...       & 0         & 0         & 0         & 0         & 0         & 0         & 0         & 0         & 1         & 0        \\\\\n",
       "\t 6         & 1         & 1         & 1.185986  & -1.129889 & 1.009875  & 1.005063  & -1.174702 & 0         & 0         & ...       & 0         & 0         & 0         & 0         & 0         & 0         & 0         & 0         & 1         & 0        \\\\\n",
       "\t 6         & 2         & 1         & 1.185986  & -1.129889 & 1.009875  & 1.005063  & -1.174702 & 0         & 0         & ...       & 0         & 0         & 0         & 0         & 0         & 0         & 0         & 0         & 1         & 0        \\\\\n",
       "\t 3         & 2         & 1         & 1.185986  & -1.129889 & 1.009875  & 1.005063  & -1.174702 & 0         & 1         & ...       & 0         & 0         & 0         & 0         & 0         & 0         & 0         & 0         & 1         & 0        \\\\\n",
       "\t 3         & 2         & 1         & 1.185986  & -1.129889 & 1.009875  & 1.005063  & -1.174702 & 0         & 0         & ...       & 0         & 0         & 0         & 0         & 0         & 0         & 0         & 0         & 1         & 0        \\\\\n",
       "\t 5         & 2         & 1         & 1.185986  & -1.129889 & 1.009875  & 1.005063  & -1.174702 & 0         & 1         & ...       & 0         & 0         & 0         & 0         & 0         & 0         & 0         & 0         & 1         & 0        \\\\\n",
       "\t 5         & 1         & 1         & 1.185986  & -1.129889 & 1.009875  & 1.005063  & -1.174702 & 0         & 0         & ...       & 0         & 0         & 0         & 1         & 0         & 0         & 0         & 0         & 1         & 0        \\\\\n",
       "\t 5         & 1         & 1         & 1.185986  & -1.129889 & 1.009875  & 1.005063  & -1.174702 & 0         & 0         & ...       & 0         & 0         & 0         & 0         & 0         & 0         & 0         & 0         & 1         & 0        \\\\\n",
       "\t 5         & 1         & 1         & 1.185986  & -1.129889 & 1.009875  & 1.005063  & -1.174702 & 0         & 0         & ...       & 0         & 0         & 0         & 0         & 0         & 0         & 0         & 0         & 1         & 0        \\\\\n",
       "\t 5         & 2         & 0         & 1.185986  & -1.129889 & 1.009875  & 1.005063  & -1.174702 & 0         & 0         & ...       & 0         & 0         & 0         & 0         & 0         & 0         & 0         & 0         & 1         & 0        \\\\\n",
       "\t 7         & 2         & 1         & 1.185986  & -1.129889 & 1.009875  & 1.005063  & -1.174702 & 0         & 0         & ...       & 0         & 0         & 0         & 0         & 0         & 0         & 0         & 0         & 1         & 0        \\\\\n",
       "\t 7         & 2         & 1         & 1.185986  & -1.129889 & 1.009875  & 1.005063  & -1.174702 & 0         & 0         & ...       & 0         & 0         & 0         & 0         & 0         & 0         & 0         & 0         & 1         & 0        \\\\\n",
       "\t 2         & 1         & 1         & 1.185986  & -1.129889 & 1.009875  & 1.005063  & -1.174702 & 0         & 0         & ...       & 0         & 0         & 0         & 0         & 1         & 0         & 0         & 0         & 1         & 0        \\\\\n",
       "\t 5         & 1         & 1         & 1.185986  & -1.129889 & 1.009875  & 1.005063  & -1.174702 & 0         & 0         & ...       & 0         & 0         & 0         & 0         & 0         & 0         & 0         & 0         & 1         & 0        \\\\\n",
       "\t 5         & 2         & 1         & 1.185986  & -1.129889 & 1.009875  & 1.005063  & -1.174702 & 1         & 0         & ...       & 0         & 0         & 0         & 0         & 0         & 0         & 0         & 0         & 1         & 0        \\\\\n",
       "\\end{tabular}\n"
      ],
      "text/markdown": [
       "\n",
       "| S3 | C2 | C3 | X1 | X2 | X3 | X4 | X5 | factor(X.raw$C1)1 | factor(X.raw$C1)2 | ... | factor(X.raw$C1)11 | factor(X.raw$C1)12 | factor(X.raw$C1)13 | factor(X.raw$C1)14 | factor(X.raw$C1)15 | factor(X.raw$XC)0 | factor(X.raw$XC)1 | factor(X.raw$XC)2 | factor(X.raw$XC)3 | factor(X.raw$XC)4 |\n",
       "|---|---|---|---|---|---|---|---|---|---|---|---|---|---|---|---|---|---|---|---|---|\n",
       "| 6          | 2          | 1          | 0.3345435  | 0.6485856  | -1.310927  | 0.2240765  | -0.4267567 | 0          | 0          | ...        | 0          | 0          | 0          | 0          | 0          | 0          | 0          | 0          | 0          | 1          |\n",
       "| 4          | 2          | 1          | 0.3345435  | 0.6485856  | -1.310927  | 0.2240765  | -0.4267567 | 0          | 0          | ...        | 0          | 1          | 0          | 0          | 0          | 0          | 0          | 0          | 0          | 1          |\n",
       "| 6          | 2          | 0          | 0.3345435  | 0.6485856  | -1.310927  | 0.2240765  | -0.4267567 | 0          | 0          | ...        | 0          | 0          | 0          | 0          | 0          | 0          | 0          | 0          | 0          | 1          |\n",
       "| 6          | 2          | 0          | 0.3345435  | 0.6485856  | -1.310927  | 0.2240765  | -0.4267567 | 0          | 0          | ...        | 0          | 0          | 0          | 0          | 0          | 0          | 0          | 0          | 0          | 1          |\n",
       "| 6          | 1          | 0          | 0.3345435  | 0.6485856  | -1.310927  | 0.2240765  | -0.4267567 | 0          | 0          | ...        | 0          | 0          | 0          | 0          | 0          | 0          | 0          | 0          | 0          | 1          |\n",
       "| 6          | 2          | 0          | 0.3345435  | 0.6485856  | -1.310927  | 0.2240765  | -0.4267567 | 0          | 0          | ...        | 0          | 0          | 0          | 0          | 0          | 0          | 0          | 0          | 0          | 1          |\n",
       "| 6          | 1          | 0          | 0.3345435  | 0.6485856  | -1.310927  | 0.2240765  | -0.4267567 | 0          | 0          | ...        | 0          | 0          | 0          | 0          | 0          | 0          | 0          | 0          | 0          | 1          |\n",
       "| 6          | 1          | 0          | 0.3345435  | 0.6485856  | -1.310927  | 0.2240765  | -0.4267567 | 0          | 0          | ...        | 0          | 0          | 0          | 0          | 0          | 0          | 0          | 0          | 0          | 1          |\n",
       "| 6          | 2          | 0          | 0.3345435  | 0.6485856  | -1.310927  | 0.2240765  | -0.4267567 | 0          | 0          | ...        | 0          | 0          | 0          | 0          | 0          | 0          | 0          | 0          | 0          | 1          |\n",
       "| 6          | 1          | 1          | 0.3345435  | 0.6485856  | -1.310927  | 0.2240765  | -0.4267567 | 0          | 0          | ...        | 0          | 0          | 0          | 0          | 0          | 0          | 0          | 0          | 0          | 1          |\n",
       "| 6          | 2          | 0          | 0.3345435  | 0.6485856  | -1.310927  | 0.2240765  | -0.4267567 | 0          | 0          | ...        | 0          | 0          | 0          | 0          | 0          | 0          | 0          | 0          | 0          | 1          |\n",
       "| 4          | 2          | 0          | 0.3345435  | 0.6485856  | -1.310927  | 0.2240765  | -0.4267567 | 0          | 0          | ...        | 0          | 0          | 0          | 0          | 0          | 0          | 0          | 0          | 0          | 1          |\n",
       "| 6          | 1          | 1          | 0.3345435  | 0.6485856  | -1.310927  | 0.2240765  | -0.4267567 | 0          | 0          | ...        | 0          | 0          | 0          | 0          | 0          | 0          | 0          | 0          | 0          | 1          |\n",
       "| 6          | 1          | 0          | 0.3345435  | 0.6485856  | -1.310927  | 0.2240765  | -0.4267567 | 0          | 0          | ...        | 0          | 0          | 0          | 0          | 0          | 0          | 0          | 0          | 0          | 1          |\n",
       "| 6          | 2          | 0          | 0.3345435  | 0.6485856  | -1.310927  | 0.2240765  | -0.4267567 | 0          | 0          | ...        | 0          | 0          | 0          | 0          | 0          | 0          | 0          | 0          | 0          | 1          |\n",
       "| 6          | 1          | 0          | 0.3345435  | 0.6485856  | -1.310927  | 0.2240765  | -0.4267567 | 1          | 0          | ...        | 0          | 0          | 0          | 0          | 0          | 0          | 0          | 0          | 0          | 1          |\n",
       "| 4          | 1          | 0          | 0.3345435  | 0.6485856  | -1.310927  | 0.2240765  | -0.4267567 | 0          | 0          | ...        | 0          | 0          | 0          | 0          | 0          | 0          | 0          | 0          | 0          | 1          |\n",
       "| 6          | 1          | 1          | 0.3345435  | 0.6485856  | -1.310927  | 0.2240765  | -0.4267567 | 0          | 0          | ...        | 0          | 0          | 0          | 0          | 0          | 0          | 0          | 0          | 0          | 1          |\n",
       "| 6          | 1          | 1          | 0.3345435  | 0.6485856  | -1.310927  | 0.2240765  | -0.4267567 | 0          | 0          | ...        | 0          | 0          | 0          | 0          | 0          | 0          | 0          | 0          | 0          | 1          |\n",
       "| 6          | 1          | 0          | 0.3345435  | 0.6485856  | -1.310927  | 0.2240765  | -0.4267567 | 0          | 0          | ...        | 0          | 0          | 0          | 0          | 0          | 0          | 0          | 0          | 0          | 1          |\n",
       "| 7          | 1          | 0          | 0.3345435  | 0.6485856  | -1.310927  | 0.2240765  | -0.4267567 | 0          | 0          | ...        | 0          | 0          | 0          | 0          | 0          | 0          | 0          | 0          | 0          | 1          |\n",
       "| 5          | 1          | 1          | 0.3345435  | 0.6485856  | -1.310927  | 0.2240765  | -0.4267567 | 0          | 0          | ...        | 0          | 0          | 0          | 0          | 0          | 0          | 0          | 0          | 0          | 1          |\n",
       "| 5          | 1          | 1          | 0.3345435  | 0.6485856  | -1.310927  | 0.2240765  | -0.4267567 | 0          | 0          | ...        | 0          | 0          | 0          | 0          | 0          | 0          | 0          | 0          | 0          | 1          |\n",
       "| 5          | 2          | 0          | 0.3345435  | 0.6485856  | -1.310927  | 0.2240765  | -0.4267567 | 0          | 0          | ...        | 0          | 0          | 0          | 0          | 0          | 0          | 0          | 0          | 0          | 1          |\n",
       "| 6          | 1          | 0          | 0.3345435  | 0.6485856  | -1.310927  | 0.2240765  | -0.4267567 | 0          | 0          | ...        | 0          | 0          | 0          | 0          | 0          | 0          | 0          | 0          | 0          | 1          |\n",
       "| 6          | 2          | 1          | 0.3345435  | 0.6485856  | -1.310927  | 0.2240765  | -0.4267567 | 0          | 0          | ...        | 0          | 0          | 0          | 0          | 0          | 0          | 0          | 0          | 0          | 1          |\n",
       "| 6          | 1          | 0          | 0.3345435  | 0.6485856  | -1.310927  | 0.2240765  | -0.4267567 | 0          | 0          | ...        | 0          | 0          | 0          | 0          | 0          | 0          | 0          | 0          | 0          | 1          |\n",
       "| 6          | 1          | 1          | 0.3345435  | 0.6485856  | -1.310927  | 0.2240765  | -0.4267567 | 0          | 0          | ...        | 0          | 1          | 0          | 0          | 0          | 0          | 0          | 0          | 0          | 1          |\n",
       "| 6          | 1          | 0          | 0.3345435  | 0.6485856  | -1.310927  | 0.2240765  | -0.4267567 | 0          | 0          | ...        | 0          | 0          | 0          | 0          | 0          | 0          | 0          | 0          | 0          | 1          |\n",
       "| 5          | 1          | 0          | 0.3345435  | 0.6485856  | -1.310927  | 0.2240765  | -0.4267567 | 0          | 0          | ...        | 0          | 0          | 0          | 0          | 0          | 0          | 0          | 0          | 0          | 1          |\n",
       "| ... | ... | ... | ... | ... | ... | ... | ... | ... | ... |     | ... | ... | ... | ... | ... | ... | ... | ... | ... | ... |\n",
       "| 6         | 1         | 0         | 1.185986  | -1.129889 | 1.009875  | 1.005063  | -1.174702 | 0         | 0         | ...       | 0         | 0         | 0         | 0         | 0         | 0         | 0         | 0         | 1         | 0         |\n",
       "| 5         | 1         | 1         | 1.185986  | -1.129889 | 1.009875  | 1.005063  | -1.174702 | 0         | 0         | ...       | 0         | 0         | 0         | 1         | 0         | 0         | 0         | 0         | 1         | 0         |\n",
       "| 3         | 2         | 0         | 1.185986  | -1.129889 | 1.009875  | 1.005063  | -1.174702 | 0         | 0         | ...       | 0         | 0         | 0         | 0         | 0         | 0         | 0         | 0         | 1         | 0         |\n",
       "| 5         | 1         | 0         | 1.185986  | -1.129889 | 1.009875  | 1.005063  | -1.174702 | 0         | 0         | ...       | 0         | 0         | 0         | 0         | 0         | 0         | 0         | 0         | 1         | 0         |\n",
       "| 6         | 1         | 0         | 1.185986  | -1.129889 | 1.009875  | 1.005063  | -1.174702 | 0         | 0         | ...       | 0         | 0         | 0         | 0         | 0         | 0         | 0         | 0         | 1         | 0         |\n",
       "| 3         | 2         | 1         | 1.185986  | -1.129889 | 1.009875  | 1.005063  | -1.174702 | 0         | 0         | ...       | 0         | 0         | 0         | 1         | 0         | 0         | 0         | 0         | 1         | 0         |\n",
       "| 4         | 1         | 1         | 1.185986  | -1.129889 | 1.009875  | 1.005063  | -1.174702 | 0         | 1         | ...       | 0         | 0         | 0         | 0         | 0         | 0         | 0         | 0         | 1         | 0         |\n",
       "| 2         | 2         | 1         | 1.185986  | -1.129889 | 1.009875  | 1.005063  | -1.174702 | 0         | 0         | ...       | 0         | 0         | 0         | 0         | 0         | 0         | 0         | 0         | 1         | 0         |\n",
       "| 6         | 2         | 1         | 1.185986  | -1.129889 | 1.009875  | 1.005063  | -1.174702 | 0         | 1         | ...       | 0         | 0         | 0         | 0         | 0         | 0         | 0         | 0         | 1         | 0         |\n",
       "| 5         | 2         | 1         | 1.185986  | -1.129889 | 1.009875  | 1.005063  | -1.174702 | 0         | 1         | ...       | 0         | 0         | 0         | 0         | 0         | 0         | 0         | 0         | 1         | 0         |\n",
       "| 4         | 1         | 1         | 1.185986  | -1.129889 | 1.009875  | 1.005063  | -1.174702 | 0         | 0         | ...       | 0         | 0         | 0         | 0         | 0         | 0         | 0         | 0         | 1         | 0         |\n",
       "| 6         | 1         | 0         | 1.185986  | -1.129889 | 1.009875  | 1.005063  | -1.174702 | 0         | 0         | ...       | 0         | 0         | 0         | 0         | 0         | 0         | 0         | 0         | 1         | 0         |\n",
       "| 6         | 1         | 1         | 1.185986  | -1.129889 | 1.009875  | 1.005063  | -1.174702 | 0         | 0         | ...       | 0         | 0         | 0         | 1         | 0         | 0         | 0         | 0         | 1         | 0         |\n",
       "| 5         | 2         | 1         | 1.185986  | -1.129889 | 1.009875  | 1.005063  | -1.174702 | 0         | 0         | ...       | 0         | 0         | 0         | 0         | 0         | 0         | 0         | 0         | 1         | 0         |\n",
       "| 5         | 1         | 1         | 1.185986  | -1.129889 | 1.009875  | 1.005063  | -1.174702 | 0         | 0         | ...       | 0         | 0         | 0         | 0         | 0         | 0         | 0         | 0         | 1         | 0         |\n",
       "| 3         | 2         | 1         | 1.185986  | -1.129889 | 1.009875  | 1.005063  | -1.174702 | 0         | 0         | ...       | 0         | 0         | 0         | 0         | 0         | 0         | 0         | 0         | 1         | 0         |\n",
       "| 6         | 1         | 1         | 1.185986  | -1.129889 | 1.009875  | 1.005063  | -1.174702 | 0         | 0         | ...       | 0         | 0         | 0         | 0         | 0         | 0         | 0         | 0         | 1         | 0         |\n",
       "| 6         | 2         | 1         | 1.185986  | -1.129889 | 1.009875  | 1.005063  | -1.174702 | 0         | 0         | ...       | 0         | 0         | 0         | 0         | 0         | 0         | 0         | 0         | 1         | 0         |\n",
       "| 3         | 2         | 1         | 1.185986  | -1.129889 | 1.009875  | 1.005063  | -1.174702 | 0         | 1         | ...       | 0         | 0         | 0         | 0         | 0         | 0         | 0         | 0         | 1         | 0         |\n",
       "| 3         | 2         | 1         | 1.185986  | -1.129889 | 1.009875  | 1.005063  | -1.174702 | 0         | 0         | ...       | 0         | 0         | 0         | 0         | 0         | 0         | 0         | 0         | 1         | 0         |\n",
       "| 5         | 2         | 1         | 1.185986  | -1.129889 | 1.009875  | 1.005063  | -1.174702 | 0         | 1         | ...       | 0         | 0         | 0         | 0         | 0         | 0         | 0         | 0         | 1         | 0         |\n",
       "| 5         | 1         | 1         | 1.185986  | -1.129889 | 1.009875  | 1.005063  | -1.174702 | 0         | 0         | ...       | 0         | 0         | 0         | 1         | 0         | 0         | 0         | 0         | 1         | 0         |\n",
       "| 5         | 1         | 1         | 1.185986  | -1.129889 | 1.009875  | 1.005063  | -1.174702 | 0         | 0         | ...       | 0         | 0         | 0         | 0         | 0         | 0         | 0         | 0         | 1         | 0         |\n",
       "| 5         | 1         | 1         | 1.185986  | -1.129889 | 1.009875  | 1.005063  | -1.174702 | 0         | 0         | ...       | 0         | 0         | 0         | 0         | 0         | 0         | 0         | 0         | 1         | 0         |\n",
       "| 5         | 2         | 0         | 1.185986  | -1.129889 | 1.009875  | 1.005063  | -1.174702 | 0         | 0         | ...       | 0         | 0         | 0         | 0         | 0         | 0         | 0         | 0         | 1         | 0         |\n",
       "| 7         | 2         | 1         | 1.185986  | -1.129889 | 1.009875  | 1.005063  | -1.174702 | 0         | 0         | ...       | 0         | 0         | 0         | 0         | 0         | 0         | 0         | 0         | 1         | 0         |\n",
       "| 7         | 2         | 1         | 1.185986  | -1.129889 | 1.009875  | 1.005063  | -1.174702 | 0         | 0         | ...       | 0         | 0         | 0         | 0         | 0         | 0         | 0         | 0         | 1         | 0         |\n",
       "| 2         | 1         | 1         | 1.185986  | -1.129889 | 1.009875  | 1.005063  | -1.174702 | 0         | 0         | ...       | 0         | 0         | 0         | 0         | 1         | 0         | 0         | 0         | 1         | 0         |\n",
       "| 5         | 1         | 1         | 1.185986  | -1.129889 | 1.009875  | 1.005063  | -1.174702 | 0         | 0         | ...       | 0         | 0         | 0         | 0         | 0         | 0         | 0         | 0         | 1         | 0         |\n",
       "| 5         | 2         | 1         | 1.185986  | -1.129889 | 1.009875  | 1.005063  | -1.174702 | 1         | 0         | ...       | 0         | 0         | 0         | 0         | 0         | 0         | 0         | 0         | 1         | 0         |\n",
       "\n"
      ],
      "text/plain": [
       "      S3  C2  C3  X1        X2        X3        X4        X5        \n",
       "1     6   2   1   0.3345435 0.6485856 -1.310927 0.2240765 -0.4267567\n",
       "2     4   2   1   0.3345435 0.6485856 -1.310927 0.2240765 -0.4267567\n",
       "3     6   2   0   0.3345435 0.6485856 -1.310927 0.2240765 -0.4267567\n",
       "4     6   2   0   0.3345435 0.6485856 -1.310927 0.2240765 -0.4267567\n",
       "5     6   1   0   0.3345435 0.6485856 -1.310927 0.2240765 -0.4267567\n",
       "6     6   2   0   0.3345435 0.6485856 -1.310927 0.2240765 -0.4267567\n",
       "7     6   1   0   0.3345435 0.6485856 -1.310927 0.2240765 -0.4267567\n",
       "8     6   1   0   0.3345435 0.6485856 -1.310927 0.2240765 -0.4267567\n",
       "9     6   2   0   0.3345435 0.6485856 -1.310927 0.2240765 -0.4267567\n",
       "10    6   1   1   0.3345435 0.6485856 -1.310927 0.2240765 -0.4267567\n",
       "11    6   2   0   0.3345435 0.6485856 -1.310927 0.2240765 -0.4267567\n",
       "12    4   2   0   0.3345435 0.6485856 -1.310927 0.2240765 -0.4267567\n",
       "13    6   1   1   0.3345435 0.6485856 -1.310927 0.2240765 -0.4267567\n",
       "14    6   1   0   0.3345435 0.6485856 -1.310927 0.2240765 -0.4267567\n",
       "15    6   2   0   0.3345435 0.6485856 -1.310927 0.2240765 -0.4267567\n",
       "16    6   1   0   0.3345435 0.6485856 -1.310927 0.2240765 -0.4267567\n",
       "17    4   1   0   0.3345435 0.6485856 -1.310927 0.2240765 -0.4267567\n",
       "18    6   1   1   0.3345435 0.6485856 -1.310927 0.2240765 -0.4267567\n",
       "19    6   1   1   0.3345435 0.6485856 -1.310927 0.2240765 -0.4267567\n",
       "20    6   1   0   0.3345435 0.6485856 -1.310927 0.2240765 -0.4267567\n",
       "21    7   1   0   0.3345435 0.6485856 -1.310927 0.2240765 -0.4267567\n",
       "22    5   1   1   0.3345435 0.6485856 -1.310927 0.2240765 -0.4267567\n",
       "23    5   1   1   0.3345435 0.6485856 -1.310927 0.2240765 -0.4267567\n",
       "24    5   2   0   0.3345435 0.6485856 -1.310927 0.2240765 -0.4267567\n",
       "25    6   1   0   0.3345435 0.6485856 -1.310927 0.2240765 -0.4267567\n",
       "26    6   2   1   0.3345435 0.6485856 -1.310927 0.2240765 -0.4267567\n",
       "27    6   1   0   0.3345435 0.6485856 -1.310927 0.2240765 -0.4267567\n",
       "28    6   1   1   0.3345435 0.6485856 -1.310927 0.2240765 -0.4267567\n",
       "29    6   1   0   0.3345435 0.6485856 -1.310927 0.2240765 -0.4267567\n",
       "30    5   1   0   0.3345435 0.6485856 -1.310927 0.2240765 -0.4267567\n",
       "...   ... ... ... ...       ...       ...       ...       ...       \n",
       "10362 6   1   0   1.185986  -1.129889 1.009875  1.005063  -1.174702 \n",
       "10363 5   1   1   1.185986  -1.129889 1.009875  1.005063  -1.174702 \n",
       "10364 3   2   0   1.185986  -1.129889 1.009875  1.005063  -1.174702 \n",
       "10365 5   1   0   1.185986  -1.129889 1.009875  1.005063  -1.174702 \n",
       "10366 6   1   0   1.185986  -1.129889 1.009875  1.005063  -1.174702 \n",
       "10367 3   2   1   1.185986  -1.129889 1.009875  1.005063  -1.174702 \n",
       "10368 4   1   1   1.185986  -1.129889 1.009875  1.005063  -1.174702 \n",
       "10369 2   2   1   1.185986  -1.129889 1.009875  1.005063  -1.174702 \n",
       "10370 6   2   1   1.185986  -1.129889 1.009875  1.005063  -1.174702 \n",
       "10371 5   2   1   1.185986  -1.129889 1.009875  1.005063  -1.174702 \n",
       "10372 4   1   1   1.185986  -1.129889 1.009875  1.005063  -1.174702 \n",
       "10373 6   1   0   1.185986  -1.129889 1.009875  1.005063  -1.174702 \n",
       "10374 6   1   1   1.185986  -1.129889 1.009875  1.005063  -1.174702 \n",
       "10375 5   2   1   1.185986  -1.129889 1.009875  1.005063  -1.174702 \n",
       "10376 5   1   1   1.185986  -1.129889 1.009875  1.005063  -1.174702 \n",
       "10377 3   2   1   1.185986  -1.129889 1.009875  1.005063  -1.174702 \n",
       "10378 6   1   1   1.185986  -1.129889 1.009875  1.005063  -1.174702 \n",
       "10379 6   2   1   1.185986  -1.129889 1.009875  1.005063  -1.174702 \n",
       "10380 3   2   1   1.185986  -1.129889 1.009875  1.005063  -1.174702 \n",
       "10381 3   2   1   1.185986  -1.129889 1.009875  1.005063  -1.174702 \n",
       "10382 5   2   1   1.185986  -1.129889 1.009875  1.005063  -1.174702 \n",
       "10383 5   1   1   1.185986  -1.129889 1.009875  1.005063  -1.174702 \n",
       "10384 5   1   1   1.185986  -1.129889 1.009875  1.005063  -1.174702 \n",
       "10385 5   1   1   1.185986  -1.129889 1.009875  1.005063  -1.174702 \n",
       "10386 5   2   0   1.185986  -1.129889 1.009875  1.005063  -1.174702 \n",
       "10387 7   2   1   1.185986  -1.129889 1.009875  1.005063  -1.174702 \n",
       "10388 7   2   1   1.185986  -1.129889 1.009875  1.005063  -1.174702 \n",
       "10389 2   1   1   1.185986  -1.129889 1.009875  1.005063  -1.174702 \n",
       "10390 5   1   1   1.185986  -1.129889 1.009875  1.005063  -1.174702 \n",
       "10391 5   2   1   1.185986  -1.129889 1.009875  1.005063  -1.174702 \n",
       "      factor(X.raw$C1)1 factor(X.raw$C1)2 ... factor(X.raw$C1)11\n",
       "1     0                 0                 ... 0                 \n",
       "2     0                 0                 ... 0                 \n",
       "3     0                 0                 ... 0                 \n",
       "4     0                 0                 ... 0                 \n",
       "5     0                 0                 ... 0                 \n",
       "6     0                 0                 ... 0                 \n",
       "7     0                 0                 ... 0                 \n",
       "8     0                 0                 ... 0                 \n",
       "9     0                 0                 ... 0                 \n",
       "10    0                 0                 ... 0                 \n",
       "11    0                 0                 ... 0                 \n",
       "12    0                 0                 ... 0                 \n",
       "13    0                 0                 ... 0                 \n",
       "14    0                 0                 ... 0                 \n",
       "15    0                 0                 ... 0                 \n",
       "16    1                 0                 ... 0                 \n",
       "17    0                 0                 ... 0                 \n",
       "18    0                 0                 ... 0                 \n",
       "19    0                 0                 ... 0                 \n",
       "20    0                 0                 ... 0                 \n",
       "21    0                 0                 ... 0                 \n",
       "22    0                 0                 ... 0                 \n",
       "23    0                 0                 ... 0                 \n",
       "24    0                 0                 ... 0                 \n",
       "25    0                 0                 ... 0                 \n",
       "26    0                 0                 ... 0                 \n",
       "27    0                 0                 ... 0                 \n",
       "28    0                 0                 ... 0                 \n",
       "29    0                 0                 ... 0                 \n",
       "30    0                 0                 ... 0                 \n",
       "...   ...               ...                   ...               \n",
       "10362 0                 0                 ... 0                 \n",
       "10363 0                 0                 ... 0                 \n",
       "10364 0                 0                 ... 0                 \n",
       "10365 0                 0                 ... 0                 \n",
       "10366 0                 0                 ... 0                 \n",
       "10367 0                 0                 ... 0                 \n",
       "10368 0                 1                 ... 0                 \n",
       "10369 0                 0                 ... 0                 \n",
       "10370 0                 1                 ... 0                 \n",
       "10371 0                 1                 ... 0                 \n",
       "10372 0                 0                 ... 0                 \n",
       "10373 0                 0                 ... 0                 \n",
       "10374 0                 0                 ... 0                 \n",
       "10375 0                 0                 ... 0                 \n",
       "10376 0                 0                 ... 0                 \n",
       "10377 0                 0                 ... 0                 \n",
       "10378 0                 0                 ... 0                 \n",
       "10379 0                 0                 ... 0                 \n",
       "10380 0                 1                 ... 0                 \n",
       "10381 0                 0                 ... 0                 \n",
       "10382 0                 1                 ... 0                 \n",
       "10383 0                 0                 ... 0                 \n",
       "10384 0                 0                 ... 0                 \n",
       "10385 0                 0                 ... 0                 \n",
       "10386 0                 0                 ... 0                 \n",
       "10387 0                 0                 ... 0                 \n",
       "10388 0                 0                 ... 0                 \n",
       "10389 0                 0                 ... 0                 \n",
       "10390 0                 0                 ... 0                 \n",
       "10391 1                 0                 ... 0                 \n",
       "      factor(X.raw$C1)12 factor(X.raw$C1)13 factor(X.raw$C1)14\n",
       "1     0                  0                  0                 \n",
       "2     1                  0                  0                 \n",
       "3     0                  0                  0                 \n",
       "4     0                  0                  0                 \n",
       "5     0                  0                  0                 \n",
       "6     0                  0                  0                 \n",
       "7     0                  0                  0                 \n",
       "8     0                  0                  0                 \n",
       "9     0                  0                  0                 \n",
       "10    0                  0                  0                 \n",
       "11    0                  0                  0                 \n",
       "12    0                  0                  0                 \n",
       "13    0                  0                  0                 \n",
       "14    0                  0                  0                 \n",
       "15    0                  0                  0                 \n",
       "16    0                  0                  0                 \n",
       "17    0                  0                  0                 \n",
       "18    0                  0                  0                 \n",
       "19    0                  0                  0                 \n",
       "20    0                  0                  0                 \n",
       "21    0                  0                  0                 \n",
       "22    0                  0                  0                 \n",
       "23    0                  0                  0                 \n",
       "24    0                  0                  0                 \n",
       "25    0                  0                  0                 \n",
       "26    0                  0                  0                 \n",
       "27    0                  0                  0                 \n",
       "28    1                  0                  0                 \n",
       "29    0                  0                  0                 \n",
       "30    0                  0                  0                 \n",
       "...   ...                ...                ...               \n",
       "10362 0                  0                  0                 \n",
       "10363 0                  0                  1                 \n",
       "10364 0                  0                  0                 \n",
       "10365 0                  0                  0                 \n",
       "10366 0                  0                  0                 \n",
       "10367 0                  0                  1                 \n",
       "10368 0                  0                  0                 \n",
       "10369 0                  0                  0                 \n",
       "10370 0                  0                  0                 \n",
       "10371 0                  0                  0                 \n",
       "10372 0                  0                  0                 \n",
       "10373 0                  0                  0                 \n",
       "10374 0                  0                  1                 \n",
       "10375 0                  0                  0                 \n",
       "10376 0                  0                  0                 \n",
       "10377 0                  0                  0                 \n",
       "10378 0                  0                  0                 \n",
       "10379 0                  0                  0                 \n",
       "10380 0                  0                  0                 \n",
       "10381 0                  0                  0                 \n",
       "10382 0                  0                  0                 \n",
       "10383 0                  0                  1                 \n",
       "10384 0                  0                  0                 \n",
       "10385 0                  0                  0                 \n",
       "10386 0                  0                  0                 \n",
       "10387 0                  0                  0                 \n",
       "10388 0                  0                  0                 \n",
       "10389 0                  0                  0                 \n",
       "10390 0                  0                  0                 \n",
       "10391 0                  0                  0                 \n",
       "      factor(X.raw$C1)15 factor(X.raw$XC)0 factor(X.raw$XC)1 factor(X.raw$XC)2\n",
       "1     0                  0                 0                 0                \n",
       "2     0                  0                 0                 0                \n",
       "3     0                  0                 0                 0                \n",
       "4     0                  0                 0                 0                \n",
       "5     0                  0                 0                 0                \n",
       "6     0                  0                 0                 0                \n",
       "7     0                  0                 0                 0                \n",
       "8     0                  0                 0                 0                \n",
       "9     0                  0                 0                 0                \n",
       "10    0                  0                 0                 0                \n",
       "11    0                  0                 0                 0                \n",
       "12    0                  0                 0                 0                \n",
       "13    0                  0                 0                 0                \n",
       "14    0                  0                 0                 0                \n",
       "15    0                  0                 0                 0                \n",
       "16    0                  0                 0                 0                \n",
       "17    0                  0                 0                 0                \n",
       "18    0                  0                 0                 0                \n",
       "19    0                  0                 0                 0                \n",
       "20    0                  0                 0                 0                \n",
       "21    0                  0                 0                 0                \n",
       "22    0                  0                 0                 0                \n",
       "23    0                  0                 0                 0                \n",
       "24    0                  0                 0                 0                \n",
       "25    0                  0                 0                 0                \n",
       "26    0                  0                 0                 0                \n",
       "27    0                  0                 0                 0                \n",
       "28    0                  0                 0                 0                \n",
       "29    0                  0                 0                 0                \n",
       "30    0                  0                 0                 0                \n",
       "...   ...                ...               ...               ...              \n",
       "10362 0                  0                 0                 0                \n",
       "10363 0                  0                 0                 0                \n",
       "10364 0                  0                 0                 0                \n",
       "10365 0                  0                 0                 0                \n",
       "10366 0                  0                 0                 0                \n",
       "10367 0                  0                 0                 0                \n",
       "10368 0                  0                 0                 0                \n",
       "10369 0                  0                 0                 0                \n",
       "10370 0                  0                 0                 0                \n",
       "10371 0                  0                 0                 0                \n",
       "10372 0                  0                 0                 0                \n",
       "10373 0                  0                 0                 0                \n",
       "10374 0                  0                 0                 0                \n",
       "10375 0                  0                 0                 0                \n",
       "10376 0                  0                 0                 0                \n",
       "10377 0                  0                 0                 0                \n",
       "10378 0                  0                 0                 0                \n",
       "10379 0                  0                 0                 0                \n",
       "10380 0                  0                 0                 0                \n",
       "10381 0                  0                 0                 0                \n",
       "10382 0                  0                 0                 0                \n",
       "10383 0                  0                 0                 0                \n",
       "10384 0                  0                 0                 0                \n",
       "10385 0                  0                 0                 0                \n",
       "10386 0                  0                 0                 0                \n",
       "10387 0                  0                 0                 0                \n",
       "10388 0                  0                 0                 0                \n",
       "10389 1                  0                 0                 0                \n",
       "10390 0                  0                 0                 0                \n",
       "10391 0                  0                 0                 0                \n",
       "      factor(X.raw$XC)3 factor(X.raw$XC)4\n",
       "1     0                 1                \n",
       "2     0                 1                \n",
       "3     0                 1                \n",
       "4     0                 1                \n",
       "5     0                 1                \n",
       "6     0                 1                \n",
       "7     0                 1                \n",
       "8     0                 1                \n",
       "9     0                 1                \n",
       "10    0                 1                \n",
       "11    0                 1                \n",
       "12    0                 1                \n",
       "13    0                 1                \n",
       "14    0                 1                \n",
       "15    0                 1                \n",
       "16    0                 1                \n",
       "17    0                 1                \n",
       "18    0                 1                \n",
       "19    0                 1                \n",
       "20    0                 1                \n",
       "21    0                 1                \n",
       "22    0                 1                \n",
       "23    0                 1                \n",
       "24    0                 1                \n",
       "25    0                 1                \n",
       "26    0                 1                \n",
       "27    0                 1                \n",
       "28    0                 1                \n",
       "29    0                 1                \n",
       "30    0                 1                \n",
       "...   ...               ...              \n",
       "10362 1                 0                \n",
       "10363 1                 0                \n",
       "10364 1                 0                \n",
       "10365 1                 0                \n",
       "10366 1                 0                \n",
       "10367 1                 0                \n",
       "10368 1                 0                \n",
       "10369 1                 0                \n",
       "10370 1                 0                \n",
       "10371 1                 0                \n",
       "10372 1                 0                \n",
       "10373 1                 0                \n",
       "10374 1                 0                \n",
       "10375 1                 0                \n",
       "10376 1                 0                \n",
       "10377 1                 0                \n",
       "10378 1                 0                \n",
       "10379 1                 0                \n",
       "10380 1                 0                \n",
       "10381 1                 0                \n",
       "10382 1                 0                \n",
       "10383 1                 0                \n",
       "10384 1                 0                \n",
       "10385 1                 0                \n",
       "10386 1                 0                \n",
       "10387 1                 0                \n",
       "10388 1                 0                \n",
       "10389 1                 0                \n",
       "10390 1                 0                \n",
       "10391 1                 0                "
      ]
     },
     "metadata": {},
     "output_type": "display_data"
    }
   ],
   "source": [
    "X = cbind(X.raw[,-which(names(X.raw) %in% c(\"C1\", \"XC\"))], C1.exp, XC.exp)\n",
    "X"
   ]
  },
  {
   "cell_type": "markdown",
   "id": "b487ccb3",
   "metadata": {},
   "source": [
    "## How the tree was built?\n",
    "\n",
    "The tree first the model is defined and the data split is used. A statistic of the data is assembled and minimized. It begins by fitting two separate regression forests. Then, he makes out-of-the-bag predictions using these two first-stage forests, and uses them to grow a causal forest. So we train causal forests with different values of the fit parameters, and choose those that make out-of-pocket estimates of the minimized target.\n",
    "\n",
    "We start by training a pilot random forest on all the features, and then train a second forest on only those features that saw a reasonable number of splits in the first. This enables the forest to make more splits on the most important features in low-signal situations. Second, we increase the samples_per_cluster parameter to increase the number of samples used to grow each tree. "
   ]
  },
  {
   "cell_type": "code",
   "execution_count": 82,
   "id": "2337b1bb",
   "metadata": {},
   "outputs": [],
   "source": [
    "Y.forest = regression_forest(X, Y, clusters = school.id, equalize.cluster.weights = TRUE)\n",
    "Y.hat = predict(Y.forest)$predictions\n",
    "W.forest = regression_forest(X, W, clusters = school.id, equalize.cluster.weights = TRUE)\n",
    "W.hat = predict(W.forest)$predictions\n"
   ]
  },
  {
   "cell_type": "code",
   "execution_count": 83,
   "id": "c515c1a3",
   "metadata": {},
   "outputs": [],
   "source": [
    "cf.raw = causal_forest(X, Y, W,\n",
    "                       Y.hat = Y.hat, W.hat = W.hat,\n",
    "                       clusters = school.id,\n",
    "                       equalize.cluster.weights = TRUE)"
   ]
  },
  {
   "cell_type": "code",
   "execution_count": 84,
   "id": "5cc9d4f5",
   "metadata": {},
   "outputs": [
    {
     "data": {
      "text/plain": [
       "GRF forest object of type causal_forest \n",
       "Number of trees: 2000 \n",
       "Number of training samples: 10391 \n",
       "Variable importance: \n",
       "    1     2     3     4     5     6     7     8     9    10    11    12    13 \n",
       "0.130 0.046 0.036 0.153 0.117 0.106 0.110 0.124 0.017 0.015 0.000 0.041 0.003 \n",
       "   14    15    16    17    18    19    20    21    22    23    24    25    26 \n",
       "0.000 0.000 0.000 0.000 0.000 0.000 0.004 0.000 0.014 0.003 0.007 0.016 0.016 \n",
       "   27    28 \n",
       "0.030 0.012 "
      ]
     },
     "metadata": {},
     "output_type": "display_data"
    }
   ],
   "source": [
    "cf.raw"
   ]
  },
  {
   "cell_type": "code",
   "execution_count": 85,
   "id": "9f058393",
   "metadata": {},
   "outputs": [],
   "source": [
    "varimp = variable_importance(cf.raw)\n",
    "selected.idx = which(varimp > mean(varimp))"
   ]
  },
  {
   "cell_type": "code",
   "execution_count": 86,
   "id": "2ea5d4f9",
   "metadata": {},
   "outputs": [],
   "source": [
    "cf = causal_forest(X[,selected.idx], Y, W,\n",
    "                   Y.hat = Y.hat, W.hat = W.hat,\n",
    "                   clusters = school.id,\n",
    "                   equalize.cluster.weights = TRUE,\n",
    "                   tune.parameters = \"all\")\n",
    "tau.hat = predict(cf)$predictions"
   ]
  },
  {
   "cell_type": "markdown",
   "id": "959299d5",
   "metadata": {},
   "source": [
    "## Estimate ATE\n",
    "\n",
    "First ATE is average treatment efect. That efect is estimated  based on a variant of augmented inverse- propensity weighting with clusters, we compute an average treatment effect estimate. Each school  receives equal weight in ATE estimation.\n"
   ]
  },
  {
   "cell_type": "code",
   "execution_count": 87,
   "id": "60b6ed90",
   "metadata": {},
   "outputs": [
    {
     "data": {
      "text/html": [
       "'95% CI for the ATE: 0.248 +/- 0.039'"
      ],
      "text/latex": [
       "'95\\% CI for the ATE: 0.248 +/- 0.039'"
      ],
      "text/markdown": [
       "'95% CI for the ATE: 0.248 +/- 0.039'"
      ],
      "text/plain": [
       "[1] \"95% CI for the ATE: 0.248 +/- 0.039\""
      ]
     },
     "metadata": {},
     "output_type": "display_data"
    }
   ],
   "source": [
    "ATE = average_treatment_effect(cf)\n",
    "paste(\"95% CI for the ATE:\", round(ATE[1], 3),\n",
    "      \"+/-\", round(qnorm(0.975) * ATE[2], 3))"
   ]
  },
  {
   "cell_type": "code",
   "execution_count": 20,
   "id": "fa288490",
   "metadata": {},
   "outputs": [],
   "source": [
    "#\n",
    "# Omnibus tests for heterogeneity\n",
    "#"
   ]
  },
  {
   "cell_type": "markdown",
   "id": "1cd5f3e7",
   "metadata": {},
   "source": [
    "## Best linear predictor analysis\n"
   ]
  },
  {
   "cell_type": "code",
   "execution_count": 88,
   "id": "4b2a6c87",
   "metadata": {},
   "outputs": [
    {
     "data": {
      "text/plain": [
       "\n",
       "Best linear fit using forest predictions (on held-out data)\n",
       "as well as the mean forest prediction as regressors, along\n",
       "with one-sided heteroskedasticity-robust (HC3) SEs:\n",
       "\n",
       "                               Estimate Std. Error t value Pr(>t)    \n",
       "mean.forest.prediction         0.996727   0.082132  12.136 <2e-16 ***\n",
       "differential.forest.prediction 0.200832   0.616050   0.326 0.3722    \n",
       "---\n",
       "Signif. codes:  0 '***' 0.001 '**' 0.01 '*' 0.05 '.' 0.1 ' ' 1\n"
      ]
     },
     "metadata": {},
     "output_type": "display_data"
    }
   ],
   "source": [
    "test_calibration(cf)"
   ]
  },
  {
   "cell_type": "code",
   "execution_count": 89,
   "id": "66e9b2d3",
   "metadata": {},
   "outputs": [
    {
     "data": {
      "text/html": [
       "'95% CI for difference in ATE: 0.058 +/- 0.07'"
      ],
      "text/latex": [
       "'95\\% CI for difference in ATE: 0.058 +/- 0.07'"
      ],
      "text/markdown": [
       "'95% CI for difference in ATE: 0.058 +/- 0.07'"
      ],
      "text/plain": [
       "[1] \"95% CI for difference in ATE: 0.058 +/- 0.07\""
      ]
     },
     "metadata": {},
     "output_type": "display_data"
    }
   ],
   "source": [
    "# Compare regions with high and low estimated CATEs\n",
    "high_effect = tau.hat > median(tau.hat)\n",
    "ate.high = average_treatment_effect(cf, subset = high_effect)\n",
    "ate.low = average_treatment_effect(cf, subset = !high_effect)\n",
    "paste(\"95% CI for difference in ATE:\",\n",
    "      round(ate.high[1] - ate.low[1], 3), \"+/-\",\n",
    "      round(qnorm(0.975) * sqrt(ate.high[2]^2 + ate.low[2]^2), 3))\n"
   ]
  },
  {
   "cell_type": "code",
   "execution_count": 90,
   "id": "96559a6a",
   "metadata": {},
   "outputs": [],
   "source": [
    "dr.score = tau.hat + W / cf$W.hat *\n",
    "  (Y - cf$Y.hat - (1 - cf$W.hat) * tau.hat) -\n",
    "  (1 - W) / (1 - cf$W.hat) * (Y - cf$Y.hat + cf$W.hat * tau.hat)\n",
    "school.score = t(school.mat) %*% dr.score / school.size"
   ]
  },
  {
   "cell_type": "code",
   "execution_count": 91,
   "id": "f8051223",
   "metadata": {},
   "outputs": [
    {
     "data": {
      "text/plain": [
       "\n",
       "\tWelch Two Sample t-test\n",
       "\n",
       "data:  school.score[high.X1] and school.score[!high.X1]\n",
       "t = -3.0365, df = 71.412, p-value = 0.00334\n",
       "alternative hypothesis: true difference in means is not equal to 0\n",
       "95 percent confidence interval:\n",
       " -0.19234741 -0.03987287\n",
       "sample estimates:\n",
       "mean of x mean of y \n",
       "0.1903880 0.3064981 \n"
      ]
     },
     "metadata": {},
     "output_type": "display_data"
    }
   ],
   "source": [
    "school.X1 = t(school.mat) %*% X$X1 / school.size\n",
    "high.X1 = school.X1 > median(school.X1)\n",
    "t.test(school.score[high.X1], school.score[!high.X1])"
   ]
  },
  {
   "cell_type": "code",
   "execution_count": 92,
   "id": "93df7415",
   "metadata": {},
   "outputs": [
    {
     "data": {
      "text/plain": [
       "\n",
       "\tWelch Two Sample t-test\n",
       "\n",
       "data:  school.score[high.X2] and school.score[!high.X2]\n",
       "t = 0.96525, df = 72.286, p-value = 0.3376\n",
       "alternative hypothesis: true difference in means is not equal to 0\n",
       "95 percent confidence interval:\n",
       " -0.0414292  0.1192237\n",
       "sample estimates:\n",
       "mean of x mean of y \n",
       "0.2678917 0.2289944 \n"
      ]
     },
     "metadata": {},
     "output_type": "display_data"
    }
   ],
   "source": [
    "school.X2 = (t(school.mat) %*% X$X2) / school.size\n",
    "high.X2 = school.X2 > median(school.X2)\n",
    "t.test(school.score[high.X2], school.score[!high.X2])"
   ]
  },
  {
   "cell_type": "code",
   "execution_count": 93,
   "id": "6e6a9ac3",
   "metadata": {},
   "outputs": [
    {
     "data": {
      "text/plain": [
       "                 Df Sum Sq Mean Sq F value Pr(>F)\n",
       "school.X2.levels  2 0.0807 0.04034    1.32  0.273\n",
       "Residuals        73 2.2313 0.03057               "
      ]
     },
     "metadata": {},
     "output_type": "display_data"
    }
   ],
   "source": [
    "school.X2.levels = cut(school.X2,\n",
    "  breaks = c(-Inf, quantile(school.X2, c(1/3, 2/3)), Inf))\n",
    "summary(aov(school.score ~ school.X2.levels))"
   ]
  },
  {
   "cell_type": "code",
   "execution_count": 28,
   "id": "10701a87",
   "metadata": {},
   "outputs": [],
   "source": [
    "#\n",
    "# formal test for S3\n",
    "#"
   ]
  },
  {
   "cell_type": "code",
   "execution_count": 94,
   "id": "dfef992b",
   "metadata": {},
   "outputs": [],
   "source": [
    "school.score.XS3.high = t(school.mat) %*% (dr.score * (X$S3 >= 6)) /\n",
    "  t(school.mat) %*% (X$S3 >= 6)\n",
    "school.score.XS3.low = t(school.mat) %*% (dr.score * (X$S3 < 6)) /\n",
    "  t(school.mat) %*% (X$S3 < 6)\n"
   ]
  },
  {
   "cell_type": "code",
   "execution_count": 95,
   "id": "cc4e402d",
   "metadata": {},
   "outputs": [
    {
     "data": {
      "text/plain": [
       "\n",
       "\tOne Sample t-test\n",
       "\n",
       "data:  school.score.XS3.high - school.score.XS3.low\n",
       "t = 2.244, df = 75, p-value = 0.02778\n",
       "alternative hypothesis: true mean is not equal to 0\n",
       "95 percent confidence interval:\n",
       " 0.009554619 0.160661883\n",
       "sample estimates:\n",
       " mean of x \n",
       "0.08510825 \n"
      ]
     },
     "metadata": {},
     "output_type": "display_data"
    },
    {
     "data": {
      "image/png": "[encoded data removed]",
      "text/plain": [
       "plot without title"
      ]
     },
     "metadata": {},
     "output_type": "display_data"
    }
   ],
   "source": [
    "plot(school.score.XS3.low, school.score.XS3.high)\n",
    "t.test(school.score.XS3.high - school.score.XS3.low)"
   ]
  },
  {
   "cell_type": "markdown",
   "id": "96c76110",
   "metadata": {},
   "source": [
    "## Look at school-wise heterogeneity\n",
    "\n",
    "Discover heterogeneity in X1 (wise). On the other hand, there is no heterogeneity in X2 (Achievement at school). Having Mixed results in X1 and X2 are covariates of school level."
   ]
  },
  {
   "cell_type": "code",
   "execution_count": 96,
   "id": "da847f27",
   "metadata": {},
   "outputs": [
    {
     "data": {
      "text/html": [
       "<strong>png:</strong> 2"
      ],
      "text/latex": [
       "\\textbf{png:} 2"
      ],
      "text/markdown": [
       "**png:** 2"
      ],
      "text/plain": [
       "png \n",
       "  2 "
      ]
     },
     "metadata": {},
     "output_type": "display_data"
    }
   ],
   "source": [
    "pdf(\"school_hist.pdf\")\n",
    "pardef = par(mar = c(5, 4, 4, 2) + 0.5, cex.lab=1.5, cex.axis=1.5, cex.main=1.5, cex.sub=1.5)\n",
    "hist(school.score, xlab = \"School Treatment Effect Estimate\", main = \"\")\n",
    "dev.off()\n"
   ]
  },
  {
   "cell_type": "code",
   "execution_count": 33,
   "id": "0e2a1e6f",
   "metadata": {},
   "outputs": [],
   "source": [
    "#\n",
    "# Re-check ATE... sanity check only\n",
    "#\n"
   ]
  },
  {
   "cell_type": "code",
   "execution_count": 97,
   "id": "909011cd",
   "metadata": {},
   "outputs": [
    {
     "name": "stdout",
     "output_type": "stream",
     "text": [
      "[1] \"0.248 +/- 0.039\"\n"
     ]
    }
   ],
   "source": [
    "ate.hat = mean(school.score)\n",
    "se.hat = sqrt(var(school.score) / length(school.score - 1))\n",
    "print(paste(round(ate.hat, 3), \"+/-\", round(1.96 * se.hat, 3)))"
   ]
  },
  {
   "cell_type": "code",
   "execution_count": 35,
   "id": "f02b2c6b",
   "metadata": {},
   "outputs": [],
   "source": [
    "#\n",
    "# Look at variation in propensity scores\n",
    "#"
   ]
  },
  {
   "cell_type": "code",
   "execution_count": 98,
   "id": "b071c8e3",
   "metadata": {},
   "outputs": [],
   "source": [
    "DF = X\n",
    "DF$W.hat = cf$W.hat"
   ]
  },
  {
   "cell_type": "code",
   "execution_count": 99,
   "id": "ffe960c0",
   "metadata": {},
   "outputs": [
    {
     "data": {
      "text/html": [
       "<strong>png:</strong> 2"
      ],
      "text/latex": [
       "\\textbf{png:} 2"
      ],
      "text/markdown": [
       "**png:** 2"
      ],
      "text/plain": [
       "png \n",
       "  2 "
      ]
     },
     "metadata": {},
     "output_type": "display_data"
    }
   ],
   "source": [
    "pdf(\"pscore.pdf\")\n",
    "pardef = par(mar = c(5, 4, 4, 2) + 0.5, cex.lab=1.5, cex.axis=1.5, cex.main=1.5, cex.sub=1.5)\n",
    "boxplot(W.hat ~ S3, data = DF, ylab = \"Propensity Score\", xlab = \"Student Expectation of Success\")\n",
    "lines(smooth.spline(X$S3, cf$W.hat), lwd = 2, col = 4)\n",
    "dev.off()"
   ]
  },
  {
   "cell_type": "markdown",
   "id": "1d891411",
   "metadata": {},
   "source": [
    "## Analysis ignoring clusters. How do the results change?\n",
    "\n",
    "If we train the causal forest on students without clustering by school, then we obtain marked differences from the previous results.\n",
    "The confidence interval for the ATE is now markedly half of the previous exercise and there appears to be an ambiguous heterogeneous effect according to the test_calibatrion function."
   ]
  },
  {
   "cell_type": "code",
   "execution_count": 100,
   "id": "e1aeab6c",
   "metadata": {},
   "outputs": [],
   "source": [
    "cf.noclust = causal_forest(X[,selected.idx], Y, W,\n",
    "                           Y.hat = Y.hat, W.hat = W.hat,\n",
    "                           tune.parameters = \"all\")"
   ]
  },
  {
   "cell_type": "code",
   "execution_count": 101,
   "id": "63489b95",
   "metadata": {},
   "outputs": [
    {
     "data": {
      "text/html": [
       "'95% CI for the ATE: 0.254 +/- 0.022'"
      ],
      "text/latex": [
       "'95\\% CI for the ATE: 0.254 +/- 0.022'"
      ],
      "text/markdown": [
       "'95% CI for the ATE: 0.254 +/- 0.022'"
      ],
      "text/plain": [
       "[1] \"95% CI for the ATE: 0.254 +/- 0.022\""
      ]
     },
     "metadata": {},
     "output_type": "display_data"
    }
   ],
   "source": [
    "ATE.noclust = average_treatment_effect(cf.noclust)\n",
    "paste(\"95% CI for the ATE:\", round(ATE.noclust[1], 3),\n",
    "      \"+/-\", round(qnorm(0.975) * ATE.noclust[2], 3))"
   ]
  },
  {
   "cell_type": "code",
   "execution_count": 102,
   "id": "ebc7d149",
   "metadata": {},
   "outputs": [
    {
     "data": {
      "text/plain": [
       "\n",
       "Best linear fit using forest predictions (on held-out data)\n",
       "as well as the mean forest prediction as regressors, along\n",
       "with one-sided heteroskedasticity-robust (HC3) SEs:\n",
       "\n",
       "                               Estimate Std. Error t value    Pr(>t)    \n",
       "mean.forest.prediction         1.014372   0.045172  22.456 < 2.2e-16 ***\n",
       "differential.forest.prediction 0.534271   0.132375   4.036 2.738e-05 ***\n",
       "---\n",
       "Signif. codes:  0 '***' 0.001 '**' 0.01 '*' 0.05 '.' 0.1 ' ' 1\n"
      ]
     },
     "metadata": {},
     "output_type": "display_data"
    }
   ],
   "source": [
    "test_calibration(cf.noclust)\n"
   ]
  },
  {
   "cell_type": "code",
   "execution_count": 103,
   "id": "49885df5",
   "metadata": {},
   "outputs": [
    {
     "data": {
      "image/png": "[encoded data removed]",
      "text/plain": [
       "plot without title"
      ]
     },
     "metadata": {},
     "output_type": "display_data"
    }
   ],
   "source": [
    "tau.hat.noclust = predict(cf.noclust)$predict\n",
    "plot(school.id, tau.hat.noclust)\n"
   ]
  },
  {
   "cell_type": "code",
   "execution_count": 104,
   "id": "faea52cf",
   "metadata": {},
   "outputs": [],
   "source": [
    "nfold = 5\n",
    "school.levels = unique(school.id)\n",
    "cluster.folds = sample.int(nfold, length(school.levels), replace = TRUE)"
   ]
  },
  {
   "cell_type": "code",
   "execution_count": 105,
   "id": "5016b2ab",
   "metadata": {},
   "outputs": [],
   "source": [
    "tau.hat.crossfold = rep(NA, length(Y))\n"
   ]
  },
  {
   "cell_type": "code",
   "execution_count": 106,
   "id": "259651f4",
   "metadata": {},
   "outputs": [
    {
     "name": "stdout",
     "output_type": "stream",
     "text": [
      "[1] 1\n",
      "[1] 2\n",
      "[1] 3\n",
      "[1] 4\n",
      "[1] 5\n"
     ]
    }
   ],
   "source": [
    "for (foldid in 1:nfold) {\n",
    "  print(foldid)\n",
    "  infold = school.id %in% school.levels[cluster.folds == foldid]\n",
    "  cf.fold = causal_forest(X[!infold, selected.idx], Y[!infold], W[!infold],\n",
    "                          Y.hat = Y.hat[!infold], W.hat = W.hat[!infold],\n",
    "                          tune.parameters = \"all\")\n",
    "  pred.fold = predict(cf.fold, X[infold, selected.idx])$predictions\n",
    "  tau.hat.crossfold[infold] = pred.fold\n",
    "}"
   ]
  },
  {
   "cell_type": "code",
   "execution_count": 107,
   "id": "e4891406",
   "metadata": {},
   "outputs": [
    {
     "data": {
      "text/plain": [
       "\n",
       "Best linear fit using forest predictions (on held-out data)\n",
       "as well as the mean forest prediction as regressors, along\n",
       "with one-sided heteroskedasticity-robust (HC3) SEs:\n",
       "\n",
       "                               Estimate Std. Error t value  Pr(>t)    \n",
       "mean.forest.prediction         1.009952   0.065094 15.5153 < 2e-16 ***\n",
       "differential.forest.prediction 0.458118   0.245527  1.8659 0.03105 *  \n",
       "---\n",
       "Signif. codes:  0 '***' 0.001 '**' 0.01 '*' 0.05 '.' 0.1 ' ' 1\n"
      ]
     },
     "metadata": {},
     "output_type": "display_data"
    }
   ],
   "source": [
    "cf.noclust.cpy = cf.noclust\n",
    "cf.noclust.cpy$predictions = tau.hat.crossfold\n",
    "cf.noclust.cpy$clusters = school.id\n",
    "test_calibration(cf.noclust.cpy)\n"
   ]
  },
  {
   "cell_type": "code",
   "execution_count": 108,
   "id": "b2b9c3ec",
   "metadata": {},
   "outputs": [],
   "source": [
    "Rloss = mean(((Y - Y.hat) - tau.hat * (W - W.hat))^2)\n",
    "Rloss.noclust = mean(((Y - Y.hat) - tau.hat.noclust * (W - W.hat))^2)\n",
    "Rloss.crossfold = mean(((Y - Y.hat) - tau.hat.crossfold * (W - W.hat))^2)"
   ]
  },
  {
   "cell_type": "code",
   "execution_count": 109,
   "id": "99ead832",
   "metadata": {},
   "outputs": [
    {
     "data": {
      "text/html": [
       "<ol class=list-inline>\n",
       "\t<li>-2.2081498461668e-05</li>\n",
       "\t<li>0.000142588448426795</li>\n",
       "</ol>\n"
      ],
      "text/latex": [
       "\\begin{enumerate*}\n",
       "\\item -2.2081498461668e-05\n",
       "\\item 0.000142588448426795\n",
       "\\end{enumerate*}\n"
      ],
      "text/markdown": [
       "1. -2.2081498461668e-05\n",
       "2. 0.000142588448426795\n",
       "\n",
       "\n"
      ],
      "text/plain": [
       "[1] -0.0000220815  0.0001425884"
      ]
     },
     "metadata": {},
     "output_type": "display_data"
    }
   ],
   "source": [
    "c(Rloss.noclust - Rloss, Rloss.crossfold - Rloss)\n"
   ]
  },
  {
   "cell_type": "code",
   "execution_count": 110,
   "id": "0b889021",
   "metadata": {},
   "outputs": [
    {
     "data": {
      "text/plain": [
       "                     Df Sum Sq Mean Sq F value   Pr(>F)    \n",
       "factor(school.id)    75    201   2.678   1.982 1.02e-06 ***\n",
       "Residuals         10315  13935   1.351                     \n",
       "---\n",
       "Signif. codes:  0 '***' 0.001 '**' 0.01 '*' 0.05 '.' 0.1 ' ' 1"
      ]
     },
     "metadata": {},
     "output_type": "display_data"
    }
   ],
   "source": [
    "summary(aov(dr.score ~ factor(school.id)))\n"
   ]
  },
  {
   "cell_type": "markdown",
   "id": "191f8c07",
   "metadata": {},
   "source": [
    "\n",
    "# Analaysis without fitting the propensity score\n",
    "#\n",
    "Si entramos el modelo sin considerar el propensity score. El resultado da las mismas estimaciones \n",
    "que al usar el proceso  de orogonalización."
   ]
  },
  {
   "cell_type": "code",
   "execution_count": 111,
   "id": "7fc352d8",
   "metadata": {},
   "outputs": [],
   "source": [
    "cf.noprop = causal_forest(X[,selected.idx], Y, W,\n",
    "                          Y.hat = Y.hat, W.hat = mean(W),\n",
    "                          tune.parameters = \"all\",\n",
    "                          equalize.cluster.weights = TRUE,\n",
    "                          clusters = school.id)"
   ]
  },
  {
   "cell_type": "code",
   "execution_count": 112,
   "id": "d8638bca",
   "metadata": {},
   "outputs": [],
   "source": [
    "tau.hat.noprop = predict(cf.noprop)$predictions\n"
   ]
  },
  {
   "cell_type": "code",
   "execution_count": 113,
   "id": "f103ff2a",
   "metadata": {},
   "outputs": [
    {
     "data": {
      "text/html": [
       "'95% CI for the ATE: 0.254 +/- 0.039'"
      ],
      "text/latex": [
       "'95\\% CI for the ATE: 0.254 +/- 0.039'"
      ],
      "text/markdown": [
       "'95% CI for the ATE: 0.254 +/- 0.039'"
      ],
      "text/plain": [
       "[1] \"95% CI for the ATE: 0.254 +/- 0.039\""
      ]
     },
     "metadata": {},
     "output_type": "display_data"
    }
   ],
   "source": [
    "ATE.noprop = average_treatment_effect(cf.noprop)\n",
    "paste(\"95% CI for the ATE:\", round(ATE.noprop[1], 3),\n",
    "      \"+/-\", round(qnorm(0.975) * ATE.noprop[2], 3))\n"
   ]
  },
  {
   "cell_type": "code",
   "execution_count": 114,
   "id": "915d5086",
   "metadata": {},
   "outputs": [],
   "source": [
    "pdf(\"tauhat_noprop.pdf\")\n"
   ]
  },
  {
   "cell_type": "code",
   "execution_count": 115,
   "id": "a70f700d",
   "metadata": {},
   "outputs": [
    {
     "data": {
      "text/html": [
       "<strong>pdf:</strong> 3"
      ],
      "text/latex": [
       "\\textbf{pdf:} 3"
      ],
      "text/markdown": [
       "**pdf:** 3"
      ],
      "text/plain": [
       "pdf \n",
       "  3 "
      ]
     },
     "metadata": {},
     "output_type": "display_data"
    },
    {
     "data": {
      "image/png": "[encoded data removed]",
      "text/plain": [
       "plot without title"
      ]
     },
     "metadata": {},
     "output_type": "display_data"
    }
   ],
   "source": [
    "pardef = par(mar = c(5, 4, 4, 2) + 0.5, cex.lab=1.5, cex.axis=1.5, cex.main=1.5, cex.sub=1.5)\n",
    "plot(tau.hat, tau.hat.noprop,\n",
    "     xlim = range(tau.hat, tau.hat.noprop),\n",
    "     ylim = range(tau.hat, tau.hat.noprop),\n",
    "     xlab = \"orthogonalized causal forest estimates\",\n",
    "     ylab = \"non-orthogonalized causal forest\")\n",
    "abline(0, 1, lwd = 2, lty = 2, col = 4)\n",
    "par = pardef\n",
    "dev.off()"
   ]
  },
  {
   "cell_type": "code",
   "execution_count": null,
   "id": "3a826fbd",
   "metadata": {},
   "outputs": [],
   "source": [
    "#\n",
    "# Train forest on school-wise DR scores\n",
    "#"
   ]
  },
  {
   "cell_type": "code",
   "execution_count": 116,
   "id": "8710dd1c",
   "metadata": {},
   "outputs": [],
   "source": [
    "school.X = (t(school.mat) %*% as.matrix(X[,c(4:8, 25:28)])) / school.size\n",
    "school.X = data.frame(school.X)\n",
    "colnames(school.X) = c(\"X1\", \"X2\", \"X3\", \"X4\", \"X5\",\n",
    "                    \"XC.1\", \"XC.2\", \"XC.3\", \"XC.4\")"
   ]
  },
  {
   "cell_type": "code",
   "execution_count": 117,
   "id": "bbf299aa",
   "metadata": {},
   "outputs": [],
   "source": [
    "dr.score = tau.hat + W / cf$W.hat * (Y - cf$Y.hat - (1 - cf$W.hat) * tau.hat) -\n",
    "  (1 - W) / (1 - cf$W.hat) * (Y - cf$Y.hat + cf$W.hat * tau.hat)\n",
    "school.score = t(school.mat) %*% dr.score / school.size\n"
   ]
  },
  {
   "cell_type": "code",
   "execution_count": 118,
   "id": "5faca208",
   "metadata": {},
   "outputs": [
    {
     "data": {
      "text/plain": [
       "\n",
       "Best linear fit using forest predictions (on held-out data)\n",
       "as well as the mean forest prediction as regressors, along\n",
       "with one-sided heteroskedasticity-robust (HC3) SEs:\n",
       "\n",
       "                               Estimate Std. Error t value Pr(>t)    \n",
       "mean.forest.prediction         0.999512   0.081949  12.197 <2e-16 ***\n",
       "differential.forest.prediction 0.680739   0.655182   1.039 0.1511    \n",
       "---\n",
       "Signif. codes:  0 '***' 0.001 '**' 0.01 '*' 0.05 '.' 0.1 ' ' 1\n"
      ]
     },
     "metadata": {},
     "output_type": "display_data"
    }
   ],
   "source": [
    "school.forest = regression_forest(school.X, school.score)\n",
    "school.pred = predict(school.forest)$predictions\n",
    "test_calibration(school.forest)\n"
   ]
  },
  {
   "cell_type": "code",
   "execution_count": 119,
   "id": "aa69452f",
   "metadata": {},
   "outputs": [
    {
     "data": {
      "text/plain": [
       "\n",
       "t test of coefficients:\n",
       "\n",
       "              Estimate Std. Error t value Pr(>|t|)   \n",
       "(Intercept)  0.2412696  0.0771218  3.1284 0.002616 **\n",
       "X1          -0.0504144  0.0291605 -1.7289 0.088509 . \n",
       "X2           0.0127667  0.0336429  0.3795 0.705552   \n",
       "X3           0.0104740  0.0266411  0.3932 0.695474   \n",
       "X4           0.0235292  0.0255123  0.9223 0.359748   \n",
       "X5          -0.0357527  0.0269103 -1.3286 0.188559   \n",
       "XC.1         0.0013382  0.0937302  0.0143 0.988652   \n",
       "XC.2         0.0884114  0.1049088  0.8427 0.402415   \n",
       "XC.3        -0.1346624  0.0876731 -1.5360 0.129329   \n",
       "XC.4         0.0424256  0.0816214  0.5198 0.604952   \n",
       "---\n",
       "Signif. codes:  0 '***' 0.001 '**' 0.01 '*' 0.05 '.' 0.1 ' ' 1\n"
      ]
     },
     "metadata": {},
     "output_type": "display_data"
    }
   ],
   "source": [
    "# Alternative OLS analysis\n",
    "school.DF = data.frame(school.X, school.score=school.score)\n",
    "coeftest(lm(school.score ~ ., data = school.DF), vcov = vcovHC)"
   ]
  },
  {
   "cell_type": "markdown",
   "id": "47a49661",
   "metadata": {},
   "source": [
    "## Make some plots"
   ]
  },
  {
   "cell_type": "markdown",
   "id": "8fe8931f",
   "metadata": {},
   "source": [
    "##1\n",
    "For the first graph we observe that the distribution of the CATE efects are different."
   ]
  },
  {
   "cell_type": "code",
   "execution_count": 139,
   "id": "6d65b531",
   "metadata": {},
   "outputs": [
    {
     "data": {
      "text/html": [
       "<strong>png:</strong> 2"
      ],
      "text/latex": [
       "\\textbf{png:} 2"
      ],
      "text/markdown": [
       "**png:** 2"
      ],
      "text/plain": [
       "png \n",
       "  2 "
      ]
     },
     "metadata": {},
     "output_type": "display_data"
    }
   ],
   "source": [
    "pdf(\"tauhat_hist.pdf\")\n",
    "pardef = par(mar = c(5, 4, 4, 2) + 0.5, cex.lab=1.5, cex.axis=1.5, cex.main=1.5, cex.sub=1.5)\n",
    "hist(tau.hat, xlab = \"estimated CATE\", main = \"\")\n",
    "dev.off()"
   ]
  },
  {
   "cell_type": "markdown",
   "id": "b447c27a",
   "metadata": {},
   "source": [
    "#2\n",
    "For this graph we observe that the distribution for non prop, the CATE efects are different, but now concentrated in a larger magnitude."
   ]
  },
  {
   "cell_type": "code",
   "execution_count": 140,
   "id": "38b82877",
   "metadata": {},
   "outputs": [
    {
     "data": {
      "text/html": [
       "<strong>png:</strong> 2"
      ],
      "text/latex": [
       "\\textbf{png:} 2"
      ],
      "text/markdown": [
       "**png:** 2"
      ],
      "text/plain": [
       "png \n",
       "  2 "
      ]
     },
     "metadata": {},
     "output_type": "display_data"
    }
   ],
   "source": [
    "pdf(\"tauhat_hist_noprop.pdf\")\n",
    "pardef = par(mar = c(5, 4, 4, 2) + 0.5, cex.lab=1.5, cex.axis=1.5, cex.main=1.5, cex.sub=1.5)\n",
    "hist(tau.hat.noprop, xlab = \"estimated CATE\", main = \"\")\n",
    "dev.off()\n"
   ]
  },
  {
   "cell_type": "code",
   "execution_count": 163,
   "id": "481e8357",
   "metadata": {},
   "outputs": [
    {
     "ename": "ERROR",
     "evalue": "Error in hist.default(tau.hat.noclust, xlab = \"estimated CATE\", main = \"\", : some 'x' not counted; maybe 'breaks' do not span range of 'x'\n",
     "output_type": "error",
     "traceback": [
      "Error in hist.default(tau.hat.noclust, xlab = \"estimated CATE\", main = \"\", : some 'x' not counted; maybe 'breaks' do not span range of 'x'\nTraceback:\n",
      "1. hist(tau.hat.noclust, xlab = \"estimated CATE\", main = \"\", breaks = seq(-0, \n .     0.55, by = 0.55/25))",
      "2. hist.default(tau.hat.noclust, xlab = \"estimated CATE\", main = \"\", \n .     breaks = seq(-0, 0.55, by = 0.55/25))",
      "3. stop(\"some 'x' not counted; maybe 'breaks' do not span range of 'x'\")"
     ]
    }
   ],
   "source": [
    "pdf(\"tauhat_hist_noclust.pdf\")\n",
    "pardef = par(mar = c(5, 4, 4, 2) + 0.5, cex.lab=1.5, cex.axis=1.5, cex.main=1.5, cex.sub=1.5)\n",
    "hist(tau.hat.noclust, xlab = \"estimated CATE\", main = \"\",\n",
    "     breaks = seq(-0.0, 0.55, by = 0.55 / 25))\n",
    "dev.off()"
   ]
  },
  {
   "cell_type": "markdown",
   "id": "f7517262",
   "metadata": {},
   "source": [
    "#4\n",
    "The following graph shows the Student's CATE estimates against school-level minset X1."
   ]
  },
  {
   "cell_type": "code",
   "execution_count": 144,
   "id": "96719828",
   "metadata": {},
   "outputs": [
    {
     "data": {
      "text/html": [
       "<strong>png:</strong> 2"
      ],
      "text/latex": [
       "\\textbf{png:} 2"
      ],
      "text/markdown": [
       "**png:** 2"
      ],
      "text/plain": [
       "png \n",
       "  2 "
      ]
     },
     "metadata": {},
     "output_type": "display_data"
    }
   ],
   "source": [
    "pdf(\"tauhat_vs_X1.pdf\")\n",
    "pardef = par(mar = c(5, 4, 4, 2) + 0.5, cex.lab=1.5, cex.axis=1.5, cex.main=1.5, cex.sub=1.5)\n",
    "boxplot(tau.hat ~ round(X$X1), xlab = \"X1\", ylab = \"estimated CATE\")\n",
    "lines(smooth.spline(4 + X[,\"X1\"], tau.hat, df = 4), lwd = 2, col = 4)\n",
    "dev.off()"
   ]
  },
  {
   "cell_type": "markdown",
   "id": "a04ff498",
   "metadata": {},
   "source": [
    "#5\n",
    "The following graph shows the Student's CATE estimates against school-achievement level X2."
   ]
  },
  {
   "cell_type": "code",
   "execution_count": 146,
   "id": "aacec450",
   "metadata": {},
   "outputs": [
    {
     "data": {
      "text/html": [
       "<strong>png:</strong> 2"
      ],
      "text/latex": [
       "\\textbf{png:} 2"
      ],
      "text/markdown": [
       "**png:** 2"
      ],
      "text/plain": [
       "png \n",
       "  2 "
      ]
     },
     "metadata": {},
     "output_type": "display_data"
    }
   ],
   "source": [
    "pdf(\"tauhat_vs_X2.pdf\")\n",
    "pardef = par(mar = c(5, 4, 4, 2) + 0.5, cex.lab=1.5, cex.axis=1.5, cex.main=1.5, cex.sub=1.5)\n",
    "boxplot(tau.hat ~ round(X$X2), xlab = \"X2\", ylab = \"estimated CATE\")\n",
    "lines(smooth.spline(4 + X[,\"X2\"], tau.hat, df = 4), lwd = 2, col = 4)\n",
    "dev.off()\n"
   ]
  },
  {
   "cell_type": "markdown",
   "id": "6894a89c",
   "metadata": {},
   "source": [
    "#6\n",
    "\n",
    "The following graph shows us the relationship between the predictions at the school level using covariates and the mean estimates of the CATE at the school, it can be seen that there is a positive relationship. Higher predictions of achievement measures are then found when the mean CATE estimate in a school is also higher."
   ]
  },
  {
   "cell_type": "code",
   "execution_count": 147,
   "id": "42738d14",
   "metadata": {},
   "outputs": [],
   "source": [
    "school.avg.tauhat = t(school.mat) %*% tau.hat / school.size\n"
   ]
  },
  {
   "cell_type": "code",
   "execution_count": 148,
   "id": "677efd39",
   "metadata": {},
   "outputs": [
    {
     "data": {
      "text/html": [
       "<strong>png:</strong> 2"
      ],
      "text/latex": [
       "\\textbf{png:} 2"
      ],
      "text/markdown": [
       "**png:** 2"
      ],
      "text/plain": [
       "png \n",
       "  2 "
      ]
     },
     "metadata": {},
     "output_type": "display_data"
    }
   ],
   "source": [
    "pdf(\"school_avg.pdf\")\n",
    "pardef = par(mar = c(5, 4, 4, 2) + 0.5, cex.lab=1.5, cex.axis=1.5, cex.main=1.5, cex.sub=1.5)\n",
    "plot(school.avg.tauhat, school.pred, cex = 1.5,\n",
    "     xlim = range(school.avg.tauhat, school.pred),\n",
    "     ylim = range(school.avg.tauhat, school.pred),\n",
    "     xlab = \"average CATE estimate in school\",\n",
    "     ylab = \"school-wise forest predictions\")\n",
    "abline(0, 1, lwd = 2, lty = 2, col = 4)\n",
    "par = pardef\n",
    "dev.off()\n"
   ]
  },
  {
   "cell_type": "code",
   "execution_count": null,
   "id": "e3ab418a",
   "metadata": {},
   "outputs": [],
   "source": [
    "#\n",
    "# Experiment with no orthogonalization\n",
    "#"
   ]
  },
  {
   "cell_type": "code",
   "execution_count": 164,
   "id": "722d9c37",
   "metadata": {},
   "outputs": [],
   "source": [
    "n.synth = 1000\n",
    "p.synth = 10\n",
    "X.synth = matrix(rnorm(n.synth * p.synth), n.synth, p.synth)\n",
    "W.synth = rbinom(n.synth, 1, 1 / (1 + exp(-X.synth[,1])))\n",
    "Y.synth = 2 * rowMeans(X.synth[,1:6]) + rnorm(n.synth)\n"
   ]
  },
  {
   "cell_type": "code",
   "execution_count": 165,
   "id": "9901b32b",
   "metadata": {},
   "outputs": [],
   "source": [
    "Y.forest.synth = regression_forest(X.synth, Y.synth)\n",
    "Y.hat.synth = predict(Y.forest.synth)$predictions\n",
    "W.forest.synth = regression_forest(X.synth, W.synth)\n",
    "W.hat.synth = predict(W.forest.synth)$predictions\n"
   ]
  },
  {
   "cell_type": "code",
   "execution_count": 166,
   "id": "afdf8b6d",
   "metadata": {},
   "outputs": [
    {
     "data": {
      "text/html": [
       "'95% CI for the ATE: 0.021 +/- 0.151'"
      ],
      "text/latex": [
       "'95\\% CI for the ATE: 0.021 +/- 0.151'"
      ],
      "text/markdown": [
       "'95% CI for the ATE: 0.021 +/- 0.151'"
      ],
      "text/plain": [
       "[1] \"95% CI for the ATE: 0.021 +/- 0.151\""
      ]
     },
     "metadata": {},
     "output_type": "display_data"
    }
   ],
   "source": [
    "cf.synth = causal_forest(X.synth, Y.synth, W.synth,\n",
    "                         Y.hat = Y.hat.synth, W.hat = W.hat.synth)\n",
    "ATE.synth = average_treatment_effect(cf.synth)\n",
    "paste(\"95% CI for the ATE:\", round(ATE.synth[1], 3),\n",
    "      \"+/-\", round(qnorm(0.975) * ATE.synth[2], 3))"
   ]
  },
  {
   "cell_type": "code",
   "execution_count": 167,
   "id": "34a81718",
   "metadata": {},
   "outputs": [
    {
     "data": {
      "text/html": [
       "'95% CI for the ATE: 0.135 +/- 0.14'"
      ],
      "text/latex": [
       "'95\\% CI for the ATE: 0.135 +/- 0.14'"
      ],
      "text/markdown": [
       "'95% CI for the ATE: 0.135 +/- 0.14'"
      ],
      "text/plain": [
       "[1] \"95% CI for the ATE: 0.135 +/- 0.14\""
      ]
     },
     "metadata": {},
     "output_type": "display_data"
    }
   ],
   "source": [
    "cf.synth.noprop = causal_forest(X.synth, Y.synth, W.synth,\n",
    "                                Y.hat = Y.hat.synth, W.hat = mean(W.synth))\n",
    "ATE.synth.noprop = average_treatment_effect(cf.synth.noprop)\n",
    "paste(\"95% CI for the ATE:\", round(ATE.synth.noprop[1], 3),\n",
    "      \"+/-\", round(qnorm(0.975) * ATE.synth.noprop[2], 3))"
   ]
  },
  {
   "cell_type": "markdown",
   "id": "0cef4023",
   "metadata": {},
   "source": [
    "\n",
    "## Visualize school-level covariates by treatment heterogeneity\n"
   ]
  },
  {
   "cell_type": "code",
   "execution_count": 168,
   "id": "d778e084",
   "metadata": {},
   "outputs": [],
   "source": [
    "school.X.std = scale(school.X)\n",
    "school.tercile = cut(school.pred,\n",
    "                     breaks = c(-Inf, quantile(school.pred, c(1/3, 2/3)), Inf))\n",
    "school.tercile.mat = model.matrix(~ school.tercile + 0)\n",
    "school.means = diag(1 / colSums(school.tercile.mat)) %*% t(school.tercile.mat) %*% as.matrix(school.X.std)"
   ]
  },
  {
   "cell_type": "code",
   "execution_count": 169,
   "id": "c0079210",
   "metadata": {},
   "outputs": [],
   "source": [
    "MM = max(abs(school.means))\n",
    "HC = heat.colors(21)\n",
    "school.col = apply(school.means, 1:2, function(aa) HC[1 + round(20 * (0.5 + aa))])"
   ]
  },
  {
   "cell_type": "code",
   "execution_count": 170,
   "id": "c576642c",
   "metadata": {},
   "outputs": [],
   "source": [
    "DF.plot = data.frame(tercile=rep(factor(1:3, labels=c(\"low\", \"mid\", \"high\")), 9), mean=as.numeric(school.means),\n",
    "                     feature = factor(rbind(colnames(school.X), colnames(school.X), colnames(school.X))))\n"
   ]
  },
  {
   "cell_type": "markdown",
   "id": "802a61c1",
   "metadata": {},
   "source": [
    "## tercile_plot\n",
    "It can be seen that there is a difference for X1, while for the other covariates, not much difference is found. There is also a difference between the low and high group of CATEs. "
   ]
  },
  {
   "cell_type": "code",
   "execution_count": 171,
   "id": "1ea6cb72",
   "metadata": {},
   "outputs": [
    {
     "data": {
      "image/png": "[encoded data removed]",
      "text/plain": [
       "plot without title"
      ]
     },
     "metadata": {},
     "output_type": "display_data"
    }
   ],
   "source": [
    "ggplot(data = DF.plot, aes(x = feature, y = tercile, fill = mean)) +\n",
    "    geom_tile() + scale_fill_gradient(low = \"white\", high = \"steelblue\") +\n",
    "    theme(axis.text = element_text(size=12), axis.title = element_text(size=14),\n",
    "          legend.title = element_text(size=14), legend.text = element_text(size=12)) +\n",
    "    theme(panel.background = element_blank())\n",
    "ggsave(\"tercile_plot.pdf\", width = 8, height = 4.5, dpi = 120)"
   ]
  },
  {
   "cell_type": "code",
   "execution_count": 172,
   "id": "d68fea1d",
   "metadata": {},
   "outputs": [
    {
     "data": {
      "text/html": [
       "0.210526315789474"
      ],
      "text/latex": [
       "0.210526315789474"
      ],
      "text/markdown": [
       "0.210526315789474"
      ],
      "text/plain": [
       "[1] 0.2105263"
      ]
     },
     "metadata": {},
     "output_type": "display_data"
    },
    {
     "data": {
      "text/html": [
       "0.538461538461538"
      ],
      "text/latex": [
       "0.538461538461538"
      ],
      "text/markdown": [
       "0.538461538461538"
      ],
      "text/plain": [
       "[1] 0.5384615"
      ]
     },
     "metadata": {},
     "output_type": "display_data"
    }
   ],
   "source": [
    "mean(school.X$XC.3)\n",
    "mean(school.X$XC.3[as.numeric(school.tercile) == 1])"
   ]
  },
  {
   "cell_type": "markdown",
   "id": "a9918659",
   "metadata": {},
   "source": [
    "## CATE by school\n",
    "\n",
    "When clusters are ignored, the CATE is higher and more dispersed by school than when clusters are used. "
   ]
  },
  {
   "cell_type": "code",
   "execution_count": 173,
   "id": "dae71471",
   "metadata": {},
   "outputs": [],
   "source": [
    "ord = order(order(school.pred))\n",
    "school.sort = ord[school.id]"
   ]
  },
  {
   "cell_type": "code",
   "execution_count": 174,
   "id": "6d944a72",
   "metadata": {},
   "outputs": [
    {
     "data": {
      "text/html": [
       "<strong>png:</strong> 2"
      ],
      "text/latex": [
       "\\textbf{png:} 2"
      ],
      "text/markdown": [
       "**png:** 2"
      ],
      "text/plain": [
       "png \n",
       "  2 "
      ]
     },
     "metadata": {},
     "output_type": "display_data"
    }
   ],
   "source": [
    "pdf(\"school_boxplot.pdf\")\n",
    "pardef = par(mar = c(5, 4, 4, 2) + 0.5, cex.lab=1.5, cex.axis=1.5, cex.main=1.5, cex.sub=1.5)\n",
    "boxplot(tau.hat.noclust ~ school.sort, xaxt = \"n\",\n",
    "        xlab = \"school\", ylab = \"estimated CATE\")\n",
    "points(1:76, sort(school.pred), col = 4, pch = 16)\n",
    "legend(\"topleft\", c(\"school mean CATE\", \"CATE w/o clustering\"), pch = c(16, 1), col = c(4, 1), cex = 1.5)\n",
    "par = pardef\n",
    "dev.off()"
   ]
  }
 ],
 "metadata": {
  "kernelspec": {
   "display_name": "R",
   "language": "R",
   "name": "ir"
  },
  "language_info": {
   "codemirror_mode": "r",
   "file_extension": ".r",
   "mimetype": "text/x-r-source",
   "name": "R",
   "pygments_lexer": "r",
   "version": "3.6.1"
  }
 },
 "nbformat": 4,
 "nbformat_minor": 5
}
