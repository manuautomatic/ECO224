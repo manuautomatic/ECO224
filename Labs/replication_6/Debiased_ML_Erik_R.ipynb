{
 "cells": [
  {
   "cell_type": "markdown",
   "id": "4ad8cee6",
   "metadata": {},
   "source": [
    "* Integrante:\n",
    "* Morales López Erik Brandon (20163041)"
   ]
  },
  {
   "cell_type": "markdown",
   "id": "cfe3776e",
   "metadata": {},
   "source": [
    "# A case of study: Testing the Convergence Hypothesis"
   ]
  },
  {
   "cell_type": "markdown",
   "id": "66598e77",
   "metadata": {},
   "source": [
    "# Introduction"
   ]
  },
  {
   "cell_type": "markdown",
   "id": "4964d748",
   "metadata": {},
   "source": [
    "We provide an additional empirical example of partialling-out with Lasso to estimate the regression coefficient $\\beta_1$ in the high-dimensional linear regression model:\n",
    "  $$\n",
    "  Y = \\beta_1 D +  \\beta_2'W + \\epsilon.\n",
    "  $$\n",
    "  \n",
    "Specifically, we are interested in how the rates  at which economies of different countries grow ($Y$) are related to the initial wealth levels in each country ($D$) controlling for country's institutional, educational, and other similar characteristics ($W$)."
   ]
  },
  {
   "cell_type": "markdown",
   "id": "86465465",
   "metadata": {},
   "source": [
    "The outcome $Y$ is the realized annual growth rate of a country's wealth  (Gross Domestic Product per capita). The target regressor ($D$) is the initial level of the country's wealth. The target parameter $\\beta_1$ is the speed of convergence, which measures the speed at which poor countries catch up with rich countries. The controls ($W$) include measures of education levels, quality of institutions, trade openness, and political stability in the country."
   ]
  },
  {
   "cell_type": "code",
   "execution_count": 1,
   "id": "d80e51f6",
   "metadata": {},
   "outputs": [
    {
     "name": "stderr",
     "output_type": "stream",
     "text": [
      "Warning message:\n",
      "\"package 'hdm' was built under R version 3.6.3\""
     ]
    }
   ],
   "source": [
    "#install.packages(\"hdm\")\n",
    "library(hdm)\n",
    "library(xtable)"
   ]
  },
  {
   "cell_type": "code",
   "execution_count": 2,
   "id": "64270b5f",
   "metadata": {},
   "outputs": [],
   "source": [
    "# Export data to read in python\n",
    "GrowthData <- GrowthData"
   ]
  },
  {
   "cell_type": "code",
   "execution_count": 3,
   "id": "6dccffec",
   "metadata": {},
   "outputs": [
    {
     "data": {
      "text/html": [
       "<ol class=list-inline>\n",
       "\t<li>'Outcome'</li>\n",
       "\t<li>'intercept'</li>\n",
       "\t<li>'gdpsh465'</li>\n",
       "\t<li>'bmp1l'</li>\n",
       "\t<li>'freeop'</li>\n",
       "\t<li>'freetar'</li>\n",
       "\t<li>'h65'</li>\n",
       "\t<li>'hm65'</li>\n",
       "\t<li>'hf65'</li>\n",
       "\t<li>'p65'</li>\n",
       "\t<li>'pm65'</li>\n",
       "\t<li>'pf65'</li>\n",
       "\t<li>'s65'</li>\n",
       "\t<li>'sm65'</li>\n",
       "\t<li>'sf65'</li>\n",
       "\t<li>'fert65'</li>\n",
       "\t<li>'mort65'</li>\n",
       "\t<li>'lifee065'</li>\n",
       "\t<li>'gpop1'</li>\n",
       "\t<li>'fert1'</li>\n",
       "\t<li>'mort1'</li>\n",
       "\t<li>'invsh41'</li>\n",
       "\t<li>'geetot1'</li>\n",
       "\t<li>'geerec1'</li>\n",
       "\t<li>'gde1'</li>\n",
       "\t<li>'govwb1'</li>\n",
       "\t<li>'govsh41'</li>\n",
       "\t<li>'gvxdxe41'</li>\n",
       "\t<li>'high65'</li>\n",
       "\t<li>'highm65'</li>\n",
       "\t<li>'highf65'</li>\n",
       "\t<li>'highc65'</li>\n",
       "\t<li>'highcm65'</li>\n",
       "\t<li>'highcf65'</li>\n",
       "\t<li>'human65'</li>\n",
       "\t<li>'humanm65'</li>\n",
       "\t<li>'humanf65'</li>\n",
       "\t<li>'hyr65'</li>\n",
       "\t<li>'hyrm65'</li>\n",
       "\t<li>'hyrf65'</li>\n",
       "\t<li>'no65'</li>\n",
       "\t<li>'nom65'</li>\n",
       "\t<li>'nof65'</li>\n",
       "\t<li>'pinstab1'</li>\n",
       "\t<li>'pop65'</li>\n",
       "\t<li>'worker65'</li>\n",
       "\t<li>'pop1565'</li>\n",
       "\t<li>'pop6565'</li>\n",
       "\t<li>'sec65'</li>\n",
       "\t<li>'secm65'</li>\n",
       "\t<li>'secf65'</li>\n",
       "\t<li>'secc65'</li>\n",
       "\t<li>'seccm65'</li>\n",
       "\t<li>'seccf65'</li>\n",
       "\t<li>'syr65'</li>\n",
       "\t<li>'syrm65'</li>\n",
       "\t<li>'syrf65'</li>\n",
       "\t<li>'teapri65'</li>\n",
       "\t<li>'teasec65'</li>\n",
       "\t<li>'ex1'</li>\n",
       "\t<li>'im1'</li>\n",
       "\t<li>'xr65'</li>\n",
       "\t<li>'tot1'</li>\n",
       "</ol>\n"
      ],
      "text/latex": [
       "\\begin{enumerate*}\n",
       "\\item 'Outcome'\n",
       "\\item 'intercept'\n",
       "\\item 'gdpsh465'\n",
       "\\item 'bmp1l'\n",
       "\\item 'freeop'\n",
       "\\item 'freetar'\n",
       "\\item 'h65'\n",
       "\\item 'hm65'\n",
       "\\item 'hf65'\n",
       "\\item 'p65'\n",
       "\\item 'pm65'\n",
       "\\item 'pf65'\n",
       "\\item 's65'\n",
       "\\item 'sm65'\n",
       "\\item 'sf65'\n",
       "\\item 'fert65'\n",
       "\\item 'mort65'\n",
       "\\item 'lifee065'\n",
       "\\item 'gpop1'\n",
       "\\item 'fert1'\n",
       "\\item 'mort1'\n",
       "\\item 'invsh41'\n",
       "\\item 'geetot1'\n",
       "\\item 'geerec1'\n",
       "\\item 'gde1'\n",
       "\\item 'govwb1'\n",
       "\\item 'govsh41'\n",
       "\\item 'gvxdxe41'\n",
       "\\item 'high65'\n",
       "\\item 'highm65'\n",
       "\\item 'highf65'\n",
       "\\item 'highc65'\n",
       "\\item 'highcm65'\n",
       "\\item 'highcf65'\n",
       "\\item 'human65'\n",
       "\\item 'humanm65'\n",
       "\\item 'humanf65'\n",
       "\\item 'hyr65'\n",
       "\\item 'hyrm65'\n",
       "\\item 'hyrf65'\n",
       "\\item 'no65'\n",
       "\\item 'nom65'\n",
       "\\item 'nof65'\n",
       "\\item 'pinstab1'\n",
       "\\item 'pop65'\n",
       "\\item 'worker65'\n",
       "\\item 'pop1565'\n",
       "\\item 'pop6565'\n",
       "\\item 'sec65'\n",
       "\\item 'secm65'\n",
       "\\item 'secf65'\n",
       "\\item 'secc65'\n",
       "\\item 'seccm65'\n",
       "\\item 'seccf65'\n",
       "\\item 'syr65'\n",
       "\\item 'syrm65'\n",
       "\\item 'syrf65'\n",
       "\\item 'teapri65'\n",
       "\\item 'teasec65'\n",
       "\\item 'ex1'\n",
       "\\item 'im1'\n",
       "\\item 'xr65'\n",
       "\\item 'tot1'\n",
       "\\end{enumerate*}\n"
      ],
      "text/markdown": [
       "1. 'Outcome'\n",
       "2. 'intercept'\n",
       "3. 'gdpsh465'\n",
       "4. 'bmp1l'\n",
       "5. 'freeop'\n",
       "6. 'freetar'\n",
       "7. 'h65'\n",
       "8. 'hm65'\n",
       "9. 'hf65'\n",
       "10. 'p65'\n",
       "11. 'pm65'\n",
       "12. 'pf65'\n",
       "13. 's65'\n",
       "14. 'sm65'\n",
       "15. 'sf65'\n",
       "16. 'fert65'\n",
       "17. 'mort65'\n",
       "18. 'lifee065'\n",
       "19. 'gpop1'\n",
       "20. 'fert1'\n",
       "21. 'mort1'\n",
       "22. 'invsh41'\n",
       "23. 'geetot1'\n",
       "24. 'geerec1'\n",
       "25. 'gde1'\n",
       "26. 'govwb1'\n",
       "27. 'govsh41'\n",
       "28. 'gvxdxe41'\n",
       "29. 'high65'\n",
       "30. 'highm65'\n",
       "31. 'highf65'\n",
       "32. 'highc65'\n",
       "33. 'highcm65'\n",
       "34. 'highcf65'\n",
       "35. 'human65'\n",
       "36. 'humanm65'\n",
       "37. 'humanf65'\n",
       "38. 'hyr65'\n",
       "39. 'hyrm65'\n",
       "40. 'hyrf65'\n",
       "41. 'no65'\n",
       "42. 'nom65'\n",
       "43. 'nof65'\n",
       "44. 'pinstab1'\n",
       "45. 'pop65'\n",
       "46. 'worker65'\n",
       "47. 'pop1565'\n",
       "48. 'pop6565'\n",
       "49. 'sec65'\n",
       "50. 'secm65'\n",
       "51. 'secf65'\n",
       "52. 'secc65'\n",
       "53. 'seccm65'\n",
       "54. 'seccf65'\n",
       "55. 'syr65'\n",
       "56. 'syrm65'\n",
       "57. 'syrf65'\n",
       "58. 'teapri65'\n",
       "59. 'teasec65'\n",
       "60. 'ex1'\n",
       "61. 'im1'\n",
       "62. 'xr65'\n",
       "63. 'tot1'\n",
       "\n",
       "\n"
      ],
      "text/plain": [
       " [1] \"Outcome\"   \"intercept\" \"gdpsh465\"  \"bmp1l\"     \"freeop\"    \"freetar\"  \n",
       " [7] \"h65\"       \"hm65\"      \"hf65\"      \"p65\"       \"pm65\"      \"pf65\"     \n",
       "[13] \"s65\"       \"sm65\"      \"sf65\"      \"fert65\"    \"mort65\"    \"lifee065\" \n",
       "[19] \"gpop1\"     \"fert1\"     \"mort1\"     \"invsh41\"   \"geetot1\"   \"geerec1\"  \n",
       "[25] \"gde1\"      \"govwb1\"    \"govsh41\"   \"gvxdxe41\"  \"high65\"    \"highm65\"  \n",
       "[31] \"highf65\"   \"highc65\"   \"highcm65\"  \"highcf65\"  \"human65\"   \"humanm65\" \n",
       "[37] \"humanf65\"  \"hyr65\"     \"hyrm65\"    \"hyrf65\"    \"no65\"      \"nom65\"    \n",
       "[43] \"nof65\"     \"pinstab1\"  \"pop65\"     \"worker65\"  \"pop1565\"   \"pop6565\"  \n",
       "[49] \"sec65\"     \"secm65\"    \"secf65\"    \"secc65\"    \"seccm65\"   \"seccf65\"  \n",
       "[55] \"syr65\"     \"syrm65\"    \"syrf65\"    \"teapri65\"  \"teasec65\"  \"ex1\"      \n",
       "[61] \"im1\"       \"xr65\"      \"tot1\"     "
      ]
     },
     "metadata": {},
     "output_type": "display_data"
    }
   ],
   "source": [
    "library(hdm)\n",
    "growth <- GrowthData\n",
    "attach(growth)\n",
    "names(growth)"
   ]
  },
  {
   "cell_type": "code",
   "execution_count": 4,
   "id": "6c9defee",
   "metadata": {},
   "outputs": [
    {
     "data": {
      "text/html": [
       "<ol class=list-inline>\n",
       "\t<li>90</li>\n",
       "\t<li>63</li>\n",
       "</ol>\n"
      ],
      "text/latex": [
       "\\begin{enumerate*}\n",
       "\\item 90\n",
       "\\item 63\n",
       "\\end{enumerate*}\n"
      ],
      "text/markdown": [
       "1. 90\n",
       "2. 63\n",
       "\n",
       "\n"
      ],
      "text/plain": [
       "[1] 90 63"
      ]
     },
     "metadata": {},
     "output_type": "display_data"
    }
   ],
   "source": [
    "dim(growth)"
   ]
  },
  {
   "cell_type": "code",
   "execution_count": 5,
   "id": "8a2c7875",
   "metadata": {},
   "outputs": [
    {
     "data": {
      "text/html": [
       "<table>\n",
       "<thead><tr><th scope=col>Outcome</th><th scope=col>intercept</th><th scope=col>gdpsh465</th><th scope=col>bmp1l</th><th scope=col>freeop</th><th scope=col>freetar</th><th scope=col>h65</th><th scope=col>hm65</th><th scope=col>hf65</th><th scope=col>p65</th><th scope=col>...</th><th scope=col>seccf65</th><th scope=col>syr65</th><th scope=col>syrm65</th><th scope=col>syrf65</th><th scope=col>teapri65</th><th scope=col>teasec65</th><th scope=col>ex1</th><th scope=col>im1</th><th scope=col>xr65</th><th scope=col>tot1</th></tr></thead>\n",
       "<tbody>\n",
       "\t<tr><td>-0.02433575</td><td>1          </td><td>6.591674   </td><td>0.2837     </td><td>0.153491   </td><td>0.043888   </td><td>0.007      </td><td>0.013      </td><td>0.001      </td><td>0.29       </td><td>...        </td><td> 0.04      </td><td>0.033      </td><td>0.057      </td><td>0.010      </td><td>47.6       </td><td>17.3       </td><td>0.0729     </td><td>0.0667     </td><td>0.348      </td><td>-0.014727  </td></tr>\n",
       "\t<tr><td> 0.10047257</td><td>1          </td><td>6.829794   </td><td>0.6141     </td><td>0.313509   </td><td>0.061827   </td><td>0.019      </td><td>0.032      </td><td>0.007      </td><td>0.91       </td><td>...        </td><td> 0.64      </td><td>0.173      </td><td>0.274      </td><td>0.067      </td><td>57.1       </td><td>18.0       </td><td>0.0940     </td><td>0.1438     </td><td>0.525      </td><td> 0.005750  </td></tr>\n",
       "\t<tr><td> 0.06705148</td><td>1          </td><td>8.895082   </td><td>0.0000     </td><td>0.204244   </td><td>0.009186   </td><td>0.260      </td><td>0.325      </td><td>0.201      </td><td>1.00       </td><td>...        </td><td>18.14      </td><td>2.573      </td><td>2.478      </td><td>2.667      </td><td>26.5       </td><td>20.7       </td><td>0.1741     </td><td>0.1750     </td><td>1.082      </td><td>-0.010040  </td></tr>\n",
       "\t<tr><td> 0.06408917</td><td>1          </td><td>7.565275   </td><td>0.1997     </td><td>0.248714   </td><td>0.036270   </td><td>0.061      </td><td>0.070      </td><td>0.051      </td><td>1.00       </td><td>...        </td><td> 2.63      </td><td>0.438      </td><td>0.453      </td><td>0.424      </td><td>27.8       </td><td>22.7       </td><td>0.1265     </td><td>0.1496     </td><td>6.625      </td><td>-0.002195  </td></tr>\n",
       "\t<tr><td> 0.02792955</td><td>1          </td><td>7.162397   </td><td>0.1740     </td><td>0.299252   </td><td>0.037367   </td><td>0.017      </td><td>0.027      </td><td>0.007      </td><td>0.82       </td><td>...        </td><td> 2.11      </td><td>0.257      </td><td>0.287      </td><td>0.229      </td><td>34.5       </td><td>17.6       </td><td>0.1211     </td><td>0.1308     </td><td>2.500      </td><td> 0.003283  </td></tr>\n",
       "\t<tr><td> 0.04640744</td><td>1          </td><td>7.218910   </td><td>0.0000     </td><td>0.258865   </td><td>0.020880   </td><td>0.023      </td><td>0.038      </td><td>0.006      </td><td>0.50       </td><td>...        </td><td> 1.46      </td><td>0.160      </td><td>0.174      </td><td>0.146      </td><td>34.3       </td><td> 8.1       </td><td>0.0634     </td><td>0.0762     </td><td>1.000      </td><td>-0.001747  </td></tr>\n",
       "</tbody>\n",
       "</table>\n"
      ],
      "text/latex": [
       "\\begin{tabular}{r|lllllllllllllllllllllllllllllllllllllllllllllllllllllllllllllll}\n",
       " Outcome & intercept & gdpsh465 & bmp1l & freeop & freetar & h65 & hm65 & hf65 & p65 & ... & seccf65 & syr65 & syrm65 & syrf65 & teapri65 & teasec65 & ex1 & im1 & xr65 & tot1\\\\\n",
       "\\hline\n",
       "\t -0.02433575 & 1           & 6.591674    & 0.2837      & 0.153491    & 0.043888    & 0.007       & 0.013       & 0.001       & 0.29        & ...         &  0.04       & 0.033       & 0.057       & 0.010       & 47.6        & 17.3        & 0.0729      & 0.0667      & 0.348       & -0.014727  \\\\\n",
       "\t  0.10047257 & 1           & 6.829794    & 0.6141      & 0.313509    & 0.061827    & 0.019       & 0.032       & 0.007       & 0.91        & ...         &  0.64       & 0.173       & 0.274       & 0.067       & 57.1        & 18.0        & 0.0940      & 0.1438      & 0.525       &  0.005750  \\\\\n",
       "\t  0.06705148 & 1           & 8.895082    & 0.0000      & 0.204244    & 0.009186    & 0.260       & 0.325       & 0.201       & 1.00        & ...         & 18.14       & 2.573       & 2.478       & 2.667       & 26.5        & 20.7        & 0.1741      & 0.1750      & 1.082       & -0.010040  \\\\\n",
       "\t  0.06408917 & 1           & 7.565275    & 0.1997      & 0.248714    & 0.036270    & 0.061       & 0.070       & 0.051       & 1.00        & ...         &  2.63       & 0.438       & 0.453       & 0.424       & 27.8        & 22.7        & 0.1265      & 0.1496      & 6.625       & -0.002195  \\\\\n",
       "\t  0.02792955 & 1           & 7.162397    & 0.1740      & 0.299252    & 0.037367    & 0.017       & 0.027       & 0.007       & 0.82        & ...         &  2.11       & 0.257       & 0.287       & 0.229       & 34.5        & 17.6        & 0.1211      & 0.1308      & 2.500       &  0.003283  \\\\\n",
       "\t  0.04640744 & 1           & 7.218910    & 0.0000      & 0.258865    & 0.020880    & 0.023       & 0.038       & 0.006       & 0.50        & ...         &  1.46       & 0.160       & 0.174       & 0.146       & 34.3        &  8.1        & 0.0634      & 0.0762      & 1.000       & -0.001747  \\\\\n",
       "\\end{tabular}\n"
      ],
      "text/markdown": [
       "\n",
       "| Outcome | intercept | gdpsh465 | bmp1l | freeop | freetar | h65 | hm65 | hf65 | p65 | ... | seccf65 | syr65 | syrm65 | syrf65 | teapri65 | teasec65 | ex1 | im1 | xr65 | tot1 |\n",
       "|---|---|---|---|---|---|---|---|---|---|---|---|---|---|---|---|---|---|---|---|---|\n",
       "| -0.02433575 | 1           | 6.591674    | 0.2837      | 0.153491    | 0.043888    | 0.007       | 0.013       | 0.001       | 0.29        | ...         |  0.04       | 0.033       | 0.057       | 0.010       | 47.6        | 17.3        | 0.0729      | 0.0667      | 0.348       | -0.014727   |\n",
       "|  0.10047257 | 1           | 6.829794    | 0.6141      | 0.313509    | 0.061827    | 0.019       | 0.032       | 0.007       | 0.91        | ...         |  0.64       | 0.173       | 0.274       | 0.067       | 57.1        | 18.0        | 0.0940      | 0.1438      | 0.525       |  0.005750   |\n",
       "|  0.06705148 | 1           | 8.895082    | 0.0000      | 0.204244    | 0.009186    | 0.260       | 0.325       | 0.201       | 1.00        | ...         | 18.14       | 2.573       | 2.478       | 2.667       | 26.5        | 20.7        | 0.1741      | 0.1750      | 1.082       | -0.010040   |\n",
       "|  0.06408917 | 1           | 7.565275    | 0.1997      | 0.248714    | 0.036270    | 0.061       | 0.070       | 0.051       | 1.00        | ...         |  2.63       | 0.438       | 0.453       | 0.424       | 27.8        | 22.7        | 0.1265      | 0.1496      | 6.625       | -0.002195   |\n",
       "|  0.02792955 | 1           | 7.162397    | 0.1740      | 0.299252    | 0.037367    | 0.017       | 0.027       | 0.007       | 0.82        | ...         |  2.11       | 0.257       | 0.287       | 0.229       | 34.5        | 17.6        | 0.1211      | 0.1308      | 2.500       |  0.003283   |\n",
       "|  0.04640744 | 1           | 7.218910    | 0.0000      | 0.258865    | 0.020880    | 0.023       | 0.038       | 0.006       | 0.50        | ...         |  1.46       | 0.160       | 0.174       | 0.146       | 34.3        |  8.1        | 0.0634      | 0.0762      | 1.000       | -0.001747   |\n",
       "\n"
      ],
      "text/plain": [
       "  Outcome     intercept gdpsh465 bmp1l  freeop   freetar  h65   hm65  hf65 \n",
       "1 -0.02433575 1         6.591674 0.2837 0.153491 0.043888 0.007 0.013 0.001\n",
       "2  0.10047257 1         6.829794 0.6141 0.313509 0.061827 0.019 0.032 0.007\n",
       "3  0.06705148 1         8.895082 0.0000 0.204244 0.009186 0.260 0.325 0.201\n",
       "4  0.06408917 1         7.565275 0.1997 0.248714 0.036270 0.061 0.070 0.051\n",
       "5  0.02792955 1         7.162397 0.1740 0.299252 0.037367 0.017 0.027 0.007\n",
       "6  0.04640744 1         7.218910 0.0000 0.258865 0.020880 0.023 0.038 0.006\n",
       "  p65  ... seccf65 syr65 syrm65 syrf65 teapri65 teasec65 ex1    im1    xr65 \n",
       "1 0.29 ...  0.04   0.033 0.057  0.010  47.6     17.3     0.0729 0.0667 0.348\n",
       "2 0.91 ...  0.64   0.173 0.274  0.067  57.1     18.0     0.0940 0.1438 0.525\n",
       "3 1.00 ... 18.14   2.573 2.478  2.667  26.5     20.7     0.1741 0.1750 1.082\n",
       "4 1.00 ...  2.63   0.438 0.453  0.424  27.8     22.7     0.1265 0.1496 6.625\n",
       "5 0.82 ...  2.11   0.257 0.287  0.229  34.5     17.6     0.1211 0.1308 2.500\n",
       "6 0.50 ...  1.46   0.160 0.174  0.146  34.3      8.1     0.0634 0.0762 1.000\n",
       "  tot1     \n",
       "1 -0.014727\n",
       "2  0.005750\n",
       "3 -0.010040\n",
       "4 -0.002195\n",
       "5  0.003283\n",
       "6 -0.001747"
      ]
     },
     "metadata": {},
     "output_type": "display_data"
    }
   ],
   "source": [
    "head(growth)"
   ]
  },
  {
   "cell_type": "markdown",
   "id": "c941c6f5",
   "metadata": {},
   "source": [
    "# Preprocessing\n"
   ]
  },
  {
   "cell_type": "code",
   "execution_count": 33,
   "id": "efaa54c9",
   "metadata": {},
   "outputs": [
    {
     "data": {
      "text/html": [
       "<ol class=list-inline>\n",
       "\t<li>90</li>\n",
       "\t<li>60</li>\n",
       "</ol>\n"
      ],
      "text/latex": [
       "\\begin{enumerate*}\n",
       "\\item 90\n",
       "\\item 60\n",
       "\\end{enumerate*}\n"
      ],
      "text/markdown": [
       "1. 90\n",
       "2. 60\n",
       "\n",
       "\n"
      ],
      "text/plain": [
       "[1] 90 60"
      ]
     },
     "metadata": {},
     "output_type": "display_data"
    },
    {
     "data": {
      "text/html": [
       "<ol class=list-inline>\n",
       "\t<li>90</li>\n",
       "\t<li>1</li>\n",
       "</ol>\n"
      ],
      "text/latex": [
       "\\begin{enumerate*}\n",
       "\\item 90\n",
       "\\item 1\n",
       "\\end{enumerate*}\n"
      ],
      "text/markdown": [
       "1. 90\n",
       "2. 1\n",
       "\n",
       "\n"
      ],
      "text/plain": [
       "[1] 90  1"
      ]
     },
     "metadata": {},
     "output_type": "display_data"
    },
    {
     "data": {
      "text/html": [
       "<ol class=list-inline>\n",
       "\t<li>90</li>\n",
       "\t<li>1</li>\n",
       "</ol>\n"
      ],
      "text/latex": [
       "\\begin{enumerate*}\n",
       "\\item 90\n",
       "\\item 1\n",
       "\\end{enumerate*}\n"
      ],
      "text/markdown": [
       "1. 90\n",
       "2. 1\n",
       "\n",
       "\n"
      ],
      "text/plain": [
       "[1] 90  1"
      ]
     },
     "metadata": {},
     "output_type": "display_data"
    }
   ],
   "source": [
    "\n",
    "y <- growth[, 1, drop = F] # output variable\n",
    "z <- as.matrix(growth)[, -c(1, 2,3)] # controls\n",
    "d <- growth[, 3, drop = F] # target regressor\n",
    "dim(z)\n",
    "dim(y)\n",
    "dim(d)"
   ]
  },
  {
   "cell_type": "markdown",
   "id": "6211f7aa",
   "metadata": {},
   "source": [
    "# OLS without including the country characteristics."
   ]
  },
  {
   "cell_type": "code",
   "execution_count": 34,
   "id": "7841b8ca",
   "metadata": {},
   "outputs": [
    {
     "data": {
      "text/plain": [
       "c(-0.024335751, 0.100472567, 0.067051482, 0.064089166, 0.027929548, \n",
       "    0.046407439, 0.06733234, 0.02097768, 0.033551236, 0.039146523, \n",
       "    0.076126507, 0.127951209, -0.024326089, 0.078293425, 0.112911547, \n",
       "    0.052308191, 0.03639089, 0.029738225, -0.056643579, 0.019204802, \n",
       "    0.085206004, 0.133982213, 0.173024738, 0.109699147, 0.015989904, \n",
       "    0.062249766, 0.109870689, 0.092106277, 0.083376041, 0.076233453, \n",
       "    0.084023841, 0.052940778, 0.116989631, 0.067851712, 0.073904906, \n",
       "    0.074070649, 0.065837688, 0.094851094, 0.052705361, 0.047180483, \n",
       "    0.039024165, 0.01677521, 0.060046086, 0.066629433, -0.063992932, \n",
       "    -0.003020401, 0.045473355, 0.031129837, -0.04871243, 0.024477353, \n",
       "    0.090677457, -0.019161499, 0.05075726, 0.000407972, -0.01568049, \n",
       "    -0.018356539, -0.025639382, 0.014256047, 0.011897288, 0.034172432, \n",
       "    -0.034045389, -0.033806346, 0.069914881, -0.081725598, 0.046010052, \n",
       "    0.066598094, -0.011384238, -0.100989896, 0.054750874, 0.094618168, \n",
       "    0.045715288, 0.065491106, 0.021246513, 0.14144548, 0.096816228, \n",
       "    0.040534205, 0.010588411, 0.185526489, 0.093104913, 0.06522856, \n",
       "    0.038095023, 0.034213002, 0.052759138, 0.038415638, 0.03189479, \n",
       "    0.031195985, 0.034095656, 0.046900462, 0.039773372, 0.040641538) ~ \n",
       "    c(6.591673732, 6.829793738, 8.895081532, 7.565275282, 7.162397497, \n",
       "        7.218909708, 7.853604813, 7.70391021, 9.063463176, 8.151909873, \n",
       "        6.929516771, 7.237778192, 8.115819701, 7.271703707, 7.121252453, \n",
       "        6.977281342, 7.649692624, 8.056743775, 8.780941114, 6.28785856, \n",
       "        6.137727054, 8.128880142, 6.680854679, 7.177018766, 6.64898455, \n",
       "        6.879355804, 7.347299701, 6.725033642, 8.451053389, 8.602453035, \n",
       "        8.619027497, 8.733755131, 7.665753432, 7.998671361, 8.281977059, \n",
       "        8.627123251, 8.733110698, 8.144969417, 8.769973212, 8.63212773, \n",
       "        8.718990525, 7.360739903, 6.628041376, 6.65929392, 6.204557763, \n",
       "        6.401917197, 6.013715156, 5.857933154, 6.469250317, 5.762051383, \n",
       "        7.321849714, 6.783325201, 9.224933374, 7.880804345, 7.301147806, \n",
       "        7.448333861, 7.737616283, 8.184792654, 7.80832305, 9.229848838, \n",
       "        8.346167594, 7.303170051, 7.85902698, 7.998335396, 7.655864018, \n",
       "        7.675081858, 7.830028083, 8.498621806, 6.216606101, 8.414495793, \n",
       "        6.383506635, 8.782322859, 7.251344983, 7.511524648, 7.713784617, \n",
       "        6.728628613, 7.186144305, 8.326032686, 7.89469085, 7.175489714, \n",
       "        9.030974443, 8.995536945, 8.23483028, 8.332548939, 8.645586406, \n",
       "        8.991064332, 8.025189322, 9.030136571, 8.865311633, 8.912338567)"
      ]
     },
     "metadata": {},
     "output_type": "display_data"
    },
    {
     "data": {
      "text/html": [
       "<dl class=dl-horizontal>\n",
       "\t<dt>2.5 %</dt>\n",
       "\t\t<dd>-0.0108101278829858</dd>\n",
       "\t<dt>97.5 %</dt>\n",
       "\t\t<dd>0.013443553109878</dd>\n",
       "</dl>\n"
      ],
      "text/latex": [
       "\\begin{description*}\n",
       "\\item[2.5 \\textbackslash{}\\%] -0.0108101278829858\n",
       "\\item[97.5 \\textbackslash{}\\%] 0.013443553109878\n",
       "\\end{description*}\n"
      ],
      "text/markdown": [
       "2.5 %\n",
       ":   -0.010810127882985897.5 %\n",
       ":   0.013443553109878\n",
       "\n"
      ],
      "text/plain": [
       "      2.5 %      97.5 % \n",
       "-0.01081013  0.01344355 "
      ]
     },
     "metadata": {},
     "output_type": "display_data"
    },
    {
     "data": {
      "text/html": [
       "<dl class=dl-horizontal>\n",
       "\t<dt>Estimate</dt>\n",
       "\t\t<dd>0.00131671261344608</dd>\n",
       "\t<dt>Std. Error</dt>\n",
       "\t\t<dd>0.00610220014253539</dd>\n",
       "\t<dt>t value</dt>\n",
       "\t\t<dd>0.215776700647351</dd>\n",
       "\t<dt>Pr(&gt;|t|)</dt>\n",
       "\t\t<dd>0.829661164776386</dd>\n",
       "</dl>\n"
      ],
      "text/latex": [
       "\\begin{description*}\n",
       "\\item[Estimate] 0.00131671261344608\n",
       "\\item[Std. Error] 0.00610220014253539\n",
       "\\item[t value] 0.215776700647351\n",
       "\\item[Pr(>\\textbackslash{}textbar\\{\\}t\\textbackslash{}textbar\\{\\})] 0.829661164776386\n",
       "\\end{description*}\n"
      ],
      "text/markdown": [
       "Estimate\n",
       ":   0.00131671261344608Std. Error\n",
       ":   0.00610220014253539t value\n",
       ":   0.215776700647351Pr(&amp;gt;|t|)\n",
       ":   0.829661164776386\n",
       "\n"
      ],
      "text/plain": [
       "   Estimate  Std. Error     t value    Pr(>|t|) \n",
       "0.001316713 0.006102200 0.215776701 0.829661165 "
      ]
     },
     "metadata": {},
     "output_type": "display_data"
    }
   ],
   "source": [
    "baseline_formula <- as.formula(paste(y, \"~\", d ))\n",
    "baseline_formula\n",
    "baseline.ols <- lm(baseline_formula,data=growth)\n",
    "\n",
    "est_baseline <- summary(baseline.ols)$coef[2,]\n",
    "confint(baseline.ols)[2,]\n",
    "est_baseline\n"
   ]
  },
  {
   "cell_type": "code",
   "execution_count": 10,
   "id": "641505af",
   "metadata": {},
   "outputs": [
    {
     "data": {
      "text/plain": [
       "\n",
       "Call:\n",
       "lm(formula = baseline_formula, data = growth)\n",
       "\n",
       "Residuals:\n",
       "      Min        1Q    Median        3Q       Max \n",
       "-0.147387 -0.024088  0.001209  0.027721  0.139357 \n",
       "\n",
       "Coefficients:\n",
       "                                                                                                                                                                                                                                                                                                                                                                                                                                                                                                                                                                                                                                                                                                                                                                                                                                                                                                                                                                                                                                                                                                                                                                                                                       Estimate\n",
       "(Intercept)                                                                                                                                                                                                                                                                                                                                                                                                                                                                                                                                                                                                                                                                                                                                                                                                                                                                                                                                                                                                                                                                                                                                                                                                            0.035207\n",
       "c(6.591673732, 6.829793738, 8.895081532, 7.565275282, 7.162397497, 7.218909708, 7.853604813, 7.70391021, 9.063463176, 8.151909873, 6.929516771, 7.237778192, 8.115819701, 7.271703707, 7.121252453, 6.977281342, 7.649692624, 8.056743775, 8.780941114, 6.28785856, 6.137727054, 8.128880142, 6.680854679, 7.177018766, 6.64898455, 6.879355804, 7.347299701, 6.725033642, 8.451053389, 8.602453035, 8.619027497, 8.733755131, 7.665753432, 7.998671361, 8.281977059, 8.627123251, 8.733110698, 8.144969417, 8.769973212, \\n    8.63212773, 8.718990525, 7.360739903, 6.628041376, 6.65929392, 6.204557763, 6.401917197, 6.013715156, 5.857933154, 6.469250317, 5.762051383, 7.321849714, 6.783325201, 9.224933374, 7.880804345, 7.301147806, 7.448333861, 7.737616283, 8.184792654, 7.80832305, 9.229848838, 8.346167594, 7.303170051, 7.85902698, 7.998335396, 7.655864018, 7.675081858, 7.830028083, 8.498621806, 6.216606101, 8.414495793, 6.383506635, 8.782322859, 7.251344983, 7.511524648, 7.713784617, 6.728628613, 7.186144305, 8.326032686, \\n    7.89469085, 7.175489714, 9.030974443, 8.995536945, 8.23483028, 8.332548939, 8.645586406, 8.991064332, 8.025189322, 9.030136571, 8.865311633, 8.912338567) 0.001317\n",
       "                                                                                                                                                                                                                                                                                                                                                                                                                                                                                                                                                                                                                                                                                                                                                                                                                                                                                                                                                                                                                                                                                                                                                                                                                       Std. Error\n",
       "(Intercept)                                                                                                                                                                                                                                                                                                                                                                                                                                                                                                                                                                                                                                                                                                                                                                                                                                                                                                                                                                                                                                                                                                                                                                                                              0.047318\n",
       "c(6.591673732, 6.829793738, 8.895081532, 7.565275282, 7.162397497, 7.218909708, 7.853604813, 7.70391021, 9.063463176, 8.151909873, 6.929516771, 7.237778192, 8.115819701, 7.271703707, 7.121252453, 6.977281342, 7.649692624, 8.056743775, 8.780941114, 6.28785856, 6.137727054, 8.128880142, 6.680854679, 7.177018766, 6.64898455, 6.879355804, 7.347299701, 6.725033642, 8.451053389, 8.602453035, 8.619027497, 8.733755131, 7.665753432, 7.998671361, 8.281977059, 8.627123251, 8.733110698, 8.144969417, 8.769973212, \\n    8.63212773, 8.718990525, 7.360739903, 6.628041376, 6.65929392, 6.204557763, 6.401917197, 6.013715156, 5.857933154, 6.469250317, 5.762051383, 7.321849714, 6.783325201, 9.224933374, 7.880804345, 7.301147806, 7.448333861, 7.737616283, 8.184792654, 7.80832305, 9.229848838, 8.346167594, 7.303170051, 7.85902698, 7.998335396, 7.655864018, 7.675081858, 7.830028083, 8.498621806, 6.216606101, 8.414495793, 6.383506635, 8.782322859, 7.251344983, 7.511524648, 7.713784617, 6.728628613, 7.186144305, 8.326032686, \\n    7.89469085, 7.175489714, 9.030974443, 8.995536945, 8.23483028, 8.332548939, 8.645586406, 8.991064332, 8.025189322, 9.030136571, 8.865311633, 8.912338567)   0.006102\n",
       "                                                                                                                                                                                                                                                                                                                                                                                                                                                                                                                                                                                                                                                                                                                                                                                                                                                                                                                                                                                                                                                                                                                                                                                                                       t value\n",
       "(Intercept)                                                                                                                                                                                                                                                                                                                                                                                                                                                                                                                                                                                                                                                                                                                                                                                                                                                                                                                                                                                                                                                                                                                                                                                                              0.744\n",
       "c(6.591673732, 6.829793738, 8.895081532, 7.565275282, 7.162397497, 7.218909708, 7.853604813, 7.70391021, 9.063463176, 8.151909873, 6.929516771, 7.237778192, 8.115819701, 7.271703707, 7.121252453, 6.977281342, 7.649692624, 8.056743775, 8.780941114, 6.28785856, 6.137727054, 8.128880142, 6.680854679, 7.177018766, 6.64898455, 6.879355804, 7.347299701, 6.725033642, 8.451053389, 8.602453035, 8.619027497, 8.733755131, 7.665753432, 7.998671361, 8.281977059, 8.627123251, 8.733110698, 8.144969417, 8.769973212, \\n    8.63212773, 8.718990525, 7.360739903, 6.628041376, 6.65929392, 6.204557763, 6.401917197, 6.013715156, 5.857933154, 6.469250317, 5.762051383, 7.321849714, 6.783325201, 9.224933374, 7.880804345, 7.301147806, 7.448333861, 7.737616283, 8.184792654, 7.80832305, 9.229848838, 8.346167594, 7.303170051, 7.85902698, 7.998335396, 7.655864018, 7.675081858, 7.830028083, 8.498621806, 6.216606101, 8.414495793, 6.383506635, 8.782322859, 7.251344983, 7.511524648, 7.713784617, 6.728628613, 7.186144305, 8.326032686, \\n    7.89469085, 7.175489714, 9.030974443, 8.995536945, 8.23483028, 8.332548939, 8.645586406, 8.991064332, 8.025189322, 9.030136571, 8.865311633, 8.912338567)   0.216\n",
       "                                                                                                                                                                                                                                                                                                                                                                                                                                                                                                                                                                                                                                                                                                                                                                                                                                                                                                                                                                                                                                                                                                                                                                                                                       Pr(>|t|)\n",
       "(Intercept)                                                                                                                                                                                                                                                                                                                                                                                                                                                                                                                                                                                                                                                                                                                                                                                                                                                                                                                                                                                                                                                                                                                                                                                                               0.459\n",
       "c(6.591673732, 6.829793738, 8.895081532, 7.565275282, 7.162397497, 7.218909708, 7.853604813, 7.70391021, 9.063463176, 8.151909873, 6.929516771, 7.237778192, 8.115819701, 7.271703707, 7.121252453, 6.977281342, 7.649692624, 8.056743775, 8.780941114, 6.28785856, 6.137727054, 8.128880142, 6.680854679, 7.177018766, 6.64898455, 6.879355804, 7.347299701, 6.725033642, 8.451053389, 8.602453035, 8.619027497, 8.733755131, 7.665753432, 7.998671361, 8.281977059, 8.627123251, 8.733110698, 8.144969417, 8.769973212, \\n    8.63212773, 8.718990525, 7.360739903, 6.628041376, 6.65929392, 6.204557763, 6.401917197, 6.013715156, 5.857933154, 6.469250317, 5.762051383, 7.321849714, 6.783325201, 9.224933374, 7.880804345, 7.301147806, 7.448333861, 7.737616283, 8.184792654, 7.80832305, 9.229848838, 8.346167594, 7.303170051, 7.85902698, 7.998335396, 7.655864018, 7.675081858, 7.830028083, 8.498621806, 6.216606101, 8.414495793, 6.383506635, 8.782322859, 7.251344983, 7.511524648, 7.713784617, 6.728628613, 7.186144305, 8.326032686, \\n    7.89469085, 7.175489714, 9.030974443, 8.995536945, 8.23483028, 8.332548939, 8.645586406, 8.991064332, 8.025189322, 9.030136571, 8.865311633, 8.912338567)    0.830\n",
       "\n",
       "Residual standard error: 0.05159 on 88 degrees of freedom\n",
       "Multiple R-squared:  0.0005288,\tAdjusted R-squared:  -0.01083 \n",
       "F-statistic: 0.04656 on 1 and 88 DF,  p-value: 0.8297\n"
      ]
     },
     "metadata": {},
     "output_type": "display_data"
    }
   ],
   "source": [
    "summary(baseline.ols)"
   ]
  },
  {
   "cell_type": "markdown",
   "id": "2e0fc3b9",
   "metadata": {},
   "source": [
    "# OLS including the country characteristics"
   ]
  },
  {
   "cell_type": "code",
   "execution_count": 11,
   "id": "b90368d0",
   "metadata": {},
   "outputs": [
    {
     "data": {
      "text/plain": [
       "Outcome ~ gdpsh465 + bmp1l + freeop + freetar + h65 + hm65 + \n",
       "    hf65 + p65 + pm65 + pf65 + s65 + sm65 + sf65 + fert65 + mort65 + \n",
       "    lifee065 + gpop1 + fert1 + mort1 + invsh41 + geetot1 + geerec1 + \n",
       "    gde1 + govwb1 + govsh41 + gvxdxe41 + high65 + highm65 + highf65 + \n",
       "    highc65 + highcm65 + highcf65 + human65 + humanm65 + humanf65 + \n",
       "    hyr65 + hyrm65 + hyrf65 + no65 + nom65 + nof65 + pinstab1 + \n",
       "    pop65 + worker65 + pop1565 + pop6565 + sec65 + secm65 + secf65 + \n",
       "    secc65 + seccm65 + seccf65 + syr65 + syrm65 + syrf65 + teapri65 + \n",
       "    teasec65 + ex1 + im1 + xr65 + tot1"
      ]
     },
     "metadata": {},
     "output_type": "display_data"
    }
   ],
   "source": [
    "control_formula <- as.formula(paste(\"Outcome\", \"~\", paste(\"gdpsh465\",paste(colnames(z),collapse=\"+\"), sep = \"+\")))\n",
    "\n",
    "control_formula"
   ]
  },
  {
   "cell_type": "code",
   "execution_count": 12,
   "id": "655a774f",
   "metadata": {},
   "outputs": [
    {
     "data": {
      "text/html": [
       "<dl class=dl-horizontal>\n",
       "\t<dt>2.5 %</dt>\n",
       "\t\t<dd>-0.0706002209228731</dd>\n",
       "\t<dt>97.5 %</dt>\n",
       "\t\t<dd>0.0518442433577176</dd>\n",
       "</dl>\n"
      ],
      "text/latex": [
       "\\begin{description*}\n",
       "\\item[2.5 \\textbackslash{}\\%] -0.0706002209228731\n",
       "\\item[97.5 \\textbackslash{}\\%] 0.0518442433577176\n",
       "\\end{description*}\n"
      ],
      "text/markdown": [
       "2.5 %\n",
       ":   -0.070600220922873197.5 %\n",
       ":   0.0518442433577176\n",
       "\n"
      ],
      "text/plain": [
       "      2.5 %      97.5 % \n",
       "-0.07060022  0.05184424 "
      ]
     },
     "metadata": {},
     "output_type": "display_data"
    },
    {
     "data": {
      "text/html": [
       "<dl class=dl-horizontal>\n",
       "\t<dt>Estimate</dt>\n",
       "\t\t<dd>-0.00937798878257774</dd>\n",
       "\t<dt>Std. Error</dt>\n",
       "\t\t<dd>0.0298877263660776</dd>\n",
       "\t<dt>t value</dt>\n",
       "\t\t<dd>-0.313773910658581</dd>\n",
       "\t<dt>Pr(&gt;|t|)</dt>\n",
       "\t\t<dd>0.756018517732962</dd>\n",
       "</dl>\n"
      ],
      "text/latex": [
       "\\begin{description*}\n",
       "\\item[Estimate] -0.00937798878257774\n",
       "\\item[Std. Error] 0.0298877263660776\n",
       "\\item[t value] -0.313773910658581\n",
       "\\item[Pr(>\\textbackslash{}textbar\\{\\}t\\textbackslash{}textbar\\{\\})] 0.756018517732962\n",
       "\\end{description*}\n"
      ],
      "text/markdown": [
       "Estimate\n",
       ":   -0.00937798878257774Std. Error\n",
       ":   0.0298877263660776t value\n",
       ":   -0.313773910658581Pr(&amp;gt;|t|)\n",
       ":   0.756018517732962\n",
       "\n"
      ],
      "text/plain": [
       "    Estimate   Std. Error      t value     Pr(>|t|) \n",
       "-0.009377989  0.029887726 -0.313773911  0.756018518 "
      ]
     },
     "metadata": {},
     "output_type": "display_data"
    }
   ],
   "source": [
    "baseline.ols <- lm(control_formula,data=growth)\n",
    "\n",
    "est_ols <- summary(baseline.ols)$coef[2,]\n",
    "confint(baseline.ols)[2,]\n",
    "est_ols"
   ]
  },
  {
   "cell_type": "code",
   "execution_count": 13,
   "id": "1319cc76",
   "metadata": {},
   "outputs": [
    {
     "data": {
      "text/html": [
       "<table>\n",
       "<thead><tr><th></th><th scope=col>Estimate</th><th scope=col>Std. Error</th><th scope=col>t value</th><th scope=col>Pr(&gt;|t|)</th></tr></thead>\n",
       "<tbody>\n",
       "\t<tr><th scope=row>(Intercept)</th><td> 0.247160893</td><td>0.78450163  </td><td> 0.31505466 </td><td>0.755056170 </td></tr>\n",
       "\t<tr><th scope=row>gdpsh465</th><td>-0.009377989</td><td>0.02988773  </td><td>-0.31377391 </td><td>0.756018518 </td></tr>\n",
       "\t<tr><th scope=row>bmp1l</th><td>-0.068862679</td><td>0.03253065  </td><td>-2.11685513 </td><td>0.043289718 </td></tr>\n",
       "\t<tr><th scope=row>freeop</th><td> 0.080068974</td><td>0.20786400  </td><td> 0.38519885 </td><td>0.703000838 </td></tr>\n",
       "\t<tr><th scope=row>freetar</th><td>-0.488962605</td><td>0.41816285  </td><td>-1.16931143 </td><td>0.252136477 </td></tr>\n",
       "\t<tr><th scope=row>h65</th><td>-2.362098638</td><td>0.85729167  </td><td>-2.75530338 </td><td>0.010192435 </td></tr>\n",
       "\t<tr><th scope=row>hm65</th><td> 0.707143400</td><td>0.52314511  </td><td> 1.35171560 </td><td>0.187285919 </td></tr>\n",
       "\t<tr><th scope=row>hf65</th><td> 1.693448425</td><td>0.50318881  </td><td> 3.36543337 </td><td>0.002232683 </td></tr>\n",
       "\t<tr><th scope=row>p65</th><td> 0.265526695</td><td>0.16429407  </td><td> 1.61616729 </td><td>0.117271229 </td></tr>\n",
       "\t<tr><th scope=row>pm65</th><td> 0.136952626</td><td>0.15121749  </td><td> 0.90566657 </td><td>0.372840111 </td></tr>\n",
       "\t<tr><th scope=row>pf65</th><td>-0.331266948</td><td>0.16512299  </td><td>-2.00618303 </td><td>0.054583866 </td></tr>\n",
       "\t<tr><th scope=row>s65</th><td> 0.039079306</td><td>0.18552248  </td><td> 0.21064459 </td><td>0.834690082 </td></tr>\n",
       "\t<tr><th scope=row>sm65</th><td>-0.030668507</td><td>0.11679396  </td><td>-0.26258642 </td><td>0.794791807 </td></tr>\n",
       "\t<tr><th scope=row>sf65</th><td>-0.179917280</td><td>0.11809892  </td><td>-1.52344556 </td><td>0.138863011 </td></tr>\n",
       "\t<tr><th scope=row>fert65</th><td> 0.006880834</td><td>0.02705142  </td><td> 0.25436128 </td><td>0.801075252 </td></tr>\n",
       "\t<tr><th scope=row>mort65</th><td>-0.233454503</td><td>0.81742198  </td><td>-0.28559852 </td><td>0.777287824 </td></tr>\n",
       "\t<tr><th scope=row>lifee065</th><td>-0.014914473</td><td>0.19333559  </td><td>-0.07714292 </td><td>0.939058459 </td></tr>\n",
       "\t<tr><th scope=row>gpop1</th><td> 0.970184579</td><td>1.81220835  </td><td> 0.53536039 </td><td>0.596627593 </td></tr>\n",
       "\t<tr><th scope=row>fert1</th><td> 0.008838189</td><td>0.03504148  </td><td> 0.25222077 </td><td>0.802712696 </td></tr>\n",
       "\t<tr><th scope=row>mort1</th><td> 0.066562928</td><td>0.68481002  </td><td> 0.09719911 </td><td>0.923260701 </td></tr>\n",
       "\t<tr><th scope=row>invsh41</th><td> 0.074461126</td><td>0.10844692  </td><td> 0.68661354 </td><td>0.497973611 </td></tr>\n",
       "\t<tr><th scope=row>geetot1</th><td>-0.715104906</td><td>1.68013567  </td><td>-0.42562331 </td><td>0.673636102 </td></tr>\n",
       "\t<tr><th scope=row>geerec1</th><td> 0.630004630</td><td>2.44737848  </td><td> 0.25742019 </td><td>0.798736842 </td></tr>\n",
       "\t<tr><th scope=row>gde1</th><td>-0.443575219</td><td>1.67120674  </td><td>-0.26542211 </td><td>0.792628757 </td></tr>\n",
       "\t<tr><th scope=row>govwb1</th><td> 0.337452364</td><td>0.43798695  </td><td> 0.77046214 </td><td>0.447478336 </td></tr>\n",
       "\t<tr><th scope=row>govsh41</th><td> 0.463174632</td><td>1.92543733  </td><td> 0.24055555 </td><td>0.811652246 </td></tr>\n",
       "\t<tr><th scope=row>gvxdxe41</th><td>-0.793381582</td><td>2.05939737  </td><td>-0.38524939 </td><td>0.702963815 </td></tr>\n",
       "\t<tr><th scope=row>high65</th><td>-0.752483828</td><td>0.90572159  </td><td>-0.83081141 </td><td>0.413108816 </td></tr>\n",
       "\t<tr><th scope=row>highm65</th><td>-0.390261804</td><td>0.68124930  </td><td>-0.57286195 </td><td>0.571310302 </td></tr>\n",
       "\t<tr><th scope=row>highf65</th><td>-0.417748705</td><td>0.56149048  </td><td>-0.74399963 </td><td>0.463075062 </td></tr>\n",
       "\t<tr><th scope=row>...</th><td>...</td><td>...</td><td>...</td><td>...</td></tr>\n",
       "\t<tr><th scope=row>highcf65</th><td> 3.920771e-01</td><td>7.660246e-01 </td><td> 0.51183360  </td><td>0.61278088   </td></tr>\n",
       "\t<tr><th scope=row>human65</th><td> 2.337269e+00</td><td>3.307269e+00 </td><td> 0.70670678  </td><td>0.48558873   </td></tr>\n",
       "\t<tr><th scope=row>humanm65</th><td>-1.209249e+00</td><td>1.618516e+00 </td><td>-0.74713475  </td><td>0.46121072   </td></tr>\n",
       "\t<tr><th scope=row>humanf65</th><td>-1.103947e+00</td><td>1.684693e+00 </td><td>-0.65528075  </td><td>0.51763499   </td></tr>\n",
       "\t<tr><th scope=row>hyr65</th><td> 5.491388e+01</td><td>2.388729e+01 </td><td> 2.29887430  </td><td>0.02918450   </td></tr>\n",
       "\t<tr><th scope=row>hyrm65</th><td> 1.293505e+01</td><td>2.317142e+01 </td><td> 0.55823278  </td><td>0.58112223   </td></tr>\n",
       "\t<tr><th scope=row>hyrf65</th><td> 9.092580e+00</td><td>1.766958e+01 </td><td> 0.51458948  </td><td>0.61087820   </td></tr>\n",
       "\t<tr><th scope=row>no65</th><td> 3.720986e-02</td><td>1.319733e-01 </td><td> 0.28194994  </td><td>0.78005541   </td></tr>\n",
       "\t<tr><th scope=row>nom65</th><td>-2.119769e-02</td><td>6.495975e-02 </td><td>-0.32632032  </td><td>0.74660861   </td></tr>\n",
       "\t<tr><th scope=row>nof65</th><td>-1.685782e-02</td><td>6.700258e-02 </td><td>-0.25159954  </td><td>0.80318810   </td></tr>\n",
       "\t<tr><th scope=row>pinstab1</th><td>-4.997113e-02</td><td>3.092081e-02 </td><td>-1.61610019  </td><td>0.11728579   </td></tr>\n",
       "\t<tr><th scope=row>pop65</th><td> 1.031796e-07</td><td>1.317950e-07 </td><td> 0.78287929  </td><td>0.44026959   </td></tr>\n",
       "\t<tr><th scope=row>worker65</th><td> 3.407897e-02</td><td>1.561909e-01 </td><td> 0.21818786  </td><td>0.82886516   </td></tr>\n",
       "\t<tr><th scope=row>pop1565</th><td>-4.655346e-01</td><td>4.713340e-01 </td><td>-0.98769582  </td><td>0.33176044   </td></tr>\n",
       "\t<tr><th scope=row>pop6565</th><td>-1.357450e+00</td><td>6.349424e-01 </td><td>-2.13791049  </td><td>0.04139326   </td></tr>\n",
       "\t<tr><th scope=row>sec65</th><td>-1.089278e-02</td><td>3.076618e-01 </td><td>-0.03540506  </td><td>0.97200796   </td></tr>\n",
       "\t<tr><th scope=row>secm65</th><td> 3.343664e-03</td><td>1.511923e-01 </td><td> 0.02211530  </td><td>0.98251284   </td></tr>\n",
       "\t<tr><th scope=row>secf65</th><td>-2.304329e-03</td><td>1.579715e-01 </td><td>-0.01458699  </td><td>0.98846512   </td></tr>\n",
       "\t<tr><th scope=row>secc65</th><td>-4.915284e-01</td><td>7.290408e-01 </td><td>-0.67421246  </td><td>0.50570489   </td></tr>\n",
       "\t<tr><th scope=row>seccm65</th><td> 2.596016e-01</td><td>3.556533e-01 </td><td> 0.72992873  </td><td>0.47149686   </td></tr>\n",
       "\t<tr><th scope=row>seccf65</th><td> 2.206524e-01</td><td>3.733333e-01 </td><td> 0.59103325  </td><td>0.55923950   </td></tr>\n",
       "\t<tr><th scope=row>syr65</th><td>-7.555807e-01</td><td>7.976763e+00 </td><td>-0.09472273  </td><td>0.92520970   </td></tr>\n",
       "\t<tr><th scope=row>syrm65</th><td> 3.109007e-01</td><td>3.896731e+00 </td><td> 0.07978502  </td><td>0.93697576   </td></tr>\n",
       "\t<tr><th scope=row>syrf65</th><td> 7.592811e-01</td><td>4.110634e+00 </td><td> 0.18471143  </td><td>0.85478676   </td></tr>\n",
       "\t<tr><th scope=row>teapri65</th><td> 3.954523e-05</td><td>7.700406e-04 </td><td> 0.05135474  </td><td>0.95940747   </td></tr>\n",
       "\t<tr><th scope=row>teasec65</th><td> 2.496674e-04</td><td>1.171230e-03 </td><td> 0.21316678  </td><td>0.83274136   </td></tr>\n",
       "\t<tr><th scope=row>ex1</th><td>-5.804081e-01</td><td>2.418472e-01 </td><td>-2.39989593  </td><td>0.02329485   </td></tr>\n",
       "\t<tr><th scope=row>im1</th><td> 5.914450e-01</td><td>2.502978e-01 </td><td> 2.36296558  </td><td>0.02530892   </td></tr>\n",
       "\t<tr><th scope=row>xr65</th><td>-1.037768e-04</td><td>5.416760e-05 </td><td>-1.91584652  </td><td>0.06564690   </td></tr>\n",
       "\t<tr><th scope=row>tot1</th><td>-1.279011e-01</td><td>1.125951e-01 </td><td>-1.13593842  </td><td>0.26561200   </td></tr>\n",
       "</tbody>\n",
       "</table>\n"
      ],
      "text/latex": [
       "\\begin{tabular}{r|llll}\n",
       "  & Estimate & Std. Error & t value & Pr(>\\textbar{}t\\textbar{})\\\\\n",
       "\\hline\n",
       "\t(Intercept) &  0.247160893 & 0.78450163   &  0.31505466  & 0.755056170 \\\\\n",
       "\tgdpsh465 & -0.009377989 & 0.02988773   & -0.31377391  & 0.756018518 \\\\\n",
       "\tbmp1l & -0.068862679 & 0.03253065   & -2.11685513  & 0.043289718 \\\\\n",
       "\tfreeop &  0.080068974 & 0.20786400   &  0.38519885  & 0.703000838 \\\\\n",
       "\tfreetar & -0.488962605 & 0.41816285   & -1.16931143  & 0.252136477 \\\\\n",
       "\th65 & -2.362098638 & 0.85729167   & -2.75530338  & 0.010192435 \\\\\n",
       "\thm65 &  0.707143400 & 0.52314511   &  1.35171560  & 0.187285919 \\\\\n",
       "\thf65 &  1.693448425 & 0.50318881   &  3.36543337  & 0.002232683 \\\\\n",
       "\tp65 &  0.265526695 & 0.16429407   &  1.61616729  & 0.117271229 \\\\\n",
       "\tpm65 &  0.136952626 & 0.15121749   &  0.90566657  & 0.372840111 \\\\\n",
       "\tpf65 & -0.331266948 & 0.16512299   & -2.00618303  & 0.054583866 \\\\\n",
       "\ts65 &  0.039079306 & 0.18552248   &  0.21064459  & 0.834690082 \\\\\n",
       "\tsm65 & -0.030668507 & 0.11679396   & -0.26258642  & 0.794791807 \\\\\n",
       "\tsf65 & -0.179917280 & 0.11809892   & -1.52344556  & 0.138863011 \\\\\n",
       "\tfert65 &  0.006880834 & 0.02705142   &  0.25436128  & 0.801075252 \\\\\n",
       "\tmort65 & -0.233454503 & 0.81742198   & -0.28559852  & 0.777287824 \\\\\n",
       "\tlifee065 & -0.014914473 & 0.19333559   & -0.07714292  & 0.939058459 \\\\\n",
       "\tgpop1 &  0.970184579 & 1.81220835   &  0.53536039  & 0.596627593 \\\\\n",
       "\tfert1 &  0.008838189 & 0.03504148   &  0.25222077  & 0.802712696 \\\\\n",
       "\tmort1 &  0.066562928 & 0.68481002   &  0.09719911  & 0.923260701 \\\\\n",
       "\tinvsh41 &  0.074461126 & 0.10844692   &  0.68661354  & 0.497973611 \\\\\n",
       "\tgeetot1 & -0.715104906 & 1.68013567   & -0.42562331  & 0.673636102 \\\\\n",
       "\tgeerec1 &  0.630004630 & 2.44737848   &  0.25742019  & 0.798736842 \\\\\n",
       "\tgde1 & -0.443575219 & 1.67120674   & -0.26542211  & 0.792628757 \\\\\n",
       "\tgovwb1 &  0.337452364 & 0.43798695   &  0.77046214  & 0.447478336 \\\\\n",
       "\tgovsh41 &  0.463174632 & 1.92543733   &  0.24055555  & 0.811652246 \\\\\n",
       "\tgvxdxe41 & -0.793381582 & 2.05939737   & -0.38524939  & 0.702963815 \\\\\n",
       "\thigh65 & -0.752483828 & 0.90572159   & -0.83081141  & 0.413108816 \\\\\n",
       "\thighm65 & -0.390261804 & 0.68124930   & -0.57286195  & 0.571310302 \\\\\n",
       "\thighf65 & -0.417748705 & 0.56149048   & -0.74399963  & 0.463075062 \\\\\n",
       "\t... & ... & ... & ... & ...\\\\\n",
       "\thighcf65 &  3.920771e-01 & 7.660246e-01  &  0.51183360   & 0.61278088   \\\\\n",
       "\thuman65 &  2.337269e+00 & 3.307269e+00  &  0.70670678   & 0.48558873   \\\\\n",
       "\thumanm65 & -1.209249e+00 & 1.618516e+00  & -0.74713475   & 0.46121072   \\\\\n",
       "\thumanf65 & -1.103947e+00 & 1.684693e+00  & -0.65528075   & 0.51763499   \\\\\n",
       "\thyr65 &  5.491388e+01 & 2.388729e+01  &  2.29887430   & 0.02918450   \\\\\n",
       "\thyrm65 &  1.293505e+01 & 2.317142e+01  &  0.55823278   & 0.58112223   \\\\\n",
       "\thyrf65 &  9.092580e+00 & 1.766958e+01  &  0.51458948   & 0.61087820   \\\\\n",
       "\tno65 &  3.720986e-02 & 1.319733e-01  &  0.28194994   & 0.78005541   \\\\\n",
       "\tnom65 & -2.119769e-02 & 6.495975e-02  & -0.32632032   & 0.74660861   \\\\\n",
       "\tnof65 & -1.685782e-02 & 6.700258e-02  & -0.25159954   & 0.80318810   \\\\\n",
       "\tpinstab1 & -4.997113e-02 & 3.092081e-02  & -1.61610019   & 0.11728579   \\\\\n",
       "\tpop65 &  1.031796e-07 & 1.317950e-07  &  0.78287929   & 0.44026959   \\\\\n",
       "\tworker65 &  3.407897e-02 & 1.561909e-01  &  0.21818786   & 0.82886516   \\\\\n",
       "\tpop1565 & -4.655346e-01 & 4.713340e-01  & -0.98769582   & 0.33176044   \\\\\n",
       "\tpop6565 & -1.357450e+00 & 6.349424e-01  & -2.13791049   & 0.04139326   \\\\\n",
       "\tsec65 & -1.089278e-02 & 3.076618e-01  & -0.03540506   & 0.97200796   \\\\\n",
       "\tsecm65 &  3.343664e-03 & 1.511923e-01  &  0.02211530   & 0.98251284   \\\\\n",
       "\tsecf65 & -2.304329e-03 & 1.579715e-01  & -0.01458699   & 0.98846512   \\\\\n",
       "\tsecc65 & -4.915284e-01 & 7.290408e-01  & -0.67421246   & 0.50570489   \\\\\n",
       "\tseccm65 &  2.596016e-01 & 3.556533e-01  &  0.72992873   & 0.47149686   \\\\\n",
       "\tseccf65 &  2.206524e-01 & 3.733333e-01  &  0.59103325   & 0.55923950   \\\\\n",
       "\tsyr65 & -7.555807e-01 & 7.976763e+00  & -0.09472273   & 0.92520970   \\\\\n",
       "\tsyrm65 &  3.109007e-01 & 3.896731e+00  &  0.07978502   & 0.93697576   \\\\\n",
       "\tsyrf65 &  7.592811e-01 & 4.110634e+00  &  0.18471143   & 0.85478676   \\\\\n",
       "\tteapri65 &  3.954523e-05 & 7.700406e-04  &  0.05135474   & 0.95940747   \\\\\n",
       "\tteasec65 &  2.496674e-04 & 1.171230e-03  &  0.21316678   & 0.83274136   \\\\\n",
       "\tex1 & -5.804081e-01 & 2.418472e-01  & -2.39989593   & 0.02329485   \\\\\n",
       "\tim1 &  5.914450e-01 & 2.502978e-01  &  2.36296558   & 0.02530892   \\\\\n",
       "\txr65 & -1.037768e-04 & 5.416760e-05  & -1.91584652   & 0.06564690   \\\\\n",
       "\ttot1 & -1.279011e-01 & 1.125951e-01  & -1.13593842   & 0.26561200   \\\\\n",
       "\\end{tabular}\n"
      ],
      "text/markdown": [
       "\n",
       "| <!--/--> | Estimate | Std. Error | t value | Pr(>|t|) |\n",
       "|---|---|---|---|---|\n",
       "| (Intercept) |  0.247160893 | 0.78450163   |  0.31505466  | 0.755056170  |\n",
       "| gdpsh465 | -0.009377989 | 0.02988773   | -0.31377391  | 0.756018518  |\n",
       "| bmp1l | -0.068862679 | 0.03253065   | -2.11685513  | 0.043289718  |\n",
       "| freeop |  0.080068974 | 0.20786400   |  0.38519885  | 0.703000838  |\n",
       "| freetar | -0.488962605 | 0.41816285   | -1.16931143  | 0.252136477  |\n",
       "| h65 | -2.362098638 | 0.85729167   | -2.75530338  | 0.010192435  |\n",
       "| hm65 |  0.707143400 | 0.52314511   |  1.35171560  | 0.187285919  |\n",
       "| hf65 |  1.693448425 | 0.50318881   |  3.36543337  | 0.002232683  |\n",
       "| p65 |  0.265526695 | 0.16429407   |  1.61616729  | 0.117271229  |\n",
       "| pm65 |  0.136952626 | 0.15121749   |  0.90566657  | 0.372840111  |\n",
       "| pf65 | -0.331266948 | 0.16512299   | -2.00618303  | 0.054583866  |\n",
       "| s65 |  0.039079306 | 0.18552248   |  0.21064459  | 0.834690082  |\n",
       "| sm65 | -0.030668507 | 0.11679396   | -0.26258642  | 0.794791807  |\n",
       "| sf65 | -0.179917280 | 0.11809892   | -1.52344556  | 0.138863011  |\n",
       "| fert65 |  0.006880834 | 0.02705142   |  0.25436128  | 0.801075252  |\n",
       "| mort65 | -0.233454503 | 0.81742198   | -0.28559852  | 0.777287824  |\n",
       "| lifee065 | -0.014914473 | 0.19333559   | -0.07714292  | 0.939058459  |\n",
       "| gpop1 |  0.970184579 | 1.81220835   |  0.53536039  | 0.596627593  |\n",
       "| fert1 |  0.008838189 | 0.03504148   |  0.25222077  | 0.802712696  |\n",
       "| mort1 |  0.066562928 | 0.68481002   |  0.09719911  | 0.923260701  |\n",
       "| invsh41 |  0.074461126 | 0.10844692   |  0.68661354  | 0.497973611  |\n",
       "| geetot1 | -0.715104906 | 1.68013567   | -0.42562331  | 0.673636102  |\n",
       "| geerec1 |  0.630004630 | 2.44737848   |  0.25742019  | 0.798736842  |\n",
       "| gde1 | -0.443575219 | 1.67120674   | -0.26542211  | 0.792628757  |\n",
       "| govwb1 |  0.337452364 | 0.43798695   |  0.77046214  | 0.447478336  |\n",
       "| govsh41 |  0.463174632 | 1.92543733   |  0.24055555  | 0.811652246  |\n",
       "| gvxdxe41 | -0.793381582 | 2.05939737   | -0.38524939  | 0.702963815  |\n",
       "| high65 | -0.752483828 | 0.90572159   | -0.83081141  | 0.413108816  |\n",
       "| highm65 | -0.390261804 | 0.68124930   | -0.57286195  | 0.571310302  |\n",
       "| highf65 | -0.417748705 | 0.56149048   | -0.74399963  | 0.463075062  |\n",
       "| ... | ... | ... | ... | ... |\n",
       "| highcf65 |  3.920771e-01 | 7.660246e-01  |  0.51183360   | 0.61278088    |\n",
       "| human65 |  2.337269e+00 | 3.307269e+00  |  0.70670678   | 0.48558873    |\n",
       "| humanm65 | -1.209249e+00 | 1.618516e+00  | -0.74713475   | 0.46121072    |\n",
       "| humanf65 | -1.103947e+00 | 1.684693e+00  | -0.65528075   | 0.51763499    |\n",
       "| hyr65 |  5.491388e+01 | 2.388729e+01  |  2.29887430   | 0.02918450    |\n",
       "| hyrm65 |  1.293505e+01 | 2.317142e+01  |  0.55823278   | 0.58112223    |\n",
       "| hyrf65 |  9.092580e+00 | 1.766958e+01  |  0.51458948   | 0.61087820    |\n",
       "| no65 |  3.720986e-02 | 1.319733e-01  |  0.28194994   | 0.78005541    |\n",
       "| nom65 | -2.119769e-02 | 6.495975e-02  | -0.32632032   | 0.74660861    |\n",
       "| nof65 | -1.685782e-02 | 6.700258e-02  | -0.25159954   | 0.80318810    |\n",
       "| pinstab1 | -4.997113e-02 | 3.092081e-02  | -1.61610019   | 0.11728579    |\n",
       "| pop65 |  1.031796e-07 | 1.317950e-07  |  0.78287929   | 0.44026959    |\n",
       "| worker65 |  3.407897e-02 | 1.561909e-01  |  0.21818786   | 0.82886516    |\n",
       "| pop1565 | -4.655346e-01 | 4.713340e-01  | -0.98769582   | 0.33176044    |\n",
       "| pop6565 | -1.357450e+00 | 6.349424e-01  | -2.13791049   | 0.04139326    |\n",
       "| sec65 | -1.089278e-02 | 3.076618e-01  | -0.03540506   | 0.97200796    |\n",
       "| secm65 |  3.343664e-03 | 1.511923e-01  |  0.02211530   | 0.98251284    |\n",
       "| secf65 | -2.304329e-03 | 1.579715e-01  | -0.01458699   | 0.98846512    |\n",
       "| secc65 | -4.915284e-01 | 7.290408e-01  | -0.67421246   | 0.50570489    |\n",
       "| seccm65 |  2.596016e-01 | 3.556533e-01  |  0.72992873   | 0.47149686    |\n",
       "| seccf65 |  2.206524e-01 | 3.733333e-01  |  0.59103325   | 0.55923950    |\n",
       "| syr65 | -7.555807e-01 | 7.976763e+00  | -0.09472273   | 0.92520970    |\n",
       "| syrm65 |  3.109007e-01 | 3.896731e+00  |  0.07978502   | 0.93697576    |\n",
       "| syrf65 |  7.592811e-01 | 4.110634e+00  |  0.18471143   | 0.85478676    |\n",
       "| teapri65 |  3.954523e-05 | 7.700406e-04  |  0.05135474   | 0.95940747    |\n",
       "| teasec65 |  2.496674e-04 | 1.171230e-03  |  0.21316678   | 0.83274136    |\n",
       "| ex1 | -5.804081e-01 | 2.418472e-01  | -2.39989593   | 0.02329485    |\n",
       "| im1 |  5.914450e-01 | 2.502978e-01  |  2.36296558   | 0.02530892    |\n",
       "| xr65 | -1.037768e-04 | 5.416760e-05  | -1.91584652   | 0.06564690    |\n",
       "| tot1 | -1.279011e-01 | 1.125951e-01  | -1.13593842   | 0.26561200    |\n",
       "\n"
      ],
      "text/plain": [
       "            Estimate      Std. Error   t value     Pr(>|t|)   \n",
       "(Intercept)  0.247160893  0.78450163    0.31505466 0.755056170\n",
       "gdpsh465    -0.009377989  0.02988773   -0.31377391 0.756018518\n",
       "bmp1l       -0.068862679  0.03253065   -2.11685513 0.043289718\n",
       "freeop       0.080068974  0.20786400    0.38519885 0.703000838\n",
       "freetar     -0.488962605  0.41816285   -1.16931143 0.252136477\n",
       "h65         -2.362098638  0.85729167   -2.75530338 0.010192435\n",
       "hm65         0.707143400  0.52314511    1.35171560 0.187285919\n",
       "hf65         1.693448425  0.50318881    3.36543337 0.002232683\n",
       "p65          0.265526695  0.16429407    1.61616729 0.117271229\n",
       "pm65         0.136952626  0.15121749    0.90566657 0.372840111\n",
       "pf65        -0.331266948  0.16512299   -2.00618303 0.054583866\n",
       "s65          0.039079306  0.18552248    0.21064459 0.834690082\n",
       "sm65        -0.030668507  0.11679396   -0.26258642 0.794791807\n",
       "sf65        -0.179917280  0.11809892   -1.52344556 0.138863011\n",
       "fert65       0.006880834  0.02705142    0.25436128 0.801075252\n",
       "mort65      -0.233454503  0.81742198   -0.28559852 0.777287824\n",
       "lifee065    -0.014914473  0.19333559   -0.07714292 0.939058459\n",
       "gpop1        0.970184579  1.81220835    0.53536039 0.596627593\n",
       "fert1        0.008838189  0.03504148    0.25222077 0.802712696\n",
       "mort1        0.066562928  0.68481002    0.09719911 0.923260701\n",
       "invsh41      0.074461126  0.10844692    0.68661354 0.497973611\n",
       "geetot1     -0.715104906  1.68013567   -0.42562331 0.673636102\n",
       "geerec1      0.630004630  2.44737848    0.25742019 0.798736842\n",
       "gde1        -0.443575219  1.67120674   -0.26542211 0.792628757\n",
       "govwb1       0.337452364  0.43798695    0.77046214 0.447478336\n",
       "govsh41      0.463174632  1.92543733    0.24055555 0.811652246\n",
       "gvxdxe41    -0.793381582  2.05939737   -0.38524939 0.702963815\n",
       "high65      -0.752483828  0.90572159   -0.83081141 0.413108816\n",
       "highm65     -0.390261804  0.68124930   -0.57286195 0.571310302\n",
       "highf65     -0.417748705  0.56149048   -0.74399963 0.463075062\n",
       "...         ...           ...          ...         ...        \n",
       "highcf65     3.920771e-01 7.660246e-01  0.51183360 0.61278088 \n",
       "human65      2.337269e+00 3.307269e+00  0.70670678 0.48558873 \n",
       "humanm65    -1.209249e+00 1.618516e+00 -0.74713475 0.46121072 \n",
       "humanf65    -1.103947e+00 1.684693e+00 -0.65528075 0.51763499 \n",
       "hyr65        5.491388e+01 2.388729e+01  2.29887430 0.02918450 \n",
       "hyrm65       1.293505e+01 2.317142e+01  0.55823278 0.58112223 \n",
       "hyrf65       9.092580e+00 1.766958e+01  0.51458948 0.61087820 \n",
       "no65         3.720986e-02 1.319733e-01  0.28194994 0.78005541 \n",
       "nom65       -2.119769e-02 6.495975e-02 -0.32632032 0.74660861 \n",
       "nof65       -1.685782e-02 6.700258e-02 -0.25159954 0.80318810 \n",
       "pinstab1    -4.997113e-02 3.092081e-02 -1.61610019 0.11728579 \n",
       "pop65        1.031796e-07 1.317950e-07  0.78287929 0.44026959 \n",
       "worker65     3.407897e-02 1.561909e-01  0.21818786 0.82886516 \n",
       "pop1565     -4.655346e-01 4.713340e-01 -0.98769582 0.33176044 \n",
       "pop6565     -1.357450e+00 6.349424e-01 -2.13791049 0.04139326 \n",
       "sec65       -1.089278e-02 3.076618e-01 -0.03540506 0.97200796 \n",
       "secm65       3.343664e-03 1.511923e-01  0.02211530 0.98251284 \n",
       "secf65      -2.304329e-03 1.579715e-01 -0.01458699 0.98846512 \n",
       "secc65      -4.915284e-01 7.290408e-01 -0.67421246 0.50570489 \n",
       "seccm65      2.596016e-01 3.556533e-01  0.72992873 0.47149686 \n",
       "seccf65      2.206524e-01 3.733333e-01  0.59103325 0.55923950 \n",
       "syr65       -7.555807e-01 7.976763e+00 -0.09472273 0.92520970 \n",
       "syrm65       3.109007e-01 3.896731e+00  0.07978502 0.93697576 \n",
       "syrf65       7.592811e-01 4.110634e+00  0.18471143 0.85478676 \n",
       "teapri65     3.954523e-05 7.700406e-04  0.05135474 0.95940747 \n",
       "teasec65     2.496674e-04 1.171230e-03  0.21316678 0.83274136 \n",
       "ex1         -5.804081e-01 2.418472e-01 -2.39989593 0.02329485 \n",
       "im1          5.914450e-01 2.502978e-01  2.36296558 0.02530892 \n",
       "xr65        -1.037768e-04 5.416760e-05 -1.91584652 0.06564690 \n",
       "tot1        -1.279011e-01 1.125951e-01 -1.13593842 0.26561200 "
      ]
     },
     "metadata": {},
     "output_type": "display_data"
    }
   ],
   "source": [
    "summary(baseline.ols)$coef"
   ]
  },
  {
   "cell_type": "markdown",
   "id": "a2889bd9",
   "metadata": {},
   "source": [
    "# DML algorithm"
   ]
  },
  {
   "cell_type": "markdown",
   "id": "fd59638a",
   "metadata": {},
   "source": [
    "Here we perform inference of the predictive coefficient $\\beta$ in our partially linear statistical model, \n",
    "\n",
    "$$\n",
    "Y = D\\beta + g(Z) + \\epsilon, \\quad E (\\epsilon | D, Z) = 0,\n",
    "$$\n",
    "\n",
    "using the **double machine learning** approach. \n",
    "\n",
    "For $\\tilde Y = Y- E(Y|Z)$ and $\\tilde D= D- E(D|Z)$, we can write\n",
    "$$\n",
    "\\tilde Y = \\alpha \\tilde D + \\epsilon, \\quad E (\\epsilon |\\tilde D) =0.\n",
    "$$\n",
    "\n",
    "Using cross-fitting, we employ modern regression methods\n",
    "to build estimators $\\hat \\ell(Z)$ and $\\hat m(Z)$ of $\\ell(Z):=E(Y|Z)$ and $m(Z):=E(D|Z)$ to obtain the estimates of the residualized quantities:\n",
    "\n",
    "$$\n",
    "\\tilde Y_i = Y_i  - \\hat \\ell (Z_i),   \\quad \\tilde D_i = D_i - \\hat m(Z_i), \\quad \\text{ for each } i = 1,\\dots,n.\n",
    "$$\n",
    "\n",
    "Finally, using ordinary least squares of $\\tilde Y_i$ on $\\tilde D_i$, we obtain the \n",
    "estimate of $\\beta$."
   ]
  },
  {
   "cell_type": "markdown",
   "id": "a34307c5",
   "metadata": {},
   "source": [
    "The following algorithm comsumes $Y, D, Z$, and a machine learning method for learning the residuals $\\tilde Y$ and $\\tilde D$, where the residuals are obtained by cross-validation (cross-fitting). Then, it prints the estimated coefficient $\\beta$ and the corresponding standard error from the final OLS regression."
   ]
  },
  {
   "cell_type": "markdown",
   "id": "27cd8c09",
   "metadata": {},
   "source": [
    "Warning: This DML´s part is too important, because the cluster argument is not necessary for moddeling the algothrim, so I am going to **drop** it !!!"
   ]
  },
  {
   "cell_type": "code",
   "execution_count": 14,
   "id": "9390e24f",
   "metadata": {},
   "outputs": [],
   "source": [
    "DML2.for.PLM <- function(z, d, y, dreg, yreg,nfold=2) {\n",
    "  nobs <- nrow(z) #number of observations\n",
    "  foldid <- rep.int(1:nfold,times = ceiling(nobs/nfold))[sample.int(nobs)] #define folds indices\n",
    "  I <- split(1:nobs, foldid)  #split observation indices into folds  \n",
    "  ytil <- dtil <- rep(NA, nobs)\n",
    "  cat(\"fold: \")\n",
    "  for(b in 1:length(I)){\n",
    "    dfit <- dreg(z[-I[[b]],], d[-I[[b]]]) #take a fold out\n",
    "    yfit <- yreg(z[-I[[b]],], y[-I[[b]]]) # take a foldt out\n",
    "    dhat <- predict(dfit, z[I[[b]],], type=\"response\") #predict the left-out fold \n",
    "    yhat <- predict(yfit, z[I[[b]],], type=\"response\") #predict the left-out fold  \n",
    "    dtil[I[[b]]] <- (d[I[[b]]] - dhat) #record residual for the left-out fold\n",
    "    ytil[I[[b]]] <- (y[I[[b]]] - yhat) #record residial for the left-out fold\n",
    "    cat(b,\" \")\n",
    "        }\n",
    "  #rfit <- lm(ytil ~ dtil)    #estimate the main parameter by regressing one residual on the other\n",
    "  data <- data.frame(cbind(ytil, dtil))\n",
    "  rfit <- lm(ytil ~ dtil,data=data) \n",
    "  coef.est <- coef(rfit)[2]  #extract coefficient\n",
    "  #HC <- vcovHC(rfit)\n",
    "  se    <- summary(rfit,robust=T)$coefficients[2,2] #record robust standard error by County\n",
    "  cat(sprintf(\"\\ncoef (se) = %g (%g)\\n\", coef.est , se))  #printing output\n",
    "  return( list(coef.est =coef.est , se=se, dtil=dtil, ytil=ytil, rfit=rfit) ) #save output and residuals \n",
    "}"
   ]
  },
  {
   "cell_type": "code",
   "execution_count": 15,
   "id": "d9f2c3ce",
   "metadata": {},
   "outputs": [
    {
     "name": "stderr",
     "output_type": "stream",
     "text": [
      "Loading required package: Matrix\n",
      "Loading required package: foreach\n",
      "Loaded glmnet 2.0-16\n",
      "\n",
      "randomForest 4.6-14\n",
      "Type rfNews() to see new features/changes/bug fixes.\n"
     ]
    }
   ],
   "source": [
    "library(hdm)\n",
    "library(glmnet)\n",
    "library(sandwich)\n",
    "library(randomForest)"
   ]
  },
  {
   "cell_type": "code",
   "execution_count": 17,
   "id": "6b9df8a0",
   "metadata": {},
   "outputs": [
    {
     "data": {
      "text/html": [
       "<table>\n",
       "<thead><tr><th scope=col>Outcome</th><th scope=col>gdpsh465</th><th scope=col>bmp1l</th><th scope=col>freeop</th><th scope=col>freetar</th><th scope=col>h65</th><th scope=col>hm65</th><th scope=col>hf65</th><th scope=col>p65</th><th scope=col>pm65</th><th scope=col>...</th><th scope=col>seccf65</th><th scope=col>syr65</th><th scope=col>syrm65</th><th scope=col>syrf65</th><th scope=col>teapri65</th><th scope=col>teasec65</th><th scope=col>ex1</th><th scope=col>im1</th><th scope=col>xr65</th><th scope=col>tot1</th></tr></thead>\n",
       "<tbody>\n",
       "\t<tr><td>-0.02433575</td><td>6.591674   </td><td>0.2837     </td><td>0.153491   </td><td>0.043888   </td><td>0.007      </td><td>0.013      </td><td>0.001      </td><td>0.29       </td><td>0.37       </td><td>...        </td><td> 0.04      </td><td>0.033      </td><td>0.057      </td><td>0.010      </td><td>47.6       </td><td>17.3       </td><td>0.0729     </td><td>0.0667     </td><td>0.348      </td><td>-0.014727  </td></tr>\n",
       "\t<tr><td> 0.10047257</td><td>6.829794   </td><td>0.6141     </td><td>0.313509   </td><td>0.061827   </td><td>0.019      </td><td>0.032      </td><td>0.007      </td><td>0.91       </td><td>1.00       </td><td>...        </td><td> 0.64      </td><td>0.173      </td><td>0.274      </td><td>0.067      </td><td>57.1       </td><td>18.0       </td><td>0.0940     </td><td>0.1438     </td><td>0.525      </td><td> 0.005750  </td></tr>\n",
       "\t<tr><td> 0.06705148</td><td>8.895082   </td><td>0.0000     </td><td>0.204244   </td><td>0.009186   </td><td>0.260      </td><td>0.325      </td><td>0.201      </td><td>1.00       </td><td>1.00       </td><td>...        </td><td>18.14      </td><td>2.573      </td><td>2.478      </td><td>2.667      </td><td>26.5       </td><td>20.7       </td><td>0.1741     </td><td>0.1750     </td><td>1.082      </td><td>-0.010040  </td></tr>\n",
       "\t<tr><td> 0.06408917</td><td>7.565275   </td><td>0.1997     </td><td>0.248714   </td><td>0.036270   </td><td>0.061      </td><td>0.070      </td><td>0.051      </td><td>1.00       </td><td>1.00       </td><td>...        </td><td> 2.63      </td><td>0.438      </td><td>0.453      </td><td>0.424      </td><td>27.8       </td><td>22.7       </td><td>0.1265     </td><td>0.1496     </td><td>6.625      </td><td>-0.002195  </td></tr>\n",
       "\t<tr><td> 0.02792955</td><td>7.162397   </td><td>0.1740     </td><td>0.299252   </td><td>0.037367   </td><td>0.017      </td><td>0.027      </td><td>0.007      </td><td>0.82       </td><td>0.85       </td><td>...        </td><td> 2.11      </td><td>0.257      </td><td>0.287      </td><td>0.229      </td><td>34.5       </td><td>17.6       </td><td>0.1211     </td><td>0.1308     </td><td>2.500      </td><td> 0.003283  </td></tr>\n",
       "\t<tr><td> 0.04640744</td><td>7.218910   </td><td>0.0000     </td><td>0.258865   </td><td>0.020880   </td><td>0.023      </td><td>0.038      </td><td>0.006      </td><td>0.50       </td><td>0.55       </td><td>...        </td><td> 1.46      </td><td>0.160      </td><td>0.174      </td><td>0.146      </td><td>34.3       </td><td> 8.1       </td><td>0.0634     </td><td>0.0762     </td><td>1.000      </td><td>-0.001747  </td></tr>\n",
       "</tbody>\n",
       "</table>\n"
      ],
      "text/latex": [
       "\\begin{tabular}{r|llllllllllllllllllllllllllllllllllllllllllllllllllllllllllllll}\n",
       " Outcome & gdpsh465 & bmp1l & freeop & freetar & h65 & hm65 & hf65 & p65 & pm65 & ... & seccf65 & syr65 & syrm65 & syrf65 & teapri65 & teasec65 & ex1 & im1 & xr65 & tot1\\\\\n",
       "\\hline\n",
       "\t -0.02433575 & 6.591674    & 0.2837      & 0.153491    & 0.043888    & 0.007       & 0.013       & 0.001       & 0.29        & 0.37        & ...         &  0.04       & 0.033       & 0.057       & 0.010       & 47.6        & 17.3        & 0.0729      & 0.0667      & 0.348       & -0.014727  \\\\\n",
       "\t  0.10047257 & 6.829794    & 0.6141      & 0.313509    & 0.061827    & 0.019       & 0.032       & 0.007       & 0.91        & 1.00        & ...         &  0.64       & 0.173       & 0.274       & 0.067       & 57.1        & 18.0        & 0.0940      & 0.1438      & 0.525       &  0.005750  \\\\\n",
       "\t  0.06705148 & 8.895082    & 0.0000      & 0.204244    & 0.009186    & 0.260       & 0.325       & 0.201       & 1.00        & 1.00        & ...         & 18.14       & 2.573       & 2.478       & 2.667       & 26.5        & 20.7        & 0.1741      & 0.1750      & 1.082       & -0.010040  \\\\\n",
       "\t  0.06408917 & 7.565275    & 0.1997      & 0.248714    & 0.036270    & 0.061       & 0.070       & 0.051       & 1.00        & 1.00        & ...         &  2.63       & 0.438       & 0.453       & 0.424       & 27.8        & 22.7        & 0.1265      & 0.1496      & 6.625       & -0.002195  \\\\\n",
       "\t  0.02792955 & 7.162397    & 0.1740      & 0.299252    & 0.037367    & 0.017       & 0.027       & 0.007       & 0.82        & 0.85        & ...         &  2.11       & 0.257       & 0.287       & 0.229       & 34.5        & 17.6        & 0.1211      & 0.1308      & 2.500       &  0.003283  \\\\\n",
       "\t  0.04640744 & 7.218910    & 0.0000      & 0.258865    & 0.020880    & 0.023       & 0.038       & 0.006       & 0.50        & 0.55        & ...         &  1.46       & 0.160       & 0.174       & 0.146       & 34.3        &  8.1        & 0.0634      & 0.0762      & 1.000       & -0.001747  \\\\\n",
       "\\end{tabular}\n"
      ],
      "text/markdown": [
       "\n",
       "| Outcome | gdpsh465 | bmp1l | freeop | freetar | h65 | hm65 | hf65 | p65 | pm65 | ... | seccf65 | syr65 | syrm65 | syrf65 | teapri65 | teasec65 | ex1 | im1 | xr65 | tot1 |\n",
       "|---|---|---|---|---|---|---|---|---|---|---|---|---|---|---|---|---|---|---|---|---|\n",
       "| -0.02433575 | 6.591674    | 0.2837      | 0.153491    | 0.043888    | 0.007       | 0.013       | 0.001       | 0.29        | 0.37        | ...         |  0.04       | 0.033       | 0.057       | 0.010       | 47.6        | 17.3        | 0.0729      | 0.0667      | 0.348       | -0.014727   |\n",
       "|  0.10047257 | 6.829794    | 0.6141      | 0.313509    | 0.061827    | 0.019       | 0.032       | 0.007       | 0.91        | 1.00        | ...         |  0.64       | 0.173       | 0.274       | 0.067       | 57.1        | 18.0        | 0.0940      | 0.1438      | 0.525       |  0.005750   |\n",
       "|  0.06705148 | 8.895082    | 0.0000      | 0.204244    | 0.009186    | 0.260       | 0.325       | 0.201       | 1.00        | 1.00        | ...         | 18.14       | 2.573       | 2.478       | 2.667       | 26.5        | 20.7        | 0.1741      | 0.1750      | 1.082       | -0.010040   |\n",
       "|  0.06408917 | 7.565275    | 0.1997      | 0.248714    | 0.036270    | 0.061       | 0.070       | 0.051       | 1.00        | 1.00        | ...         |  2.63       | 0.438       | 0.453       | 0.424       | 27.8        | 22.7        | 0.1265      | 0.1496      | 6.625       | -0.002195   |\n",
       "|  0.02792955 | 7.162397    | 0.1740      | 0.299252    | 0.037367    | 0.017       | 0.027       | 0.007       | 0.82        | 0.85        | ...         |  2.11       | 0.257       | 0.287       | 0.229       | 34.5        | 17.6        | 0.1211      | 0.1308      | 2.500       |  0.003283   |\n",
       "|  0.04640744 | 7.218910    | 0.0000      | 0.258865    | 0.020880    | 0.023       | 0.038       | 0.006       | 0.50        | 0.55        | ...         |  1.46       | 0.160       | 0.174       | 0.146       | 34.3        |  8.1        | 0.0634      | 0.0762      | 1.000       | -0.001747   |\n",
       "\n"
      ],
      "text/plain": [
       "  Outcome     gdpsh465 bmp1l  freeop   freetar  h65   hm65  hf65  p65  pm65 ...\n",
       "1 -0.02433575 6.591674 0.2837 0.153491 0.043888 0.007 0.013 0.001 0.29 0.37 ...\n",
       "2  0.10047257 6.829794 0.6141 0.313509 0.061827 0.019 0.032 0.007 0.91 1.00 ...\n",
       "3  0.06705148 8.895082 0.0000 0.204244 0.009186 0.260 0.325 0.201 1.00 1.00 ...\n",
       "4  0.06408917 7.565275 0.1997 0.248714 0.036270 0.061 0.070 0.051 1.00 1.00 ...\n",
       "5  0.02792955 7.162397 0.1740 0.299252 0.037367 0.017 0.027 0.007 0.82 0.85 ...\n",
       "6  0.04640744 7.218910 0.0000 0.258865 0.020880 0.023 0.038 0.006 0.50 0.55 ...\n",
       "  seccf65 syr65 syrm65 syrf65 teapri65 teasec65 ex1    im1    xr65  tot1     \n",
       "1  0.04   0.033 0.057  0.010  47.6     17.3     0.0729 0.0667 0.348 -0.014727\n",
       "2  0.64   0.173 0.274  0.067  57.1     18.0     0.0940 0.1438 0.525  0.005750\n",
       "3 18.14   2.573 2.478  2.667  26.5     20.7     0.1741 0.1750 1.082 -0.010040\n",
       "4  2.63   0.438 0.453  0.424  27.8     22.7     0.1265 0.1496 6.625 -0.002195\n",
       "5  2.11   0.257 0.287  0.229  34.5     17.6     0.1211 0.1308 2.500  0.003283\n",
       "6  1.46   0.160 0.174  0.146  34.3      8.1     0.0634 0.0762 1.000 -0.001747"
      ]
     },
     "metadata": {},
     "output_type": "display_data"
    }
   ],
   "source": [
    "y <- as.matrix(y)\n",
    "d <- as.matrix(d)\n",
    "z <- as.matrix(z)\n",
    "\n",
    "head(data.frame(cbind(y,d,z)))"
   ]
  },
  {
   "cell_type": "code",
   "execution_count": 18,
   "id": "d2f1a573",
   "metadata": {},
   "outputs": [
    {
     "data": {
      "text/html": [
       "<ol class=list-inline>\n",
       "\t<li>90</li>\n",
       "\t<li>1</li>\n",
       "</ol>\n"
      ],
      "text/latex": [
       "\\begin{enumerate*}\n",
       "\\item 90\n",
       "\\item 1\n",
       "\\end{enumerate*}\n"
      ],
      "text/markdown": [
       "1. 90\n",
       "2. 1\n",
       "\n",
       "\n"
      ],
      "text/plain": [
       "[1] 90  1"
      ]
     },
     "metadata": {},
     "output_type": "display_data"
    }
   ],
   "source": [
    "dim(y)"
   ]
  },
  {
   "cell_type": "code",
   "execution_count": 19,
   "id": "c6bf7bb3",
   "metadata": {},
   "outputs": [
    {
     "data": {
      "text/html": [
       "<ol class=list-inline>\n",
       "\t<li>90</li>\n",
       "\t<li>1</li>\n",
       "</ol>\n"
      ],
      "text/latex": [
       "\\begin{enumerate*}\n",
       "\\item 90\n",
       "\\item 1\n",
       "\\end{enumerate*}\n"
      ],
      "text/markdown": [
       "1. 90\n",
       "2. 1\n",
       "\n",
       "\n"
      ],
      "text/plain": [
       "[1] 90  1"
      ]
     },
     "metadata": {},
     "output_type": "display_data"
    }
   ],
   "source": [
    "dim(d)"
   ]
  },
  {
   "cell_type": "code",
   "execution_count": 20,
   "id": "2b53f9aa",
   "metadata": {},
   "outputs": [
    {
     "data": {
      "text/html": [
       "<ol class=list-inline>\n",
       "\t<li>90</li>\n",
       "\t<li>60</li>\n",
       "</ol>\n"
      ],
      "text/latex": [
       "\\begin{enumerate*}\n",
       "\\item 90\n",
       "\\item 60\n",
       "\\end{enumerate*}\n"
      ],
      "text/markdown": [
       "1. 90\n",
       "2. 60\n",
       "\n",
       "\n"
      ],
      "text/plain": [
       "[1] 90 60"
      ]
     },
     "metadata": {},
     "output_type": "display_data"
    }
   ],
   "source": [
    "dim(z)"
   ]
  },
  {
   "cell_type": "markdown",
   "id": "94fb7eb8",
   "metadata": {},
   "source": [
    "# DML using Lasso to predict y an d."
   ]
  },
  {
   "cell_type": "code",
   "execution_count": 21,
   "id": "134ab186",
   "metadata": {},
   "outputs": [],
   "source": [
    "#DML with Lasso:\n",
    "set.seed(123)\n",
    "dreg <- function(z,d){ rlasso(z,d, post=FALSE) } #ML method= lasso from hdm \n",
    "\n",
    "yreg <- function(z,y){ rlasso(z,y, post=FALSE) } #ML method = lasso from hdm"
   ]
  },
  {
   "cell_type": "code",
   "execution_count": 22,
   "id": "c4db8875",
   "metadata": {},
   "outputs": [
    {
     "name": "stdout",
     "output_type": "stream",
     "text": [
      "fold: 1  2  3  4  5  6  7  8  9  10  \n",
      "coef (se) = -0.0370317 (0.0147678)\n"
     ]
    }
   ],
   "source": [
    "DML2.lasso = DML2.for.PLM(z, d, y, dreg,yreg,nfold=10)"
   ]
  },
  {
   "cell_type": "markdown",
   "id": "c5028d19",
   "metadata": {},
   "source": [
    "# DML using Post-Lasso to predict y an d"
   ]
  },
  {
   "cell_type": "code",
   "execution_count": 23,
   "id": "0c2bbcd2",
   "metadata": {},
   "outputs": [
    {
     "name": "stdout",
     "output_type": "stream",
     "text": [
      "fold: 1  2  3  4  5  6  7  8  9  10  \n",
      "coef (se) = -0.0368285 (0.0130791)\n"
     ]
    }
   ],
   "source": [
    "#DML with Post-Lasso:\n",
    "dreg <- function(z,d){ rlasso(z,d, post=T) } #ML method= lasso from hdm \n",
    "yreg <- function(z,y){ rlasso(z,y, post=T) } #ML method = lasso from hdm\n",
    "DML2.post = DML2.for.PLM(z, d, y, dreg, yreg, nfold=10)"
   ]
  },
  {
   "cell_type": "markdown",
   "id": "e4bc0c0f",
   "metadata": {},
   "source": [
    "# Optional:"
   ]
  },
  {
   "cell_type": "code",
   "execution_count": 24,
   "id": "f89f4434",
   "metadata": {
    "scrolled": false
   },
   "outputs": [
    {
     "name": "stdout",
     "output_type": "stream",
     "text": [
      "fold: 1  2  3  4  5  \n",
      "coef (se) = -0.0404043 (0.0137764)\n"
     ]
    }
   ],
   "source": [
    "#DML with cross-validated Lasso:\n",
    "dreg <- function(z,d){ cv.glmnet(z,d,family=\"gaussian\", alpha=1) } #ML method = lasso from glmnet \n",
    "yreg <- function(z,y){ cv.glmnet(z,y,family=\"gaussian\", alpha=1) }  #ML method = lasso from glmnet \n",
    "DML2.lasso.cv = DML2.for.PLM(z, d, y, dreg, yreg, nfold=5)\n"
   ]
  },
  {
   "cell_type": "markdown",
   "id": "968fec15",
   "metadata": {},
   "source": [
    "# DML using Elastic Net to predict y an d"
   ]
  },
  {
   "cell_type": "code",
   "execution_count": 25,
   "id": "b6f27440",
   "metadata": {},
   "outputs": [
    {
     "name": "stdout",
     "output_type": "stream",
     "text": [
      "fold: 1  2  3  4  5  \n",
      "coef (se) = -0.037759 (0.0147713)\n"
     ]
    }
   ],
   "source": [
    "dreg <- function(z,d){ cv.glmnet(z,d,family=\"gaussian\", alpha=0.5) } #ML method = elastic net from glmnet \n",
    "yreg <- function(z,y){ cv.glmnet(z,y,family=\"gaussian\", alpha=0.5) }  #ML method = elastic net from glmnet \n",
    "DML2.elnet = DML2.for.PLM(z, d, y, dreg, yreg, nfold=5)"
   ]
  },
  {
   "cell_type": "markdown",
   "id": "41bec02f",
   "metadata": {},
   "source": [
    "# DML using Ridge to predict y an d."
   ]
  },
  {
   "cell_type": "code",
   "execution_count": 26,
   "id": "c100258f",
   "metadata": {},
   "outputs": [
    {
     "name": "stdout",
     "output_type": "stream",
     "text": [
      "fold: 1  2  3  4  5  \n",
      "coef (se) = -0.0377865 (0.0139965)\n"
     ]
    }
   ],
   "source": [
    "dreg <- function(z,d){ cv.glmnet(z,d,family=\"gaussian\", alpha=0) } #ML method = ridge from glmnet \n",
    "yreg <- function(z,y){ cv.glmnet(z,y,family=\"gaussian\", alpha=0) }  #ML method = ridge from glmnet \n",
    "DML2.ridge = DML2.for.PLM(z, d, y, dreg, yreg, nfold=5)"
   ]
  },
  {
   "cell_type": "markdown",
   "id": "4dcd1fca",
   "metadata": {},
   "source": [
    "# Optional: Here we also compute DML with OLS used as the ML method"
   ]
  },
  {
   "cell_type": "code",
   "execution_count": 27,
   "id": "531a12f3",
   "metadata": {},
   "outputs": [
    {
     "name": "stdout",
     "output_type": "stream",
     "text": [
      "fold: 1  2  3  4  5  6  7  8  9  10  \n",
      "coef (se) = 0.0242785 (0.0135431)\n"
     ]
    }
   ],
   "source": [
    "reg <- function(z,d){  glmnet(z,d,family=\"gaussian\", lambda=0) } #ML method = ols from glmnet \n",
    "yreg <- function(z,y){  glmnet(z,y,family=\"gaussian\", lambda=0) }  #ML method = ols from glmnet \n",
    "DML2.ols = DML2.for.PLM(z, d, y, dreg, yreg, nfold=10)"
   ]
  },
  {
   "cell_type": "markdown",
   "id": "2eb28fad",
   "metadata": {},
   "source": [
    "# DML using Random Forest to predict y an d.\n"
   ]
  },
  {
   "cell_type": "code",
   "execution_count": 28,
   "id": "b30773e4",
   "metadata": {},
   "outputs": [
    {
     "name": "stdout",
     "output_type": "stream",
     "text": [
      "fold: 1  2  \n",
      "coef (se) = -0.0290514 (0.0115981)\n"
     ]
    }
   ],
   "source": [
    "#DML with Random Forest:\n",
    "dreg <- function(z,d){ randomForest(z, d) } #ML method=Forest \n",
    "yreg <- function(z,y){ randomForest(z, y) } #ML method=Forest\n",
    "set.seed(1)\n",
    "DML2.RF = DML2.for.PLM(z, d, y, dreg, yreg, nfold=2) # set to 2 due to computation time"
   ]
  },
  {
   "cell_type": "markdown",
   "id": "36c34a53",
   "metadata": {},
   "source": [
    "# Run the best method i.e. the best combination of methods to predict y an d."
   ]
  },
  {
   "cell_type": "code",
   "execution_count": 29,
   "id": "dca22bb3",
   "metadata": {},
   "outputs": [
    {
     "name": "stdout",
     "output_type": "stream",
     "text": [
      "               OLS       Lasso  Post-Lasso    CV Lasso   CV Ridge    CV Elnet\n",
      "RMSE D 2.96704e-05 0.000831523 0.000333837 3.73815e-18 0.00036176 3.81930e-18\n",
      "RMSE Y 1.25074e-03 0.012439826 0.000541272 4.16895e-03 0.02094855 1.14092e-02\n",
      "                RF\n",
      "RMSE D 0.000844267\n",
      "RMSE Y 0.029621814\n"
     ]
    }
   ],
   "source": [
    "mods<- list(DML2.ols, DML2.lasso, DML2.post, DML2.lasso.cv, DML2.ridge, DML2.elnet, DML2.RF)\n",
    "\n",
    "RMSE.mdl<- function(mdl) {\n",
    "RMSEY <- sqrt(mean(mdl$ytil)^2) \n",
    "RMSED <- sqrt(mean(mdl$dtil)^2) \n",
    "return( list(RMSEY=RMSEY, RMSED=RMSED))\n",
    "}\n",
    "\n",
    "#RMSE.mdl(DML2.lasso)\n",
    "\n",
    "#DML2.lasso$ytil\n",
    "\n",
    "Res<- lapply(mods, RMSE.mdl)\n",
    "\n",
    "\n",
    "prRes.Y<- c( Res[[1]]$RMSEY,Res[[2]]$RMSEY, Res[[3]]$RMSEY, Res[[4]]$RMSEY, Res[[5]]$RMSEY,  Res[[6]]$RMSEY, Res[[7]]$RMSEY)\n",
    "prRes.D<- c( Res[[1]]$RMSED,Res[[2]]$RMSED, Res[[3]]$RMSED, Res[[4]]$RMSED, Res[[5]]$RMSED, Res[[6]]$RMSED, Res[[7]]$RMSED)\n",
    "\n",
    "prRes<- rbind(prRes.Y, prRes.D); \n",
    "rownames(prRes)<- c(\"RMSE D\", \"RMSE Y\");\n",
    "colnames(prRes)<- c(\"OLS\", \"Lasso\", \"Post-Lasso\", \"CV Lasso\", \"CV Ridge\", \"CV Elnet\", \"RF\")\n",
    "print(prRes,digit=6)"
   ]
  },
  {
   "cell_type": "code",
   "execution_count": 30,
   "id": "cff1348d",
   "metadata": {},
   "outputs": [
    {
     "name": "stdout",
     "output_type": "stream",
     "text": [
      "fold: 1  2  3  4  5  6  7  8  9  10  \n",
      "coef (se) = -0.0341125 (0.0140251)\n"
     ]
    }
   ],
   "source": [
    "dreg <- function(z,d){ rlasso(z,d, post=T) } #ML method= lasso from hdm \n",
    "yreg <- function(z,y){ cv.glmnet(z,y,family=\"gaussian\", alpha=0) }  #ML method = ridge from glmnet \n",
    "DML2.best= DML2.for.PLM(z, d, y, dreg, yreg, nfold=10)"
   ]
  },
  {
   "cell_type": "markdown",
   "id": "5f87f4c6",
   "metadata": {},
   "source": [
    "# The results"
   ]
  },
  {
   "cell_type": "code",
   "execution_count": 31,
   "id": "8abf8366",
   "metadata": {},
   "outputs": [
    {
     "data": {
      "text/html": [
       "<table>\n",
       "<thead><tr><th></th><th scope=col>Estimate</th><th scope=col>Standard Error</th></tr></thead>\n",
       "<tbody>\n",
       "\t<tr><th scope=row>Baseline OLS</th><td> 0.001316713</td><td>0.00610220  </td></tr>\n",
       "\t<tr><th scope=row>Least Squares with controls</th><td>-0.009377989</td><td>0.02988773  </td></tr>\n",
       "\t<tr><th scope=row>Lasso</th><td>-0.037031673</td><td>0.01476785  </td></tr>\n",
       "\t<tr><th scope=row>Post-Lasso</th><td>-0.036828539</td><td>0.01307913  </td></tr>\n",
       "\t<tr><th scope=row>CV Lasso</th><td>-0.040404330</td><td>0.01377641  </td></tr>\n",
       "\t<tr><th scope=row>CV Elnet</th><td>-0.037759028</td><td>0.01477132  </td></tr>\n",
       "\t<tr><th scope=row>CV Ridge</th><td>-0.037786498</td><td>0.01399646  </td></tr>\n",
       "\t<tr><th scope=row>Random Forest</th><td>-0.029051448</td><td>0.01159808  </td></tr>\n",
       "\t<tr><th scope=row>Best</th><td>-0.034112491</td><td>0.01402506  </td></tr>\n",
       "</tbody>\n",
       "</table>\n"
      ],
      "text/latex": [
       "\\begin{tabular}{r|ll}\n",
       "  & Estimate & Standard Error\\\\\n",
       "\\hline\n",
       "\tBaseline OLS &  0.001316713 & 0.00610220  \\\\\n",
       "\tLeast Squares with controls & -0.009377989 & 0.02988773  \\\\\n",
       "\tLasso & -0.037031673 & 0.01476785  \\\\\n",
       "\tPost-Lasso & -0.036828539 & 0.01307913  \\\\\n",
       "\tCV Lasso & -0.040404330 & 0.01377641  \\\\\n",
       "\tCV Elnet & -0.037759028 & 0.01477132  \\\\\n",
       "\tCV Ridge & -0.037786498 & 0.01399646  \\\\\n",
       "\tRandom Forest & -0.029051448 & 0.01159808  \\\\\n",
       "\tBest & -0.034112491 & 0.01402506  \\\\\n",
       "\\end{tabular}\n"
      ],
      "text/markdown": [
       "\n",
       "| <!--/--> | Estimate | Standard Error |\n",
       "|---|---|---|\n",
       "| Baseline OLS |  0.001316713 | 0.00610220   |\n",
       "| Least Squares with controls | -0.009377989 | 0.02988773   |\n",
       "| Lasso | -0.037031673 | 0.01476785   |\n",
       "| Post-Lasso | -0.036828539 | 0.01307913   |\n",
       "| CV Lasso | -0.040404330 | 0.01377641   |\n",
       "| CV Elnet | -0.037759028 | 0.01477132   |\n",
       "| CV Ridge | -0.037786498 | 0.01399646   |\n",
       "| Random Forest | -0.029051448 | 0.01159808   |\n",
       "| Best | -0.034112491 | 0.01402506   |\n",
       "\n"
      ],
      "text/plain": [
       "                            Estimate     Standard Error\n",
       "Baseline OLS                 0.001316713 0.00610220    \n",
       "Least Squares with controls -0.009377989 0.02988773    \n",
       "Lasso                       -0.037031673 0.01476785    \n",
       "Post-Lasso                  -0.036828539 0.01307913    \n",
       "CV Lasso                    -0.040404330 0.01377641    \n",
       "CV Elnet                    -0.037759028 0.01477132    \n",
       "CV Ridge                    -0.037786498 0.01399646    \n",
       "Random Forest               -0.029051448 0.01159808    \n",
       "Best                        -0.034112491 0.01402506    "
      ]
     },
     "metadata": {},
     "output_type": "display_data"
    }
   ],
   "source": [
    "library(xtable)\n",
    "\n",
    "table <- matrix(0,9,2)\n",
    "table[1,1] <- as.numeric(est_baseline[1])\n",
    "table[2,1] <- as.numeric(est_ols[1])\n",
    "table[3,1]   <- as.numeric(DML2.lasso$coef.est)\n",
    "table[4,1]   <- as.numeric(DML2.post$coef.est)\n",
    "table[5,1]  <-as.numeric(DML2.lasso.cv$coef.est)\n",
    "table[6,1] <-as.numeric(DML2.elnet$coef.est)\n",
    "table[7,1] <-as.numeric(DML2.ridge$coef.est)\n",
    "table[8,1] <-as.numeric(DML2.RF$coef.est)\n",
    "table[9,1] <-as.numeric(DML2.best$coef.est)\n",
    "table[1,2] <- as.numeric(est_baseline[2])\n",
    "table[2,2] <- as.numeric(est_ols[2])\n",
    "table[3,2]   <- as.numeric(DML2.lasso$se)\n",
    "table[4,2]   <- as.numeric(DML2.post$se)\n",
    "table[5,2]  <-as.numeric(DML2.lasso.cv$se)\n",
    "table[6,2] <-as.numeric(DML2.elnet$se)\n",
    "table[7,2] <-as.numeric(DML2.ridge$se)\n",
    "table[8,2] <-as.numeric(DML2.RF$se)\n",
    "table[9,2] <-as.numeric(DML2.best$se)\n",
    "\n",
    "\n",
    "\n",
    "\n",
    "################################# Print Results #################################\n",
    "\n",
    "colnames(table) <- c(\"Estimate\",\"Standard Error\")\n",
    "rownames(table) <- c(\"Baseline OLS\", \"Least Squares with controls\", \"Lasso\", \"Post-Lasso\", \"CV Lasso\",\"CV Elnet\", \"CV Ridge\", \"Random Forest\", \n",
    "                     \"Best\")\n",
    "\n",
    "table"
   ]
  },
  {
   "cell_type": "code",
   "execution_count": null,
   "id": "ec2000fe",
   "metadata": {},
   "outputs": [],
   "source": []
  },
  {
   "cell_type": "code",
   "execution_count": null,
   "id": "6d9f5cc1",
   "metadata": {},
   "outputs": [],
   "source": []
  }
 ],
 "metadata": {
  "kernelspec": {
   "display_name": "R",
   "language": "R",
   "name": "ir"
  },
  "language_info": {
   "codemirror_mode": "r",
   "file_extension": ".r",
   "mimetype": "text/x-r-source",
   "name": "R",
   "pygments_lexer": "r",
   "version": "3.6.1"
  }
 },
 "nbformat": 4,
 "nbformat_minor": 5
}
